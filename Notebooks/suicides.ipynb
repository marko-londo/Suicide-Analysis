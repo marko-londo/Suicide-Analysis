{
 "cells": [
  {
   "cell_type": "code",
   "execution_count": 44,
   "metadata": {},
   "outputs": [],
   "source": [
    "from pathlib import Path\n",
    "import pandas as pd\n",
    "from sklearn.linear_model import LinearRegression\n",
    "import hvplot.pandas\n",
    "from bokeh.sampledata.unemployment1948 import data as unemployment_df\n",
    "from bokeh.sampledata.us_marriages_divorces import data as divorces_df\n",
    "from bokeh.plotting import figure, show\n",
    "from bokeh.transform import linear_cmap\n",
    "from bokeh.util.hex import hexbin\n",
    "import plotly.express as px"
   ]
  },
  {
   "cell_type": "code",
   "execution_count": 45,
   "metadata": {},
   "outputs": [],
   "source": [
    "us_suicides_total = pd.read_csv(r\"../Resources/Clean/us_suicides_1985-2021.csv\")\n",
    "russia_suicides_total = pd.read_csv(r\"../Resources/Clean/russia_suicides_1985-2016.csv\")\n",
    "japan_suicides_total = pd.read_csv(r\"../Resources/Clean/japan_suicides_1985-2016.csv\")\n",
    "canada_suicides_total = pd.read_csv(r\"../Resources/Clean/canada_suicides_1985-2016.csv\")\n",
    "germany_suicides_total = pd.read_csv(\n",
    "    r\"../Resources/Clean/germany_suicides_1985-2016.csv\"\n",
    ")\n",
    "untreated_mental_illness = pd.read_csv(\n",
    "    r\"../Resources/Clean/untreated_mental_illness_total_2018-2019.csv\"\n",
    ").assign(Year=\"2018-2019\")\n",
    "metrics_988 = pd.read_csv(r\"../Resources/Clean/988_performance_metrics.csv\")\n",
    "us_suicide_rates = pd.read_csv(r\"../Resources/Clean/us_suicide_rates_1985-2016.csv\")\n",
    "russia_suicide_rates = pd.read_csv(\n",
    "    r\"../Resources/Clean/russia_suicide_rates_1985-2016.csv\"\n",
    ")\n",
    "paraguay_suicide_rates = pd.read_csv(\n",
    "    r\"../Resources\\Clean\\paraguay_suicide_rates_1985-2016.csv\"\n",
    ")\n",
    "us_suicide_rates_99_16 = pd.read_csv(\n",
    "    r\"../Resources/Clean/us_suicide_rates_1999-2016.csv\"\n",
    ")\n",
    "us_suicides_master = pd.read_csv(\n",
    "    r\"../Resources/Clean/us_suicides_1985-2016(master).csv\"\n",
    ")\n",
    "states_suicides = pd.read_csv(r\"../Resources/Originals/state_suicides_2005-2021.csv\")"
   ]
  },
  {
   "cell_type": "code",
   "execution_count": 46,
   "metadata": {},
   "outputs": [],
   "source": [
    "untreated_mental_illness.set_index(\"Year\", inplace=True)"
   ]
  },
  {
   "cell_type": "code",
   "execution_count": 47,
   "metadata": {},
   "outputs": [
    {
     "data": {},
     "metadata": {},
     "output_type": "display_data"
    },
    {
     "data": {
      "application/vnd.holoviews_exec.v0+json": "",
      "text/html": [
       "<div id='4144'>\n",
       "  <div class=\"bk-root\" id=\"8d77935f-ef5d-4903-b1f6-fec37d923ed6\" data-root-id=\"4144\"></div>\n",
       "</div>\n",
       "<script type=\"application/javascript\">(function(root) {\n",
       "  function embed_document(root) {\n",
       "    var docs_json = {\"89bec24d-a921-4b0c-b9da-c984aca1dca3\":{\"defs\":[{\"extends\":null,\"module\":null,\"name\":\"ReactiveHTML1\",\"overrides\":[],\"properties\":[]},{\"extends\":null,\"module\":null,\"name\":\"FlexBox1\",\"overrides\":[],\"properties\":[{\"default\":\"flex-start\",\"kind\":null,\"name\":\"align_content\"},{\"default\":\"flex-start\",\"kind\":null,\"name\":\"align_items\"},{\"default\":\"row\",\"kind\":null,\"name\":\"flex_direction\"},{\"default\":\"wrap\",\"kind\":null,\"name\":\"flex_wrap\"},{\"default\":\"flex-start\",\"kind\":null,\"name\":\"justify_content\"}]},{\"extends\":null,\"module\":null,\"name\":\"GridStack1\",\"overrides\":[],\"properties\":[{\"default\":\"warn\",\"kind\":null,\"name\":\"mode\"},{\"default\":null,\"kind\":null,\"name\":\"ncols\"},{\"default\":null,\"kind\":null,\"name\":\"nrows\"},{\"default\":true,\"kind\":null,\"name\":\"allow_resize\"},{\"default\":true,\"kind\":null,\"name\":\"allow_drag\"},{\"default\":[],\"kind\":null,\"name\":\"state\"}]},{\"extends\":null,\"module\":null,\"name\":\"click1\",\"overrides\":[],\"properties\":[{\"default\":\"\",\"kind\":null,\"name\":\"terminal_output\"},{\"default\":\"\",\"kind\":null,\"name\":\"debug_name\"},{\"default\":0,\"kind\":null,\"name\":\"clears\"}]},{\"extends\":null,\"module\":null,\"name\":\"NotificationAreaBase1\",\"overrides\":[],\"properties\":[{\"default\":\"bottom-right\",\"kind\":null,\"name\":\"position\"},{\"default\":0,\"kind\":null,\"name\":\"_clear\"}]},{\"extends\":null,\"module\":null,\"name\":\"NotificationArea1\",\"overrides\":[],\"properties\":[{\"default\":[],\"kind\":null,\"name\":\"notifications\"},{\"default\":\"bottom-right\",\"kind\":null,\"name\":\"position\"},{\"default\":0,\"kind\":null,\"name\":\"_clear\"},{\"default\":[{\"background\":\"#ffc107\",\"icon\":{\"className\":\"fas fa-exclamation-triangle\",\"color\":\"white\",\"tagName\":\"i\"},\"type\":\"warning\"},{\"background\":\"#007bff\",\"icon\":{\"className\":\"fas fa-info-circle\",\"color\":\"white\",\"tagName\":\"i\"},\"type\":\"info\"}],\"kind\":null,\"name\":\"types\"}]},{\"extends\":null,\"module\":null,\"name\":\"Notification\",\"overrides\":[],\"properties\":[{\"default\":null,\"kind\":null,\"name\":\"background\"},{\"default\":3000,\"kind\":null,\"name\":\"duration\"},{\"default\":null,\"kind\":null,\"name\":\"icon\"},{\"default\":\"\",\"kind\":null,\"name\":\"message\"},{\"default\":null,\"kind\":null,\"name\":\"notification_type\"},{\"default\":false,\"kind\":null,\"name\":\"_destroyed\"}]},{\"extends\":null,\"module\":null,\"name\":\"TemplateActions1\",\"overrides\":[],\"properties\":[{\"default\":0,\"kind\":null,\"name\":\"open_modal\"},{\"default\":0,\"kind\":null,\"name\":\"close_modal\"}]},{\"extends\":null,\"module\":null,\"name\":\"MaterialTemplateActions1\",\"overrides\":[],\"properties\":[{\"default\":0,\"kind\":null,\"name\":\"open_modal\"},{\"default\":0,\"kind\":null,\"name\":\"close_modal\"}]}],\"roots\":{\"references\":[{\"attributes\":{\"children\":[{\"id\":\"4145\"},{\"id\":\"4149\"},{\"id\":\"4204\"}],\"margin\":[0,0,0,0],\"name\":\"Row05437\",\"tags\":[\"embedded\"]},\"id\":\"4144\",\"type\":\"Row\"},{\"attributes\":{\"coordinates\":null,\"data_source\":{\"id\":\"4179\"},\"glyph\":{\"id\":\"4182\"},\"group\":null,\"hover_glyph\":null,\"muted_glyph\":{\"id\":\"4184\"},\"nonselection_glyph\":{\"id\":\"4183\"},\"selection_glyph\":{\"id\":\"4187\"},\"view\":{\"id\":\"4186\"}},\"id\":\"4185\",\"type\":\"GlyphRenderer\"},{\"attributes\":{\"axis\":{\"id\":\"4158\"},\"coordinates\":null,\"grid_line_color\":null,\"group\":null,\"ticker\":null},\"id\":\"4160\",\"type\":\"Grid\"},{\"attributes\":{\"coordinates\":null,\"group\":null,\"text_color\":\"black\",\"text_font_size\":\"12pt\"},\"id\":\"4150\",\"type\":\"Title\"},{\"attributes\":{\"overlay\":{\"id\":\"4170\"}},\"id\":\"4168\",\"type\":\"BoxZoomTool\"},{\"attributes\":{\"axis_label\":\"Year, Variable\",\"coordinates\":null,\"formatter\":{\"id\":\"4189\"},\"group\":null,\"major_label_policy\":{\"id\":\"4190\"},\"ticker\":{\"id\":\"4159\"}},\"id\":\"4158\",\"type\":\"CategoricalAxis\"},{\"attributes\":{\"fill_color\":{\"field\":\"Variable\",\"transform\":{\"id\":\"4178\"}},\"hatch_color\":{\"field\":\"Variable\",\"transform\":{\"id\":\"4178\"}},\"top\":{\"field\":\"value\"},\"width\":{\"value\":0.8},\"x\":{\"field\":\"xoffsets\"}},\"id\":\"4182\",\"type\":\"VBar\"},{\"attributes\":{\"factors\":[\"Mild\",\"Moderate\",\"Serious\"],\"palette\":[\"#30a2da\",\"#fc4f30\",\"#e5ae38\"]},\"id\":\"4178\",\"type\":\"CategoricalColorMapper\"},{\"attributes\":{\"end\":100,\"reset_end\":100,\"reset_start\":0,\"tags\":[[[\"value\",\"value\",null]]]},\"id\":\"4147\",\"type\":\"Range1d\"},{\"attributes\":{\"source\":{\"id\":\"4179\"}},\"id\":\"4186\",\"type\":\"CDSView\"},{\"attributes\":{},\"id\":\"4156\",\"type\":\"LinearScale\"},{\"attributes\":{},\"id\":\"4162\",\"type\":\"BasicTicker\"},{\"attributes\":{},\"id\":\"4201\",\"type\":\"UnionRenderers\"},{\"attributes\":{\"margin\":[5,5,5,5],\"name\":\"HSpacer05442\",\"sizing_mode\":\"stretch_width\"},\"id\":\"4204\",\"type\":\"Spacer\"},{\"attributes\":{},\"id\":\"4159\",\"type\":\"CategoricalTicker\"},{\"attributes\":{\"factors\":[[\"2018-2019\",\"Mild\"],[\"2018-2019\",\"Moderate\"],[\"2018-2019\",\"Serious\"]],\"tags\":[[[\"Year\",\"Year\",null],[\"Variable\",\"Variable\",null]]]},\"id\":\"4146\",\"type\":\"FactorRange\"},{\"attributes\":{\"axis_label\":\"\",\"coordinates\":null,\"formatter\":{\"id\":\"4192\"},\"group\":null,\"major_label_policy\":{\"id\":\"4193\"},\"ticker\":{\"id\":\"4162\"}},\"id\":\"4161\",\"type\":\"LinearAxis\"},{\"attributes\":{\"margin\":[5,5,5,5],\"name\":\"HSpacer05441\",\"sizing_mode\":\"stretch_width\"},\"id\":\"4145\",\"type\":\"Spacer\"},{\"attributes\":{\"fill_alpha\":{\"value\":0.1},\"fill_color\":{\"field\":\"Variable\",\"transform\":{\"id\":\"4178\"}},\"hatch_alpha\":{\"value\":0.1},\"hatch_color\":{\"field\":\"Variable\",\"transform\":{\"id\":\"4178\"}},\"line_alpha\":{\"value\":0.1},\"top\":{\"field\":\"value\"},\"width\":{\"value\":0.8},\"x\":{\"field\":\"xoffsets\"}},\"id\":\"4183\",\"type\":\"VBar\"},{\"attributes\":{\"axis\":{\"id\":\"4161\"},\"coordinates\":null,\"dimension\":1,\"grid_line_color\":null,\"group\":null,\"ticker\":null},\"id\":\"4164\",\"type\":\"Grid\"},{\"attributes\":{},\"id\":\"4193\",\"type\":\"AllLabels\"},{\"attributes\":{\"fill_alpha\":{\"value\":0.2},\"fill_color\":{\"field\":\"Variable\",\"transform\":{\"id\":\"4178\"}},\"hatch_alpha\":{\"value\":0.2},\"hatch_color\":{\"field\":\"Variable\",\"transform\":{\"id\":\"4178\"}},\"line_alpha\":{\"value\":0.2},\"top\":{\"field\":\"value\"},\"width\":{\"value\":0.8},\"x\":{\"field\":\"xoffsets\"}},\"id\":\"4184\",\"type\":\"VBar\"},{\"attributes\":{\"callback\":null,\"renderers\":[{\"id\":\"4185\"}],\"tags\":[\"hv_created\"],\"tooltips\":[[\"Year\",\"@{Year}\"],[\"Variable\",\"@{Variable}\"],[\"value\",\"@{value}\"]]},\"id\":\"4148\",\"type\":\"HoverTool\"},{\"attributes\":{\"below\":[{\"id\":\"4158\"}],\"center\":[{\"id\":\"4160\"},{\"id\":\"4164\"}],\"height\":300,\"left\":[{\"id\":\"4161\"}],\"margin\":[5,5,5,5],\"min_border_bottom\":10,\"min_border_left\":10,\"min_border_right\":10,\"min_border_top\":10,\"renderers\":[{\"id\":\"4185\"}],\"sizing_mode\":\"fixed\",\"title\":{\"id\":\"4150\"},\"toolbar\":{\"id\":\"4171\"},\"width\":700,\"x_range\":{\"id\":\"4146\"},\"x_scale\":{\"id\":\"4154\"},\"y_range\":{\"id\":\"4147\"},\"y_scale\":{\"id\":\"4156\"}},\"id\":\"4149\",\"subtype\":\"Figure\",\"type\":\"Plot\"},{\"attributes\":{\"bottom\":{\"value\":0},\"fill_alpha\":{\"value\":1.0},\"fill_color\":{\"field\":\"Variable\",\"transform\":{\"id\":\"4178\"}},\"hatch_alpha\":{\"value\":1.0},\"hatch_color\":{\"field\":\"Variable\",\"transform\":{\"id\":\"4178\"}},\"hatch_scale\":{\"value\":12.0},\"hatch_weight\":{\"value\":1.0},\"line_alpha\":{\"value\":1.0},\"line_cap\":{\"value\":\"butt\"},\"line_color\":{\"value\":\"black\"},\"line_dash\":{\"value\":[]},\"line_dash_offset\":{\"value\":0},\"line_join\":{\"value\":\"bevel\"},\"line_width\":{\"value\":1},\"top\":{\"field\":\"value\"},\"width\":{\"value\":0.8},\"x\":{\"field\":\"xoffsets\"}},\"id\":\"4187\",\"type\":\"VBar\"},{\"attributes\":{\"data\":{\"Variable\":[\"Mild\",\"Moderate\",\"Serious\"],\"Year\":[\"2018-2019\",\"2018-2019\",\"2018-2019\"],\"value\":{\"__ndarray__\":\"mpmZmZn5UEAAAAAAAMBKQAAAAAAAgEFA\",\"dtype\":\"float64\",\"order\":\"little\",\"shape\":[3]},\"xoffsets\":[[\"2018-2019\",\"Mild\"],[\"2018-2019\",\"Moderate\"],[\"2018-2019\",\"Serious\"]]},\"selected\":{\"id\":\"4180\"},\"selection_policy\":{\"id\":\"4201\"}},\"id\":\"4179\",\"type\":\"ColumnDataSource\"},{\"attributes\":{},\"id\":\"4189\",\"type\":\"CategoricalTickFormatter\"},{\"attributes\":{\"tools\":[{\"id\":\"4148\"},{\"id\":\"4165\"},{\"id\":\"4166\"},{\"id\":\"4167\"},{\"id\":\"4168\"},{\"id\":\"4169\"}]},\"id\":\"4171\",\"type\":\"Toolbar\"},{\"attributes\":{\"bottom_units\":\"screen\",\"coordinates\":null,\"fill_alpha\":0.5,\"fill_color\":\"lightgrey\",\"group\":null,\"left_units\":\"screen\",\"level\":\"overlay\",\"line_alpha\":1.0,\"line_color\":\"black\",\"line_dash\":[4,4],\"line_width\":2,\"right_units\":\"screen\",\"syncable\":false,\"top_units\":\"screen\"},\"id\":\"4170\",\"type\":\"BoxAnnotation\"},{\"attributes\":{},\"id\":\"4165\",\"type\":\"SaveTool\"},{\"attributes\":{},\"id\":\"4166\",\"type\":\"PanTool\"},{\"attributes\":{},\"id\":\"4190\",\"type\":\"AllLabels\"},{\"attributes\":{},\"id\":\"4169\",\"type\":\"ResetTool\"},{\"attributes\":{},\"id\":\"4167\",\"type\":\"WheelZoomTool\"},{\"attributes\":{},\"id\":\"4180\",\"type\":\"Selection\"},{\"attributes\":{},\"id\":\"4154\",\"type\":\"CategoricalScale\"},{\"attributes\":{},\"id\":\"4192\",\"type\":\"BasicTickFormatter\"}],\"root_ids\":[\"4144\"]},\"title\":\"Bokeh Application\",\"version\":\"2.4.3\"}};\n",
       "    var render_items = [{\"docid\":\"89bec24d-a921-4b0c-b9da-c984aca1dca3\",\"root_ids\":[\"4144\"],\"roots\":{\"4144\":\"8d77935f-ef5d-4903-b1f6-fec37d923ed6\"}}];\n",
       "    root.Bokeh.embed.embed_items_notebook(docs_json, render_items);\n",
       "  }\n",
       "  if (root.Bokeh !== undefined && root.Bokeh.Panel !== undefined) {\n",
       "    embed_document(root);\n",
       "  } else {\n",
       "    var attempts = 0;\n",
       "    var timer = setInterval(function(root) {\n",
       "      if (root.Bokeh !== undefined && root.Bokeh.Panel !== undefined) {\n",
       "        clearInterval(timer);\n",
       "        embed_document(root);\n",
       "      } else if (document.readyState == \"complete\") {\n",
       "        attempts++;\n",
       "        if (attempts > 200) {\n",
       "          clearInterval(timer);\n",
       "          console.log(\"Bokeh: ERROR: Unable to run BokehJS code because BokehJS library is missing\");\n",
       "        }\n",
       "      }\n",
       "    }, 25, root)\n",
       "  }\n",
       "})(window);</script>"
      ],
      "text/plain": [
       ":Bars   [Year,Variable]   (value)"
      ]
     },
     "execution_count": 47,
     "metadata": {
      "application/vnd.holoviews_exec.v0+json": {
       "id": "4144"
      }
     },
     "output_type": "execute_result"
    }
   ],
   "source": [
    "untreated_mental_illness.hvplot.bar(ylim=(0, 100))"
   ]
  },
  {
   "cell_type": "code",
   "execution_count": 48,
   "metadata": {},
   "outputs": [
    {
     "data": {},
     "metadata": {},
     "output_type": "display_data"
    },
    {
     "data": {
      "application/vnd.holoviews_exec.v0+json": "",
      "text/html": [
       "<div id='4256'>\n",
       "  <div class=\"bk-root\" id=\"4c910239-c95e-4536-80be-00e711685e1d\" data-root-id=\"4256\"></div>\n",
       "</div>\n",
       "<script type=\"application/javascript\">(function(root) {\n",
       "  function embed_document(root) {\n",
       "    var docs_json = {\"355c6133-bd41-4317-8cc9-57004223834f\":{\"defs\":[{\"extends\":null,\"module\":null,\"name\":\"ReactiveHTML1\",\"overrides\":[],\"properties\":[]},{\"extends\":null,\"module\":null,\"name\":\"FlexBox1\",\"overrides\":[],\"properties\":[{\"default\":\"flex-start\",\"kind\":null,\"name\":\"align_content\"},{\"default\":\"flex-start\",\"kind\":null,\"name\":\"align_items\"},{\"default\":\"row\",\"kind\":null,\"name\":\"flex_direction\"},{\"default\":\"wrap\",\"kind\":null,\"name\":\"flex_wrap\"},{\"default\":\"flex-start\",\"kind\":null,\"name\":\"justify_content\"}]},{\"extends\":null,\"module\":null,\"name\":\"GridStack1\",\"overrides\":[],\"properties\":[{\"default\":\"warn\",\"kind\":null,\"name\":\"mode\"},{\"default\":null,\"kind\":null,\"name\":\"ncols\"},{\"default\":null,\"kind\":null,\"name\":\"nrows\"},{\"default\":true,\"kind\":null,\"name\":\"allow_resize\"},{\"default\":true,\"kind\":null,\"name\":\"allow_drag\"},{\"default\":[],\"kind\":null,\"name\":\"state\"}]},{\"extends\":null,\"module\":null,\"name\":\"click1\",\"overrides\":[],\"properties\":[{\"default\":\"\",\"kind\":null,\"name\":\"terminal_output\"},{\"default\":\"\",\"kind\":null,\"name\":\"debug_name\"},{\"default\":0,\"kind\":null,\"name\":\"clears\"}]},{\"extends\":null,\"module\":null,\"name\":\"NotificationAreaBase1\",\"overrides\":[],\"properties\":[{\"default\":\"bottom-right\",\"kind\":null,\"name\":\"position\"},{\"default\":0,\"kind\":null,\"name\":\"_clear\"}]},{\"extends\":null,\"module\":null,\"name\":\"NotificationArea1\",\"overrides\":[],\"properties\":[{\"default\":[],\"kind\":null,\"name\":\"notifications\"},{\"default\":\"bottom-right\",\"kind\":null,\"name\":\"position\"},{\"default\":0,\"kind\":null,\"name\":\"_clear\"},{\"default\":[{\"background\":\"#ffc107\",\"icon\":{\"className\":\"fas fa-exclamation-triangle\",\"color\":\"white\",\"tagName\":\"i\"},\"type\":\"warning\"},{\"background\":\"#007bff\",\"icon\":{\"className\":\"fas fa-info-circle\",\"color\":\"white\",\"tagName\":\"i\"},\"type\":\"info\"}],\"kind\":null,\"name\":\"types\"}]},{\"extends\":null,\"module\":null,\"name\":\"Notification\",\"overrides\":[],\"properties\":[{\"default\":null,\"kind\":null,\"name\":\"background\"},{\"default\":3000,\"kind\":null,\"name\":\"duration\"},{\"default\":null,\"kind\":null,\"name\":\"icon\"},{\"default\":\"\",\"kind\":null,\"name\":\"message\"},{\"default\":null,\"kind\":null,\"name\":\"notification_type\"},{\"default\":false,\"kind\":null,\"name\":\"_destroyed\"}]},{\"extends\":null,\"module\":null,\"name\":\"TemplateActions1\",\"overrides\":[],\"properties\":[{\"default\":0,\"kind\":null,\"name\":\"open_modal\"},{\"default\":0,\"kind\":null,\"name\":\"close_modal\"}]},{\"extends\":null,\"module\":null,\"name\":\"MaterialTemplateActions1\",\"overrides\":[],\"properties\":[{\"default\":0,\"kind\":null,\"name\":\"open_modal\"},{\"default\":0,\"kind\":null,\"name\":\"close_modal\"}]}],\"roots\":{\"references\":[{\"attributes\":{\"line_alpha\":0.2,\"line_color\":\"#fc4f30\",\"line_width\":2,\"x\":{\"field\":\"Year\"},\"y\":{\"field\":\"Suicides per 100k\"}},\"id\":\"4323\",\"type\":\"Line\"},{\"attributes\":{\"angle\":{\"value\":0.0},\"fill_alpha\":{\"value\":1.0},\"fill_color\":{\"value\":\"#000000\"},\"hatch_alpha\":{\"value\":1.0},\"hatch_color\":{\"value\":\"#000000\"},\"hatch_scale\":{\"value\":12.0},\"hatch_weight\":{\"value\":1.0},\"line_alpha\":{\"value\":1.0},\"line_cap\":{\"value\":\"butt\"},\"line_color\":{\"value\":\"#000000\"},\"line_dash\":{\"value\":[]},\"line_dash_offset\":{\"value\":0},\"line_join\":{\"value\":\"bevel\"},\"line_width\":{\"value\":1},\"marker\":{\"value\":\"circle\"},\"size\":{\"value\":5.477225575051661},\"x\":{\"field\":\"Year\"},\"y\":{\"field\":\"Suicides per 100k\"}},\"id\":\"4317\",\"type\":\"Scatter\"},{\"attributes\":{},\"id\":\"4283\",\"type\":\"WheelZoomTool\"},{\"attributes\":{},\"id\":\"4296\",\"type\":\"AllLabels\"},{\"attributes\":{\"children\":[{\"id\":\"4257\"},{\"id\":\"4264\"},{\"id\":\"4352\"}],\"margin\":[0,0,0,0],\"name\":\"Row05927\",\"tags\":[\"embedded\"]},\"id\":\"4256\",\"type\":\"Row\"},{\"attributes\":{},\"id\":\"4285\",\"type\":\"ResetTool\"},{\"attributes\":{},\"id\":\"4328\",\"type\":\"Selection\"},{\"attributes\":{\"fill_alpha\":{\"value\":0.2},\"fill_color\":{\"value\":\"#000000\"},\"hatch_alpha\":{\"value\":0.2},\"hatch_color\":{\"value\":\"#000000\"},\"line_alpha\":{\"value\":0.2},\"line_color\":{\"value\":\"#000000\"},\"size\":{\"value\":5.477225575051661},\"x\":{\"field\":\"Year\"},\"y\":{\"field\":\"Suicides per 100k\"}},\"id\":\"4314\",\"type\":\"Scatter\"},{\"attributes\":{\"overlay\":{\"id\":\"4286\"}},\"id\":\"4284\",\"type\":\"BoxZoomTool\"},{\"attributes\":{\"source\":{\"id\":\"4300\"}},\"id\":\"4307\",\"type\":\"CDSView\"},{\"attributes\":{\"data\":{\"Suicides per 100k\":{\"__ndarray__\":\"AAAAAAAAKUAAAAAAAAAqQJqZmZmZmSlAAAAAAAAAKUCamZmZmZkoQAAAAAAAAClAmpmZmZmZKEAzMzMzMzMoQGZmZmZmZihAMzMzMzMzKEAAAAAAAAAoQGZmZmZmZidAzczMzMzMJkCamZmZmZkmQGZmZmZmZiVAzczMzMzMJUCamZmZmZklQM3MzMzMzCVAmpmZmZmZJUDNzMzMzMwlQM3MzMzMzCVAzczMzMzMJUCamZmZmZkmQDMzMzMzMydAmpmZmZmZJ0AzMzMzMzMoQJqZmZmZmShAMzMzMzMzKUAzMzMzMzMpQAAAAAAAACpAmpmZmZmZKkA=\",\"dtype\":\"float64\",\"order\":\"little\",\"shape\":[31]},\"Suicides_per_100k\":{\"__ndarray__\":\"AAAAAAAAKUAAAAAAAAAqQJqZmZmZmSlAAAAAAAAAKUCamZmZmZkoQAAAAAAAAClAmpmZmZmZKEAzMzMzMzMoQGZmZmZmZihAMzMzMzMzKEAAAAAAAAAoQGZmZmZmZidAzczMzMzMJkCamZmZmZkmQGZmZmZmZiVAzczMzMzMJUCamZmZmZklQM3MzMzMzCVAmpmZmZmZJUDNzMzMzMwlQM3MzMzMzCVAzczMzMzMJUCamZmZmZkmQDMzMzMzMydAmpmZmZmZJ0AzMzMzMzMoQJqZmZmZmShAMzMzMzMzKUAzMzMzMzMpQAAAAAAAACpAmpmZmZmZKkA=\",\"dtype\":\"float64\",\"order\":\"little\",\"shape\":[31]},\"Year\":[1985,1986,1987,1988,1989,1990,1991,1992,1993,1994,1995,1996,1997,1998,1999,2000,2001,2002,2003,2004,2005,2006,2007,2008,2009,2010,2011,2012,2013,2014,2015]},\"selected\":{\"id\":\"4319\"},\"selection_policy\":{\"id\":\"4347\"}},\"id\":\"4318\",\"type\":\"ColumnDataSource\"},{\"attributes\":{\"line_color\":\"#fc4f30\",\"line_width\":2,\"x\":{\"field\":\"Year\"},\"y\":{\"field\":\"Suicides per 100k\"}},\"id\":\"4326\",\"type\":\"Line\"},{\"attributes\":{\"line_alpha\":0.1,\"line_color\":\"#fc4f30\",\"line_width\":2,\"x\":{\"field\":\"Year\"},\"y\":{\"field\":\"Suicides per 100k\"}},\"id\":\"4322\",\"type\":\"Line\"},{\"attributes\":{\"line_alpha\":0.2,\"line_color\":\"#30a2da\",\"line_width\":2,\"x\":{\"field\":\"Year\"},\"y\":{\"field\":\"Suicides per 100k\"}},\"id\":\"4305\",\"type\":\"Line\"},{\"attributes\":{\"coordinates\":null,\"data_source\":{\"id\":\"4309\"},\"glyph\":{\"id\":\"4312\"},\"group\":null,\"hover_glyph\":null,\"muted_glyph\":{\"id\":\"4314\"},\"nonselection_glyph\":{\"id\":\"4313\"},\"selection_glyph\":{\"id\":\"4317\"},\"view\":{\"id\":\"4316\"}},\"id\":\"4315\",\"type\":\"GlyphRenderer\"},{\"attributes\":{},\"id\":\"4269\",\"type\":\"LinearScale\"},{\"attributes\":{\"fill_alpha\":{\"value\":0.1},\"fill_color\":{\"value\":\"#000000\"},\"hatch_alpha\":{\"value\":0.1},\"hatch_color\":{\"value\":\"#000000\"},\"line_alpha\":{\"value\":0.1},\"line_color\":{\"value\":\"#000000\"},\"size\":{\"value\":5.477225575051661},\"x\":{\"field\":\"Year\"},\"y\":{\"field\":\"Suicides per 100k\"}},\"id\":\"4313\",\"type\":\"Scatter\"},{\"attributes\":{\"fill_alpha\":{\"value\":0.1},\"fill_color\":{\"value\":\"#000000\"},\"hatch_alpha\":{\"value\":0.1},\"hatch_color\":{\"value\":\"#000000\"},\"line_alpha\":{\"value\":0.1},\"line_color\":{\"value\":\"#000000\"},\"size\":{\"value\":5.477225575051661},\"x\":{\"field\":\"Year\"},\"y\":{\"field\":\"Suicides per 100k\"}},\"id\":\"4331\",\"type\":\"Scatter\"},{\"attributes\":{},\"id\":\"4274\",\"type\":\"BasicTicker\"},{\"attributes\":{\"end\":81.859,\"reset_end\":81.859,\"reset_start\":4.230999999999999,\"start\":4.230999999999999,\"tags\":[[[\"Suicides per 100k\",\"Suicides per 100k\",null]]]},\"id\":\"4259\",\"type\":\"Range1d\"},{\"attributes\":{\"axis\":{\"id\":\"4273\"},\"coordinates\":null,\"grid_line_color\":null,\"group\":null,\"ticker\":null},\"id\":\"4276\",\"type\":\"Grid\"},{\"attributes\":{},\"id\":\"4282\",\"type\":\"PanTool\"},{\"attributes\":{\"coordinates\":null,\"data_source\":{\"id\":\"4327\"},\"glyph\":{\"id\":\"4330\"},\"group\":null,\"hover_glyph\":null,\"muted_glyph\":{\"id\":\"4332\"},\"nonselection_glyph\":{\"id\":\"4331\"},\"selection_glyph\":{\"id\":\"4335\"},\"view\":{\"id\":\"4334\"}},\"id\":\"4333\",\"type\":\"GlyphRenderer\"},{\"attributes\":{\"source\":{\"id\":\"4327\"}},\"id\":\"4334\",\"type\":\"CDSView\"},{\"attributes\":{},\"id\":\"4349\",\"type\":\"UnionRenderers\"},{\"attributes\":{},\"id\":\"4271\",\"type\":\"LinearScale\"},{\"attributes\":{\"coordinates\":null,\"data_source\":{\"id\":\"4318\"},\"glyph\":{\"id\":\"4321\"},\"group\":null,\"hover_glyph\":null,\"muted_glyph\":{\"id\":\"4323\"},\"nonselection_glyph\":{\"id\":\"4322\"},\"selection_glyph\":{\"id\":\"4326\"},\"view\":{\"id\":\"4325\"}},\"id\":\"4324\",\"type\":\"GlyphRenderer\"},{\"attributes\":{\"tools\":[{\"id\":\"4260\"},{\"id\":\"4281\"},{\"id\":\"4282\"},{\"id\":\"4283\"},{\"id\":\"4284\"},{\"id\":\"4285\"}]},\"id\":\"4287\",\"type\":\"Toolbar\"},{\"attributes\":{\"margin\":[5,5,5,5],\"name\":\"HSpacer05932\",\"sizing_mode\":\"stretch_width\"},\"id\":\"4352\",\"type\":\"Spacer\"},{\"attributes\":{\"axis_label\":\"Suicides per 100k\",\"coordinates\":null,\"formatter\":{\"id\":\"4298\"},\"group\":null,\"major_label_policy\":{\"id\":\"4299\"},\"ticker\":{\"id\":\"4278\"}},\"id\":\"4277\",\"type\":\"LinearAxis\"},{\"attributes\":{\"line_color\":\"#30a2da\",\"line_width\":2,\"x\":{\"field\":\"Year\"},\"y\":{\"field\":\"Suicides per 100k\"}},\"id\":\"4308\",\"type\":\"Line\"},{\"attributes\":{\"axis_label\":\"Year\",\"coordinates\":null,\"formatter\":{\"id\":\"4295\"},\"group\":null,\"major_label_orientation\":0.7853981633974483,\"major_label_policy\":{\"id\":\"4296\"},\"ticker\":{\"id\":\"4274\"}},\"id\":\"4273\",\"type\":\"LinearAxis\"},{\"attributes\":{\"bottom_units\":\"screen\",\"coordinates\":null,\"fill_alpha\":0.5,\"fill_color\":\"lightgrey\",\"group\":null,\"left_units\":\"screen\",\"level\":\"overlay\",\"line_alpha\":1.0,\"line_color\":\"black\",\"line_dash\":[4,4],\"line_width\":2,\"right_units\":\"screen\",\"syncable\":false,\"top_units\":\"screen\"},\"id\":\"4286\",\"type\":\"BoxAnnotation\"},{\"attributes\":{\"data\":{\"Suicides per 100k\":{\"__ndarray__\":\"9ihcj8K1Q0DD9Shcj8I6QM3MzMzMTEJACtejcD2qQUDhehSuR4FGQKRwPQrXIztAexSuR+E6RkAK16NwPSpEQHsUrkfhukBACtejcD3KQUBmZmZmZkZIQPYoXI/CNUZApHA9CtdjRUDD9Shcj0JMQJqZmZmZuUVAzczMzMysSUBcj8L1KFxQQEjhehSuZ09AFK5H4XpkUEDhehSuR0FPQClcj8L1KE1AhetRuB7VUEBI4XoUrkdLQIXrUbge9VBAZmZmZmamT0ApXI/C9dhSQJqZmZmZCVJA\",\"dtype\":\"float64\",\"order\":\"little\",\"shape\":[27]},\"Suicides_per_100k\":{\"__ndarray__\":\"9ihcj8K1Q0DD9Shcj8I6QM3MzMzMTEJACtejcD2qQUDhehSuR4FGQKRwPQrXIztAexSuR+E6RkAK16NwPSpEQHsUrkfhukBACtejcD3KQUBmZmZmZkZIQPYoXI/CNUZApHA9CtdjRUDD9Shcj0JMQJqZmZmZuUVAzczMzMysSUBcj8L1KFxQQEjhehSuZ09AFK5H4XpkUEDhehSuR0FPQClcj8L1KE1AhetRuB7VUEBI4XoUrkdLQIXrUbge9VBAZmZmZmamT0ApXI/C9dhSQJqZmZmZCVJA\",\"dtype\":\"float64\",\"order\":\"little\",\"shape\":[27]},\"Year\":[1985,1986,1987,1989,1990,1991,1994,1995,1996,1997,1998,1999,2000,2001,2002,2003,2004,2005,2006,2007,2008,2009,2010,2011,2012,2013,2014]},\"selected\":{\"id\":\"4301\"},\"selection_policy\":{\"id\":\"4343\"}},\"id\":\"4300\",\"type\":\"ColumnDataSource\"},{\"attributes\":{\"data\":{\"Suicides per 100k\":{\"__ndarray__\":\"AAAAAAAAKUAAAAAAAAAqQJqZmZmZmSlAAAAAAAAAKUCamZmZmZkoQAAAAAAAAClAmpmZmZmZKEAzMzMzMzMoQGZmZmZmZihAMzMzMzMzKEAAAAAAAAAoQGZmZmZmZidAzczMzMzMJkCamZmZmZkmQGZmZmZmZiVAzczMzMzMJUCamZmZmZklQM3MzMzMzCVAmpmZmZmZJUDNzMzMzMwlQM3MzMzMzCVAzczMzMzMJUCamZmZmZkmQDMzMzMzMydAmpmZmZmZJ0AzMzMzMzMoQJqZmZmZmShAMzMzMzMzKUAzMzMzMzMpQAAAAAAAACpAmpmZmZmZKkA=\",\"dtype\":\"float64\",\"order\":\"little\",\"shape\":[31]},\"Suicides_per_100k\":{\"__ndarray__\":\"AAAAAAAAKUAAAAAAAAAqQJqZmZmZmSlAAAAAAAAAKUCamZmZmZkoQAAAAAAAAClAmpmZmZmZKEAzMzMzMzMoQGZmZmZmZihAMzMzMzMzKEAAAAAAAAAoQGZmZmZmZidAzczMzMzMJkCamZmZmZkmQGZmZmZmZiVAzczMzMzMJUCamZmZmZklQM3MzMzMzCVAmpmZmZmZJUDNzMzMzMwlQM3MzMzMzCVAzczMzMzMJUCamZmZmZkmQDMzMzMzMydAmpmZmZmZJ0AzMzMzMzMoQJqZmZmZmShAMzMzMzMzKUAzMzMzMzMpQAAAAAAAACpAmpmZmZmZKkA=\",\"dtype\":\"float64\",\"order\":\"little\",\"shape\":[31]},\"Year\":[1985,1986,1987,1988,1989,1990,1991,1992,1993,1994,1995,1996,1997,1998,1999,2000,2001,2002,2003,2004,2005,2006,2007,2008,2009,2010,2011,2012,2013,2014,2015]},\"selected\":{\"id\":\"4328\"},\"selection_policy\":{\"id\":\"4349\"}},\"id\":\"4327\",\"type\":\"ColumnDataSource\"},{\"attributes\":{\"angle\":{\"value\":0.0},\"fill_alpha\":{\"value\":1.0},\"fill_color\":{\"value\":\"#000000\"},\"hatch_alpha\":{\"value\":1.0},\"hatch_color\":{\"value\":\"#000000\"},\"hatch_scale\":{\"value\":12.0},\"hatch_weight\":{\"value\":1.0},\"line_alpha\":{\"value\":1.0},\"line_cap\":{\"value\":\"butt\"},\"line_color\":{\"value\":\"#000000\"},\"line_dash\":{\"value\":[]},\"line_dash_offset\":{\"value\":0},\"line_join\":{\"value\":\"bevel\"},\"line_width\":{\"value\":1},\"marker\":{\"value\":\"circle\"},\"size\":{\"value\":5.477225575051661},\"x\":{\"field\":\"Year\"},\"y\":{\"field\":\"Suicides per 100k\"}},\"id\":\"4335\",\"type\":\"Scatter\"},{\"attributes\":{\"line_alpha\":0.1,\"line_color\":\"#30a2da\",\"line_width\":2,\"x\":{\"field\":\"Year\"},\"y\":{\"field\":\"Suicides per 100k\"}},\"id\":\"4304\",\"type\":\"Line\"},{\"attributes\":{\"axis\":{\"id\":\"4277\"},\"coordinates\":null,\"dimension\":1,\"grid_line_color\":null,\"group\":null,\"ticker\":null},\"id\":\"4280\",\"type\":\"Grid\"},{\"attributes\":{},\"id\":\"4343\",\"type\":\"UnionRenderers\"},{\"attributes\":{},\"id\":\"4347\",\"type\":\"UnionRenderers\"},{\"attributes\":{},\"id\":\"4319\",\"type\":\"Selection\"},{\"attributes\":{\"data\":{\"Suicides per 100k\":{\"__ndarray__\":\"9ihcj8K1Q0DD9Shcj8I6QM3MzMzMTEJACtejcD2qQUDhehSuR4FGQKRwPQrXIztAexSuR+E6RkAK16NwPSpEQHsUrkfhukBACtejcD3KQUBmZmZmZkZIQPYoXI/CNUZApHA9CtdjRUDD9Shcj0JMQJqZmZmZuUVAzczMzMysSUBcj8L1KFxQQEjhehSuZ09AFK5H4XpkUEDhehSuR0FPQClcj8L1KE1AhetRuB7VUEBI4XoUrkdLQIXrUbge9VBAZmZmZmamT0ApXI/C9dhSQJqZmZmZCVJA\",\"dtype\":\"float64\",\"order\":\"little\",\"shape\":[27]},\"Suicides_per_100k\":{\"__ndarray__\":\"9ihcj8K1Q0DD9Shcj8I6QM3MzMzMTEJACtejcD2qQUDhehSuR4FGQKRwPQrXIztAexSuR+E6RkAK16NwPSpEQHsUrkfhukBACtejcD3KQUBmZmZmZkZIQPYoXI/CNUZApHA9CtdjRUDD9Shcj0JMQJqZmZmZuUVAzczMzMysSUBcj8L1KFxQQEjhehSuZ09AFK5H4XpkUEDhehSuR0FPQClcj8L1KE1AhetRuB7VUEBI4XoUrkdLQIXrUbge9VBAZmZmZmamT0ApXI/C9dhSQJqZmZmZCVJA\",\"dtype\":\"float64\",\"order\":\"little\",\"shape\":[27]},\"Year\":[1985,1986,1987,1989,1990,1991,1994,1995,1996,1997,1998,1999,2000,2001,2002,2003,2004,2005,2006,2007,2008,2009,2010,2011,2012,2013,2014]},\"selected\":{\"id\":\"4310\"},\"selection_policy\":{\"id\":\"4345\"}},\"id\":\"4309\",\"type\":\"ColumnDataSource\"},{\"attributes\":{},\"id\":\"4345\",\"type\":\"UnionRenderers\"},{\"attributes\":{\"below\":[{\"id\":\"4273\"}],\"center\":[{\"id\":\"4276\"},{\"id\":\"4280\"}],\"height\":450,\"left\":[{\"id\":\"4277\"}],\"margin\":[5,5,5,5],\"min_border_bottom\":10,\"min_border_left\":10,\"min_border_right\":10,\"min_border_top\":10,\"renderers\":[{\"id\":\"4306\"},{\"id\":\"4315\"},{\"id\":\"4324\"},{\"id\":\"4333\"}],\"sizing_mode\":\"fixed\",\"title\":{\"id\":\"4265\"},\"toolbar\":{\"id\":\"4287\"},\"width\":800,\"x_range\":{\"id\":\"4258\"},\"x_scale\":{\"id\":\"4269\"},\"y_range\":{\"id\":\"4259\"},\"y_scale\":{\"id\":\"4271\"}},\"id\":\"4264\",\"subtype\":\"Figure\",\"type\":\"Plot\"},{\"attributes\":{\"line_color\":\"#30a2da\",\"line_width\":2,\"x\":{\"field\":\"Year\"},\"y\":{\"field\":\"Suicides per 100k\"}},\"id\":\"4303\",\"type\":\"Line\"},{\"attributes\":{\"callback\":null,\"renderers\":[{\"id\":\"4306\"},{\"id\":\"4315\"},{\"id\":\"4324\"},{\"id\":\"4333\"}],\"tags\":[\"hv_created\"],\"tooltips\":[[\"Year\",\"@{Year}\"],[\"Suicides per 100k\",\"@{Suicides_per_100k}\"]]},\"id\":\"4260\",\"type\":\"HoverTool\"},{\"attributes\":{\"line_color\":\"#fc4f30\",\"line_width\":2,\"x\":{\"field\":\"Year\"},\"y\":{\"field\":\"Suicides per 100k\"}},\"id\":\"4321\",\"type\":\"Line\"},{\"attributes\":{\"fill_color\":{\"value\":\"#000000\"},\"hatch_color\":{\"value\":\"#000000\"},\"line_color\":{\"value\":\"#000000\"},\"size\":{\"value\":5.477225575051661},\"x\":{\"field\":\"Year\"},\"y\":{\"field\":\"Suicides per 100k\"}},\"id\":\"4330\",\"type\":\"Scatter\"},{\"attributes\":{},\"id\":\"4310\",\"type\":\"Selection\"},{\"attributes\":{\"margin\":[5,5,5,5],\"name\":\"HSpacer05931\",\"sizing_mode\":\"stretch_width\"},\"id\":\"4257\",\"type\":\"Spacer\"},{\"attributes\":{\"coordinates\":null,\"group\":null,\"text_color\":\"black\",\"text_font_size\":\"12pt\"},\"id\":\"4265\",\"type\":\"Title\"},{\"attributes\":{},\"id\":\"4298\",\"type\":\"BasicTickFormatter\"},{\"attributes\":{},\"id\":\"4299\",\"type\":\"AllLabels\"},{\"attributes\":{},\"id\":\"4301\",\"type\":\"Selection\"},{\"attributes\":{\"coordinates\":null,\"data_source\":{\"id\":\"4300\"},\"glyph\":{\"id\":\"4303\"},\"group\":null,\"hover_glyph\":null,\"muted_glyph\":{\"id\":\"4305\"},\"nonselection_glyph\":{\"id\":\"4304\"},\"selection_glyph\":{\"id\":\"4308\"},\"view\":{\"id\":\"4307\"}},\"id\":\"4306\",\"type\":\"GlyphRenderer\"},{\"attributes\":{},\"id\":\"4295\",\"type\":\"BasicTickFormatter\"},{\"attributes\":{\"fill_color\":{\"value\":\"#000000\"},\"hatch_color\":{\"value\":\"#000000\"},\"line_color\":{\"value\":\"#000000\"},\"size\":{\"value\":5.477225575051661},\"x\":{\"field\":\"Year\"},\"y\":{\"field\":\"Suicides per 100k\"}},\"id\":\"4312\",\"type\":\"Scatter\"},{\"attributes\":{\"source\":{\"id\":\"4309\"}},\"id\":\"4316\",\"type\":\"CDSView\"},{\"attributes\":{\"fill_alpha\":{\"value\":0.2},\"fill_color\":{\"value\":\"#000000\"},\"hatch_alpha\":{\"value\":0.2},\"hatch_color\":{\"value\":\"#000000\"},\"line_alpha\":{\"value\":0.2},\"line_color\":{\"value\":\"#000000\"},\"size\":{\"value\":5.477225575051661},\"x\":{\"field\":\"Year\"},\"y\":{\"field\":\"Suicides per 100k\"}},\"id\":\"4332\",\"type\":\"Scatter\"},{\"attributes\":{},\"id\":\"4281\",\"type\":\"SaveTool\"},{\"attributes\":{},\"id\":\"4278\",\"type\":\"BasicTicker\"},{\"attributes\":{\"source\":{\"id\":\"4318\"}},\"id\":\"4325\",\"type\":\"CDSView\"},{\"attributes\":{\"end\":2015.0,\"reset_end\":2015.0,\"reset_start\":1985.0,\"start\":1985.0,\"tags\":[[[\"Year\",\"Year\",null]]]},\"id\":\"4258\",\"type\":\"Range1d\"}],\"root_ids\":[\"4256\"]},\"title\":\"Bokeh Application\",\"version\":\"2.4.3\"}};\n",
       "    var render_items = [{\"docid\":\"355c6133-bd41-4317-8cc9-57004223834f\",\"root_ids\":[\"4256\"],\"roots\":{\"4256\":\"4c910239-c95e-4536-80be-00e711685e1d\"}}];\n",
       "    root.Bokeh.embed.embed_items_notebook(docs_json, render_items);\n",
       "  }\n",
       "  if (root.Bokeh !== undefined && root.Bokeh.Panel !== undefined) {\n",
       "    embed_document(root);\n",
       "  } else {\n",
       "    var attempts = 0;\n",
       "    var timer = setInterval(function(root) {\n",
       "      if (root.Bokeh !== undefined && root.Bokeh.Panel !== undefined) {\n",
       "        clearInterval(timer);\n",
       "        embed_document(root);\n",
       "      } else if (document.readyState == \"complete\") {\n",
       "        attempts++;\n",
       "        if (attempts > 200) {\n",
       "          clearInterval(timer);\n",
       "          console.log(\"Bokeh: ERROR: Unable to run BokehJS code because BokehJS library is missing\");\n",
       "        }\n",
       "      }\n",
       "    }, 25, root)\n",
       "  }\n",
       "})(window);</script>"
      ],
      "text/plain": [
       ":Overlay\n",
       "   .Curve.I    :Curve   [Year]   (Suicides per 100k)\n",
       "   .Scatter.I  :Scatter   [Year]   (Suicides per 100k)\n",
       "   .Curve.II   :Curve   [Year]   (Suicides per 100k)\n",
       "   .Scatter.II :Scatter   [Year]   (Suicides per 100k)"
      ]
     },
     "execution_count": 48,
     "metadata": {
      "application/vnd.holoviews_exec.v0+json": {
       "id": "4256"
      }
     },
     "output_type": "execute_result"
    }
   ],
   "source": [
    "paraguay_suicide_rates.hvplot(x=\"Year\", y=\"Suicides per 100k\", rot=45).opts(\n",
    "    height=450, width=800\n",
    ") * paraguay_suicide_rates.hvplot.scatter(\n",
    "    x=\"Year\", y=\"Suicides per 100k\", rot=45, c=\"k\"\n",
    ").opts(\n",
    "    height=450, width=800\n",
    ") * us_suicide_rates.hvplot(\n",
    "    x=\"Year\", y=\"Suicides per 100k\", rot=45\n",
    ").opts(\n",
    "    height=450, width=800\n",
    ") * us_suicide_rates.hvplot.scatter(\n",
    "    x=\"Year\", y=\"Suicides per 100k\", rot=45, c=\"k\"\n",
    ").opts(\n",
    "    height=450, width=800\n",
    ")"
   ]
  },
  {
   "cell_type": "code",
   "execution_count": 49,
   "metadata": {},
   "outputs": [
    {
     "data": {},
     "metadata": {},
     "output_type": "display_data"
    },
    {
     "data": {
      "application/vnd.holoviews_exec.v0+json": "",
      "text/html": [
       "<div id='4434'>\n",
       "  <div class=\"bk-root\" id=\"1ff54a79-74c2-4efb-9958-0ac1c71b9b92\" data-root-id=\"4434\"></div>\n",
       "</div>\n",
       "<script type=\"application/javascript\">(function(root) {\n",
       "  function embed_document(root) {\n",
       "    var docs_json = {\"2f002021-97e5-42d4-b311-c7f80bdd16c9\":{\"defs\":[{\"extends\":null,\"module\":null,\"name\":\"ReactiveHTML1\",\"overrides\":[],\"properties\":[]},{\"extends\":null,\"module\":null,\"name\":\"FlexBox1\",\"overrides\":[],\"properties\":[{\"default\":\"flex-start\",\"kind\":null,\"name\":\"align_content\"},{\"default\":\"flex-start\",\"kind\":null,\"name\":\"align_items\"},{\"default\":\"row\",\"kind\":null,\"name\":\"flex_direction\"},{\"default\":\"wrap\",\"kind\":null,\"name\":\"flex_wrap\"},{\"default\":\"flex-start\",\"kind\":null,\"name\":\"justify_content\"}]},{\"extends\":null,\"module\":null,\"name\":\"GridStack1\",\"overrides\":[],\"properties\":[{\"default\":\"warn\",\"kind\":null,\"name\":\"mode\"},{\"default\":null,\"kind\":null,\"name\":\"ncols\"},{\"default\":null,\"kind\":null,\"name\":\"nrows\"},{\"default\":true,\"kind\":null,\"name\":\"allow_resize\"},{\"default\":true,\"kind\":null,\"name\":\"allow_drag\"},{\"default\":[],\"kind\":null,\"name\":\"state\"}]},{\"extends\":null,\"module\":null,\"name\":\"click1\",\"overrides\":[],\"properties\":[{\"default\":\"\",\"kind\":null,\"name\":\"terminal_output\"},{\"default\":\"\",\"kind\":null,\"name\":\"debug_name\"},{\"default\":0,\"kind\":null,\"name\":\"clears\"}]},{\"extends\":null,\"module\":null,\"name\":\"NotificationAreaBase1\",\"overrides\":[],\"properties\":[{\"default\":\"bottom-right\",\"kind\":null,\"name\":\"position\"},{\"default\":0,\"kind\":null,\"name\":\"_clear\"}]},{\"extends\":null,\"module\":null,\"name\":\"NotificationArea1\",\"overrides\":[],\"properties\":[{\"default\":[],\"kind\":null,\"name\":\"notifications\"},{\"default\":\"bottom-right\",\"kind\":null,\"name\":\"position\"},{\"default\":0,\"kind\":null,\"name\":\"_clear\"},{\"default\":[{\"background\":\"#ffc107\",\"icon\":{\"className\":\"fas fa-exclamation-triangle\",\"color\":\"white\",\"tagName\":\"i\"},\"type\":\"warning\"},{\"background\":\"#007bff\",\"icon\":{\"className\":\"fas fa-info-circle\",\"color\":\"white\",\"tagName\":\"i\"},\"type\":\"info\"}],\"kind\":null,\"name\":\"types\"}]},{\"extends\":null,\"module\":null,\"name\":\"Notification\",\"overrides\":[],\"properties\":[{\"default\":null,\"kind\":null,\"name\":\"background\"},{\"default\":3000,\"kind\":null,\"name\":\"duration\"},{\"default\":null,\"kind\":null,\"name\":\"icon\"},{\"default\":\"\",\"kind\":null,\"name\":\"message\"},{\"default\":null,\"kind\":null,\"name\":\"notification_type\"},{\"default\":false,\"kind\":null,\"name\":\"_destroyed\"}]},{\"extends\":null,\"module\":null,\"name\":\"TemplateActions1\",\"overrides\":[],\"properties\":[{\"default\":0,\"kind\":null,\"name\":\"open_modal\"},{\"default\":0,\"kind\":null,\"name\":\"close_modal\"}]},{\"extends\":null,\"module\":null,\"name\":\"MaterialTemplateActions1\",\"overrides\":[],\"properties\":[{\"default\":0,\"kind\":null,\"name\":\"open_modal\"},{\"default\":0,\"kind\":null,\"name\":\"close_modal\"}]}],\"roots\":{\"references\":[{\"attributes\":{},\"id\":\"4472\",\"type\":\"AllLabels\"},{\"attributes\":{},\"id\":\"4477\",\"type\":\"Selection\"},{\"attributes\":{\"end\":2021.0,\"reset_end\":2021.0,\"reset_start\":1985.0,\"start\":1985.0,\"tags\":[[[\"Year\",\"Year\",null]]]},\"id\":\"4436\",\"type\":\"Range1d\"},{\"attributes\":{\"tools\":[{\"id\":\"4438\"},{\"id\":\"4457\"},{\"id\":\"4458\"},{\"id\":\"4459\"},{\"id\":\"4460\"},{\"id\":\"4461\"}]},\"id\":\"4463\",\"type\":\"Toolbar\"},{\"attributes\":{\"margin\":[5,5,5,5],\"name\":\"HSpacer06224\",\"sizing_mode\":\"stretch_width\"},\"id\":\"4506\",\"type\":\"Spacer\"},{\"attributes\":{\"bottom_units\":\"screen\",\"coordinates\":null,\"fill_alpha\":0.5,\"fill_color\":\"lightgrey\",\"group\":null,\"left_units\":\"screen\",\"level\":\"overlay\",\"line_alpha\":1.0,\"line_color\":\"black\",\"line_dash\":[4,4],\"line_width\":2,\"right_units\":\"screen\",\"syncable\":false,\"top_units\":\"screen\"},\"id\":\"4462\",\"type\":\"BoxAnnotation\"},{\"attributes\":{},\"id\":\"4457\",\"type\":\"SaveTool\"},{\"attributes\":{\"coordinates\":null,\"group\":null,\"text_color\":\"black\",\"text_font_size\":\"12pt\"},\"id\":\"4441\",\"type\":\"Title\"},{\"attributes\":{},\"id\":\"4458\",\"type\":\"PanTool\"},{\"attributes\":{\"margin\":[5,5,5,5],\"name\":\"HSpacer06223\",\"sizing_mode\":\"stretch_width\"},\"id\":\"4435\",\"type\":\"Spacer\"},{\"attributes\":{},\"id\":\"4461\",\"type\":\"ResetTool\"},{\"attributes\":{\"line_alpha\":0.2,\"line_color\":\"#30a2da\",\"line_width\":2,\"x\":{\"field\":\"Year\"},\"y\":{\"field\":\"Number of Suicides\"}},\"id\":\"4481\",\"type\":\"Line\"},{\"attributes\":{\"source\":{\"id\":\"4485\"}},\"id\":\"4492\",\"type\":\"CDSView\"},{\"attributes\":{},\"id\":\"4459\",\"type\":\"WheelZoomTool\"},{\"attributes\":{\"fill_alpha\":{\"value\":0.1},\"fill_color\":{\"value\":\"#000000\"},\"hatch_alpha\":{\"value\":0.1},\"hatch_color\":{\"value\":\"#000000\"},\"line_alpha\":{\"value\":0.1},\"line_color\":{\"value\":\"#000000\"},\"size\":{\"value\":5.477225575051661},\"x\":{\"field\":\"Year\"},\"y\":{\"field\":\"Number of Suicides\"}},\"id\":\"4489\",\"type\":\"Scatter\"},{\"attributes\":{},\"id\":\"4475\",\"type\":\"AllLabels\"},{\"attributes\":{\"overlay\":{\"id\":\"4462\"}},\"id\":\"4460\",\"type\":\"BoxZoomTool\"},{\"attributes\":{},\"id\":\"4454\",\"type\":\"BasicTicker\"},{\"attributes\":{},\"id\":\"4501\",\"type\":\"UnionRenderers\"},{\"attributes\":{},\"id\":\"4503\",\"type\":\"UnionRenderers\"},{\"attributes\":{\"coordinates\":null,\"data_source\":{\"id\":\"4485\"},\"glyph\":{\"id\":\"4488\"},\"group\":null,\"hover_glyph\":null,\"muted_glyph\":{\"id\":\"4490\"},\"nonselection_glyph\":{\"id\":\"4489\"},\"selection_glyph\":{\"id\":\"4493\"},\"view\":{\"id\":\"4492\"}},\"id\":\"4491\",\"type\":\"GlyphRenderer\"},{\"attributes\":{},\"id\":\"4445\",\"type\":\"LinearScale\"},{\"attributes\":{\"line_color\":\"#30a2da\",\"line_width\":2,\"x\":{\"field\":\"Year\"},\"y\":{\"field\":\"Number of Suicides\"}},\"id\":\"4484\",\"type\":\"Line\"},{\"attributes\":{\"data\":{\"Number of Suicides\":[29446,30892,30783,30388,30218,30895,30790,30471,31084,31123,31272,30879,30517,30558,29183,29343,30607,31645,31477,32428,32629,33292,34596,36030,36900,38362,39508,40596,41143,42721,44159,44925,47126,48290,47467,45941,48137],\"Number_of_Suicides\":[29446,30892,30783,30388,30218,30895,30790,30471,31084,31123,31272,30879,30517,30558,29183,29343,30607,31645,31477,32428,32629,33292,34596,36030,36900,38362,39508,40596,41143,42721,44159,44925,47126,48290,47467,45941,48137],\"Year\":[1985,1986,1987,1988,1989,1990,1991,1992,1993,1994,1995,1996,1997,1998,1999,2000,2001,2002,2003,2004,2005,2006,2007,2008,2009,2010,2011,2012,2013,2014,2015,2016,2017,2018,2019,2020,2021]},\"selected\":{\"id\":\"4486\"},\"selection_policy\":{\"id\":\"4503\"}},\"id\":\"4485\",\"type\":\"ColumnDataSource\"},{\"attributes\":{\"callback\":null,\"renderers\":[{\"id\":\"4482\"},{\"id\":\"4491\"}],\"tags\":[\"hv_created\"],\"tooltips\":[[\"Year\",\"@{Year}\"],[\"Number of Suicides\",\"@{Number_of_Suicides}\"]]},\"id\":\"4438\",\"type\":\"HoverTool\"},{\"attributes\":{},\"id\":\"4450\",\"type\":\"BasicTicker\"},{\"attributes\":{\"axis\":{\"id\":\"4449\"},\"coordinates\":null,\"grid_line_color\":null,\"group\":null,\"ticker\":null},\"id\":\"4452\",\"type\":\"Grid\"},{\"attributes\":{},\"id\":\"4447\",\"type\":\"LinearScale\"},{\"attributes\":{\"data\":{\"Number of Suicides\":[29446,30892,30783,30388,30218,30895,30790,30471,31084,31123,31272,30879,30517,30558,29183,29343,30607,31645,31477,32428,32629,33292,34596,36030,36900,38362,39508,40596,41143,42721,44159,44925,47126,48290,47467,45941,48137],\"Number_of_Suicides\":[29446,30892,30783,30388,30218,30895,30790,30471,31084,31123,31272,30879,30517,30558,29183,29343,30607,31645,31477,32428,32629,33292,34596,36030,36900,38362,39508,40596,41143,42721,44159,44925,47126,48290,47467,45941,48137],\"Year\":[1985,1986,1987,1988,1989,1990,1991,1992,1993,1994,1995,1996,1997,1998,1999,2000,2001,2002,2003,2004,2005,2006,2007,2008,2009,2010,2011,2012,2013,2014,2015,2016,2017,2018,2019,2020,2021]},\"selected\":{\"id\":\"4477\"},\"selection_policy\":{\"id\":\"4501\"}},\"id\":\"4476\",\"type\":\"ColumnDataSource\"},{\"attributes\":{\"axis_label\":\"Number of Suicides\",\"coordinates\":null,\"formatter\":{\"id\":\"4474\"},\"group\":null,\"major_label_policy\":{\"id\":\"4475\"},\"ticker\":{\"id\":\"4454\"}},\"id\":\"4453\",\"type\":\"LinearAxis\"},{\"attributes\":{\"axis_label\":\"Year\",\"coordinates\":null,\"formatter\":{\"id\":\"4471\"},\"group\":null,\"major_label_orientation\":0.7853981633974483,\"major_label_policy\":{\"id\":\"4472\"},\"ticker\":{\"id\":\"4450\"}},\"id\":\"4449\",\"type\":\"LinearAxis\"},{\"attributes\":{\"source\":{\"id\":\"4476\"}},\"id\":\"4483\",\"type\":\"CDSView\"},{\"attributes\":{\"line_alpha\":0.1,\"line_color\":\"#30a2da\",\"line_width\":2,\"x\":{\"field\":\"Year\"},\"y\":{\"field\":\"Number of Suicides\"}},\"id\":\"4480\",\"type\":\"Line\"},{\"attributes\":{},\"id\":\"4471\",\"type\":\"BasicTickFormatter\"},{\"attributes\":{\"end\":50200.7,\"reset_end\":50200.7,\"reset_start\":27272.3,\"start\":27272.3,\"tags\":[[[\"Number of Suicides\",\"Number of Suicides\",null]]]},\"id\":\"4437\",\"type\":\"Range1d\"},{\"attributes\":{\"axis\":{\"id\":\"4453\"},\"coordinates\":null,\"dimension\":1,\"grid_line_color\":null,\"group\":null,\"ticker\":null},\"id\":\"4456\",\"type\":\"Grid\"},{\"attributes\":{\"below\":[{\"id\":\"4449\"}],\"center\":[{\"id\":\"4452\"},{\"id\":\"4456\"}],\"height\":450,\"left\":[{\"id\":\"4453\"}],\"margin\":[5,5,5,5],\"min_border_bottom\":10,\"min_border_left\":10,\"min_border_right\":10,\"min_border_top\":10,\"renderers\":[{\"id\":\"4482\"},{\"id\":\"4491\"}],\"sizing_mode\":\"fixed\",\"title\":{\"id\":\"4441\"},\"toolbar\":{\"id\":\"4463\"},\"width\":800,\"x_range\":{\"id\":\"4436\"},\"x_scale\":{\"id\":\"4445\"},\"y_range\":{\"id\":\"4437\"},\"y_scale\":{\"id\":\"4447\"}},\"id\":\"4440\",\"subtype\":\"Figure\",\"type\":\"Plot\"},{\"attributes\":{\"angle\":{\"value\":0.0},\"fill_alpha\":{\"value\":1.0},\"fill_color\":{\"value\":\"#000000\"},\"hatch_alpha\":{\"value\":1.0},\"hatch_color\":{\"value\":\"#000000\"},\"hatch_scale\":{\"value\":12.0},\"hatch_weight\":{\"value\":1.0},\"line_alpha\":{\"value\":1.0},\"line_cap\":{\"value\":\"butt\"},\"line_color\":{\"value\":\"#000000\"},\"line_dash\":{\"value\":[]},\"line_dash_offset\":{\"value\":0},\"line_join\":{\"value\":\"bevel\"},\"line_width\":{\"value\":1},\"marker\":{\"value\":\"circle\"},\"size\":{\"value\":5.477225575051661},\"x\":{\"field\":\"Year\"},\"y\":{\"field\":\"Number of Suicides\"}},\"id\":\"4493\",\"type\":\"Scatter\"},{\"attributes\":{\"fill_alpha\":{\"value\":0.2},\"fill_color\":{\"value\":\"#000000\"},\"hatch_alpha\":{\"value\":0.2},\"hatch_color\":{\"value\":\"#000000\"},\"line_alpha\":{\"value\":0.2},\"line_color\":{\"value\":\"#000000\"},\"size\":{\"value\":5.477225575051661},\"x\":{\"field\":\"Year\"},\"y\":{\"field\":\"Number of Suicides\"}},\"id\":\"4490\",\"type\":\"Scatter\"},{\"attributes\":{},\"id\":\"4474\",\"type\":\"BasicTickFormatter\"},{\"attributes\":{},\"id\":\"4486\",\"type\":\"Selection\"},{\"attributes\":{\"children\":[{\"id\":\"4435\"},{\"id\":\"4440\"},{\"id\":\"4506\"}],\"margin\":[0,0,0,0],\"name\":\"Row06219\",\"tags\":[\"embedded\"]},\"id\":\"4434\",\"type\":\"Row\"},{\"attributes\":{\"coordinates\":null,\"data_source\":{\"id\":\"4476\"},\"glyph\":{\"id\":\"4479\"},\"group\":null,\"hover_glyph\":null,\"muted_glyph\":{\"id\":\"4481\"},\"nonselection_glyph\":{\"id\":\"4480\"},\"selection_glyph\":{\"id\":\"4484\"},\"view\":{\"id\":\"4483\"}},\"id\":\"4482\",\"type\":\"GlyphRenderer\"},{\"attributes\":{\"line_color\":\"#30a2da\",\"line_width\":2,\"x\":{\"field\":\"Year\"},\"y\":{\"field\":\"Number of Suicides\"}},\"id\":\"4479\",\"type\":\"Line\"},{\"attributes\":{\"fill_color\":{\"value\":\"#000000\"},\"hatch_color\":{\"value\":\"#000000\"},\"line_color\":{\"value\":\"#000000\"},\"size\":{\"value\":5.477225575051661},\"x\":{\"field\":\"Year\"},\"y\":{\"field\":\"Number of Suicides\"}},\"id\":\"4488\",\"type\":\"Scatter\"}],\"root_ids\":[\"4434\"]},\"title\":\"Bokeh Application\",\"version\":\"2.4.3\"}};\n",
       "    var render_items = [{\"docid\":\"2f002021-97e5-42d4-b311-c7f80bdd16c9\",\"root_ids\":[\"4434\"],\"roots\":{\"4434\":\"1ff54a79-74c2-4efb-9958-0ac1c71b9b92\"}}];\n",
       "    root.Bokeh.embed.embed_items_notebook(docs_json, render_items);\n",
       "  }\n",
       "  if (root.Bokeh !== undefined && root.Bokeh.Panel !== undefined) {\n",
       "    embed_document(root);\n",
       "  } else {\n",
       "    var attempts = 0;\n",
       "    var timer = setInterval(function(root) {\n",
       "      if (root.Bokeh !== undefined && root.Bokeh.Panel !== undefined) {\n",
       "        clearInterval(timer);\n",
       "        embed_document(root);\n",
       "      } else if (document.readyState == \"complete\") {\n",
       "        attempts++;\n",
       "        if (attempts > 200) {\n",
       "          clearInterval(timer);\n",
       "          console.log(\"Bokeh: ERROR: Unable to run BokehJS code because BokehJS library is missing\");\n",
       "        }\n",
       "      }\n",
       "    }, 25, root)\n",
       "  }\n",
       "})(window);</script>"
      ],
      "text/plain": [
       ":Overlay\n",
       "   .Curve.I   :Curve   [Year]   (Number of Suicides)\n",
       "   .Scatter.I :Scatter   [Year]   (Number of Suicides)"
      ]
     },
     "execution_count": 49,
     "metadata": {
      "application/vnd.holoviews_exec.v0+json": {
       "id": "4434"
      }
     },
     "output_type": "execute_result"
    }
   ],
   "source": [
    "us_suicides_total.hvplot(x=\"Year\", y=\"Number of Suicides\", rot=45).opts(\n",
    "    height=450, width=800\n",
    ") * us_suicides_total.hvplot.scatter(\n",
    "    x=\"Year\", y=\"Number of Suicides\", rot=45, c=\"k\"\n",
    ").opts(\n",
    "    height=450, width=800\n",
    ")"
   ]
  },
  {
   "cell_type": "code",
   "execution_count": 50,
   "metadata": {},
   "outputs": [
    {
     "data": {},
     "metadata": {},
     "output_type": "display_data"
    },
    {
     "data": {
      "application/vnd.holoviews_exec.v0+json": "",
      "text/html": [
       "<div id='4568'>\n",
       "  <div class=\"bk-root\" id=\"bae28253-9805-470b-8490-584d51e672b6\" data-root-id=\"4568\"></div>\n",
       "</div>\n",
       "<script type=\"application/javascript\">(function(root) {\n",
       "  function embed_document(root) {\n",
       "    var docs_json = {\"d7b8d47a-845c-47a6-9f58-ed3dbf25b64d\":{\"defs\":[{\"extends\":null,\"module\":null,\"name\":\"ReactiveHTML1\",\"overrides\":[],\"properties\":[]},{\"extends\":null,\"module\":null,\"name\":\"FlexBox1\",\"overrides\":[],\"properties\":[{\"default\":\"flex-start\",\"kind\":null,\"name\":\"align_content\"},{\"default\":\"flex-start\",\"kind\":null,\"name\":\"align_items\"},{\"default\":\"row\",\"kind\":null,\"name\":\"flex_direction\"},{\"default\":\"wrap\",\"kind\":null,\"name\":\"flex_wrap\"},{\"default\":\"flex-start\",\"kind\":null,\"name\":\"justify_content\"}]},{\"extends\":null,\"module\":null,\"name\":\"GridStack1\",\"overrides\":[],\"properties\":[{\"default\":\"warn\",\"kind\":null,\"name\":\"mode\"},{\"default\":null,\"kind\":null,\"name\":\"ncols\"},{\"default\":null,\"kind\":null,\"name\":\"nrows\"},{\"default\":true,\"kind\":null,\"name\":\"allow_resize\"},{\"default\":true,\"kind\":null,\"name\":\"allow_drag\"},{\"default\":[],\"kind\":null,\"name\":\"state\"}]},{\"extends\":null,\"module\":null,\"name\":\"click1\",\"overrides\":[],\"properties\":[{\"default\":\"\",\"kind\":null,\"name\":\"terminal_output\"},{\"default\":\"\",\"kind\":null,\"name\":\"debug_name\"},{\"default\":0,\"kind\":null,\"name\":\"clears\"}]},{\"extends\":null,\"module\":null,\"name\":\"NotificationAreaBase1\",\"overrides\":[],\"properties\":[{\"default\":\"bottom-right\",\"kind\":null,\"name\":\"position\"},{\"default\":0,\"kind\":null,\"name\":\"_clear\"}]},{\"extends\":null,\"module\":null,\"name\":\"NotificationArea1\",\"overrides\":[],\"properties\":[{\"default\":[],\"kind\":null,\"name\":\"notifications\"},{\"default\":\"bottom-right\",\"kind\":null,\"name\":\"position\"},{\"default\":0,\"kind\":null,\"name\":\"_clear\"},{\"default\":[{\"background\":\"#ffc107\",\"icon\":{\"className\":\"fas fa-exclamation-triangle\",\"color\":\"white\",\"tagName\":\"i\"},\"type\":\"warning\"},{\"background\":\"#007bff\",\"icon\":{\"className\":\"fas fa-info-circle\",\"color\":\"white\",\"tagName\":\"i\"},\"type\":\"info\"}],\"kind\":null,\"name\":\"types\"}]},{\"extends\":null,\"module\":null,\"name\":\"Notification\",\"overrides\":[],\"properties\":[{\"default\":null,\"kind\":null,\"name\":\"background\"},{\"default\":3000,\"kind\":null,\"name\":\"duration\"},{\"default\":null,\"kind\":null,\"name\":\"icon\"},{\"default\":\"\",\"kind\":null,\"name\":\"message\"},{\"default\":null,\"kind\":null,\"name\":\"notification_type\"},{\"default\":false,\"kind\":null,\"name\":\"_destroyed\"}]},{\"extends\":null,\"module\":null,\"name\":\"TemplateActions1\",\"overrides\":[],\"properties\":[{\"default\":0,\"kind\":null,\"name\":\"open_modal\"},{\"default\":0,\"kind\":null,\"name\":\"close_modal\"}]},{\"extends\":null,\"module\":null,\"name\":\"MaterialTemplateActions1\",\"overrides\":[],\"properties\":[{\"default\":0,\"kind\":null,\"name\":\"open_modal\"},{\"default\":0,\"kind\":null,\"name\":\"close_modal\"}]}],\"roots\":{\"references\":[{\"attributes\":{\"data\":{\"Number of Suicides\":[29446,30892,30783,30388,30218,30895,30790,30471,31084,31123,31272,30879,30517,30558,29183,29343,30607,31645,31477,32428,32629,33292,34596,36030,36900,38362,39508,40596,41143,42721,44159,44925,47126,48290,47467,45941,48137],\"Number_of_Suicides\":[29446,30892,30783,30388,30218,30895,30790,30471,31084,31123,31272,30879,30517,30558,29183,29343,30607,31645,31477,32428,32629,33292,34596,36030,36900,38362,39508,40596,41143,42721,44159,44925,47126,48290,47467,45941,48137],\"Year\":[1985,1986,1987,1988,1989,1990,1991,1992,1993,1994,1995,1996,1997,1998,1999,2000,2001,2002,2003,2004,2005,2006,2007,2008,2009,2010,2011,2012,2013,2014,2015,2016,2017,2018,2019,2020,2021]},\"selected\":{\"id\":\"4612\"},\"selection_policy\":{\"id\":\"4636\"}},\"id\":\"4611\",\"type\":\"ColumnDataSource\"},{\"attributes\":{},\"id\":\"4621\",\"type\":\"Selection\"},{\"attributes\":{\"tools\":[{\"id\":\"4572\"},{\"id\":\"4573\"},{\"id\":\"4591\"},{\"id\":\"4592\"},{\"id\":\"4593\"},{\"id\":\"4594\"},{\"id\":\"4595\"}]},\"id\":\"4597\",\"type\":\"Toolbar\"},{\"attributes\":{},\"id\":\"4579\",\"type\":\"LinearScale\"},{\"attributes\":{\"line_alpha\":0.1,\"line_color\":\"red\",\"line_width\":2,\"x\":{\"field\":\"Year\"},\"y\":{\"field\":\"Predicted Suicides\"}},\"id\":\"4624\",\"type\":\"Line\"},{\"attributes\":{\"margin\":[5,5,5,5],\"name\":\"HSpacer06440\",\"sizing_mode\":\"stretch_width\"},\"id\":\"4569\",\"type\":\"Spacer\"},{\"attributes\":{\"axis\":{\"id\":\"4583\"},\"coordinates\":null,\"grid_line_color\":null,\"group\":null,\"ticker\":null},\"id\":\"4586\",\"type\":\"Grid\"},{\"attributes\":{},\"id\":\"4588\",\"type\":\"BasicTicker\"},{\"attributes\":{\"line_alpha\":0.2,\"line_color\":\"red\",\"line_width\":2,\"x\":{\"field\":\"Year\"},\"y\":{\"field\":\"Predicted Suicides\"}},\"id\":\"4625\",\"type\":\"Line\"},{\"attributes\":{\"callback\":null,\"renderers\":[{\"id\":\"4626\"}],\"tags\":[\"hv_created\"],\"tooltips\":[[\"Year\",\"@{Year}\"],[\"Predicted Suicides\",\"@{Predicted_Suicides}\"]]},\"id\":\"4573\",\"type\":\"HoverTool\"},{\"attributes\":{},\"id\":\"4584\",\"type\":\"BasicTicker\"},{\"attributes\":{\"line_color\":\"red\",\"line_width\":2,\"x\":{\"field\":\"Year\"},\"y\":{\"field\":\"Predicted Suicides\"}},\"id\":\"4628\",\"type\":\"Line\"},{\"attributes\":{\"source\":{\"id\":\"4620\"}},\"id\":\"4627\",\"type\":\"CDSView\"},{\"attributes\":{\"data\":{\"Predicted Suicides\":{\"__ndarray__\":\"QM00UR9a2UCAxsydfN/ZQMC/ZOrZZNpAwLj8Njfq2kAAspSDlG/bQECrLNDx9NtAgKTEHE963EDAnVxprP/cQACX9LUJhd1AAJCMAmcK3kBAiSRPxI/eQICCvJshFd9AwHtU6H6a30CAOnYa7g/gQAA3wsCcUuBAoDMOZ0uV4EBAMFoN+tfgQOAsprOoGuFAgCnyWVdd4UAAJj4ABqDhQKAiiqa04uFAQB/WTGMl4kDgGyLzEWjiQIAYbpnAquJAABW6P2/t4kCgEQbmHTDjQEAOUozMcuNA4AqeMnu140CAB+rYKfjjQAAENn/YOuRAoACCJYd95EBA/c3LNcDkQOD5GXLkAuVAgPZlGJNF5UAg87G+QYjlQKDv/WTwyuVAQOxJC58N5kA=\",\"dtype\":\"float64\",\"order\":\"little\",\"shape\":[37]},\"Predicted_Suicides\":{\"__ndarray__\":\"QM00UR9a2UCAxsydfN/ZQMC/ZOrZZNpAwLj8Njfq2kAAspSDlG/bQECrLNDx9NtAgKTEHE963EDAnVxprP/cQACX9LUJhd1AAJCMAmcK3kBAiSRPxI/eQICCvJshFd9AwHtU6H6a30CAOnYa7g/gQAA3wsCcUuBAoDMOZ0uV4EBAMFoN+tfgQOAsprOoGuFAgCnyWVdd4UAAJj4ABqDhQKAiiqa04uFAQB/WTGMl4kDgGyLzEWjiQIAYbpnAquJAABW6P2/t4kCgEQbmHTDjQEAOUozMcuNA4AqeMnu140CAB+rYKfjjQAAENn/YOuRAoACCJYd95EBA/c3LNcDkQOD5GXLkAuVAgPZlGJNF5UAg87G+QYjlQKDv/WTwyuVAQOxJC58N5kA=\",\"dtype\":\"float64\",\"order\":\"little\",\"shape\":[37]},\"Year\":[1985,1986,1987,1988,1989,1990,1991,1992,1993,1994,1995,1996,1997,1998,1999,2000,2001,2002,2003,2004,2005,2006,2007,2008,2009,2010,2011,2012,2013,2014,2015,2016,2017,2018,2019,2020,2021]},\"selected\":{\"id\":\"4621\"},\"selection_policy\":{\"id\":\"4638\"}},\"id\":\"4620\",\"type\":\"ColumnDataSource\"},{\"attributes\":{},\"id\":\"4606\",\"type\":\"BasicTickFormatter\"},{\"attributes\":{\"axis_label\":\"Number of Suicides\",\"coordinates\":null,\"formatter\":{\"id\":\"4609\"},\"group\":null,\"major_label_policy\":{\"id\":\"4610\"},\"ticker\":{\"id\":\"4588\"}},\"id\":\"4587\",\"type\":\"LinearAxis\"},{\"attributes\":{\"callback\":null,\"renderers\":[{\"id\":\"4617\"}],\"tags\":[\"hv_created\"],\"tooltips\":[[\"Year\",\"@{Year}\"],[\"Number of Suicides\",\"@{Number_of_Suicides}\"]]},\"id\":\"4572\",\"type\":\"HoverTool\"},{\"attributes\":{},\"id\":\"4638\",\"type\":\"UnionRenderers\"},{\"attributes\":{\"fill_alpha\":{\"value\":0.2},\"fill_color\":{\"value\":\"#30a2da\"},\"hatch_alpha\":{\"value\":0.2},\"hatch_color\":{\"value\":\"#30a2da\"},\"line_alpha\":{\"value\":0.2},\"line_color\":{\"value\":\"#30a2da\"},\"size\":{\"value\":5.477225575051661},\"x\":{\"field\":\"Year\"},\"y\":{\"field\":\"Number of Suicides\"}},\"id\":\"4616\",\"type\":\"Scatter\"},{\"attributes\":{},\"id\":\"4581\",\"type\":\"LinearScale\"},{\"attributes\":{},\"id\":\"4607\",\"type\":\"AllLabels\"},{\"attributes\":{\"end\":2022.5428571428572,\"reset_end\":2022.5428571428572,\"reset_start\":1983.4571428571428,\"start\":1983.4571428571428,\"tags\":[[[\"Year\",\"Year\",null]]]},\"id\":\"4570\",\"type\":\"Range1d\"},{\"attributes\":{\"fill_color\":{\"value\":\"#30a2da\"},\"hatch_color\":{\"value\":\"#30a2da\"},\"line_color\":{\"value\":\"#30a2da\"},\"size\":{\"value\":5.477225575051661},\"x\":{\"field\":\"Year\"},\"y\":{\"field\":\"Number of Suicides\"}},\"id\":\"4614\",\"type\":\"Scatter\"},{\"attributes\":{\"children\":[{\"id\":\"4569\"},{\"id\":\"4574\"},{\"id\":\"4641\"}],\"margin\":[0,0,0,0],\"name\":\"Row06436\",\"tags\":[\"embedded\"]},\"id\":\"4568\",\"type\":\"Row\"},{\"attributes\":{\"source\":{\"id\":\"4611\"}},\"id\":\"4618\",\"type\":\"CDSView\"},{\"attributes\":{\"bottom_units\":\"screen\",\"coordinates\":null,\"fill_alpha\":0.5,\"fill_color\":\"lightgrey\",\"group\":null,\"left_units\":\"screen\",\"level\":\"overlay\",\"line_alpha\":1.0,\"line_color\":\"black\",\"line_dash\":[4,4],\"line_width\":2,\"right_units\":\"screen\",\"syncable\":false,\"top_units\":\"screen\"},\"id\":\"4596\",\"type\":\"BoxAnnotation\"},{\"attributes\":{\"below\":[{\"id\":\"4583\"}],\"center\":[{\"id\":\"4586\"},{\"id\":\"4590\"}],\"height\":300,\"left\":[{\"id\":\"4587\"}],\"margin\":[5,5,5,5],\"min_border_bottom\":10,\"min_border_left\":10,\"min_border_right\":10,\"min_border_top\":10,\"renderers\":[{\"id\":\"4617\"},{\"id\":\"4626\"}],\"sizing_mode\":\"fixed\",\"title\":{\"id\":\"4575\"},\"toolbar\":{\"id\":\"4597\"},\"width\":700,\"x_range\":{\"id\":\"4570\"},\"x_scale\":{\"id\":\"4579\"},\"y_range\":{\"id\":\"4571\"},\"y_scale\":{\"id\":\"4581\"}},\"id\":\"4574\",\"subtype\":\"Figure\",\"type\":\"Plot\"},{\"attributes\":{},\"id\":\"4636\",\"type\":\"UnionRenderers\"},{\"attributes\":{},\"id\":\"4592\",\"type\":\"PanTool\"},{\"attributes\":{\"coordinates\":null,\"data_source\":{\"id\":\"4611\"},\"glyph\":{\"id\":\"4614\"},\"group\":null,\"hover_glyph\":null,\"muted_glyph\":{\"id\":\"4616\"},\"nonselection_glyph\":{\"id\":\"4615\"},\"selection_glyph\":{\"id\":\"4619\"},\"view\":{\"id\":\"4618\"}},\"id\":\"4617\",\"type\":\"GlyphRenderer\"},{\"attributes\":{\"overlay\":{\"id\":\"4596\"}},\"id\":\"4594\",\"type\":\"BoxZoomTool\"},{\"attributes\":{\"end\":50522.951066856345,\"reset_end\":50522.951066856345,\"reset_start\":23727.538264580235,\"start\":23727.538264580235,\"tags\":[[[\"Number of Suicides\",\"Number of Suicides\",null]]]},\"id\":\"4571\",\"type\":\"Range1d\"},{\"attributes\":{\"fill_alpha\":{\"value\":0.1},\"fill_color\":{\"value\":\"#30a2da\"},\"hatch_alpha\":{\"value\":0.1},\"hatch_color\":{\"value\":\"#30a2da\"},\"line_alpha\":{\"value\":0.1},\"line_color\":{\"value\":\"#30a2da\"},\"size\":{\"value\":5.477225575051661},\"x\":{\"field\":\"Year\"},\"y\":{\"field\":\"Number of Suicides\"}},\"id\":\"4615\",\"type\":\"Scatter\"},{\"attributes\":{},\"id\":\"4591\",\"type\":\"SaveTool\"},{\"attributes\":{},\"id\":\"4610\",\"type\":\"AllLabels\"},{\"attributes\":{\"axis\":{\"id\":\"4587\"},\"coordinates\":null,\"dimension\":1,\"grid_line_color\":null,\"group\":null,\"ticker\":null},\"id\":\"4590\",\"type\":\"Grid\"},{\"attributes\":{\"coordinates\":null,\"data_source\":{\"id\":\"4620\"},\"glyph\":{\"id\":\"4623\"},\"group\":null,\"hover_glyph\":null,\"muted_glyph\":{\"id\":\"4625\"},\"nonselection_glyph\":{\"id\":\"4624\"},\"selection_glyph\":{\"id\":\"4628\"},\"view\":{\"id\":\"4627\"}},\"id\":\"4626\",\"type\":\"GlyphRenderer\"},{\"attributes\":{\"axis_label\":\"Year\",\"coordinates\":null,\"formatter\":{\"id\":\"4606\"},\"group\":null,\"major_label_orientation\":0.6457718232379019,\"major_label_policy\":{\"id\":\"4607\"},\"ticker\":{\"id\":\"4584\"}},\"id\":\"4583\",\"type\":\"LinearAxis\"},{\"attributes\":{\"line_color\":\"red\",\"line_width\":2,\"x\":{\"field\":\"Year\"},\"y\":{\"field\":\"Predicted Suicides\"}},\"id\":\"4623\",\"type\":\"Line\"},{\"attributes\":{},\"id\":\"4593\",\"type\":\"WheelZoomTool\"},{\"attributes\":{\"margin\":[5,5,5,5],\"name\":\"HSpacer06441\",\"sizing_mode\":\"stretch_width\"},\"id\":\"4641\",\"type\":\"Spacer\"},{\"attributes\":{},\"id\":\"4612\",\"type\":\"Selection\"},{\"attributes\":{\"coordinates\":null,\"group\":null,\"text_color\":\"black\",\"text_font_size\":\"12pt\"},\"id\":\"4575\",\"type\":\"Title\"},{\"attributes\":{\"angle\":{\"value\":0.0},\"fill_alpha\":{\"value\":1.0},\"fill_color\":{\"value\":\"#30a2da\"},\"hatch_alpha\":{\"value\":1.0},\"hatch_color\":{\"value\":\"#30a2da\"},\"hatch_scale\":{\"value\":12.0},\"hatch_weight\":{\"value\":1.0},\"line_alpha\":{\"value\":1.0},\"line_cap\":{\"value\":\"butt\"},\"line_color\":{\"value\":\"#30a2da\"},\"line_dash\":{\"value\":[]},\"line_dash_offset\":{\"value\":0},\"line_join\":{\"value\":\"bevel\"},\"line_width\":{\"value\":1},\"marker\":{\"value\":\"circle\"},\"size\":{\"value\":5.477225575051661},\"x\":{\"field\":\"Year\"},\"y\":{\"field\":\"Number of Suicides\"}},\"id\":\"4619\",\"type\":\"Scatter\"},{\"attributes\":{},\"id\":\"4609\",\"type\":\"BasicTickFormatter\"},{\"attributes\":{},\"id\":\"4595\",\"type\":\"ResetTool\"}],\"root_ids\":[\"4568\"]},\"title\":\"Bokeh Application\",\"version\":\"2.4.3\"}};\n",
       "    var render_items = [{\"docid\":\"d7b8d47a-845c-47a6-9f58-ed3dbf25b64d\",\"root_ids\":[\"4568\"],\"roots\":{\"4568\":\"bae28253-9805-470b-8490-584d51e672b6\"}}];\n",
       "    root.Bokeh.embed.embed_items_notebook(docs_json, render_items);\n",
       "  }\n",
       "  if (root.Bokeh !== undefined && root.Bokeh.Panel !== undefined) {\n",
       "    embed_document(root);\n",
       "  } else {\n",
       "    var attempts = 0;\n",
       "    var timer = setInterval(function(root) {\n",
       "      if (root.Bokeh !== undefined && root.Bokeh.Panel !== undefined) {\n",
       "        clearInterval(timer);\n",
       "        embed_document(root);\n",
       "      } else if (document.readyState == \"complete\") {\n",
       "        attempts++;\n",
       "        if (attempts > 200) {\n",
       "          clearInterval(timer);\n",
       "          console.log(\"Bokeh: ERROR: Unable to run BokehJS code because BokehJS library is missing\");\n",
       "        }\n",
       "      }\n",
       "    }, 25, root)\n",
       "  }\n",
       "})(window);</script>"
      ],
      "text/plain": [
       ":Overlay\n",
       "   .Scatter.I :Scatter   [Year]   (Number of Suicides)\n",
       "   .Curve.I   :Curve   [Year]   (Predicted Suicides)"
      ]
     },
     "execution_count": 50,
     "metadata": {
      "application/vnd.holoviews_exec.v0+json": {
       "id": "4568"
      }
     },
     "output_type": "execute_result"
    }
   ],
   "source": [
    "# Separate the features (Year) and target (Number of Suicides)\n",
    "X = us_suicides_total[[\"Year\"]]\n",
    "y = us_suicides_total[\"Number of Suicides\"]\n",
    "\n",
    "# Create and fit a linear regression model\n",
    "model = LinearRegression()\n",
    "model.fit(X, y)\n",
    "\n",
    "# Generate predictions using the fitted model\n",
    "y_pred = model.predict(X)\n",
    "\n",
    "# Create scatter plots using hvPlot\n",
    "scatter_actual = us_suicides_total.hvplot.scatter(\n",
    "    x=\"Year\", y=\"Number of Suicides\", rot=37\n",
    ")\n",
    "scatter_predicted = pd.DataFrame(\n",
    "    {\"Year\": us_suicides_total[\"Year\"], \"Predicted Suicides\": y_pred}\n",
    ").hvplot.line(x=\"Year\", y=\"Predicted Suicides\", color=\"red\")\n",
    "\n",
    "# Combine the scatter plots\n",
    "scatter_actual * scatter_predicted"
   ]
  },
  {
   "cell_type": "code",
   "execution_count": 51,
   "metadata": {},
   "outputs": [
    {
     "data": {
      "text/html": [
       "<div>\n",
       "<style scoped>\n",
       "    .dataframe tbody tr th:only-of-type {\n",
       "        vertical-align: middle;\n",
       "    }\n",
       "\n",
       "    .dataframe tbody tr th {\n",
       "        vertical-align: top;\n",
       "    }\n",
       "\n",
       "    .dataframe thead th {\n",
       "        text-align: right;\n",
       "    }\n",
       "</style>\n",
       "<table border=\"1\" class=\"dataframe\">\n",
       "  <thead>\n",
       "    <tr style=\"text-align: right;\">\n",
       "      <th></th>\n",
       "      <th>Month</th>\n",
       "      <th>Routed Calls</th>\n",
       "      <th>Routed Chats</th>\n",
       "      <th>Routed Texts</th>\n",
       "      <th>Total Routed</th>\n",
       "      <th>Total Answered Percentage</th>\n",
       "    </tr>\n",
       "  </thead>\n",
       "  <tbody>\n",
       "    <tr>\n",
       "      <th>10</th>\n",
       "      <td>July 2022</td>\n",
       "      <td>245905</td>\n",
       "      <td>75441</td>\n",
       "      <td>33279</td>\n",
       "      <td>354625</td>\n",
       "      <td>84</td>\n",
       "    </tr>\n",
       "    <tr>\n",
       "      <th>9</th>\n",
       "      <td>August 2022</td>\n",
       "      <td>256398</td>\n",
       "      <td>64115</td>\n",
       "      <td>40627</td>\n",
       "      <td>361140</td>\n",
       "      <td>88</td>\n",
       "    </tr>\n",
       "    <tr>\n",
       "      <th>8</th>\n",
       "      <td>September 2022</td>\n",
       "      <td>239135</td>\n",
       "      <td>66128</td>\n",
       "      <td>45366</td>\n",
       "      <td>350629</td>\n",
       "      <td>88</td>\n",
       "    </tr>\n",
       "    <tr>\n",
       "      <th>7</th>\n",
       "      <td>October 2022</td>\n",
       "      <td>230928</td>\n",
       "      <td>68425</td>\n",
       "      <td>49992</td>\n",
       "      <td>349345</td>\n",
       "      <td>91</td>\n",
       "    </tr>\n",
       "    <tr>\n",
       "      <th>6</th>\n",
       "      <td>November 2022</td>\n",
       "      <td>222285</td>\n",
       "      <td>72134</td>\n",
       "      <td>52922</td>\n",
       "      <td>347341</td>\n",
       "      <td>92</td>\n",
       "    </tr>\n",
       "    <tr>\n",
       "      <th>5</th>\n",
       "      <td>December 2022</td>\n",
       "      <td>241555</td>\n",
       "      <td>70616</td>\n",
       "      <td>59484</td>\n",
       "      <td>371655</td>\n",
       "      <td>91</td>\n",
       "    </tr>\n",
       "    <tr>\n",
       "      <th>4</th>\n",
       "      <td>January 2023</td>\n",
       "      <td>248634</td>\n",
       "      <td>71058</td>\n",
       "      <td>64379</td>\n",
       "      <td>384071</td>\n",
       "      <td>91</td>\n",
       "    </tr>\n",
       "    <tr>\n",
       "      <th>3</th>\n",
       "      <td>February 2023</td>\n",
       "      <td>226634</td>\n",
       "      <td>59225</td>\n",
       "      <td>60365</td>\n",
       "      <td>346224</td>\n",
       "      <td>92</td>\n",
       "    </tr>\n",
       "    <tr>\n",
       "      <th>2</th>\n",
       "      <td>March 2023</td>\n",
       "      <td>243417</td>\n",
       "      <td>61146</td>\n",
       "      <td>64259</td>\n",
       "      <td>371822</td>\n",
       "      <td>92</td>\n",
       "    </tr>\n",
       "    <tr>\n",
       "      <th>1</th>\n",
       "      <td>April 2023</td>\n",
       "      <td>242995</td>\n",
       "      <td>61082</td>\n",
       "      <td>64859</td>\n",
       "      <td>368936</td>\n",
       "      <td>92</td>\n",
       "    </tr>\n",
       "    <tr>\n",
       "      <th>0</th>\n",
       "      <td>May 2023</td>\n",
       "      <td>262920</td>\n",
       "      <td>68507</td>\n",
       "      <td>71067</td>\n",
       "      <td>402494</td>\n",
       "      <td>93</td>\n",
       "    </tr>\n",
       "  </tbody>\n",
       "</table>\n",
       "</div>"
      ],
      "text/plain": [
       "             Month  Routed Calls  Routed Chats  Routed Texts  Total Routed  \\\n",
       "10       July 2022        245905         75441         33279        354625   \n",
       "9      August 2022        256398         64115         40627        361140   \n",
       "8   September 2022        239135         66128         45366        350629   \n",
       "7     October 2022        230928         68425         49992        349345   \n",
       "6    November 2022        222285         72134         52922        347341   \n",
       "5    December 2022        241555         70616         59484        371655   \n",
       "4     January 2023        248634         71058         64379        384071   \n",
       "3    February 2023        226634         59225         60365        346224   \n",
       "2       March 2023        243417         61146         64259        371822   \n",
       "1       April 2023        242995         61082         64859        368936   \n",
       "0         May 2023        262920         68507         71067        402494   \n",
       "\n",
       "    Total Answered Percentage  \n",
       "10                         84  \n",
       "9                          88  \n",
       "8                          88  \n",
       "7                          91  \n",
       "6                          92  \n",
       "5                          91  \n",
       "4                          91  \n",
       "3                          92  \n",
       "2                          92  \n",
       "1                          92  \n",
       "0                          93  "
      ]
     },
     "execution_count": 51,
     "metadata": {},
     "output_type": "execute_result"
    }
   ],
   "source": [
    "metrics_988 = metrics_988.rename(columns={\"Unnamed: 0\": \"Month\"})\n",
    "metrics_988 = metrics_988.iloc[::-1]\n",
    "metrics_988"
   ]
  },
  {
   "cell_type": "code",
   "execution_count": 52,
   "metadata": {},
   "outputs": [
    {
     "data": {
      "text/plain": [
       "Month                        July 2022August 2022September 2022October 2022...\n",
       "Routed Calls                                                           2660806\n",
       "Routed Chats                                                            737877\n",
       "Routed Texts                                                            606599\n",
       "Total Routed                                                           4008282\n",
       "Total Answered Percentage                                                  994\n",
       "dtype: object"
      ]
     },
     "execution_count": 52,
     "metadata": {},
     "output_type": "execute_result"
    }
   ],
   "source": [
    "metrics_988.sum()\n",
    "# routed_calls_pct = (2660806 / 4008282) * 100\n",
    "# routed_chats_pct = (737877 / 4008282) * 100\n",
    "# routed_texts_pct = (606599 / 4008282) * 100\n",
    "\n",
    "# data988 = {\n",
    "#     \"Interaction Type\": [\"Routed Calls\", \"Routed Chats\", \"Routed Texts\"],\n",
    "#     \"Percentage\": [routed_calls_pct, routed_chats_pct, routed_texts_pct]\n",
    "# }\n",
    "\n",
    "# pct_988 = pd.DataFrame(data988)\n",
    "# # pct_988.to_csv(r\"../Resources/Clean/988_pcts.csv\")\n",
    "# pct_988"
   ]
  },
  {
   "cell_type": "code",
   "execution_count": 53,
   "metadata": {},
   "outputs": [
    {
     "data": {},
     "metadata": {},
     "output_type": "display_data"
    },
    {
     "data": {
      "application/vnd.holoviews_exec.v0+json": "",
      "text/html": [
       "<div id='4703'>\n",
       "  <div class=\"bk-root\" id=\"adfa98ad-0661-4d42-92db-0b8c89c10d4e\" data-root-id=\"4703\"></div>\n",
       "</div>\n",
       "<script type=\"application/javascript\">(function(root) {\n",
       "  function embed_document(root) {\n",
       "    var docs_json = {\"0111134b-8bc9-4f07-9849-eb73f197ab1a\":{\"defs\":[{\"extends\":null,\"module\":null,\"name\":\"ReactiveHTML1\",\"overrides\":[],\"properties\":[]},{\"extends\":null,\"module\":null,\"name\":\"FlexBox1\",\"overrides\":[],\"properties\":[{\"default\":\"flex-start\",\"kind\":null,\"name\":\"align_content\"},{\"default\":\"flex-start\",\"kind\":null,\"name\":\"align_items\"},{\"default\":\"row\",\"kind\":null,\"name\":\"flex_direction\"},{\"default\":\"wrap\",\"kind\":null,\"name\":\"flex_wrap\"},{\"default\":\"flex-start\",\"kind\":null,\"name\":\"justify_content\"}]},{\"extends\":null,\"module\":null,\"name\":\"GridStack1\",\"overrides\":[],\"properties\":[{\"default\":\"warn\",\"kind\":null,\"name\":\"mode\"},{\"default\":null,\"kind\":null,\"name\":\"ncols\"},{\"default\":null,\"kind\":null,\"name\":\"nrows\"},{\"default\":true,\"kind\":null,\"name\":\"allow_resize\"},{\"default\":true,\"kind\":null,\"name\":\"allow_drag\"},{\"default\":[],\"kind\":null,\"name\":\"state\"}]},{\"extends\":null,\"module\":null,\"name\":\"click1\",\"overrides\":[],\"properties\":[{\"default\":\"\",\"kind\":null,\"name\":\"terminal_output\"},{\"default\":\"\",\"kind\":null,\"name\":\"debug_name\"},{\"default\":0,\"kind\":null,\"name\":\"clears\"}]},{\"extends\":null,\"module\":null,\"name\":\"NotificationAreaBase1\",\"overrides\":[],\"properties\":[{\"default\":\"bottom-right\",\"kind\":null,\"name\":\"position\"},{\"default\":0,\"kind\":null,\"name\":\"_clear\"}]},{\"extends\":null,\"module\":null,\"name\":\"NotificationArea1\",\"overrides\":[],\"properties\":[{\"default\":[],\"kind\":null,\"name\":\"notifications\"},{\"default\":\"bottom-right\",\"kind\":null,\"name\":\"position\"},{\"default\":0,\"kind\":null,\"name\":\"_clear\"},{\"default\":[{\"background\":\"#ffc107\",\"icon\":{\"className\":\"fas fa-exclamation-triangle\",\"color\":\"white\",\"tagName\":\"i\"},\"type\":\"warning\"},{\"background\":\"#007bff\",\"icon\":{\"className\":\"fas fa-info-circle\",\"color\":\"white\",\"tagName\":\"i\"},\"type\":\"info\"}],\"kind\":null,\"name\":\"types\"}]},{\"extends\":null,\"module\":null,\"name\":\"Notification\",\"overrides\":[],\"properties\":[{\"default\":null,\"kind\":null,\"name\":\"background\"},{\"default\":3000,\"kind\":null,\"name\":\"duration\"},{\"default\":null,\"kind\":null,\"name\":\"icon\"},{\"default\":\"\",\"kind\":null,\"name\":\"message\"},{\"default\":null,\"kind\":null,\"name\":\"notification_type\"},{\"default\":false,\"kind\":null,\"name\":\"_destroyed\"}]},{\"extends\":null,\"module\":null,\"name\":\"TemplateActions1\",\"overrides\":[],\"properties\":[{\"default\":0,\"kind\":null,\"name\":\"open_modal\"},{\"default\":0,\"kind\":null,\"name\":\"close_modal\"}]},{\"extends\":null,\"module\":null,\"name\":\"MaterialTemplateActions1\",\"overrides\":[],\"properties\":[{\"default\":0,\"kind\":null,\"name\":\"open_modal\"},{\"default\":0,\"kind\":null,\"name\":\"close_modal\"}]}],\"roots\":{\"references\":[{\"attributes\":{\"data\":{\"x\":[\"July 2022\",\"August 2022\",\"September 2022\",\"October 2022\",\"November 2022\",\"December 2022\",\"January 2023\",\"February 2023\",\"March 2023\",\"April 2023\",\"May 2023\",\"May 2023\",\"April 2023\",\"March 2023\",\"February 2023\",\"January 2023\",\"December 2022\",\"November 2022\",\"October 2022\",\"September 2022\",\"August 2022\",\"July 2022\"],\"y\":[709250,722280,701258,698690,694682,743310,768142,692448,740644,737872,804988,805081,737964,740736,692540,768233,743401,694774,698781,701346,722368,709334]},\"selected\":{\"id\":\"4840\"},\"selection_policy\":{\"id\":\"4861\"}},\"id\":\"4839\",\"type\":\"ColumnDataSource\"},{\"attributes\":{\"fill_color\":\"#8b8b8b\",\"hatch_color\":\"#8b8b8b\",\"x\":{\"field\":\"x\"},\"y\":{\"field\":\"y\"}},\"id\":\"4842\",\"type\":\"Patch\"},{\"attributes\":{},\"id\":\"4730\",\"type\":\"WheelZoomTool\"},{\"attributes\":{\"fill_alpha\":0.2,\"fill_color\":\"#6d904f\",\"hatch_alpha\":0.2,\"hatch_color\":\"#6d904f\",\"line_alpha\":0.2,\"x\":{\"field\":\"x\"},\"y\":{\"field\":\"y\"}},\"id\":\"4819\",\"type\":\"Patch\"},{\"attributes\":{},\"id\":\"4732\",\"type\":\"ResetTool\"},{\"attributes\":{},\"id\":\"4786\",\"type\":\"UnionRenderers\"},{\"attributes\":{\"coordinates\":null,\"data_source\":{\"id\":\"4750\"},\"glyph\":{\"id\":\"4753\"},\"group\":null,\"hover_glyph\":null,\"muted_glyph\":{\"id\":\"4755\"},\"nonselection_glyph\":{\"id\":\"4754\"},\"selection_glyph\":{\"id\":\"4769\"},\"view\":{\"id\":\"4757\"}},\"id\":\"4756\",\"type\":\"GlyphRenderer\"},{\"attributes\":{\"fill_alpha\":1,\"fill_color\":\"#6d904f\",\"hatch_alpha\":0.1,\"hatch_color\":\"#6d904f\",\"line_alpha\":1,\"x\":{\"field\":\"x\"},\"y\":{\"field\":\"y\"}},\"id\":\"4818\",\"type\":\"Patch\"},{\"attributes\":{},\"id\":\"4751\",\"type\":\"Selection\"},{\"attributes\":{\"fill_color\":\"#e5ae38\",\"hatch_color\":\"#e5ae38\",\"x\":{\"field\":\"x\"},\"y\":{\"field\":\"y\"}},\"id\":\"4794\",\"type\":\"Patch\"},{\"attributes\":{\"data\":{\"x\":[\"July 2022\",\"August 2022\",\"September 2022\",\"October 2022\",\"November 2022\",\"December 2022\",\"January 2023\",\"February 2023\",\"March 2023\",\"April 2023\",\"May 2023\",\"May 2023\",\"April 2023\",\"March 2023\",\"February 2023\",\"January 2023\",\"December 2022\",\"November 2022\",\"October 2022\",\"September 2022\",\"August 2022\",\"July 2022\"],\"y\":[354625,361140,350629,349345,347341,371655,384071,346224,368822,368936,402494,804988,737872,740644,692448,768142,743310,694682,698690,701258,722280,709250]},\"selected\":{\"id\":\"4815\"},\"selection_policy\":{\"id\":\"4834\"}},\"id\":\"4814\",\"type\":\"ColumnDataSource\"},{\"attributes\":{\"fill_alpha\":0.2,\"fill_color\":\"#8b8b8b\",\"hatch_alpha\":0.2,\"hatch_color\":\"#8b8b8b\",\"line_alpha\":0.2,\"x\":{\"field\":\"x\"},\"y\":{\"field\":\"y\"}},\"id\":\"4844\",\"type\":\"Patch\"},{\"attributes\":{\"callback\":null,\"renderers\":[{\"id\":\"4756\"},{\"id\":\"4776\"},{\"id\":\"4797\"},{\"id\":\"4820\"},{\"id\":\"4845\"}],\"tags\":[\"hv_created\"],\"tooltips\":[[\"Variable\",\"@{Variable}\"],[\"Month\",\"@{Month}\"],[\"value\",\"@{value}\"],[\"Baseline\",\"@{Baseline}\"]]},\"id\":\"4707\",\"type\":\"HoverTool\"},{\"attributes\":{},\"id\":\"4771\",\"type\":\"Selection\"},{\"attributes\":{\"fill_alpha\":0.2,\"fill_color\":\"#fc4f30\",\"hatch_alpha\":0.2,\"hatch_color\":\"#fc4f30\",\"line_alpha\":0.2,\"x\":{\"field\":\"x\"},\"y\":{\"field\":\"y\"}},\"id\":\"4775\",\"type\":\"Patch\"},{\"attributes\":{\"children\":[{\"id\":\"4704\"},{\"id\":\"4712\"},{\"id\":\"4883\"}],\"margin\":[0,0,0,0],\"name\":\"Row06702\",\"tags\":[\"embedded\"]},\"id\":\"4703\",\"type\":\"Row\"},{\"attributes\":{\"fill_color\":\"#30a2da\",\"hatch_color\":\"#30a2da\",\"x\":{\"field\":\"x\"},\"y\":{\"field\":\"y\"}},\"id\":\"4753\",\"type\":\"Patch\"},{\"attributes\":{\"click_policy\":\"mute\",\"coordinates\":null,\"group\":null,\"items\":[{\"id\":\"4768\"},{\"id\":\"4789\"},{\"id\":\"4812\"},{\"id\":\"4837\"},{\"id\":\"4864\"}],\"location\":[0,0],\"title\":\"Variable\"},\"id\":\"4767\",\"type\":\"Legend\"},{\"attributes\":{\"margin\":[5,5,5,5],\"name\":\"HSpacer06706\",\"sizing_mode\":\"stretch_width\"},\"id\":\"4704\",\"type\":\"Spacer\"},{\"attributes\":{\"fill_color\":\"#6d904f\",\"hatch_color\":\"#6d904f\",\"x\":{\"field\":\"x\"},\"y\":{\"field\":\"y\"}},\"id\":\"4817\",\"type\":\"Patch\"},{\"attributes\":{},\"id\":\"4744\",\"type\":\"AllLabels\"},{\"attributes\":{\"axis_label\":\"Month\",\"coordinates\":null,\"formatter\":{\"id\":\"4743\"},\"group\":null,\"major_label_policy\":{\"id\":\"4744\"},\"ticker\":{\"id\":\"4722\"}},\"id\":\"4721\",\"type\":\"CategoricalAxis\"},{\"attributes\":{\"source\":{\"id\":\"4750\"}},\"id\":\"4757\",\"type\":\"CDSView\"},{\"attributes\":{\"fill_alpha\":1,\"fill_color\":\"#30a2da\",\"hatch_alpha\":0.1,\"hatch_color\":\"#30a2da\",\"line_alpha\":1,\"x\":{\"field\":\"x\"},\"y\":{\"field\":\"y\"}},\"id\":\"4754\",\"type\":\"Patch\"},{\"attributes\":{\"data\":{\"x\":[\"July 2022\",\"August 2022\",\"September 2022\",\"October 2022\",\"November 2022\",\"December 2022\",\"January 2023\",\"February 2023\",\"March 2023\",\"April 2023\",\"May 2023\",\"May 2023\",\"April 2023\",\"March 2023\",\"February 2023\",\"January 2023\",\"December 2022\",\"November 2022\",\"October 2022\",\"September 2022\",\"August 2022\",\"July 2022\"],\"y\":[0,0,0,0,0,0,0,0,0,0,0,262920,242995,243417,226634,248634,241555,222285,230928,239135,256398,245905]},\"selected\":{\"id\":\"4751\"},\"selection_policy\":{\"id\":\"4764\"}},\"id\":\"4750\",\"type\":\"ColumnDataSource\"},{\"attributes\":{\"label\":{\"value\":\"Routed Calls\"},\"renderers\":[{\"id\":\"4756\"}]},\"id\":\"4768\",\"type\":\"LegendItem\"},{\"attributes\":{},\"id\":\"4719\",\"type\":\"LinearScale\"},{\"attributes\":{\"coordinates\":null,\"data_source\":{\"id\":\"4814\"},\"glyph\":{\"id\":\"4817\"},\"group\":null,\"hover_glyph\":null,\"muted_glyph\":{\"id\":\"4819\"},\"nonselection_glyph\":{\"id\":\"4818\"},\"selection_glyph\":{\"id\":\"4838\"},\"view\":{\"id\":\"4821\"}},\"id\":\"4820\",\"type\":\"GlyphRenderer\"},{\"attributes\":{\"fill_color\":\"#30a2da\",\"hatch_color\":\"#30a2da\",\"x\":{\"field\":\"x\"},\"y\":{\"field\":\"y\"}},\"id\":\"4769\",\"type\":\"Patch\"},{\"attributes\":{\"format\":\"%.0f\"},\"id\":\"4741\",\"type\":\"PrintfTickFormatter\"},{\"attributes\":{\"margin\":[5,5,5,5],\"name\":\"HSpacer06707\",\"sizing_mode\":\"stretch_width\"},\"id\":\"4883\",\"type\":\"Spacer\"},{\"attributes\":{},\"id\":\"4809\",\"type\":\"UnionRenderers\"},{\"attributes\":{},\"id\":\"4743\",\"type\":\"CategoricalTickFormatter\"},{\"attributes\":{\"tools\":[{\"id\":\"4707\"},{\"id\":\"4728\"},{\"id\":\"4729\"},{\"id\":\"4730\"},{\"id\":\"4731\"},{\"id\":\"4732\"}]},\"id\":\"4734\",\"type\":\"Toolbar\"},{\"attributes\":{\"coordinates\":null,\"data_source\":{\"id\":\"4839\"},\"glyph\":{\"id\":\"4842\"},\"group\":null,\"hover_glyph\":null,\"muted_glyph\":{\"id\":\"4844\"},\"nonselection_glyph\":{\"id\":\"4843\"},\"selection_glyph\":{\"id\":\"4865\"},\"view\":{\"id\":\"4846\"}},\"id\":\"4845\",\"type\":\"GlyphRenderer\"},{\"attributes\":{\"fill_color\":\"#e5ae38\",\"hatch_color\":\"#e5ae38\",\"x\":{\"field\":\"x\"},\"y\":{\"field\":\"y\"}},\"id\":\"4813\",\"type\":\"Patch\"},{\"attributes\":{\"source\":{\"id\":\"4839\"}},\"id\":\"4846\",\"type\":\"CDSView\"},{\"attributes\":{},\"id\":\"4729\",\"type\":\"PanTool\"},{\"attributes\":{},\"id\":\"4834\",\"type\":\"UnionRenderers\"},{\"attributes\":{\"source\":{\"id\":\"4814\"}},\"id\":\"4821\",\"type\":\"CDSView\"},{\"attributes\":{\"axis\":{\"id\":\"4721\"},\"coordinates\":null,\"grid_line_color\":null,\"group\":null,\"ticker\":null},\"id\":\"4723\",\"type\":\"Grid\"},{\"attributes\":{},\"id\":\"4747\",\"type\":\"AllLabels\"},{\"attributes\":{\"fill_alpha\":0.2,\"fill_color\":\"#e5ae38\",\"hatch_alpha\":0.2,\"hatch_color\":\"#e5ae38\",\"line_alpha\":0.2,\"x\":{\"field\":\"x\"},\"y\":{\"field\":\"y\"}},\"id\":\"4796\",\"type\":\"Patch\"},{\"attributes\":{\"label\":{\"value\":\"Total Answered Percentage\"},\"renderers\":[{\"id\":\"4845\"}]},\"id\":\"4864\",\"type\":\"LegendItem\"},{\"attributes\":{\"overlay\":{\"id\":\"4733\"}},\"id\":\"4731\",\"type\":\"BoxZoomTool\"},{\"attributes\":{},\"id\":\"4717\",\"type\":\"CategoricalScale\"},{\"attributes\":{\"fill_alpha\":0.2,\"fill_color\":\"#30a2da\",\"hatch_alpha\":0.2,\"hatch_color\":\"#30a2da\",\"line_alpha\":0.2,\"x\":{\"field\":\"x\"},\"y\":{\"field\":\"y\"}},\"id\":\"4755\",\"type\":\"Patch\"},{\"attributes\":{\"coordinates\":null,\"group\":null,\"text_color\":\"black\",\"text_font_size\":\"12pt\"},\"id\":\"4713\",\"type\":\"Title\"},{\"attributes\":{\"bottom_units\":\"screen\",\"coordinates\":null,\"fill_alpha\":0.5,\"fill_color\":\"lightgrey\",\"group\":null,\"left_units\":\"screen\",\"level\":\"overlay\",\"line_alpha\":1.0,\"line_color\":\"black\",\"line_dash\":[4,4],\"line_width\":2,\"right_units\":\"screen\",\"syncable\":false,\"top_units\":\"screen\"},\"id\":\"4733\",\"type\":\"BoxAnnotation\"},{\"attributes\":{},\"id\":\"4728\",\"type\":\"SaveTool\"},{\"attributes\":{\"label\":{\"value\":\"Routed Chats\"},\"renderers\":[{\"id\":\"4776\"}]},\"id\":\"4789\",\"type\":\"LegendItem\"},{\"attributes\":{},\"id\":\"4840\",\"type\":\"Selection\"},{\"attributes\":{\"label\":{\"value\":\"Routed Texts\"},\"renderers\":[{\"id\":\"4797\"}]},\"id\":\"4812\",\"type\":\"LegendItem\"},{\"attributes\":{\"source\":{\"id\":\"4791\"}},\"id\":\"4798\",\"type\":\"CDSView\"},{\"attributes\":{\"fill_alpha\":1,\"fill_color\":\"#fc4f30\",\"hatch_alpha\":0.1,\"hatch_color\":\"#fc4f30\",\"line_alpha\":1,\"x\":{\"field\":\"x\"},\"y\":{\"field\":\"y\"}},\"id\":\"4774\",\"type\":\"Patch\"},{\"attributes\":{\"end\":885589.1,\"reset_end\":885589.1,\"reset_start\":-80508.1,\"start\":-80508.1,\"tags\":[[[\"value\",\"value\",null]]]},\"id\":\"4706\",\"type\":\"Range1d\"},{\"attributes\":{\"coordinates\":null,\"data_source\":{\"id\":\"4791\"},\"glyph\":{\"id\":\"4794\"},\"group\":null,\"hover_glyph\":null,\"muted_glyph\":{\"id\":\"4796\"},\"nonselection_glyph\":{\"id\":\"4795\"},\"selection_glyph\":{\"id\":\"4813\"},\"view\":{\"id\":\"4798\"}},\"id\":\"4797\",\"type\":\"GlyphRenderer\"},{\"attributes\":{\"label\":{\"value\":\"Total Routed\"},\"renderers\":[{\"id\":\"4820\"}]},\"id\":\"4837\",\"type\":\"LegendItem\"},{\"attributes\":{},\"id\":\"4815\",\"type\":\"Selection\"},{\"attributes\":{\"data\":{\"x\":[\"July 2022\",\"August 2022\",\"September 2022\",\"October 2022\",\"November 2022\",\"December 2022\",\"January 2023\",\"February 2023\",\"March 2023\",\"April 2023\",\"May 2023\",\"May 2023\",\"April 2023\",\"March 2023\",\"February 2023\",\"January 2023\",\"December 2022\",\"November 2022\",\"October 2022\",\"September 2022\",\"August 2022\",\"July 2022\"],\"y\":[321346,320513,305263,299353,294419,312171,319692,285859,304563,304077,331427,402494,368936,368822,346224,384071,371655,347341,349345,350629,361140,354625]},\"selected\":{\"id\":\"4792\"},\"selection_policy\":{\"id\":\"4809\"}},\"id\":\"4791\",\"type\":\"ColumnDataSource\"},{\"attributes\":{\"axis_label\":\"\",\"coordinates\":null,\"formatter\":{\"id\":\"4741\"},\"group\":null,\"major_label_policy\":{\"id\":\"4747\"},\"ticker\":{\"id\":\"4725\"}},\"id\":\"4724\",\"type\":\"LinearAxis\"},{\"attributes\":{\"fill_alpha\":1,\"fill_color\":\"#e5ae38\",\"hatch_alpha\":0.1,\"hatch_color\":\"#e5ae38\",\"line_alpha\":1,\"x\":{\"field\":\"x\"},\"y\":{\"field\":\"y\"}},\"id\":\"4795\",\"type\":\"Patch\"},{\"attributes\":{\"source\":{\"id\":\"4770\"}},\"id\":\"4777\",\"type\":\"CDSView\"},{\"attributes\":{},\"id\":\"4861\",\"type\":\"UnionRenderers\"},{\"attributes\":{\"coordinates\":null,\"data_source\":{\"id\":\"4770\"},\"glyph\":{\"id\":\"4773\"},\"group\":null,\"hover_glyph\":null,\"muted_glyph\":{\"id\":\"4775\"},\"nonselection_glyph\":{\"id\":\"4774\"},\"selection_glyph\":{\"id\":\"4790\"},\"view\":{\"id\":\"4777\"}},\"id\":\"4776\",\"type\":\"GlyphRenderer\"},{\"attributes\":{},\"id\":\"4722\",\"type\":\"CategoricalTicker\"},{\"attributes\":{\"fill_alpha\":1,\"fill_color\":\"#8b8b8b\",\"hatch_alpha\":0.1,\"hatch_color\":\"#8b8b8b\",\"line_alpha\":1,\"x\":{\"field\":\"x\"},\"y\":{\"field\":\"y\"}},\"id\":\"4843\",\"type\":\"Patch\"},{\"attributes\":{\"data\":{\"x\":[\"July 2022\",\"August 2022\",\"September 2022\",\"October 2022\",\"November 2022\",\"December 2022\",\"January 2023\",\"February 2023\",\"March 2023\",\"April 2023\",\"May 2023\",\"May 2023\",\"April 2023\",\"March 2023\",\"February 2023\",\"January 2023\",\"December 2022\",\"November 2022\",\"October 2022\",\"September 2022\",\"August 2022\",\"July 2022\"],\"y\":[245905,256398,239135,230928,222285,241555,248634,226634,243417,242995,262920,331427,304077,304563,285859,319692,312171,294419,299353,305263,320513,321346]},\"selected\":{\"id\":\"4771\"},\"selection_policy\":{\"id\":\"4786\"}},\"id\":\"4770\",\"type\":\"ColumnDataSource\"},{\"attributes\":{\"below\":[{\"id\":\"4721\"}],\"center\":[{\"id\":\"4723\"},{\"id\":\"4727\"}],\"height\":400,\"left\":[{\"id\":\"4724\"}],\"margin\":[5,5,5,5],\"min_border_bottom\":10,\"min_border_left\":10,\"min_border_right\":10,\"min_border_top\":10,\"renderers\":[{\"id\":\"4756\"},{\"id\":\"4776\"},{\"id\":\"4797\"},{\"id\":\"4820\"},{\"id\":\"4845\"}],\"right\":[{\"id\":\"4767\"}],\"sizing_mode\":\"fixed\",\"title\":{\"id\":\"4713\"},\"toolbar\":{\"id\":\"4734\"},\"width\":1200,\"x_range\":{\"id\":\"4705\"},\"x_scale\":{\"id\":\"4717\"},\"y_range\":{\"id\":\"4706\"},\"y_scale\":{\"id\":\"4719\"}},\"id\":\"4712\",\"subtype\":\"Figure\",\"type\":\"Plot\"},{\"attributes\":{},\"id\":\"4764\",\"type\":\"UnionRenderers\"},{\"attributes\":{\"factors\":[\"July 2022\",\"August 2022\",\"September 2022\",\"October 2022\",\"November 2022\",\"December 2022\",\"January 2023\",\"February 2023\",\"March 2023\",\"April 2023\",\"May 2023\"],\"tags\":[[[\"Month\",\"Month\",null]]]},\"id\":\"4705\",\"type\":\"FactorRange\"},{\"attributes\":{\"fill_color\":\"#8b8b8b\",\"hatch_color\":\"#8b8b8b\",\"x\":{\"field\":\"x\"},\"y\":{\"field\":\"y\"}},\"id\":\"4865\",\"type\":\"Patch\"},{\"attributes\":{\"fill_color\":\"#6d904f\",\"hatch_color\":\"#6d904f\",\"x\":{\"field\":\"x\"},\"y\":{\"field\":\"y\"}},\"id\":\"4838\",\"type\":\"Patch\"},{\"attributes\":{},\"id\":\"4792\",\"type\":\"Selection\"},{\"attributes\":{},\"id\":\"4725\",\"type\":\"BasicTicker\"},{\"attributes\":{\"fill_color\":\"#fc4f30\",\"hatch_color\":\"#fc4f30\",\"x\":{\"field\":\"x\"},\"y\":{\"field\":\"y\"}},\"id\":\"4790\",\"type\":\"Patch\"},{\"attributes\":{\"axis\":{\"id\":\"4724\"},\"coordinates\":null,\"dimension\":1,\"grid_line_color\":null,\"group\":null,\"ticker\":null},\"id\":\"4727\",\"type\":\"Grid\"},{\"attributes\":{\"fill_color\":\"#fc4f30\",\"hatch_color\":\"#fc4f30\",\"x\":{\"field\":\"x\"},\"y\":{\"field\":\"y\"}},\"id\":\"4773\",\"type\":\"Patch\"}],\"root_ids\":[\"4703\"]},\"title\":\"Bokeh Application\",\"version\":\"2.4.3\"}};\n",
       "    var render_items = [{\"docid\":\"0111134b-8bc9-4f07-9849-eb73f197ab1a\",\"root_ids\":[\"4703\"],\"roots\":{\"4703\":\"adfa98ad-0661-4d42-92db-0b8c89c10d4e\"}}];\n",
       "    root.Bokeh.embed.embed_items_notebook(docs_json, render_items);\n",
       "  }\n",
       "  if (root.Bokeh !== undefined && root.Bokeh.Panel !== undefined) {\n",
       "    embed_document(root);\n",
       "  } else {\n",
       "    var attempts = 0;\n",
       "    var timer = setInterval(function(root) {\n",
       "      if (root.Bokeh !== undefined && root.Bokeh.Panel !== undefined) {\n",
       "        clearInterval(timer);\n",
       "        embed_document(root);\n",
       "      } else if (document.readyState == \"complete\") {\n",
       "        attempts++;\n",
       "        if (attempts > 200) {\n",
       "          clearInterval(timer);\n",
       "          console.log(\"Bokeh: ERROR: Unable to run BokehJS code because BokehJS library is missing\");\n",
       "        }\n",
       "      }\n",
       "    }, 25, root)\n",
       "  }\n",
       "})(window);</script>"
      ],
      "text/plain": [
       ":NdOverlay   [Variable]\n",
       "   :Area   [Month]   (value,Baseline)"
      ]
     },
     "execution_count": 53,
     "metadata": {
      "application/vnd.holoviews_exec.v0+json": {
       "id": "4703"
      }
     },
     "output_type": "execute_result"
    }
   ],
   "source": [
    "metrics_988.hvplot.area(x=\"Month\", width=1200, height=400, yformatter='%.0f')"
   ]
  },
  {
   "cell_type": "code",
   "execution_count": 54,
   "metadata": {},
   "outputs": [
    {
     "data": {},
     "metadata": {},
     "output_type": "display_data"
    },
    {
     "data": {
      "application/vnd.holoviews_exec.v0+json": "",
      "text/html": [
       "<div id='4970'>\n",
       "  <div class=\"bk-root\" id=\"8ac2fe52-71d5-4441-a2dc-03d27de48511\" data-root-id=\"4970\"></div>\n",
       "</div>\n",
       "<script type=\"application/javascript\">(function(root) {\n",
       "  function embed_document(root) {\n",
       "    var docs_json = {\"8166678d-d95e-4b2a-a76a-d6b05bfbceb5\":{\"defs\":[{\"extends\":null,\"module\":null,\"name\":\"ReactiveHTML1\",\"overrides\":[],\"properties\":[]},{\"extends\":null,\"module\":null,\"name\":\"FlexBox1\",\"overrides\":[],\"properties\":[{\"default\":\"flex-start\",\"kind\":null,\"name\":\"align_content\"},{\"default\":\"flex-start\",\"kind\":null,\"name\":\"align_items\"},{\"default\":\"row\",\"kind\":null,\"name\":\"flex_direction\"},{\"default\":\"wrap\",\"kind\":null,\"name\":\"flex_wrap\"},{\"default\":\"flex-start\",\"kind\":null,\"name\":\"justify_content\"}]},{\"extends\":null,\"module\":null,\"name\":\"GridStack1\",\"overrides\":[],\"properties\":[{\"default\":\"warn\",\"kind\":null,\"name\":\"mode\"},{\"default\":null,\"kind\":null,\"name\":\"ncols\"},{\"default\":null,\"kind\":null,\"name\":\"nrows\"},{\"default\":true,\"kind\":null,\"name\":\"allow_resize\"},{\"default\":true,\"kind\":null,\"name\":\"allow_drag\"},{\"default\":[],\"kind\":null,\"name\":\"state\"}]},{\"extends\":null,\"module\":null,\"name\":\"click1\",\"overrides\":[],\"properties\":[{\"default\":\"\",\"kind\":null,\"name\":\"terminal_output\"},{\"default\":\"\",\"kind\":null,\"name\":\"debug_name\"},{\"default\":0,\"kind\":null,\"name\":\"clears\"}]},{\"extends\":null,\"module\":null,\"name\":\"NotificationAreaBase1\",\"overrides\":[],\"properties\":[{\"default\":\"bottom-right\",\"kind\":null,\"name\":\"position\"},{\"default\":0,\"kind\":null,\"name\":\"_clear\"}]},{\"extends\":null,\"module\":null,\"name\":\"NotificationArea1\",\"overrides\":[],\"properties\":[{\"default\":[],\"kind\":null,\"name\":\"notifications\"},{\"default\":\"bottom-right\",\"kind\":null,\"name\":\"position\"},{\"default\":0,\"kind\":null,\"name\":\"_clear\"},{\"default\":[{\"background\":\"#ffc107\",\"icon\":{\"className\":\"fas fa-exclamation-triangle\",\"color\":\"white\",\"tagName\":\"i\"},\"type\":\"warning\"},{\"background\":\"#007bff\",\"icon\":{\"className\":\"fas fa-info-circle\",\"color\":\"white\",\"tagName\":\"i\"},\"type\":\"info\"}],\"kind\":null,\"name\":\"types\"}]},{\"extends\":null,\"module\":null,\"name\":\"Notification\",\"overrides\":[],\"properties\":[{\"default\":null,\"kind\":null,\"name\":\"background\"},{\"default\":3000,\"kind\":null,\"name\":\"duration\"},{\"default\":null,\"kind\":null,\"name\":\"icon\"},{\"default\":\"\",\"kind\":null,\"name\":\"message\"},{\"default\":null,\"kind\":null,\"name\":\"notification_type\"},{\"default\":false,\"kind\":null,\"name\":\"_destroyed\"}]},{\"extends\":null,\"module\":null,\"name\":\"TemplateActions1\",\"overrides\":[],\"properties\":[{\"default\":0,\"kind\":null,\"name\":\"open_modal\"},{\"default\":0,\"kind\":null,\"name\":\"close_modal\"}]},{\"extends\":null,\"module\":null,\"name\":\"MaterialTemplateActions1\",\"overrides\":[],\"properties\":[{\"default\":0,\"kind\":null,\"name\":\"open_modal\"},{\"default\":0,\"kind\":null,\"name\":\"close_modal\"}]}],\"roots\":{\"references\":[{\"attributes\":{\"fill_color\":{\"value\":\"#30a2da\"},\"hatch_color\":{\"value\":\"#30a2da\"},\"line_color\":{\"value\":\"#30a2da\"},\"size\":{\"value\":5.477225575051661},\"x\":{\"field\":\"Year\"},\"y\":{\"field\":\"Suicides per 100k\"}},\"id\":\"5016\",\"type\":\"Scatter\"},{\"attributes\":{},\"id\":\"5008\",\"type\":\"BasicTickFormatter\"},{\"attributes\":{\"callback\":null,\"renderers\":[{\"id\":\"5028\"}],\"tags\":[\"hv_created\"],\"tooltips\":[[\"Year\",\"@{Year}\"],[\"Predicted Suicides\",\"@{Predicted_Suicides}\"]]},\"id\":\"4975\",\"type\":\"HoverTool\"},{\"attributes\":{},\"id\":\"5038\",\"type\":\"UnionRenderers\"},{\"attributes\":{\"data\":{\"Predicted Suicides\":{\"__ndarray__\":\"8LJ/TBm2YUBwPQrXo+thQADIlGEuIWJAkFIf7LhWYkAQ3al2Q4xiQKBnNAHOwWJAMPK+i1j3YkCwfEkW4yxjQEAH1KBtYmNA0JFeK/iXY0BQHOm1gs1jQOCmc0ANA2RAcDH+ypc4ZEDwu4hVIm5kQIBGE+Cso2RAENGdajfZZECQWyj1wQ5lQA==\",\"dtype\":\"float64\",\"order\":\"little\",\"shape\":[17]},\"Predicted_Suicides\":{\"__ndarray__\":\"8LJ/TBm2YUBwPQrXo+thQADIlGEuIWJAkFIf7LhWYkAQ3al2Q4xiQKBnNAHOwWJAMPK+i1j3YkCwfEkW4yxjQEAH1KBtYmNA0JFeK/iXY0BQHOm1gs1jQOCmc0ANA2RAcDH+ypc4ZEDwu4hVIm5kQIBGE+Cso2RAENGdajfZZECQWyj1wQ5lQA==\",\"dtype\":\"float64\",\"order\":\"little\",\"shape\":[17]},\"Year\":[1999,2000,2001,2002,2003,2004,2005,2006,2007,2008,2009,2010,2011,2012,2013,2014,2015]},\"selected\":{\"id\":\"5023\"},\"selection_policy\":{\"id\":\"5040\"}},\"id\":\"5022\",\"type\":\"ColumnDataSource\"},{\"attributes\":{\"line_color\":\"red\",\"line_width\":2,\"x\":{\"field\":\"Year\"},\"y\":{\"field\":\"Predicted Suicides\"}},\"id\":\"5030\",\"type\":\"Line\"},{\"attributes\":{},\"id\":\"5011\",\"type\":\"BasicTickFormatter\"},{\"attributes\":{},\"id\":\"5040\",\"type\":\"UnionRenderers\"},{\"attributes\":{\"fill_alpha\":{\"value\":0.1},\"fill_color\":{\"value\":\"#30a2da\"},\"hatch_alpha\":{\"value\":0.1},\"hatch_color\":{\"value\":\"#30a2da\"},\"line_alpha\":{\"value\":0.1},\"line_color\":{\"value\":\"#30a2da\"},\"size\":{\"value\":5.477225575051661},\"x\":{\"field\":\"Year\"},\"y\":{\"field\":\"Suicides per 100k\"}},\"id\":\"5017\",\"type\":\"Scatter\"},{\"attributes\":{},\"id\":\"4990\",\"type\":\"BasicTicker\"},{\"attributes\":{\"bottom_units\":\"screen\",\"coordinates\":null,\"fill_alpha\":0.5,\"fill_color\":\"lightgrey\",\"group\":null,\"left_units\":\"screen\",\"level\":\"overlay\",\"line_alpha\":1.0,\"line_color\":\"black\",\"line_dash\":[4,4],\"line_width\":2,\"right_units\":\"screen\",\"syncable\":false,\"top_units\":\"screen\"},\"id\":\"4998\",\"type\":\"BoxAnnotation\"},{\"attributes\":{},\"id\":\"4993\",\"type\":\"SaveTool\"},{\"attributes\":{\"coordinates\":null,\"group\":null,\"text_color\":\"black\",\"text_font_size\":\"12pt\"},\"id\":\"4977\",\"type\":\"Title\"},{\"attributes\":{},\"id\":\"4994\",\"type\":\"PanTool\"},{\"attributes\":{\"overlay\":{\"id\":\"4998\"}},\"id\":\"4996\",\"type\":\"BoxZoomTool\"},{\"attributes\":{\"angle\":{\"value\":0.0},\"fill_alpha\":{\"value\":1.0},\"fill_color\":{\"value\":\"#30a2da\"},\"hatch_alpha\":{\"value\":1.0},\"hatch_color\":{\"value\":\"#30a2da\"},\"hatch_scale\":{\"value\":12.0},\"hatch_weight\":{\"value\":1.0},\"line_alpha\":{\"value\":1.0},\"line_cap\":{\"value\":\"butt\"},\"line_color\":{\"value\":\"#30a2da\"},\"line_dash\":{\"value\":[]},\"line_dash_offset\":{\"value\":0},\"line_join\":{\"value\":\"bevel\"},\"line_width\":{\"value\":1},\"marker\":{\"value\":\"circle\"},\"size\":{\"value\":5.477225575051661},\"x\":{\"field\":\"Year\"},\"y\":{\"field\":\"Suicides per 100k\"}},\"id\":\"5021\",\"type\":\"Scatter\"},{\"attributes\":{},\"id\":\"4995\",\"type\":\"WheelZoomTool\"},{\"attributes\":{\"source\":{\"id\":\"5022\"}},\"id\":\"5029\",\"type\":\"CDSView\"},{\"attributes\":{\"source\":{\"id\":\"5013\"}},\"id\":\"5020\",\"type\":\"CDSView\"},{\"attributes\":{},\"id\":\"5012\",\"type\":\"AllLabels\"},{\"attributes\":{},\"id\":\"5023\",\"type\":\"Selection\"},{\"attributes\":{\"line_alpha\":0.1,\"line_color\":\"red\",\"line_width\":2,\"x\":{\"field\":\"Year\"},\"y\":{\"field\":\"Predicted Suicides\"}},\"id\":\"5026\",\"type\":\"Line\"},{\"attributes\":{\"line_alpha\":0.2,\"line_color\":\"red\",\"line_width\":2,\"x\":{\"field\":\"Year\"},\"y\":{\"field\":\"Predicted Suicides\"}},\"id\":\"5027\",\"type\":\"Line\"},{\"attributes\":{},\"id\":\"4986\",\"type\":\"BasicTicker\"},{\"attributes\":{\"line_color\":\"red\",\"line_width\":2,\"x\":{\"field\":\"Year\"},\"y\":{\"field\":\"Predicted Suicides\"}},\"id\":\"5025\",\"type\":\"Line\"},{\"attributes\":{},\"id\":\"4997\",\"type\":\"ResetTool\"},{\"attributes\":{},\"id\":\"4981\",\"type\":\"LinearScale\"},{\"attributes\":{\"tools\":[{\"id\":\"4974\"},{\"id\":\"4975\"},{\"id\":\"4993\"},{\"id\":\"4994\"},{\"id\":\"4995\"},{\"id\":\"4996\"},{\"id\":\"4997\"}]},\"id\":\"4999\",\"type\":\"Toolbar\"},{\"attributes\":{\"axis\":{\"id\":\"4985\"},\"coordinates\":null,\"grid_line_color\":null,\"group\":null,\"ticker\":null},\"id\":\"4988\",\"type\":\"Grid\"},{\"attributes\":{},\"id\":\"5014\",\"type\":\"Selection\"},{\"attributes\":{\"margin\":[5,5,5,5],\"name\":\"HSpacer06988\",\"sizing_mode\":\"stretch_width\"},\"id\":\"4971\",\"type\":\"Spacer\"},{\"attributes\":{},\"id\":\"4983\",\"type\":\"LinearScale\"},{\"attributes\":{\"data\":{\"Suicides per 100k\":{\"__ndarray__\":\"cT0K16PYYkDD9Shcj1JiQNejcD0Kh2JAcT0K16PAYkAUrkfhejRiQM3MzMzMXGJA9ihcj8JVYkBcj8L1KCRiQKRwPQrXo2JASOF6FK4nY0CuR+F6FEZjQBSuR+F63GNA7FG4HoVLZEAUrkfheqRkQD0K16Nw1WRAw/UoXI9qZUCF61G4Hu1lQA==\",\"dtype\":\"float64\",\"order\":\"little\",\"shape\":[17]},\"Suicides_per_100k\":{\"__ndarray__\":\"cT0K16PYYkDD9Shcj1JiQNejcD0Kh2JAcT0K16PAYkAUrkfhejRiQM3MzMzMXGJA9ihcj8JVYkBcj8L1KCRiQKRwPQrXo2JASOF6FK4nY0CuR+F6FEZjQBSuR+F63GNA7FG4HoVLZEAUrkfheqRkQD0K16Nw1WRAw/UoXI9qZUCF61G4Hu1lQA==\",\"dtype\":\"float64\",\"order\":\"little\",\"shape\":[17]},\"Year\":[1999,2000,2001,2002,2003,2004,2005,2006,2007,2008,2009,2010,2011,2012,2013,2014,2015]},\"selected\":{\"id\":\"5014\"},\"selection_policy\":{\"id\":\"5038\"}},\"id\":\"5013\",\"type\":\"ColumnDataSource\"},{\"attributes\":{\"axis_label\":\"Suicides per 100k\",\"coordinates\":null,\"formatter\":{\"id\":\"5011\"},\"group\":null,\"major_label_policy\":{\"id\":\"5012\"},\"ticker\":{\"id\":\"4990\"}},\"id\":\"4989\",\"type\":\"LinearAxis\"},{\"attributes\":{\"coordinates\":null,\"data_source\":{\"id\":\"5022\"},\"glyph\":{\"id\":\"5025\"},\"group\":null,\"hover_glyph\":null,\"muted_glyph\":{\"id\":\"5027\"},\"nonselection_glyph\":{\"id\":\"5026\"},\"selection_glyph\":{\"id\":\"5030\"},\"view\":{\"id\":\"5029\"}},\"id\":\"5028\",\"type\":\"GlyphRenderer\"},{\"attributes\":{\"end\":178.78194117647055,\"reset_end\":178.78194117647055,\"reset_start\":138.31864705882384,\"start\":138.31864705882384,\"tags\":[[[\"Suicides per 100k\",\"Suicides per 100k\",null]]]},\"id\":\"4973\",\"type\":\"Range1d\"},{\"attributes\":{\"axis_label\":\"Year\",\"coordinates\":null,\"formatter\":{\"id\":\"5008\"},\"group\":null,\"major_label_orientation\":0.6457718232379019,\"major_label_policy\":{\"id\":\"5009\"},\"ticker\":{\"id\":\"4986\"}},\"id\":\"4985\",\"type\":\"LinearAxis\"},{\"attributes\":{\"fill_alpha\":{\"value\":0.2},\"fill_color\":{\"value\":\"#30a2da\"},\"hatch_alpha\":{\"value\":0.2},\"hatch_color\":{\"value\":\"#30a2da\"},\"line_alpha\":{\"value\":0.2},\"line_color\":{\"value\":\"#30a2da\"},\"size\":{\"value\":5.477225575051661},\"x\":{\"field\":\"Year\"},\"y\":{\"field\":\"Suicides per 100k\"}},\"id\":\"5018\",\"type\":\"Scatter\"},{\"attributes\":{\"below\":[{\"id\":\"4985\"}],\"center\":[{\"id\":\"4988\"},{\"id\":\"4992\"}],\"height\":300,\"left\":[{\"id\":\"4989\"}],\"margin\":[5,5,5,5],\"min_border_bottom\":10,\"min_border_left\":10,\"min_border_right\":10,\"min_border_top\":10,\"renderers\":[{\"id\":\"5019\"},{\"id\":\"5028\"}],\"sizing_mode\":\"fixed\",\"title\":{\"id\":\"4977\"},\"toolbar\":{\"id\":\"4999\"},\"width\":700,\"x_range\":{\"id\":\"4972\"},\"x_scale\":{\"id\":\"4981\"},\"y_range\":{\"id\":\"4973\"},\"y_scale\":{\"id\":\"4983\"}},\"id\":\"4976\",\"subtype\":\"Figure\",\"type\":\"Plot\"},{\"attributes\":{},\"id\":\"5009\",\"type\":\"AllLabels\"},{\"attributes\":{\"coordinates\":null,\"data_source\":{\"id\":\"5013\"},\"glyph\":{\"id\":\"5016\"},\"group\":null,\"hover_glyph\":null,\"muted_glyph\":{\"id\":\"5018\"},\"nonselection_glyph\":{\"id\":\"5017\"},\"selection_glyph\":{\"id\":\"5021\"},\"view\":{\"id\":\"5020\"}},\"id\":\"5019\",\"type\":\"GlyphRenderer\"},{\"attributes\":{\"callback\":null,\"renderers\":[{\"id\":\"5019\"}],\"tags\":[\"hv_created\"],\"tooltips\":[[\"Year\",\"@{Year}\"],[\"Suicides per 100k\",\"@{Suicides_per_100k}\"]]},\"id\":\"4974\",\"type\":\"HoverTool\"},{\"attributes\":{\"children\":[{\"id\":\"4971\"},{\"id\":\"4976\"},{\"id\":\"5043\"}],\"margin\":[0,0,0,0],\"name\":\"Row06984\",\"tags\":[\"embedded\"]},\"id\":\"4970\",\"type\":\"Row\"},{\"attributes\":{\"axis\":{\"id\":\"4989\"},\"coordinates\":null,\"dimension\":1,\"grid_line_color\":null,\"group\":null,\"ticker\":null},\"id\":\"4992\",\"type\":\"Grid\"},{\"attributes\":{\"margin\":[5,5,5,5],\"name\":\"HSpacer06989\",\"sizing_mode\":\"stretch_width\"},\"id\":\"5043\",\"type\":\"Spacer\"},{\"attributes\":{\"end\":2015.6857142857143,\"reset_end\":2015.6857142857143,\"reset_start\":1998.3142857142857,\"start\":1998.3142857142857,\"tags\":[[[\"Year\",\"Year\",null]]]},\"id\":\"4972\",\"type\":\"Range1d\"}],\"root_ids\":[\"4970\"]},\"title\":\"Bokeh Application\",\"version\":\"2.4.3\"}};\n",
       "    var render_items = [{\"docid\":\"8166678d-d95e-4b2a-a76a-d6b05bfbceb5\",\"root_ids\":[\"4970\"],\"roots\":{\"4970\":\"8ac2fe52-71d5-4441-a2dc-03d27de48511\"}}];\n",
       "    root.Bokeh.embed.embed_items_notebook(docs_json, render_items);\n",
       "  }\n",
       "  if (root.Bokeh !== undefined && root.Bokeh.Panel !== undefined) {\n",
       "    embed_document(root);\n",
       "  } else {\n",
       "    var attempts = 0;\n",
       "    var timer = setInterval(function(root) {\n",
       "      if (root.Bokeh !== undefined && root.Bokeh.Panel !== undefined) {\n",
       "        clearInterval(timer);\n",
       "        embed_document(root);\n",
       "      } else if (document.readyState == \"complete\") {\n",
       "        attempts++;\n",
       "        if (attempts > 200) {\n",
       "          clearInterval(timer);\n",
       "          console.log(\"Bokeh: ERROR: Unable to run BokehJS code because BokehJS library is missing\");\n",
       "        }\n",
       "      }\n",
       "    }, 25, root)\n",
       "  }\n",
       "})(window);</script>"
      ],
      "text/plain": [
       ":Overlay\n",
       "   .Scatter.I :Scatter   [Year]   (Suicides per 100k)\n",
       "   .Curve.I   :Curve   [Year]   (Predicted Suicides)"
      ]
     },
     "execution_count": 54,
     "metadata": {
      "application/vnd.holoviews_exec.v0+json": {
       "id": "4970"
      }
     },
     "output_type": "execute_result"
    }
   ],
   "source": [
    "X = us_suicide_rates_99_16[[\"Year\"]]\n",
    "y = us_suicide_rates_99_16[\"Suicides per 100k\"]\n",
    "\n",
    "# Create and fit a linear regression model\n",
    "model = LinearRegression()\n",
    "model.fit(X, y)\n",
    "\n",
    "# Generate predictions using the fitted model\n",
    "y_pred = model.predict(X)\n",
    "\n",
    "# Create scatter plots using hvPlot\n",
    "scatter_actual = us_suicide_rates_99_16.hvplot.scatter(\n",
    "    x=\"Year\", y=\"Suicides per 100k\", rot=37\n",
    ")\n",
    "scatter_predicted = pd.DataFrame(\n",
    "    {\"Year\": us_suicide_rates_99_16[\"Year\"], \"Predicted Suicides\": y_pred}\n",
    ").hvplot.line(x=\"Year\", y=\"Predicted Suicides\", color=\"red\")\n",
    "\n",
    "# Combine the scatter plots\n",
    "scatter_actual * scatter_predicted"
   ]
  },
  {
   "cell_type": "code",
   "execution_count": 55,
   "metadata": {},
   "outputs": [],
   "source": [
    "us_suicides_master.drop([\"Unnamed: 0\"], axis=1, inplace=True)"
   ]
  },
  {
   "cell_type": "code",
   "execution_count": 56,
   "metadata": {},
   "outputs": [
    {
     "data": {
      "text/html": [
       "<div>\n",
       "<style scoped>\n",
       "    .dataframe tbody tr th:only-of-type {\n",
       "        vertical-align: middle;\n",
       "    }\n",
       "\n",
       "    .dataframe tbody tr th {\n",
       "        vertical-align: top;\n",
       "    }\n",
       "\n",
       "    .dataframe thead th {\n",
       "        text-align: right;\n",
       "    }\n",
       "</style>\n",
       "<table border=\"1\" class=\"dataframe\">\n",
       "  <thead>\n",
       "    <tr style=\"text-align: right;\">\n",
       "      <th></th>\n",
       "      <th>Year</th>\n",
       "      <th>Sex</th>\n",
       "      <th>Age</th>\n",
       "      <th>Number of Suicides</th>\n",
       "      <th>Suicides per 100k</th>\n",
       "      <th>GDP for Year ($)</th>\n",
       "      <th>GDP per Capita ($)</th>\n",
       "      <th>Generation</th>\n",
       "    </tr>\n",
       "    <tr>\n",
       "      <th>Country</th>\n",
       "      <th></th>\n",
       "      <th></th>\n",
       "      <th></th>\n",
       "      <th></th>\n",
       "      <th></th>\n",
       "      <th></th>\n",
       "      <th></th>\n",
       "      <th></th>\n",
       "    </tr>\n",
       "  </thead>\n",
       "  <tbody>\n",
       "    <tr>\n",
       "      <th>United States</th>\n",
       "      <td>1985</td>\n",
       "      <td>male</td>\n",
       "      <td>75+ years</td>\n",
       "      <td>2177</td>\n",
       "      <td>53.57</td>\n",
       "      <td>4,346,734,000,000</td>\n",
       "      <td>19693</td>\n",
       "      <td>G.I. Generation</td>\n",
       "    </tr>\n",
       "    <tr>\n",
       "      <th>United States</th>\n",
       "      <td>1985</td>\n",
       "      <td>male</td>\n",
       "      <td>55-74 years</td>\n",
       "      <td>5302</td>\n",
       "      <td>29.50</td>\n",
       "      <td>4,346,734,000,000</td>\n",
       "      <td>19693</td>\n",
       "      <td>G.I. Generation</td>\n",
       "    </tr>\n",
       "    <tr>\n",
       "      <th>United States</th>\n",
       "      <td>1985</td>\n",
       "      <td>male</td>\n",
       "      <td>25-34 years</td>\n",
       "      <td>5134</td>\n",
       "      <td>24.46</td>\n",
       "      <td>4,346,734,000,000</td>\n",
       "      <td>19693</td>\n",
       "      <td>Boomers</td>\n",
       "    </tr>\n",
       "    <tr>\n",
       "      <th>United States</th>\n",
       "      <td>1985</td>\n",
       "      <td>male</td>\n",
       "      <td>35-54 years</td>\n",
       "      <td>6053</td>\n",
       "      <td>22.77</td>\n",
       "      <td>4,346,734,000,000</td>\n",
       "      <td>19693</td>\n",
       "      <td>Silent</td>\n",
       "    </tr>\n",
       "    <tr>\n",
       "      <th>United States</th>\n",
       "      <td>1985</td>\n",
       "      <td>male</td>\n",
       "      <td>15-24 years</td>\n",
       "      <td>4267</td>\n",
       "      <td>21.38</td>\n",
       "      <td>4,346,734,000,000</td>\n",
       "      <td>19693</td>\n",
       "      <td>Generation X</td>\n",
       "    </tr>\n",
       "    <tr>\n",
       "      <th>...</th>\n",
       "      <td>...</td>\n",
       "      <td>...</td>\n",
       "      <td>...</td>\n",
       "      <td>...</td>\n",
       "      <td>...</td>\n",
       "      <td>...</td>\n",
       "      <td>...</td>\n",
       "      <td>...</td>\n",
       "    </tr>\n",
       "    <tr>\n",
       "      <th>United States</th>\n",
       "      <td>2015</td>\n",
       "      <td>female</td>\n",
       "      <td>25-34 years</td>\n",
       "      <td>1444</td>\n",
       "      <td>6.70</td>\n",
       "      <td>18,120,714,000,000</td>\n",
       "      <td>60387</td>\n",
       "      <td>Millenials</td>\n",
       "    </tr>\n",
       "    <tr>\n",
       "      <th>United States</th>\n",
       "      <td>2015</td>\n",
       "      <td>female</td>\n",
       "      <td>15-24 years</td>\n",
       "      <td>1132</td>\n",
       "      <td>5.23</td>\n",
       "      <td>18,120,714,000,000</td>\n",
       "      <td>60387</td>\n",
       "      <td>Millenials</td>\n",
       "    </tr>\n",
       "    <tr>\n",
       "      <th>United States</th>\n",
       "      <td>2015</td>\n",
       "      <td>female</td>\n",
       "      <td>75+ years</td>\n",
       "      <td>540</td>\n",
       "      <td>4.58</td>\n",
       "      <td>18,120,714,000,000</td>\n",
       "      <td>60387</td>\n",
       "      <td>Silent</td>\n",
       "    </tr>\n",
       "    <tr>\n",
       "      <th>United States</th>\n",
       "      <td>2015</td>\n",
       "      <td>male</td>\n",
       "      <td>5-14 years</td>\n",
       "      <td>255</td>\n",
       "      <td>1.20</td>\n",
       "      <td>18,120,714,000,000</td>\n",
       "      <td>60387</td>\n",
       "      <td>Generation Z</td>\n",
       "    </tr>\n",
       "    <tr>\n",
       "      <th>United States</th>\n",
       "      <td>2015</td>\n",
       "      <td>female</td>\n",
       "      <td>5-14 years</td>\n",
       "      <td>158</td>\n",
       "      <td>0.78</td>\n",
       "      <td>18,120,714,000,000</td>\n",
       "      <td>60387</td>\n",
       "      <td>Generation Z</td>\n",
       "    </tr>\n",
       "  </tbody>\n",
       "</table>\n",
       "<p>372 rows × 8 columns</p>\n",
       "</div>"
      ],
      "text/plain": [
       "               Year     Sex          Age  Number of Suicides  \\\n",
       "Country                                                        \n",
       "United States  1985    male    75+ years                2177   \n",
       "United States  1985    male  55-74 years                5302   \n",
       "United States  1985    male  25-34 years                5134   \n",
       "United States  1985    male  35-54 years                6053   \n",
       "United States  1985    male  15-24 years                4267   \n",
       "...             ...     ...          ...                 ...   \n",
       "United States  2015  female  25-34 years                1444   \n",
       "United States  2015  female  15-24 years                1132   \n",
       "United States  2015  female    75+ years                 540   \n",
       "United States  2015    male   5-14 years                 255   \n",
       "United States  2015  female   5-14 years                 158   \n",
       "\n",
       "               Suicides per 100k    GDP for Year ($)  GDP per Capita ($)  \\\n",
       "Country                                                                    \n",
       "United States              53.57   4,346,734,000,000               19693   \n",
       "United States              29.50   4,346,734,000,000               19693   \n",
       "United States              24.46   4,346,734,000,000               19693   \n",
       "United States              22.77   4,346,734,000,000               19693   \n",
       "United States              21.38   4,346,734,000,000               19693   \n",
       "...                          ...                 ...                 ...   \n",
       "United States               6.70  18,120,714,000,000               60387   \n",
       "United States               5.23  18,120,714,000,000               60387   \n",
       "United States               4.58  18,120,714,000,000               60387   \n",
       "United States               1.20  18,120,714,000,000               60387   \n",
       "United States               0.78  18,120,714,000,000               60387   \n",
       "\n",
       "                    Generation  \n",
       "Country                         \n",
       "United States  G.I. Generation  \n",
       "United States  G.I. Generation  \n",
       "United States          Boomers  \n",
       "United States           Silent  \n",
       "United States     Generation X  \n",
       "...                        ...  \n",
       "United States       Millenials  \n",
       "United States       Millenials  \n",
       "United States           Silent  \n",
       "United States     Generation Z  \n",
       "United States     Generation Z  \n",
       "\n",
       "[372 rows x 8 columns]"
      ]
     },
     "execution_count": 56,
     "metadata": {},
     "output_type": "execute_result"
    }
   ],
   "source": [
    "us_suicides_master.set_index(\"Country\")"
   ]
  },
  {
   "cell_type": "code",
   "execution_count": 57,
   "metadata": {},
   "outputs": [
    {
     "data": {},
     "metadata": {},
     "output_type": "display_data"
    },
    {
     "data": {
      "application/vnd.holoviews_exec.v0+json": "",
      "text/html": [
       "<div id='5105'>\n",
       "  <div class=\"bk-root\" id=\"830bc304-6a81-4d53-944c-61c56d1a8580\" data-root-id=\"5105\"></div>\n",
       "</div>\n",
       "<script type=\"application/javascript\">(function(root) {\n",
       "  function embed_document(root) {\n",
       "    var docs_json = {\"9fe86f90-7c6f-4576-beec-81241413e3cb\":{\"defs\":[{\"extends\":null,\"module\":null,\"name\":\"ReactiveHTML1\",\"overrides\":[],\"properties\":[]},{\"extends\":null,\"module\":null,\"name\":\"FlexBox1\",\"overrides\":[],\"properties\":[{\"default\":\"flex-start\",\"kind\":null,\"name\":\"align_content\"},{\"default\":\"flex-start\",\"kind\":null,\"name\":\"align_items\"},{\"default\":\"row\",\"kind\":null,\"name\":\"flex_direction\"},{\"default\":\"wrap\",\"kind\":null,\"name\":\"flex_wrap\"},{\"default\":\"flex-start\",\"kind\":null,\"name\":\"justify_content\"}]},{\"extends\":null,\"module\":null,\"name\":\"GridStack1\",\"overrides\":[],\"properties\":[{\"default\":\"warn\",\"kind\":null,\"name\":\"mode\"},{\"default\":null,\"kind\":null,\"name\":\"ncols\"},{\"default\":null,\"kind\":null,\"name\":\"nrows\"},{\"default\":true,\"kind\":null,\"name\":\"allow_resize\"},{\"default\":true,\"kind\":null,\"name\":\"allow_drag\"},{\"default\":[],\"kind\":null,\"name\":\"state\"}]},{\"extends\":null,\"module\":null,\"name\":\"click1\",\"overrides\":[],\"properties\":[{\"default\":\"\",\"kind\":null,\"name\":\"terminal_output\"},{\"default\":\"\",\"kind\":null,\"name\":\"debug_name\"},{\"default\":0,\"kind\":null,\"name\":\"clears\"}]},{\"extends\":null,\"module\":null,\"name\":\"NotificationAreaBase1\",\"overrides\":[],\"properties\":[{\"default\":\"bottom-right\",\"kind\":null,\"name\":\"position\"},{\"default\":0,\"kind\":null,\"name\":\"_clear\"}]},{\"extends\":null,\"module\":null,\"name\":\"NotificationArea1\",\"overrides\":[],\"properties\":[{\"default\":[],\"kind\":null,\"name\":\"notifications\"},{\"default\":\"bottom-right\",\"kind\":null,\"name\":\"position\"},{\"default\":0,\"kind\":null,\"name\":\"_clear\"},{\"default\":[{\"background\":\"#ffc107\",\"icon\":{\"className\":\"fas fa-exclamation-triangle\",\"color\":\"white\",\"tagName\":\"i\"},\"type\":\"warning\"},{\"background\":\"#007bff\",\"icon\":{\"className\":\"fas fa-info-circle\",\"color\":\"white\",\"tagName\":\"i\"},\"type\":\"info\"}],\"kind\":null,\"name\":\"types\"}]},{\"extends\":null,\"module\":null,\"name\":\"Notification\",\"overrides\":[],\"properties\":[{\"default\":null,\"kind\":null,\"name\":\"background\"},{\"default\":3000,\"kind\":null,\"name\":\"duration\"},{\"default\":null,\"kind\":null,\"name\":\"icon\"},{\"default\":\"\",\"kind\":null,\"name\":\"message\"},{\"default\":null,\"kind\":null,\"name\":\"notification_type\"},{\"default\":false,\"kind\":null,\"name\":\"_destroyed\"}]},{\"extends\":null,\"module\":null,\"name\":\"TemplateActions1\",\"overrides\":[],\"properties\":[{\"default\":0,\"kind\":null,\"name\":\"open_modal\"},{\"default\":0,\"kind\":null,\"name\":\"close_modal\"}]},{\"extends\":null,\"module\":null,\"name\":\"MaterialTemplateActions1\",\"overrides\":[],\"properties\":[{\"default\":0,\"kind\":null,\"name\":\"open_modal\"},{\"default\":0,\"kind\":null,\"name\":\"close_modal\"}]}],\"roots\":{\"references\":[{\"attributes\":{},\"id\":\"5160\",\"type\":\"NoOverlap\"},{\"attributes\":{},\"id\":\"5120\",\"type\":\"CategoricalTicker\"},{\"attributes\":{\"tools\":[{\"id\":\"5109\"},{\"id\":\"5125\"},{\"id\":\"5126\"},{\"id\":\"5127\"},{\"id\":\"5128\"},{\"id\":\"5129\"}]},\"id\":\"5131\",\"type\":\"Toolbar\"},{\"attributes\":{\"margin\":[5,5,5,5],\"name\":\"HSpacer07098\",\"sizing_mode\":\"stretch_width\"},\"id\":\"5167\",\"type\":\"Spacer\"},{\"attributes\":{},\"id\":\"5123\",\"type\":\"CategoricalTicker\"},{\"attributes\":{},\"id\":\"5151\",\"type\":\"CategoricalTickFormatter\"},{\"attributes\":{\"axis\":{\"id\":\"5122\"},\"coordinates\":null,\"dimension\":1,\"grid_line_color\":null,\"group\":null,\"ticker\":null},\"id\":\"5124\",\"type\":\"Grid\"},{\"attributes\":{},\"id\":\"5140\",\"type\":\"Selection\"},{\"attributes\":{\"factors\":[\"Jan\",\"Feb\",\"Mar\",\"Apr\",\"May\",\"Jun\",\"Jul\",\"Aug\",\"Sep\",\"Oct\",\"Nov\",\"Dec\"],\"tags\":[[[\"index\",\"index\",null]]]},\"id\":\"5108\",\"type\":\"FactorRange\"},{\"attributes\":{},\"id\":\"5152\",\"type\":\"AllLabels\"},{\"attributes\":{},\"id\":\"5148\",\"type\":\"BasicTicker\"},{\"attributes\":{\"above\":[{\"id\":\"5119\"}],\"below\":[],\"center\":[{\"id\":\"5121\"},{\"id\":\"5124\"}],\"height\":500,\"left\":[{\"id\":\"5122\"}],\"margin\":[5,5,5,5],\"min_border_bottom\":10,\"min_border_left\":10,\"min_border_right\":10,\"min_border_top\":10,\"renderers\":[{\"id\":\"5146\"}],\"right\":[{\"id\":\"5149\"}],\"sizing_mode\":\"fixed\",\"title\":{\"id\":\"5111\"},\"toolbar\":{\"id\":\"5131\"},\"width\":1000,\"x_range\":{\"id\":\"5107\"},\"x_scale\":{\"id\":\"5115\"},\"y_range\":{\"id\":\"5108\"},\"y_scale\":{\"id\":\"5117\"}},\"id\":\"5110\",\"subtype\":\"Figure\",\"type\":\"Plot\"},{\"attributes\":{\"source\":{\"id\":\"5139\"}},\"id\":\"5147\",\"type\":\"CDSView\"},{\"attributes\":{\"children\":[{\"id\":\"5106\"},{\"id\":\"5110\"},{\"id\":\"5167\"}],\"margin\":[0,0,0,0],\"name\":\"Row07093\",\"tags\":[\"embedded\"]},\"id\":\"5105\",\"type\":\"Row\"},{\"attributes\":{\"coordinates\":null,\"data_source\":{\"id\":\"5139\"},\"glyph\":{\"id\":\"5142\"},\"group\":null,\"hover_glyph\":null,\"muted_glyph\":{\"id\":\"5145\"},\"nonselection_glyph\":{\"id\":\"5143\"},\"selection_glyph\":{\"id\":\"5144\"},\"view\":{\"id\":\"5147\"}},\"id\":\"5146\",\"type\":\"GlyphRenderer\"},{\"attributes\":{\"high\":11.4,\"low\":2.4,\"nan_color\":\"white\",\"palette\":[\"#75968f\",\"#a5bab7\",\"#c9d9d3\",\"#e2e2e2\",\"#dfccce\",\"#ddb7b1\",\"#cc7878\",\"#933b41\",\"#550b1d\"]},\"id\":\"5138\",\"type\":\"LinearColorMapper\"},{\"attributes\":{\"fill_alpha\":{\"value\":0.2},\"fill_color\":{\"field\":\"zvalues\",\"transform\":{\"id\":\"5138\"}},\"hatch_alpha\":{\"value\":0.2},\"height\":{\"value\":1},\"line_alpha\":{\"value\":0},\"line_color\":{\"value\":\"#1f77b4\"},\"width\":{\"value\":1},\"x\":{\"field\":\"columns\"},\"y\":{\"field\":\"index\"}},\"id\":\"5145\",\"type\":\"Rect\"},{\"attributes\":{\"callback\":null,\"renderers\":[{\"id\":\"5146\"}],\"tags\":[\"hv_created\"],\"tooltips\":[[\"columns\",\"@{columns}\"],[\"index\",\"@{index}\"],[\"value\",\"@{value}\"]]},\"id\":\"5109\",\"type\":\"HoverTool\"},{\"attributes\":{},\"id\":\"5125\",\"type\":\"SaveTool\"},{\"attributes\":{},\"id\":\"5126\",\"type\":\"PanTool\"},{\"attributes\":{\"bar_line_color\":\"black\",\"color_mapper\":{\"id\":\"5138\"},\"coordinates\":null,\"group\":null,\"label_standoff\":8,\"location\":[0,0],\"major_label_policy\":{\"id\":\"5160\"},\"major_tick_line_color\":\"black\",\"ticker\":{\"id\":\"5148\"}},\"id\":\"5149\",\"type\":\"ColorBar\"},{\"attributes\":{\"fill_color\":{\"field\":\"zvalues\",\"transform\":{\"id\":\"5138\"}},\"height\":{\"value\":1},\"line_alpha\":{\"value\":0},\"line_color\":{\"value\":\"#1f77b4\"},\"width\":{\"value\":1},\"x\":{\"field\":\"columns\"},\"y\":{\"field\":\"index\"}},\"id\":\"5142\",\"type\":\"Rect\"},{\"attributes\":{},\"id\":\"5129\",\"type\":\"ResetTool\"},{\"attributes\":{},\"id\":\"5127\",\"type\":\"WheelZoomTool\"},{\"attributes\":{\"axis\":{\"id\":\"5119\"},\"coordinates\":null,\"grid_line_color\":null,\"group\":null,\"ticker\":null},\"id\":\"5121\",\"type\":\"Grid\"},{\"attributes\":{},\"id\":\"5164\",\"type\":\"UnionRenderers\"},{\"attributes\":{\"bottom_units\":\"screen\",\"coordinates\":null,\"fill_alpha\":0.5,\"fill_color\":\"lightgrey\",\"group\":null,\"left_units\":\"screen\",\"level\":\"overlay\",\"line_alpha\":1.0,\"line_color\":\"black\",\"line_dash\":[4,4],\"line_width\":2,\"right_units\":\"screen\",\"syncable\":false,\"top_units\":\"screen\"},\"id\":\"5130\",\"type\":\"BoxAnnotation\"},{\"attributes\":{\"overlay\":{\"id\":\"5130\"}},\"id\":\"5128\",\"type\":\"BoxZoomTool\"},{\"attributes\":{\"margin\":[5,5,5,5],\"name\":\"HSpacer07097\",\"sizing_mode\":\"stretch_width\"},\"id\":\"5106\",\"type\":\"Spacer\"},{\"attributes\":{\"coordinates\":null,\"group\":null,\"text\":\"US Unemployment 1948\\u20142016\",\"text_color\":\"black\",\"text_font_size\":\"10pt\"},\"id\":\"5111\",\"type\":\"Title\"},{\"attributes\":{\"fill_color\":{\"field\":\"zvalues\",\"transform\":{\"id\":\"5138\"}},\"height\":{\"value\":1},\"line_alpha\":{\"value\":0},\"line_color\":{\"value\":\"#1f77b4\"},\"width\":{\"value\":1},\"x\":{\"field\":\"columns\"},\"y\":{\"field\":\"index\"}},\"id\":\"5144\",\"type\":\"Rect\"},{\"attributes\":{},\"id\":\"5154\",\"type\":\"CategoricalTickFormatter\"},{\"attributes\":{\"fill_alpha\":{\"value\":0.1},\"fill_color\":{\"field\":\"zvalues\",\"transform\":{\"id\":\"5138\"}},\"hatch_alpha\":{\"value\":0.1},\"height\":{\"value\":1},\"line_alpha\":{\"value\":0},\"line_color\":{\"value\":\"#1f77b4\"},\"width\":{\"value\":1},\"x\":{\"field\":\"columns\"},\"y\":{\"field\":\"index\"}},\"id\":\"5143\",\"type\":\"Rect\"},{\"attributes\":{},\"id\":\"5115\",\"type\":\"CategoricalScale\"},{\"attributes\":{\"axis_label\":\"\",\"coordinates\":null,\"formatter\":{\"id\":\"5151\"},\"group\":null,\"group_text_font_size\":\"5pt\",\"major_label_orientation\":1.2217304763960306,\"major_label_policy\":{\"id\":\"5152\"},\"major_label_text_font_size\":\"5pt\",\"ticker\":{\"id\":\"5120\"}},\"id\":\"5119\",\"type\":\"CategoricalAxis\"},{\"attributes\":{\"data\":{\"columns\":[\"1948\",\"1948\",\"1948\",\"1948\",\"1948\",\"1948\",\"1948\",\"1948\",\"1948\",\"1948\",\"1948\",\"1948\",\"1949\",\"1949\",\"1949\",\"1949\",\"1949\",\"1949\",\"1949\",\"1949\",\"1949\",\"1949\",\"1949\",\"1949\",\"1950\",\"1950\",\"1950\",\"1950\",\"1950\",\"1950\",\"1950\",\"1950\",\"1950\",\"1950\",\"1950\",\"1950\",\"1951\",\"1951\",\"1951\",\"1951\",\"1951\",\"1951\",\"1951\",\"1951\",\"1951\",\"1951\",\"1951\",\"1951\",\"1952\",\"1952\",\"1952\",\"1952\",\"1952\",\"1952\",\"1952\",\"1952\",\"1952\",\"1952\",\"1952\",\"1952\",\"1953\",\"1953\",\"1953\",\"1953\",\"1953\",\"1953\",\"1953\",\"1953\",\"1953\",\"1953\",\"1953\",\"1953\",\"1954\",\"1954\",\"1954\",\"1954\",\"1954\",\"1954\",\"1954\",\"1954\",\"1954\",\"1954\",\"1954\",\"1954\",\"1955\",\"1955\",\"1955\",\"1955\",\"1955\",\"1955\",\"1955\",\"1955\",\"1955\",\"1955\",\"1955\",\"1955\",\"1956\",\"1956\",\"1956\",\"1956\",\"1956\",\"1956\",\"1956\",\"1956\",\"1956\",\"1956\",\"1956\",\"1956\",\"1957\",\"1957\",\"1957\",\"1957\",\"1957\",\"1957\",\"1957\",\"1957\",\"1957\",\"1957\",\"1957\",\"1957\",\"1958\",\"1958\",\"1958\",\"1958\",\"1958\",\"1958\",\"1958\",\"1958\",\"1958\",\"1958\",\"1958\",\"1958\",\"1959\",\"1959\",\"1959\",\"1959\",\"1959\",\"1959\",\"1959\",\"1959\",\"1959\",\"1959\",\"1959\",\"1959\",\"1960\",\"1960\",\"1960\",\"1960\",\"1960\",\"1960\",\"1960\",\"1960\",\"1960\",\"1960\",\"1960\",\"1960\",\"1961\",\"1961\",\"1961\",\"1961\",\"1961\",\"1961\",\"1961\",\"1961\",\"1961\",\"1961\",\"1961\",\"1961\",\"1962\",\"1962\",\"1962\",\"1962\",\"1962\",\"1962\",\"1962\",\"1962\",\"1962\",\"1962\",\"1962\",\"1962\",\"1963\",\"1963\",\"1963\",\"1963\",\"1963\",\"1963\",\"1963\",\"1963\",\"1963\",\"1963\",\"1963\",\"1963\",\"1964\",\"1964\",\"1964\",\"1964\",\"1964\",\"1964\",\"1964\",\"1964\",\"1964\",\"1964\",\"1964\",\"1964\",\"1965\",\"1965\",\"1965\",\"1965\",\"1965\",\"1965\",\"1965\",\"1965\",\"1965\",\"1965\",\"1965\",\"1965\",\"1966\",\"1966\",\"1966\",\"1966\",\"1966\",\"1966\",\"1966\",\"1966\",\"1966\",\"1966\",\"1966\",\"1966\",\"1967\",\"1967\",\"1967\",\"1967\",\"1967\",\"1967\",\"1967\",\"1967\",\"1967\",\"1967\",\"1967\",\"1967\",\"1968\",\"1968\",\"1968\",\"1968\",\"1968\",\"1968\",\"1968\",\"1968\",\"1968\",\"1968\",\"1968\",\"1968\",\"1969\",\"1969\",\"1969\",\"1969\",\"1969\",\"1969\",\"1969\",\"1969\",\"1969\",\"1969\",\"1969\",\"1969\",\"1970\",\"1970\",\"1970\",\"1970\",\"1970\",\"1970\",\"1970\",\"1970\",\"1970\",\"1970\",\"1970\",\"1970\",\"1971\",\"1971\",\"1971\",\"1971\",\"1971\",\"1971\",\"1971\",\"1971\",\"1971\",\"1971\",\"1971\",\"1971\",\"1972\",\"1972\",\"1972\",\"1972\",\"1972\",\"1972\",\"1972\",\"1972\",\"1972\",\"1972\",\"1972\",\"1972\",\"1973\",\"1973\",\"1973\",\"1973\",\"1973\",\"1973\",\"1973\",\"1973\",\"1973\",\"1973\",\"1973\",\"1973\",\"1974\",\"1974\",\"1974\",\"1974\",\"1974\",\"1974\",\"1974\",\"1974\",\"1974\",\"1974\",\"1974\",\"1974\",\"1975\",\"1975\",\"1975\",\"1975\",\"1975\",\"1975\",\"1975\",\"1975\",\"1975\",\"1975\",\"1975\",\"1975\",\"1976\",\"1976\",\"1976\",\"1976\",\"1976\",\"1976\",\"1976\",\"1976\",\"1976\",\"1976\",\"1976\",\"1976\",\"1977\",\"1977\",\"1977\",\"1977\",\"1977\",\"1977\",\"1977\",\"1977\",\"1977\",\"1977\",\"1977\",\"1977\",\"1978\",\"1978\",\"1978\",\"1978\",\"1978\",\"1978\",\"1978\",\"1978\",\"1978\",\"1978\",\"1978\",\"1978\",\"1979\",\"1979\",\"1979\",\"1979\",\"1979\",\"1979\",\"1979\",\"1979\",\"1979\",\"1979\",\"1979\",\"1979\",\"1980\",\"1980\",\"1980\",\"1980\",\"1980\",\"1980\",\"1980\",\"1980\",\"1980\",\"1980\",\"1980\",\"1980\",\"1981\",\"1981\",\"1981\",\"1981\",\"1981\",\"1981\",\"1981\",\"1981\",\"1981\",\"1981\",\"1981\",\"1981\",\"1982\",\"1982\",\"1982\",\"1982\",\"1982\",\"1982\",\"1982\",\"1982\",\"1982\",\"1982\",\"1982\",\"1982\",\"1983\",\"1983\",\"1983\",\"1983\",\"1983\",\"1983\",\"1983\",\"1983\",\"1983\",\"1983\",\"1983\",\"1983\",\"1984\",\"1984\",\"1984\",\"1984\",\"1984\",\"1984\",\"1984\",\"1984\",\"1984\",\"1984\",\"1984\",\"1984\",\"1985\",\"1985\",\"1985\",\"1985\",\"1985\",\"1985\",\"1985\",\"1985\",\"1985\",\"1985\",\"1985\",\"1985\",\"1986\",\"1986\",\"1986\",\"1986\",\"1986\",\"1986\",\"1986\",\"1986\",\"1986\",\"1986\",\"1986\",\"1986\",\"1987\",\"1987\",\"1987\",\"1987\",\"1987\",\"1987\",\"1987\",\"1987\",\"1987\",\"1987\",\"1987\",\"1987\",\"1988\",\"1988\",\"1988\",\"1988\",\"1988\",\"1988\",\"1988\",\"1988\",\"1988\",\"1988\",\"1988\",\"1988\",\"1989\",\"1989\",\"1989\",\"1989\",\"1989\",\"1989\",\"1989\",\"1989\",\"1989\",\"1989\",\"1989\",\"1989\",\"1990\",\"1990\",\"1990\",\"1990\",\"1990\",\"1990\",\"1990\",\"1990\",\"1990\",\"1990\",\"1990\",\"1990\",\"1991\",\"1991\",\"1991\",\"1991\",\"1991\",\"1991\",\"1991\",\"1991\",\"1991\",\"1991\",\"1991\",\"1991\",\"1992\",\"1992\",\"1992\",\"1992\",\"1992\",\"1992\",\"1992\",\"1992\",\"1992\",\"1992\",\"1992\",\"1992\",\"1993\",\"1993\",\"1993\",\"1993\",\"1993\",\"1993\",\"1993\",\"1993\",\"1993\",\"1993\",\"1993\",\"1993\",\"1994\",\"1994\",\"1994\",\"1994\",\"1994\",\"1994\",\"1994\",\"1994\",\"1994\",\"1994\",\"1994\",\"1994\",\"1995\",\"1995\",\"1995\",\"1995\",\"1995\",\"1995\",\"1995\",\"1995\",\"1995\",\"1995\",\"1995\",\"1995\",\"1996\",\"1996\",\"1996\",\"1996\",\"1996\",\"1996\",\"1996\",\"1996\",\"1996\",\"1996\",\"1996\",\"1996\",\"1997\",\"1997\",\"1997\",\"1997\",\"1997\",\"1997\",\"1997\",\"1997\",\"1997\",\"1997\",\"1997\",\"1997\",\"1998\",\"1998\",\"1998\",\"1998\",\"1998\",\"1998\",\"1998\",\"1998\",\"1998\",\"1998\",\"1998\",\"1998\",\"1999\",\"1999\",\"1999\",\"1999\",\"1999\",\"1999\",\"1999\",\"1999\",\"1999\",\"1999\",\"1999\",\"1999\",\"2000\",\"2000\",\"2000\",\"2000\",\"2000\",\"2000\",\"2000\",\"2000\",\"2000\",\"2000\",\"2000\",\"2000\",\"2001\",\"2001\",\"2001\",\"2001\",\"2001\",\"2001\",\"2001\",\"2001\",\"2001\",\"2001\",\"2001\",\"2001\",\"2002\",\"2002\",\"2002\",\"2002\",\"2002\",\"2002\",\"2002\",\"2002\",\"2002\",\"2002\",\"2002\",\"2002\",\"2003\",\"2003\",\"2003\",\"2003\",\"2003\",\"2003\",\"2003\",\"2003\",\"2003\",\"2003\",\"2003\",\"2003\",\"2004\",\"2004\",\"2004\",\"2004\",\"2004\",\"2004\",\"2004\",\"2004\",\"2004\",\"2004\",\"2004\",\"2004\",\"2005\",\"2005\",\"2005\",\"2005\",\"2005\",\"2005\",\"2005\",\"2005\",\"2005\",\"2005\",\"2005\",\"2005\",\"2006\",\"2006\",\"2006\",\"2006\",\"2006\",\"2006\",\"2006\",\"2006\",\"2006\",\"2006\",\"2006\",\"2006\",\"2007\",\"2007\",\"2007\",\"2007\",\"2007\",\"2007\",\"2007\",\"2007\",\"2007\",\"2007\",\"2007\",\"2007\",\"2008\",\"2008\",\"2008\",\"2008\",\"2008\",\"2008\",\"2008\",\"2008\",\"2008\",\"2008\",\"2008\",\"2008\",\"2009\",\"2009\",\"2009\",\"2009\",\"2009\",\"2009\",\"2009\",\"2009\",\"2009\",\"2009\",\"2009\",\"2009\",\"2010\",\"2010\",\"2010\",\"2010\",\"2010\",\"2010\",\"2010\",\"2010\",\"2010\",\"2010\",\"2010\",\"2010\",\"2011\",\"2011\",\"2011\",\"2011\",\"2011\",\"2011\",\"2011\",\"2011\",\"2011\",\"2011\",\"2011\",\"2011\",\"2012\",\"2012\",\"2012\",\"2012\",\"2012\",\"2012\",\"2012\",\"2012\",\"2012\",\"2012\",\"2012\",\"2012\",\"2013\",\"2013\",\"2013\",\"2013\",\"2013\",\"2013\",\"2013\",\"2013\",\"2013\",\"2013\",\"2013\",\"2013\",\"2014\",\"2014\",\"2014\",\"2014\",\"2014\",\"2014\",\"2014\",\"2014\",\"2014\",\"2014\",\"2014\",\"2014\",\"2015\",\"2015\",\"2015\",\"2015\",\"2015\",\"2015\",\"2015\",\"2015\",\"2015\",\"2015\",\"2015\",\"2015\",\"2016\",\"2016\",\"2016\",\"2016\",\"2016\",\"2016\",\"2016\",\"2016\",\"2016\",\"2016\",\"2016\",\"2016\"],\"index\":[\"Jan\",\"Feb\",\"Mar\",\"Apr\",\"May\",\"Jun\",\"Jul\",\"Aug\",\"Sep\",\"Oct\",\"Nov\",\"Dec\",\"Jan\",\"Feb\",\"Mar\",\"Apr\",\"May\",\"Jun\",\"Jul\",\"Aug\",\"Sep\",\"Oct\",\"Nov\",\"Dec\",\"Jan\",\"Feb\",\"Mar\",\"Apr\",\"May\",\"Jun\",\"Jul\",\"Aug\",\"Sep\",\"Oct\",\"Nov\",\"Dec\",\"Jan\",\"Feb\",\"Mar\",\"Apr\",\"May\",\"Jun\",\"Jul\",\"Aug\",\"Sep\",\"Oct\",\"Nov\",\"Dec\",\"Jan\",\"Feb\",\"Mar\",\"Apr\",\"May\",\"Jun\",\"Jul\",\"Aug\",\"Sep\",\"Oct\",\"Nov\",\"Dec\",\"Jan\",\"Feb\",\"Mar\",\"Apr\",\"May\",\"Jun\",\"Jul\",\"Aug\",\"Sep\",\"Oct\",\"Nov\",\"Dec\",\"Jan\",\"Feb\",\"Mar\",\"Apr\",\"May\",\"Jun\",\"Jul\",\"Aug\",\"Sep\",\"Oct\",\"Nov\",\"Dec\",\"Jan\",\"Feb\",\"Mar\",\"Apr\",\"May\",\"Jun\",\"Jul\",\"Aug\",\"Sep\",\"Oct\",\"Nov\",\"Dec\",\"Jan\",\"Feb\",\"Mar\",\"Apr\",\"May\",\"Jun\",\"Jul\",\"Aug\",\"Sep\",\"Oct\",\"Nov\",\"Dec\",\"Jan\",\"Feb\",\"Mar\",\"Apr\",\"May\",\"Jun\",\"Jul\",\"Aug\",\"Sep\",\"Oct\",\"Nov\",\"Dec\",\"Jan\",\"Feb\",\"Mar\",\"Apr\",\"May\",\"Jun\",\"Jul\",\"Aug\",\"Sep\",\"Oct\",\"Nov\",\"Dec\",\"Jan\",\"Feb\",\"Mar\",\"Apr\",\"May\",\"Jun\",\"Jul\",\"Aug\",\"Sep\",\"Oct\",\"Nov\",\"Dec\",\"Jan\",\"Feb\",\"Mar\",\"Apr\",\"May\",\"Jun\",\"Jul\",\"Aug\",\"Sep\",\"Oct\",\"Nov\",\"Dec\",\"Jan\",\"Feb\",\"Mar\",\"Apr\",\"May\",\"Jun\",\"Jul\",\"Aug\",\"Sep\",\"Oct\",\"Nov\",\"Dec\",\"Jan\",\"Feb\",\"Mar\",\"Apr\",\"May\",\"Jun\",\"Jul\",\"Aug\",\"Sep\",\"Oct\",\"Nov\",\"Dec\",\"Jan\",\"Feb\",\"Mar\",\"Apr\",\"May\",\"Jun\",\"Jul\",\"Aug\",\"Sep\",\"Oct\",\"Nov\",\"Dec\",\"Jan\",\"Feb\",\"Mar\",\"Apr\",\"May\",\"Jun\",\"Jul\",\"Aug\",\"Sep\",\"Oct\",\"Nov\",\"Dec\",\"Jan\",\"Feb\",\"Mar\",\"Apr\",\"May\",\"Jun\",\"Jul\",\"Aug\",\"Sep\",\"Oct\",\"Nov\",\"Dec\",\"Jan\",\"Feb\",\"Mar\",\"Apr\",\"May\",\"Jun\",\"Jul\",\"Aug\",\"Sep\",\"Oct\",\"Nov\",\"Dec\",\"Jan\",\"Feb\",\"Mar\",\"Apr\",\"May\",\"Jun\",\"Jul\",\"Aug\",\"Sep\",\"Oct\",\"Nov\",\"Dec\",\"Jan\",\"Feb\",\"Mar\",\"Apr\",\"May\",\"Jun\",\"Jul\",\"Aug\",\"Sep\",\"Oct\",\"Nov\",\"Dec\",\"Jan\",\"Feb\",\"Mar\",\"Apr\",\"May\",\"Jun\",\"Jul\",\"Aug\",\"Sep\",\"Oct\",\"Nov\",\"Dec\",\"Jan\",\"Feb\",\"Mar\",\"Apr\",\"May\",\"Jun\",\"Jul\",\"Aug\",\"Sep\",\"Oct\",\"Nov\",\"Dec\",\"Jan\",\"Feb\",\"Mar\",\"Apr\",\"May\",\"Jun\",\"Jul\",\"Aug\",\"Sep\",\"Oct\",\"Nov\",\"Dec\",\"Jan\",\"Feb\",\"Mar\",\"Apr\",\"May\",\"Jun\",\"Jul\",\"Aug\",\"Sep\",\"Oct\",\"Nov\",\"Dec\",\"Jan\",\"Feb\",\"Mar\",\"Apr\",\"May\",\"Jun\",\"Jul\",\"Aug\",\"Sep\",\"Oct\",\"Nov\",\"Dec\",\"Jan\",\"Feb\",\"Mar\",\"Apr\",\"May\",\"Jun\",\"Jul\",\"Aug\",\"Sep\",\"Oct\",\"Nov\",\"Dec\",\"Jan\",\"Feb\",\"Mar\",\"Apr\",\"May\",\"Jun\",\"Jul\",\"Aug\",\"Sep\",\"Oct\",\"Nov\",\"Dec\",\"Jan\",\"Feb\",\"Mar\",\"Apr\",\"May\",\"Jun\",\"Jul\",\"Aug\",\"Sep\",\"Oct\",\"Nov\",\"Dec\",\"Jan\",\"Feb\",\"Mar\",\"Apr\",\"May\",\"Jun\",\"Jul\",\"Aug\",\"Sep\",\"Oct\",\"Nov\",\"Dec\",\"Jan\",\"Feb\",\"Mar\",\"Apr\",\"May\",\"Jun\",\"Jul\",\"Aug\",\"Sep\",\"Oct\",\"Nov\",\"Dec\",\"Jan\",\"Feb\",\"Mar\",\"Apr\",\"May\",\"Jun\",\"Jul\",\"Aug\",\"Sep\",\"Oct\",\"Nov\",\"Dec\",\"Jan\",\"Feb\",\"Mar\",\"Apr\",\"May\",\"Jun\",\"Jul\",\"Aug\",\"Sep\",\"Oct\",\"Nov\",\"Dec\",\"Jan\",\"Feb\",\"Mar\",\"Apr\",\"May\",\"Jun\",\"Jul\",\"Aug\",\"Sep\",\"Oct\",\"Nov\",\"Dec\",\"Jan\",\"Feb\",\"Mar\",\"Apr\",\"May\",\"Jun\",\"Jul\",\"Aug\",\"Sep\",\"Oct\",\"Nov\",\"Dec\",\"Jan\",\"Feb\",\"Mar\",\"Apr\",\"May\",\"Jun\",\"Jul\",\"Aug\",\"Sep\",\"Oct\",\"Nov\",\"Dec\",\"Jan\",\"Feb\",\"Mar\",\"Apr\",\"May\",\"Jun\",\"Jul\",\"Aug\",\"Sep\",\"Oct\",\"Nov\",\"Dec\",\"Jan\",\"Feb\",\"Mar\",\"Apr\",\"May\",\"Jun\",\"Jul\",\"Aug\",\"Sep\",\"Oct\",\"Nov\",\"Dec\",\"Jan\",\"Feb\",\"Mar\",\"Apr\",\"May\",\"Jun\",\"Jul\",\"Aug\",\"Sep\",\"Oct\",\"Nov\",\"Dec\",\"Jan\",\"Feb\",\"Mar\",\"Apr\",\"May\",\"Jun\",\"Jul\",\"Aug\",\"Sep\",\"Oct\",\"Nov\",\"Dec\",\"Jan\",\"Feb\",\"Mar\",\"Apr\",\"May\",\"Jun\",\"Jul\",\"Aug\",\"Sep\",\"Oct\",\"Nov\",\"Dec\",\"Jan\",\"Feb\",\"Mar\",\"Apr\",\"May\",\"Jun\",\"Jul\",\"Aug\",\"Sep\",\"Oct\",\"Nov\",\"Dec\",\"Jan\",\"Feb\",\"Mar\",\"Apr\",\"May\",\"Jun\",\"Jul\",\"Aug\",\"Sep\",\"Oct\",\"Nov\",\"Dec\",\"Jan\",\"Feb\",\"Mar\",\"Apr\",\"May\",\"Jun\",\"Jul\",\"Aug\",\"Sep\",\"Oct\",\"Nov\",\"Dec\",\"Jan\",\"Feb\",\"Mar\",\"Apr\",\"May\",\"Jun\",\"Jul\",\"Aug\",\"Sep\",\"Oct\",\"Nov\",\"Dec\",\"Jan\",\"Feb\",\"Mar\",\"Apr\",\"May\",\"Jun\",\"Jul\",\"Aug\",\"Sep\",\"Oct\",\"Nov\",\"Dec\",\"Jan\",\"Feb\",\"Mar\",\"Apr\",\"May\",\"Jun\",\"Jul\",\"Aug\",\"Sep\",\"Oct\",\"Nov\",\"Dec\",\"Jan\",\"Feb\",\"Mar\",\"Apr\",\"May\",\"Jun\",\"Jul\",\"Aug\",\"Sep\",\"Oct\",\"Nov\",\"Dec\",\"Jan\",\"Feb\",\"Mar\",\"Apr\",\"May\",\"Jun\",\"Jul\",\"Aug\",\"Sep\",\"Oct\",\"Nov\",\"Dec\",\"Jan\",\"Feb\",\"Mar\",\"Apr\",\"May\",\"Jun\",\"Jul\",\"Aug\",\"Sep\",\"Oct\",\"Nov\",\"Dec\",\"Jan\",\"Feb\",\"Mar\",\"Apr\",\"May\",\"Jun\",\"Jul\",\"Aug\",\"Sep\",\"Oct\",\"Nov\",\"Dec\",\"Jan\",\"Feb\",\"Mar\",\"Apr\",\"May\",\"Jun\",\"Jul\",\"Aug\",\"Sep\",\"Oct\",\"Nov\",\"Dec\",\"Jan\",\"Feb\",\"Mar\",\"Apr\",\"May\",\"Jun\",\"Jul\",\"Aug\",\"Sep\",\"Oct\",\"Nov\",\"Dec\",\"Jan\",\"Feb\",\"Mar\",\"Apr\",\"May\",\"Jun\",\"Jul\",\"Aug\",\"Sep\",\"Oct\",\"Nov\",\"Dec\",\"Jan\",\"Feb\",\"Mar\",\"Apr\",\"May\",\"Jun\",\"Jul\",\"Aug\",\"Sep\",\"Oct\",\"Nov\",\"Dec\",\"Jan\",\"Feb\",\"Mar\",\"Apr\",\"May\",\"Jun\",\"Jul\",\"Aug\",\"Sep\",\"Oct\",\"Nov\",\"Dec\",\"Jan\",\"Feb\",\"Mar\",\"Apr\",\"May\",\"Jun\",\"Jul\",\"Aug\",\"Sep\",\"Oct\",\"Nov\",\"Dec\",\"Jan\",\"Feb\",\"Mar\",\"Apr\",\"May\",\"Jun\",\"Jul\",\"Aug\",\"Sep\",\"Oct\",\"Nov\",\"Dec\",\"Jan\",\"Feb\",\"Mar\",\"Apr\",\"May\",\"Jun\",\"Jul\",\"Aug\",\"Sep\",\"Oct\",\"Nov\",\"Dec\",\"Jan\",\"Feb\",\"Mar\",\"Apr\",\"May\",\"Jun\",\"Jul\",\"Aug\",\"Sep\",\"Oct\",\"Nov\",\"Dec\",\"Jan\",\"Feb\",\"Mar\",\"Apr\",\"May\",\"Jun\",\"Jul\",\"Aug\",\"Sep\",\"Oct\",\"Nov\",\"Dec\",\"Jan\",\"Feb\",\"Mar\",\"Apr\",\"May\",\"Jun\",\"Jul\",\"Aug\",\"Sep\",\"Oct\",\"Nov\",\"Dec\",\"Jan\",\"Feb\",\"Mar\",\"Apr\",\"May\",\"Jun\",\"Jul\",\"Aug\",\"Sep\",\"Oct\",\"Nov\",\"Dec\",\"Jan\",\"Feb\",\"Mar\",\"Apr\",\"May\",\"Jun\",\"Jul\",\"Aug\",\"Sep\",\"Oct\",\"Nov\",\"Dec\",\"Jan\",\"Feb\",\"Mar\",\"Apr\",\"May\",\"Jun\",\"Jul\",\"Aug\",\"Sep\",\"Oct\",\"Nov\",\"Dec\",\"Jan\",\"Feb\",\"Mar\",\"Apr\",\"May\",\"Jun\",\"Jul\",\"Aug\",\"Sep\",\"Oct\",\"Nov\",\"Dec\",\"Jan\",\"Feb\",\"Mar\",\"Apr\",\"May\",\"Jun\",\"Jul\",\"Aug\",\"Sep\",\"Oct\",\"Nov\",\"Dec\",\"Jan\",\"Feb\",\"Mar\",\"Apr\",\"May\",\"Jun\",\"Jul\",\"Aug\",\"Sep\",\"Oct\",\"Nov\",\"Dec\",\"Jan\",\"Feb\",\"Mar\",\"Apr\",\"May\",\"Jun\",\"Jul\",\"Aug\",\"Sep\",\"Oct\",\"Nov\",\"Dec\"],\"value\":[\"4\",\"4.7\",\"4.5\",\"4\",\"3.4\",\"3.9\",\"3.9\",\"3.6\",\"3.4\",\"2.9\",\"3.3\",\"3.6\",\"5\",\"5.8\",\"5.6\",\"5.4\",\"5.7\",\"6.4\",\"7\",\"6.3\",\"5.9\",\"6.1\",\"5.7\",\"6\",\"7.6\",\"7.9\",\"7.1\",\"6\",\"5.3\",\"5.6\",\"5.3\",\"4.1\",\"4\",\"3.3\",\"3.8\",\"3.9\",\"4.4\",\"4.2\",\"3.8\",\"3.2\",\"2.9\",\"3.4\",\"3.3\",\"2.9\",\"3\",\"2.8\",\"3.2\",\"2.9\",\"3.7\",\"3.8\",\"3.3\",\"3\",\"2.9\",\"3.2\",\"3.3\",\"3.1\",\"2.7\",\"2.4\",\"2.5\",\"2.5\",\"3.4\",\"3.2\",\"2.9\",\"2.8\",\"2.5\",\"2.7\",\"2.7\",\"2.4\",\"2.6\",\"2.5\",\"3.2\",\"4.2\",\"5.7\",\"6.3\",\"6.4\",\"6.1\",\"5.7\",\"5.7\",\"5.7\",\"5.4\",\"5.3\",\"4.6\",\"4.9\",\"4.8\",\"5.8\",\"5.7\",\"5.2\",\"4.9\",\"4.2\",\"4.4\",\"4\",\"3.8\",\"3.5\",\"3.4\",\"3.8\",\"3.9\",\"4.7\",\"4.8\",\"4.7\",\"4.1\",\"4.2\",\"4.7\",\"4.4\",\"3.7\",\"3.4\",\"3.1\",\"3.9\",\"4\",\"4.9\",\"4.7\",\"4.3\",\"4\",\"3.9\",\"4.6\",\"4.1\",\"3.7\",\"3.7\",\"3.6\",\"4.6\",\"5\",\"6.8\",\"7.7\",\"7.7\",\"7.5\",\"7.1\",\"7.6\",\"7.4\",\"6.7\",\"6\",\"5.5\",\"5.6\",\"6\",\"7\",\"7\",\"6.4\",\"5.2\",\"4.9\",\"5.4\",\"5.2\",\"4.8\",\"4.7\",\"4.7\",\"5.3\",\"5.1\",\"6.1\",\"5.7\",\"6.1\",\"5.2\",\"4.8\",\"5.8\",\"5.5\",\"5.2\",\"4.7\",\"5\",\"5.6\",\"6.4\",\"7.7\",\"8.1\",\"7.7\",\"7\",\"6.6\",\"7.3\",\"6.9\",\"6.2\",\"5.8\",\"5.5\",\"5.6\",\"5.8\",\"6.7\",\"6.5\",\"6.2\",\"5.5\",\"5.1\",\"5.9\",\"5.3\",\"5.3\",\"4.9\",\"4.5\",\"5.3\",\"5.3\",\"6.6\",\"6.9\",\"6.3\",\"5.6\",\"5.5\",\"6.2\",\"5.6\",\"5.2\",\"4.8\",\"4.7\",\"5.3\",\"5.3\",\"6.4\",\"6.2\",\"5.9\",\"5.3\",\"4.8\",\"5.9\",\"4.9\",\"4.8\",\"4.5\",\"4.4\",\"4.5\",\"4.7\",\"5.5\",\"5.7\",\"5.1\",\"4.7\",\"4.3\",\"5.3\",\"4.5\",\"4.2\",\"3.8\",\"3.6\",\"3.9\",\"3.7\",\"4.4\",\"4.2\",\"4\",\"3.6\",\"3.7\",\"4.6\",\"3.9\",\"3.6\",\"3.3\",\"3.2\",\"3.4\",\"3.5\",\"4.2\",\"4.2\",\"3.9\",\"3.5\",\"3.2\",\"4.6\",\"4.1\",\"3.7\",\"3.7\",\"3.8\",\"3.7\",\"3.5\",\"4\",\"4.2\",\"3.8\",\"3.2\",\"2.9\",\"4.5\",\"4\",\"3.5\",\"3.3\",\"3.2\",\"3.3\",\"3.1\",\"3.7\",\"3.7\",\"3.5\",\"3.2\",\"2.9\",\"4.1\",\"3.8\",\"3.5\",\"3.7\",\"3.5\",\"3.3\",\"3.2\",\"4.2\",\"4.7\",\"4.6\",\"4.3\",\"4.1\",\"5.6\",\"5.3\",\"5\",\"5.2\",\"5.1\",\"5.5\",\"5.6\",\"6.6\",\"6.6\",\"6.3\",\"5.7\",\"5.3\",\"6.5\",\"6.2\",\"5.9\",\"5.8\",\"5.4\",\"5.7\",\"5.5\",\"6.5\",\"6.4\",\"6.1\",\"5.5\",\"5.1\",\"6.2\",\"5.9\",\"5.5\",\"5.4\",\"5.1\",\"4.9\",\"4.8\",\"5.5\",\"5.6\",\"5.2\",\"4.8\",\"4.4\",\"5.4\",\"5\",\"4.7\",\"4.7\",\"4.2\",\"4.6\",\"4.6\",\"5.7\",\"5.8\",\"5.3\",\"4.8\",\"4.6\",\"5.8\",\"5.7\",\"5.3\",\"5.7\",\"5.5\",\"6.2\",\"6.7\",\"9\",\"9.1\",\"9.1\",\"8.6\",\"8.3\",\"9.1\",\"8.7\",\"8.2\",\"8.1\",\"7.8\",\"7.8\",\"7.8\",\"8.8\",\"8.7\",\"8.1\",\"7.4\",\"6.8\",\"8\",\"7.8\",\"7.6\",\"7.4\",\"7.2\",\"7.4\",\"7.4\",\"8.3\",\"8.5\",\"7.9\",\"6.9\",\"6.4\",\"7.5\",\"7\",\"6.8\",\"6.6\",\"6.4\",\"6.5\",\"6\",\"7.1\",\"6.9\",\"6.6\",\"5.8\",\"5.5\",\"6.2\",\"6.3\",\"5.9\",\"5.8\",\"5.4\",\"5.6\",\"5.7\",\"6.4\",\"6.4\",\"6.1\",\"5.5\",\"5.2\",\"6\",\"5.9\",\"5.9\",\"5.7\",\"5.6\",\"5.6\",\"5.7\",\"6.9\",\"6.8\",\"6.6\",\"6.7\",\"7.1\",\"7.8\",\"7.9\",\"7.6\",\"7.2\",\"7.1\",\"7.1\",\"6.9\",\"8.2\",\"8\",\"7.7\",\"7\",\"7.1\",\"7.7\",\"7.3\",\"7.2\",\"7.3\",\"7.5\",\"7.9\",\"8.3\",\"9.4\",\"9.6\",\"9.5\",\"9.2\",\"9.1\",\"9.8\",\"9.8\",\"9.6\",\"9.7\",\"9.9\",\"10.4\",\"10.5\",\"11.4\",\"11.3\",\"10.8\",\"10\",\"9.8\",\"10.2\",\"9.4\",\"9.2\",\"8.8\",\"8.4\",\"8.1\",\"8\",\"8.8\",\"8.4\",\"8.1\",\"7.6\",\"7.2\",\"7.4\",\"7.5\",\"7.3\",\"7.1\",\"7\",\"6.9\",\"7\",\"8\",\"7.8\",\"7.5\",\"7.1\",\"7\",\"7.5\",\"7.4\",\"6.9\",\"6.9\",\"6.8\",\"6.7\",\"6.7\",\"7.3\",\"7.8\",\"7.5\",\"7\",\"7\",\"7.3\",\"7\",\"6.7\",\"6.8\",\"6.6\",\"6.6\",\"6.3\",\"7.3\",\"7.2\",\"6.9\",\"6.2\",\"6.1\",\"6.3\",\"6.1\",\"5.8\",\"5.7\",\"5.7\",\"5.6\",\"5.4\",\"6.3\",\"6.2\",\"5.9\",\"5.3\",\"5.4\",\"5.5\",\"5.5\",\"5.4\",\"5.2\",\"5\",\"5.2\",\"5\",\"6\",\"5.6\",\"5.2\",\"5.1\",\"5\",\"5.5\",\"5.3\",\"5.1\",\"5.1\",\"5\",\"5.2\",\"5.1\",\"6\",\"5.9\",\"5.5\",\"5.3\",\"5.2\",\"5.4\",\"5.6\",\"5.5\",\"5.6\",\"5.5\",\"5.9\",\"6\",\"7.1\",\"7.3\",\"7.2\",\"6.5\",\"6.7\",\"7\",\"6.8\",\"6.6\",\"6.5\",\"6.5\",\"6.7\",\"6.9\",\"8.1\",\"8.2\",\"7.8\",\"7.2\",\"7.3\",\"8\",\"7.7\",\"7.4\",\"7.3\",\"6.9\",\"7.1\",\"7.1\",\"8\",\"7.8\",\"7.4\",\"6.9\",\"6.8\",\"7.2\",\"7\",\"6.6\",\"6.4\",\"6.4\",\"6.2\",\"6.1\",\"7.3\",\"7.1\",\"6.8\",\"6.2\",\"5.9\",\"6.2\",\"6.2\",\"5.9\",\"5.6\",\"5.4\",\"5.3\",\"5.1\",\"6.2\",\"5.9\",\"5.7\",\"5.6\",\"5.5\",\"5.8\",\"5.9\",\"5.6\",\"5.4\",\"5.2\",\"5.3\",\"5.2\",\"6.3\",\"6\",\"5.8\",\"5.4\",\"5.4\",\"5.5\",\"5.6\",\"5.1\",\"5\",\"4.9\",\"5\",\"5\",\"5.9\",\"5.7\",\"5.5\",\"4.8\",\"4.7\",\"5.2\",\"5\",\"4.8\",\"4.7\",\"4.4\",\"4.3\",\"4.4\",\"5.2\",\"5\",\"5\",\"4.1\",\"4.2\",\"4.7\",\"4.7\",\"4.5\",\"4.4\",\"4.2\",\"4.1\",\"4\",\"4.8\",\"4.7\",\"4.4\",\"4.1\",\"4\",\"4.5\",\"4.5\",\"4.2\",\"4.1\",\"3.8\",\"3.8\",\"3.7\",\"4.5\",\"4.4\",\"4.3\",\"3.7\",\"3.8\",\"4.1\",\"4.2\",\"4.1\",\"3.8\",\"3.6\",\"3.7\",\"3.7\",\"4.7\",\"4.6\",\"4.5\",\"4.2\",\"4.1\",\"4.7\",\"4.7\",\"4.9\",\"4.7\",\"5\",\"5.3\",\"5.4\",\"6.3\",\"6.1\",\"6.1\",\"5.7\",\"5.5\",\"6\",\"5.9\",\"5.7\",\"5.4\",\"5.3\",\"5.6\",\"5.7\",\"6.5\",\"6.4\",\"6.2\",\"5.8\",\"5.8\",\"6.5\",\"6.3\",\"6\",\"5.8\",\"5.6\",\"5.6\",\"5.4\",\"6.3\",\"6\",\"6\",\"5.4\",\"5.3\",\"5.8\",\"5.7\",\"5.4\",\"5.1\",\"5.1\",\"5.2\",\"5.1\",\"5.7\",\"5.8\",\"5.4\",\"4.9\",\"4.9\",\"5.2\",\"5.2\",\"4.9\",\"4.8\",\"4.6\",\"4.8\",\"4.6\",\"5.1\",\"5.1\",\"4.8\",\"4.5\",\"4.4\",\"4.8\",\"5\",\"4.6\",\"4.4\",\"4.1\",\"4.3\",\"4.3\",\"5\",\"4.9\",\"4.5\",\"4.3\",\"4.3\",\"4.7\",\"4.9\",\"4.6\",\"4.5\",\"4.4\",\"4.5\",\"4.8\",\"5.4\",\"5.2\",\"5.2\",\"4.8\",\"5.2\",\"5.7\",\"6\",\"6.1\",\"6\",\"6.1\",\"6.5\",\"7.1\",\"8.5\",\"8.9\",\"9\",\"8.6\",\"9.1\",\"9.7\",\"9.7\",\"9.6\",\"9.5\",\"9.5\",\"9.4\",\"9.7\",\"10.6\",\"10.4\",\"10.2\",\"9.5\",\"9.3\",\"9.6\",\"9.7\",\"9.5\",\"9.2\",\"9\",\"9.3\",\"9.1\",\"9.8\",\"9.5\",\"9.2\",\"8.7\",\"8.7\",\"9.3\",\"9.3\",\"9.1\",\"8.8\",\"8.5\",\"8.2\",\"8.3\",\"8.8\",\"8.7\",\"8.4\",\"7.7\",\"7.9\",\"8.4\",\"8.6\",\"8.2\",\"7.6\",\"7.5\",\"7.4\",\"7.6\",\"8.5\",\"8.1\",\"7.6\",\"7.1\",\"7.3\",\"7.8\",\"7.7\",\"7.3\",\"7\",\"7\",\"6.6\",\"6.5\",\"7\",\"7\",\"6.8\",\"5.9\",\"6.1\",\"6.3\",\"6.5\",\"6.3\",\"5.7\",\"5.5\",\"5.5\",\"5.4\",\"6.1\",\"5.8\",\"5.6\",\"5.1\",\"5.3\",\"5.5\",\"5.6\",\"5.2\",\"4.9\",\"4.8\",\"4.8\",\"4.8\",\"5.3\",\"5.2\",\"5.1\",\"4.7\",\"4.5\",\"5.1\",\"5.1\",\"5\",\"4.8\",\"4.7\",\"4.4\",\"4.5\"],\"zvalues\":{\"__ndarray__\":\"AAAAAAAAEEDNzMzMzMwSQAAAAAAAABJAAAAAAAAAEEAzMzMzMzMLQDMzMzMzMw9AMzMzMzMzD0DNzMzMzMwMQDMzMzMzMwtAMzMzMzMzB0BmZmZmZmYKQM3MzMzMzAxAAAAAAAAAFEAzMzMzMzMXQGZmZmZmZhZAmpmZmZmZFUDNzMzMzMwWQJqZmZmZmRlAAAAAAAAAHEAzMzMzMzMZQJqZmZmZmRdAZmZmZmZmGEDNzMzMzMwWQAAAAAAAABhAZmZmZmZmHkCamZmZmZkfQGZmZmZmZhxAAAAAAAAAGEAzMzMzMzMVQGZmZmZmZhZAMzMzMzMzFUBmZmZmZmYQQAAAAAAAABBAZmZmZmZmCkBmZmZmZmYOQDMzMzMzMw9AmpmZmZmZEUDNzMzMzMwQQGZmZmZmZg5AmpmZmZmZCUAzMzMzMzMHQDMzMzMzMwtAZmZmZmZmCkAzMzMzMzMHQAAAAAAAAAhAZmZmZmZmBkCamZmZmZkJQDMzMzMzMwdAmpmZmZmZDUBmZmZmZmYOQGZmZmZmZgpAAAAAAAAACEAzMzMzMzMHQJqZmZmZmQlAZmZmZmZmCkDNzMzMzMwIQJqZmZmZmQVAMzMzMzMzA0AAAAAAAAAEQAAAAAAAAARAMzMzMzMzC0CamZmZmZkJQDMzMzMzMwdAZmZmZmZmBkAAAAAAAAAEQJqZmZmZmQVAmpmZmZmZBUAzMzMzMzMDQM3MzMzMzARAAAAAAAAABECamZmZmZkJQM3MzMzMzBBAzczMzMzMFkAzMzMzMzMZQJqZmZmZmRlAZmZmZmZmGEDNzMzMzMwWQM3MzMzMzBZAzczMzMzMFkCamZmZmZkVQDMzMzMzMxVAZmZmZmZmEkCamZmZmZkTQDMzMzMzMxNAMzMzMzMzF0DNzMzMzMwWQM3MzMzMzBRAmpmZmZmZE0DNzMzMzMwQQJqZmZmZmRFAAAAAAAAAEEBmZmZmZmYOQAAAAAAAAAxAMzMzMzMzC0BmZmZmZmYOQDMzMzMzMw9AzczMzMzMEkAzMzMzMzMTQM3MzMzMzBJAZmZmZmZmEEDNzMzMzMwQQM3MzMzMzBJAmpmZmZmZEUCamZmZmZkNQDMzMzMzMwtAzczMzMzMCEAzMzMzMzMPQAAAAAAAABBAmpmZmZmZE0DNzMzMzMwSQDMzMzMzMxFAAAAAAAAAEEAzMzMzMzMPQGZmZmZmZhJAZmZmZmZmEECamZmZmZkNQJqZmZmZmQ1AzczMzMzMDEBmZmZmZmYSQAAAAAAAABRAMzMzMzMzG0DNzMzMzMweQM3MzMzMzB5AAAAAAAAAHkBmZmZmZmYcQGZmZmZmZh5AmpmZmZmZHUDNzMzMzMwaQAAAAAAAABhAAAAAAAAAFkBmZmZmZmYWQAAAAAAAABhAAAAAAAAAHEAAAAAAAAAcQJqZmZmZmRlAzczMzMzMFECamZmZmZkTQJqZmZmZmRVAzczMzMzMFEAzMzMzMzMTQM3MzMzMzBJAzczMzMzMEkAzMzMzMzMVQGZmZmZmZhRAZmZmZmZmGEDNzMzMzMwWQGZmZmZmZhhAzczMzMzMFEAzMzMzMzMTQDMzMzMzMxdAAAAAAAAAFkDNzMzMzMwUQM3MzMzMzBJAAAAAAAAAFEBmZmZmZmYWQJqZmZmZmRlAzczMzMzMHkAzMzMzMzMgQM3MzMzMzB5AAAAAAAAAHEBmZmZmZmYaQDMzMzMzMx1AmpmZmZmZG0DNzMzMzMwYQDMzMzMzMxdAAAAAAAAAFkBmZmZmZmYWQDMzMzMzMxdAzczMzMzMGkAAAAAAAAAaQM3MzMzMzBhAAAAAAAAAFkBmZmZmZmYUQJqZmZmZmRdAMzMzMzMzFUAzMzMzMzMVQJqZmZmZmRNAAAAAAAAAEkAzMzMzMzMVQDMzMzMzMxVAZmZmZmZmGkCamZmZmZkbQDMzMzMzMxlAZmZmZmZmFkAAAAAAAAAWQM3MzMzMzBhAZmZmZmZmFkDNzMzMzMwUQDMzMzMzMxNAzczMzMzMEkAzMzMzMzMVQDMzMzMzMxVAmpmZmZmZGUDNzMzMzMwYQJqZmZmZmRdAMzMzMzMzFUAzMzMzMzMTQJqZmZmZmRdAmpmZmZmZE0AzMzMzMzMTQAAAAAAAABJAmpmZmZmZEUAAAAAAAAASQM3MzMzMzBJAAAAAAAAAFkDNzMzMzMwWQGZmZmZmZhRAzczMzMzMEkAzMzMzMzMRQDMzMzMzMxVAAAAAAAAAEkDNzMzMzMwQQGZmZmZmZg5AzczMzMzMDEAzMzMzMzMPQJqZmZmZmQ1AmpmZmZmZEUDNzMzMzMwQQAAAAAAAABBAzczMzMzMDECamZmZmZkNQGZmZmZmZhJAMzMzMzMzD0DNzMzMzMwMQGZmZmZmZgpAmpmZmZmZCUAzMzMzMzMLQAAAAAAAAAxAzczMzMzMEEDNzMzMzMwQQDMzMzMzMw9AAAAAAAAADECamZmZmZkJQGZmZmZmZhJAZmZmZmZmEECamZmZmZkNQJqZmZmZmQ1AZmZmZmZmDkCamZmZmZkNQAAAAAAAAAxAAAAAAAAAEEDNzMzMzMwQQGZmZmZmZg5AmpmZmZmZCUAzMzMzMzMHQAAAAAAAABJAAAAAAAAAEEAAAAAAAAAMQGZmZmZmZgpAmpmZmZmZCUBmZmZmZmYKQM3MzMzMzAhAmpmZmZmZDUCamZmZmZkNQAAAAAAAAAxAmpmZmZmZCUAzMzMzMzMHQGZmZmZmZhBAZmZmZmZmDkAAAAAAAAAMQJqZmZmZmQ1AAAAAAAAADEBmZmZmZmYKQJqZmZmZmQlAzczMzMzMEEDNzMzMzMwSQGZmZmZmZhJAMzMzMzMzEUBmZmZmZmYQQGZmZmZmZhZAMzMzMzMzFUAAAAAAAAAUQM3MzMzMzBRAZmZmZmZmFEAAAAAAAAAWQGZmZmZmZhZAZmZmZmZmGkBmZmZmZmYaQDMzMzMzMxlAzczMzMzMFkAzMzMzMzMVQAAAAAAAABpAzczMzMzMGECamZmZmZkXQDMzMzMzMxdAmpmZmZmZFUDNzMzMzMwWQAAAAAAAABZAAAAAAAAAGkCamZmZmZkZQGZmZmZmZhhAAAAAAAAAFkBmZmZmZmYUQM3MzMzMzBhAmpmZmZmZF0AAAAAAAAAWQJqZmZmZmRVAZmZmZmZmFECamZmZmZkTQDMzMzMzMxNAAAAAAAAAFkBmZmZmZmYWQM3MzMzMzBRAMzMzMzMzE0CamZmZmZkRQJqZmZmZmRVAAAAAAAAAFEDNzMzMzMwSQM3MzMzMzBJAzczMzMzMEEBmZmZmZmYSQGZmZmZmZhJAzczMzMzMFkAzMzMzMzMXQDMzMzMzMxVAMzMzMzMzE0BmZmZmZmYSQDMzMzMzMxdAzczMzMzMFkAzMzMzMzMVQM3MzMzMzBZAAAAAAAAAFkDNzMzMzMwYQM3MzMzMzBpAAAAAAAAAIkAzMzMzMzMiQDMzMzMzMyJAMzMzMzMzIUCamZmZmZkgQDMzMzMzMyJAZmZmZmZmIUBmZmZmZmYgQDMzMzMzMyBAMzMzMzMzH0AzMzMzMzMfQDMzMzMzMx9AmpmZmZmZIUBmZmZmZmYhQDMzMzMzMyBAmpmZmZmZHUAzMzMzMzMbQAAAAAAAACBAMzMzMzMzH0BmZmZmZmYeQJqZmZmZmR1AzczMzMzMHECamZmZmZkdQJqZmZmZmR1AmpmZmZmZIEAAAAAAAAAhQJqZmZmZmR9AmpmZmZmZG0CamZmZmZkZQAAAAAAAAB5AAAAAAAAAHEAzMzMzMzMbQGZmZmZmZhpAmpmZmZmZGUAAAAAAAAAaQAAAAAAAABhAZmZmZmZmHECamZmZmZkbQGZmZmZmZhpAMzMzMzMzF0AAAAAAAAAWQM3MzMzMzBhAMzMzMzMzGUCamZmZmZkXQDMzMzMzMxdAmpmZmZmZFUBmZmZmZmYWQM3MzMzMzBZAmpmZmZmZGUCamZmZmZkZQGZmZmZmZhhAAAAAAAAAFkDNzMzMzMwUQAAAAAAAABhAmpmZmZmZF0CamZmZmZkXQM3MzMzMzBZAZmZmZmZmFkBmZmZmZmYWQM3MzMzMzBZAmpmZmZmZG0AzMzMzMzMbQGZmZmZmZhpAzczMzMzMGkBmZmZmZmYcQDMzMzMzMx9AmpmZmZmZH0BmZmZmZmYeQM3MzMzMzBxAZmZmZmZmHEBmZmZmZmYcQJqZmZmZmRtAZmZmZmZmIEAAAAAAAAAgQM3MzMzMzB5AAAAAAAAAHEBmZmZmZmYcQM3MzMzMzB5AMzMzMzMzHUDNzMzMzMwcQDMzMzMzMx1AAAAAAAAAHkCamZmZmZkfQJqZmZmZmSBAzczMzMzMIkAzMzMzMzMjQAAAAAAAACNAZmZmZmZmIkAzMzMzMzMiQJqZmZmZmSNAmpmZmZmZI0AzMzMzMzMjQGZmZmZmZiNAzczMzMzMI0DNzMzMzMwkQAAAAAAAACVAzczMzMzMJkCamZmZmZkmQJqZmZmZmSVAAAAAAAAAJECamZmZmZkjQGZmZmZmZiRAzczMzMzMIkBmZmZmZmYiQJqZmZmZmSFAzczMzMzMIEAzMzMzMzMgQAAAAAAAACBAmpmZmZmZIUDNzMzMzMwgQDMzMzMzMyBAZmZmZmZmHkDNzMzMzMwcQJqZmZmZmR1AAAAAAAAAHkAzMzMzMzMdQGZmZmZmZhxAAAAAAAAAHECamZmZmZkbQAAAAAAAABxAAAAAAAAAIEAzMzMzMzMfQAAAAAAAAB5AZmZmZmZmHEAAAAAAAAAcQAAAAAAAAB5AmpmZmZmZHUCamZmZmZkbQJqZmZmZmRtAMzMzMzMzG0DNzMzMzMwaQM3MzMzMzBpAMzMzMzMzHUAzMzMzMzMfQAAAAAAAAB5AAAAAAAAAHEAAAAAAAAAcQDMzMzMzMx1AAAAAAAAAHEDNzMzMzMwaQDMzMzMzMxtAZmZmZmZmGkBmZmZmZmYaQDMzMzMzMxlAMzMzMzMzHUDNzMzMzMwcQJqZmZmZmRtAzczMzMzMGEBmZmZmZmYYQDMzMzMzMxlAZmZmZmZmGEAzMzMzMzMXQM3MzMzMzBZAzczMzMzMFkBmZmZmZmYWQJqZmZmZmRVAMzMzMzMzGUDNzMzMzMwYQJqZmZmZmRdAMzMzMzMzFUCamZmZmZkVQAAAAAAAABZAAAAAAAAAFkCamZmZmZkVQM3MzMzMzBRAAAAAAAAAFEDNzMzMzMwUQAAAAAAAABRAAAAAAAAAGEBmZmZmZmYWQM3MzMzMzBRAZmZmZmZmFEAAAAAAAAAUQAAAAAAAABZAMzMzMzMzFUBmZmZmZmYUQGZmZmZmZhRAAAAAAAAAFEDNzMzMzMwUQGZmZmZmZhRAAAAAAAAAGECamZmZmZkXQAAAAAAAABZAMzMzMzMzFUDNzMzMzMwUQJqZmZmZmRVAZmZmZmZmFkAAAAAAAAAWQGZmZmZmZhZAAAAAAAAAFkCamZmZmZkXQAAAAAAAABhAZmZmZmZmHEAzMzMzMzMdQM3MzMzMzBxAAAAAAAAAGkDNzMzMzMwaQAAAAAAAABxAMzMzMzMzG0BmZmZmZmYaQAAAAAAAABpAAAAAAAAAGkDNzMzMzMwaQJqZmZmZmRtAMzMzMzMzIEBmZmZmZmYgQDMzMzMzMx9AzczMzMzMHEAzMzMzMzMdQAAAAAAAACBAzczMzMzMHkCamZmZmZkdQDMzMzMzMx1AmpmZmZmZG0BmZmZmZmYcQGZmZmZmZhxAAAAAAAAAIEAzMzMzMzMfQJqZmZmZmR1AmpmZmZmZG0AzMzMzMzMbQM3MzMzMzBxAAAAAAAAAHEBmZmZmZmYaQJqZmZmZmRlAmpmZmZmZGUDNzMzMzMwYQGZmZmZmZhhAMzMzMzMzHUBmZmZmZmYcQDMzMzMzMxtAzczMzMzMGECamZmZmZkXQM3MzMzMzBhAzczMzMzMGECamZmZmZkXQGZmZmZmZhZAmpmZmZmZFUAzMzMzMzMVQGZmZmZmZhRAzczMzMzMGECamZmZmZkXQM3MzMzMzBZAZmZmZmZmFkAAAAAAAAAWQDMzMzMzMxdAmpmZmZmZF0BmZmZmZmYWQJqZmZmZmRVAzczMzMzMFEAzMzMzMzMVQM3MzMzMzBRAMzMzMzMzGUAAAAAAAAAYQDMzMzMzMxdAmpmZmZmZFUCamZmZmZkVQAAAAAAAABZAZmZmZmZmFkBmZmZmZmYUQAAAAAAAABRAmpmZmZmZE0AAAAAAAAAUQAAAAAAAABRAmpmZmZmZF0DNzMzMzMwWQAAAAAAAABZAMzMzMzMzE0DNzMzMzMwSQM3MzMzMzBRAAAAAAAAAFEAzMzMzMzMTQM3MzMzMzBJAmpmZmZmZEUAzMzMzMzMRQJqZmZmZmRFAzczMzMzMFEAAAAAAAAAUQAAAAAAAABRAZmZmZmZmEEDNzMzMzMwQQM3MzMzMzBJAzczMzMzMEkAAAAAAAAASQJqZmZmZmRFAzczMzMzMEEBmZmZmZmYQQAAAAAAAABBAMzMzMzMzE0DNzMzMzMwSQJqZmZmZmRFAZmZmZmZmEEAAAAAAAAAQQAAAAAAAABJAAAAAAAAAEkDNzMzMzMwQQGZmZmZmZhBAZmZmZmZmDkBmZmZmZmYOQJqZmZmZmQ1AAAAAAAAAEkCamZmZmZkRQDMzMzMzMxFAmpmZmZmZDUBmZmZmZmYOQGZmZmZmZhBAzczMzMzMEEBmZmZmZmYQQGZmZmZmZg5AzczMzMzMDECamZmZmZkNQJqZmZmZmQ1AzczMzMzMEkBmZmZmZmYSQAAAAAAAABJAzczMzMzMEEBmZmZmZmYQQM3MzMzMzBJAzczMzMzMEkCamZmZmZkTQM3MzMzMzBJAAAAAAAAAFEAzMzMzMzMVQJqZmZmZmRVAMzMzMzMzGUBmZmZmZmYYQGZmZmZmZhhAzczMzMzMFkAAAAAAAAAWQAAAAAAAABhAmpmZmZmZF0DNzMzMzMwWQJqZmZmZmRVAMzMzMzMzFUBmZmZmZmYWQM3MzMzMzBZAAAAAAAAAGkCamZmZmZkZQM3MzMzMzBhAMzMzMzMzF0AzMzMzMzMXQAAAAAAAABpAMzMzMzMzGUAAAAAAAAAYQDMzMzMzMxdAZmZmZmZmFkBmZmZmZmYWQJqZmZmZmRVAMzMzMzMzGUAAAAAAAAAYQAAAAAAAABhAmpmZmZmZFUAzMzMzMzMVQDMzMzMzMxdAzczMzMzMFkCamZmZmZkVQGZmZmZmZhRAZmZmZmZmFEDNzMzMzMwUQGZmZmZmZhRAzczMzMzMFkAzMzMzMzMXQJqZmZmZmRVAmpmZmZmZE0CamZmZmZkTQM3MzMzMzBRAzczMzMzMFECamZmZmZkTQDMzMzMzMxNAZmZmZmZmEkAzMzMzMzMTQGZmZmZmZhJAZmZmZmZmFEBmZmZmZmYUQDMzMzMzMxNAAAAAAAAAEkCamZmZmZkRQDMzMzMzMxNAAAAAAAAAFEBmZmZmZmYSQJqZmZmZmRFAZmZmZmZmEEAzMzMzMzMRQDMzMzMzMxFAAAAAAAAAFECamZmZmZkTQAAAAAAAABJAMzMzMzMzEUAzMzMzMzMRQM3MzMzMzBJAmpmZmZmZE0BmZmZmZmYSQAAAAAAAABJAmpmZmZmZEUAAAAAAAAASQDMzMzMzMxNAmpmZmZmZFUDNzMzMzMwUQM3MzMzMzBRAMzMzMzMzE0DNzMzMzMwUQM3MzMzMzBZAAAAAAAAAGEBmZmZmZmYYQAAAAAAAABhAZmZmZmZmGEAAAAAAAAAaQGZmZmZmZhxAAAAAAAAAIUDNzMzMzMwhQAAAAAAAACJAMzMzMzMzIUAzMzMzMzMiQGZmZmZmZiNAZmZmZmZmI0AzMzMzMzMjQAAAAAAAACNAAAAAAAAAI0DNzMzMzMwiQGZmZmZmZiNAMzMzMzMzJUDNzMzMzMwkQGZmZmZmZiRAAAAAAAAAI0CamZmZmZkiQDMzMzMzMyNAZmZmZmZmI0AAAAAAAAAjQGZmZmZmZiJAAAAAAAAAIkCamZmZmZkiQDMzMzMzMyJAmpmZmZmZI0AAAAAAAAAjQGZmZmZmZiJAZmZmZmZmIUBmZmZmZmYhQJqZmZmZmSJAmpmZmZmZIkAzMzMzMzMiQJqZmZmZmSFAAAAAAAAAIUBmZmZmZmYgQJqZmZmZmSBAmpmZmZmZIUBmZmZmZmYhQM3MzMzMzCBAzczMzMzMHkCamZmZmZkfQM3MzMzMzCBAMzMzMzMzIUBmZmZmZmYgQGZmZmZmZh5AAAAAAAAAHkCamZmZmZkdQGZmZmZmZh5AAAAAAAAAIUAzMzMzMzMgQGZmZmZmZh5AZmZmZmZmHEAzMzMzMzMdQDMzMzMzMx9AzczMzMzMHkAzMzMzMzMdQAAAAAAAABxAAAAAAAAAHEBmZmZmZmYaQAAAAAAAABpAAAAAAAAAHEAAAAAAAAAcQDMzMzMzMxtAmpmZmZmZF0BmZmZmZmYYQDMzMzMzMxlAAAAAAAAAGkAzMzMzMzMZQM3MzMzMzBZAAAAAAAAAFkAAAAAAAAAWQJqZmZmZmRVAZmZmZmZmGEAzMzMzMzMXQGZmZmZmZhZAZmZmZmZmFEAzMzMzMzMVQAAAAAAAABZAZmZmZmZmFkDNzMzMzMwUQJqZmZmZmRNAMzMzMzMzE0AzMzMzMzMTQDMzMzMzMxNAMzMzMzMzFUDNzMzMzMwUQGZmZmZmZhRAzczMzMzMEkAAAAAAAAASQGZmZmZmZhRAZmZmZmZmFEAAAAAAAAAUQDMzMzMzMxNAzczMzMzMEkCamZmZmZkRQAAAAAAAABJA\",\"dtype\":\"float64\",\"order\":\"little\",\"shape\":[828]}},\"selected\":{\"id\":\"5140\"},\"selection_policy\":{\"id\":\"5164\"}},\"id\":\"5139\",\"type\":\"ColumnDataSource\"},{\"attributes\":{\"factors\":[\"1948\",\"1949\",\"1950\",\"1951\",\"1952\",\"1953\",\"1954\",\"1955\",\"1956\",\"1957\",\"1958\",\"1959\",\"1960\",\"1961\",\"1962\",\"1963\",\"1964\",\"1965\",\"1966\",\"1967\",\"1968\",\"1969\",\"1970\",\"1971\",\"1972\",\"1973\",\"1974\",\"1975\",\"1976\",\"1977\",\"1978\",\"1979\",\"1980\",\"1981\",\"1982\",\"1983\",\"1984\",\"1985\",\"1986\",\"1987\",\"1988\",\"1989\",\"1990\",\"1991\",\"1992\",\"1993\",\"1994\",\"1995\",\"1996\",\"1997\",\"1998\",\"1999\",\"2000\",\"2001\",\"2002\",\"2003\",\"2004\",\"2005\",\"2006\",\"2007\",\"2008\",\"2009\",\"2010\",\"2011\",\"2012\",\"2013\",\"2014\",\"2015\",\"2016\"],\"tags\":[[[\"columns\",\"columns\",null]]]},\"id\":\"5107\",\"type\":\"FactorRange\"},{\"attributes\":{},\"id\":\"5155\",\"type\":\"AllLabels\"},{\"attributes\":{},\"id\":\"5117\",\"type\":\"CategoricalScale\"},{\"attributes\":{\"axis_label\":\"\",\"coordinates\":null,\"formatter\":{\"id\":\"5154\"},\"group\":null,\"group_text_font_size\":\"5pt\",\"major_label_policy\":{\"id\":\"5155\"},\"major_label_text_font_size\":\"5pt\",\"ticker\":{\"id\":\"5123\"}},\"id\":\"5122\",\"type\":\"CategoricalAxis\"}],\"root_ids\":[\"5105\"]},\"title\":\"Bokeh Application\",\"version\":\"2.4.3\"}};\n",
       "    var render_items = [{\"docid\":\"9fe86f90-7c6f-4576-beec-81241413e3cb\",\"root_ids\":[\"5105\"],\"roots\":{\"5105\":\"830bc304-6a81-4d53-944c-61c56d1a8580\"}}];\n",
       "    root.Bokeh.embed.embed_items_notebook(docs_json, render_items);\n",
       "  }\n",
       "  if (root.Bokeh !== undefined && root.Bokeh.Panel !== undefined) {\n",
       "    embed_document(root);\n",
       "  } else {\n",
       "    var attempts = 0;\n",
       "    var timer = setInterval(function(root) {\n",
       "      if (root.Bokeh !== undefined && root.Bokeh.Panel !== undefined) {\n",
       "        clearInterval(timer);\n",
       "        embed_document(root);\n",
       "      } else if (document.readyState == \"complete\") {\n",
       "        attempts++;\n",
       "        if (attempts > 200) {\n",
       "          clearInterval(timer);\n",
       "          console.log(\"Bokeh: ERROR: Unable to run BokehJS code because BokehJS library is missing\");\n",
       "        }\n",
       "      }\n",
       "    }, 25, root)\n",
       "  }\n",
       "})(window);</script>"
      ],
      "text/plain": [
       ":HeatMap   [columns,index]   (value)"
      ]
     },
     "execution_count": 57,
     "metadata": {
      "application/vnd.holoviews_exec.v0+json": {
       "id": "5105"
      }
     },
     "output_type": "execute_result"
    }
   ],
   "source": [
    "unemployment_df = unemployment_df.set_index(\"Year\").drop(\"Annual\", axis=1).transpose()\n",
    "unemployment_df.hvplot.heatmap(\n",
    "    x=\"columns\",\n",
    "    y=\"index\",\n",
    "    title=\"US Unemployment 1948—2016\",\n",
    "    cmap=[\n",
    "        \"#75968f\",\n",
    "        \"#a5bab7\",\n",
    "        \"#c9d9d3\",\n",
    "        \"#e2e2e2\",\n",
    "        \"#dfccce\",\n",
    "        \"#ddb7b1\",\n",
    "        \"#cc7878\",\n",
    "        \"#933b41\",\n",
    "        \"#550b1d\",\n",
    "    ],\n",
    "    xaxis=\"top\",\n",
    "    rot=70,\n",
    "    width=1000,\n",
    "    height=500,\n",
    ").opts(fontsize={\"title\": 10, \"xticks\": 5, \"yticks\": 5})"
   ]
  },
  {
   "cell_type": "code",
   "execution_count": 58,
   "metadata": {},
   "outputs": [
    {
     "data": {},
     "metadata": {},
     "output_type": "display_data"
    },
    {
     "data": {
      "application/vnd.holoviews_exec.v0+json": "",
      "text/html": [
       "<div id='5224'>\n",
       "  <div class=\"bk-root\" id=\"44e10eec-5a70-4509-8b21-7add0130490f\" data-root-id=\"5224\"></div>\n",
       "</div>\n",
       "<script type=\"application/javascript\">(function(root) {\n",
       "  function embed_document(root) {\n",
       "    var docs_json = {\"35e3c968-679a-4f70-b6ef-51faec78391c\":{\"defs\":[{\"extends\":null,\"module\":null,\"name\":\"ReactiveHTML1\",\"overrides\":[],\"properties\":[]},{\"extends\":null,\"module\":null,\"name\":\"FlexBox1\",\"overrides\":[],\"properties\":[{\"default\":\"flex-start\",\"kind\":null,\"name\":\"align_content\"},{\"default\":\"flex-start\",\"kind\":null,\"name\":\"align_items\"},{\"default\":\"row\",\"kind\":null,\"name\":\"flex_direction\"},{\"default\":\"wrap\",\"kind\":null,\"name\":\"flex_wrap\"},{\"default\":\"flex-start\",\"kind\":null,\"name\":\"justify_content\"}]},{\"extends\":null,\"module\":null,\"name\":\"GridStack1\",\"overrides\":[],\"properties\":[{\"default\":\"warn\",\"kind\":null,\"name\":\"mode\"},{\"default\":null,\"kind\":null,\"name\":\"ncols\"},{\"default\":null,\"kind\":null,\"name\":\"nrows\"},{\"default\":true,\"kind\":null,\"name\":\"allow_resize\"},{\"default\":true,\"kind\":null,\"name\":\"allow_drag\"},{\"default\":[],\"kind\":null,\"name\":\"state\"}]},{\"extends\":null,\"module\":null,\"name\":\"click1\",\"overrides\":[],\"properties\":[{\"default\":\"\",\"kind\":null,\"name\":\"terminal_output\"},{\"default\":\"\",\"kind\":null,\"name\":\"debug_name\"},{\"default\":0,\"kind\":null,\"name\":\"clears\"}]},{\"extends\":null,\"module\":null,\"name\":\"NotificationAreaBase1\",\"overrides\":[],\"properties\":[{\"default\":\"bottom-right\",\"kind\":null,\"name\":\"position\"},{\"default\":0,\"kind\":null,\"name\":\"_clear\"}]},{\"extends\":null,\"module\":null,\"name\":\"NotificationArea1\",\"overrides\":[],\"properties\":[{\"default\":[],\"kind\":null,\"name\":\"notifications\"},{\"default\":\"bottom-right\",\"kind\":null,\"name\":\"position\"},{\"default\":0,\"kind\":null,\"name\":\"_clear\"},{\"default\":[{\"background\":\"#ffc107\",\"icon\":{\"className\":\"fas fa-exclamation-triangle\",\"color\":\"white\",\"tagName\":\"i\"},\"type\":\"warning\"},{\"background\":\"#007bff\",\"icon\":{\"className\":\"fas fa-info-circle\",\"color\":\"white\",\"tagName\":\"i\"},\"type\":\"info\"}],\"kind\":null,\"name\":\"types\"}]},{\"extends\":null,\"module\":null,\"name\":\"Notification\",\"overrides\":[],\"properties\":[{\"default\":null,\"kind\":null,\"name\":\"background\"},{\"default\":3000,\"kind\":null,\"name\":\"duration\"},{\"default\":null,\"kind\":null,\"name\":\"icon\"},{\"default\":\"\",\"kind\":null,\"name\":\"message\"},{\"default\":null,\"kind\":null,\"name\":\"notification_type\"},{\"default\":false,\"kind\":null,\"name\":\"_destroyed\"}]},{\"extends\":null,\"module\":null,\"name\":\"TemplateActions1\",\"overrides\":[],\"properties\":[{\"default\":0,\"kind\":null,\"name\":\"open_modal\"},{\"default\":0,\"kind\":null,\"name\":\"close_modal\"}]},{\"extends\":null,\"module\":null,\"name\":\"MaterialTemplateActions1\",\"overrides\":[],\"properties\":[{\"default\":0,\"kind\":null,\"name\":\"open_modal\"},{\"default\":0,\"kind\":null,\"name\":\"close_modal\"}]}],\"roots\":{\"references\":[{\"attributes\":{},\"id\":\"5243\",\"type\":\"BasicTicker\"},{\"attributes\":{},\"id\":\"5260\",\"type\":\"Selection\"},{\"attributes\":{\"axis\":{\"id\":\"5242\"},\"coordinates\":null,\"dimension\":1,\"grid_line_color\":null,\"group\":null,\"ticker\":null},\"id\":\"5245\",\"type\":\"Grid\"},{\"attributes\":{\"end\":13.56,\"reset_end\":13.56,\"reset_start\":10.44,\"start\":10.44,\"tags\":[[[\"Suicides per 100k\",\"Suicides per 100k\",null]]]},\"id\":\"5227\",\"type\":\"Range1d\"},{\"attributes\":{\"callback\":null,\"renderers\":[{\"id\":\"5265\"}],\"tags\":[\"hv_created\"],\"tooltips\":[[\"Year\",\"@{Year}\"],[\"Suicides per 100k\",\"@{Suicides_per_100k}\"]]},\"id\":\"5228\",\"type\":\"HoverTool\"},{\"attributes\":{\"below\":[{\"id\":\"5238\"}],\"center\":[{\"id\":\"5241\"},{\"id\":\"5245\"}],\"height\":300,\"left\":[{\"id\":\"5242\"}],\"margin\":[5,5,5,5],\"min_border_bottom\":10,\"min_border_left\":10,\"min_border_right\":10,\"min_border_top\":10,\"renderers\":[{\"id\":\"5265\"}],\"sizing_mode\":\"fixed\",\"title\":{\"id\":\"5230\"},\"toolbar\":{\"id\":\"5252\"},\"width\":700,\"x_range\":{\"id\":\"5226\"},\"x_scale\":{\"id\":\"5234\"},\"y_range\":{\"id\":\"5227\"},\"y_scale\":{\"id\":\"5236\"}},\"id\":\"5229\",\"subtype\":\"Figure\",\"type\":\"Plot\"},{\"attributes\":{},\"id\":\"5281\",\"type\":\"UnionRenderers\"},{\"attributes\":{},\"id\":\"5273\",\"type\":\"AllLabels\"},{\"attributes\":{\"source\":{\"id\":\"5259\"}},\"id\":\"5266\",\"type\":\"CDSView\"},{\"attributes\":{\"margin\":[5,5,5,5],\"name\":\"HSpacer07213\",\"sizing_mode\":\"stretch_width\"},\"id\":\"5284\",\"type\":\"Spacer\"},{\"attributes\":{\"tools\":[{\"id\":\"5228\"},{\"id\":\"5246\"},{\"id\":\"5247\"},{\"id\":\"5248\"},{\"id\":\"5249\"},{\"id\":\"5250\"}]},\"id\":\"5252\",\"type\":\"Toolbar\"},{\"attributes\":{\"line_color\":\"#30a2da\",\"line_width\":2,\"x\":{\"field\":\"Year\"},\"y\":{\"field\":\"Suicides per 100k\"}},\"id\":\"5262\",\"type\":\"Line\"},{\"attributes\":{},\"id\":\"5270\",\"type\":\"AllLabels\"},{\"attributes\":{\"bottom_units\":\"screen\",\"coordinates\":null,\"fill_alpha\":0.5,\"fill_color\":\"lightgrey\",\"group\":null,\"left_units\":\"screen\",\"level\":\"overlay\",\"line_alpha\":1.0,\"line_color\":\"black\",\"line_dash\":[4,4],\"line_width\":2,\"right_units\":\"screen\",\"syncable\":false,\"top_units\":\"screen\"},\"id\":\"5251\",\"type\":\"BoxAnnotation\"},{\"attributes\":{\"line_alpha\":0.2,\"line_color\":\"#30a2da\",\"line_width\":2,\"x\":{\"field\":\"Year\"},\"y\":{\"field\":\"Suicides per 100k\"}},\"id\":\"5264\",\"type\":\"Line\"},{\"attributes\":{},\"id\":\"5246\",\"type\":\"SaveTool\"},{\"attributes\":{},\"id\":\"5247\",\"type\":\"PanTool\"},{\"attributes\":{\"axis_label\":\"Suicides per 100k\",\"coordinates\":null,\"formatter\":{\"id\":\"5272\"},\"group\":null,\"major_label_policy\":{\"id\":\"5273\"},\"ticker\":{\"id\":\"5243\"}},\"id\":\"5242\",\"type\":\"LinearAxis\"},{\"attributes\":{},\"id\":\"5250\",\"type\":\"ResetTool\"},{\"attributes\":{\"coordinates\":null,\"data_source\":{\"id\":\"5259\"},\"glyph\":{\"id\":\"5262\"},\"group\":null,\"hover_glyph\":null,\"muted_glyph\":{\"id\":\"5264\"},\"nonselection_glyph\":{\"id\":\"5263\"},\"selection_glyph\":{\"id\":\"5267\"},\"view\":{\"id\":\"5266\"}},\"id\":\"5265\",\"type\":\"GlyphRenderer\"},{\"attributes\":{},\"id\":\"5248\",\"type\":\"WheelZoomTool\"},{\"attributes\":{\"line_alpha\":0.1,\"line_color\":\"#30a2da\",\"line_width\":2,\"x\":{\"field\":\"Year\"},\"y\":{\"field\":\"Suicides per 100k\"}},\"id\":\"5263\",\"type\":\"Line\"},{\"attributes\":{\"coordinates\":null,\"group\":null,\"text_color\":\"black\",\"text_font_size\":\"12pt\"},\"id\":\"5230\",\"type\":\"Title\"},{\"attributes\":{\"overlay\":{\"id\":\"5251\"}},\"id\":\"5249\",\"type\":\"BoxZoomTool\"},{\"attributes\":{},\"id\":\"5234\",\"type\":\"LinearScale\"},{\"attributes\":{\"margin\":[5,5,5,5],\"name\":\"HSpacer07212\",\"sizing_mode\":\"stretch_width\"},\"id\":\"5225\",\"type\":\"Spacer\"},{\"attributes\":{},\"id\":\"5239\",\"type\":\"BasicTicker\"},{\"attributes\":{\"axis\":{\"id\":\"5238\"},\"coordinates\":null,\"grid_line_color\":null,\"group\":null,\"ticker\":null},\"id\":\"5241\",\"type\":\"Grid\"},{\"attributes\":{},\"id\":\"5272\",\"type\":\"BasicTickFormatter\"},{\"attributes\":{},\"id\":\"5269\",\"type\":\"BasicTickFormatter\"},{\"attributes\":{\"data\":{\"Suicides per 100k\":{\"__ndarray__\":\"AAAAAAAAKUAAAAAAAAAqQJqZmZmZmSlAAAAAAAAAKUCamZmZmZkoQAAAAAAAAClAmpmZmZmZKEAzMzMzMzMoQGZmZmZmZihAMzMzMzMzKEAAAAAAAAAoQGZmZmZmZidAzczMzMzMJkCamZmZmZkmQGZmZmZmZiVAzczMzMzMJUCamZmZmZklQM3MzMzMzCVAmpmZmZmZJUDNzMzMzMwlQM3MzMzMzCVAzczMzMzMJUCamZmZmZkmQDMzMzMzMydAmpmZmZmZJ0AzMzMzMzMoQJqZmZmZmShAMzMzMzMzKUAzMzMzMzMpQAAAAAAAACpAmpmZmZmZKkA=\",\"dtype\":\"float64\",\"order\":\"little\",\"shape\":[31]},\"Suicides_per_100k\":{\"__ndarray__\":\"AAAAAAAAKUAAAAAAAAAqQJqZmZmZmSlAAAAAAAAAKUCamZmZmZkoQAAAAAAAAClAmpmZmZmZKEAzMzMzMzMoQGZmZmZmZihAMzMzMzMzKEAAAAAAAAAoQGZmZmZmZidAzczMzMzMJkCamZmZmZkmQGZmZmZmZiVAzczMzMzMJUCamZmZmZklQM3MzMzMzCVAmpmZmZmZJUDNzMzMzMwlQM3MzMzMzCVAzczMzMzMJUCamZmZmZkmQDMzMzMzMydAmpmZmZmZJ0AzMzMzMzMoQJqZmZmZmShAMzMzMzMzKUAzMzMzMzMpQAAAAAAAACpAmpmZmZmZKkA=\",\"dtype\":\"float64\",\"order\":\"little\",\"shape\":[31]},\"Year\":[1985,1986,1987,1988,1989,1990,1991,1992,1993,1994,1995,1996,1997,1998,1999,2000,2001,2002,2003,2004,2005,2006,2007,2008,2009,2010,2011,2012,2013,2014,2015]},\"selected\":{\"id\":\"5260\"},\"selection_policy\":{\"id\":\"5281\"}},\"id\":\"5259\",\"type\":\"ColumnDataSource\"},{\"attributes\":{},\"id\":\"5236\",\"type\":\"LinearScale\"},{\"attributes\":{\"axis_label\":\"Year\",\"coordinates\":null,\"formatter\":{\"id\":\"5269\"},\"group\":null,\"major_label_policy\":{\"id\":\"5270\"},\"ticker\":{\"id\":\"5239\"}},\"id\":\"5238\",\"type\":\"LinearAxis\"},{\"attributes\":{\"end\":2015.0,\"reset_end\":2015.0,\"reset_start\":1985.0,\"start\":1985.0,\"tags\":[[[\"Year\",\"Year\",null]]]},\"id\":\"5226\",\"type\":\"Range1d\"},{\"attributes\":{\"children\":[{\"id\":\"5225\"},{\"id\":\"5229\"},{\"id\":\"5284\"}],\"margin\":[0,0,0,0],\"name\":\"Row07208\",\"tags\":[\"embedded\"]},\"id\":\"5224\",\"type\":\"Row\"},{\"attributes\":{\"line_color\":\"#30a2da\",\"line_width\":2,\"x\":{\"field\":\"Year\"},\"y\":{\"field\":\"Suicides per 100k\"}},\"id\":\"5267\",\"type\":\"Line\"}],\"root_ids\":[\"5224\"]},\"title\":\"Bokeh Application\",\"version\":\"2.4.3\"}};\n",
       "    var render_items = [{\"docid\":\"35e3c968-679a-4f70-b6ef-51faec78391c\",\"root_ids\":[\"5224\"],\"roots\":{\"5224\":\"44e10eec-5a70-4509-8b21-7add0130490f\"}}];\n",
       "    root.Bokeh.embed.embed_items_notebook(docs_json, render_items);\n",
       "  }\n",
       "  if (root.Bokeh !== undefined && root.Bokeh.Panel !== undefined) {\n",
       "    embed_document(root);\n",
       "  } else {\n",
       "    var attempts = 0;\n",
       "    var timer = setInterval(function(root) {\n",
       "      if (root.Bokeh !== undefined && root.Bokeh.Panel !== undefined) {\n",
       "        clearInterval(timer);\n",
       "        embed_document(root);\n",
       "      } else if (document.readyState == \"complete\") {\n",
       "        attempts++;\n",
       "        if (attempts > 200) {\n",
       "          clearInterval(timer);\n",
       "          console.log(\"Bokeh: ERROR: Unable to run BokehJS code because BokehJS library is missing\");\n",
       "        }\n",
       "      }\n",
       "    }, 25, root)\n",
       "  }\n",
       "})(window);</script>"
      ],
      "text/plain": [
       ":Curve   [Year]   (Suicides per 100k)"
      ]
     },
     "execution_count": 58,
     "metadata": {
      "application/vnd.holoviews_exec.v0+json": {
       "id": "5224"
      }
     },
     "output_type": "execute_result"
    }
   ],
   "source": [
    "us_suicide_rates.hvplot(x=\"Year\", y=\"Suicides per 100k\")"
   ]
  },
  {
   "cell_type": "code",
   "execution_count": 59,
   "metadata": {},
   "outputs": [
    {
     "data": {},
     "metadata": {},
     "output_type": "display_data"
    },
    {
     "data": {
      "application/vnd.holoviews_exec.v0+json": "",
      "text/html": [
       "<div id='5336'>\n",
       "  <div class=\"bk-root\" id=\"6e515b5e-3867-4765-9c73-eeb6e8754e55\" data-root-id=\"5336\"></div>\n",
       "</div>\n",
       "<script type=\"application/javascript\">(function(root) {\n",
       "  function embed_document(root) {\n",
       "    var docs_json = {\"659ac5f4-518b-47fa-92a0-e05511b694b2\":{\"defs\":[{\"extends\":null,\"module\":null,\"name\":\"ReactiveHTML1\",\"overrides\":[],\"properties\":[]},{\"extends\":null,\"module\":null,\"name\":\"FlexBox1\",\"overrides\":[],\"properties\":[{\"default\":\"flex-start\",\"kind\":null,\"name\":\"align_content\"},{\"default\":\"flex-start\",\"kind\":null,\"name\":\"align_items\"},{\"default\":\"row\",\"kind\":null,\"name\":\"flex_direction\"},{\"default\":\"wrap\",\"kind\":null,\"name\":\"flex_wrap\"},{\"default\":\"flex-start\",\"kind\":null,\"name\":\"justify_content\"}]},{\"extends\":null,\"module\":null,\"name\":\"GridStack1\",\"overrides\":[],\"properties\":[{\"default\":\"warn\",\"kind\":null,\"name\":\"mode\"},{\"default\":null,\"kind\":null,\"name\":\"ncols\"},{\"default\":null,\"kind\":null,\"name\":\"nrows\"},{\"default\":true,\"kind\":null,\"name\":\"allow_resize\"},{\"default\":true,\"kind\":null,\"name\":\"allow_drag\"},{\"default\":[],\"kind\":null,\"name\":\"state\"}]},{\"extends\":null,\"module\":null,\"name\":\"click1\",\"overrides\":[],\"properties\":[{\"default\":\"\",\"kind\":null,\"name\":\"terminal_output\"},{\"default\":\"\",\"kind\":null,\"name\":\"debug_name\"},{\"default\":0,\"kind\":null,\"name\":\"clears\"}]},{\"extends\":null,\"module\":null,\"name\":\"NotificationAreaBase1\",\"overrides\":[],\"properties\":[{\"default\":\"bottom-right\",\"kind\":null,\"name\":\"position\"},{\"default\":0,\"kind\":null,\"name\":\"_clear\"}]},{\"extends\":null,\"module\":null,\"name\":\"NotificationArea1\",\"overrides\":[],\"properties\":[{\"default\":[],\"kind\":null,\"name\":\"notifications\"},{\"default\":\"bottom-right\",\"kind\":null,\"name\":\"position\"},{\"default\":0,\"kind\":null,\"name\":\"_clear\"},{\"default\":[{\"background\":\"#ffc107\",\"icon\":{\"className\":\"fas fa-exclamation-triangle\",\"color\":\"white\",\"tagName\":\"i\"},\"type\":\"warning\"},{\"background\":\"#007bff\",\"icon\":{\"className\":\"fas fa-info-circle\",\"color\":\"white\",\"tagName\":\"i\"},\"type\":\"info\"}],\"kind\":null,\"name\":\"types\"}]},{\"extends\":null,\"module\":null,\"name\":\"Notification\",\"overrides\":[],\"properties\":[{\"default\":null,\"kind\":null,\"name\":\"background\"},{\"default\":3000,\"kind\":null,\"name\":\"duration\"},{\"default\":null,\"kind\":null,\"name\":\"icon\"},{\"default\":\"\",\"kind\":null,\"name\":\"message\"},{\"default\":null,\"kind\":null,\"name\":\"notification_type\"},{\"default\":false,\"kind\":null,\"name\":\"_destroyed\"}]},{\"extends\":null,\"module\":null,\"name\":\"TemplateActions1\",\"overrides\":[],\"properties\":[{\"default\":0,\"kind\":null,\"name\":\"open_modal\"},{\"default\":0,\"kind\":null,\"name\":\"close_modal\"}]},{\"extends\":null,\"module\":null,\"name\":\"MaterialTemplateActions1\",\"overrides\":[],\"properties\":[{\"default\":0,\"kind\":null,\"name\":\"open_modal\"},{\"default\":0,\"kind\":null,\"name\":\"close_modal\"}]}],\"roots\":{\"references\":[{\"attributes\":{\"tools\":[{\"id\":\"5340\"},{\"id\":\"5358\"},{\"id\":\"5359\"},{\"id\":\"5360\"},{\"id\":\"5361\"},{\"id\":\"5362\"}]},\"id\":\"5364\",\"type\":\"Toolbar\"},{\"attributes\":{},\"id\":\"5385\",\"type\":\"AllLabels\"},{\"attributes\":{\"source\":{\"id\":\"5418\"}},\"id\":\"5425\",\"type\":\"CDSView\"},{\"attributes\":{\"coordinates\":null,\"data_source\":{\"id\":\"5418\"},\"glyph\":{\"id\":\"5421\"},\"group\":null,\"hover_glyph\":null,\"muted_glyph\":{\"id\":\"5423\"},\"nonselection_glyph\":{\"id\":\"5422\"},\"selection_glyph\":{\"id\":\"5426\"},\"view\":{\"id\":\"5425\"}},\"id\":\"5424\",\"type\":\"GlyphRenderer\"},{\"attributes\":{},\"id\":\"5432\",\"type\":\"AllLabels\"},{\"attributes\":{\"end\":13.23,\"reset_end\":13.23,\"reset_start\":10.469999999999999,\"start\":10.469999999999999,\"tags\":[[[\"Suicides per 100k\",\"Suicides per 100k\",null]]]},\"id\":\"5386\",\"type\":\"Range1d\"},{\"attributes\":{},\"id\":\"5384\",\"type\":\"BasicTickFormatter\"},{\"attributes\":{},\"id\":\"5405\",\"type\":\"SaveTool\"},{\"attributes\":{},\"id\":\"5406\",\"type\":\"PanTool\"},{\"attributes\":{\"end\":5.23,\"reset_end\":5.23,\"reset_start\":2.47,\"start\":2.47,\"tags\":[[[\"Divorces_per_1000\",\"Divorces_per_1000\",null]]]},\"id\":\"5339\",\"type\":\"Range1d\"},{\"attributes\":{\"below\":[{\"id\":\"5350\"}],\"center\":[{\"id\":\"5353\"},{\"id\":\"5357\"}],\"height\":300,\"left\":[{\"id\":\"5354\"}],\"margin\":null,\"min_border_bottom\":10,\"min_border_left\":10,\"min_border_right\":10,\"min_border_top\":10,\"renderers\":[{\"id\":\"5377\"}],\"sizing_mode\":\"fixed\",\"title\":{\"id\":\"5342\"},\"toolbar\":{\"id\":\"5364\"},\"toolbar_location\":null,\"width\":700,\"x_range\":{\"id\":\"5338\"},\"x_scale\":{\"id\":\"5346\"},\"y_range\":{\"id\":\"5339\"},\"y_scale\":{\"id\":\"5348\"}},\"id\":\"5341\",\"subtype\":\"Figure\",\"type\":\"Plot\"},{\"attributes\":{},\"id\":\"5409\",\"type\":\"ResetTool\"},{\"attributes\":{},\"id\":\"5407\",\"type\":\"WheelZoomTool\"},{\"attributes\":{\"data\":{\"Suicides per 100k\":{\"__ndarray__\":\"AAAAAAAAKUAAAAAAAAAqQJqZmZmZmSlAAAAAAAAAKUCamZmZmZkoQAAAAAAAAClAmpmZmZmZKEAzMzMzMzMoQGZmZmZmZihAMzMzMzMzKEAAAAAAAAAoQGZmZmZmZidAzczMzMzMJkCamZmZmZkmQGZmZmZmZiVAzczMzMzMJUCamZmZmZklQM3MzMzMzCVAmpmZmZmZJUDNzMzMzMwlQM3MzMzMzCVAzczMzMzMJUCamZmZmZkmQDMzMzMzMydAmpmZmZmZJ0AzMzMzMzMoQJqZmZmZmShA\",\"dtype\":\"float64\",\"order\":\"little\",\"shape\":[27]},\"Suicides_per_100k\":{\"__ndarray__\":\"AAAAAAAAKUAAAAAAAAAqQJqZmZmZmSlAAAAAAAAAKUCamZmZmZkoQAAAAAAAAClAmpmZmZmZKEAzMzMzMzMoQGZmZmZmZihAMzMzMzMzKEAAAAAAAAAoQGZmZmZmZidAzczMzMzMJkCamZmZmZkmQGZmZmZmZiVAzczMzMzMJUCamZmZmZklQM3MzMzMzCVAmpmZmZmZJUDNzMzMzMwlQM3MzMzMzCVAzczMzMzMJUCamZmZmZkmQDMzMzMzMydAmpmZmZmZJ0AzMzMzMzMoQJqZmZmZmShA\",\"dtype\":\"float64\",\"order\":\"little\",\"shape\":[27]},\"Year\":[1985,1986,1987,1988,1989,1990,1991,1992,1993,1994,1995,1996,1997,1998,1999,2000,2001,2002,2003,2004,2005,2006,2007,2008,2009,2010,2011]},\"selected\":{\"id\":\"5419\"},\"selection_policy\":{\"id\":\"5451\"}},\"id\":\"5418\",\"type\":\"ColumnDataSource\"},{\"attributes\":{\"data\":{\"Divorces_per_1000\":{\"__ndarray__\":\"AAAAAAAAFECamZmZmZkTQDMzMzMzMxNAzczMzMzMEkDNzMzMzMwSQM3MzMzMzBJAzczMzMzMEkAzMzMzMzMTQGZmZmZmZhJAZmZmZmZmEkAAAAAAAAASQJmZmZmZmRFAMzMzMzMzEUBmZmZmZmYQQGZmZmZmZhBAZmZmZmZmCkBmZmZmZmYKQGZmZmZmZgpAmpmZmZmZCUAAAAAAAAAIQDMzMzMzMwdAMzMzMzMzB0BmZmZmZmYGQGZmZmZmZgZAmpmZmZmZBUBmZmZmZmYGQGZmZmZmZgZA\",\"dtype\":\"float64\",\"order\":\"little\",\"shape\":[27]},\"Year\":[1985,1986,1987,1988,1989,1990,1991,1992,1993,1994,1995,1996,1997,1998,1999,2000,2001,2002,2003,2004,2005,2006,2007,2008,2009,2010,2011]},\"selected\":{\"id\":\"5372\"},\"selection_policy\":{\"id\":\"5440\"}},\"id\":\"5371\",\"type\":\"ColumnDataSource\"},{\"attributes\":{\"line_alpha\":0.1,\"line_color\":\"maroon\",\"line_width\":2,\"x\":{\"field\":\"Year\"},\"y\":{\"field\":\"Divorces_per_1000\"}},\"id\":\"5375\",\"type\":\"Line\"},{\"attributes\":{\"overlay\":{\"id\":\"5410\"}},\"id\":\"5408\",\"type\":\"BoxZoomTool\"},{\"attributes\":{\"axis\":{\"id\":\"5401\"},\"coordinates\":null,\"dimension\":1,\"grid_line_color\":null,\"group\":null,\"ticker\":null},\"id\":\"5404\",\"type\":\"Grid\"},{\"attributes\":{},\"id\":\"5431\",\"type\":\"BasicTickFormatter\"},{\"attributes\":{\"line_color\":\"#30a2da\",\"line_width\":2,\"x\":{\"field\":\"Year\"},\"y\":{\"field\":\"Suicides per 100k\"}},\"id\":\"5421\",\"type\":\"Line\"},{\"attributes\":{},\"id\":\"5346\",\"type\":\"LinearScale\"},{\"attributes\":{\"line_color\":\"#30a2da\",\"line_width\":2,\"x\":{\"field\":\"Year\"},\"y\":{\"field\":\"Suicides per 100k\"}},\"id\":\"5426\",\"type\":\"Line\"},{\"attributes\":{\"coordinates\":null,\"group\":null,\"text_color\":\"black\",\"text_font_size\":\"12pt\"},\"id\":\"5342\",\"type\":\"Title\"},{\"attributes\":{},\"id\":\"5355\",\"type\":\"BasicTicker\"},{\"attributes\":{},\"id\":\"5382\",\"type\":\"AllLabels\"},{\"attributes\":{\"children\":[{\"id\":\"5457\"},{\"id\":\"5455\"}]},\"id\":\"5458\",\"type\":\"Column\"},{\"attributes\":{},\"id\":\"5351\",\"type\":\"BasicTicker\"},{\"attributes\":{},\"id\":\"5451\",\"type\":\"UnionRenderers\"},{\"attributes\":{\"axis\":{\"id\":\"5350\"},\"coordinates\":null,\"grid_line_color\":null,\"group\":null,\"ticker\":null},\"id\":\"5353\",\"type\":\"Grid\"},{\"attributes\":{},\"id\":\"5348\",\"type\":\"LinearScale\"},{\"attributes\":{\"axis_label\":\"Divorces_per_1000\",\"coordinates\":null,\"formatter\":{\"id\":\"5384\"},\"group\":null,\"major_label_policy\":{\"id\":\"5385\"},\"ticker\":{\"id\":\"5355\"}},\"id\":\"5354\",\"type\":\"LinearAxis\"},{\"attributes\":{},\"id\":\"5440\",\"type\":\"UnionRenderers\"},{\"attributes\":{\"axis_label\":\"Year\",\"coordinates\":null,\"formatter\":{\"id\":\"5381\"},\"group\":null,\"major_label_policy\":{\"id\":\"5382\"},\"ticker\":{\"id\":\"5351\"}},\"id\":\"5350\",\"type\":\"LinearAxis\"},{\"attributes\":{\"below\":[{\"id\":\"5397\"}],\"center\":[{\"id\":\"5400\"},{\"id\":\"5404\"}],\"height\":300,\"left\":[{\"id\":\"5401\"}],\"margin\":null,\"min_border_bottom\":10,\"min_border_left\":10,\"min_border_right\":10,\"min_border_top\":10,\"renderers\":[{\"id\":\"5424\"}],\"sizing_mode\":\"fixed\",\"title\":{\"id\":\"5389\"},\"toolbar\":{\"id\":\"5411\"},\"toolbar_location\":null,\"width\":700,\"x_range\":{\"id\":\"5338\"},\"x_scale\":{\"id\":\"5393\"},\"y_range\":{\"id\":\"5386\"},\"y_scale\":{\"id\":\"5395\"}},\"id\":\"5388\",\"subtype\":\"Figure\",\"type\":\"Plot\"},{\"attributes\":{\"callback\":null,\"renderers\":[{\"id\":\"5377\"}],\"tags\":[\"hv_created\"],\"tooltips\":[[\"Year\",\"@{Year}\"],[\"Divorces_per_1000\",\"@{Divorces_per_1000}\"]]},\"id\":\"5340\",\"type\":\"HoverTool\"},{\"attributes\":{\"line_alpha\":0.1,\"line_color\":\"#30a2da\",\"line_width\":2,\"x\":{\"field\":\"Year\"},\"y\":{\"field\":\"Suicides per 100k\"}},\"id\":\"5422\",\"type\":\"Line\"},{\"attributes\":{\"toolbars\":[{\"id\":\"5364\"},{\"id\":\"5411\"}],\"tools\":[{\"id\":\"5340\"},{\"id\":\"5358\"},{\"id\":\"5359\"},{\"id\":\"5360\"},{\"id\":\"5361\"},{\"id\":\"5362\"},{\"id\":\"5387\"},{\"id\":\"5405\"},{\"id\":\"5406\"},{\"id\":\"5407\"},{\"id\":\"5408\"},{\"id\":\"5409\"}]},\"id\":\"5456\",\"type\":\"ProxyToolbar\"},{\"attributes\":{\"axis\":{\"id\":\"5354\"},\"coordinates\":null,\"dimension\":1,\"grid_line_color\":null,\"group\":null,\"ticker\":null},\"id\":\"5357\",\"type\":\"Grid\"},{\"attributes\":{\"line_color\":\"maroon\",\"line_width\":2,\"x\":{\"field\":\"Year\"},\"y\":{\"field\":\"Divorces_per_1000\"}},\"id\":\"5379\",\"type\":\"Line\"},{\"attributes\":{},\"id\":\"5429\",\"type\":\"AllLabels\"},{\"attributes\":{\"source\":{\"id\":\"5371\"}},\"id\":\"5378\",\"type\":\"CDSView\"},{\"attributes\":{},\"id\":\"5419\",\"type\":\"Selection\"},{\"attributes\":{},\"id\":\"5393\",\"type\":\"LinearScale\"},{\"attributes\":{\"line_alpha\":0.2,\"line_color\":\"maroon\",\"line_width\":2,\"x\":{\"field\":\"Year\"},\"y\":{\"field\":\"Divorces_per_1000\"}},\"id\":\"5376\",\"type\":\"Line\"},{\"attributes\":{\"coordinates\":null,\"data_source\":{\"id\":\"5371\"},\"glyph\":{\"id\":\"5374\"},\"group\":null,\"hover_glyph\":null,\"muted_glyph\":{\"id\":\"5376\"},\"nonselection_glyph\":{\"id\":\"5375\"},\"selection_glyph\":{\"id\":\"5379\"},\"view\":{\"id\":\"5378\"}},\"id\":\"5377\",\"type\":\"GlyphRenderer\"},{\"attributes\":{\"toolbar\":{\"id\":\"5456\"},\"toolbar_location\":\"above\"},\"id\":\"5457\",\"type\":\"ToolbarBox\"},{\"attributes\":{\"coordinates\":null,\"group\":null,\"text_color\":\"black\",\"text_font_size\":\"12pt\"},\"id\":\"5389\",\"type\":\"Title\"},{\"attributes\":{},\"id\":\"5358\",\"type\":\"SaveTool\"},{\"attributes\":{},\"id\":\"5359\",\"type\":\"PanTool\"},{\"attributes\":{\"margin\":[5,5,5,5],\"name\":\"HSpacer07407\",\"sizing_mode\":\"stretch_width\"},\"id\":\"5479\",\"type\":\"Spacer\"},{\"attributes\":{},\"id\":\"5362\",\"type\":\"ResetTool\"},{\"attributes\":{},\"id\":\"5402\",\"type\":\"BasicTicker\"},{\"attributes\":{},\"id\":\"5428\",\"type\":\"BasicTickFormatter\"},{\"attributes\":{},\"id\":\"5360\",\"type\":\"WheelZoomTool\"},{\"attributes\":{\"axis_label\":\"Year\",\"coordinates\":null,\"formatter\":{\"id\":\"5428\"},\"group\":null,\"major_label_policy\":{\"id\":\"5429\"},\"ticker\":{\"id\":\"5398\"}},\"id\":\"5397\",\"type\":\"LinearAxis\"},{\"attributes\":{\"axis\":{\"id\":\"5397\"},\"coordinates\":null,\"grid_line_color\":null,\"group\":null,\"ticker\":null},\"id\":\"5400\",\"type\":\"Grid\"},{\"attributes\":{\"overlay\":{\"id\":\"5363\"}},\"id\":\"5361\",\"type\":\"BoxZoomTool\"},{\"attributes\":{},\"id\":\"5395\",\"type\":\"LinearScale\"},{\"attributes\":{\"line_color\":\"maroon\",\"line_width\":2,\"x\":{\"field\":\"Year\"},\"y\":{\"field\":\"Divorces_per_1000\"}},\"id\":\"5374\",\"type\":\"Line\"},{\"attributes\":{\"children\":[{\"id\":\"5337\"},{\"id\":\"5458\"},{\"id\":\"5479\"}],\"margin\":[0,0,0,0],\"name\":\"Row07402\",\"tags\":[\"embedded\"]},\"id\":\"5336\",\"type\":\"Row\"},{\"attributes\":{\"callback\":null,\"renderers\":[{\"id\":\"5424\"}],\"tags\":[\"hv_created\"],\"tooltips\":[[\"Year\",\"@{Year}\"],[\"Suicides per 100k\",\"@{Suicides_per_100k}\"]]},\"id\":\"5387\",\"type\":\"HoverTool\"},{\"attributes\":{\"axis_label\":\"Suicides per 100k\",\"coordinates\":null,\"formatter\":{\"id\":\"5431\"},\"group\":null,\"major_label_policy\":{\"id\":\"5432\"},\"ticker\":{\"id\":\"5402\"}},\"id\":\"5401\",\"type\":\"LinearAxis\"},{\"attributes\":{\"bottom_units\":\"screen\",\"coordinates\":null,\"fill_alpha\":0.5,\"fill_color\":\"lightgrey\",\"group\":null,\"left_units\":\"screen\",\"level\":\"overlay\",\"line_alpha\":1.0,\"line_color\":\"black\",\"line_dash\":[4,4],\"line_width\":2,\"right_units\":\"screen\",\"syncable\":false,\"top_units\":\"screen\"},\"id\":\"5410\",\"type\":\"BoxAnnotation\"},{\"attributes\":{},\"id\":\"5398\",\"type\":\"BasicTicker\"},{\"attributes\":{\"margin\":[5,5,5,5],\"name\":\"HSpacer07406\",\"sizing_mode\":\"stretch_width\"},\"id\":\"5337\",\"type\":\"Spacer\"},{\"attributes\":{},\"id\":\"5372\",\"type\":\"Selection\"},{\"attributes\":{\"bottom_units\":\"screen\",\"coordinates\":null,\"fill_alpha\":0.5,\"fill_color\":\"lightgrey\",\"group\":null,\"left_units\":\"screen\",\"level\":\"overlay\",\"line_alpha\":1.0,\"line_color\":\"black\",\"line_dash\":[4,4],\"line_width\":2,\"right_units\":\"screen\",\"syncable\":false,\"top_units\":\"screen\"},\"id\":\"5363\",\"type\":\"BoxAnnotation\"},{\"attributes\":{\"children\":[[{\"id\":\"5341\"},0,0],[{\"id\":\"5388\"},0,1]]},\"id\":\"5455\",\"type\":\"GridBox\"},{\"attributes\":{\"end\":2011.0,\"reset_end\":2011.0,\"reset_start\":1985.0,\"start\":1985.0,\"tags\":[[[\"Year\",\"Year\",null]]]},\"id\":\"5338\",\"type\":\"Range1d\"},{\"attributes\":{\"line_alpha\":0.2,\"line_color\":\"#30a2da\",\"line_width\":2,\"x\":{\"field\":\"Year\"},\"y\":{\"field\":\"Suicides per 100k\"}},\"id\":\"5423\",\"type\":\"Line\"},{\"attributes\":{},\"id\":\"5381\",\"type\":\"BasicTickFormatter\"},{\"attributes\":{\"tools\":[{\"id\":\"5387\"},{\"id\":\"5405\"},{\"id\":\"5406\"},{\"id\":\"5407\"},{\"id\":\"5408\"},{\"id\":\"5409\"}]},\"id\":\"5411\",\"type\":\"Toolbar\"}],\"root_ids\":[\"5336\"]},\"title\":\"Bokeh Application\",\"version\":\"2.4.3\"}};\n",
       "    var render_items = [{\"docid\":\"659ac5f4-518b-47fa-92a0-e05511b694b2\",\"root_ids\":[\"5336\"],\"roots\":{\"5336\":\"6e515b5e-3867-4765-9c73-eeb6e8754e55\"}}];\n",
       "    root.Bokeh.embed.embed_items_notebook(docs_json, render_items);\n",
       "  }\n",
       "  if (root.Bokeh !== undefined && root.Bokeh.Panel !== undefined) {\n",
       "    embed_document(root);\n",
       "  } else {\n",
       "    var attempts = 0;\n",
       "    var timer = setInterval(function(root) {\n",
       "      if (root.Bokeh !== undefined && root.Bokeh.Panel !== undefined) {\n",
       "        clearInterval(timer);\n",
       "        embed_document(root);\n",
       "      } else if (document.readyState == \"complete\") {\n",
       "        attempts++;\n",
       "        if (attempts > 200) {\n",
       "          clearInterval(timer);\n",
       "          console.log(\"Bokeh: ERROR: Unable to run BokehJS code because BokehJS library is missing\");\n",
       "        }\n",
       "      }\n",
       "    }, 25, root)\n",
       "  }\n",
       "})(window);</script>"
      ],
      "text/plain": [
       ":Layout\n",
       "   .Curve.I  :Curve   [Year]   (Divorces_per_1000)\n",
       "   .Curve.II :Curve   [Year]   (Suicides per 100k)"
      ]
     },
     "execution_count": 59,
     "metadata": {
      "application/vnd.holoviews_exec.v0+json": {
       "id": "5336"
      }
     },
     "output_type": "execute_result"
    }
   ],
   "source": [
    "divorces_df.tail(27).hvplot(\n",
    "    x=\"Year\", y=\"Divorces_per_1000\", color=\"maroon\"\n",
    ") + us_suicide_rates.head(27).hvplot(x=\"Year\", y=\"Suicides per 100k\")"
   ]
  },
  {
   "cell_type": "code",
   "execution_count": 60,
   "metadata": {},
   "outputs": [
    {
     "data": {
      "text/html": [
       "<div>\n",
       "<style scoped>\n",
       "    .dataframe tbody tr th:only-of-type {\n",
       "        vertical-align: middle;\n",
       "    }\n",
       "\n",
       "    .dataframe tbody tr th {\n",
       "        vertical-align: top;\n",
       "    }\n",
       "\n",
       "    .dataframe thead th {\n",
       "        text-align: right;\n",
       "    }\n",
       "</style>\n",
       "<table border=\"1\" class=\"dataframe\">\n",
       "  <thead>\n",
       "    <tr style=\"text-align: right;\">\n",
       "      <th></th>\n",
       "      <th>Country</th>\n",
       "      <th>Year</th>\n",
       "      <th>Sex</th>\n",
       "      <th>Age</th>\n",
       "      <th>Number of Suicides</th>\n",
       "      <th>Suicides per 100k</th>\n",
       "      <th>GDP for Year ($)</th>\n",
       "      <th>GDP per Capita ($)</th>\n",
       "      <th>Generation</th>\n",
       "    </tr>\n",
       "  </thead>\n",
       "  <tbody>\n",
       "    <tr>\n",
       "      <th>0</th>\n",
       "      <td>United States</td>\n",
       "      <td>1985</td>\n",
       "      <td>male</td>\n",
       "      <td>75+ years</td>\n",
       "      <td>2177</td>\n",
       "      <td>53.57</td>\n",
       "      <td>4,346,734,000,000</td>\n",
       "      <td>19693</td>\n",
       "      <td>G.I. Generation</td>\n",
       "    </tr>\n",
       "    <tr>\n",
       "      <th>1</th>\n",
       "      <td>United States</td>\n",
       "      <td>1985</td>\n",
       "      <td>male</td>\n",
       "      <td>55-74 years</td>\n",
       "      <td>5302</td>\n",
       "      <td>29.50</td>\n",
       "      <td>4,346,734,000,000</td>\n",
       "      <td>19693</td>\n",
       "      <td>G.I. Generation</td>\n",
       "    </tr>\n",
       "    <tr>\n",
       "      <th>2</th>\n",
       "      <td>United States</td>\n",
       "      <td>1985</td>\n",
       "      <td>male</td>\n",
       "      <td>25-34 years</td>\n",
       "      <td>5134</td>\n",
       "      <td>24.46</td>\n",
       "      <td>4,346,734,000,000</td>\n",
       "      <td>19693</td>\n",
       "      <td>Boomers</td>\n",
       "    </tr>\n",
       "    <tr>\n",
       "      <th>3</th>\n",
       "      <td>United States</td>\n",
       "      <td>1985</td>\n",
       "      <td>male</td>\n",
       "      <td>35-54 years</td>\n",
       "      <td>6053</td>\n",
       "      <td>22.77</td>\n",
       "      <td>4,346,734,000,000</td>\n",
       "      <td>19693</td>\n",
       "      <td>Silent</td>\n",
       "    </tr>\n",
       "    <tr>\n",
       "      <th>4</th>\n",
       "      <td>United States</td>\n",
       "      <td>1985</td>\n",
       "      <td>male</td>\n",
       "      <td>15-24 years</td>\n",
       "      <td>4267</td>\n",
       "      <td>21.38</td>\n",
       "      <td>4,346,734,000,000</td>\n",
       "      <td>19693</td>\n",
       "      <td>Generation X</td>\n",
       "    </tr>\n",
       "  </tbody>\n",
       "</table>\n",
       "</div>"
      ],
      "text/plain": [
       "         Country  Year   Sex          Age  Number of Suicides  \\\n",
       "0  United States  1985  male    75+ years                2177   \n",
       "1  United States  1985  male  55-74 years                5302   \n",
       "2  United States  1985  male  25-34 years                5134   \n",
       "3  United States  1985  male  35-54 years                6053   \n",
       "4  United States  1985  male  15-24 years                4267   \n",
       "\n",
       "   Suicides per 100k   GDP for Year ($)  GDP per Capita ($)       Generation  \n",
       "0              53.57  4,346,734,000,000               19693  G.I. Generation  \n",
       "1              29.50  4,346,734,000,000               19693  G.I. Generation  \n",
       "2              24.46  4,346,734,000,000               19693          Boomers  \n",
       "3              22.77  4,346,734,000,000               19693           Silent  \n",
       "4              21.38  4,346,734,000,000               19693     Generation X  "
      ]
     },
     "execution_count": 60,
     "metadata": {},
     "output_type": "execute_result"
    }
   ],
   "source": [
    "us_suicides_master.head()"
   ]
  },
  {
   "cell_type": "code",
   "execution_count": 61,
   "metadata": {},
   "outputs": [
    {
     "data": {},
     "metadata": {},
     "output_type": "display_data"
    },
    {
     "data": {
      "application/vnd.holoviews_exec.v0+json": "",
      "text/html": [
       "<div id='5581'>\n",
       "  <div class=\"bk-root\" id=\"6d8c5e96-828d-46a4-a4c1-1eb28155dbe7\" data-root-id=\"5581\"></div>\n",
       "</div>\n",
       "<script type=\"application/javascript\">(function(root) {\n",
       "  function embed_document(root) {\n",
       "    var docs_json = {\"be944f6a-b8b5-4616-a3e6-12ed053921a0\":{\"defs\":[{\"extends\":null,\"module\":null,\"name\":\"ReactiveHTML1\",\"overrides\":[],\"properties\":[]},{\"extends\":null,\"module\":null,\"name\":\"FlexBox1\",\"overrides\":[],\"properties\":[{\"default\":\"flex-start\",\"kind\":null,\"name\":\"align_content\"},{\"default\":\"flex-start\",\"kind\":null,\"name\":\"align_items\"},{\"default\":\"row\",\"kind\":null,\"name\":\"flex_direction\"},{\"default\":\"wrap\",\"kind\":null,\"name\":\"flex_wrap\"},{\"default\":\"flex-start\",\"kind\":null,\"name\":\"justify_content\"}]},{\"extends\":null,\"module\":null,\"name\":\"GridStack1\",\"overrides\":[],\"properties\":[{\"default\":\"warn\",\"kind\":null,\"name\":\"mode\"},{\"default\":null,\"kind\":null,\"name\":\"ncols\"},{\"default\":null,\"kind\":null,\"name\":\"nrows\"},{\"default\":true,\"kind\":null,\"name\":\"allow_resize\"},{\"default\":true,\"kind\":null,\"name\":\"allow_drag\"},{\"default\":[],\"kind\":null,\"name\":\"state\"}]},{\"extends\":null,\"module\":null,\"name\":\"click1\",\"overrides\":[],\"properties\":[{\"default\":\"\",\"kind\":null,\"name\":\"terminal_output\"},{\"default\":\"\",\"kind\":null,\"name\":\"debug_name\"},{\"default\":0,\"kind\":null,\"name\":\"clears\"}]},{\"extends\":null,\"module\":null,\"name\":\"NotificationAreaBase1\",\"overrides\":[],\"properties\":[{\"default\":\"bottom-right\",\"kind\":null,\"name\":\"position\"},{\"default\":0,\"kind\":null,\"name\":\"_clear\"}]},{\"extends\":null,\"module\":null,\"name\":\"NotificationArea1\",\"overrides\":[],\"properties\":[{\"default\":[],\"kind\":null,\"name\":\"notifications\"},{\"default\":\"bottom-right\",\"kind\":null,\"name\":\"position\"},{\"default\":0,\"kind\":null,\"name\":\"_clear\"},{\"default\":[{\"background\":\"#ffc107\",\"icon\":{\"className\":\"fas fa-exclamation-triangle\",\"color\":\"white\",\"tagName\":\"i\"},\"type\":\"warning\"},{\"background\":\"#007bff\",\"icon\":{\"className\":\"fas fa-info-circle\",\"color\":\"white\",\"tagName\":\"i\"},\"type\":\"info\"}],\"kind\":null,\"name\":\"types\"}]},{\"extends\":null,\"module\":null,\"name\":\"Notification\",\"overrides\":[],\"properties\":[{\"default\":null,\"kind\":null,\"name\":\"background\"},{\"default\":3000,\"kind\":null,\"name\":\"duration\"},{\"default\":null,\"kind\":null,\"name\":\"icon\"},{\"default\":\"\",\"kind\":null,\"name\":\"message\"},{\"default\":null,\"kind\":null,\"name\":\"notification_type\"},{\"default\":false,\"kind\":null,\"name\":\"_destroyed\"}]},{\"extends\":null,\"module\":null,\"name\":\"TemplateActions1\",\"overrides\":[],\"properties\":[{\"default\":0,\"kind\":null,\"name\":\"open_modal\"},{\"default\":0,\"kind\":null,\"name\":\"close_modal\"}]},{\"extends\":null,\"module\":null,\"name\":\"MaterialTemplateActions1\",\"overrides\":[],\"properties\":[{\"default\":0,\"kind\":null,\"name\":\"open_modal\"},{\"default\":0,\"kind\":null,\"name\":\"close_modal\"}]}],\"roots\":{\"references\":[{\"attributes\":{\"data\":{\"Suicides per 100k\":{\"__ndarray__\":\"7FG4HoUbY0DhehSuR8ljQJqZmZmZ8WNAFa5H4XqUY0C4HoXrURhjQIXrUbgevWNAFK5H4XpkY0AzMzMzM6tiQOF6FK5H2WJA7FG4HoWbYkDrUbgehUtiQIXrUbgelWFAzczMzMz8YEApXI/C9dhgQK5H4XoUrl9ASOF6FK7nXkA+CtejcD1fQM3MzMzMfF9AcT0K16NwXkBSuB6F61FeQHE9CtejYF5AzczMzMzsXUAVrkfherReQClcj8L1eF9AcT0K16OgX0DhehSuR0lgQPYoXI/CjWBArkfhehTOYEBcj8L1KORgQKRwPQrXQ2FA9ihcj8KFYUA=\",\"dtype\":\"float64\",\"order\":\"little\",\"shape\":[31]},\"Suicides_per_100k\":{\"__ndarray__\":\"7FG4HoUbY0DhehSuR8ljQJqZmZmZ8WNAFa5H4XqUY0C4HoXrURhjQIXrUbgevWNAFK5H4XpkY0AzMzMzM6tiQOF6FK5H2WJA7FG4HoWbYkDrUbgehUtiQIXrUbgelWFAzczMzMz8YEApXI/C9dhgQK5H4XoUrl9ASOF6FK7nXkA+CtejcD1fQM3MzMzMfF9AcT0K16NwXkBSuB6F61FeQHE9CtejYF5AzczMzMzsXUAVrkfherReQClcj8L1eF9AcT0K16OgX0DhehSuR0lgQPYoXI/CjWBArkfhehTOYEBcj8L1KORgQKRwPQrXQ2FA9ihcj8KFYUA=\",\"dtype\":\"float64\",\"order\":\"little\",\"shape\":[31]},\"Year\":[1985,1986,1987,1988,1989,1990,1991,1992,1993,1994,1995,1996,1997,1998,1999,2000,2001,2002,2003,2004,2005,2006,2007,2008,2009,2010,2011,2012,2013,2014,2015]},\"selected\":{\"id\":\"5624\"},\"selection_policy\":{\"id\":\"5648\"}},\"id\":\"5623\",\"type\":\"ColumnDataSource\"},{\"attributes\":{\"source\":{\"id\":\"5623\"}},\"id\":\"5630\",\"type\":\"CDSView\"},{\"attributes\":{},\"id\":\"5619\",\"type\":\"AllLabels\"},{\"attributes\":{\"below\":[{\"id\":\"5596\"}],\"center\":[{\"id\":\"5599\"},{\"id\":\"5603\"}],\"height\":300,\"left\":[{\"id\":\"5600\"}],\"margin\":[5,5,5,5],\"min_border_bottom\":10,\"min_border_left\":10,\"min_border_right\":10,\"min_border_top\":10,\"renderers\":[{\"id\":\"5629\"},{\"id\":\"5638\"}],\"sizing_mode\":\"fixed\",\"title\":{\"id\":\"5588\"},\"toolbar\":{\"id\":\"5610\"},\"width\":700,\"x_range\":{\"id\":\"5583\"},\"x_scale\":{\"id\":\"5592\"},\"y_range\":{\"id\":\"5584\"},\"y_scale\":{\"id\":\"5594\"}},\"id\":\"5587\",\"subtype\":\"Figure\",\"type\":\"Plot\"},{\"attributes\":{\"line_color\":\"#fc4f30\",\"line_width\":2,\"x\":{\"field\":\"Year\"},\"y\":{\"field\":\"Suicides per 100k\"}},\"id\":\"5640\",\"type\":\"Line\"},{\"attributes\":{\"end\":173.209,\"reset_end\":173.209,\"reset_start\":9.301,\"start\":9.301,\"tags\":[[[\"Suicides per 100k\",\"Suicides per 100k\",null]]]},\"id\":\"5584\",\"type\":\"Range1d\"},{\"attributes\":{\"coordinates\":null,\"data_source\":{\"id\":\"5632\"},\"glyph\":{\"id\":\"5635\"},\"group\":null,\"hover_glyph\":null,\"muted_glyph\":{\"id\":\"5637\"},\"nonselection_glyph\":{\"id\":\"5636\"},\"selection_glyph\":{\"id\":\"5640\"},\"view\":{\"id\":\"5639\"}},\"id\":\"5638\",\"type\":\"GlyphRenderer\"},{\"attributes\":{\"line_alpha\":0.1,\"line_color\":\"#fc4f30\",\"line_width\":2,\"x\":{\"field\":\"Year\"},\"y\":{\"field\":\"Suicides per 100k\"}},\"id\":\"5636\",\"type\":\"Line\"},{\"attributes\":{},\"id\":\"5622\",\"type\":\"AllLabels\"},{\"attributes\":{\"tools\":[{\"id\":\"5585\"},{\"id\":\"5604\"},{\"id\":\"5605\"},{\"id\":\"5606\"},{\"id\":\"5607\"},{\"id\":\"5608\"}]},\"id\":\"5610\",\"type\":\"Toolbar\"},{\"attributes\":{},\"id\":\"5601\",\"type\":\"BasicTicker\"},{\"attributes\":{},\"id\":\"5633\",\"type\":\"Selection\"},{\"attributes\":{\"bottom_units\":\"screen\",\"coordinates\":null,\"fill_alpha\":0.5,\"fill_color\":\"lightgrey\",\"group\":null,\"left_units\":\"screen\",\"level\":\"overlay\",\"line_alpha\":1.0,\"line_color\":\"black\",\"line_dash\":[4,4],\"line_width\":2,\"right_units\":\"screen\",\"syncable\":false,\"top_units\":\"screen\"},\"id\":\"5609\",\"type\":\"BoxAnnotation\"},{\"attributes\":{\"children\":[{\"id\":\"5582\"},{\"id\":\"5587\"},{\"id\":\"5653\"}],\"margin\":[0,0,0,0],\"name\":\"Row07639\",\"tags\":[\"embedded\"]},\"id\":\"5581\",\"type\":\"Row\"},{\"attributes\":{},\"id\":\"5604\",\"type\":\"SaveTool\"},{\"attributes\":{},\"id\":\"5605\",\"type\":\"PanTool\"},{\"attributes\":{},\"id\":\"5621\",\"type\":\"BasicTickFormatter\"},{\"attributes\":{\"callback\":null,\"renderers\":[{\"id\":\"5629\"},{\"id\":\"5638\"}],\"tags\":[\"hv_created\"],\"tooltips\":[[\"Year\",\"@{Year}\"],[\"Suicides per 100k\",\"@{Suicides_per_100k}\"]]},\"id\":\"5585\",\"type\":\"HoverTool\"},{\"attributes\":{},\"id\":\"5608\",\"type\":\"ResetTool\"},{\"attributes\":{\"line_color\":\"#30a2da\",\"line_width\":2,\"x\":{\"field\":\"Year\"},\"y\":{\"field\":\"Suicides per 100k\"}},\"id\":\"5631\",\"type\":\"Line\"},{\"attributes\":{},\"id\":\"5606\",\"type\":\"WheelZoomTool\"},{\"attributes\":{\"margin\":[5,5,5,5],\"name\":\"HSpacer07644\",\"sizing_mode\":\"stretch_width\"},\"id\":\"5653\",\"type\":\"Spacer\"},{\"attributes\":{\"coordinates\":null,\"group\":null,\"text_color\":\"black\",\"text_font_size\":\"12pt\"},\"id\":\"5588\",\"type\":\"Title\"},{\"attributes\":{\"overlay\":{\"id\":\"5609\"}},\"id\":\"5607\",\"type\":\"BoxZoomTool\"},{\"attributes\":{\"line_color\":\"#30a2da\",\"line_width\":2,\"x\":{\"field\":\"Year\"},\"y\":{\"field\":\"Suicides per 100k\"}},\"id\":\"5626\",\"type\":\"Line\"},{\"attributes\":{},\"id\":\"5592\",\"type\":\"LinearScale\"},{\"attributes\":{\"margin\":[5,5,5,5],\"name\":\"HSpacer07643\",\"sizing_mode\":\"stretch_width\"},\"id\":\"5582\",\"type\":\"Spacer\"},{\"attributes\":{},\"id\":\"5597\",\"type\":\"BasicTicker\"},{\"attributes\":{\"end\":2015.0,\"reset_end\":2015.0,\"reset_start\":1985.0,\"start\":1985.0,\"tags\":[[[\"Year\",\"Year\",null]]]},\"id\":\"5583\",\"type\":\"Range1d\"},{\"attributes\":{\"axis\":{\"id\":\"5596\"},\"coordinates\":null,\"grid_line_color\":null,\"group\":null,\"ticker\":null},\"id\":\"5599\",\"type\":\"Grid\"},{\"attributes\":{\"line_alpha\":0.2,\"line_color\":\"#fc4f30\",\"line_width\":2,\"x\":{\"field\":\"Year\"},\"y\":{\"field\":\"Suicides per 100k\"}},\"id\":\"5637\",\"type\":\"Line\"},{\"attributes\":{\"line_alpha\":0.1,\"line_color\":\"#30a2da\",\"line_width\":2,\"x\":{\"field\":\"Year\"},\"y\":{\"field\":\"Suicides per 100k\"}},\"id\":\"5627\",\"type\":\"Line\"},{\"attributes\":{},\"id\":\"5594\",\"type\":\"LinearScale\"},{\"attributes\":{\"data\":{\"Suicides per 100k\":{\"__ndarray__\":\"XI/C9SjcP0CuR+F6FK5AQK5H4XoUDkBAUrgehesRP0CuR+F6FK49QKRwPQrX4z1A4XoUrkehPEDsUbgehWs8QBSuR+F6VDxA7FG4HoUrO0B7FK5H4bo6QArXo3A9yjlAj8L1KFwPOkB7FK5H4bo5QM3MzMzMDDhA9ihcj8L1NkDD9Shcj0I3QFK4HoXrEThA4XoUrkfhN0AfhetRuJ45QOxRuB6FKzlArkfhehRuOUDNzMzMzEw6QJmZmZmZWTtArkfhehSuO0CZmZmZmZk8QK5H4XoU7j1AMzMzMzOzPkAK16NwPYo/QHsUrkfhmkBAPQrXo3CdQUA=\",\"dtype\":\"float64\",\"order\":\"little\",\"shape\":[31]},\"Suicides_per_100k\":{\"__ndarray__\":\"XI/C9SjcP0CuR+F6FK5AQK5H4XoUDkBAUrgehesRP0CuR+F6FK49QKRwPQrX4z1A4XoUrkehPEDsUbgehWs8QBSuR+F6VDxA7FG4HoUrO0B7FK5H4bo6QArXo3A9yjlAj8L1KFwPOkB7FK5H4bo5QM3MzMzMDDhA9ihcj8L1NkDD9Shcj0I3QFK4HoXrEThA4XoUrkfhN0AfhetRuJ45QOxRuB6FKzlArkfhehRuOUDNzMzMzEw6QJmZmZmZWTtArkfhehSuO0CZmZmZmZk8QK5H4XoU7j1AMzMzMzOzPkAK16NwPYo/QHsUrkfhmkBAPQrXo3CdQUA=\",\"dtype\":\"float64\",\"order\":\"little\",\"shape\":[31]},\"Year\":[1985,1986,1987,1988,1989,1990,1991,1992,1993,1994,1995,1996,1997,1998,1999,2000,2001,2002,2003,2004,2005,2006,2007,2008,2009,2010,2011,2012,2013,2014,2015]},\"selected\":{\"id\":\"5633\"},\"selection_policy\":{\"id\":\"5650\"}},\"id\":\"5632\",\"type\":\"ColumnDataSource\"},{\"attributes\":{\"source\":{\"id\":\"5632\"}},\"id\":\"5639\",\"type\":\"CDSView\"},{\"attributes\":{},\"id\":\"5648\",\"type\":\"UnionRenderers\"},{\"attributes\":{\"axis_label\":\"Suicides per 100k\",\"coordinates\":null,\"formatter\":{\"id\":\"5621\"},\"group\":null,\"major_label_policy\":{\"id\":\"5622\"},\"ticker\":{\"id\":\"5601\"}},\"id\":\"5600\",\"type\":\"LinearAxis\"},{\"attributes\":{\"coordinates\":null,\"data_source\":{\"id\":\"5623\"},\"glyph\":{\"id\":\"5626\"},\"group\":null,\"hover_glyph\":null,\"muted_glyph\":{\"id\":\"5628\"},\"nonselection_glyph\":{\"id\":\"5627\"},\"selection_glyph\":{\"id\":\"5631\"},\"view\":{\"id\":\"5630\"}},\"id\":\"5629\",\"type\":\"GlyphRenderer\"},{\"attributes\":{\"axis_label\":\"Year\",\"coordinates\":null,\"formatter\":{\"id\":\"5618\"},\"group\":null,\"major_label_policy\":{\"id\":\"5619\"},\"ticker\":{\"id\":\"5597\"}},\"id\":\"5596\",\"type\":\"LinearAxis\"},{\"attributes\":{\"line_color\":\"#fc4f30\",\"line_width\":2,\"x\":{\"field\":\"Year\"},\"y\":{\"field\":\"Suicides per 100k\"}},\"id\":\"5635\",\"type\":\"Line\"},{\"attributes\":{},\"id\":\"5650\",\"type\":\"UnionRenderers\"},{\"attributes\":{},\"id\":\"5618\",\"type\":\"BasicTickFormatter\"},{\"attributes\":{},\"id\":\"5624\",\"type\":\"Selection\"},{\"attributes\":{\"axis\":{\"id\":\"5600\"},\"coordinates\":null,\"dimension\":1,\"grid_line_color\":null,\"group\":null,\"ticker\":null},\"id\":\"5603\",\"type\":\"Grid\"},{\"attributes\":{\"line_alpha\":0.2,\"line_color\":\"#30a2da\",\"line_width\":2,\"x\":{\"field\":\"Year\"},\"y\":{\"field\":\"Suicides per 100k\"}},\"id\":\"5628\",\"type\":\"Line\"}],\"root_ids\":[\"5581\"]},\"title\":\"Bokeh Application\",\"version\":\"2.4.3\"}};\n",
       "    var render_items = [{\"docid\":\"be944f6a-b8b5-4616-a3e6-12ed053921a0\",\"root_ids\":[\"5581\"],\"roots\":{\"5581\":\"6d8c5e96-828d-46a4-a4c1-1eb28155dbe7\"}}];\n",
       "    root.Bokeh.embed.embed_items_notebook(docs_json, render_items);\n",
       "  }\n",
       "  if (root.Bokeh !== undefined && root.Bokeh.Panel !== undefined) {\n",
       "    embed_document(root);\n",
       "  } else {\n",
       "    var attempts = 0;\n",
       "    var timer = setInterval(function(root) {\n",
       "      if (root.Bokeh !== undefined && root.Bokeh.Panel !== undefined) {\n",
       "        clearInterval(timer);\n",
       "        embed_document(root);\n",
       "      } else if (document.readyState == \"complete\") {\n",
       "        attempts++;\n",
       "        if (attempts > 200) {\n",
       "          clearInterval(timer);\n",
       "          console.log(\"Bokeh: ERROR: Unable to run BokehJS code because BokehJS library is missing\");\n",
       "        }\n",
       "      }\n",
       "    }, 25, root)\n",
       "  }\n",
       "})(window);</script>"
      ],
      "text/plain": [
       ":Overlay\n",
       "   .Curve.I  :Curve   [Year]   (Suicides per 100k)\n",
       "   .Curve.II :Curve   [Year]   (Suicides per 100k)"
      ]
     },
     "execution_count": 61,
     "metadata": {
      "application/vnd.holoviews_exec.v0+json": {
       "id": "5581"
      }
     },
     "output_type": "execute_result"
    }
   ],
   "source": [
    "us_suicides_males = us_suicides_master[~(us_suicides_master[\"Sex\"] == \"female\")]\n",
    "us_suicides_females = us_suicides_master[~(us_suicides_master[\"Sex\"] == \"male\")]\n",
    "us_suicides_males = (\n",
    "    us_suicides_males.groupby(\"Year\")[\"Suicides per 100k\"].sum().reset_index()\n",
    ")\n",
    "us_suicides_females = (\n",
    "    us_suicides_females.groupby(\"Year\")[\"Suicides per 100k\"].sum().reset_index()\n",
    ")\n",
    "us_suicides_males.hvplot(x=\"Year\", y=\"Suicides per 100k\") * us_suicides_females.hvplot(\n",
    "    x=\"Year\", y=\"Suicides per 100k\"\n",
    ")"
   ]
  }
 ],
 "metadata": {
  "kernelspec": {
   "display_name": "cainhurst",
   "language": "python",
   "name": "python3"
  },
  "language_info": {
   "codemirror_mode": {
    "name": "ipython",
    "version": 3
   },
   "file_extension": ".py",
   "mimetype": "text/x-python",
   "name": "python",
   "nbconvert_exporter": "python",
   "pygments_lexer": "ipython3",
   "version": "3.7.13"
  },
  "orig_nbformat": 4
 },
 "nbformat": 4,
 "nbformat_minor": 2
}
