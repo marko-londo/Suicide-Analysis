{
 "cells": [
  {
   "cell_type": "code",
   "execution_count": 8,
   "metadata": {},
   "outputs": [],
   "source": [
    "from pathlib import Path\n",
    "import pandas as pd\n",
    "from sklearn.linear_model import LinearRegression\n",
    "import hvplot.pandas\n",
    "from bokeh.sampledata.unemployment1948 import data as unemployment_df\n",
    "from bokeh.sampledata.us_marriages_divorces import data as divorces_df\n",
    "from bokeh.plotting import figure, show\n",
    "from bokeh.transform import linear_cmap\n",
    "from bokeh.util.hex import hexbin\n",
    "import plotly.express as px"
   ]
  },
  {
   "cell_type": "code",
   "execution_count": 9,
   "metadata": {},
   "outputs": [],
   "source": [
    "us_suicides_total = pd.read_csv(r\"../Resources/Clean/us_suicides_1985-2021.csv\")\n",
    "russia_suicides_total = pd.read_csv(r\"../Resources/Clean/russia_suicides_1985-2016.csv\")\n",
    "japan_suicides_total = pd.read_csv(r\"../Resources/Clean/japan_suicides_1985-2016.csv\")\n",
    "canada_suicides_total = pd.read_csv(r\"../Resources/Clean/canada_suicides_1985-2016.csv\")\n",
    "germany_suicides_total = pd.read_csv(\n",
    "    r\"../Resources/Clean/germany_suicides_1985-2016.csv\"\n",
    ")\n",
    "untreated_mental_illness = pd.read_csv(\n",
    "    r\"../Resources/Clean/untreated_mental_illness_total_2018-2019.csv\"\n",
    ").assign(Year=\"2018-2019\")\n",
    "metrics_988 = pd.read_csv(r\"../Resources/Clean/988_performance_metrics.csv\")\n",
    "us_suicide_rates = pd.read_csv(r\"../Resources/Clean/us_suicide_rates_1985-2016.csv\")\n",
    "russia_suicide_rates = pd.read_csv(\n",
    "    r\"../Resources/Clean/russia_suicide_rates_1985-2016.csv\"\n",
    ")\n",
    "paraguay_suicide_rates = pd.read_csv(\n",
    "    r\"../Resources\\Clean\\paraguay_suicide_rates_1985-2016.csv\"\n",
    ")\n",
    "us_suicide_rates_99_16 = pd.read_csv(\n",
    "    r\"../Resources/Clean/us_suicide_rates_1999-2016.csv\"\n",
    ")\n",
    "us_suicides_master = pd.read_csv(\n",
    "    r\"../Resources/Clean/us_suicides_1985-2016(master).csv\"\n",
    ")\n",
    "states_suicides = pd.read_csv(r\"../Resources/Originals/state_suicides_2005-2021.csv\")"
   ]
  },
  {
   "cell_type": "code",
   "execution_count": 10,
   "metadata": {},
   "outputs": [],
   "source": [
    "untreated_mental_illness.set_index(\"Year\", inplace=True)"
   ]
  },
  {
   "cell_type": "code",
   "execution_count": 11,
   "metadata": {},
   "outputs": [
    {
     "data": {},
     "metadata": {},
     "output_type": "display_data"
    },
    {
     "data": {
      "application/vnd.holoviews_exec.v0+json": "",
      "text/html": [
       "<div id='1002'>\n",
       "  <div class=\"bk-root\" id=\"97592149-6ae4-4a5a-a15b-ddc702729124\" data-root-id=\"1002\"></div>\n",
       "</div>\n",
       "<script type=\"application/javascript\">(function(root) {\n",
       "  function embed_document(root) {\n",
       "    var docs_json = {\"40f56a41-4879-4171-a503-f232f4cf12c7\":{\"defs\":[{\"extends\":null,\"module\":null,\"name\":\"ReactiveHTML1\",\"overrides\":[],\"properties\":[]},{\"extends\":null,\"module\":null,\"name\":\"FlexBox1\",\"overrides\":[],\"properties\":[{\"default\":\"flex-start\",\"kind\":null,\"name\":\"align_content\"},{\"default\":\"flex-start\",\"kind\":null,\"name\":\"align_items\"},{\"default\":\"row\",\"kind\":null,\"name\":\"flex_direction\"},{\"default\":\"wrap\",\"kind\":null,\"name\":\"flex_wrap\"},{\"default\":\"flex-start\",\"kind\":null,\"name\":\"justify_content\"}]},{\"extends\":null,\"module\":null,\"name\":\"GridStack1\",\"overrides\":[],\"properties\":[{\"default\":\"warn\",\"kind\":null,\"name\":\"mode\"},{\"default\":null,\"kind\":null,\"name\":\"ncols\"},{\"default\":null,\"kind\":null,\"name\":\"nrows\"},{\"default\":true,\"kind\":null,\"name\":\"allow_resize\"},{\"default\":true,\"kind\":null,\"name\":\"allow_drag\"},{\"default\":[],\"kind\":null,\"name\":\"state\"}]},{\"extends\":null,\"module\":null,\"name\":\"click1\",\"overrides\":[],\"properties\":[{\"default\":\"\",\"kind\":null,\"name\":\"terminal_output\"},{\"default\":\"\",\"kind\":null,\"name\":\"debug_name\"},{\"default\":0,\"kind\":null,\"name\":\"clears\"}]},{\"extends\":null,\"module\":null,\"name\":\"NotificationAreaBase1\",\"overrides\":[],\"properties\":[{\"default\":\"bottom-right\",\"kind\":null,\"name\":\"position\"},{\"default\":0,\"kind\":null,\"name\":\"_clear\"}]},{\"extends\":null,\"module\":null,\"name\":\"NotificationArea1\",\"overrides\":[],\"properties\":[{\"default\":[],\"kind\":null,\"name\":\"notifications\"},{\"default\":\"bottom-right\",\"kind\":null,\"name\":\"position\"},{\"default\":0,\"kind\":null,\"name\":\"_clear\"},{\"default\":[{\"background\":\"#ffc107\",\"icon\":{\"className\":\"fas fa-exclamation-triangle\",\"color\":\"white\",\"tagName\":\"i\"},\"type\":\"warning\"},{\"background\":\"#007bff\",\"icon\":{\"className\":\"fas fa-info-circle\",\"color\":\"white\",\"tagName\":\"i\"},\"type\":\"info\"}],\"kind\":null,\"name\":\"types\"}]},{\"extends\":null,\"module\":null,\"name\":\"Notification\",\"overrides\":[],\"properties\":[{\"default\":null,\"kind\":null,\"name\":\"background\"},{\"default\":3000,\"kind\":null,\"name\":\"duration\"},{\"default\":null,\"kind\":null,\"name\":\"icon\"},{\"default\":\"\",\"kind\":null,\"name\":\"message\"},{\"default\":null,\"kind\":null,\"name\":\"notification_type\"},{\"default\":false,\"kind\":null,\"name\":\"_destroyed\"}]},{\"extends\":null,\"module\":null,\"name\":\"TemplateActions1\",\"overrides\":[],\"properties\":[{\"default\":0,\"kind\":null,\"name\":\"open_modal\"},{\"default\":0,\"kind\":null,\"name\":\"close_modal\"}]},{\"extends\":null,\"module\":null,\"name\":\"MaterialTemplateActions1\",\"overrides\":[],\"properties\":[{\"default\":0,\"kind\":null,\"name\":\"open_modal\"},{\"default\":0,\"kind\":null,\"name\":\"close_modal\"}]}],\"roots\":{\"references\":[{\"attributes\":{\"below\":[{\"id\":\"1016\"}],\"center\":[{\"id\":\"1018\"},{\"id\":\"1022\"}],\"height\":300,\"left\":[{\"id\":\"1019\"}],\"margin\":[5,5,5,5],\"min_border_bottom\":10,\"min_border_left\":10,\"min_border_right\":10,\"min_border_top\":10,\"renderers\":[{\"id\":\"1043\"}],\"sizing_mode\":\"fixed\",\"title\":{\"id\":\"1008\"},\"toolbar\":{\"id\":\"1029\"},\"width\":700,\"x_range\":{\"id\":\"1004\"},\"x_scale\":{\"id\":\"1012\"},\"y_range\":{\"id\":\"1005\"},\"y_scale\":{\"id\":\"1014\"}},\"id\":\"1007\",\"subtype\":\"Figure\",\"type\":\"Plot\"},{\"attributes\":{},\"id\":\"1012\",\"type\":\"CategoricalScale\"},{\"attributes\":{\"overlay\":{\"id\":\"1028\"}},\"id\":\"1026\",\"type\":\"BoxZoomTool\"},{\"attributes\":{},\"id\":\"1027\",\"type\":\"ResetTool\"},{\"attributes\":{},\"id\":\"1051\",\"type\":\"AllLabels\"},{\"attributes\":{\"margin\":[5,5,5,5],\"name\":\"HSpacer00833\",\"sizing_mode\":\"stretch_width\"},\"id\":\"1003\",\"type\":\"Spacer\"},{\"attributes\":{\"bottom\":{\"value\":0},\"fill_alpha\":{\"value\":1.0},\"fill_color\":{\"field\":\"Variable\",\"transform\":{\"id\":\"1036\"}},\"hatch_alpha\":{\"value\":1.0},\"hatch_color\":{\"field\":\"Variable\",\"transform\":{\"id\":\"1036\"}},\"hatch_scale\":{\"value\":12.0},\"hatch_weight\":{\"value\":1.0},\"line_alpha\":{\"value\":1.0},\"line_cap\":{\"value\":\"butt\"},\"line_color\":{\"value\":\"black\"},\"line_dash\":{\"value\":[]},\"line_dash_offset\":{\"value\":0},\"line_join\":{\"value\":\"bevel\"},\"line_width\":{\"value\":1},\"top\":{\"field\":\"value\"},\"width\":{\"value\":0.8},\"x\":{\"field\":\"xoffsets\"}},\"id\":\"1045\",\"type\":\"VBar\"},{\"attributes\":{\"fill_alpha\":{\"value\":0.1},\"fill_color\":{\"field\":\"Variable\",\"transform\":{\"id\":\"1036\"}},\"hatch_alpha\":{\"value\":0.1},\"hatch_color\":{\"field\":\"Variable\",\"transform\":{\"id\":\"1036\"}},\"line_alpha\":{\"value\":0.1},\"top\":{\"field\":\"value\"},\"width\":{\"value\":0.8},\"x\":{\"field\":\"xoffsets\"}},\"id\":\"1041\",\"type\":\"VBar\"},{\"attributes\":{\"fill_color\":{\"field\":\"Variable\",\"transform\":{\"id\":\"1036\"}},\"hatch_color\":{\"field\":\"Variable\",\"transform\":{\"id\":\"1036\"}},\"top\":{\"field\":\"value\"},\"width\":{\"value\":0.8},\"x\":{\"field\":\"xoffsets\"}},\"id\":\"1040\",\"type\":\"VBar\"},{\"attributes\":{},\"id\":\"1048\",\"type\":\"AllLabels\"},{\"attributes\":{},\"id\":\"1025\",\"type\":\"WheelZoomTool\"},{\"attributes\":{\"fill_alpha\":{\"value\":0.2},\"fill_color\":{\"field\":\"Variable\",\"transform\":{\"id\":\"1036\"}},\"hatch_alpha\":{\"value\":0.2},\"hatch_color\":{\"field\":\"Variable\",\"transform\":{\"id\":\"1036\"}},\"line_alpha\":{\"value\":0.2},\"top\":{\"field\":\"value\"},\"width\":{\"value\":0.8},\"x\":{\"field\":\"xoffsets\"}},\"id\":\"1042\",\"type\":\"VBar\"},{\"attributes\":{\"factors\":[[\"2018-2019\",\"Mild\"],[\"2018-2019\",\"Moderate\"],[\"2018-2019\",\"Serious\"]],\"tags\":[[[\"Year\",\"Year\",null],[\"Variable\",\"Variable\",null]]]},\"id\":\"1004\",\"type\":\"FactorRange\"},{\"attributes\":{\"axis\":{\"id\":\"1019\"},\"coordinates\":null,\"dimension\":1,\"grid_line_color\":null,\"group\":null,\"ticker\":null},\"id\":\"1022\",\"type\":\"Grid\"},{\"attributes\":{\"bottom_units\":\"screen\",\"coordinates\":null,\"fill_alpha\":0.5,\"fill_color\":\"lightgrey\",\"group\":null,\"left_units\":\"screen\",\"level\":\"overlay\",\"line_alpha\":1.0,\"line_color\":\"black\",\"line_dash\":[4,4],\"line_width\":2,\"right_units\":\"screen\",\"syncable\":false,\"top_units\":\"screen\"},\"id\":\"1028\",\"type\":\"BoxAnnotation\"},{\"attributes\":{},\"id\":\"1020\",\"type\":\"BasicTicker\"},{\"attributes\":{\"axis\":{\"id\":\"1016\"},\"coordinates\":null,\"grid_line_color\":null,\"group\":null,\"ticker\":null},\"id\":\"1018\",\"type\":\"Grid\"},{\"attributes\":{\"data\":{\"Variable\":[\"Mild\",\"Moderate\",\"Serious\"],\"Year\":[\"2018-2019\",\"2018-2019\",\"2018-2019\"],\"value\":{\"__ndarray__\":\"mpmZmZn5UEAAAAAAAMBKQAAAAAAAgEFA\",\"dtype\":\"float64\",\"order\":\"little\",\"shape\":[3]},\"xoffsets\":[[\"2018-2019\",\"Mild\"],[\"2018-2019\",\"Moderate\"],[\"2018-2019\",\"Serious\"]]},\"selected\":{\"id\":\"1038\"},\"selection_policy\":{\"id\":\"1059\"}},\"id\":\"1037\",\"type\":\"ColumnDataSource\"},{\"attributes\":{\"coordinates\":null,\"group\":null,\"text_color\":\"black\",\"text_font_size\":\"12pt\"},\"id\":\"1008\",\"type\":\"Title\"},{\"attributes\":{},\"id\":\"1017\",\"type\":\"CategoricalTicker\"},{\"attributes\":{\"margin\":[5,5,5,5],\"name\":\"HSpacer00834\",\"sizing_mode\":\"stretch_width\"},\"id\":\"1062\",\"type\":\"Spacer\"},{\"attributes\":{\"end\":100,\"reset_end\":100,\"reset_start\":0,\"tags\":[[[\"value\",\"value\",null]]]},\"id\":\"1005\",\"type\":\"Range1d\"},{\"attributes\":{\"tools\":[{\"id\":\"1006\"},{\"id\":\"1023\"},{\"id\":\"1024\"},{\"id\":\"1025\"},{\"id\":\"1026\"},{\"id\":\"1027\"}]},\"id\":\"1029\",\"type\":\"Toolbar\"},{\"attributes\":{},\"id\":\"1014\",\"type\":\"LinearScale\"},{\"attributes\":{\"axis_label\":\"Year, Variable\",\"coordinates\":null,\"formatter\":{\"id\":\"1047\"},\"group\":null,\"major_label_policy\":{\"id\":\"1048\"},\"ticker\":{\"id\":\"1017\"}},\"id\":\"1016\",\"type\":\"CategoricalAxis\"},{\"attributes\":{\"source\":{\"id\":\"1037\"}},\"id\":\"1044\",\"type\":\"CDSView\"},{\"attributes\":{\"coordinates\":null,\"data_source\":{\"id\":\"1037\"},\"glyph\":{\"id\":\"1040\"},\"group\":null,\"hover_glyph\":null,\"muted_glyph\":{\"id\":\"1042\"},\"nonselection_glyph\":{\"id\":\"1041\"},\"selection_glyph\":{\"id\":\"1045\"},\"view\":{\"id\":\"1044\"}},\"id\":\"1043\",\"type\":\"GlyphRenderer\"},{\"attributes\":{},\"id\":\"1050\",\"type\":\"BasicTickFormatter\"},{\"attributes\":{},\"id\":\"1059\",\"type\":\"UnionRenderers\"},{\"attributes\":{},\"id\":\"1047\",\"type\":\"CategoricalTickFormatter\"},{\"attributes\":{},\"id\":\"1038\",\"type\":\"Selection\"},{\"attributes\":{\"factors\":[\"Mild\",\"Moderate\",\"Serious\"],\"palette\":[\"#30a2da\",\"#fc4f30\",\"#e5ae38\"]},\"id\":\"1036\",\"type\":\"CategoricalColorMapper\"},{\"attributes\":{\"axis_label\":\"\",\"coordinates\":null,\"formatter\":{\"id\":\"1050\"},\"group\":null,\"major_label_policy\":{\"id\":\"1051\"},\"ticker\":{\"id\":\"1020\"}},\"id\":\"1019\",\"type\":\"LinearAxis\"},{\"attributes\":{},\"id\":\"1023\",\"type\":\"SaveTool\"},{\"attributes\":{},\"id\":\"1024\",\"type\":\"PanTool\"},{\"attributes\":{\"children\":[{\"id\":\"1003\"},{\"id\":\"1007\"},{\"id\":\"1062\"}],\"margin\":[0,0,0,0],\"name\":\"Row00829\",\"tags\":[\"embedded\"]},\"id\":\"1002\",\"type\":\"Row\"},{\"attributes\":{\"callback\":null,\"renderers\":[{\"id\":\"1043\"}],\"tags\":[\"hv_created\"],\"tooltips\":[[\"Year\",\"@{Year}\"],[\"Variable\",\"@{Variable}\"],[\"value\",\"@{value}\"]]},\"id\":\"1006\",\"type\":\"HoverTool\"}],\"root_ids\":[\"1002\"]},\"title\":\"Bokeh Application\",\"version\":\"2.4.3\"}};\n",
       "    var render_items = [{\"docid\":\"40f56a41-4879-4171-a503-f232f4cf12c7\",\"root_ids\":[\"1002\"],\"roots\":{\"1002\":\"97592149-6ae4-4a5a-a15b-ddc702729124\"}}];\n",
       "    root.Bokeh.embed.embed_items_notebook(docs_json, render_items);\n",
       "  }\n",
       "  if (root.Bokeh !== undefined && root.Bokeh.Panel !== undefined) {\n",
       "    embed_document(root);\n",
       "  } else {\n",
       "    var attempts = 0;\n",
       "    var timer = setInterval(function(root) {\n",
       "      if (root.Bokeh !== undefined && root.Bokeh.Panel !== undefined) {\n",
       "        clearInterval(timer);\n",
       "        embed_document(root);\n",
       "      } else if (document.readyState == \"complete\") {\n",
       "        attempts++;\n",
       "        if (attempts > 200) {\n",
       "          clearInterval(timer);\n",
       "          console.log(\"Bokeh: ERROR: Unable to run BokehJS code because BokehJS library is missing\");\n",
       "        }\n",
       "      }\n",
       "    }, 25, root)\n",
       "  }\n",
       "})(window);</script>"
      ],
      "text/plain": [
       ":Bars   [Year,Variable]   (value)"
      ]
     },
     "execution_count": 11,
     "metadata": {
      "application/vnd.holoviews_exec.v0+json": {
       "id": "1002"
      }
     },
     "output_type": "execute_result"
    }
   ],
   "source": [
    "untreated_mental_illness.hvplot.bar(ylim=(0, 100))"
   ]
  },
  {
   "cell_type": "code",
   "execution_count": 12,
   "metadata": {},
   "outputs": [
    {
     "data": {},
     "metadata": {},
     "output_type": "display_data"
    },
    {
     "data": {
      "application/vnd.holoviews_exec.v0+json": "",
      "text/html": [
       "<div id='1114'>\n",
       "  <div class=\"bk-root\" id=\"5725f11f-2ea5-4bb8-9258-a0ddb34df216\" data-root-id=\"1114\"></div>\n",
       "</div>\n",
       "<script type=\"application/javascript\">(function(root) {\n",
       "  function embed_document(root) {\n",
       "    var docs_json = {\"2e4f1580-01f1-4d96-a749-6ec032ee5d34\":{\"defs\":[{\"extends\":null,\"module\":null,\"name\":\"ReactiveHTML1\",\"overrides\":[],\"properties\":[]},{\"extends\":null,\"module\":null,\"name\":\"FlexBox1\",\"overrides\":[],\"properties\":[{\"default\":\"flex-start\",\"kind\":null,\"name\":\"align_content\"},{\"default\":\"flex-start\",\"kind\":null,\"name\":\"align_items\"},{\"default\":\"row\",\"kind\":null,\"name\":\"flex_direction\"},{\"default\":\"wrap\",\"kind\":null,\"name\":\"flex_wrap\"},{\"default\":\"flex-start\",\"kind\":null,\"name\":\"justify_content\"}]},{\"extends\":null,\"module\":null,\"name\":\"GridStack1\",\"overrides\":[],\"properties\":[{\"default\":\"warn\",\"kind\":null,\"name\":\"mode\"},{\"default\":null,\"kind\":null,\"name\":\"ncols\"},{\"default\":null,\"kind\":null,\"name\":\"nrows\"},{\"default\":true,\"kind\":null,\"name\":\"allow_resize\"},{\"default\":true,\"kind\":null,\"name\":\"allow_drag\"},{\"default\":[],\"kind\":null,\"name\":\"state\"}]},{\"extends\":null,\"module\":null,\"name\":\"click1\",\"overrides\":[],\"properties\":[{\"default\":\"\",\"kind\":null,\"name\":\"terminal_output\"},{\"default\":\"\",\"kind\":null,\"name\":\"debug_name\"},{\"default\":0,\"kind\":null,\"name\":\"clears\"}]},{\"extends\":null,\"module\":null,\"name\":\"NotificationAreaBase1\",\"overrides\":[],\"properties\":[{\"default\":\"bottom-right\",\"kind\":null,\"name\":\"position\"},{\"default\":0,\"kind\":null,\"name\":\"_clear\"}]},{\"extends\":null,\"module\":null,\"name\":\"NotificationArea1\",\"overrides\":[],\"properties\":[{\"default\":[],\"kind\":null,\"name\":\"notifications\"},{\"default\":\"bottom-right\",\"kind\":null,\"name\":\"position\"},{\"default\":0,\"kind\":null,\"name\":\"_clear\"},{\"default\":[{\"background\":\"#ffc107\",\"icon\":{\"className\":\"fas fa-exclamation-triangle\",\"color\":\"white\",\"tagName\":\"i\"},\"type\":\"warning\"},{\"background\":\"#007bff\",\"icon\":{\"className\":\"fas fa-info-circle\",\"color\":\"white\",\"tagName\":\"i\"},\"type\":\"info\"}],\"kind\":null,\"name\":\"types\"}]},{\"extends\":null,\"module\":null,\"name\":\"Notification\",\"overrides\":[],\"properties\":[{\"default\":null,\"kind\":null,\"name\":\"background\"},{\"default\":3000,\"kind\":null,\"name\":\"duration\"},{\"default\":null,\"kind\":null,\"name\":\"icon\"},{\"default\":\"\",\"kind\":null,\"name\":\"message\"},{\"default\":null,\"kind\":null,\"name\":\"notification_type\"},{\"default\":false,\"kind\":null,\"name\":\"_destroyed\"}]},{\"extends\":null,\"module\":null,\"name\":\"TemplateActions1\",\"overrides\":[],\"properties\":[{\"default\":0,\"kind\":null,\"name\":\"open_modal\"},{\"default\":0,\"kind\":null,\"name\":\"close_modal\"}]},{\"extends\":null,\"module\":null,\"name\":\"MaterialTemplateActions1\",\"overrides\":[],\"properties\":[{\"default\":0,\"kind\":null,\"name\":\"open_modal\"},{\"default\":0,\"kind\":null,\"name\":\"close_modal\"}]}],\"roots\":{\"references\":[{\"attributes\":{\"line_alpha\":0.1,\"line_color\":\"#fc4f30\",\"line_width\":2,\"x\":{\"field\":\"Year\"},\"y\":{\"field\":\"Suicides per 100k\"}},\"id\":\"1180\",\"type\":\"Line\"},{\"attributes\":{\"coordinates\":null,\"data_source\":{\"id\":\"1185\"},\"glyph\":{\"id\":\"1188\"},\"group\":null,\"hover_glyph\":null,\"muted_glyph\":{\"id\":\"1190\"},\"nonselection_glyph\":{\"id\":\"1189\"},\"selection_glyph\":{\"id\":\"1193\"},\"view\":{\"id\":\"1192\"}},\"id\":\"1191\",\"type\":\"GlyphRenderer\"},{\"attributes\":{\"line_alpha\":0.2,\"line_color\":\"#30a2da\",\"line_width\":2,\"x\":{\"field\":\"Year\"},\"y\":{\"field\":\"Suicides per 100k\"}},\"id\":\"1163\",\"type\":\"Line\"},{\"attributes\":{\"line_alpha\":0.2,\"line_color\":\"#fc4f30\",\"line_width\":2,\"x\":{\"field\":\"Year\"},\"y\":{\"field\":\"Suicides per 100k\"}},\"id\":\"1181\",\"type\":\"Line\"},{\"attributes\":{\"axis\":{\"id\":\"1131\"},\"coordinates\":null,\"grid_line_color\":null,\"group\":null,\"ticker\":null},\"id\":\"1134\",\"type\":\"Grid\"},{\"attributes\":{\"line_color\":\"#fc4f30\",\"line_width\":2,\"x\":{\"field\":\"Year\"},\"y\":{\"field\":\"Suicides per 100k\"}},\"id\":\"1184\",\"type\":\"Line\"},{\"attributes\":{\"tools\":[{\"id\":\"1118\"},{\"id\":\"1139\"},{\"id\":\"1140\"},{\"id\":\"1141\"},{\"id\":\"1142\"},{\"id\":\"1143\"}]},\"id\":\"1145\",\"type\":\"Toolbar\"},{\"attributes\":{},\"id\":\"1203\",\"type\":\"UnionRenderers\"},{\"attributes\":{\"coordinates\":null,\"data_source\":{\"id\":\"1176\"},\"glyph\":{\"id\":\"1179\"},\"group\":null,\"hover_glyph\":null,\"muted_glyph\":{\"id\":\"1181\"},\"nonselection_glyph\":{\"id\":\"1180\"},\"selection_glyph\":{\"id\":\"1184\"},\"view\":{\"id\":\"1183\"}},\"id\":\"1182\",\"type\":\"GlyphRenderer\"},{\"attributes\":{\"line_color\":\"#fc4f30\",\"line_width\":2,\"x\":{\"field\":\"Year\"},\"y\":{\"field\":\"Suicides per 100k\"}},\"id\":\"1179\",\"type\":\"Line\"},{\"attributes\":{\"bottom_units\":\"screen\",\"coordinates\":null,\"fill_alpha\":0.5,\"fill_color\":\"lightgrey\",\"group\":null,\"left_units\":\"screen\",\"level\":\"overlay\",\"line_alpha\":1.0,\"line_color\":\"black\",\"line_dash\":[4,4],\"line_width\":2,\"right_units\":\"screen\",\"syncable\":false,\"top_units\":\"screen\"},\"id\":\"1144\",\"type\":\"BoxAnnotation\"},{\"attributes\":{},\"id\":\"1139\",\"type\":\"SaveTool\"},{\"attributes\":{\"line_color\":\"#30a2da\",\"line_width\":2,\"x\":{\"field\":\"Year\"},\"y\":{\"field\":\"Suicides per 100k\"}},\"id\":\"1161\",\"type\":\"Line\"},{\"attributes\":{},\"id\":\"1140\",\"type\":\"PanTool\"},{\"attributes\":{\"margin\":[5,5,5,5],\"name\":\"HSpacer01324\",\"sizing_mode\":\"stretch_width\"},\"id\":\"1210\",\"type\":\"Spacer\"},{\"attributes\":{\"end\":81.859,\"reset_end\":81.859,\"reset_start\":4.230999999999999,\"start\":4.230999999999999,\"tags\":[[[\"Suicides per 100k\",\"Suicides per 100k\",null]]]},\"id\":\"1117\",\"type\":\"Range1d\"},{\"attributes\":{},\"id\":\"1143\",\"type\":\"ResetTool\"},{\"attributes\":{},\"id\":\"1141\",\"type\":\"WheelZoomTool\"},{\"attributes\":{\"source\":{\"id\":\"1176\"}},\"id\":\"1183\",\"type\":\"CDSView\"},{\"attributes\":{\"overlay\":{\"id\":\"1144\"}},\"id\":\"1142\",\"type\":\"BoxZoomTool\"},{\"attributes\":{\"data\":{\"Suicides per 100k\":{\"__ndarray__\":\"9ihcj8K1Q0DD9Shcj8I6QM3MzMzMTEJACtejcD2qQUDhehSuR4FGQKRwPQrXIztAexSuR+E6RkAK16NwPSpEQHsUrkfhukBACtejcD3KQUBmZmZmZkZIQPYoXI/CNUZApHA9CtdjRUDD9Shcj0JMQJqZmZmZuUVAzczMzMysSUBcj8L1KFxQQEjhehSuZ09AFK5H4XpkUEDhehSuR0FPQClcj8L1KE1AhetRuB7VUEBI4XoUrkdLQIXrUbge9VBAZmZmZmamT0ApXI/C9dhSQJqZmZmZCVJA\",\"dtype\":\"float64\",\"order\":\"little\",\"shape\":[27]},\"Suicides_per_100k\":{\"__ndarray__\":\"9ihcj8K1Q0DD9Shcj8I6QM3MzMzMTEJACtejcD2qQUDhehSuR4FGQKRwPQrXIztAexSuR+E6RkAK16NwPSpEQHsUrkfhukBACtejcD3KQUBmZmZmZkZIQPYoXI/CNUZApHA9CtdjRUDD9Shcj0JMQJqZmZmZuUVAzczMzMysSUBcj8L1KFxQQEjhehSuZ09AFK5H4XpkUEDhehSuR0FPQClcj8L1KE1AhetRuB7VUEBI4XoUrkdLQIXrUbge9VBAZmZmZmamT0ApXI/C9dhSQJqZmZmZCVJA\",\"dtype\":\"float64\",\"order\":\"little\",\"shape\":[27]},\"Year\":[1985,1986,1987,1989,1990,1991,1994,1995,1996,1997,1998,1999,2000,2001,2002,2003,2004,2005,2006,2007,2008,2009,2010,2011,2012,2013,2014]},\"selected\":{\"id\":\"1159\"},\"selection_policy\":{\"id\":\"1201\"}},\"id\":\"1158\",\"type\":\"ColumnDataSource\"},{\"attributes\":{\"source\":{\"id\":\"1158\"}},\"id\":\"1165\",\"type\":\"CDSView\"},{\"attributes\":{},\"id\":\"1201\",\"type\":\"UnionRenderers\"},{\"attributes\":{},\"id\":\"1177\",\"type\":\"Selection\"},{\"attributes\":{\"coordinates\":null,\"data_source\":{\"id\":\"1158\"},\"glyph\":{\"id\":\"1161\"},\"group\":null,\"hover_glyph\":null,\"muted_glyph\":{\"id\":\"1163\"},\"nonselection_glyph\":{\"id\":\"1162\"},\"selection_glyph\":{\"id\":\"1166\"},\"view\":{\"id\":\"1165\"}},\"id\":\"1164\",\"type\":\"GlyphRenderer\"},{\"attributes\":{\"data\":{\"Suicides per 100k\":{\"__ndarray__\":\"AAAAAAAAKUAAAAAAAAAqQJqZmZmZmSlAAAAAAAAAKUCamZmZmZkoQAAAAAAAAClAmpmZmZmZKEAzMzMzMzMoQGZmZmZmZihAMzMzMzMzKEAAAAAAAAAoQGZmZmZmZidAzczMzMzMJkCamZmZmZkmQGZmZmZmZiVAzczMzMzMJUCamZmZmZklQM3MzMzMzCVAmpmZmZmZJUDNzMzMzMwlQM3MzMzMzCVAzczMzMzMJUCamZmZmZkmQDMzMzMzMydAmpmZmZmZJ0AzMzMzMzMoQJqZmZmZmShAMzMzMzMzKUAzMzMzMzMpQAAAAAAAACpAmpmZmZmZKkA=\",\"dtype\":\"float64\",\"order\":\"little\",\"shape\":[31]},\"Suicides_per_100k\":{\"__ndarray__\":\"AAAAAAAAKUAAAAAAAAAqQJqZmZmZmSlAAAAAAAAAKUCamZmZmZkoQAAAAAAAAClAmpmZmZmZKEAzMzMzMzMoQGZmZmZmZihAMzMzMzMzKEAAAAAAAAAoQGZmZmZmZidAzczMzMzMJkCamZmZmZkmQGZmZmZmZiVAzczMzMzMJUCamZmZmZklQM3MzMzMzCVAmpmZmZmZJUDNzMzMzMwlQM3MzMzMzCVAzczMzMzMJUCamZmZmZkmQDMzMzMzMydAmpmZmZmZJ0AzMzMzMzMoQJqZmZmZmShAMzMzMzMzKUAzMzMzMzMpQAAAAAAAACpAmpmZmZmZKkA=\",\"dtype\":\"float64\",\"order\":\"little\",\"shape\":[31]},\"Year\":[1985,1986,1987,1988,1989,1990,1991,1992,1993,1994,1995,1996,1997,1998,1999,2000,2001,2002,2003,2004,2005,2006,2007,2008,2009,2010,2011,2012,2013,2014,2015]},\"selected\":{\"id\":\"1177\"},\"selection_policy\":{\"id\":\"1205\"}},\"id\":\"1176\",\"type\":\"ColumnDataSource\"},{\"attributes\":{},\"id\":\"1207\",\"type\":\"UnionRenderers\"},{\"attributes\":{},\"id\":\"1136\",\"type\":\"BasicTicker\"},{\"attributes\":{},\"id\":\"1159\",\"type\":\"Selection\"},{\"attributes\":{},\"id\":\"1127\",\"type\":\"LinearScale\"},{\"attributes\":{\"angle\":{\"value\":0.0},\"fill_alpha\":{\"value\":1.0},\"fill_color\":{\"value\":\"#000000\"},\"hatch_alpha\":{\"value\":1.0},\"hatch_color\":{\"value\":\"#000000\"},\"hatch_scale\":{\"value\":12.0},\"hatch_weight\":{\"value\":1.0},\"line_alpha\":{\"value\":1.0},\"line_cap\":{\"value\":\"butt\"},\"line_color\":{\"value\":\"#000000\"},\"line_dash\":{\"value\":[]},\"line_dash_offset\":{\"value\":0},\"line_join\":{\"value\":\"bevel\"},\"line_width\":{\"value\":1},\"marker\":{\"value\":\"circle\"},\"size\":{\"value\":5.477225575051661},\"x\":{\"field\":\"Year\"},\"y\":{\"field\":\"Suicides per 100k\"}},\"id\":\"1193\",\"type\":\"Scatter\"},{\"attributes\":{\"data\":{\"Suicides per 100k\":{\"__ndarray__\":\"9ihcj8K1Q0DD9Shcj8I6QM3MzMzMTEJACtejcD2qQUDhehSuR4FGQKRwPQrXIztAexSuR+E6RkAK16NwPSpEQHsUrkfhukBACtejcD3KQUBmZmZmZkZIQPYoXI/CNUZApHA9CtdjRUDD9Shcj0JMQJqZmZmZuUVAzczMzMysSUBcj8L1KFxQQEjhehSuZ09AFK5H4XpkUEDhehSuR0FPQClcj8L1KE1AhetRuB7VUEBI4XoUrkdLQIXrUbge9VBAZmZmZmamT0ApXI/C9dhSQJqZmZmZCVJA\",\"dtype\":\"float64\",\"order\":\"little\",\"shape\":[27]},\"Suicides_per_100k\":{\"__ndarray__\":\"9ihcj8K1Q0DD9Shcj8I6QM3MzMzMTEJACtejcD2qQUDhehSuR4FGQKRwPQrXIztAexSuR+E6RkAK16NwPSpEQHsUrkfhukBACtejcD3KQUBmZmZmZkZIQPYoXI/CNUZApHA9CtdjRUDD9Shcj0JMQJqZmZmZuUVAzczMzMysSUBcj8L1KFxQQEjhehSuZ09AFK5H4XpkUEDhehSuR0FPQClcj8L1KE1AhetRuB7VUEBI4XoUrkdLQIXrUbge9VBAZmZmZmamT0ApXI/C9dhSQJqZmZmZCVJA\",\"dtype\":\"float64\",\"order\":\"little\",\"shape\":[27]},\"Year\":[1985,1986,1987,1989,1990,1991,1994,1995,1996,1997,1998,1999,2000,2001,2002,2003,2004,2005,2006,2007,2008,2009,2010,2011,2012,2013,2014]},\"selected\":{\"id\":\"1168\"},\"selection_policy\":{\"id\":\"1203\"}},\"id\":\"1167\",\"type\":\"ColumnDataSource\"},{\"attributes\":{\"data\":{\"Suicides per 100k\":{\"__ndarray__\":\"AAAAAAAAKUAAAAAAAAAqQJqZmZmZmSlAAAAAAAAAKUCamZmZmZkoQAAAAAAAAClAmpmZmZmZKEAzMzMzMzMoQGZmZmZmZihAMzMzMzMzKEAAAAAAAAAoQGZmZmZmZidAzczMzMzMJkCamZmZmZkmQGZmZmZmZiVAzczMzMzMJUCamZmZmZklQM3MzMzMzCVAmpmZmZmZJUDNzMzMzMwlQM3MzMzMzCVAzczMzMzMJUCamZmZmZkmQDMzMzMzMydAmpmZmZmZJ0AzMzMzMzMoQJqZmZmZmShAMzMzMzMzKUAzMzMzMzMpQAAAAAAAACpAmpmZmZmZKkA=\",\"dtype\":\"float64\",\"order\":\"little\",\"shape\":[31]},\"Suicides_per_100k\":{\"__ndarray__\":\"AAAAAAAAKUAAAAAAAAAqQJqZmZmZmSlAAAAAAAAAKUCamZmZmZkoQAAAAAAAAClAmpmZmZmZKEAzMzMzMzMoQGZmZmZmZihAMzMzMzMzKEAAAAAAAAAoQGZmZmZmZidAzczMzMzMJkCamZmZmZkmQGZmZmZmZiVAzczMzMzMJUCamZmZmZklQM3MzMzMzCVAmpmZmZmZJUDNzMzMzMwlQM3MzMzMzCVAzczMzMzMJUCamZmZmZkmQDMzMzMzMydAmpmZmZmZJ0AzMzMzMzMoQJqZmZmZmShAMzMzMzMzKUAzMzMzMzMpQAAAAAAAACpAmpmZmZmZKkA=\",\"dtype\":\"float64\",\"order\":\"little\",\"shape\":[31]},\"Year\":[1985,1986,1987,1988,1989,1990,1991,1992,1993,1994,1995,1996,1997,1998,1999,2000,2001,2002,2003,2004,2005,2006,2007,2008,2009,2010,2011,2012,2013,2014,2015]},\"selected\":{\"id\":\"1186\"},\"selection_policy\":{\"id\":\"1207\"}},\"id\":\"1185\",\"type\":\"ColumnDataSource\"},{\"attributes\":{},\"id\":\"1132\",\"type\":\"BasicTicker\"},{\"attributes\":{\"coordinates\":null,\"group\":null,\"text_color\":\"black\",\"text_font_size\":\"12pt\"},\"id\":\"1123\",\"type\":\"Title\"},{\"attributes\":{\"fill_alpha\":{\"value\":0.1},\"fill_color\":{\"value\":\"#000000\"},\"hatch_alpha\":{\"value\":0.1},\"hatch_color\":{\"value\":\"#000000\"},\"line_alpha\":{\"value\":0.1},\"line_color\":{\"value\":\"#000000\"},\"size\":{\"value\":5.477225575051661},\"x\":{\"field\":\"Year\"},\"y\":{\"field\":\"Suicides per 100k\"}},\"id\":\"1189\",\"type\":\"Scatter\"},{\"attributes\":{\"coordinates\":null,\"data_source\":{\"id\":\"1167\"},\"glyph\":{\"id\":\"1170\"},\"group\":null,\"hover_glyph\":null,\"muted_glyph\":{\"id\":\"1172\"},\"nonselection_glyph\":{\"id\":\"1171\"},\"selection_glyph\":{\"id\":\"1175\"},\"view\":{\"id\":\"1174\"}},\"id\":\"1173\",\"type\":\"GlyphRenderer\"},{\"attributes\":{\"line_color\":\"#30a2da\",\"line_width\":2,\"x\":{\"field\":\"Year\"},\"y\":{\"field\":\"Suicides per 100k\"}},\"id\":\"1166\",\"type\":\"Line\"},{\"attributes\":{\"fill_alpha\":{\"value\":0.2},\"fill_color\":{\"value\":\"#000000\"},\"hatch_alpha\":{\"value\":0.2},\"hatch_color\":{\"value\":\"#000000\"},\"line_alpha\":{\"value\":0.2},\"line_color\":{\"value\":\"#000000\"},\"size\":{\"value\":5.477225575051661},\"x\":{\"field\":\"Year\"},\"y\":{\"field\":\"Suicides per 100k\"}},\"id\":\"1190\",\"type\":\"Scatter\"},{\"attributes\":{},\"id\":\"1205\",\"type\":\"UnionRenderers\"},{\"attributes\":{\"end\":2015.0,\"reset_end\":2015.0,\"reset_start\":1985.0,\"start\":1985.0,\"tags\":[[[\"Year\",\"Year\",null]]]},\"id\":\"1116\",\"type\":\"Range1d\"},{\"attributes\":{\"children\":[{\"id\":\"1115\"},{\"id\":\"1122\"},{\"id\":\"1210\"}],\"margin\":[0,0,0,0],\"name\":\"Row01319\",\"tags\":[\"embedded\"]},\"id\":\"1114\",\"type\":\"Row\"},{\"attributes\":{},\"id\":\"1129\",\"type\":\"LinearScale\"},{\"attributes\":{\"fill_color\":{\"value\":\"#000000\"},\"hatch_color\":{\"value\":\"#000000\"},\"line_color\":{\"value\":\"#000000\"},\"size\":{\"value\":5.477225575051661},\"x\":{\"field\":\"Year\"},\"y\":{\"field\":\"Suicides per 100k\"}},\"id\":\"1170\",\"type\":\"Scatter\"},{\"attributes\":{\"axis_label\":\"Suicides per 100k\",\"coordinates\":null,\"formatter\":{\"id\":\"1156\"},\"group\":null,\"major_label_policy\":{\"id\":\"1157\"},\"ticker\":{\"id\":\"1136\"}},\"id\":\"1135\",\"type\":\"LinearAxis\"},{\"attributes\":{\"axis_label\":\"Year\",\"coordinates\":null,\"formatter\":{\"id\":\"1153\"},\"group\":null,\"major_label_orientation\":0.7853981633974483,\"major_label_policy\":{\"id\":\"1154\"},\"ticker\":{\"id\":\"1132\"}},\"id\":\"1131\",\"type\":\"LinearAxis\"},{\"attributes\":{\"line_alpha\":0.1,\"line_color\":\"#30a2da\",\"line_width\":2,\"x\":{\"field\":\"Year\"},\"y\":{\"field\":\"Suicides per 100k\"}},\"id\":\"1162\",\"type\":\"Line\"},{\"attributes\":{},\"id\":\"1154\",\"type\":\"AllLabels\"},{\"attributes\":{\"margin\":[5,5,5,5],\"name\":\"HSpacer01323\",\"sizing_mode\":\"stretch_width\"},\"id\":\"1115\",\"type\":\"Spacer\"},{\"attributes\":{\"fill_color\":{\"value\":\"#000000\"},\"hatch_color\":{\"value\":\"#000000\"},\"line_color\":{\"value\":\"#000000\"},\"size\":{\"value\":5.477225575051661},\"x\":{\"field\":\"Year\"},\"y\":{\"field\":\"Suicides per 100k\"}},\"id\":\"1188\",\"type\":\"Scatter\"},{\"attributes\":{},\"id\":\"1157\",\"type\":\"AllLabels\"},{\"attributes\":{\"source\":{\"id\":\"1167\"}},\"id\":\"1174\",\"type\":\"CDSView\"},{\"attributes\":{\"fill_alpha\":{\"value\":0.2},\"fill_color\":{\"value\":\"#000000\"},\"hatch_alpha\":{\"value\":0.2},\"hatch_color\":{\"value\":\"#000000\"},\"line_alpha\":{\"value\":0.2},\"line_color\":{\"value\":\"#000000\"},\"size\":{\"value\":5.477225575051661},\"x\":{\"field\":\"Year\"},\"y\":{\"field\":\"Suicides per 100k\"}},\"id\":\"1172\",\"type\":\"Scatter\"},{\"attributes\":{},\"id\":\"1153\",\"type\":\"BasicTickFormatter\"},{\"attributes\":{\"axis\":{\"id\":\"1135\"},\"coordinates\":null,\"dimension\":1,\"grid_line_color\":null,\"group\":null,\"ticker\":null},\"id\":\"1138\",\"type\":\"Grid\"},{\"attributes\":{},\"id\":\"1156\",\"type\":\"BasicTickFormatter\"},{\"attributes\":{},\"id\":\"1186\",\"type\":\"Selection\"},{\"attributes\":{\"fill_alpha\":{\"value\":0.1},\"fill_color\":{\"value\":\"#000000\"},\"hatch_alpha\":{\"value\":0.1},\"hatch_color\":{\"value\":\"#000000\"},\"line_alpha\":{\"value\":0.1},\"line_color\":{\"value\":\"#000000\"},\"size\":{\"value\":5.477225575051661},\"x\":{\"field\":\"Year\"},\"y\":{\"field\":\"Suicides per 100k\"}},\"id\":\"1171\",\"type\":\"Scatter\"},{\"attributes\":{\"below\":[{\"id\":\"1131\"}],\"center\":[{\"id\":\"1134\"},{\"id\":\"1138\"}],\"height\":450,\"left\":[{\"id\":\"1135\"}],\"margin\":[5,5,5,5],\"min_border_bottom\":10,\"min_border_left\":10,\"min_border_right\":10,\"min_border_top\":10,\"renderers\":[{\"id\":\"1164\"},{\"id\":\"1173\"},{\"id\":\"1182\"},{\"id\":\"1191\"}],\"sizing_mode\":\"fixed\",\"title\":{\"id\":\"1123\"},\"toolbar\":{\"id\":\"1145\"},\"width\":800,\"x_range\":{\"id\":\"1116\"},\"x_scale\":{\"id\":\"1127\"},\"y_range\":{\"id\":\"1117\"},\"y_scale\":{\"id\":\"1129\"}},\"id\":\"1122\",\"subtype\":\"Figure\",\"type\":\"Plot\"},{\"attributes\":{\"callback\":null,\"renderers\":[{\"id\":\"1164\"},{\"id\":\"1173\"},{\"id\":\"1182\"},{\"id\":\"1191\"}],\"tags\":[\"hv_created\"],\"tooltips\":[[\"Year\",\"@{Year}\"],[\"Suicides per 100k\",\"@{Suicides_per_100k}\"]]},\"id\":\"1118\",\"type\":\"HoverTool\"},{\"attributes\":{},\"id\":\"1168\",\"type\":\"Selection\"},{\"attributes\":{\"angle\":{\"value\":0.0},\"fill_alpha\":{\"value\":1.0},\"fill_color\":{\"value\":\"#000000\"},\"hatch_alpha\":{\"value\":1.0},\"hatch_color\":{\"value\":\"#000000\"},\"hatch_scale\":{\"value\":12.0},\"hatch_weight\":{\"value\":1.0},\"line_alpha\":{\"value\":1.0},\"line_cap\":{\"value\":\"butt\"},\"line_color\":{\"value\":\"#000000\"},\"line_dash\":{\"value\":[]},\"line_dash_offset\":{\"value\":0},\"line_join\":{\"value\":\"bevel\"},\"line_width\":{\"value\":1},\"marker\":{\"value\":\"circle\"},\"size\":{\"value\":5.477225575051661},\"x\":{\"field\":\"Year\"},\"y\":{\"field\":\"Suicides per 100k\"}},\"id\":\"1175\",\"type\":\"Scatter\"},{\"attributes\":{\"source\":{\"id\":\"1185\"}},\"id\":\"1192\",\"type\":\"CDSView\"}],\"root_ids\":[\"1114\"]},\"title\":\"Bokeh Application\",\"version\":\"2.4.3\"}};\n",
       "    var render_items = [{\"docid\":\"2e4f1580-01f1-4d96-a749-6ec032ee5d34\",\"root_ids\":[\"1114\"],\"roots\":{\"1114\":\"5725f11f-2ea5-4bb8-9258-a0ddb34df216\"}}];\n",
       "    root.Bokeh.embed.embed_items_notebook(docs_json, render_items);\n",
       "  }\n",
       "  if (root.Bokeh !== undefined && root.Bokeh.Panel !== undefined) {\n",
       "    embed_document(root);\n",
       "  } else {\n",
       "    var attempts = 0;\n",
       "    var timer = setInterval(function(root) {\n",
       "      if (root.Bokeh !== undefined && root.Bokeh.Panel !== undefined) {\n",
       "        clearInterval(timer);\n",
       "        embed_document(root);\n",
       "      } else if (document.readyState == \"complete\") {\n",
       "        attempts++;\n",
       "        if (attempts > 200) {\n",
       "          clearInterval(timer);\n",
       "          console.log(\"Bokeh: ERROR: Unable to run BokehJS code because BokehJS library is missing\");\n",
       "        }\n",
       "      }\n",
       "    }, 25, root)\n",
       "  }\n",
       "})(window);</script>"
      ],
      "text/plain": [
       ":Overlay\n",
       "   .Curve.I    :Curve   [Year]   (Suicides per 100k)\n",
       "   .Scatter.I  :Scatter   [Year]   (Suicides per 100k)\n",
       "   .Curve.II   :Curve   [Year]   (Suicides per 100k)\n",
       "   .Scatter.II :Scatter   [Year]   (Suicides per 100k)"
      ]
     },
     "execution_count": 12,
     "metadata": {
      "application/vnd.holoviews_exec.v0+json": {
       "id": "1114"
      }
     },
     "output_type": "execute_result"
    }
   ],
   "source": [
    "paraguay_suicide_rates.hvplot(x=\"Year\", y=\"Suicides per 100k\", rot=45).opts(\n",
    "    height=450, width=800\n",
    ") * paraguay_suicide_rates.hvplot.scatter(\n",
    "    x=\"Year\", y=\"Suicides per 100k\", rot=45, c=\"k\"\n",
    ").opts(\n",
    "    height=450, width=800\n",
    ") * us_suicide_rates.hvplot(\n",
    "    x=\"Year\", y=\"Suicides per 100k\", rot=45\n",
    ").opts(\n",
    "    height=450, width=800\n",
    ") * us_suicide_rates.hvplot.scatter(\n",
    "    x=\"Year\", y=\"Suicides per 100k\", rot=45, c=\"k\"\n",
    ").opts(\n",
    "    height=450, width=800\n",
    ")"
   ]
  },
  {
   "cell_type": "code",
   "execution_count": 13,
   "metadata": {},
   "outputs": [
    {
     "data": {},
     "metadata": {},
     "output_type": "display_data"
    },
    {
     "data": {
      "application/vnd.holoviews_exec.v0+json": "",
      "text/html": [
       "<div id='1292'>\n",
       "  <div class=\"bk-root\" id=\"00537d4a-6ace-4ef6-89de-91353af54c0a\" data-root-id=\"1292\"></div>\n",
       "</div>\n",
       "<script type=\"application/javascript\">(function(root) {\n",
       "  function embed_document(root) {\n",
       "    var docs_json = {\"63b167bc-5bad-48ae-9ec5-0a320ced420c\":{\"defs\":[{\"extends\":null,\"module\":null,\"name\":\"ReactiveHTML1\",\"overrides\":[],\"properties\":[]},{\"extends\":null,\"module\":null,\"name\":\"FlexBox1\",\"overrides\":[],\"properties\":[{\"default\":\"flex-start\",\"kind\":null,\"name\":\"align_content\"},{\"default\":\"flex-start\",\"kind\":null,\"name\":\"align_items\"},{\"default\":\"row\",\"kind\":null,\"name\":\"flex_direction\"},{\"default\":\"wrap\",\"kind\":null,\"name\":\"flex_wrap\"},{\"default\":\"flex-start\",\"kind\":null,\"name\":\"justify_content\"}]},{\"extends\":null,\"module\":null,\"name\":\"GridStack1\",\"overrides\":[],\"properties\":[{\"default\":\"warn\",\"kind\":null,\"name\":\"mode\"},{\"default\":null,\"kind\":null,\"name\":\"ncols\"},{\"default\":null,\"kind\":null,\"name\":\"nrows\"},{\"default\":true,\"kind\":null,\"name\":\"allow_resize\"},{\"default\":true,\"kind\":null,\"name\":\"allow_drag\"},{\"default\":[],\"kind\":null,\"name\":\"state\"}]},{\"extends\":null,\"module\":null,\"name\":\"click1\",\"overrides\":[],\"properties\":[{\"default\":\"\",\"kind\":null,\"name\":\"terminal_output\"},{\"default\":\"\",\"kind\":null,\"name\":\"debug_name\"},{\"default\":0,\"kind\":null,\"name\":\"clears\"}]},{\"extends\":null,\"module\":null,\"name\":\"NotificationAreaBase1\",\"overrides\":[],\"properties\":[{\"default\":\"bottom-right\",\"kind\":null,\"name\":\"position\"},{\"default\":0,\"kind\":null,\"name\":\"_clear\"}]},{\"extends\":null,\"module\":null,\"name\":\"NotificationArea1\",\"overrides\":[],\"properties\":[{\"default\":[],\"kind\":null,\"name\":\"notifications\"},{\"default\":\"bottom-right\",\"kind\":null,\"name\":\"position\"},{\"default\":0,\"kind\":null,\"name\":\"_clear\"},{\"default\":[{\"background\":\"#ffc107\",\"icon\":{\"className\":\"fas fa-exclamation-triangle\",\"color\":\"white\",\"tagName\":\"i\"},\"type\":\"warning\"},{\"background\":\"#007bff\",\"icon\":{\"className\":\"fas fa-info-circle\",\"color\":\"white\",\"tagName\":\"i\"},\"type\":\"info\"}],\"kind\":null,\"name\":\"types\"}]},{\"extends\":null,\"module\":null,\"name\":\"Notification\",\"overrides\":[],\"properties\":[{\"default\":null,\"kind\":null,\"name\":\"background\"},{\"default\":3000,\"kind\":null,\"name\":\"duration\"},{\"default\":null,\"kind\":null,\"name\":\"icon\"},{\"default\":\"\",\"kind\":null,\"name\":\"message\"},{\"default\":null,\"kind\":null,\"name\":\"notification_type\"},{\"default\":false,\"kind\":null,\"name\":\"_destroyed\"}]},{\"extends\":null,\"module\":null,\"name\":\"TemplateActions1\",\"overrides\":[],\"properties\":[{\"default\":0,\"kind\":null,\"name\":\"open_modal\"},{\"default\":0,\"kind\":null,\"name\":\"close_modal\"}]},{\"extends\":null,\"module\":null,\"name\":\"MaterialTemplateActions1\",\"overrides\":[],\"properties\":[{\"default\":0,\"kind\":null,\"name\":\"open_modal\"},{\"default\":0,\"kind\":null,\"name\":\"close_modal\"}]}],\"roots\":{\"references\":[{\"attributes\":{\"fill_alpha\":{\"value\":0.1},\"fill_color\":{\"value\":\"#000000\"},\"hatch_alpha\":{\"value\":0.1},\"hatch_color\":{\"value\":\"#000000\"},\"line_alpha\":{\"value\":0.1},\"line_color\":{\"value\":\"#000000\"},\"size\":{\"value\":5.477225575051661},\"x\":{\"field\":\"Year\"},\"y\":{\"field\":\"Number of Suicides\"}},\"id\":\"1347\",\"type\":\"Scatter\"},{\"attributes\":{\"coordinates\":null,\"data_source\":{\"id\":\"1334\"},\"glyph\":{\"id\":\"1337\"},\"group\":null,\"hover_glyph\":null,\"muted_glyph\":{\"id\":\"1339\"},\"nonselection_glyph\":{\"id\":\"1338\"},\"selection_glyph\":{\"id\":\"1342\"},\"view\":{\"id\":\"1341\"}},\"id\":\"1340\",\"type\":\"GlyphRenderer\"},{\"attributes\":{},\"id\":\"1312\",\"type\":\"BasicTicker\"},{\"attributes\":{\"data\":{\"Number of Suicides\":[29446,30892,30783,30388,30218,30895,30790,30471,31084,31123,31272,30879,30517,30558,29183,29343,30607,31645,31477,32428,32629,33292,34596,36030,36900,38362,39508,40596,41143,42721,44159,44925,47126,48290,47467,45941,48137],\"Number_of_Suicides\":[29446,30892,30783,30388,30218,30895,30790,30471,31084,31123,31272,30879,30517,30558,29183,29343,30607,31645,31477,32428,32629,33292,34596,36030,36900,38362,39508,40596,41143,42721,44159,44925,47126,48290,47467,45941,48137],\"Year\":[1985,1986,1987,1988,1989,1990,1991,1992,1993,1994,1995,1996,1997,1998,1999,2000,2001,2002,2003,2004,2005,2006,2007,2008,2009,2010,2011,2012,2013,2014,2015,2016,2017,2018,2019,2020,2021]},\"selected\":{\"id\":\"1344\"},\"selection_policy\":{\"id\":\"1361\"}},\"id\":\"1343\",\"type\":\"ColumnDataSource\"},{\"attributes\":{\"angle\":{\"value\":0.0},\"fill_alpha\":{\"value\":1.0},\"fill_color\":{\"value\":\"#000000\"},\"hatch_alpha\":{\"value\":1.0},\"hatch_color\":{\"value\":\"#000000\"},\"hatch_scale\":{\"value\":12.0},\"hatch_weight\":{\"value\":1.0},\"line_alpha\":{\"value\":1.0},\"line_cap\":{\"value\":\"butt\"},\"line_color\":{\"value\":\"#000000\"},\"line_dash\":{\"value\":[]},\"line_dash_offset\":{\"value\":0},\"line_join\":{\"value\":\"bevel\"},\"line_width\":{\"value\":1},\"marker\":{\"value\":\"circle\"},\"size\":{\"value\":5.477225575051661},\"x\":{\"field\":\"Year\"},\"y\":{\"field\":\"Number of Suicides\"}},\"id\":\"1351\",\"type\":\"Scatter\"},{\"attributes\":{\"callback\":null,\"renderers\":[{\"id\":\"1340\"},{\"id\":\"1349\"}],\"tags\":[\"hv_created\"],\"tooltips\":[[\"Year\",\"@{Year}\"],[\"Number of Suicides\",\"@{Number_of_Suicides}\"]]},\"id\":\"1296\",\"type\":\"HoverTool\"},{\"attributes\":{},\"id\":\"1308\",\"type\":\"BasicTicker\"},{\"attributes\":{\"coordinates\":null,\"group\":null,\"text_color\":\"black\",\"text_font_size\":\"12pt\"},\"id\":\"1299\",\"type\":\"Title\"},{\"attributes\":{},\"id\":\"1319\",\"type\":\"ResetTool\"},{\"attributes\":{},\"id\":\"1344\",\"type\":\"Selection\"},{\"attributes\":{\"fill_color\":{\"value\":\"#000000\"},\"hatch_color\":{\"value\":\"#000000\"},\"line_color\":{\"value\":\"#000000\"},\"size\":{\"value\":5.477225575051661},\"x\":{\"field\":\"Year\"},\"y\":{\"field\":\"Number of Suicides\"}},\"id\":\"1346\",\"type\":\"Scatter\"},{\"attributes\":{\"coordinates\":null,\"data_source\":{\"id\":\"1343\"},\"glyph\":{\"id\":\"1346\"},\"group\":null,\"hover_glyph\":null,\"muted_glyph\":{\"id\":\"1348\"},\"nonselection_glyph\":{\"id\":\"1347\"},\"selection_glyph\":{\"id\":\"1351\"},\"view\":{\"id\":\"1350\"}},\"id\":\"1349\",\"type\":\"GlyphRenderer\"},{\"attributes\":{\"line_alpha\":0.1,\"line_color\":\"#30a2da\",\"line_width\":2,\"x\":{\"field\":\"Year\"},\"y\":{\"field\":\"Number of Suicides\"}},\"id\":\"1338\",\"type\":\"Line\"},{\"attributes\":{\"tools\":[{\"id\":\"1296\"},{\"id\":\"1315\"},{\"id\":\"1316\"},{\"id\":\"1317\"},{\"id\":\"1318\"},{\"id\":\"1319\"}]},\"id\":\"1321\",\"type\":\"Toolbar\"},{\"attributes\":{},\"id\":\"1305\",\"type\":\"LinearScale\"},{\"attributes\":{\"line_color\":\"#30a2da\",\"line_width\":2,\"x\":{\"field\":\"Year\"},\"y\":{\"field\":\"Number of Suicides\"}},\"id\":\"1342\",\"type\":\"Line\"},{\"attributes\":{\"axis_label\":\"Number of Suicides\",\"coordinates\":null,\"formatter\":{\"id\":\"1332\"},\"group\":null,\"major_label_policy\":{\"id\":\"1333\"},\"ticker\":{\"id\":\"1312\"}},\"id\":\"1311\",\"type\":\"LinearAxis\"},{\"attributes\":{\"end\":2021.0,\"reset_end\":2021.0,\"reset_start\":1985.0,\"start\":1985.0,\"tags\":[[[\"Year\",\"Year\",null]]]},\"id\":\"1294\",\"type\":\"Range1d\"},{\"attributes\":{\"end\":50200.7,\"reset_end\":50200.7,\"reset_start\":27272.3,\"start\":27272.3,\"tags\":[[[\"Number of Suicides\",\"Number of Suicides\",null]]]},\"id\":\"1295\",\"type\":\"Range1d\"},{\"attributes\":{\"axis_label\":\"Year\",\"coordinates\":null,\"formatter\":{\"id\":\"1329\"},\"group\":null,\"major_label_orientation\":0.7853981633974483,\"major_label_policy\":{\"id\":\"1330\"},\"ticker\":{\"id\":\"1308\"}},\"id\":\"1307\",\"type\":\"LinearAxis\"},{\"attributes\":{\"bottom_units\":\"screen\",\"coordinates\":null,\"fill_alpha\":0.5,\"fill_color\":\"lightgrey\",\"group\":null,\"left_units\":\"screen\",\"level\":\"overlay\",\"line_alpha\":1.0,\"line_color\":\"black\",\"line_dash\":[4,4],\"line_width\":2,\"right_units\":\"screen\",\"syncable\":false,\"top_units\":\"screen\"},\"id\":\"1320\",\"type\":\"BoxAnnotation\"},{\"attributes\":{},\"id\":\"1359\",\"type\":\"UnionRenderers\"},{\"attributes\":{},\"id\":\"1361\",\"type\":\"UnionRenderers\"},{\"attributes\":{\"line_alpha\":0.2,\"line_color\":\"#30a2da\",\"line_width\":2,\"x\":{\"field\":\"Year\"},\"y\":{\"field\":\"Number of Suicides\"}},\"id\":\"1339\",\"type\":\"Line\"},{\"attributes\":{\"below\":[{\"id\":\"1307\"}],\"center\":[{\"id\":\"1310\"},{\"id\":\"1314\"}],\"height\":450,\"left\":[{\"id\":\"1311\"}],\"margin\":[5,5,5,5],\"min_border_bottom\":10,\"min_border_left\":10,\"min_border_right\":10,\"min_border_top\":10,\"renderers\":[{\"id\":\"1340\"},{\"id\":\"1349\"}],\"sizing_mode\":\"fixed\",\"title\":{\"id\":\"1299\"},\"toolbar\":{\"id\":\"1321\"},\"width\":800,\"x_range\":{\"id\":\"1294\"},\"x_scale\":{\"id\":\"1303\"},\"y_range\":{\"id\":\"1295\"},\"y_scale\":{\"id\":\"1305\"}},\"id\":\"1298\",\"subtype\":\"Figure\",\"type\":\"Plot\"},{\"attributes\":{\"axis\":{\"id\":\"1311\"},\"coordinates\":null,\"dimension\":1,\"grid_line_color\":null,\"group\":null,\"ticker\":null},\"id\":\"1314\",\"type\":\"Grid\"},{\"attributes\":{\"data\":{\"Number of Suicides\":[29446,30892,30783,30388,30218,30895,30790,30471,31084,31123,31272,30879,30517,30558,29183,29343,30607,31645,31477,32428,32629,33292,34596,36030,36900,38362,39508,40596,41143,42721,44159,44925,47126,48290,47467,45941,48137],\"Number_of_Suicides\":[29446,30892,30783,30388,30218,30895,30790,30471,31084,31123,31272,30879,30517,30558,29183,29343,30607,31645,31477,32428,32629,33292,34596,36030,36900,38362,39508,40596,41143,42721,44159,44925,47126,48290,47467,45941,48137],\"Year\":[1985,1986,1987,1988,1989,1990,1991,1992,1993,1994,1995,1996,1997,1998,1999,2000,2001,2002,2003,2004,2005,2006,2007,2008,2009,2010,2011,2012,2013,2014,2015,2016,2017,2018,2019,2020,2021]},\"selected\":{\"id\":\"1335\"},\"selection_policy\":{\"id\":\"1359\"}},\"id\":\"1334\",\"type\":\"ColumnDataSource\"},{\"attributes\":{\"source\":{\"id\":\"1334\"}},\"id\":\"1341\",\"type\":\"CDSView\"},{\"attributes\":{\"margin\":[5,5,5,5],\"name\":\"HSpacer01616\",\"sizing_mode\":\"stretch_width\"},\"id\":\"1364\",\"type\":\"Spacer\"},{\"attributes\":{},\"id\":\"1329\",\"type\":\"BasicTickFormatter\"},{\"attributes\":{\"source\":{\"id\":\"1343\"}},\"id\":\"1350\",\"type\":\"CDSView\"},{\"attributes\":{\"children\":[{\"id\":\"1293\"},{\"id\":\"1298\"},{\"id\":\"1364\"}],\"margin\":[0,0,0,0],\"name\":\"Row01611\",\"tags\":[\"embedded\"]},\"id\":\"1292\",\"type\":\"Row\"},{\"attributes\":{},\"id\":\"1332\",\"type\":\"BasicTickFormatter\"},{\"attributes\":{\"line_color\":\"#30a2da\",\"line_width\":2,\"x\":{\"field\":\"Year\"},\"y\":{\"field\":\"Number of Suicides\"}},\"id\":\"1337\",\"type\":\"Line\"},{\"attributes\":{\"margin\":[5,5,5,5],\"name\":\"HSpacer01615\",\"sizing_mode\":\"stretch_width\"},\"id\":\"1293\",\"type\":\"Spacer\"},{\"attributes\":{},\"id\":\"1335\",\"type\":\"Selection\"},{\"attributes\":{},\"id\":\"1315\",\"type\":\"SaveTool\"},{\"attributes\":{},\"id\":\"1316\",\"type\":\"PanTool\"},{\"attributes\":{\"axis\":{\"id\":\"1307\"},\"coordinates\":null,\"grid_line_color\":null,\"group\":null,\"ticker\":null},\"id\":\"1310\",\"type\":\"Grid\"},{\"attributes\":{},\"id\":\"1317\",\"type\":\"WheelZoomTool\"},{\"attributes\":{\"overlay\":{\"id\":\"1320\"}},\"id\":\"1318\",\"type\":\"BoxZoomTool\"},{\"attributes\":{},\"id\":\"1303\",\"type\":\"LinearScale\"},{\"attributes\":{},\"id\":\"1330\",\"type\":\"AllLabels\"},{\"attributes\":{},\"id\":\"1333\",\"type\":\"AllLabels\"},{\"attributes\":{\"fill_alpha\":{\"value\":0.2},\"fill_color\":{\"value\":\"#000000\"},\"hatch_alpha\":{\"value\":0.2},\"hatch_color\":{\"value\":\"#000000\"},\"line_alpha\":{\"value\":0.2},\"line_color\":{\"value\":\"#000000\"},\"size\":{\"value\":5.477225575051661},\"x\":{\"field\":\"Year\"},\"y\":{\"field\":\"Number of Suicides\"}},\"id\":\"1348\",\"type\":\"Scatter\"}],\"root_ids\":[\"1292\"]},\"title\":\"Bokeh Application\",\"version\":\"2.4.3\"}};\n",
       "    var render_items = [{\"docid\":\"63b167bc-5bad-48ae-9ec5-0a320ced420c\",\"root_ids\":[\"1292\"],\"roots\":{\"1292\":\"00537d4a-6ace-4ef6-89de-91353af54c0a\"}}];\n",
       "    root.Bokeh.embed.embed_items_notebook(docs_json, render_items);\n",
       "  }\n",
       "  if (root.Bokeh !== undefined && root.Bokeh.Panel !== undefined) {\n",
       "    embed_document(root);\n",
       "  } else {\n",
       "    var attempts = 0;\n",
       "    var timer = setInterval(function(root) {\n",
       "      if (root.Bokeh !== undefined && root.Bokeh.Panel !== undefined) {\n",
       "        clearInterval(timer);\n",
       "        embed_document(root);\n",
       "      } else if (document.readyState == \"complete\") {\n",
       "        attempts++;\n",
       "        if (attempts > 200) {\n",
       "          clearInterval(timer);\n",
       "          console.log(\"Bokeh: ERROR: Unable to run BokehJS code because BokehJS library is missing\");\n",
       "        }\n",
       "      }\n",
       "    }, 25, root)\n",
       "  }\n",
       "})(window);</script>"
      ],
      "text/plain": [
       ":Overlay\n",
       "   .Curve.I   :Curve   [Year]   (Number of Suicides)\n",
       "   .Scatter.I :Scatter   [Year]   (Number of Suicides)"
      ]
     },
     "execution_count": 13,
     "metadata": {
      "application/vnd.holoviews_exec.v0+json": {
       "id": "1292"
      }
     },
     "output_type": "execute_result"
    }
   ],
   "source": [
    "us_suicides_total.hvplot(x=\"Year\", y=\"Number of Suicides\", rot=45).opts(\n",
    "    height=450, width=800\n",
    ") * us_suicides_total.hvplot.scatter(\n",
    "    x=\"Year\", y=\"Number of Suicides\", rot=45, c=\"k\"\n",
    ").opts(\n",
    "    height=450, width=800\n",
    ")"
   ]
  },
  {
   "cell_type": "code",
   "execution_count": 14,
   "metadata": {},
   "outputs": [
    {
     "data": {},
     "metadata": {},
     "output_type": "display_data"
    },
    {
     "data": {
      "application/vnd.holoviews_exec.v0+json": "",
      "text/html": [
       "<div id='1426'>\n",
       "  <div class=\"bk-root\" id=\"310024e5-d4d3-45b2-9fb3-0b9960670524\" data-root-id=\"1426\"></div>\n",
       "</div>\n",
       "<script type=\"application/javascript\">(function(root) {\n",
       "  function embed_document(root) {\n",
       "    var docs_json = {\"03bea1ba-595e-4dfd-8c02-82e614682794\":{\"defs\":[{\"extends\":null,\"module\":null,\"name\":\"ReactiveHTML1\",\"overrides\":[],\"properties\":[]},{\"extends\":null,\"module\":null,\"name\":\"FlexBox1\",\"overrides\":[],\"properties\":[{\"default\":\"flex-start\",\"kind\":null,\"name\":\"align_content\"},{\"default\":\"flex-start\",\"kind\":null,\"name\":\"align_items\"},{\"default\":\"row\",\"kind\":null,\"name\":\"flex_direction\"},{\"default\":\"wrap\",\"kind\":null,\"name\":\"flex_wrap\"},{\"default\":\"flex-start\",\"kind\":null,\"name\":\"justify_content\"}]},{\"extends\":null,\"module\":null,\"name\":\"GridStack1\",\"overrides\":[],\"properties\":[{\"default\":\"warn\",\"kind\":null,\"name\":\"mode\"},{\"default\":null,\"kind\":null,\"name\":\"ncols\"},{\"default\":null,\"kind\":null,\"name\":\"nrows\"},{\"default\":true,\"kind\":null,\"name\":\"allow_resize\"},{\"default\":true,\"kind\":null,\"name\":\"allow_drag\"},{\"default\":[],\"kind\":null,\"name\":\"state\"}]},{\"extends\":null,\"module\":null,\"name\":\"click1\",\"overrides\":[],\"properties\":[{\"default\":\"\",\"kind\":null,\"name\":\"terminal_output\"},{\"default\":\"\",\"kind\":null,\"name\":\"debug_name\"},{\"default\":0,\"kind\":null,\"name\":\"clears\"}]},{\"extends\":null,\"module\":null,\"name\":\"NotificationAreaBase1\",\"overrides\":[],\"properties\":[{\"default\":\"bottom-right\",\"kind\":null,\"name\":\"position\"},{\"default\":0,\"kind\":null,\"name\":\"_clear\"}]},{\"extends\":null,\"module\":null,\"name\":\"NotificationArea1\",\"overrides\":[],\"properties\":[{\"default\":[],\"kind\":null,\"name\":\"notifications\"},{\"default\":\"bottom-right\",\"kind\":null,\"name\":\"position\"},{\"default\":0,\"kind\":null,\"name\":\"_clear\"},{\"default\":[{\"background\":\"#ffc107\",\"icon\":{\"className\":\"fas fa-exclamation-triangle\",\"color\":\"white\",\"tagName\":\"i\"},\"type\":\"warning\"},{\"background\":\"#007bff\",\"icon\":{\"className\":\"fas fa-info-circle\",\"color\":\"white\",\"tagName\":\"i\"},\"type\":\"info\"}],\"kind\":null,\"name\":\"types\"}]},{\"extends\":null,\"module\":null,\"name\":\"Notification\",\"overrides\":[],\"properties\":[{\"default\":null,\"kind\":null,\"name\":\"background\"},{\"default\":3000,\"kind\":null,\"name\":\"duration\"},{\"default\":null,\"kind\":null,\"name\":\"icon\"},{\"default\":\"\",\"kind\":null,\"name\":\"message\"},{\"default\":null,\"kind\":null,\"name\":\"notification_type\"},{\"default\":false,\"kind\":null,\"name\":\"_destroyed\"}]},{\"extends\":null,\"module\":null,\"name\":\"TemplateActions1\",\"overrides\":[],\"properties\":[{\"default\":0,\"kind\":null,\"name\":\"open_modal\"},{\"default\":0,\"kind\":null,\"name\":\"close_modal\"}]},{\"extends\":null,\"module\":null,\"name\":\"MaterialTemplateActions1\",\"overrides\":[],\"properties\":[{\"default\":0,\"kind\":null,\"name\":\"open_modal\"},{\"default\":0,\"kind\":null,\"name\":\"close_modal\"}]}],\"roots\":{\"references\":[{\"attributes\":{\"axis\":{\"id\":\"1445\"},\"coordinates\":null,\"dimension\":1,\"grid_line_color\":null,\"group\":null,\"ticker\":null},\"id\":\"1448\",\"type\":\"Grid\"},{\"attributes\":{\"data\":{\"Number of Suicides\":[29446,30892,30783,30388,30218,30895,30790,30471,31084,31123,31272,30879,30517,30558,29183,29343,30607,31645,31477,32428,32629,33292,34596,36030,36900,38362,39508,40596,41143,42721,44159,44925,47126,48290,47467,45941,48137],\"Number_of_Suicides\":[29446,30892,30783,30388,30218,30895,30790,30471,31084,31123,31272,30879,30517,30558,29183,29343,30607,31645,31477,32428,32629,33292,34596,36030,36900,38362,39508,40596,41143,42721,44159,44925,47126,48290,47467,45941,48137],\"Year\":[1985,1986,1987,1988,1989,1990,1991,1992,1993,1994,1995,1996,1997,1998,1999,2000,2001,2002,2003,2004,2005,2006,2007,2008,2009,2010,2011,2012,2013,2014,2015,2016,2017,2018,2019,2020,2021]},\"selected\":{\"id\":\"1470\"},\"selection_policy\":{\"id\":\"1494\"}},\"id\":\"1469\",\"type\":\"ColumnDataSource\"},{\"attributes\":{\"line_color\":\"red\",\"line_width\":2,\"x\":{\"field\":\"Year\"},\"y\":{\"field\":\"Predicted Suicides\"}},\"id\":\"1481\",\"type\":\"Line\"},{\"attributes\":{\"below\":[{\"id\":\"1441\"}],\"center\":[{\"id\":\"1444\"},{\"id\":\"1448\"}],\"height\":300,\"left\":[{\"id\":\"1445\"}],\"margin\":[5,5,5,5],\"min_border_bottom\":10,\"min_border_left\":10,\"min_border_right\":10,\"min_border_top\":10,\"renderers\":[{\"id\":\"1475\"},{\"id\":\"1484\"}],\"sizing_mode\":\"fixed\",\"title\":{\"id\":\"1433\"},\"toolbar\":{\"id\":\"1455\"},\"width\":700,\"x_range\":{\"id\":\"1428\"},\"x_scale\":{\"id\":\"1437\"},\"y_range\":{\"id\":\"1429\"},\"y_scale\":{\"id\":\"1439\"}},\"id\":\"1432\",\"subtype\":\"Figure\",\"type\":\"Plot\"},{\"attributes\":{\"axis_label\":\"Number of Suicides\",\"coordinates\":null,\"formatter\":{\"id\":\"1467\"},\"group\":null,\"major_label_policy\":{\"id\":\"1468\"},\"ticker\":{\"id\":\"1446\"}},\"id\":\"1445\",\"type\":\"LinearAxis\"},{\"attributes\":{},\"id\":\"1468\",\"type\":\"AllLabels\"},{\"attributes\":{},\"id\":\"1464\",\"type\":\"BasicTickFormatter\"},{\"attributes\":{\"angle\":{\"value\":0.0},\"fill_alpha\":{\"value\":1.0},\"fill_color\":{\"value\":\"#30a2da\"},\"hatch_alpha\":{\"value\":1.0},\"hatch_color\":{\"value\":\"#30a2da\"},\"hatch_scale\":{\"value\":12.0},\"hatch_weight\":{\"value\":1.0},\"line_alpha\":{\"value\":1.0},\"line_cap\":{\"value\":\"butt\"},\"line_color\":{\"value\":\"#30a2da\"},\"line_dash\":{\"value\":[]},\"line_dash_offset\":{\"value\":0},\"line_join\":{\"value\":\"bevel\"},\"line_width\":{\"value\":1},\"marker\":{\"value\":\"circle\"},\"size\":{\"value\":5.477225575051661},\"x\":{\"field\":\"Year\"},\"y\":{\"field\":\"Number of Suicides\"}},\"id\":\"1477\",\"type\":\"Scatter\"},{\"attributes\":{},\"id\":\"1470\",\"type\":\"Selection\"},{\"attributes\":{\"end\":2022.5428571428572,\"reset_end\":2022.5428571428572,\"reset_start\":1983.4571428571428,\"start\":1983.4571428571428,\"tags\":[[[\"Year\",\"Year\",null]]]},\"id\":\"1428\",\"type\":\"Range1d\"},{\"attributes\":{\"axis_label\":\"Year\",\"coordinates\":null,\"formatter\":{\"id\":\"1464\"},\"group\":null,\"major_label_orientation\":0.6457718232379019,\"major_label_policy\":{\"id\":\"1465\"},\"ticker\":{\"id\":\"1442\"}},\"id\":\"1441\",\"type\":\"LinearAxis\"},{\"attributes\":{},\"id\":\"1451\",\"type\":\"WheelZoomTool\"},{\"attributes\":{},\"id\":\"1439\",\"type\":\"LinearScale\"},{\"attributes\":{\"line_color\":\"red\",\"line_width\":2,\"x\":{\"field\":\"Year\"},\"y\":{\"field\":\"Predicted Suicides\"}},\"id\":\"1486\",\"type\":\"Line\"},{\"attributes\":{\"margin\":[5,5,5,5],\"name\":\"HSpacer01832\",\"sizing_mode\":\"stretch_width\"},\"id\":\"1427\",\"type\":\"Spacer\"},{\"attributes\":{\"axis\":{\"id\":\"1441\"},\"coordinates\":null,\"grid_line_color\":null,\"group\":null,\"ticker\":null},\"id\":\"1444\",\"type\":\"Grid\"},{\"attributes\":{\"callback\":null,\"renderers\":[{\"id\":\"1484\"}],\"tags\":[\"hv_created\"],\"tooltips\":[[\"Year\",\"@{Year}\"],[\"Predicted Suicides\",\"@{Predicted_Suicides}\"]]},\"id\":\"1431\",\"type\":\"HoverTool\"},{\"attributes\":{},\"id\":\"1442\",\"type\":\"BasicTicker\"},{\"attributes\":{\"coordinates\":null,\"data_source\":{\"id\":\"1469\"},\"glyph\":{\"id\":\"1472\"},\"group\":null,\"hover_glyph\":null,\"muted_glyph\":{\"id\":\"1474\"},\"nonselection_glyph\":{\"id\":\"1473\"},\"selection_glyph\":{\"id\":\"1477\"},\"view\":{\"id\":\"1476\"}},\"id\":\"1475\",\"type\":\"GlyphRenderer\"},{\"attributes\":{\"coordinates\":null,\"data_source\":{\"id\":\"1478\"},\"glyph\":{\"id\":\"1481\"},\"group\":null,\"hover_glyph\":null,\"muted_glyph\":{\"id\":\"1483\"},\"nonselection_glyph\":{\"id\":\"1482\"},\"selection_glyph\":{\"id\":\"1486\"},\"view\":{\"id\":\"1485\"}},\"id\":\"1484\",\"type\":\"GlyphRenderer\"},{\"attributes\":{\"line_alpha\":0.2,\"line_color\":\"red\",\"line_width\":2,\"x\":{\"field\":\"Year\"},\"y\":{\"field\":\"Predicted Suicides\"}},\"id\":\"1483\",\"type\":\"Line\"},{\"attributes\":{},\"id\":\"1494\",\"type\":\"UnionRenderers\"},{\"attributes\":{\"margin\":[5,5,5,5],\"name\":\"HSpacer01833\",\"sizing_mode\":\"stretch_width\"},\"id\":\"1499\",\"type\":\"Spacer\"},{\"attributes\":{\"fill_color\":{\"value\":\"#30a2da\"},\"hatch_color\":{\"value\":\"#30a2da\"},\"line_color\":{\"value\":\"#30a2da\"},\"size\":{\"value\":5.477225575051661},\"x\":{\"field\":\"Year\"},\"y\":{\"field\":\"Number of Suicides\"}},\"id\":\"1472\",\"type\":\"Scatter\"},{\"attributes\":{},\"id\":\"1446\",\"type\":\"BasicTicker\"},{\"attributes\":{\"coordinates\":null,\"group\":null,\"text_color\":\"black\",\"text_font_size\":\"12pt\"},\"id\":\"1433\",\"type\":\"Title\"},{\"attributes\":{\"line_alpha\":0.1,\"line_color\":\"red\",\"line_width\":2,\"x\":{\"field\":\"Year\"},\"y\":{\"field\":\"Predicted Suicides\"}},\"id\":\"1482\",\"type\":\"Line\"},{\"attributes\":{},\"id\":\"1479\",\"type\":\"Selection\"},{\"attributes\":{},\"id\":\"1453\",\"type\":\"ResetTool\"},{\"attributes\":{\"children\":[{\"id\":\"1427\"},{\"id\":\"1432\"},{\"id\":\"1499\"}],\"margin\":[0,0,0,0],\"name\":\"Row01828\",\"tags\":[\"embedded\"]},\"id\":\"1426\",\"type\":\"Row\"},{\"attributes\":{\"fill_alpha\":{\"value\":0.1},\"fill_color\":{\"value\":\"#30a2da\"},\"hatch_alpha\":{\"value\":0.1},\"hatch_color\":{\"value\":\"#30a2da\"},\"line_alpha\":{\"value\":0.1},\"line_color\":{\"value\":\"#30a2da\"},\"size\":{\"value\":5.477225575051661},\"x\":{\"field\":\"Year\"},\"y\":{\"field\":\"Number of Suicides\"}},\"id\":\"1473\",\"type\":\"Scatter\"},{\"attributes\":{\"fill_alpha\":{\"value\":0.2},\"fill_color\":{\"value\":\"#30a2da\"},\"hatch_alpha\":{\"value\":0.2},\"hatch_color\":{\"value\":\"#30a2da\"},\"line_alpha\":{\"value\":0.2},\"line_color\":{\"value\":\"#30a2da\"},\"size\":{\"value\":5.477225575051661},\"x\":{\"field\":\"Year\"},\"y\":{\"field\":\"Number of Suicides\"}},\"id\":\"1474\",\"type\":\"Scatter\"},{\"attributes\":{},\"id\":\"1450\",\"type\":\"PanTool\"},{\"attributes\":{\"bottom_units\":\"screen\",\"coordinates\":null,\"fill_alpha\":0.5,\"fill_color\":\"lightgrey\",\"group\":null,\"left_units\":\"screen\",\"level\":\"overlay\",\"line_alpha\":1.0,\"line_color\":\"black\",\"line_dash\":[4,4],\"line_width\":2,\"right_units\":\"screen\",\"syncable\":false,\"top_units\":\"screen\"},\"id\":\"1454\",\"type\":\"BoxAnnotation\"},{\"attributes\":{\"tools\":[{\"id\":\"1430\"},{\"id\":\"1431\"},{\"id\":\"1449\"},{\"id\":\"1450\"},{\"id\":\"1451\"},{\"id\":\"1452\"},{\"id\":\"1453\"}]},\"id\":\"1455\",\"type\":\"Toolbar\"},{\"attributes\":{},\"id\":\"1467\",\"type\":\"BasicTickFormatter\"},{\"attributes\":{\"data\":{\"Predicted Suicides\":{\"__ndarray__\":\"QM00UR9a2UCAxsydfN/ZQMC/ZOrZZNpAwLj8Njfq2kAAspSDlG/bQECrLNDx9NtAgKTEHE963EDAnVxprP/cQACX9LUJhd1AAJCMAmcK3kBAiSRPxI/eQICCvJshFd9AwHtU6H6a30CAOnYa7g/gQAA3wsCcUuBAoDMOZ0uV4EBAMFoN+tfgQOAsprOoGuFAgCnyWVdd4UAAJj4ABqDhQKAiiqa04uFAQB/WTGMl4kDgGyLzEWjiQIAYbpnAquJAABW6P2/t4kCgEQbmHTDjQEAOUozMcuNA4AqeMnu140CAB+rYKfjjQAAENn/YOuRAoACCJYd95EBA/c3LNcDkQOD5GXLkAuVAgPZlGJNF5UAg87G+QYjlQKDv/WTwyuVAQOxJC58N5kA=\",\"dtype\":\"float64\",\"order\":\"little\",\"shape\":[37]},\"Predicted_Suicides\":{\"__ndarray__\":\"QM00UR9a2UCAxsydfN/ZQMC/ZOrZZNpAwLj8Njfq2kAAspSDlG/bQECrLNDx9NtAgKTEHE963EDAnVxprP/cQACX9LUJhd1AAJCMAmcK3kBAiSRPxI/eQICCvJshFd9AwHtU6H6a30CAOnYa7g/gQAA3wsCcUuBAoDMOZ0uV4EBAMFoN+tfgQOAsprOoGuFAgCnyWVdd4UAAJj4ABqDhQKAiiqa04uFAQB/WTGMl4kDgGyLzEWjiQIAYbpnAquJAABW6P2/t4kCgEQbmHTDjQEAOUozMcuNA4AqeMnu140CAB+rYKfjjQAAENn/YOuRAoACCJYd95EBA/c3LNcDkQOD5GXLkAuVAgPZlGJNF5UAg87G+QYjlQKDv/WTwyuVAQOxJC58N5kA=\",\"dtype\":\"float64\",\"order\":\"little\",\"shape\":[37]},\"Year\":[1985,1986,1987,1988,1989,1990,1991,1992,1993,1994,1995,1996,1997,1998,1999,2000,2001,2002,2003,2004,2005,2006,2007,2008,2009,2010,2011,2012,2013,2014,2015,2016,2017,2018,2019,2020,2021]},\"selected\":{\"id\":\"1479\"},\"selection_policy\":{\"id\":\"1496\"}},\"id\":\"1478\",\"type\":\"ColumnDataSource\"},{\"attributes\":{\"overlay\":{\"id\":\"1454\"}},\"id\":\"1452\",\"type\":\"BoxZoomTool\"},{\"attributes\":{},\"id\":\"1465\",\"type\":\"AllLabels\"},{\"attributes\":{\"source\":{\"id\":\"1469\"}},\"id\":\"1476\",\"type\":\"CDSView\"},{\"attributes\":{\"callback\":null,\"renderers\":[{\"id\":\"1475\"}],\"tags\":[\"hv_created\"],\"tooltips\":[[\"Year\",\"@{Year}\"],[\"Number of Suicides\",\"@{Number_of_Suicides}\"]]},\"id\":\"1430\",\"type\":\"HoverTool\"},{\"attributes\":{},\"id\":\"1496\",\"type\":\"UnionRenderers\"},{\"attributes\":{},\"id\":\"1437\",\"type\":\"LinearScale\"},{\"attributes\":{\"source\":{\"id\":\"1478\"}},\"id\":\"1485\",\"type\":\"CDSView\"},{\"attributes\":{},\"id\":\"1449\",\"type\":\"SaveTool\"},{\"attributes\":{\"end\":50522.951066856345,\"reset_end\":50522.951066856345,\"reset_start\":23727.538264580235,\"start\":23727.538264580235,\"tags\":[[[\"Number of Suicides\",\"Number of Suicides\",null]]]},\"id\":\"1429\",\"type\":\"Range1d\"}],\"root_ids\":[\"1426\"]},\"title\":\"Bokeh Application\",\"version\":\"2.4.3\"}};\n",
       "    var render_items = [{\"docid\":\"03bea1ba-595e-4dfd-8c02-82e614682794\",\"root_ids\":[\"1426\"],\"roots\":{\"1426\":\"310024e5-d4d3-45b2-9fb3-0b9960670524\"}}];\n",
       "    root.Bokeh.embed.embed_items_notebook(docs_json, render_items);\n",
       "  }\n",
       "  if (root.Bokeh !== undefined && root.Bokeh.Panel !== undefined) {\n",
       "    embed_document(root);\n",
       "  } else {\n",
       "    var attempts = 0;\n",
       "    var timer = setInterval(function(root) {\n",
       "      if (root.Bokeh !== undefined && root.Bokeh.Panel !== undefined) {\n",
       "        clearInterval(timer);\n",
       "        embed_document(root);\n",
       "      } else if (document.readyState == \"complete\") {\n",
       "        attempts++;\n",
       "        if (attempts > 200) {\n",
       "          clearInterval(timer);\n",
       "          console.log(\"Bokeh: ERROR: Unable to run BokehJS code because BokehJS library is missing\");\n",
       "        }\n",
       "      }\n",
       "    }, 25, root)\n",
       "  }\n",
       "})(window);</script>"
      ],
      "text/plain": [
       ":Overlay\n",
       "   .Scatter.I :Scatter   [Year]   (Number of Suicides)\n",
       "   .Curve.I   :Curve   [Year]   (Predicted Suicides)"
      ]
     },
     "execution_count": 14,
     "metadata": {
      "application/vnd.holoviews_exec.v0+json": {
       "id": "1426"
      }
     },
     "output_type": "execute_result"
    }
   ],
   "source": [
    "# Separate the features (Year) and target (Number of Suicides)\n",
    "X = us_suicides_total[[\"Year\"]]\n",
    "y = us_suicides_total[\"Number of Suicides\"]\n",
    "\n",
    "# Create and fit a linear regression model\n",
    "model = LinearRegression()\n",
    "model.fit(X, y)\n",
    "\n",
    "# Generate predictions using the fitted model\n",
    "y_pred = model.predict(X)\n",
    "\n",
    "# Create scatter plots using hvPlot\n",
    "scatter_actual = us_suicides_total.hvplot.scatter(\n",
    "    x=\"Year\", y=\"Number of Suicides\", rot=37\n",
    ")\n",
    "scatter_predicted = pd.DataFrame(\n",
    "    {\"Year\": us_suicides_total[\"Year\"], \"Predicted Suicides\": y_pred}\n",
    ").hvplot.line(x=\"Year\", y=\"Predicted Suicides\", color=\"red\")\n",
    "\n",
    "# Combine the scatter plots\n",
    "scatter_actual * scatter_predicted"
   ]
  },
  {
   "cell_type": "code",
   "execution_count": 15,
   "metadata": {},
   "outputs": [],
   "source": [
    "metrics_988 = metrics_988.rename(columns={\"Unnamed: 0\": \"Month\"})\n",
    "metrics_988 = metrics_988.iloc[::-1]"
   ]
  },
  {
   "cell_type": "code",
   "execution_count": 16,
   "metadata": {},
   "outputs": [
    {
     "data": {
      "text/html": [
       "<div>\n",
       "<style scoped>\n",
       "    .dataframe tbody tr th:only-of-type {\n",
       "        vertical-align: middle;\n",
       "    }\n",
       "\n",
       "    .dataframe tbody tr th {\n",
       "        vertical-align: top;\n",
       "    }\n",
       "\n",
       "    .dataframe thead th {\n",
       "        text-align: right;\n",
       "    }\n",
       "</style>\n",
       "<table border=\"1\" class=\"dataframe\">\n",
       "  <thead>\n",
       "    <tr style=\"text-align: right;\">\n",
       "      <th></th>\n",
       "      <th>Month</th>\n",
       "      <th>Routed Calls</th>\n",
       "      <th>Routed Chats</th>\n",
       "      <th>Routed Texts</th>\n",
       "      <th>Total Routed</th>\n",
       "      <th>Total Answered Percentage</th>\n",
       "    </tr>\n",
       "  </thead>\n",
       "  <tbody>\n",
       "    <tr>\n",
       "      <th>10</th>\n",
       "      <td>July 2022</td>\n",
       "      <td>245905</td>\n",
       "      <td>75441</td>\n",
       "      <td>33279</td>\n",
       "      <td>354625</td>\n",
       "      <td>84</td>\n",
       "    </tr>\n",
       "    <tr>\n",
       "      <th>9</th>\n",
       "      <td>August 2022</td>\n",
       "      <td>256398</td>\n",
       "      <td>64115</td>\n",
       "      <td>40627</td>\n",
       "      <td>361140</td>\n",
       "      <td>88</td>\n",
       "    </tr>\n",
       "    <tr>\n",
       "      <th>8</th>\n",
       "      <td>September 2022</td>\n",
       "      <td>239135</td>\n",
       "      <td>66128</td>\n",
       "      <td>45366</td>\n",
       "      <td>350629</td>\n",
       "      <td>88</td>\n",
       "    </tr>\n",
       "    <tr>\n",
       "      <th>7</th>\n",
       "      <td>October 2022</td>\n",
       "      <td>230928</td>\n",
       "      <td>68425</td>\n",
       "      <td>49992</td>\n",
       "      <td>349345</td>\n",
       "      <td>91</td>\n",
       "    </tr>\n",
       "    <tr>\n",
       "      <th>6</th>\n",
       "      <td>November 2022</td>\n",
       "      <td>222285</td>\n",
       "      <td>72134</td>\n",
       "      <td>52922</td>\n",
       "      <td>347341</td>\n",
       "      <td>92</td>\n",
       "    </tr>\n",
       "    <tr>\n",
       "      <th>5</th>\n",
       "      <td>December 2022</td>\n",
       "      <td>241555</td>\n",
       "      <td>70616</td>\n",
       "      <td>59484</td>\n",
       "      <td>371655</td>\n",
       "      <td>91</td>\n",
       "    </tr>\n",
       "    <tr>\n",
       "      <th>4</th>\n",
       "      <td>January 2023</td>\n",
       "      <td>248634</td>\n",
       "      <td>71058</td>\n",
       "      <td>64379</td>\n",
       "      <td>384071</td>\n",
       "      <td>91</td>\n",
       "    </tr>\n",
       "    <tr>\n",
       "      <th>3</th>\n",
       "      <td>February 2023</td>\n",
       "      <td>226634</td>\n",
       "      <td>59225</td>\n",
       "      <td>60365</td>\n",
       "      <td>346224</td>\n",
       "      <td>92</td>\n",
       "    </tr>\n",
       "    <tr>\n",
       "      <th>2</th>\n",
       "      <td>March 2023</td>\n",
       "      <td>243417</td>\n",
       "      <td>61146</td>\n",
       "      <td>64259</td>\n",
       "      <td>371822</td>\n",
       "      <td>92</td>\n",
       "    </tr>\n",
       "    <tr>\n",
       "      <th>1</th>\n",
       "      <td>April 2023</td>\n",
       "      <td>242995</td>\n",
       "      <td>61082</td>\n",
       "      <td>64859</td>\n",
       "      <td>368936</td>\n",
       "      <td>92</td>\n",
       "    </tr>\n",
       "    <tr>\n",
       "      <th>0</th>\n",
       "      <td>May 2023</td>\n",
       "      <td>262920</td>\n",
       "      <td>68507</td>\n",
       "      <td>71067</td>\n",
       "      <td>402494</td>\n",
       "      <td>93</td>\n",
       "    </tr>\n",
       "  </tbody>\n",
       "</table>\n",
       "</div>"
      ],
      "text/plain": [
       "             Month  Routed Calls  Routed Chats  Routed Texts  Total Routed  \\\n",
       "10       July 2022        245905         75441         33279        354625   \n",
       "9      August 2022        256398         64115         40627        361140   \n",
       "8   September 2022        239135         66128         45366        350629   \n",
       "7     October 2022        230928         68425         49992        349345   \n",
       "6    November 2022        222285         72134         52922        347341   \n",
       "5    December 2022        241555         70616         59484        371655   \n",
       "4     January 2023        248634         71058         64379        384071   \n",
       "3    February 2023        226634         59225         60365        346224   \n",
       "2       March 2023        243417         61146         64259        371822   \n",
       "1       April 2023        242995         61082         64859        368936   \n",
       "0         May 2023        262920         68507         71067        402494   \n",
       "\n",
       "    Total Answered Percentage  \n",
       "10                         84  \n",
       "9                          88  \n",
       "8                          88  \n",
       "7                          91  \n",
       "6                          92  \n",
       "5                          91  \n",
       "4                          91  \n",
       "3                          92  \n",
       "2                          92  \n",
       "1                          92  \n",
       "0                          93  "
      ]
     },
     "execution_count": 16,
     "metadata": {},
     "output_type": "execute_result"
    }
   ],
   "source": [
    "metrics_988"
   ]
  },
  {
   "cell_type": "code",
   "execution_count": 17,
   "metadata": {},
   "outputs": [
    {
     "data": {},
     "metadata": {},
     "output_type": "display_data"
    },
    {
     "data": {
      "application/vnd.holoviews_exec.v0+json": "",
      "text/html": [
       "<div id='1561'>\n",
       "  <div class=\"bk-root\" id=\"b0e78618-97ec-4358-bb73-a8c8196371ae\" data-root-id=\"1561\"></div>\n",
       "</div>\n",
       "<script type=\"application/javascript\">(function(root) {\n",
       "  function embed_document(root) {\n",
       "    var docs_json = {\"eef441f4-9bc5-4ae3-802f-d5683585b5a1\":{\"defs\":[{\"extends\":null,\"module\":null,\"name\":\"ReactiveHTML1\",\"overrides\":[],\"properties\":[]},{\"extends\":null,\"module\":null,\"name\":\"FlexBox1\",\"overrides\":[],\"properties\":[{\"default\":\"flex-start\",\"kind\":null,\"name\":\"align_content\"},{\"default\":\"flex-start\",\"kind\":null,\"name\":\"align_items\"},{\"default\":\"row\",\"kind\":null,\"name\":\"flex_direction\"},{\"default\":\"wrap\",\"kind\":null,\"name\":\"flex_wrap\"},{\"default\":\"flex-start\",\"kind\":null,\"name\":\"justify_content\"}]},{\"extends\":null,\"module\":null,\"name\":\"GridStack1\",\"overrides\":[],\"properties\":[{\"default\":\"warn\",\"kind\":null,\"name\":\"mode\"},{\"default\":null,\"kind\":null,\"name\":\"ncols\"},{\"default\":null,\"kind\":null,\"name\":\"nrows\"},{\"default\":true,\"kind\":null,\"name\":\"allow_resize\"},{\"default\":true,\"kind\":null,\"name\":\"allow_drag\"},{\"default\":[],\"kind\":null,\"name\":\"state\"}]},{\"extends\":null,\"module\":null,\"name\":\"click1\",\"overrides\":[],\"properties\":[{\"default\":\"\",\"kind\":null,\"name\":\"terminal_output\"},{\"default\":\"\",\"kind\":null,\"name\":\"debug_name\"},{\"default\":0,\"kind\":null,\"name\":\"clears\"}]},{\"extends\":null,\"module\":null,\"name\":\"NotificationAreaBase1\",\"overrides\":[],\"properties\":[{\"default\":\"bottom-right\",\"kind\":null,\"name\":\"position\"},{\"default\":0,\"kind\":null,\"name\":\"_clear\"}]},{\"extends\":null,\"module\":null,\"name\":\"NotificationArea1\",\"overrides\":[],\"properties\":[{\"default\":[],\"kind\":null,\"name\":\"notifications\"},{\"default\":\"bottom-right\",\"kind\":null,\"name\":\"position\"},{\"default\":0,\"kind\":null,\"name\":\"_clear\"},{\"default\":[{\"background\":\"#ffc107\",\"icon\":{\"className\":\"fas fa-exclamation-triangle\",\"color\":\"white\",\"tagName\":\"i\"},\"type\":\"warning\"},{\"background\":\"#007bff\",\"icon\":{\"className\":\"fas fa-info-circle\",\"color\":\"white\",\"tagName\":\"i\"},\"type\":\"info\"}],\"kind\":null,\"name\":\"types\"}]},{\"extends\":null,\"module\":null,\"name\":\"Notification\",\"overrides\":[],\"properties\":[{\"default\":null,\"kind\":null,\"name\":\"background\"},{\"default\":3000,\"kind\":null,\"name\":\"duration\"},{\"default\":null,\"kind\":null,\"name\":\"icon\"},{\"default\":\"\",\"kind\":null,\"name\":\"message\"},{\"default\":null,\"kind\":null,\"name\":\"notification_type\"},{\"default\":false,\"kind\":null,\"name\":\"_destroyed\"}]},{\"extends\":null,\"module\":null,\"name\":\"TemplateActions1\",\"overrides\":[],\"properties\":[{\"default\":0,\"kind\":null,\"name\":\"open_modal\"},{\"default\":0,\"kind\":null,\"name\":\"close_modal\"}]},{\"extends\":null,\"module\":null,\"name\":\"MaterialTemplateActions1\",\"overrides\":[],\"properties\":[{\"default\":0,\"kind\":null,\"name\":\"open_modal\"},{\"default\":0,\"kind\":null,\"name\":\"close_modal\"}]}],\"roots\":{\"references\":[{\"attributes\":{\"coordinates\":null,\"data_source\":{\"id\":\"1697\"},\"glyph\":{\"id\":\"1700\"},\"group\":null,\"hover_glyph\":null,\"muted_glyph\":{\"id\":\"1702\"},\"nonselection_glyph\":{\"id\":\"1701\"},\"selection_glyph\":{\"id\":\"1723\"},\"view\":{\"id\":\"1704\"}},\"id\":\"1703\",\"type\":\"GlyphRenderer\"},{\"attributes\":{\"tools\":[{\"id\":\"1565\"},{\"id\":\"1586\"},{\"id\":\"1587\"},{\"id\":\"1588\"},{\"id\":\"1589\"},{\"id\":\"1590\"}]},\"id\":\"1592\",\"type\":\"Toolbar\"},{\"attributes\":{\"label\":{\"value\":\"Routed Calls\"},\"renderers\":[{\"id\":\"1614\"}]},\"id\":\"1626\",\"type\":\"LegendItem\"},{\"attributes\":{\"label\":{\"value\":\"Total Routed\"},\"renderers\":[{\"id\":\"1678\"}]},\"id\":\"1695\",\"type\":\"LegendItem\"},{\"attributes\":{\"source\":{\"id\":\"1649\"}},\"id\":\"1656\",\"type\":\"CDSView\"},{\"attributes\":{\"fill_color\":\"#6d904f\",\"hatch_color\":\"#6d904f\",\"x\":{\"field\":\"x\"},\"y\":{\"field\":\"y\"}},\"id\":\"1696\",\"type\":\"Patch\"},{\"attributes\":{},\"id\":\"1609\",\"type\":\"Selection\"},{\"attributes\":{},\"id\":\"1719\",\"type\":\"UnionRenderers\"},{\"attributes\":{\"end\":885589.1,\"reset_end\":885589.1,\"reset_start\":-80508.1,\"start\":-80508.1,\"tags\":[[[\"value\",\"value\",null]]]},\"id\":\"1564\",\"type\":\"Range1d\"},{\"attributes\":{\"margin\":[5,5,5,5],\"name\":\"HSpacer02099\",\"sizing_mode\":\"stretch_width\"},\"id\":\"1741\",\"type\":\"Spacer\"},{\"attributes\":{\"children\":[{\"id\":\"1562\"},{\"id\":\"1570\"},{\"id\":\"1741\"}],\"margin\":[0,0,0,0],\"name\":\"Row02094\",\"tags\":[\"embedded\"]},\"id\":\"1561\",\"type\":\"Row\"},{\"attributes\":{\"fill_alpha\":1,\"fill_color\":\"#8b8b8b\",\"hatch_alpha\":0.1,\"hatch_color\":\"#8b8b8b\",\"line_alpha\":1,\"x\":{\"field\":\"x\"},\"y\":{\"field\":\"y\"}},\"id\":\"1701\",\"type\":\"Patch\"},{\"attributes\":{\"callback\":null,\"renderers\":[{\"id\":\"1614\"},{\"id\":\"1634\"},{\"id\":\"1655\"},{\"id\":\"1678\"},{\"id\":\"1703\"}],\"tags\":[\"hv_created\"],\"tooltips\":[[\"Variable\",\"@{Variable}\"],[\"Month\",\"@{Month}\"],[\"value\",\"@{value}\"],[\"Baseline\",\"@{Baseline}\"]]},\"id\":\"1565\",\"type\":\"HoverTool\"},{\"attributes\":{\"below\":[{\"id\":\"1579\"}],\"center\":[{\"id\":\"1581\"},{\"id\":\"1585\"}],\"height\":400,\"left\":[{\"id\":\"1582\"}],\"margin\":[5,5,5,5],\"min_border_bottom\":10,\"min_border_left\":10,\"min_border_right\":10,\"min_border_top\":10,\"renderers\":[{\"id\":\"1614\"},{\"id\":\"1634\"},{\"id\":\"1655\"},{\"id\":\"1678\"},{\"id\":\"1703\"}],\"right\":[{\"id\":\"1625\"}],\"sizing_mode\":\"fixed\",\"title\":{\"id\":\"1571\"},\"toolbar\":{\"id\":\"1592\"},\"width\":1200,\"x_range\":{\"id\":\"1563\"},\"x_scale\":{\"id\":\"1575\"},\"y_range\":{\"id\":\"1564\"},\"y_scale\":{\"id\":\"1577\"}},\"id\":\"1570\",\"subtype\":\"Figure\",\"type\":\"Plot\"},{\"attributes\":{\"fill_alpha\":0.2,\"fill_color\":\"#8b8b8b\",\"hatch_alpha\":0.2,\"hatch_color\":\"#8b8b8b\",\"line_alpha\":0.2,\"x\":{\"field\":\"x\"},\"y\":{\"field\":\"y\"}},\"id\":\"1702\",\"type\":\"Patch\"},{\"attributes\":{\"label\":{\"value\":\"Total Answered Percentage\"},\"renderers\":[{\"id\":\"1703\"}]},\"id\":\"1722\",\"type\":\"LegendItem\"},{\"attributes\":{\"margin\":[5,5,5,5],\"name\":\"HSpacer02098\",\"sizing_mode\":\"stretch_width\"},\"id\":\"1562\",\"type\":\"Spacer\"},{\"attributes\":{\"fill_color\":\"#8b8b8b\",\"hatch_color\":\"#8b8b8b\",\"x\":{\"field\":\"x\"},\"y\":{\"field\":\"y\"}},\"id\":\"1723\",\"type\":\"Patch\"},{\"attributes\":{\"fill_color\":\"#8b8b8b\",\"hatch_color\":\"#8b8b8b\",\"x\":{\"field\":\"x\"},\"y\":{\"field\":\"y\"}},\"id\":\"1700\",\"type\":\"Patch\"},{\"attributes\":{\"coordinates\":null,\"data_source\":{\"id\":\"1628\"},\"glyph\":{\"id\":\"1631\"},\"group\":null,\"hover_glyph\":null,\"muted_glyph\":{\"id\":\"1633\"},\"nonselection_glyph\":{\"id\":\"1632\"},\"selection_glyph\":{\"id\":\"1648\"},\"view\":{\"id\":\"1635\"}},\"id\":\"1634\",\"type\":\"GlyphRenderer\"},{\"attributes\":{},\"id\":\"1601\",\"type\":\"CategoricalTickFormatter\"},{\"attributes\":{\"data\":{\"x\":[\"July 2022\",\"August 2022\",\"September 2022\",\"October 2022\",\"November 2022\",\"December 2022\",\"January 2023\",\"February 2023\",\"March 2023\",\"April 2023\",\"May 2023\",\"May 2023\",\"April 2023\",\"March 2023\",\"February 2023\",\"January 2023\",\"December 2022\",\"November 2022\",\"October 2022\",\"September 2022\",\"August 2022\",\"July 2022\"],\"y\":[321346,320513,305263,299353,294419,312171,319692,285859,304563,304077,331427,402494,368936,368822,346224,384071,371655,347341,349345,350629,361140,354625]},\"selected\":{\"id\":\"1650\"},\"selection_policy\":{\"id\":\"1667\"}},\"id\":\"1649\",\"type\":\"ColumnDataSource\"},{\"attributes\":{},\"id\":\"1667\",\"type\":\"UnionRenderers\"},{\"attributes\":{},\"id\":\"1692\",\"type\":\"UnionRenderers\"},{\"attributes\":{\"source\":{\"id\":\"1697\"}},\"id\":\"1704\",\"type\":\"CDSView\"},{\"attributes\":{},\"id\":\"1575\",\"type\":\"CategoricalScale\"},{\"attributes\":{\"fill_alpha\":0.2,\"fill_color\":\"#e5ae38\",\"hatch_alpha\":0.2,\"hatch_color\":\"#e5ae38\",\"line_alpha\":0.2,\"x\":{\"field\":\"x\"},\"y\":{\"field\":\"y\"}},\"id\":\"1654\",\"type\":\"Patch\"},{\"attributes\":{},\"id\":\"1605\",\"type\":\"AllLabels\"},{\"attributes\":{\"axis\":{\"id\":\"1579\"},\"coordinates\":null,\"grid_line_color\":null,\"group\":null,\"ticker\":null},\"id\":\"1581\",\"type\":\"Grid\"},{\"attributes\":{\"axis_label\":\"Month\",\"coordinates\":null,\"formatter\":{\"id\":\"1601\"},\"group\":null,\"major_label_policy\":{\"id\":\"1602\"},\"ticker\":{\"id\":\"1580\"}},\"id\":\"1579\",\"type\":\"CategoricalAxis\"},{\"attributes\":{\"data\":{\"x\":[\"July 2022\",\"August 2022\",\"September 2022\",\"October 2022\",\"November 2022\",\"December 2022\",\"January 2023\",\"February 2023\",\"March 2023\",\"April 2023\",\"May 2023\",\"May 2023\",\"April 2023\",\"March 2023\",\"February 2023\",\"January 2023\",\"December 2022\",\"November 2022\",\"October 2022\",\"September 2022\",\"August 2022\",\"July 2022\"],\"y\":[245905,256398,239135,230928,222285,241555,248634,226634,243417,242995,262920,331427,304077,304563,285859,319692,312171,294419,299353,305263,320513,321346]},\"selected\":{\"id\":\"1629\"},\"selection_policy\":{\"id\":\"1644\"}},\"id\":\"1628\",\"type\":\"ColumnDataSource\"},{\"attributes\":{\"coordinates\":null,\"group\":null,\"text_color\":\"black\",\"text_font_size\":\"12pt\"},\"id\":\"1571\",\"type\":\"Title\"},{\"attributes\":{\"fill_alpha\":1,\"fill_color\":\"#30a2da\",\"hatch_alpha\":0.1,\"hatch_color\":\"#30a2da\",\"line_alpha\":1,\"x\":{\"field\":\"x\"},\"y\":{\"field\":\"y\"}},\"id\":\"1612\",\"type\":\"Patch\"},{\"attributes\":{\"fill_alpha\":0.2,\"fill_color\":\"#30a2da\",\"hatch_alpha\":0.2,\"hatch_color\":\"#30a2da\",\"line_alpha\":0.2,\"x\":{\"field\":\"x\"},\"y\":{\"field\":\"y\"}},\"id\":\"1613\",\"type\":\"Patch\"},{\"attributes\":{\"fill_alpha\":1,\"fill_color\":\"#e5ae38\",\"hatch_alpha\":0.1,\"hatch_color\":\"#e5ae38\",\"line_alpha\":1,\"x\":{\"field\":\"x\"},\"y\":{\"field\":\"y\"}},\"id\":\"1653\",\"type\":\"Patch\"},{\"attributes\":{\"data\":{\"x\":[\"July 2022\",\"August 2022\",\"September 2022\",\"October 2022\",\"November 2022\",\"December 2022\",\"January 2023\",\"February 2023\",\"March 2023\",\"April 2023\",\"May 2023\",\"May 2023\",\"April 2023\",\"March 2023\",\"February 2023\",\"January 2023\",\"December 2022\",\"November 2022\",\"October 2022\",\"September 2022\",\"August 2022\",\"July 2022\"],\"y\":[354625,361140,350629,349345,347341,371655,384071,346224,368822,368936,402494,804988,737872,740644,692448,768142,743310,694682,698690,701258,722280,709250]},\"selected\":{\"id\":\"1673\"},\"selection_policy\":{\"id\":\"1692\"}},\"id\":\"1672\",\"type\":\"ColumnDataSource\"},{\"attributes\":{},\"id\":\"1577\",\"type\":\"LinearScale\"},{\"attributes\":{\"source\":{\"id\":\"1628\"}},\"id\":\"1635\",\"type\":\"CDSView\"},{\"attributes\":{\"click_policy\":\"mute\",\"coordinates\":null,\"group\":null,\"items\":[{\"id\":\"1626\"},{\"id\":\"1647\"},{\"id\":\"1670\"},{\"id\":\"1695\"},{\"id\":\"1722\"}],\"location\":[0,0],\"title\":\"Variable\"},\"id\":\"1625\",\"type\":\"Legend\"},{\"attributes\":{},\"id\":\"1698\",\"type\":\"Selection\"},{\"attributes\":{},\"id\":\"1583\",\"type\":\"BasicTicker\"},{\"attributes\":{\"fill_color\":\"#e5ae38\",\"hatch_color\":\"#e5ae38\",\"x\":{\"field\":\"x\"},\"y\":{\"field\":\"y\"}},\"id\":\"1652\",\"type\":\"Patch\"},{\"attributes\":{\"fill_alpha\":0.2,\"fill_color\":\"#fc4f30\",\"hatch_alpha\":0.2,\"hatch_color\":\"#fc4f30\",\"line_alpha\":0.2,\"x\":{\"field\":\"x\"},\"y\":{\"field\":\"y\"}},\"id\":\"1633\",\"type\":\"Patch\"},{\"attributes\":{},\"id\":\"1580\",\"type\":\"CategoricalTicker\"},{\"attributes\":{\"fill_color\":\"#30a2da\",\"hatch_color\":\"#30a2da\",\"x\":{\"field\":\"x\"},\"y\":{\"field\":\"y\"}},\"id\":\"1611\",\"type\":\"Patch\"},{\"attributes\":{\"axis_label\":\"\",\"coordinates\":null,\"formatter\":{\"id\":\"1599\"},\"group\":null,\"major_label_policy\":{\"id\":\"1605\"},\"ticker\":{\"id\":\"1583\"}},\"id\":\"1582\",\"type\":\"LinearAxis\"},{\"attributes\":{\"label\":{\"value\":\"Routed Chats\"},\"renderers\":[{\"id\":\"1634\"}]},\"id\":\"1647\",\"type\":\"LegendItem\"},{\"attributes\":{\"coordinates\":null,\"data_source\":{\"id\":\"1608\"},\"glyph\":{\"id\":\"1611\"},\"group\":null,\"hover_glyph\":null,\"muted_glyph\":{\"id\":\"1613\"},\"nonselection_glyph\":{\"id\":\"1612\"},\"selection_glyph\":{\"id\":\"1627\"},\"view\":{\"id\":\"1615\"}},\"id\":\"1614\",\"type\":\"GlyphRenderer\"},{\"attributes\":{\"fill_color\":\"#30a2da\",\"hatch_color\":\"#30a2da\",\"x\":{\"field\":\"x\"},\"y\":{\"field\":\"y\"}},\"id\":\"1627\",\"type\":\"Patch\"},{\"attributes\":{\"axis\":{\"id\":\"1582\"},\"coordinates\":null,\"dimension\":1,\"grid_line_color\":null,\"group\":null,\"ticker\":null},\"id\":\"1585\",\"type\":\"Grid\"},{\"attributes\":{},\"id\":\"1644\",\"type\":\"UnionRenderers\"},{\"attributes\":{\"data\":{\"x\":[\"July 2022\",\"August 2022\",\"September 2022\",\"October 2022\",\"November 2022\",\"December 2022\",\"January 2023\",\"February 2023\",\"March 2023\",\"April 2023\",\"May 2023\",\"May 2023\",\"April 2023\",\"March 2023\",\"February 2023\",\"January 2023\",\"December 2022\",\"November 2022\",\"October 2022\",\"September 2022\",\"August 2022\",\"July 2022\"],\"y\":[0,0,0,0,0,0,0,0,0,0,0,262920,242995,243417,226634,248634,241555,222285,230928,239135,256398,245905]},\"selected\":{\"id\":\"1609\"},\"selection_policy\":{\"id\":\"1622\"}},\"id\":\"1608\",\"type\":\"ColumnDataSource\"},{\"attributes\":{\"fill_color\":\"#6d904f\",\"hatch_color\":\"#6d904f\",\"x\":{\"field\":\"x\"},\"y\":{\"field\":\"y\"}},\"id\":\"1675\",\"type\":\"Patch\"},{\"attributes\":{\"fill_color\":\"#fc4f30\",\"hatch_color\":\"#fc4f30\",\"x\":{\"field\":\"x\"},\"y\":{\"field\":\"y\"}},\"id\":\"1631\",\"type\":\"Patch\"},{\"attributes\":{\"fill_alpha\":1,\"fill_color\":\"#fc4f30\",\"hatch_alpha\":0.1,\"hatch_color\":\"#fc4f30\",\"line_alpha\":1,\"x\":{\"field\":\"x\"},\"y\":{\"field\":\"y\"}},\"id\":\"1632\",\"type\":\"Patch\"},{\"attributes\":{\"coordinates\":null,\"data_source\":{\"id\":\"1672\"},\"glyph\":{\"id\":\"1675\"},\"group\":null,\"hover_glyph\":null,\"muted_glyph\":{\"id\":\"1677\"},\"nonselection_glyph\":{\"id\":\"1676\"},\"selection_glyph\":{\"id\":\"1696\"},\"view\":{\"id\":\"1679\"}},\"id\":\"1678\",\"type\":\"GlyphRenderer\"},{\"attributes\":{},\"id\":\"1586\",\"type\":\"SaveTool\"},{\"attributes\":{\"source\":{\"id\":\"1608\"}},\"id\":\"1615\",\"type\":\"CDSView\"},{\"attributes\":{},\"id\":\"1587\",\"type\":\"PanTool\"},{\"attributes\":{\"coordinates\":null,\"data_source\":{\"id\":\"1649\"},\"glyph\":{\"id\":\"1652\"},\"group\":null,\"hover_glyph\":null,\"muted_glyph\":{\"id\":\"1654\"},\"nonselection_glyph\":{\"id\":\"1653\"},\"selection_glyph\":{\"id\":\"1671\"},\"view\":{\"id\":\"1656\"}},\"id\":\"1655\",\"type\":\"GlyphRenderer\"},{\"attributes\":{},\"id\":\"1650\",\"type\":\"Selection\"},{\"attributes\":{},\"id\":\"1590\",\"type\":\"ResetTool\"},{\"attributes\":{\"fill_color\":\"#fc4f30\",\"hatch_color\":\"#fc4f30\",\"x\":{\"field\":\"x\"},\"y\":{\"field\":\"y\"}},\"id\":\"1648\",\"type\":\"Patch\"},{\"attributes\":{},\"id\":\"1588\",\"type\":\"WheelZoomTool\"},{\"attributes\":{\"label\":{\"value\":\"Routed Texts\"},\"renderers\":[{\"id\":\"1655\"}]},\"id\":\"1670\",\"type\":\"LegendItem\"},{\"attributes\":{},\"id\":\"1629\",\"type\":\"Selection\"},{\"attributes\":{\"fill_alpha\":1,\"fill_color\":\"#6d904f\",\"hatch_alpha\":0.1,\"hatch_color\":\"#6d904f\",\"line_alpha\":1,\"x\":{\"field\":\"x\"},\"y\":{\"field\":\"y\"}},\"id\":\"1676\",\"type\":\"Patch\"},{\"attributes\":{\"factors\":[\"July 2022\",\"August 2022\",\"September 2022\",\"October 2022\",\"November 2022\",\"December 2022\",\"January 2023\",\"February 2023\",\"March 2023\",\"April 2023\",\"May 2023\"],\"tags\":[[[\"Month\",\"Month\",null]]]},\"id\":\"1563\",\"type\":\"FactorRange\"},{\"attributes\":{\"overlay\":{\"id\":\"1591\"}},\"id\":\"1589\",\"type\":\"BoxZoomTool\"},{\"attributes\":{\"fill_color\":\"#e5ae38\",\"hatch_color\":\"#e5ae38\",\"x\":{\"field\":\"x\"},\"y\":{\"field\":\"y\"}},\"id\":\"1671\",\"type\":\"Patch\"},{\"attributes\":{},\"id\":\"1673\",\"type\":\"Selection\"},{\"attributes\":{\"format\":\"%.0f\"},\"id\":\"1599\",\"type\":\"PrintfTickFormatter\"},{\"attributes\":{},\"id\":\"1622\",\"type\":\"UnionRenderers\"},{\"attributes\":{\"bottom_units\":\"screen\",\"coordinates\":null,\"fill_alpha\":0.5,\"fill_color\":\"lightgrey\",\"group\":null,\"left_units\":\"screen\",\"level\":\"overlay\",\"line_alpha\":1.0,\"line_color\":\"black\",\"line_dash\":[4,4],\"line_width\":2,\"right_units\":\"screen\",\"syncable\":false,\"top_units\":\"screen\"},\"id\":\"1591\",\"type\":\"BoxAnnotation\"},{\"attributes\":{\"fill_alpha\":0.2,\"fill_color\":\"#6d904f\",\"hatch_alpha\":0.2,\"hatch_color\":\"#6d904f\",\"line_alpha\":0.2,\"x\":{\"field\":\"x\"},\"y\":{\"field\":\"y\"}},\"id\":\"1677\",\"type\":\"Patch\"},{\"attributes\":{},\"id\":\"1602\",\"type\":\"AllLabels\"},{\"attributes\":{\"source\":{\"id\":\"1672\"}},\"id\":\"1679\",\"type\":\"CDSView\"},{\"attributes\":{\"data\":{\"x\":[\"July 2022\",\"August 2022\",\"September 2022\",\"October 2022\",\"November 2022\",\"December 2022\",\"January 2023\",\"February 2023\",\"March 2023\",\"April 2023\",\"May 2023\",\"May 2023\",\"April 2023\",\"March 2023\",\"February 2023\",\"January 2023\",\"December 2022\",\"November 2022\",\"October 2022\",\"September 2022\",\"August 2022\",\"July 2022\"],\"y\":[709250,722280,701258,698690,694682,743310,768142,692448,740644,737872,804988,805081,737964,740736,692540,768233,743401,694774,698781,701346,722368,709334]},\"selected\":{\"id\":\"1698\"},\"selection_policy\":{\"id\":\"1719\"}},\"id\":\"1697\",\"type\":\"ColumnDataSource\"}],\"root_ids\":[\"1561\"]},\"title\":\"Bokeh Application\",\"version\":\"2.4.3\"}};\n",
       "    var render_items = [{\"docid\":\"eef441f4-9bc5-4ae3-802f-d5683585b5a1\",\"root_ids\":[\"1561\"],\"roots\":{\"1561\":\"b0e78618-97ec-4358-bb73-a8c8196371ae\"}}];\n",
       "    root.Bokeh.embed.embed_items_notebook(docs_json, render_items);\n",
       "  }\n",
       "  if (root.Bokeh !== undefined && root.Bokeh.Panel !== undefined) {\n",
       "    embed_document(root);\n",
       "  } else {\n",
       "    var attempts = 0;\n",
       "    var timer = setInterval(function(root) {\n",
       "      if (root.Bokeh !== undefined && root.Bokeh.Panel !== undefined) {\n",
       "        clearInterval(timer);\n",
       "        embed_document(root);\n",
       "      } else if (document.readyState == \"complete\") {\n",
       "        attempts++;\n",
       "        if (attempts > 200) {\n",
       "          clearInterval(timer);\n",
       "          console.log(\"Bokeh: ERROR: Unable to run BokehJS code because BokehJS library is missing\");\n",
       "        }\n",
       "      }\n",
       "    }, 25, root)\n",
       "  }\n",
       "})(window);</script>"
      ],
      "text/plain": [
       ":NdOverlay   [Variable]\n",
       "   :Area   [Month]   (value,Baseline)"
      ]
     },
     "execution_count": 17,
     "metadata": {
      "application/vnd.holoviews_exec.v0+json": {
       "id": "1561"
      }
     },
     "output_type": "execute_result"
    }
   ],
   "source": [
    "metrics_988.hvplot.area(x=\"Month\", width=1200, height=400, yformatter='%.0f')"
   ]
  },
  {
   "cell_type": "code",
   "execution_count": 18,
   "metadata": {},
   "outputs": [
    {
     "data": {},
     "metadata": {},
     "output_type": "display_data"
    },
    {
     "data": {
      "application/vnd.holoviews_exec.v0+json": "",
      "text/html": [
       "<div id='1828'>\n",
       "  <div class=\"bk-root\" id=\"ca7ccbfb-798e-4b43-bb32-02221ec0d076\" data-root-id=\"1828\"></div>\n",
       "</div>\n",
       "<script type=\"application/javascript\">(function(root) {\n",
       "  function embed_document(root) {\n",
       "    var docs_json = {\"9f93026a-5194-449c-8980-38b6123ca2d3\":{\"defs\":[{\"extends\":null,\"module\":null,\"name\":\"ReactiveHTML1\",\"overrides\":[],\"properties\":[]},{\"extends\":null,\"module\":null,\"name\":\"FlexBox1\",\"overrides\":[],\"properties\":[{\"default\":\"flex-start\",\"kind\":null,\"name\":\"align_content\"},{\"default\":\"flex-start\",\"kind\":null,\"name\":\"align_items\"},{\"default\":\"row\",\"kind\":null,\"name\":\"flex_direction\"},{\"default\":\"wrap\",\"kind\":null,\"name\":\"flex_wrap\"},{\"default\":\"flex-start\",\"kind\":null,\"name\":\"justify_content\"}]},{\"extends\":null,\"module\":null,\"name\":\"GridStack1\",\"overrides\":[],\"properties\":[{\"default\":\"warn\",\"kind\":null,\"name\":\"mode\"},{\"default\":null,\"kind\":null,\"name\":\"ncols\"},{\"default\":null,\"kind\":null,\"name\":\"nrows\"},{\"default\":true,\"kind\":null,\"name\":\"allow_resize\"},{\"default\":true,\"kind\":null,\"name\":\"allow_drag\"},{\"default\":[],\"kind\":null,\"name\":\"state\"}]},{\"extends\":null,\"module\":null,\"name\":\"click1\",\"overrides\":[],\"properties\":[{\"default\":\"\",\"kind\":null,\"name\":\"terminal_output\"},{\"default\":\"\",\"kind\":null,\"name\":\"debug_name\"},{\"default\":0,\"kind\":null,\"name\":\"clears\"}]},{\"extends\":null,\"module\":null,\"name\":\"NotificationAreaBase1\",\"overrides\":[],\"properties\":[{\"default\":\"bottom-right\",\"kind\":null,\"name\":\"position\"},{\"default\":0,\"kind\":null,\"name\":\"_clear\"}]},{\"extends\":null,\"module\":null,\"name\":\"NotificationArea1\",\"overrides\":[],\"properties\":[{\"default\":[],\"kind\":null,\"name\":\"notifications\"},{\"default\":\"bottom-right\",\"kind\":null,\"name\":\"position\"},{\"default\":0,\"kind\":null,\"name\":\"_clear\"},{\"default\":[{\"background\":\"#ffc107\",\"icon\":{\"className\":\"fas fa-exclamation-triangle\",\"color\":\"white\",\"tagName\":\"i\"},\"type\":\"warning\"},{\"background\":\"#007bff\",\"icon\":{\"className\":\"fas fa-info-circle\",\"color\":\"white\",\"tagName\":\"i\"},\"type\":\"info\"}],\"kind\":null,\"name\":\"types\"}]},{\"extends\":null,\"module\":null,\"name\":\"Notification\",\"overrides\":[],\"properties\":[{\"default\":null,\"kind\":null,\"name\":\"background\"},{\"default\":3000,\"kind\":null,\"name\":\"duration\"},{\"default\":null,\"kind\":null,\"name\":\"icon\"},{\"default\":\"\",\"kind\":null,\"name\":\"message\"},{\"default\":null,\"kind\":null,\"name\":\"notification_type\"},{\"default\":false,\"kind\":null,\"name\":\"_destroyed\"}]},{\"extends\":null,\"module\":null,\"name\":\"TemplateActions1\",\"overrides\":[],\"properties\":[{\"default\":0,\"kind\":null,\"name\":\"open_modal\"},{\"default\":0,\"kind\":null,\"name\":\"close_modal\"}]},{\"extends\":null,\"module\":null,\"name\":\"MaterialTemplateActions1\",\"overrides\":[],\"properties\":[{\"default\":0,\"kind\":null,\"name\":\"open_modal\"},{\"default\":0,\"kind\":null,\"name\":\"close_modal\"}]}],\"roots\":{\"references\":[{\"attributes\":{\"axis\":{\"id\":\"1843\"},\"coordinates\":null,\"grid_line_color\":null,\"group\":null,\"ticker\":null},\"id\":\"1846\",\"type\":\"Grid\"},{\"attributes\":{},\"id\":\"1848\",\"type\":\"BasicTicker\"},{\"attributes\":{},\"id\":\"1869\",\"type\":\"BasicTickFormatter\"},{\"attributes\":{\"coordinates\":null,\"group\":null,\"text_color\":\"black\",\"text_font_size\":\"12pt\"},\"id\":\"1835\",\"type\":\"Title\"},{\"attributes\":{\"source\":{\"id\":\"1880\"}},\"id\":\"1887\",\"type\":\"CDSView\"},{\"attributes\":{},\"id\":\"1855\",\"type\":\"ResetTool\"},{\"attributes\":{},\"id\":\"1881\",\"type\":\"Selection\"},{\"attributes\":{\"tools\":[{\"id\":\"1832\"},{\"id\":\"1833\"},{\"id\":\"1851\"},{\"id\":\"1852\"},{\"id\":\"1853\"},{\"id\":\"1854\"},{\"id\":\"1855\"}]},\"id\":\"1857\",\"type\":\"Toolbar\"},{\"attributes\":{},\"id\":\"1844\",\"type\":\"BasicTicker\"},{\"attributes\":{},\"id\":\"1839\",\"type\":\"LinearScale\"},{\"attributes\":{\"end\":2015.6857142857143,\"reset_end\":2015.6857142857143,\"reset_start\":1998.3142857142857,\"start\":1998.3142857142857,\"tags\":[[[\"Year\",\"Year\",null]]]},\"id\":\"1830\",\"type\":\"Range1d\"},{\"attributes\":{\"line_alpha\":0.2,\"line_color\":\"red\",\"line_width\":2,\"x\":{\"field\":\"Year\"},\"y\":{\"field\":\"Predicted Suicides\"}},\"id\":\"1885\",\"type\":\"Line\"},{\"attributes\":{\"data\":{\"Suicides per 100k\":{\"__ndarray__\":\"cT0K16PYYkDD9Shcj1JiQNejcD0Kh2JAcT0K16PAYkAUrkfhejRiQM3MzMzMXGJA9ihcj8JVYkBcj8L1KCRiQKRwPQrXo2JASOF6FK4nY0CuR+F6FEZjQBSuR+F63GNA7FG4HoVLZEAUrkfheqRkQD0K16Nw1WRAw/UoXI9qZUCF61G4Hu1lQA==\",\"dtype\":\"float64\",\"order\":\"little\",\"shape\":[17]},\"Suicides_per_100k\":{\"__ndarray__\":\"cT0K16PYYkDD9Shcj1JiQNejcD0Kh2JAcT0K16PAYkAUrkfhejRiQM3MzMzMXGJA9ihcj8JVYkBcj8L1KCRiQKRwPQrXo2JASOF6FK4nY0CuR+F6FEZjQBSuR+F63GNA7FG4HoVLZEAUrkfheqRkQD0K16Nw1WRAw/UoXI9qZUCF61G4Hu1lQA==\",\"dtype\":\"float64\",\"order\":\"little\",\"shape\":[17]},\"Year\":[1999,2000,2001,2002,2003,2004,2005,2006,2007,2008,2009,2010,2011,2012,2013,2014,2015]},\"selected\":{\"id\":\"1872\"},\"selection_policy\":{\"id\":\"1896\"}},\"id\":\"1871\",\"type\":\"ColumnDataSource\"},{\"attributes\":{},\"id\":\"1841\",\"type\":\"LinearScale\"},{\"attributes\":{\"line_alpha\":0.1,\"line_color\":\"red\",\"line_width\":2,\"x\":{\"field\":\"Year\"},\"y\":{\"field\":\"Predicted Suicides\"}},\"id\":\"1884\",\"type\":\"Line\"},{\"attributes\":{\"end\":178.78194117647055,\"reset_end\":178.78194117647055,\"reset_start\":138.31864705882384,\"start\":138.31864705882384,\"tags\":[[[\"Suicides per 100k\",\"Suicides per 100k\",null]]]},\"id\":\"1831\",\"type\":\"Range1d\"},{\"attributes\":{\"axis_label\":\"Suicides per 100k\",\"coordinates\":null,\"formatter\":{\"id\":\"1869\"},\"group\":null,\"major_label_policy\":{\"id\":\"1870\"},\"ticker\":{\"id\":\"1848\"}},\"id\":\"1847\",\"type\":\"LinearAxis\"},{\"attributes\":{\"callback\":null,\"renderers\":[{\"id\":\"1877\"}],\"tags\":[\"hv_created\"],\"tooltips\":[[\"Year\",\"@{Year}\"],[\"Suicides per 100k\",\"@{Suicides_per_100k}\"]]},\"id\":\"1832\",\"type\":\"HoverTool\"},{\"attributes\":{\"axis_label\":\"Year\",\"coordinates\":null,\"formatter\":{\"id\":\"1866\"},\"group\":null,\"major_label_orientation\":0.6457718232379019,\"major_label_policy\":{\"id\":\"1867\"},\"ticker\":{\"id\":\"1844\"}},\"id\":\"1843\",\"type\":\"LinearAxis\"},{\"attributes\":{\"below\":[{\"id\":\"1843\"}],\"center\":[{\"id\":\"1846\"},{\"id\":\"1850\"}],\"height\":300,\"left\":[{\"id\":\"1847\"}],\"margin\":[5,5,5,5],\"min_border_bottom\":10,\"min_border_left\":10,\"min_border_right\":10,\"min_border_top\":10,\"renderers\":[{\"id\":\"1877\"},{\"id\":\"1886\"}],\"sizing_mode\":\"fixed\",\"title\":{\"id\":\"1835\"},\"toolbar\":{\"id\":\"1857\"},\"width\":700,\"x_range\":{\"id\":\"1830\"},\"x_scale\":{\"id\":\"1839\"},\"y_range\":{\"id\":\"1831\"},\"y_scale\":{\"id\":\"1841\"}},\"id\":\"1834\",\"subtype\":\"Figure\",\"type\":\"Plot\"},{\"attributes\":{},\"id\":\"1896\",\"type\":\"UnionRenderers\"},{\"attributes\":{},\"id\":\"1866\",\"type\":\"BasicTickFormatter\"},{\"attributes\":{\"margin\":[5,5,5,5],\"name\":\"HSpacer02381\",\"sizing_mode\":\"stretch_width\"},\"id\":\"1901\",\"type\":\"Spacer\"},{\"attributes\":{\"axis\":{\"id\":\"1847\"},\"coordinates\":null,\"dimension\":1,\"grid_line_color\":null,\"group\":null,\"ticker\":null},\"id\":\"1850\",\"type\":\"Grid\"},{\"attributes\":{\"coordinates\":null,\"data_source\":{\"id\":\"1880\"},\"glyph\":{\"id\":\"1883\"},\"group\":null,\"hover_glyph\":null,\"muted_glyph\":{\"id\":\"1885\"},\"nonselection_glyph\":{\"id\":\"1884\"},\"selection_glyph\":{\"id\":\"1888\"},\"view\":{\"id\":\"1887\"}},\"id\":\"1886\",\"type\":\"GlyphRenderer\"},{\"attributes\":{\"children\":[{\"id\":\"1829\"},{\"id\":\"1834\"},{\"id\":\"1901\"}],\"margin\":[0,0,0,0],\"name\":\"Row02376\",\"tags\":[\"embedded\"]},\"id\":\"1828\",\"type\":\"Row\"},{\"attributes\":{\"fill_color\":{\"value\":\"#30a2da\"},\"hatch_color\":{\"value\":\"#30a2da\"},\"line_color\":{\"value\":\"#30a2da\"},\"size\":{\"value\":5.477225575051661},\"x\":{\"field\":\"Year\"},\"y\":{\"field\":\"Suicides per 100k\"}},\"id\":\"1874\",\"type\":\"Scatter\"},{\"attributes\":{},\"id\":\"1898\",\"type\":\"UnionRenderers\"},{\"attributes\":{\"margin\":[5,5,5,5],\"name\":\"HSpacer02380\",\"sizing_mode\":\"stretch_width\"},\"id\":\"1829\",\"type\":\"Spacer\"},{\"attributes\":{},\"id\":\"1872\",\"type\":\"Selection\"},{\"attributes\":{\"coordinates\":null,\"data_source\":{\"id\":\"1871\"},\"glyph\":{\"id\":\"1874\"},\"group\":null,\"hover_glyph\":null,\"muted_glyph\":{\"id\":\"1876\"},\"nonselection_glyph\":{\"id\":\"1875\"},\"selection_glyph\":{\"id\":\"1879\"},\"view\":{\"id\":\"1878\"}},\"id\":\"1877\",\"type\":\"GlyphRenderer\"},{\"attributes\":{\"line_color\":\"red\",\"line_width\":2,\"x\":{\"field\":\"Year\"},\"y\":{\"field\":\"Predicted Suicides\"}},\"id\":\"1888\",\"type\":\"Line\"},{\"attributes\":{\"callback\":null,\"renderers\":[{\"id\":\"1886\"}],\"tags\":[\"hv_created\"],\"tooltips\":[[\"Year\",\"@{Year}\"],[\"Predicted Suicides\",\"@{Predicted_Suicides}\"]]},\"id\":\"1833\",\"type\":\"HoverTool\"},{\"attributes\":{\"data\":{\"Predicted Suicides\":{\"__ndarray__\":\"8LJ/TBm2YUBwPQrXo+thQADIlGEuIWJAkFIf7LhWYkAQ3al2Q4xiQKBnNAHOwWJAMPK+i1j3YkCwfEkW4yxjQEAH1KBtYmNA0JFeK/iXY0BQHOm1gs1jQOCmc0ANA2RAcDH+ypc4ZEDwu4hVIm5kQIBGE+Cso2RAENGdajfZZECQWyj1wQ5lQA==\",\"dtype\":\"float64\",\"order\":\"little\",\"shape\":[17]},\"Predicted_Suicides\":{\"__ndarray__\":\"8LJ/TBm2YUBwPQrXo+thQADIlGEuIWJAkFIf7LhWYkAQ3al2Q4xiQKBnNAHOwWJAMPK+i1j3YkCwfEkW4yxjQEAH1KBtYmNA0JFeK/iXY0BQHOm1gs1jQOCmc0ANA2RAcDH+ypc4ZEDwu4hVIm5kQIBGE+Cso2RAENGdajfZZECQWyj1wQ5lQA==\",\"dtype\":\"float64\",\"order\":\"little\",\"shape\":[17]},\"Year\":[1999,2000,2001,2002,2003,2004,2005,2006,2007,2008,2009,2010,2011,2012,2013,2014,2015]},\"selected\":{\"id\":\"1881\"},\"selection_policy\":{\"id\":\"1898\"}},\"id\":\"1880\",\"type\":\"ColumnDataSource\"},{\"attributes\":{\"bottom_units\":\"screen\",\"coordinates\":null,\"fill_alpha\":0.5,\"fill_color\":\"lightgrey\",\"group\":null,\"left_units\":\"screen\",\"level\":\"overlay\",\"line_alpha\":1.0,\"line_color\":\"black\",\"line_dash\":[4,4],\"line_width\":2,\"right_units\":\"screen\",\"syncable\":false,\"top_units\":\"screen\"},\"id\":\"1856\",\"type\":\"BoxAnnotation\"},{\"attributes\":{\"source\":{\"id\":\"1871\"}},\"id\":\"1878\",\"type\":\"CDSView\"},{\"attributes\":{},\"id\":\"1851\",\"type\":\"SaveTool\"},{\"attributes\":{},\"id\":\"1852\",\"type\":\"PanTool\"},{\"attributes\":{\"overlay\":{\"id\":\"1856\"}},\"id\":\"1854\",\"type\":\"BoxZoomTool\"},{\"attributes\":{},\"id\":\"1867\",\"type\":\"AllLabels\"},{\"attributes\":{\"angle\":{\"value\":0.0},\"fill_alpha\":{\"value\":1.0},\"fill_color\":{\"value\":\"#30a2da\"},\"hatch_alpha\":{\"value\":1.0},\"hatch_color\":{\"value\":\"#30a2da\"},\"hatch_scale\":{\"value\":12.0},\"hatch_weight\":{\"value\":1.0},\"line_alpha\":{\"value\":1.0},\"line_cap\":{\"value\":\"butt\"},\"line_color\":{\"value\":\"#30a2da\"},\"line_dash\":{\"value\":[]},\"line_dash_offset\":{\"value\":0},\"line_join\":{\"value\":\"bevel\"},\"line_width\":{\"value\":1},\"marker\":{\"value\":\"circle\"},\"size\":{\"value\":5.477225575051661},\"x\":{\"field\":\"Year\"},\"y\":{\"field\":\"Suicides per 100k\"}},\"id\":\"1879\",\"type\":\"Scatter\"},{\"attributes\":{\"fill_alpha\":{\"value\":0.1},\"fill_color\":{\"value\":\"#30a2da\"},\"hatch_alpha\":{\"value\":0.1},\"hatch_color\":{\"value\":\"#30a2da\"},\"line_alpha\":{\"value\":0.1},\"line_color\":{\"value\":\"#30a2da\"},\"size\":{\"value\":5.477225575051661},\"x\":{\"field\":\"Year\"},\"y\":{\"field\":\"Suicides per 100k\"}},\"id\":\"1875\",\"type\":\"Scatter\"},{\"attributes\":{\"fill_alpha\":{\"value\":0.2},\"fill_color\":{\"value\":\"#30a2da\"},\"hatch_alpha\":{\"value\":0.2},\"hatch_color\":{\"value\":\"#30a2da\"},\"line_alpha\":{\"value\":0.2},\"line_color\":{\"value\":\"#30a2da\"},\"size\":{\"value\":5.477225575051661},\"x\":{\"field\":\"Year\"},\"y\":{\"field\":\"Suicides per 100k\"}},\"id\":\"1876\",\"type\":\"Scatter\"},{\"attributes\":{},\"id\":\"1853\",\"type\":\"WheelZoomTool\"},{\"attributes\":{\"line_color\":\"red\",\"line_width\":2,\"x\":{\"field\":\"Year\"},\"y\":{\"field\":\"Predicted Suicides\"}},\"id\":\"1883\",\"type\":\"Line\"},{\"attributes\":{},\"id\":\"1870\",\"type\":\"AllLabels\"}],\"root_ids\":[\"1828\"]},\"title\":\"Bokeh Application\",\"version\":\"2.4.3\"}};\n",
       "    var render_items = [{\"docid\":\"9f93026a-5194-449c-8980-38b6123ca2d3\",\"root_ids\":[\"1828\"],\"roots\":{\"1828\":\"ca7ccbfb-798e-4b43-bb32-02221ec0d076\"}}];\n",
       "    root.Bokeh.embed.embed_items_notebook(docs_json, render_items);\n",
       "  }\n",
       "  if (root.Bokeh !== undefined && root.Bokeh.Panel !== undefined) {\n",
       "    embed_document(root);\n",
       "  } else {\n",
       "    var attempts = 0;\n",
       "    var timer = setInterval(function(root) {\n",
       "      if (root.Bokeh !== undefined && root.Bokeh.Panel !== undefined) {\n",
       "        clearInterval(timer);\n",
       "        embed_document(root);\n",
       "      } else if (document.readyState == \"complete\") {\n",
       "        attempts++;\n",
       "        if (attempts > 200) {\n",
       "          clearInterval(timer);\n",
       "          console.log(\"Bokeh: ERROR: Unable to run BokehJS code because BokehJS library is missing\");\n",
       "        }\n",
       "      }\n",
       "    }, 25, root)\n",
       "  }\n",
       "})(window);</script>"
      ],
      "text/plain": [
       ":Overlay\n",
       "   .Scatter.I :Scatter   [Year]   (Suicides per 100k)\n",
       "   .Curve.I   :Curve   [Year]   (Predicted Suicides)"
      ]
     },
     "execution_count": 18,
     "metadata": {
      "application/vnd.holoviews_exec.v0+json": {
       "id": "1828"
      }
     },
     "output_type": "execute_result"
    }
   ],
   "source": [
    "X = us_suicide_rates_99_16[[\"Year\"]]\n",
    "y = us_suicide_rates_99_16[\"Suicides per 100k\"]\n",
    "\n",
    "# Create and fit a linear regression model\n",
    "model = LinearRegression()\n",
    "model.fit(X, y)\n",
    "\n",
    "# Generate predictions using the fitted model\n",
    "y_pred = model.predict(X)\n",
    "\n",
    "# Create scatter plots using hvPlot\n",
    "scatter_actual = us_suicide_rates_99_16.hvplot.scatter(\n",
    "    x=\"Year\", y=\"Suicides per 100k\", rot=37\n",
    ")\n",
    "scatter_predicted = pd.DataFrame(\n",
    "    {\"Year\": us_suicide_rates_99_16[\"Year\"], \"Predicted Suicides\": y_pred}\n",
    ").hvplot.line(x=\"Year\", y=\"Predicted Suicides\", color=\"red\")\n",
    "\n",
    "# Combine the scatter plots\n",
    "scatter_actual * scatter_predicted"
   ]
  },
  {
   "cell_type": "code",
   "execution_count": 19,
   "metadata": {},
   "outputs": [],
   "source": [
    "us_suicides_master.drop([\"Unnamed: 0\"], axis=1, inplace=True)"
   ]
  },
  {
   "cell_type": "code",
   "execution_count": 20,
   "metadata": {},
   "outputs": [
    {
     "data": {
      "text/html": [
       "<div>\n",
       "<style scoped>\n",
       "    .dataframe tbody tr th:only-of-type {\n",
       "        vertical-align: middle;\n",
       "    }\n",
       "\n",
       "    .dataframe tbody tr th {\n",
       "        vertical-align: top;\n",
       "    }\n",
       "\n",
       "    .dataframe thead th {\n",
       "        text-align: right;\n",
       "    }\n",
       "</style>\n",
       "<table border=\"1\" class=\"dataframe\">\n",
       "  <thead>\n",
       "    <tr style=\"text-align: right;\">\n",
       "      <th></th>\n",
       "      <th>Year</th>\n",
       "      <th>Sex</th>\n",
       "      <th>Age</th>\n",
       "      <th>Number of Suicides</th>\n",
       "      <th>Suicides per 100k</th>\n",
       "      <th>GDP for Year ($)</th>\n",
       "      <th>GDP per Capita ($)</th>\n",
       "      <th>Generation</th>\n",
       "    </tr>\n",
       "    <tr>\n",
       "      <th>Country</th>\n",
       "      <th></th>\n",
       "      <th></th>\n",
       "      <th></th>\n",
       "      <th></th>\n",
       "      <th></th>\n",
       "      <th></th>\n",
       "      <th></th>\n",
       "      <th></th>\n",
       "    </tr>\n",
       "  </thead>\n",
       "  <tbody>\n",
       "    <tr>\n",
       "      <th>United States</th>\n",
       "      <td>1985</td>\n",
       "      <td>male</td>\n",
       "      <td>75+ years</td>\n",
       "      <td>2177</td>\n",
       "      <td>53.57</td>\n",
       "      <td>4,346,734,000,000</td>\n",
       "      <td>19693</td>\n",
       "      <td>G.I. Generation</td>\n",
       "    </tr>\n",
       "    <tr>\n",
       "      <th>United States</th>\n",
       "      <td>1985</td>\n",
       "      <td>male</td>\n",
       "      <td>55-74 years</td>\n",
       "      <td>5302</td>\n",
       "      <td>29.50</td>\n",
       "      <td>4,346,734,000,000</td>\n",
       "      <td>19693</td>\n",
       "      <td>G.I. Generation</td>\n",
       "    </tr>\n",
       "    <tr>\n",
       "      <th>United States</th>\n",
       "      <td>1985</td>\n",
       "      <td>male</td>\n",
       "      <td>25-34 years</td>\n",
       "      <td>5134</td>\n",
       "      <td>24.46</td>\n",
       "      <td>4,346,734,000,000</td>\n",
       "      <td>19693</td>\n",
       "      <td>Boomers</td>\n",
       "    </tr>\n",
       "    <tr>\n",
       "      <th>United States</th>\n",
       "      <td>1985</td>\n",
       "      <td>male</td>\n",
       "      <td>35-54 years</td>\n",
       "      <td>6053</td>\n",
       "      <td>22.77</td>\n",
       "      <td>4,346,734,000,000</td>\n",
       "      <td>19693</td>\n",
       "      <td>Silent</td>\n",
       "    </tr>\n",
       "    <tr>\n",
       "      <th>United States</th>\n",
       "      <td>1985</td>\n",
       "      <td>male</td>\n",
       "      <td>15-24 years</td>\n",
       "      <td>4267</td>\n",
       "      <td>21.38</td>\n",
       "      <td>4,346,734,000,000</td>\n",
       "      <td>19693</td>\n",
       "      <td>Generation X</td>\n",
       "    </tr>\n",
       "    <tr>\n",
       "      <th>...</th>\n",
       "      <td>...</td>\n",
       "      <td>...</td>\n",
       "      <td>...</td>\n",
       "      <td>...</td>\n",
       "      <td>...</td>\n",
       "      <td>...</td>\n",
       "      <td>...</td>\n",
       "      <td>...</td>\n",
       "    </tr>\n",
       "    <tr>\n",
       "      <th>United States</th>\n",
       "      <td>2015</td>\n",
       "      <td>female</td>\n",
       "      <td>25-34 years</td>\n",
       "      <td>1444</td>\n",
       "      <td>6.70</td>\n",
       "      <td>18,120,714,000,000</td>\n",
       "      <td>60387</td>\n",
       "      <td>Millenials</td>\n",
       "    </tr>\n",
       "    <tr>\n",
       "      <th>United States</th>\n",
       "      <td>2015</td>\n",
       "      <td>female</td>\n",
       "      <td>15-24 years</td>\n",
       "      <td>1132</td>\n",
       "      <td>5.23</td>\n",
       "      <td>18,120,714,000,000</td>\n",
       "      <td>60387</td>\n",
       "      <td>Millenials</td>\n",
       "    </tr>\n",
       "    <tr>\n",
       "      <th>United States</th>\n",
       "      <td>2015</td>\n",
       "      <td>female</td>\n",
       "      <td>75+ years</td>\n",
       "      <td>540</td>\n",
       "      <td>4.58</td>\n",
       "      <td>18,120,714,000,000</td>\n",
       "      <td>60387</td>\n",
       "      <td>Silent</td>\n",
       "    </tr>\n",
       "    <tr>\n",
       "      <th>United States</th>\n",
       "      <td>2015</td>\n",
       "      <td>male</td>\n",
       "      <td>5-14 years</td>\n",
       "      <td>255</td>\n",
       "      <td>1.20</td>\n",
       "      <td>18,120,714,000,000</td>\n",
       "      <td>60387</td>\n",
       "      <td>Generation Z</td>\n",
       "    </tr>\n",
       "    <tr>\n",
       "      <th>United States</th>\n",
       "      <td>2015</td>\n",
       "      <td>female</td>\n",
       "      <td>5-14 years</td>\n",
       "      <td>158</td>\n",
       "      <td>0.78</td>\n",
       "      <td>18,120,714,000,000</td>\n",
       "      <td>60387</td>\n",
       "      <td>Generation Z</td>\n",
       "    </tr>\n",
       "  </tbody>\n",
       "</table>\n",
       "<p>372 rows × 8 columns</p>\n",
       "</div>"
      ],
      "text/plain": [
       "               Year     Sex          Age  Number of Suicides  \\\n",
       "Country                                                        \n",
       "United States  1985    male    75+ years                2177   \n",
       "United States  1985    male  55-74 years                5302   \n",
       "United States  1985    male  25-34 years                5134   \n",
       "United States  1985    male  35-54 years                6053   \n",
       "United States  1985    male  15-24 years                4267   \n",
       "...             ...     ...          ...                 ...   \n",
       "United States  2015  female  25-34 years                1444   \n",
       "United States  2015  female  15-24 years                1132   \n",
       "United States  2015  female    75+ years                 540   \n",
       "United States  2015    male   5-14 years                 255   \n",
       "United States  2015  female   5-14 years                 158   \n",
       "\n",
       "               Suicides per 100k    GDP for Year ($)  GDP per Capita ($)  \\\n",
       "Country                                                                    \n",
       "United States              53.57   4,346,734,000,000               19693   \n",
       "United States              29.50   4,346,734,000,000               19693   \n",
       "United States              24.46   4,346,734,000,000               19693   \n",
       "United States              22.77   4,346,734,000,000               19693   \n",
       "United States              21.38   4,346,734,000,000               19693   \n",
       "...                          ...                 ...                 ...   \n",
       "United States               6.70  18,120,714,000,000               60387   \n",
       "United States               5.23  18,120,714,000,000               60387   \n",
       "United States               4.58  18,120,714,000,000               60387   \n",
       "United States               1.20  18,120,714,000,000               60387   \n",
       "United States               0.78  18,120,714,000,000               60387   \n",
       "\n",
       "                    Generation  \n",
       "Country                         \n",
       "United States  G.I. Generation  \n",
       "United States  G.I. Generation  \n",
       "United States          Boomers  \n",
       "United States           Silent  \n",
       "United States     Generation X  \n",
       "...                        ...  \n",
       "United States       Millenials  \n",
       "United States       Millenials  \n",
       "United States           Silent  \n",
       "United States     Generation Z  \n",
       "United States     Generation Z  \n",
       "\n",
       "[372 rows x 8 columns]"
      ]
     },
     "execution_count": 20,
     "metadata": {},
     "output_type": "execute_result"
    }
   ],
   "source": [
    "us_suicides_master.set_index(\"Country\")"
   ]
  },
  {
   "cell_type": "code",
   "execution_count": 21,
   "metadata": {},
   "outputs": [
    {
     "data": {},
     "metadata": {},
     "output_type": "display_data"
    },
    {
     "data": {
      "application/vnd.holoviews_exec.v0+json": "",
      "text/html": [
       "<div id='1963'>\n",
       "  <div class=\"bk-root\" id=\"7b1f7a42-3b3c-4594-bb21-9eeafbf69f98\" data-root-id=\"1963\"></div>\n",
       "</div>\n",
       "<script type=\"application/javascript\">(function(root) {\n",
       "  function embed_document(root) {\n",
       "    var docs_json = {\"0172c588-94cf-4f27-bf25-97ff2eaa276f\":{\"defs\":[{\"extends\":null,\"module\":null,\"name\":\"ReactiveHTML1\",\"overrides\":[],\"properties\":[]},{\"extends\":null,\"module\":null,\"name\":\"FlexBox1\",\"overrides\":[],\"properties\":[{\"default\":\"flex-start\",\"kind\":null,\"name\":\"align_content\"},{\"default\":\"flex-start\",\"kind\":null,\"name\":\"align_items\"},{\"default\":\"row\",\"kind\":null,\"name\":\"flex_direction\"},{\"default\":\"wrap\",\"kind\":null,\"name\":\"flex_wrap\"},{\"default\":\"flex-start\",\"kind\":null,\"name\":\"justify_content\"}]},{\"extends\":null,\"module\":null,\"name\":\"GridStack1\",\"overrides\":[],\"properties\":[{\"default\":\"warn\",\"kind\":null,\"name\":\"mode\"},{\"default\":null,\"kind\":null,\"name\":\"ncols\"},{\"default\":null,\"kind\":null,\"name\":\"nrows\"},{\"default\":true,\"kind\":null,\"name\":\"allow_resize\"},{\"default\":true,\"kind\":null,\"name\":\"allow_drag\"},{\"default\":[],\"kind\":null,\"name\":\"state\"}]},{\"extends\":null,\"module\":null,\"name\":\"click1\",\"overrides\":[],\"properties\":[{\"default\":\"\",\"kind\":null,\"name\":\"terminal_output\"},{\"default\":\"\",\"kind\":null,\"name\":\"debug_name\"},{\"default\":0,\"kind\":null,\"name\":\"clears\"}]},{\"extends\":null,\"module\":null,\"name\":\"NotificationAreaBase1\",\"overrides\":[],\"properties\":[{\"default\":\"bottom-right\",\"kind\":null,\"name\":\"position\"},{\"default\":0,\"kind\":null,\"name\":\"_clear\"}]},{\"extends\":null,\"module\":null,\"name\":\"NotificationArea1\",\"overrides\":[],\"properties\":[{\"default\":[],\"kind\":null,\"name\":\"notifications\"},{\"default\":\"bottom-right\",\"kind\":null,\"name\":\"position\"},{\"default\":0,\"kind\":null,\"name\":\"_clear\"},{\"default\":[{\"background\":\"#ffc107\",\"icon\":{\"className\":\"fas fa-exclamation-triangle\",\"color\":\"white\",\"tagName\":\"i\"},\"type\":\"warning\"},{\"background\":\"#007bff\",\"icon\":{\"className\":\"fas fa-info-circle\",\"color\":\"white\",\"tagName\":\"i\"},\"type\":\"info\"}],\"kind\":null,\"name\":\"types\"}]},{\"extends\":null,\"module\":null,\"name\":\"Notification\",\"overrides\":[],\"properties\":[{\"default\":null,\"kind\":null,\"name\":\"background\"},{\"default\":3000,\"kind\":null,\"name\":\"duration\"},{\"default\":null,\"kind\":null,\"name\":\"icon\"},{\"default\":\"\",\"kind\":null,\"name\":\"message\"},{\"default\":null,\"kind\":null,\"name\":\"notification_type\"},{\"default\":false,\"kind\":null,\"name\":\"_destroyed\"}]},{\"extends\":null,\"module\":null,\"name\":\"TemplateActions1\",\"overrides\":[],\"properties\":[{\"default\":0,\"kind\":null,\"name\":\"open_modal\"},{\"default\":0,\"kind\":null,\"name\":\"close_modal\"}]},{\"extends\":null,\"module\":null,\"name\":\"MaterialTemplateActions1\",\"overrides\":[],\"properties\":[{\"default\":0,\"kind\":null,\"name\":\"open_modal\"},{\"default\":0,\"kind\":null,\"name\":\"close_modal\"}]}],\"roots\":{\"references\":[{\"attributes\":{},\"id\":\"1983\",\"type\":\"SaveTool\"},{\"attributes\":{\"children\":[{\"id\":\"1964\"},{\"id\":\"1968\"},{\"id\":\"2025\"}],\"margin\":[0,0,0,0],\"name\":\"Row02485\",\"tags\":[\"embedded\"]},\"id\":\"1963\",\"type\":\"Row\"},{\"attributes\":{},\"id\":\"1984\",\"type\":\"PanTool\"},{\"attributes\":{},\"id\":\"2006\",\"type\":\"BasicTicker\"},{\"attributes\":{\"bar_line_color\":\"black\",\"color_mapper\":{\"id\":\"1996\"},\"coordinates\":null,\"group\":null,\"label_standoff\":8,\"location\":[0,0],\"major_label_policy\":{\"id\":\"2018\"},\"major_tick_line_color\":\"black\",\"ticker\":{\"id\":\"2006\"}},\"id\":\"2007\",\"type\":\"ColorBar\"},{\"attributes\":{},\"id\":\"1987\",\"type\":\"ResetTool\"},{\"attributes\":{},\"id\":\"1985\",\"type\":\"WheelZoomTool\"},{\"attributes\":{\"fill_color\":{\"field\":\"zvalues\",\"transform\":{\"id\":\"1996\"}},\"height\":{\"value\":1},\"line_alpha\":{\"value\":0},\"line_color\":{\"value\":\"#1f77b4\"},\"width\":{\"value\":1},\"x\":{\"field\":\"columns\"},\"y\":{\"field\":\"index\"}},\"id\":\"2002\",\"type\":\"Rect\"},{\"attributes\":{\"fill_color\":{\"field\":\"zvalues\",\"transform\":{\"id\":\"1996\"}},\"height\":{\"value\":1},\"line_alpha\":{\"value\":0},\"line_color\":{\"value\":\"#1f77b4\"},\"width\":{\"value\":1},\"x\":{\"field\":\"columns\"},\"y\":{\"field\":\"index\"}},\"id\":\"2000\",\"type\":\"Rect\"},{\"attributes\":{\"factors\":[\"1948\",\"1949\",\"1950\",\"1951\",\"1952\",\"1953\",\"1954\",\"1955\",\"1956\",\"1957\",\"1958\",\"1959\",\"1960\",\"1961\",\"1962\",\"1963\",\"1964\",\"1965\",\"1966\",\"1967\",\"1968\",\"1969\",\"1970\",\"1971\",\"1972\",\"1973\",\"1974\",\"1975\",\"1976\",\"1977\",\"1978\",\"1979\",\"1980\",\"1981\",\"1982\",\"1983\",\"1984\",\"1985\",\"1986\",\"1987\",\"1988\",\"1989\",\"1990\",\"1991\",\"1992\",\"1993\",\"1994\",\"1995\",\"1996\",\"1997\",\"1998\",\"1999\",\"2000\",\"2001\",\"2002\",\"2003\",\"2004\",\"2005\",\"2006\",\"2007\",\"2008\",\"2009\",\"2010\",\"2011\",\"2012\",\"2013\",\"2014\",\"2015\",\"2016\"],\"tags\":[[[\"columns\",\"columns\",null]]]},\"id\":\"1965\",\"type\":\"FactorRange\"},{\"attributes\":{\"overlay\":{\"id\":\"1988\"}},\"id\":\"1986\",\"type\":\"BoxZoomTool\"},{\"attributes\":{\"source\":{\"id\":\"1997\"}},\"id\":\"2005\",\"type\":\"CDSView\"},{\"attributes\":{\"axis\":{\"id\":\"1977\"},\"coordinates\":null,\"grid_line_color\":null,\"group\":null,\"ticker\":null},\"id\":\"1979\",\"type\":\"Grid\"},{\"attributes\":{\"high\":11.4,\"low\":2.4,\"nan_color\":\"white\",\"palette\":[\"#75968f\",\"#a5bab7\",\"#c9d9d3\",\"#e2e2e2\",\"#dfccce\",\"#ddb7b1\",\"#cc7878\",\"#933b41\",\"#550b1d\"]},\"id\":\"1996\",\"type\":\"LinearColorMapper\"},{\"attributes\":{\"margin\":[5,5,5,5],\"name\":\"HSpacer02490\",\"sizing_mode\":\"stretch_width\"},\"id\":\"2025\",\"type\":\"Spacer\"},{\"attributes\":{\"margin\":[5,5,5,5],\"name\":\"HSpacer02489\",\"sizing_mode\":\"stretch_width\"},\"id\":\"1964\",\"type\":\"Spacer\"},{\"attributes\":{\"axis_label\":\"\",\"coordinates\":null,\"formatter\":{\"id\":\"2009\"},\"group\":null,\"group_text_font_size\":\"5pt\",\"major_label_orientation\":1.2217304763960306,\"major_label_policy\":{\"id\":\"2010\"},\"major_label_text_font_size\":\"5pt\",\"ticker\":{\"id\":\"1978\"}},\"id\":\"1977\",\"type\":\"CategoricalAxis\"},{\"attributes\":{\"coordinates\":null,\"group\":null,\"text\":\"US Unemployment 1948\\u20142016\",\"text_color\":\"black\",\"text_font_size\":\"10pt\"},\"id\":\"1969\",\"type\":\"Title\"},{\"attributes\":{},\"id\":\"2012\",\"type\":\"CategoricalTickFormatter\"},{\"attributes\":{\"tools\":[{\"id\":\"1967\"},{\"id\":\"1983\"},{\"id\":\"1984\"},{\"id\":\"1985\"},{\"id\":\"1986\"},{\"id\":\"1987\"}]},\"id\":\"1989\",\"type\":\"Toolbar\"},{\"attributes\":{},\"id\":\"1975\",\"type\":\"CategoricalScale\"},{\"attributes\":{\"axis_label\":\"\",\"coordinates\":null,\"formatter\":{\"id\":\"2012\"},\"group\":null,\"group_text_font_size\":\"5pt\",\"major_label_policy\":{\"id\":\"2013\"},\"major_label_text_font_size\":\"5pt\",\"ticker\":{\"id\":\"1981\"}},\"id\":\"1980\",\"type\":\"CategoricalAxis\"},{\"attributes\":{\"data\":{\"columns\":[\"1948\",\"1948\",\"1948\",\"1948\",\"1948\",\"1948\",\"1948\",\"1948\",\"1948\",\"1948\",\"1948\",\"1948\",\"1949\",\"1949\",\"1949\",\"1949\",\"1949\",\"1949\",\"1949\",\"1949\",\"1949\",\"1949\",\"1949\",\"1949\",\"1950\",\"1950\",\"1950\",\"1950\",\"1950\",\"1950\",\"1950\",\"1950\",\"1950\",\"1950\",\"1950\",\"1950\",\"1951\",\"1951\",\"1951\",\"1951\",\"1951\",\"1951\",\"1951\",\"1951\",\"1951\",\"1951\",\"1951\",\"1951\",\"1952\",\"1952\",\"1952\",\"1952\",\"1952\",\"1952\",\"1952\",\"1952\",\"1952\",\"1952\",\"1952\",\"1952\",\"1953\",\"1953\",\"1953\",\"1953\",\"1953\",\"1953\",\"1953\",\"1953\",\"1953\",\"1953\",\"1953\",\"1953\",\"1954\",\"1954\",\"1954\",\"1954\",\"1954\",\"1954\",\"1954\",\"1954\",\"1954\",\"1954\",\"1954\",\"1954\",\"1955\",\"1955\",\"1955\",\"1955\",\"1955\",\"1955\",\"1955\",\"1955\",\"1955\",\"1955\",\"1955\",\"1955\",\"1956\",\"1956\",\"1956\",\"1956\",\"1956\",\"1956\",\"1956\",\"1956\",\"1956\",\"1956\",\"1956\",\"1956\",\"1957\",\"1957\",\"1957\",\"1957\",\"1957\",\"1957\",\"1957\",\"1957\",\"1957\",\"1957\",\"1957\",\"1957\",\"1958\",\"1958\",\"1958\",\"1958\",\"1958\",\"1958\",\"1958\",\"1958\",\"1958\",\"1958\",\"1958\",\"1958\",\"1959\",\"1959\",\"1959\",\"1959\",\"1959\",\"1959\",\"1959\",\"1959\",\"1959\",\"1959\",\"1959\",\"1959\",\"1960\",\"1960\",\"1960\",\"1960\",\"1960\",\"1960\",\"1960\",\"1960\",\"1960\",\"1960\",\"1960\",\"1960\",\"1961\",\"1961\",\"1961\",\"1961\",\"1961\",\"1961\",\"1961\",\"1961\",\"1961\",\"1961\",\"1961\",\"1961\",\"1962\",\"1962\",\"1962\",\"1962\",\"1962\",\"1962\",\"1962\",\"1962\",\"1962\",\"1962\",\"1962\",\"1962\",\"1963\",\"1963\",\"1963\",\"1963\",\"1963\",\"1963\",\"1963\",\"1963\",\"1963\",\"1963\",\"1963\",\"1963\",\"1964\",\"1964\",\"1964\",\"1964\",\"1964\",\"1964\",\"1964\",\"1964\",\"1964\",\"1964\",\"1964\",\"1964\",\"1965\",\"1965\",\"1965\",\"1965\",\"1965\",\"1965\",\"1965\",\"1965\",\"1965\",\"1965\",\"1965\",\"1965\",\"1966\",\"1966\",\"1966\",\"1966\",\"1966\",\"1966\",\"1966\",\"1966\",\"1966\",\"1966\",\"1966\",\"1966\",\"1967\",\"1967\",\"1967\",\"1967\",\"1967\",\"1967\",\"1967\",\"1967\",\"1967\",\"1967\",\"1967\",\"1967\",\"1968\",\"1968\",\"1968\",\"1968\",\"1968\",\"1968\",\"1968\",\"1968\",\"1968\",\"1968\",\"1968\",\"1968\",\"1969\",\"1969\",\"1969\",\"1969\",\"1969\",\"1969\",\"1969\",\"1969\",\"1969\",\"1969\",\"1969\",\"1969\",\"1970\",\"1970\",\"1970\",\"1970\",\"1970\",\"1970\",\"1970\",\"1970\",\"1970\",\"1970\",\"1970\",\"1970\",\"1971\",\"1971\",\"1971\",\"1971\",\"1971\",\"1971\",\"1971\",\"1971\",\"1971\",\"1971\",\"1971\",\"1971\",\"1972\",\"1972\",\"1972\",\"1972\",\"1972\",\"1972\",\"1972\",\"1972\",\"1972\",\"1972\",\"1972\",\"1972\",\"1973\",\"1973\",\"1973\",\"1973\",\"1973\",\"1973\",\"1973\",\"1973\",\"1973\",\"1973\",\"1973\",\"1973\",\"1974\",\"1974\",\"1974\",\"1974\",\"1974\",\"1974\",\"1974\",\"1974\",\"1974\",\"1974\",\"1974\",\"1974\",\"1975\",\"1975\",\"1975\",\"1975\",\"1975\",\"1975\",\"1975\",\"1975\",\"1975\",\"1975\",\"1975\",\"1975\",\"1976\",\"1976\",\"1976\",\"1976\",\"1976\",\"1976\",\"1976\",\"1976\",\"1976\",\"1976\",\"1976\",\"1976\",\"1977\",\"1977\",\"1977\",\"1977\",\"1977\",\"1977\",\"1977\",\"1977\",\"1977\",\"1977\",\"1977\",\"1977\",\"1978\",\"1978\",\"1978\",\"1978\",\"1978\",\"1978\",\"1978\",\"1978\",\"1978\",\"1978\",\"1978\",\"1978\",\"1979\",\"1979\",\"1979\",\"1979\",\"1979\",\"1979\",\"1979\",\"1979\",\"1979\",\"1979\",\"1979\",\"1979\",\"1980\",\"1980\",\"1980\",\"1980\",\"1980\",\"1980\",\"1980\",\"1980\",\"1980\",\"1980\",\"1980\",\"1980\",\"1981\",\"1981\",\"1981\",\"1981\",\"1981\",\"1981\",\"1981\",\"1981\",\"1981\",\"1981\",\"1981\",\"1981\",\"1982\",\"1982\",\"1982\",\"1982\",\"1982\",\"1982\",\"1982\",\"1982\",\"1982\",\"1982\",\"1982\",\"1982\",\"1983\",\"1983\",\"1983\",\"1983\",\"1983\",\"1983\",\"1983\",\"1983\",\"1983\",\"1983\",\"1983\",\"1983\",\"1984\",\"1984\",\"1984\",\"1984\",\"1984\",\"1984\",\"1984\",\"1984\",\"1984\",\"1984\",\"1984\",\"1984\",\"1985\",\"1985\",\"1985\",\"1985\",\"1985\",\"1985\",\"1985\",\"1985\",\"1985\",\"1985\",\"1985\",\"1985\",\"1986\",\"1986\",\"1986\",\"1986\",\"1986\",\"1986\",\"1986\",\"1986\",\"1986\",\"1986\",\"1986\",\"1986\",\"1987\",\"1987\",\"1987\",\"1987\",\"1987\",\"1987\",\"1987\",\"1987\",\"1987\",\"1987\",\"1987\",\"1987\",\"1988\",\"1988\",\"1988\",\"1988\",\"1988\",\"1988\",\"1988\",\"1988\",\"1988\",\"1988\",\"1988\",\"1988\",\"1989\",\"1989\",\"1989\",\"1989\",\"1989\",\"1989\",\"1989\",\"1989\",\"1989\",\"1989\",\"1989\",\"1989\",\"1990\",\"1990\",\"1990\",\"1990\",\"1990\",\"1990\",\"1990\",\"1990\",\"1990\",\"1990\",\"1990\",\"1990\",\"1991\",\"1991\",\"1991\",\"1991\",\"1991\",\"1991\",\"1991\",\"1991\",\"1991\",\"1991\",\"1991\",\"1991\",\"1992\",\"1992\",\"1992\",\"1992\",\"1992\",\"1992\",\"1992\",\"1992\",\"1992\",\"1992\",\"1992\",\"1992\",\"1993\",\"1993\",\"1993\",\"1993\",\"1993\",\"1993\",\"1993\",\"1993\",\"1993\",\"1993\",\"1993\",\"1993\",\"1994\",\"1994\",\"1994\",\"1994\",\"1994\",\"1994\",\"1994\",\"1994\",\"1994\",\"1994\",\"1994\",\"1994\",\"1995\",\"1995\",\"1995\",\"1995\",\"1995\",\"1995\",\"1995\",\"1995\",\"1995\",\"1995\",\"1995\",\"1995\",\"1996\",\"1996\",\"1996\",\"1996\",\"1996\",\"1996\",\"1996\",\"1996\",\"1996\",\"1996\",\"1996\",\"1996\",\"1997\",\"1997\",\"1997\",\"1997\",\"1997\",\"1997\",\"1997\",\"1997\",\"1997\",\"1997\",\"1997\",\"1997\",\"1998\",\"1998\",\"1998\",\"1998\",\"1998\",\"1998\",\"1998\",\"1998\",\"1998\",\"1998\",\"1998\",\"1998\",\"1999\",\"1999\",\"1999\",\"1999\",\"1999\",\"1999\",\"1999\",\"1999\",\"1999\",\"1999\",\"1999\",\"1999\",\"2000\",\"2000\",\"2000\",\"2000\",\"2000\",\"2000\",\"2000\",\"2000\",\"2000\",\"2000\",\"2000\",\"2000\",\"2001\",\"2001\",\"2001\",\"2001\",\"2001\",\"2001\",\"2001\",\"2001\",\"2001\",\"2001\",\"2001\",\"2001\",\"2002\",\"2002\",\"2002\",\"2002\",\"2002\",\"2002\",\"2002\",\"2002\",\"2002\",\"2002\",\"2002\",\"2002\",\"2003\",\"2003\",\"2003\",\"2003\",\"2003\",\"2003\",\"2003\",\"2003\",\"2003\",\"2003\",\"2003\",\"2003\",\"2004\",\"2004\",\"2004\",\"2004\",\"2004\",\"2004\",\"2004\",\"2004\",\"2004\",\"2004\",\"2004\",\"2004\",\"2005\",\"2005\",\"2005\",\"2005\",\"2005\",\"2005\",\"2005\",\"2005\",\"2005\",\"2005\",\"2005\",\"2005\",\"2006\",\"2006\",\"2006\",\"2006\",\"2006\",\"2006\",\"2006\",\"2006\",\"2006\",\"2006\",\"2006\",\"2006\",\"2007\",\"2007\",\"2007\",\"2007\",\"2007\",\"2007\",\"2007\",\"2007\",\"2007\",\"2007\",\"2007\",\"2007\",\"2008\",\"2008\",\"2008\",\"2008\",\"2008\",\"2008\",\"2008\",\"2008\",\"2008\",\"2008\",\"2008\",\"2008\",\"2009\",\"2009\",\"2009\",\"2009\",\"2009\",\"2009\",\"2009\",\"2009\",\"2009\",\"2009\",\"2009\",\"2009\",\"2010\",\"2010\",\"2010\",\"2010\",\"2010\",\"2010\",\"2010\",\"2010\",\"2010\",\"2010\",\"2010\",\"2010\",\"2011\",\"2011\",\"2011\",\"2011\",\"2011\",\"2011\",\"2011\",\"2011\",\"2011\",\"2011\",\"2011\",\"2011\",\"2012\",\"2012\",\"2012\",\"2012\",\"2012\",\"2012\",\"2012\",\"2012\",\"2012\",\"2012\",\"2012\",\"2012\",\"2013\",\"2013\",\"2013\",\"2013\",\"2013\",\"2013\",\"2013\",\"2013\",\"2013\",\"2013\",\"2013\",\"2013\",\"2014\",\"2014\",\"2014\",\"2014\",\"2014\",\"2014\",\"2014\",\"2014\",\"2014\",\"2014\",\"2014\",\"2014\",\"2015\",\"2015\",\"2015\",\"2015\",\"2015\",\"2015\",\"2015\",\"2015\",\"2015\",\"2015\",\"2015\",\"2015\",\"2016\",\"2016\",\"2016\",\"2016\",\"2016\",\"2016\",\"2016\",\"2016\",\"2016\",\"2016\",\"2016\",\"2016\"],\"index\":[\"Jan\",\"Feb\",\"Mar\",\"Apr\",\"May\",\"Jun\",\"Jul\",\"Aug\",\"Sep\",\"Oct\",\"Nov\",\"Dec\",\"Jan\",\"Feb\",\"Mar\",\"Apr\",\"May\",\"Jun\",\"Jul\",\"Aug\",\"Sep\",\"Oct\",\"Nov\",\"Dec\",\"Jan\",\"Feb\",\"Mar\",\"Apr\",\"May\",\"Jun\",\"Jul\",\"Aug\",\"Sep\",\"Oct\",\"Nov\",\"Dec\",\"Jan\",\"Feb\",\"Mar\",\"Apr\",\"May\",\"Jun\",\"Jul\",\"Aug\",\"Sep\",\"Oct\",\"Nov\",\"Dec\",\"Jan\",\"Feb\",\"Mar\",\"Apr\",\"May\",\"Jun\",\"Jul\",\"Aug\",\"Sep\",\"Oct\",\"Nov\",\"Dec\",\"Jan\",\"Feb\",\"Mar\",\"Apr\",\"May\",\"Jun\",\"Jul\",\"Aug\",\"Sep\",\"Oct\",\"Nov\",\"Dec\",\"Jan\",\"Feb\",\"Mar\",\"Apr\",\"May\",\"Jun\",\"Jul\",\"Aug\",\"Sep\",\"Oct\",\"Nov\",\"Dec\",\"Jan\",\"Feb\",\"Mar\",\"Apr\",\"May\",\"Jun\",\"Jul\",\"Aug\",\"Sep\",\"Oct\",\"Nov\",\"Dec\",\"Jan\",\"Feb\",\"Mar\",\"Apr\",\"May\",\"Jun\",\"Jul\",\"Aug\",\"Sep\",\"Oct\",\"Nov\",\"Dec\",\"Jan\",\"Feb\",\"Mar\",\"Apr\",\"May\",\"Jun\",\"Jul\",\"Aug\",\"Sep\",\"Oct\",\"Nov\",\"Dec\",\"Jan\",\"Feb\",\"Mar\",\"Apr\",\"May\",\"Jun\",\"Jul\",\"Aug\",\"Sep\",\"Oct\",\"Nov\",\"Dec\",\"Jan\",\"Feb\",\"Mar\",\"Apr\",\"May\",\"Jun\",\"Jul\",\"Aug\",\"Sep\",\"Oct\",\"Nov\",\"Dec\",\"Jan\",\"Feb\",\"Mar\",\"Apr\",\"May\",\"Jun\",\"Jul\",\"Aug\",\"Sep\",\"Oct\",\"Nov\",\"Dec\",\"Jan\",\"Feb\",\"Mar\",\"Apr\",\"May\",\"Jun\",\"Jul\",\"Aug\",\"Sep\",\"Oct\",\"Nov\",\"Dec\",\"Jan\",\"Feb\",\"Mar\",\"Apr\",\"May\",\"Jun\",\"Jul\",\"Aug\",\"Sep\",\"Oct\",\"Nov\",\"Dec\",\"Jan\",\"Feb\",\"Mar\",\"Apr\",\"May\",\"Jun\",\"Jul\",\"Aug\",\"Sep\",\"Oct\",\"Nov\",\"Dec\",\"Jan\",\"Feb\",\"Mar\",\"Apr\",\"May\",\"Jun\",\"Jul\",\"Aug\",\"Sep\",\"Oct\",\"Nov\",\"Dec\",\"Jan\",\"Feb\",\"Mar\",\"Apr\",\"May\",\"Jun\",\"Jul\",\"Aug\",\"Sep\",\"Oct\",\"Nov\",\"Dec\",\"Jan\",\"Feb\",\"Mar\",\"Apr\",\"May\",\"Jun\",\"Jul\",\"Aug\",\"Sep\",\"Oct\",\"Nov\",\"Dec\",\"Jan\",\"Feb\",\"Mar\",\"Apr\",\"May\",\"Jun\",\"Jul\",\"Aug\",\"Sep\",\"Oct\",\"Nov\",\"Dec\",\"Jan\",\"Feb\",\"Mar\",\"Apr\",\"May\",\"Jun\",\"Jul\",\"Aug\",\"Sep\",\"Oct\",\"Nov\",\"Dec\",\"Jan\",\"Feb\",\"Mar\",\"Apr\",\"May\",\"Jun\",\"Jul\",\"Aug\",\"Sep\",\"Oct\",\"Nov\",\"Dec\",\"Jan\",\"Feb\",\"Mar\",\"Apr\",\"May\",\"Jun\",\"Jul\",\"Aug\",\"Sep\",\"Oct\",\"Nov\",\"Dec\",\"Jan\",\"Feb\",\"Mar\",\"Apr\",\"May\",\"Jun\",\"Jul\",\"Aug\",\"Sep\",\"Oct\",\"Nov\",\"Dec\",\"Jan\",\"Feb\",\"Mar\",\"Apr\",\"May\",\"Jun\",\"Jul\",\"Aug\",\"Sep\",\"Oct\",\"Nov\",\"Dec\",\"Jan\",\"Feb\",\"Mar\",\"Apr\",\"May\",\"Jun\",\"Jul\",\"Aug\",\"Sep\",\"Oct\",\"Nov\",\"Dec\",\"Jan\",\"Feb\",\"Mar\",\"Apr\",\"May\",\"Jun\",\"Jul\",\"Aug\",\"Sep\",\"Oct\",\"Nov\",\"Dec\",\"Jan\",\"Feb\",\"Mar\",\"Apr\",\"May\",\"Jun\",\"Jul\",\"Aug\",\"Sep\",\"Oct\",\"Nov\",\"Dec\",\"Jan\",\"Feb\",\"Mar\",\"Apr\",\"May\",\"Jun\",\"Jul\",\"Aug\",\"Sep\",\"Oct\",\"Nov\",\"Dec\",\"Jan\",\"Feb\",\"Mar\",\"Apr\",\"May\",\"Jun\",\"Jul\",\"Aug\",\"Sep\",\"Oct\",\"Nov\",\"Dec\",\"Jan\",\"Feb\",\"Mar\",\"Apr\",\"May\",\"Jun\",\"Jul\",\"Aug\",\"Sep\",\"Oct\",\"Nov\",\"Dec\",\"Jan\",\"Feb\",\"Mar\",\"Apr\",\"May\",\"Jun\",\"Jul\",\"Aug\",\"Sep\",\"Oct\",\"Nov\",\"Dec\",\"Jan\",\"Feb\",\"Mar\",\"Apr\",\"May\",\"Jun\",\"Jul\",\"Aug\",\"Sep\",\"Oct\",\"Nov\",\"Dec\",\"Jan\",\"Feb\",\"Mar\",\"Apr\",\"May\",\"Jun\",\"Jul\",\"Aug\",\"Sep\",\"Oct\",\"Nov\",\"Dec\",\"Jan\",\"Feb\",\"Mar\",\"Apr\",\"May\",\"Jun\",\"Jul\",\"Aug\",\"Sep\",\"Oct\",\"Nov\",\"Dec\",\"Jan\",\"Feb\",\"Mar\",\"Apr\",\"May\",\"Jun\",\"Jul\",\"Aug\",\"Sep\",\"Oct\",\"Nov\",\"Dec\",\"Jan\",\"Feb\",\"Mar\",\"Apr\",\"May\",\"Jun\",\"Jul\",\"Aug\",\"Sep\",\"Oct\",\"Nov\",\"Dec\",\"Jan\",\"Feb\",\"Mar\",\"Apr\",\"May\",\"Jun\",\"Jul\",\"Aug\",\"Sep\",\"Oct\",\"Nov\",\"Dec\",\"Jan\",\"Feb\",\"Mar\",\"Apr\",\"May\",\"Jun\",\"Jul\",\"Aug\",\"Sep\",\"Oct\",\"Nov\",\"Dec\",\"Jan\",\"Feb\",\"Mar\",\"Apr\",\"May\",\"Jun\",\"Jul\",\"Aug\",\"Sep\",\"Oct\",\"Nov\",\"Dec\",\"Jan\",\"Feb\",\"Mar\",\"Apr\",\"May\",\"Jun\",\"Jul\",\"Aug\",\"Sep\",\"Oct\",\"Nov\",\"Dec\",\"Jan\",\"Feb\",\"Mar\",\"Apr\",\"May\",\"Jun\",\"Jul\",\"Aug\",\"Sep\",\"Oct\",\"Nov\",\"Dec\",\"Jan\",\"Feb\",\"Mar\",\"Apr\",\"May\",\"Jun\",\"Jul\",\"Aug\",\"Sep\",\"Oct\",\"Nov\",\"Dec\",\"Jan\",\"Feb\",\"Mar\",\"Apr\",\"May\",\"Jun\",\"Jul\",\"Aug\",\"Sep\",\"Oct\",\"Nov\",\"Dec\",\"Jan\",\"Feb\",\"Mar\",\"Apr\",\"May\",\"Jun\",\"Jul\",\"Aug\",\"Sep\",\"Oct\",\"Nov\",\"Dec\",\"Jan\",\"Feb\",\"Mar\",\"Apr\",\"May\",\"Jun\",\"Jul\",\"Aug\",\"Sep\",\"Oct\",\"Nov\",\"Dec\",\"Jan\",\"Feb\",\"Mar\",\"Apr\",\"May\",\"Jun\",\"Jul\",\"Aug\",\"Sep\",\"Oct\",\"Nov\",\"Dec\",\"Jan\",\"Feb\",\"Mar\",\"Apr\",\"May\",\"Jun\",\"Jul\",\"Aug\",\"Sep\",\"Oct\",\"Nov\",\"Dec\",\"Jan\",\"Feb\",\"Mar\",\"Apr\",\"May\",\"Jun\",\"Jul\",\"Aug\",\"Sep\",\"Oct\",\"Nov\",\"Dec\",\"Jan\",\"Feb\",\"Mar\",\"Apr\",\"May\",\"Jun\",\"Jul\",\"Aug\",\"Sep\",\"Oct\",\"Nov\",\"Dec\",\"Jan\",\"Feb\",\"Mar\",\"Apr\",\"May\",\"Jun\",\"Jul\",\"Aug\",\"Sep\",\"Oct\",\"Nov\",\"Dec\",\"Jan\",\"Feb\",\"Mar\",\"Apr\",\"May\",\"Jun\",\"Jul\",\"Aug\",\"Sep\",\"Oct\",\"Nov\",\"Dec\",\"Jan\",\"Feb\",\"Mar\",\"Apr\",\"May\",\"Jun\",\"Jul\",\"Aug\",\"Sep\",\"Oct\",\"Nov\",\"Dec\",\"Jan\",\"Feb\",\"Mar\",\"Apr\",\"May\",\"Jun\",\"Jul\",\"Aug\",\"Sep\",\"Oct\",\"Nov\",\"Dec\",\"Jan\",\"Feb\",\"Mar\",\"Apr\",\"May\",\"Jun\",\"Jul\",\"Aug\",\"Sep\",\"Oct\",\"Nov\",\"Dec\",\"Jan\",\"Feb\",\"Mar\",\"Apr\",\"May\",\"Jun\",\"Jul\",\"Aug\",\"Sep\",\"Oct\",\"Nov\",\"Dec\",\"Jan\",\"Feb\",\"Mar\",\"Apr\",\"May\",\"Jun\",\"Jul\",\"Aug\",\"Sep\",\"Oct\",\"Nov\",\"Dec\",\"Jan\",\"Feb\",\"Mar\",\"Apr\",\"May\",\"Jun\",\"Jul\",\"Aug\",\"Sep\",\"Oct\",\"Nov\",\"Dec\",\"Jan\",\"Feb\",\"Mar\",\"Apr\",\"May\",\"Jun\",\"Jul\",\"Aug\",\"Sep\",\"Oct\",\"Nov\",\"Dec\",\"Jan\",\"Feb\",\"Mar\",\"Apr\",\"May\",\"Jun\",\"Jul\",\"Aug\",\"Sep\",\"Oct\",\"Nov\",\"Dec\",\"Jan\",\"Feb\",\"Mar\",\"Apr\",\"May\",\"Jun\",\"Jul\",\"Aug\",\"Sep\",\"Oct\",\"Nov\",\"Dec\",\"Jan\",\"Feb\",\"Mar\",\"Apr\",\"May\",\"Jun\",\"Jul\",\"Aug\",\"Sep\",\"Oct\",\"Nov\",\"Dec\",\"Jan\",\"Feb\",\"Mar\",\"Apr\",\"May\",\"Jun\",\"Jul\",\"Aug\",\"Sep\",\"Oct\",\"Nov\",\"Dec\",\"Jan\",\"Feb\",\"Mar\",\"Apr\",\"May\",\"Jun\",\"Jul\",\"Aug\",\"Sep\",\"Oct\",\"Nov\",\"Dec\",\"Jan\",\"Feb\",\"Mar\",\"Apr\",\"May\",\"Jun\",\"Jul\",\"Aug\",\"Sep\",\"Oct\",\"Nov\",\"Dec\",\"Jan\",\"Feb\",\"Mar\",\"Apr\",\"May\",\"Jun\",\"Jul\",\"Aug\",\"Sep\",\"Oct\",\"Nov\",\"Dec\",\"Jan\",\"Feb\",\"Mar\",\"Apr\",\"May\",\"Jun\",\"Jul\",\"Aug\",\"Sep\",\"Oct\",\"Nov\",\"Dec\",\"Jan\",\"Feb\",\"Mar\",\"Apr\",\"May\",\"Jun\",\"Jul\",\"Aug\",\"Sep\",\"Oct\",\"Nov\",\"Dec\",\"Jan\",\"Feb\",\"Mar\",\"Apr\",\"May\",\"Jun\",\"Jul\",\"Aug\",\"Sep\",\"Oct\",\"Nov\",\"Dec\"],\"value\":[\"4\",\"4.7\",\"4.5\",\"4\",\"3.4\",\"3.9\",\"3.9\",\"3.6\",\"3.4\",\"2.9\",\"3.3\",\"3.6\",\"5\",\"5.8\",\"5.6\",\"5.4\",\"5.7\",\"6.4\",\"7\",\"6.3\",\"5.9\",\"6.1\",\"5.7\",\"6\",\"7.6\",\"7.9\",\"7.1\",\"6\",\"5.3\",\"5.6\",\"5.3\",\"4.1\",\"4\",\"3.3\",\"3.8\",\"3.9\",\"4.4\",\"4.2\",\"3.8\",\"3.2\",\"2.9\",\"3.4\",\"3.3\",\"2.9\",\"3\",\"2.8\",\"3.2\",\"2.9\",\"3.7\",\"3.8\",\"3.3\",\"3\",\"2.9\",\"3.2\",\"3.3\",\"3.1\",\"2.7\",\"2.4\",\"2.5\",\"2.5\",\"3.4\",\"3.2\",\"2.9\",\"2.8\",\"2.5\",\"2.7\",\"2.7\",\"2.4\",\"2.6\",\"2.5\",\"3.2\",\"4.2\",\"5.7\",\"6.3\",\"6.4\",\"6.1\",\"5.7\",\"5.7\",\"5.7\",\"5.4\",\"5.3\",\"4.6\",\"4.9\",\"4.8\",\"5.8\",\"5.7\",\"5.2\",\"4.9\",\"4.2\",\"4.4\",\"4\",\"3.8\",\"3.5\",\"3.4\",\"3.8\",\"3.9\",\"4.7\",\"4.8\",\"4.7\",\"4.1\",\"4.2\",\"4.7\",\"4.4\",\"3.7\",\"3.4\",\"3.1\",\"3.9\",\"4\",\"4.9\",\"4.7\",\"4.3\",\"4\",\"3.9\",\"4.6\",\"4.1\",\"3.7\",\"3.7\",\"3.6\",\"4.6\",\"5\",\"6.8\",\"7.7\",\"7.7\",\"7.5\",\"7.1\",\"7.6\",\"7.4\",\"6.7\",\"6\",\"5.5\",\"5.6\",\"6\",\"7\",\"7\",\"6.4\",\"5.2\",\"4.9\",\"5.4\",\"5.2\",\"4.8\",\"4.7\",\"4.7\",\"5.3\",\"5.1\",\"6.1\",\"5.7\",\"6.1\",\"5.2\",\"4.8\",\"5.8\",\"5.5\",\"5.2\",\"4.7\",\"5\",\"5.6\",\"6.4\",\"7.7\",\"8.1\",\"7.7\",\"7\",\"6.6\",\"7.3\",\"6.9\",\"6.2\",\"5.8\",\"5.5\",\"5.6\",\"5.8\",\"6.7\",\"6.5\",\"6.2\",\"5.5\",\"5.1\",\"5.9\",\"5.3\",\"5.3\",\"4.9\",\"4.5\",\"5.3\",\"5.3\",\"6.6\",\"6.9\",\"6.3\",\"5.6\",\"5.5\",\"6.2\",\"5.6\",\"5.2\",\"4.8\",\"4.7\",\"5.3\",\"5.3\",\"6.4\",\"6.2\",\"5.9\",\"5.3\",\"4.8\",\"5.9\",\"4.9\",\"4.8\",\"4.5\",\"4.4\",\"4.5\",\"4.7\",\"5.5\",\"5.7\",\"5.1\",\"4.7\",\"4.3\",\"5.3\",\"4.5\",\"4.2\",\"3.8\",\"3.6\",\"3.9\",\"3.7\",\"4.4\",\"4.2\",\"4\",\"3.6\",\"3.7\",\"4.6\",\"3.9\",\"3.6\",\"3.3\",\"3.2\",\"3.4\",\"3.5\",\"4.2\",\"4.2\",\"3.9\",\"3.5\",\"3.2\",\"4.6\",\"4.1\",\"3.7\",\"3.7\",\"3.8\",\"3.7\",\"3.5\",\"4\",\"4.2\",\"3.8\",\"3.2\",\"2.9\",\"4.5\",\"4\",\"3.5\",\"3.3\",\"3.2\",\"3.3\",\"3.1\",\"3.7\",\"3.7\",\"3.5\",\"3.2\",\"2.9\",\"4.1\",\"3.8\",\"3.5\",\"3.7\",\"3.5\",\"3.3\",\"3.2\",\"4.2\",\"4.7\",\"4.6\",\"4.3\",\"4.1\",\"5.6\",\"5.3\",\"5\",\"5.2\",\"5.1\",\"5.5\",\"5.6\",\"6.6\",\"6.6\",\"6.3\",\"5.7\",\"5.3\",\"6.5\",\"6.2\",\"5.9\",\"5.8\",\"5.4\",\"5.7\",\"5.5\",\"6.5\",\"6.4\",\"6.1\",\"5.5\",\"5.1\",\"6.2\",\"5.9\",\"5.5\",\"5.4\",\"5.1\",\"4.9\",\"4.8\",\"5.5\",\"5.6\",\"5.2\",\"4.8\",\"4.4\",\"5.4\",\"5\",\"4.7\",\"4.7\",\"4.2\",\"4.6\",\"4.6\",\"5.7\",\"5.8\",\"5.3\",\"4.8\",\"4.6\",\"5.8\",\"5.7\",\"5.3\",\"5.7\",\"5.5\",\"6.2\",\"6.7\",\"9\",\"9.1\",\"9.1\",\"8.6\",\"8.3\",\"9.1\",\"8.7\",\"8.2\",\"8.1\",\"7.8\",\"7.8\",\"7.8\",\"8.8\",\"8.7\",\"8.1\",\"7.4\",\"6.8\",\"8\",\"7.8\",\"7.6\",\"7.4\",\"7.2\",\"7.4\",\"7.4\",\"8.3\",\"8.5\",\"7.9\",\"6.9\",\"6.4\",\"7.5\",\"7\",\"6.8\",\"6.6\",\"6.4\",\"6.5\",\"6\",\"7.1\",\"6.9\",\"6.6\",\"5.8\",\"5.5\",\"6.2\",\"6.3\",\"5.9\",\"5.8\",\"5.4\",\"5.6\",\"5.7\",\"6.4\",\"6.4\",\"6.1\",\"5.5\",\"5.2\",\"6\",\"5.9\",\"5.9\",\"5.7\",\"5.6\",\"5.6\",\"5.7\",\"6.9\",\"6.8\",\"6.6\",\"6.7\",\"7.1\",\"7.8\",\"7.9\",\"7.6\",\"7.2\",\"7.1\",\"7.1\",\"6.9\",\"8.2\",\"8\",\"7.7\",\"7\",\"7.1\",\"7.7\",\"7.3\",\"7.2\",\"7.3\",\"7.5\",\"7.9\",\"8.3\",\"9.4\",\"9.6\",\"9.5\",\"9.2\",\"9.1\",\"9.8\",\"9.8\",\"9.6\",\"9.7\",\"9.9\",\"10.4\",\"10.5\",\"11.4\",\"11.3\",\"10.8\",\"10\",\"9.8\",\"10.2\",\"9.4\",\"9.2\",\"8.8\",\"8.4\",\"8.1\",\"8\",\"8.8\",\"8.4\",\"8.1\",\"7.6\",\"7.2\",\"7.4\",\"7.5\",\"7.3\",\"7.1\",\"7\",\"6.9\",\"7\",\"8\",\"7.8\",\"7.5\",\"7.1\",\"7\",\"7.5\",\"7.4\",\"6.9\",\"6.9\",\"6.8\",\"6.7\",\"6.7\",\"7.3\",\"7.8\",\"7.5\",\"7\",\"7\",\"7.3\",\"7\",\"6.7\",\"6.8\",\"6.6\",\"6.6\",\"6.3\",\"7.3\",\"7.2\",\"6.9\",\"6.2\",\"6.1\",\"6.3\",\"6.1\",\"5.8\",\"5.7\",\"5.7\",\"5.6\",\"5.4\",\"6.3\",\"6.2\",\"5.9\",\"5.3\",\"5.4\",\"5.5\",\"5.5\",\"5.4\",\"5.2\",\"5\",\"5.2\",\"5\",\"6\",\"5.6\",\"5.2\",\"5.1\",\"5\",\"5.5\",\"5.3\",\"5.1\",\"5.1\",\"5\",\"5.2\",\"5.1\",\"6\",\"5.9\",\"5.5\",\"5.3\",\"5.2\",\"5.4\",\"5.6\",\"5.5\",\"5.6\",\"5.5\",\"5.9\",\"6\",\"7.1\",\"7.3\",\"7.2\",\"6.5\",\"6.7\",\"7\",\"6.8\",\"6.6\",\"6.5\",\"6.5\",\"6.7\",\"6.9\",\"8.1\",\"8.2\",\"7.8\",\"7.2\",\"7.3\",\"8\",\"7.7\",\"7.4\",\"7.3\",\"6.9\",\"7.1\",\"7.1\",\"8\",\"7.8\",\"7.4\",\"6.9\",\"6.8\",\"7.2\",\"7\",\"6.6\",\"6.4\",\"6.4\",\"6.2\",\"6.1\",\"7.3\",\"7.1\",\"6.8\",\"6.2\",\"5.9\",\"6.2\",\"6.2\",\"5.9\",\"5.6\",\"5.4\",\"5.3\",\"5.1\",\"6.2\",\"5.9\",\"5.7\",\"5.6\",\"5.5\",\"5.8\",\"5.9\",\"5.6\",\"5.4\",\"5.2\",\"5.3\",\"5.2\",\"6.3\",\"6\",\"5.8\",\"5.4\",\"5.4\",\"5.5\",\"5.6\",\"5.1\",\"5\",\"4.9\",\"5\",\"5\",\"5.9\",\"5.7\",\"5.5\",\"4.8\",\"4.7\",\"5.2\",\"5\",\"4.8\",\"4.7\",\"4.4\",\"4.3\",\"4.4\",\"5.2\",\"5\",\"5\",\"4.1\",\"4.2\",\"4.7\",\"4.7\",\"4.5\",\"4.4\",\"4.2\",\"4.1\",\"4\",\"4.8\",\"4.7\",\"4.4\",\"4.1\",\"4\",\"4.5\",\"4.5\",\"4.2\",\"4.1\",\"3.8\",\"3.8\",\"3.7\",\"4.5\",\"4.4\",\"4.3\",\"3.7\",\"3.8\",\"4.1\",\"4.2\",\"4.1\",\"3.8\",\"3.6\",\"3.7\",\"3.7\",\"4.7\",\"4.6\",\"4.5\",\"4.2\",\"4.1\",\"4.7\",\"4.7\",\"4.9\",\"4.7\",\"5\",\"5.3\",\"5.4\",\"6.3\",\"6.1\",\"6.1\",\"5.7\",\"5.5\",\"6\",\"5.9\",\"5.7\",\"5.4\",\"5.3\",\"5.6\",\"5.7\",\"6.5\",\"6.4\",\"6.2\",\"5.8\",\"5.8\",\"6.5\",\"6.3\",\"6\",\"5.8\",\"5.6\",\"5.6\",\"5.4\",\"6.3\",\"6\",\"6\",\"5.4\",\"5.3\",\"5.8\",\"5.7\",\"5.4\",\"5.1\",\"5.1\",\"5.2\",\"5.1\",\"5.7\",\"5.8\",\"5.4\",\"4.9\",\"4.9\",\"5.2\",\"5.2\",\"4.9\",\"4.8\",\"4.6\",\"4.8\",\"4.6\",\"5.1\",\"5.1\",\"4.8\",\"4.5\",\"4.4\",\"4.8\",\"5\",\"4.6\",\"4.4\",\"4.1\",\"4.3\",\"4.3\",\"5\",\"4.9\",\"4.5\",\"4.3\",\"4.3\",\"4.7\",\"4.9\",\"4.6\",\"4.5\",\"4.4\",\"4.5\",\"4.8\",\"5.4\",\"5.2\",\"5.2\",\"4.8\",\"5.2\",\"5.7\",\"6\",\"6.1\",\"6\",\"6.1\",\"6.5\",\"7.1\",\"8.5\",\"8.9\",\"9\",\"8.6\",\"9.1\",\"9.7\",\"9.7\",\"9.6\",\"9.5\",\"9.5\",\"9.4\",\"9.7\",\"10.6\",\"10.4\",\"10.2\",\"9.5\",\"9.3\",\"9.6\",\"9.7\",\"9.5\",\"9.2\",\"9\",\"9.3\",\"9.1\",\"9.8\",\"9.5\",\"9.2\",\"8.7\",\"8.7\",\"9.3\",\"9.3\",\"9.1\",\"8.8\",\"8.5\",\"8.2\",\"8.3\",\"8.8\",\"8.7\",\"8.4\",\"7.7\",\"7.9\",\"8.4\",\"8.6\",\"8.2\",\"7.6\",\"7.5\",\"7.4\",\"7.6\",\"8.5\",\"8.1\",\"7.6\",\"7.1\",\"7.3\",\"7.8\",\"7.7\",\"7.3\",\"7\",\"7\",\"6.6\",\"6.5\",\"7\",\"7\",\"6.8\",\"5.9\",\"6.1\",\"6.3\",\"6.5\",\"6.3\",\"5.7\",\"5.5\",\"5.5\",\"5.4\",\"6.1\",\"5.8\",\"5.6\",\"5.1\",\"5.3\",\"5.5\",\"5.6\",\"5.2\",\"4.9\",\"4.8\",\"4.8\",\"4.8\",\"5.3\",\"5.2\",\"5.1\",\"4.7\",\"4.5\",\"5.1\",\"5.1\",\"5\",\"4.8\",\"4.7\",\"4.4\",\"4.5\"],\"zvalues\":{\"__ndarray__\":\"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\",\"dtype\":\"float64\",\"order\":\"little\",\"shape\":[828]}},\"selected\":{\"id\":\"1998\"},\"selection_policy\":{\"id\":\"2022\"}},\"id\":\"1997\",\"type\":\"ColumnDataSource\"},{\"attributes\":{},\"id\":\"2022\",\"type\":\"UnionRenderers\"},{\"attributes\":{},\"id\":\"1978\",\"type\":\"CategoricalTicker\"},{\"attributes\":{\"bottom_units\":\"screen\",\"coordinates\":null,\"fill_alpha\":0.5,\"fill_color\":\"lightgrey\",\"group\":null,\"left_units\":\"screen\",\"level\":\"overlay\",\"line_alpha\":1.0,\"line_color\":\"black\",\"line_dash\":[4,4],\"line_width\":2,\"right_units\":\"screen\",\"syncable\":false,\"top_units\":\"screen\"},\"id\":\"1988\",\"type\":\"BoxAnnotation\"},{\"attributes\":{},\"id\":\"1981\",\"type\":\"CategoricalTicker\"},{\"attributes\":{},\"id\":\"2009\",\"type\":\"CategoricalTickFormatter\"},{\"attributes\":{},\"id\":\"2010\",\"type\":\"AllLabels\"},{\"attributes\":{\"fill_alpha\":{\"value\":0.1},\"fill_color\":{\"field\":\"zvalues\",\"transform\":{\"id\":\"1996\"}},\"hatch_alpha\":{\"value\":0.1},\"height\":{\"value\":1},\"line_alpha\":{\"value\":0},\"line_color\":{\"value\":\"#1f77b4\"},\"width\":{\"value\":1},\"x\":{\"field\":\"columns\"},\"y\":{\"field\":\"index\"}},\"id\":\"2001\",\"type\":\"Rect\"},{\"attributes\":{},\"id\":\"1973\",\"type\":\"CategoricalScale\"},{\"attributes\":{\"axis\":{\"id\":\"1980\"},\"coordinates\":null,\"dimension\":1,\"grid_line_color\":null,\"group\":null,\"ticker\":null},\"id\":\"1982\",\"type\":\"Grid\"},{\"attributes\":{},\"id\":\"2013\",\"type\":\"AllLabels\"},{\"attributes\":{},\"id\":\"1998\",\"type\":\"Selection\"},{\"attributes\":{\"factors\":[\"Jan\",\"Feb\",\"Mar\",\"Apr\",\"May\",\"Jun\",\"Jul\",\"Aug\",\"Sep\",\"Oct\",\"Nov\",\"Dec\"],\"tags\":[[[\"index\",\"index\",null]]]},\"id\":\"1966\",\"type\":\"FactorRange\"},{\"attributes\":{\"fill_alpha\":{\"value\":0.2},\"fill_color\":{\"field\":\"zvalues\",\"transform\":{\"id\":\"1996\"}},\"hatch_alpha\":{\"value\":0.2},\"height\":{\"value\":1},\"line_alpha\":{\"value\":0},\"line_color\":{\"value\":\"#1f77b4\"},\"width\":{\"value\":1},\"x\":{\"field\":\"columns\"},\"y\":{\"field\":\"index\"}},\"id\":\"2003\",\"type\":\"Rect\"},{\"attributes\":{\"callback\":null,\"renderers\":[{\"id\":\"2004\"}],\"tags\":[\"hv_created\"],\"tooltips\":[[\"columns\",\"@{columns}\"],[\"index\",\"@{index}\"],[\"value\",\"@{value}\"]]},\"id\":\"1967\",\"type\":\"HoverTool\"},{\"attributes\":{\"above\":[{\"id\":\"1977\"}],\"below\":[],\"center\":[{\"id\":\"1979\"},{\"id\":\"1982\"}],\"height\":500,\"left\":[{\"id\":\"1980\"}],\"margin\":[5,5,5,5],\"min_border_bottom\":10,\"min_border_left\":10,\"min_border_right\":10,\"min_border_top\":10,\"renderers\":[{\"id\":\"2004\"}],\"right\":[{\"id\":\"2007\"}],\"sizing_mode\":\"fixed\",\"title\":{\"id\":\"1969\"},\"toolbar\":{\"id\":\"1989\"},\"width\":1000,\"x_range\":{\"id\":\"1965\"},\"x_scale\":{\"id\":\"1973\"},\"y_range\":{\"id\":\"1966\"},\"y_scale\":{\"id\":\"1975\"}},\"id\":\"1968\",\"subtype\":\"Figure\",\"type\":\"Plot\"},{\"attributes\":{\"coordinates\":null,\"data_source\":{\"id\":\"1997\"},\"glyph\":{\"id\":\"2000\"},\"group\":null,\"hover_glyph\":null,\"muted_glyph\":{\"id\":\"2003\"},\"nonselection_glyph\":{\"id\":\"2001\"},\"selection_glyph\":{\"id\":\"2002\"},\"view\":{\"id\":\"2005\"}},\"id\":\"2004\",\"type\":\"GlyphRenderer\"},{\"attributes\":{},\"id\":\"2018\",\"type\":\"NoOverlap\"}],\"root_ids\":[\"1963\"]},\"title\":\"Bokeh Application\",\"version\":\"2.4.3\"}};\n",
       "    var render_items = [{\"docid\":\"0172c588-94cf-4f27-bf25-97ff2eaa276f\",\"root_ids\":[\"1963\"],\"roots\":{\"1963\":\"7b1f7a42-3b3c-4594-bb21-9eeafbf69f98\"}}];\n",
       "    root.Bokeh.embed.embed_items_notebook(docs_json, render_items);\n",
       "  }\n",
       "  if (root.Bokeh !== undefined && root.Bokeh.Panel !== undefined) {\n",
       "    embed_document(root);\n",
       "  } else {\n",
       "    var attempts = 0;\n",
       "    var timer = setInterval(function(root) {\n",
       "      if (root.Bokeh !== undefined && root.Bokeh.Panel !== undefined) {\n",
       "        clearInterval(timer);\n",
       "        embed_document(root);\n",
       "      } else if (document.readyState == \"complete\") {\n",
       "        attempts++;\n",
       "        if (attempts > 200) {\n",
       "          clearInterval(timer);\n",
       "          console.log(\"Bokeh: ERROR: Unable to run BokehJS code because BokehJS library is missing\");\n",
       "        }\n",
       "      }\n",
       "    }, 25, root)\n",
       "  }\n",
       "})(window);</script>"
      ],
      "text/plain": [
       ":HeatMap   [columns,index]   (value)"
      ]
     },
     "execution_count": 21,
     "metadata": {
      "application/vnd.holoviews_exec.v0+json": {
       "id": "1963"
      }
     },
     "output_type": "execute_result"
    }
   ],
   "source": [
    "unemployment_df = unemployment_df.set_index(\"Year\").drop(\"Annual\", axis=1).transpose()\n",
    "unemployment_df.hvplot.heatmap(\n",
    "    x=\"columns\",\n",
    "    y=\"index\",\n",
    "    title=\"US Unemployment 1948—2016\",\n",
    "    cmap=[\n",
    "        \"#75968f\",\n",
    "        \"#a5bab7\",\n",
    "        \"#c9d9d3\",\n",
    "        \"#e2e2e2\",\n",
    "        \"#dfccce\",\n",
    "        \"#ddb7b1\",\n",
    "        \"#cc7878\",\n",
    "        \"#933b41\",\n",
    "        \"#550b1d\",\n",
    "    ],\n",
    "    xaxis=\"top\",\n",
    "    rot=70,\n",
    "    width=1000,\n",
    "    height=500,\n",
    ").opts(fontsize={\"title\": 10, \"xticks\": 5, \"yticks\": 5})"
   ]
  },
  {
   "cell_type": "code",
   "execution_count": 22,
   "metadata": {},
   "outputs": [
    {
     "data": {},
     "metadata": {},
     "output_type": "display_data"
    },
    {
     "data": {
      "application/vnd.holoviews_exec.v0+json": "",
      "text/html": [
       "<div id='2082'>\n",
       "  <div class=\"bk-root\" id=\"9b3355d7-fc49-49a4-9382-3bd0a68cc037\" data-root-id=\"2082\"></div>\n",
       "</div>\n",
       "<script type=\"application/javascript\">(function(root) {\n",
       "  function embed_document(root) {\n",
       "    var docs_json = {\"e44fff70-9360-4f7f-8e75-d8afd97f1dad\":{\"defs\":[{\"extends\":null,\"module\":null,\"name\":\"ReactiveHTML1\",\"overrides\":[],\"properties\":[]},{\"extends\":null,\"module\":null,\"name\":\"FlexBox1\",\"overrides\":[],\"properties\":[{\"default\":\"flex-start\",\"kind\":null,\"name\":\"align_content\"},{\"default\":\"flex-start\",\"kind\":null,\"name\":\"align_items\"},{\"default\":\"row\",\"kind\":null,\"name\":\"flex_direction\"},{\"default\":\"wrap\",\"kind\":null,\"name\":\"flex_wrap\"},{\"default\":\"flex-start\",\"kind\":null,\"name\":\"justify_content\"}]},{\"extends\":null,\"module\":null,\"name\":\"GridStack1\",\"overrides\":[],\"properties\":[{\"default\":\"warn\",\"kind\":null,\"name\":\"mode\"},{\"default\":null,\"kind\":null,\"name\":\"ncols\"},{\"default\":null,\"kind\":null,\"name\":\"nrows\"},{\"default\":true,\"kind\":null,\"name\":\"allow_resize\"},{\"default\":true,\"kind\":null,\"name\":\"allow_drag\"},{\"default\":[],\"kind\":null,\"name\":\"state\"}]},{\"extends\":null,\"module\":null,\"name\":\"click1\",\"overrides\":[],\"properties\":[{\"default\":\"\",\"kind\":null,\"name\":\"terminal_output\"},{\"default\":\"\",\"kind\":null,\"name\":\"debug_name\"},{\"default\":0,\"kind\":null,\"name\":\"clears\"}]},{\"extends\":null,\"module\":null,\"name\":\"NotificationAreaBase1\",\"overrides\":[],\"properties\":[{\"default\":\"bottom-right\",\"kind\":null,\"name\":\"position\"},{\"default\":0,\"kind\":null,\"name\":\"_clear\"}]},{\"extends\":null,\"module\":null,\"name\":\"NotificationArea1\",\"overrides\":[],\"properties\":[{\"default\":[],\"kind\":null,\"name\":\"notifications\"},{\"default\":\"bottom-right\",\"kind\":null,\"name\":\"position\"},{\"default\":0,\"kind\":null,\"name\":\"_clear\"},{\"default\":[{\"background\":\"#ffc107\",\"icon\":{\"className\":\"fas fa-exclamation-triangle\",\"color\":\"white\",\"tagName\":\"i\"},\"type\":\"warning\"},{\"background\":\"#007bff\",\"icon\":{\"className\":\"fas fa-info-circle\",\"color\":\"white\",\"tagName\":\"i\"},\"type\":\"info\"}],\"kind\":null,\"name\":\"types\"}]},{\"extends\":null,\"module\":null,\"name\":\"Notification\",\"overrides\":[],\"properties\":[{\"default\":null,\"kind\":null,\"name\":\"background\"},{\"default\":3000,\"kind\":null,\"name\":\"duration\"},{\"default\":null,\"kind\":null,\"name\":\"icon\"},{\"default\":\"\",\"kind\":null,\"name\":\"message\"},{\"default\":null,\"kind\":null,\"name\":\"notification_type\"},{\"default\":false,\"kind\":null,\"name\":\"_destroyed\"}]},{\"extends\":null,\"module\":null,\"name\":\"TemplateActions1\",\"overrides\":[],\"properties\":[{\"default\":0,\"kind\":null,\"name\":\"open_modal\"},{\"default\":0,\"kind\":null,\"name\":\"close_modal\"}]},{\"extends\":null,\"module\":null,\"name\":\"MaterialTemplateActions1\",\"overrides\":[],\"properties\":[{\"default\":0,\"kind\":null,\"name\":\"open_modal\"},{\"default\":0,\"kind\":null,\"name\":\"close_modal\"}]}],\"roots\":{\"references\":[{\"attributes\":{},\"id\":\"2101\",\"type\":\"BasicTicker\"},{\"attributes\":{\"bottom_units\":\"screen\",\"coordinates\":null,\"fill_alpha\":0.5,\"fill_color\":\"lightgrey\",\"group\":null,\"left_units\":\"screen\",\"level\":\"overlay\",\"line_alpha\":1.0,\"line_color\":\"black\",\"line_dash\":[4,4],\"line_width\":2,\"right_units\":\"screen\",\"syncable\":false,\"top_units\":\"screen\"},\"id\":\"2109\",\"type\":\"BoxAnnotation\"},{\"attributes\":{\"margin\":[5,5,5,5],\"name\":\"HSpacer02604\",\"sizing_mode\":\"stretch_width\"},\"id\":\"2083\",\"type\":\"Spacer\"},{\"attributes\":{\"axis\":{\"id\":\"2096\"},\"coordinates\":null,\"grid_line_color\":null,\"group\":null,\"ticker\":null},\"id\":\"2099\",\"type\":\"Grid\"},{\"attributes\":{\"callback\":null,\"renderers\":[{\"id\":\"2123\"}],\"tags\":[\"hv_created\"],\"tooltips\":[[\"Year\",\"@{Year}\"],[\"Suicides per 100k\",\"@{Suicides_per_100k}\"]]},\"id\":\"2086\",\"type\":\"HoverTool\"},{\"attributes\":{\"line_color\":\"#30a2da\",\"line_width\":2,\"x\":{\"field\":\"Year\"},\"y\":{\"field\":\"Suicides per 100k\"}},\"id\":\"2125\",\"type\":\"Line\"},{\"attributes\":{},\"id\":\"2097\",\"type\":\"BasicTicker\"},{\"attributes\":{\"axis_label\":\"Suicides per 100k\",\"coordinates\":null,\"formatter\":{\"id\":\"2130\"},\"group\":null,\"major_label_policy\":{\"id\":\"2131\"},\"ticker\":{\"id\":\"2101\"}},\"id\":\"2100\",\"type\":\"LinearAxis\"},{\"attributes\":{\"children\":[{\"id\":\"2083\"},{\"id\":\"2087\"},{\"id\":\"2142\"}],\"margin\":[0,0,0,0],\"name\":\"Row02600\",\"tags\":[\"embedded\"]},\"id\":\"2082\",\"type\":\"Row\"},{\"attributes\":{\"axis_label\":\"Year\",\"coordinates\":null,\"formatter\":{\"id\":\"2127\"},\"group\":null,\"major_label_policy\":{\"id\":\"2128\"},\"ticker\":{\"id\":\"2097\"}},\"id\":\"2096\",\"type\":\"LinearAxis\"},{\"attributes\":{\"line_color\":\"#30a2da\",\"line_width\":2,\"x\":{\"field\":\"Year\"},\"y\":{\"field\":\"Suicides per 100k\"}},\"id\":\"2120\",\"type\":\"Line\"},{\"attributes\":{\"data\":{\"Suicides per 100k\":{\"__ndarray__\":\"AAAAAAAAKUAAAAAAAAAqQJqZmZmZmSlAAAAAAAAAKUCamZmZmZkoQAAAAAAAAClAmpmZmZmZKEAzMzMzMzMoQGZmZmZmZihAMzMzMzMzKEAAAAAAAAAoQGZmZmZmZidAzczMzMzMJkCamZmZmZkmQGZmZmZmZiVAzczMzMzMJUCamZmZmZklQM3MzMzMzCVAmpmZmZmZJUDNzMzMzMwlQM3MzMzMzCVAzczMzMzMJUCamZmZmZkmQDMzMzMzMydAmpmZmZmZJ0AzMzMzMzMoQJqZmZmZmShAMzMzMzMzKUAzMzMzMzMpQAAAAAAAACpAmpmZmZmZKkA=\",\"dtype\":\"float64\",\"order\":\"little\",\"shape\":[31]},\"Suicides_per_100k\":{\"__ndarray__\":\"AAAAAAAAKUAAAAAAAAAqQJqZmZmZmSlAAAAAAAAAKUCamZmZmZkoQAAAAAAAAClAmpmZmZmZKEAzMzMzMzMoQGZmZmZmZihAMzMzMzMzKEAAAAAAAAAoQGZmZmZmZidAzczMzMzMJkCamZmZmZkmQGZmZmZmZiVAzczMzMzMJUCamZmZmZklQM3MzMzMzCVAmpmZmZmZJUDNzMzMzMwlQM3MzMzMzCVAzczMzMzMJUCamZmZmZkmQDMzMzMzMydAmpmZmZmZJ0AzMzMzMzMoQJqZmZmZmShAMzMzMzMzKUAzMzMzMzMpQAAAAAAAACpAmpmZmZmZKkA=\",\"dtype\":\"float64\",\"order\":\"little\",\"shape\":[31]},\"Year\":[1985,1986,1987,1988,1989,1990,1991,1992,1993,1994,1995,1996,1997,1998,1999,2000,2001,2002,2003,2004,2005,2006,2007,2008,2009,2010,2011,2012,2013,2014,2015]},\"selected\":{\"id\":\"2118\"},\"selection_policy\":{\"id\":\"2139\"}},\"id\":\"2117\",\"type\":\"ColumnDataSource\"},{\"attributes\":{\"axis\":{\"id\":\"2100\"},\"coordinates\":null,\"dimension\":1,\"grid_line_color\":null,\"group\":null,\"ticker\":null},\"id\":\"2103\",\"type\":\"Grid\"},{\"attributes\":{},\"id\":\"2130\",\"type\":\"BasicTickFormatter\"},{\"attributes\":{},\"id\":\"2128\",\"type\":\"AllLabels\"},{\"attributes\":{\"end\":13.56,\"reset_end\":13.56,\"reset_start\":10.44,\"start\":10.44,\"tags\":[[[\"Suicides per 100k\",\"Suicides per 100k\",null]]]},\"id\":\"2085\",\"type\":\"Range1d\"},{\"attributes\":{\"below\":[{\"id\":\"2096\"}],\"center\":[{\"id\":\"2099\"},{\"id\":\"2103\"}],\"height\":300,\"left\":[{\"id\":\"2100\"}],\"margin\":[5,5,5,5],\"min_border_bottom\":10,\"min_border_left\":10,\"min_border_right\":10,\"min_border_top\":10,\"renderers\":[{\"id\":\"2123\"}],\"sizing_mode\":\"fixed\",\"title\":{\"id\":\"2088\"},\"toolbar\":{\"id\":\"2110\"},\"width\":700,\"x_range\":{\"id\":\"2084\"},\"x_scale\":{\"id\":\"2092\"},\"y_range\":{\"id\":\"2085\"},\"y_scale\":{\"id\":\"2094\"}},\"id\":\"2087\",\"subtype\":\"Figure\",\"type\":\"Plot\"},{\"attributes\":{\"line_alpha\":0.2,\"line_color\":\"#30a2da\",\"line_width\":2,\"x\":{\"field\":\"Year\"},\"y\":{\"field\":\"Suicides per 100k\"}},\"id\":\"2122\",\"type\":\"Line\"},{\"attributes\":{},\"id\":\"2131\",\"type\":\"AllLabels\"},{\"attributes\":{\"source\":{\"id\":\"2117\"}},\"id\":\"2124\",\"type\":\"CDSView\"},{\"attributes\":{\"line_alpha\":0.1,\"line_color\":\"#30a2da\",\"line_width\":2,\"x\":{\"field\":\"Year\"},\"y\":{\"field\":\"Suicides per 100k\"}},\"id\":\"2121\",\"type\":\"Line\"},{\"attributes\":{\"margin\":[5,5,5,5],\"name\":\"HSpacer02605\",\"sizing_mode\":\"stretch_width\"},\"id\":\"2142\",\"type\":\"Spacer\"},{\"attributes\":{},\"id\":\"2092\",\"type\":\"LinearScale\"},{\"attributes\":{},\"id\":\"2104\",\"type\":\"SaveTool\"},{\"attributes\":{},\"id\":\"2127\",\"type\":\"BasicTickFormatter\"},{\"attributes\":{},\"id\":\"2105\",\"type\":\"PanTool\"},{\"attributes\":{},\"id\":\"2118\",\"type\":\"Selection\"},{\"attributes\":{},\"id\":\"2108\",\"type\":\"ResetTool\"},{\"attributes\":{},\"id\":\"2139\",\"type\":\"UnionRenderers\"},{\"attributes\":{\"end\":2015.0,\"reset_end\":2015.0,\"reset_start\":1985.0,\"start\":1985.0,\"tags\":[[[\"Year\",\"Year\",null]]]},\"id\":\"2084\",\"type\":\"Range1d\"},{\"attributes\":{\"coordinates\":null,\"group\":null,\"text_color\":\"black\",\"text_font_size\":\"12pt\"},\"id\":\"2088\",\"type\":\"Title\"},{\"attributes\":{},\"id\":\"2106\",\"type\":\"WheelZoomTool\"},{\"attributes\":{\"coordinates\":null,\"data_source\":{\"id\":\"2117\"},\"glyph\":{\"id\":\"2120\"},\"group\":null,\"hover_glyph\":null,\"muted_glyph\":{\"id\":\"2122\"},\"nonselection_glyph\":{\"id\":\"2121\"},\"selection_glyph\":{\"id\":\"2125\"},\"view\":{\"id\":\"2124\"}},\"id\":\"2123\",\"type\":\"GlyphRenderer\"},{\"attributes\":{\"overlay\":{\"id\":\"2109\"}},\"id\":\"2107\",\"type\":\"BoxZoomTool\"},{\"attributes\":{},\"id\":\"2094\",\"type\":\"LinearScale\"},{\"attributes\":{\"tools\":[{\"id\":\"2086\"},{\"id\":\"2104\"},{\"id\":\"2105\"},{\"id\":\"2106\"},{\"id\":\"2107\"},{\"id\":\"2108\"}]},\"id\":\"2110\",\"type\":\"Toolbar\"}],\"root_ids\":[\"2082\"]},\"title\":\"Bokeh Application\",\"version\":\"2.4.3\"}};\n",
       "    var render_items = [{\"docid\":\"e44fff70-9360-4f7f-8e75-d8afd97f1dad\",\"root_ids\":[\"2082\"],\"roots\":{\"2082\":\"9b3355d7-fc49-49a4-9382-3bd0a68cc037\"}}];\n",
       "    root.Bokeh.embed.embed_items_notebook(docs_json, render_items);\n",
       "  }\n",
       "  if (root.Bokeh !== undefined && root.Bokeh.Panel !== undefined) {\n",
       "    embed_document(root);\n",
       "  } else {\n",
       "    var attempts = 0;\n",
       "    var timer = setInterval(function(root) {\n",
       "      if (root.Bokeh !== undefined && root.Bokeh.Panel !== undefined) {\n",
       "        clearInterval(timer);\n",
       "        embed_document(root);\n",
       "      } else if (document.readyState == \"complete\") {\n",
       "        attempts++;\n",
       "        if (attempts > 200) {\n",
       "          clearInterval(timer);\n",
       "          console.log(\"Bokeh: ERROR: Unable to run BokehJS code because BokehJS library is missing\");\n",
       "        }\n",
       "      }\n",
       "    }, 25, root)\n",
       "  }\n",
       "})(window);</script>"
      ],
      "text/plain": [
       ":Curve   [Year]   (Suicides per 100k)"
      ]
     },
     "execution_count": 22,
     "metadata": {
      "application/vnd.holoviews_exec.v0+json": {
       "id": "2082"
      }
     },
     "output_type": "execute_result"
    }
   ],
   "source": [
    "us_suicide_rates.hvplot(x=\"Year\", y=\"Suicides per 100k\")"
   ]
  },
  {
   "cell_type": "code",
   "execution_count": 23,
   "metadata": {},
   "outputs": [
    {
     "data": {},
     "metadata": {},
     "output_type": "display_data"
    },
    {
     "data": {
      "application/vnd.holoviews_exec.v0+json": "",
      "text/html": [
       "<div id='2194'>\n",
       "  <div class=\"bk-root\" id=\"5fd36b47-3ac9-4d6d-84a7-1c02e42b3506\" data-root-id=\"2194\"></div>\n",
       "</div>\n",
       "<script type=\"application/javascript\">(function(root) {\n",
       "  function embed_document(root) {\n",
       "    var docs_json = {\"a68378fe-2494-448c-9af8-55f72e6a3bf3\":{\"defs\":[{\"extends\":null,\"module\":null,\"name\":\"ReactiveHTML1\",\"overrides\":[],\"properties\":[]},{\"extends\":null,\"module\":null,\"name\":\"FlexBox1\",\"overrides\":[],\"properties\":[{\"default\":\"flex-start\",\"kind\":null,\"name\":\"align_content\"},{\"default\":\"flex-start\",\"kind\":null,\"name\":\"align_items\"},{\"default\":\"row\",\"kind\":null,\"name\":\"flex_direction\"},{\"default\":\"wrap\",\"kind\":null,\"name\":\"flex_wrap\"},{\"default\":\"flex-start\",\"kind\":null,\"name\":\"justify_content\"}]},{\"extends\":null,\"module\":null,\"name\":\"GridStack1\",\"overrides\":[],\"properties\":[{\"default\":\"warn\",\"kind\":null,\"name\":\"mode\"},{\"default\":null,\"kind\":null,\"name\":\"ncols\"},{\"default\":null,\"kind\":null,\"name\":\"nrows\"},{\"default\":true,\"kind\":null,\"name\":\"allow_resize\"},{\"default\":true,\"kind\":null,\"name\":\"allow_drag\"},{\"default\":[],\"kind\":null,\"name\":\"state\"}]},{\"extends\":null,\"module\":null,\"name\":\"click1\",\"overrides\":[],\"properties\":[{\"default\":\"\",\"kind\":null,\"name\":\"terminal_output\"},{\"default\":\"\",\"kind\":null,\"name\":\"debug_name\"},{\"default\":0,\"kind\":null,\"name\":\"clears\"}]},{\"extends\":null,\"module\":null,\"name\":\"NotificationAreaBase1\",\"overrides\":[],\"properties\":[{\"default\":\"bottom-right\",\"kind\":null,\"name\":\"position\"},{\"default\":0,\"kind\":null,\"name\":\"_clear\"}]},{\"extends\":null,\"module\":null,\"name\":\"NotificationArea1\",\"overrides\":[],\"properties\":[{\"default\":[],\"kind\":null,\"name\":\"notifications\"},{\"default\":\"bottom-right\",\"kind\":null,\"name\":\"position\"},{\"default\":0,\"kind\":null,\"name\":\"_clear\"},{\"default\":[{\"background\":\"#ffc107\",\"icon\":{\"className\":\"fas fa-exclamation-triangle\",\"color\":\"white\",\"tagName\":\"i\"},\"type\":\"warning\"},{\"background\":\"#007bff\",\"icon\":{\"className\":\"fas fa-info-circle\",\"color\":\"white\",\"tagName\":\"i\"},\"type\":\"info\"}],\"kind\":null,\"name\":\"types\"}]},{\"extends\":null,\"module\":null,\"name\":\"Notification\",\"overrides\":[],\"properties\":[{\"default\":null,\"kind\":null,\"name\":\"background\"},{\"default\":3000,\"kind\":null,\"name\":\"duration\"},{\"default\":null,\"kind\":null,\"name\":\"icon\"},{\"default\":\"\",\"kind\":null,\"name\":\"message\"},{\"default\":null,\"kind\":null,\"name\":\"notification_type\"},{\"default\":false,\"kind\":null,\"name\":\"_destroyed\"}]},{\"extends\":null,\"module\":null,\"name\":\"TemplateActions1\",\"overrides\":[],\"properties\":[{\"default\":0,\"kind\":null,\"name\":\"open_modal\"},{\"default\":0,\"kind\":null,\"name\":\"close_modal\"}]},{\"extends\":null,\"module\":null,\"name\":\"MaterialTemplateActions1\",\"overrides\":[],\"properties\":[{\"default\":0,\"kind\":null,\"name\":\"open_modal\"},{\"default\":0,\"kind\":null,\"name\":\"close_modal\"}]}],\"roots\":{\"references\":[{\"attributes\":{\"tools\":[{\"id\":\"2245\"},{\"id\":\"2263\"},{\"id\":\"2264\"},{\"id\":\"2265\"},{\"id\":\"2266\"},{\"id\":\"2267\"}]},\"id\":\"2269\",\"type\":\"Toolbar\"},{\"attributes\":{\"axis\":{\"id\":\"2208\"},\"coordinates\":null,\"grid_line_color\":null,\"group\":null,\"ticker\":null},\"id\":\"2211\",\"type\":\"Grid\"},{\"attributes\":{},\"id\":\"2309\",\"type\":\"UnionRenderers\"},{\"attributes\":{},\"id\":\"2209\",\"type\":\"BasicTicker\"},{\"attributes\":{},\"id\":\"2213\",\"type\":\"BasicTicker\"},{\"attributes\":{\"coordinates\":null,\"group\":null,\"text_color\":\"black\",\"text_font_size\":\"12pt\"},\"id\":\"2200\",\"type\":\"Title\"},{\"attributes\":{},\"id\":\"2239\",\"type\":\"BasicTickFormatter\"},{\"attributes\":{\"below\":[{\"id\":\"2255\"}],\"center\":[{\"id\":\"2258\"},{\"id\":\"2262\"}],\"height\":300,\"left\":[{\"id\":\"2259\"}],\"margin\":null,\"min_border_bottom\":10,\"min_border_left\":10,\"min_border_right\":10,\"min_border_top\":10,\"renderers\":[{\"id\":\"2282\"}],\"sizing_mode\":\"fixed\",\"title\":{\"id\":\"2247\"},\"toolbar\":{\"id\":\"2269\"},\"toolbar_location\":null,\"width\":700,\"x_range\":{\"id\":\"2196\"},\"x_scale\":{\"id\":\"2251\"},\"y_range\":{\"id\":\"2244\"},\"y_scale\":{\"id\":\"2253\"}},\"id\":\"2246\",\"subtype\":\"Figure\",\"type\":\"Plot\"},{\"attributes\":{},\"id\":\"2204\",\"type\":\"LinearScale\"},{\"attributes\":{},\"id\":\"2206\",\"type\":\"LinearScale\"},{\"attributes\":{\"axis_label\":\"Divorces_per_1000\",\"coordinates\":null,\"formatter\":{\"id\":\"2242\"},\"group\":null,\"major_label_policy\":{\"id\":\"2243\"},\"ticker\":{\"id\":\"2213\"}},\"id\":\"2212\",\"type\":\"LinearAxis\"},{\"attributes\":{\"axis_label\":\"Year\",\"coordinates\":null,\"formatter\":{\"id\":\"2239\"},\"group\":null,\"major_label_policy\":{\"id\":\"2240\"},\"ticker\":{\"id\":\"2209\"}},\"id\":\"2208\",\"type\":\"LinearAxis\"},{\"attributes\":{\"data\":{\"Suicides per 100k\":{\"__ndarray__\":\"AAAAAAAAKUAAAAAAAAAqQJqZmZmZmSlAAAAAAAAAKUCamZmZmZkoQAAAAAAAAClAmpmZmZmZKEAzMzMzMzMoQGZmZmZmZihAMzMzMzMzKEAAAAAAAAAoQGZmZmZmZidAzczMzMzMJkCamZmZmZkmQGZmZmZmZiVAzczMzMzMJUCamZmZmZklQM3MzMzMzCVAmpmZmZmZJUDNzMzMzMwlQM3MzMzMzCVAzczMzMzMJUCamZmZmZkmQDMzMzMzMydAmpmZmZmZJ0AzMzMzMzMoQJqZmZmZmShA\",\"dtype\":\"float64\",\"order\":\"little\",\"shape\":[27]},\"Suicides_per_100k\":{\"__ndarray__\":\"AAAAAAAAKUAAAAAAAAAqQJqZmZmZmSlAAAAAAAAAKUCamZmZmZkoQAAAAAAAAClAmpmZmZmZKEAzMzMzMzMoQGZmZmZmZihAMzMzMzMzKEAAAAAAAAAoQGZmZmZmZidAzczMzMzMJkCamZmZmZkmQGZmZmZmZiVAzczMzMzMJUCamZmZmZklQM3MzMzMzCVAmpmZmZmZJUDNzMzMzMwlQM3MzMzMzCVAzczMzMzMJUCamZmZmZkmQDMzMzMzMydAmpmZmZmZJ0AzMzMzMzMoQJqZmZmZmShA\",\"dtype\":\"float64\",\"order\":\"little\",\"shape\":[27]},\"Year\":[1985,1986,1987,1988,1989,1990,1991,1992,1993,1994,1995,1996,1997,1998,1999,2000,2001,2002,2003,2004,2005,2006,2007,2008,2009,2010,2011]},\"selected\":{\"id\":\"2277\"},\"selection_policy\":{\"id\":\"2309\"}},\"id\":\"2276\",\"type\":\"ColumnDataSource\"},{\"attributes\":{\"line_alpha\":0.1,\"line_color\":\"#30a2da\",\"line_width\":2,\"x\":{\"field\":\"Year\"},\"y\":{\"field\":\"Suicides per 100k\"}},\"id\":\"2280\",\"type\":\"Line\"},{\"attributes\":{\"toolbars\":[{\"id\":\"2222\"},{\"id\":\"2269\"}],\"tools\":[{\"id\":\"2198\"},{\"id\":\"2216\"},{\"id\":\"2217\"},{\"id\":\"2218\"},{\"id\":\"2219\"},{\"id\":\"2220\"},{\"id\":\"2245\"},{\"id\":\"2263\"},{\"id\":\"2264\"},{\"id\":\"2265\"},{\"id\":\"2266\"},{\"id\":\"2267\"}]},\"id\":\"2314\",\"type\":\"ProxyToolbar\"},{\"attributes\":{\"axis\":{\"id\":\"2212\"},\"coordinates\":null,\"dimension\":1,\"grid_line_color\":null,\"group\":null,\"ticker\":null},\"id\":\"2215\",\"type\":\"Grid\"},{\"attributes\":{\"line_alpha\":0.2,\"line_color\":\"#30a2da\",\"line_width\":2,\"x\":{\"field\":\"Year\"},\"y\":{\"field\":\"Suicides per 100k\"}},\"id\":\"2281\",\"type\":\"Line\"},{\"attributes\":{},\"id\":\"2251\",\"type\":\"LinearScale\"},{\"attributes\":{\"coordinates\":null,\"data_source\":{\"id\":\"2229\"},\"glyph\":{\"id\":\"2232\"},\"group\":null,\"hover_glyph\":null,\"muted_glyph\":{\"id\":\"2234\"},\"nonselection_glyph\":{\"id\":\"2233\"},\"selection_glyph\":{\"id\":\"2237\"},\"view\":{\"id\":\"2236\"}},\"id\":\"2235\",\"type\":\"GlyphRenderer\"},{\"attributes\":{\"axis_label\":\"Year\",\"coordinates\":null,\"formatter\":{\"id\":\"2286\"},\"group\":null,\"major_label_policy\":{\"id\":\"2287\"},\"ticker\":{\"id\":\"2256\"}},\"id\":\"2255\",\"type\":\"LinearAxis\"},{\"attributes\":{\"source\":{\"id\":\"2229\"}},\"id\":\"2236\",\"type\":\"CDSView\"},{\"attributes\":{\"tools\":[{\"id\":\"2198\"},{\"id\":\"2216\"},{\"id\":\"2217\"},{\"id\":\"2218\"},{\"id\":\"2219\"},{\"id\":\"2220\"}]},\"id\":\"2222\",\"type\":\"Toolbar\"},{\"attributes\":{\"children\":[{\"id\":\"2315\"},{\"id\":\"2313\"}]},\"id\":\"2316\",\"type\":\"Column\"},{\"attributes\":{\"bottom_units\":\"screen\",\"coordinates\":null,\"fill_alpha\":0.5,\"fill_color\":\"lightgrey\",\"group\":null,\"left_units\":\"screen\",\"level\":\"overlay\",\"line_alpha\":1.0,\"line_color\":\"black\",\"line_dash\":[4,4],\"line_width\":2,\"right_units\":\"screen\",\"syncable\":false,\"top_units\":\"screen\"},\"id\":\"2221\",\"type\":\"BoxAnnotation\"},{\"attributes\":{},\"id\":\"2260\",\"type\":\"BasicTicker\"},{\"attributes\":{\"toolbar\":{\"id\":\"2314\"},\"toolbar_location\":\"above\"},\"id\":\"2315\",\"type\":\"ToolbarBox\"},{\"attributes\":{},\"id\":\"2298\",\"type\":\"UnionRenderers\"},{\"attributes\":{\"coordinates\":null,\"group\":null,\"text_color\":\"black\",\"text_font_size\":\"12pt\"},\"id\":\"2247\",\"type\":\"Title\"},{\"attributes\":{},\"id\":\"2216\",\"type\":\"SaveTool\"},{\"attributes\":{\"axis\":{\"id\":\"2255\"},\"coordinates\":null,\"grid_line_color\":null,\"group\":null,\"ticker\":null},\"id\":\"2258\",\"type\":\"Grid\"},{\"attributes\":{},\"id\":\"2217\",\"type\":\"PanTool\"},{\"attributes\":{},\"id\":\"2220\",\"type\":\"ResetTool\"},{\"attributes\":{},\"id\":\"2230\",\"type\":\"Selection\"},{\"attributes\":{},\"id\":\"2218\",\"type\":\"WheelZoomTool\"},{\"attributes\":{},\"id\":\"2253\",\"type\":\"LinearScale\"},{\"attributes\":{\"overlay\":{\"id\":\"2221\"}},\"id\":\"2219\",\"type\":\"BoxZoomTool\"},{\"attributes\":{\"axis_label\":\"Suicides per 100k\",\"coordinates\":null,\"formatter\":{\"id\":\"2289\"},\"group\":null,\"major_label_policy\":{\"id\":\"2290\"},\"ticker\":{\"id\":\"2260\"}},\"id\":\"2259\",\"type\":\"LinearAxis\"},{\"attributes\":{},\"id\":\"2256\",\"type\":\"BasicTicker\"},{\"attributes\":{},\"id\":\"2242\",\"type\":\"BasicTickFormatter\"},{\"attributes\":{},\"id\":\"2289\",\"type\":\"BasicTickFormatter\"},{\"attributes\":{\"margin\":[5,5,5,5],\"name\":\"HSpacer02798\",\"sizing_mode\":\"stretch_width\"},\"id\":\"2195\",\"type\":\"Spacer\"},{\"attributes\":{\"axis\":{\"id\":\"2259\"},\"coordinates\":null,\"dimension\":1,\"grid_line_color\":null,\"group\":null,\"ticker\":null},\"id\":\"2262\",\"type\":\"Grid\"},{\"attributes\":{\"coordinates\":null,\"data_source\":{\"id\":\"2276\"},\"glyph\":{\"id\":\"2279\"},\"group\":null,\"hover_glyph\":null,\"muted_glyph\":{\"id\":\"2281\"},\"nonselection_glyph\":{\"id\":\"2280\"},\"selection_glyph\":{\"id\":\"2284\"},\"view\":{\"id\":\"2283\"}},\"id\":\"2282\",\"type\":\"GlyphRenderer\"},{\"attributes\":{\"line_color\":\"maroon\",\"line_width\":2,\"x\":{\"field\":\"Year\"},\"y\":{\"field\":\"Divorces_per_1000\"}},\"id\":\"2232\",\"type\":\"Line\"},{\"attributes\":{\"line_alpha\":0.1,\"line_color\":\"maroon\",\"line_width\":2,\"x\":{\"field\":\"Year\"},\"y\":{\"field\":\"Divorces_per_1000\"}},\"id\":\"2233\",\"type\":\"Line\"},{\"attributes\":{},\"id\":\"2240\",\"type\":\"AllLabels\"},{\"attributes\":{\"callback\":null,\"renderers\":[{\"id\":\"2282\"}],\"tags\":[\"hv_created\"],\"tooltips\":[[\"Year\",\"@{Year}\"],[\"Suicides per 100k\",\"@{Suicides_per_100k}\"]]},\"id\":\"2245\",\"type\":\"HoverTool\"},{\"attributes\":{\"line_color\":\"#30a2da\",\"line_width\":2,\"x\":{\"field\":\"Year\"},\"y\":{\"field\":\"Suicides per 100k\"}},\"id\":\"2284\",\"type\":\"Line\"},{\"attributes\":{},\"id\":\"2243\",\"type\":\"AllLabels\"},{\"attributes\":{},\"id\":\"2287\",\"type\":\"AllLabels\"},{\"attributes\":{\"end\":2011.0,\"reset_end\":2011.0,\"reset_start\":1985.0,\"start\":1985.0,\"tags\":[[[\"Year\",\"Year\",null]]]},\"id\":\"2196\",\"type\":\"Range1d\"},{\"attributes\":{\"line_color\":\"#30a2da\",\"line_width\":2,\"x\":{\"field\":\"Year\"},\"y\":{\"field\":\"Suicides per 100k\"}},\"id\":\"2279\",\"type\":\"Line\"},{\"attributes\":{\"source\":{\"id\":\"2276\"}},\"id\":\"2283\",\"type\":\"CDSView\"},{\"attributes\":{},\"id\":\"2290\",\"type\":\"AllLabels\"},{\"attributes\":{},\"id\":\"2286\",\"type\":\"BasicTickFormatter\"},{\"attributes\":{\"line_color\":\"maroon\",\"line_width\":2,\"x\":{\"field\":\"Year\"},\"y\":{\"field\":\"Divorces_per_1000\"}},\"id\":\"2237\",\"type\":\"Line\"},{\"attributes\":{\"bottom_units\":\"screen\",\"coordinates\":null,\"fill_alpha\":0.5,\"fill_color\":\"lightgrey\",\"group\":null,\"left_units\":\"screen\",\"level\":\"overlay\",\"line_alpha\":1.0,\"line_color\":\"black\",\"line_dash\":[4,4],\"line_width\":2,\"right_units\":\"screen\",\"syncable\":false,\"top_units\":\"screen\"},\"id\":\"2268\",\"type\":\"BoxAnnotation\"},{\"attributes\":{\"children\":[{\"id\":\"2195\"},{\"id\":\"2316\"},{\"id\":\"2337\"}],\"margin\":[0,0,0,0],\"name\":\"Row02794\",\"tags\":[\"embedded\"]},\"id\":\"2194\",\"type\":\"Row\"},{\"attributes\":{},\"id\":\"2263\",\"type\":\"SaveTool\"},{\"attributes\":{},\"id\":\"2264\",\"type\":\"PanTool\"},{\"attributes\":{},\"id\":\"2267\",\"type\":\"ResetTool\"},{\"attributes\":{\"end\":13.23,\"reset_end\":13.23,\"reset_start\":10.469999999999999,\"start\":10.469999999999999,\"tags\":[[[\"Suicides per 100k\",\"Suicides per 100k\",null]]]},\"id\":\"2244\",\"type\":\"Range1d\"},{\"attributes\":{},\"id\":\"2265\",\"type\":\"WheelZoomTool\"},{\"attributes\":{\"overlay\":{\"id\":\"2268\"}},\"id\":\"2266\",\"type\":\"BoxZoomTool\"},{\"attributes\":{\"end\":5.23,\"reset_end\":5.23,\"reset_start\":2.47,\"start\":2.47,\"tags\":[[[\"Divorces_per_1000\",\"Divorces_per_1000\",null]]]},\"id\":\"2197\",\"type\":\"Range1d\"},{\"attributes\":{\"below\":[{\"id\":\"2208\"}],\"center\":[{\"id\":\"2211\"},{\"id\":\"2215\"}],\"height\":300,\"left\":[{\"id\":\"2212\"}],\"margin\":null,\"min_border_bottom\":10,\"min_border_left\":10,\"min_border_right\":10,\"min_border_top\":10,\"renderers\":[{\"id\":\"2235\"}],\"sizing_mode\":\"fixed\",\"title\":{\"id\":\"2200\"},\"toolbar\":{\"id\":\"2222\"},\"toolbar_location\":null,\"width\":700,\"x_range\":{\"id\":\"2196\"},\"x_scale\":{\"id\":\"2204\"},\"y_range\":{\"id\":\"2197\"},\"y_scale\":{\"id\":\"2206\"}},\"id\":\"2199\",\"subtype\":\"Figure\",\"type\":\"Plot\"},{\"attributes\":{\"children\":[[{\"id\":\"2199\"},0,0],[{\"id\":\"2246\"},0,1]]},\"id\":\"2313\",\"type\":\"GridBox\"},{\"attributes\":{\"data\":{\"Divorces_per_1000\":{\"__ndarray__\":\"AAAAAAAAFECamZmZmZkTQDMzMzMzMxNAzczMzMzMEkDNzMzMzMwSQM3MzMzMzBJAzczMzMzMEkAzMzMzMzMTQGZmZmZmZhJAZmZmZmZmEkAAAAAAAAASQJmZmZmZmRFAMzMzMzMzEUBmZmZmZmYQQGZmZmZmZhBAZmZmZmZmCkBmZmZmZmYKQGZmZmZmZgpAmpmZmZmZCUAAAAAAAAAIQDMzMzMzMwdAMzMzMzMzB0BmZmZmZmYGQGZmZmZmZgZAmpmZmZmZBUBmZmZmZmYGQGZmZmZmZgZA\",\"dtype\":\"float64\",\"order\":\"little\",\"shape\":[27]},\"Year\":[1985,1986,1987,1988,1989,1990,1991,1992,1993,1994,1995,1996,1997,1998,1999,2000,2001,2002,2003,2004,2005,2006,2007,2008,2009,2010,2011]},\"selected\":{\"id\":\"2230\"},\"selection_policy\":{\"id\":\"2298\"}},\"id\":\"2229\",\"type\":\"ColumnDataSource\"},{\"attributes\":{},\"id\":\"2277\",\"type\":\"Selection\"},{\"attributes\":{\"margin\":[5,5,5,5],\"name\":\"HSpacer02799\",\"sizing_mode\":\"stretch_width\"},\"id\":\"2337\",\"type\":\"Spacer\"},{\"attributes\":{\"callback\":null,\"renderers\":[{\"id\":\"2235\"}],\"tags\":[\"hv_created\"],\"tooltips\":[[\"Year\",\"@{Year}\"],[\"Divorces_per_1000\",\"@{Divorces_per_1000}\"]]},\"id\":\"2198\",\"type\":\"HoverTool\"},{\"attributes\":{\"line_alpha\":0.2,\"line_color\":\"maroon\",\"line_width\":2,\"x\":{\"field\":\"Year\"},\"y\":{\"field\":\"Divorces_per_1000\"}},\"id\":\"2234\",\"type\":\"Line\"}],\"root_ids\":[\"2194\"]},\"title\":\"Bokeh Application\",\"version\":\"2.4.3\"}};\n",
       "    var render_items = [{\"docid\":\"a68378fe-2494-448c-9af8-55f72e6a3bf3\",\"root_ids\":[\"2194\"],\"roots\":{\"2194\":\"5fd36b47-3ac9-4d6d-84a7-1c02e42b3506\"}}];\n",
       "    root.Bokeh.embed.embed_items_notebook(docs_json, render_items);\n",
       "  }\n",
       "  if (root.Bokeh !== undefined && root.Bokeh.Panel !== undefined) {\n",
       "    embed_document(root);\n",
       "  } else {\n",
       "    var attempts = 0;\n",
       "    var timer = setInterval(function(root) {\n",
       "      if (root.Bokeh !== undefined && root.Bokeh.Panel !== undefined) {\n",
       "        clearInterval(timer);\n",
       "        embed_document(root);\n",
       "      } else if (document.readyState == \"complete\") {\n",
       "        attempts++;\n",
       "        if (attempts > 200) {\n",
       "          clearInterval(timer);\n",
       "          console.log(\"Bokeh: ERROR: Unable to run BokehJS code because BokehJS library is missing\");\n",
       "        }\n",
       "      }\n",
       "    }, 25, root)\n",
       "  }\n",
       "})(window);</script>"
      ],
      "text/plain": [
       ":Layout\n",
       "   .Curve.I  :Curve   [Year]   (Divorces_per_1000)\n",
       "   .Curve.II :Curve   [Year]   (Suicides per 100k)"
      ]
     },
     "execution_count": 23,
     "metadata": {
      "application/vnd.holoviews_exec.v0+json": {
       "id": "2194"
      }
     },
     "output_type": "execute_result"
    }
   ],
   "source": [
    "divorces_df.tail(27).hvplot(\n",
    "    x=\"Year\", y=\"Divorces_per_1000\", color=\"maroon\"\n",
    ") + us_suicide_rates.head(27).hvplot(x=\"Year\", y=\"Suicides per 100k\")"
   ]
  },
  {
   "cell_type": "code",
   "execution_count": 24,
   "metadata": {},
   "outputs": [
    {
     "data": {
      "text/html": [
       "<div>\n",
       "<style scoped>\n",
       "    .dataframe tbody tr th:only-of-type {\n",
       "        vertical-align: middle;\n",
       "    }\n",
       "\n",
       "    .dataframe tbody tr th {\n",
       "        vertical-align: top;\n",
       "    }\n",
       "\n",
       "    .dataframe thead th {\n",
       "        text-align: right;\n",
       "    }\n",
       "</style>\n",
       "<table border=\"1\" class=\"dataframe\">\n",
       "  <thead>\n",
       "    <tr style=\"text-align: right;\">\n",
       "      <th></th>\n",
       "      <th>Country</th>\n",
       "      <th>Year</th>\n",
       "      <th>Sex</th>\n",
       "      <th>Age</th>\n",
       "      <th>Number of Suicides</th>\n",
       "      <th>Suicides per 100k</th>\n",
       "      <th>GDP for Year ($)</th>\n",
       "      <th>GDP per Capita ($)</th>\n",
       "      <th>Generation</th>\n",
       "    </tr>\n",
       "  </thead>\n",
       "  <tbody>\n",
       "    <tr>\n",
       "      <th>0</th>\n",
       "      <td>United States</td>\n",
       "      <td>1985</td>\n",
       "      <td>male</td>\n",
       "      <td>75+ years</td>\n",
       "      <td>2177</td>\n",
       "      <td>53.57</td>\n",
       "      <td>4,346,734,000,000</td>\n",
       "      <td>19693</td>\n",
       "      <td>G.I. Generation</td>\n",
       "    </tr>\n",
       "    <tr>\n",
       "      <th>1</th>\n",
       "      <td>United States</td>\n",
       "      <td>1985</td>\n",
       "      <td>male</td>\n",
       "      <td>55-74 years</td>\n",
       "      <td>5302</td>\n",
       "      <td>29.50</td>\n",
       "      <td>4,346,734,000,000</td>\n",
       "      <td>19693</td>\n",
       "      <td>G.I. Generation</td>\n",
       "    </tr>\n",
       "    <tr>\n",
       "      <th>2</th>\n",
       "      <td>United States</td>\n",
       "      <td>1985</td>\n",
       "      <td>male</td>\n",
       "      <td>25-34 years</td>\n",
       "      <td>5134</td>\n",
       "      <td>24.46</td>\n",
       "      <td>4,346,734,000,000</td>\n",
       "      <td>19693</td>\n",
       "      <td>Boomers</td>\n",
       "    </tr>\n",
       "    <tr>\n",
       "      <th>3</th>\n",
       "      <td>United States</td>\n",
       "      <td>1985</td>\n",
       "      <td>male</td>\n",
       "      <td>35-54 years</td>\n",
       "      <td>6053</td>\n",
       "      <td>22.77</td>\n",
       "      <td>4,346,734,000,000</td>\n",
       "      <td>19693</td>\n",
       "      <td>Silent</td>\n",
       "    </tr>\n",
       "    <tr>\n",
       "      <th>4</th>\n",
       "      <td>United States</td>\n",
       "      <td>1985</td>\n",
       "      <td>male</td>\n",
       "      <td>15-24 years</td>\n",
       "      <td>4267</td>\n",
       "      <td>21.38</td>\n",
       "      <td>4,346,734,000,000</td>\n",
       "      <td>19693</td>\n",
       "      <td>Generation X</td>\n",
       "    </tr>\n",
       "  </tbody>\n",
       "</table>\n",
       "</div>"
      ],
      "text/plain": [
       "         Country  Year   Sex          Age  Number of Suicides  \\\n",
       "0  United States  1985  male    75+ years                2177   \n",
       "1  United States  1985  male  55-74 years                5302   \n",
       "2  United States  1985  male  25-34 years                5134   \n",
       "3  United States  1985  male  35-54 years                6053   \n",
       "4  United States  1985  male  15-24 years                4267   \n",
       "\n",
       "   Suicides per 100k   GDP for Year ($)  GDP per Capita ($)       Generation  \n",
       "0              53.57  4,346,734,000,000               19693  G.I. Generation  \n",
       "1              29.50  4,346,734,000,000               19693  G.I. Generation  \n",
       "2              24.46  4,346,734,000,000               19693          Boomers  \n",
       "3              22.77  4,346,734,000,000               19693           Silent  \n",
       "4              21.38  4,346,734,000,000               19693     Generation X  "
      ]
     },
     "execution_count": 24,
     "metadata": {},
     "output_type": "execute_result"
    }
   ],
   "source": [
    "us_suicides_master.head()"
   ]
  },
  {
   "cell_type": "code",
   "execution_count": 25,
   "metadata": {},
   "outputs": [
    {
     "data": {},
     "metadata": {},
     "output_type": "display_data"
    },
    {
     "data": {
      "application/vnd.holoviews_exec.v0+json": "",
      "text/html": [
       "<div id='2439'>\n",
       "  <div class=\"bk-root\" id=\"fffb93eb-305c-4982-9054-ba00f32702a6\" data-root-id=\"2439\"></div>\n",
       "</div>\n",
       "<script type=\"application/javascript\">(function(root) {\n",
       "  function embed_document(root) {\n",
       "    var docs_json = {\"fea83882-778d-4af2-b61f-0bb3faf6e3f0\":{\"defs\":[{\"extends\":null,\"module\":null,\"name\":\"ReactiveHTML1\",\"overrides\":[],\"properties\":[]},{\"extends\":null,\"module\":null,\"name\":\"FlexBox1\",\"overrides\":[],\"properties\":[{\"default\":\"flex-start\",\"kind\":null,\"name\":\"align_content\"},{\"default\":\"flex-start\",\"kind\":null,\"name\":\"align_items\"},{\"default\":\"row\",\"kind\":null,\"name\":\"flex_direction\"},{\"default\":\"wrap\",\"kind\":null,\"name\":\"flex_wrap\"},{\"default\":\"flex-start\",\"kind\":null,\"name\":\"justify_content\"}]},{\"extends\":null,\"module\":null,\"name\":\"GridStack1\",\"overrides\":[],\"properties\":[{\"default\":\"warn\",\"kind\":null,\"name\":\"mode\"},{\"default\":null,\"kind\":null,\"name\":\"ncols\"},{\"default\":null,\"kind\":null,\"name\":\"nrows\"},{\"default\":true,\"kind\":null,\"name\":\"allow_resize\"},{\"default\":true,\"kind\":null,\"name\":\"allow_drag\"},{\"default\":[],\"kind\":null,\"name\":\"state\"}]},{\"extends\":null,\"module\":null,\"name\":\"click1\",\"overrides\":[],\"properties\":[{\"default\":\"\",\"kind\":null,\"name\":\"terminal_output\"},{\"default\":\"\",\"kind\":null,\"name\":\"debug_name\"},{\"default\":0,\"kind\":null,\"name\":\"clears\"}]},{\"extends\":null,\"module\":null,\"name\":\"NotificationAreaBase1\",\"overrides\":[],\"properties\":[{\"default\":\"bottom-right\",\"kind\":null,\"name\":\"position\"},{\"default\":0,\"kind\":null,\"name\":\"_clear\"}]},{\"extends\":null,\"module\":null,\"name\":\"NotificationArea1\",\"overrides\":[],\"properties\":[{\"default\":[],\"kind\":null,\"name\":\"notifications\"},{\"default\":\"bottom-right\",\"kind\":null,\"name\":\"position\"},{\"default\":0,\"kind\":null,\"name\":\"_clear\"},{\"default\":[{\"background\":\"#ffc107\",\"icon\":{\"className\":\"fas fa-exclamation-triangle\",\"color\":\"white\",\"tagName\":\"i\"},\"type\":\"warning\"},{\"background\":\"#007bff\",\"icon\":{\"className\":\"fas fa-info-circle\",\"color\":\"white\",\"tagName\":\"i\"},\"type\":\"info\"}],\"kind\":null,\"name\":\"types\"}]},{\"extends\":null,\"module\":null,\"name\":\"Notification\",\"overrides\":[],\"properties\":[{\"default\":null,\"kind\":null,\"name\":\"background\"},{\"default\":3000,\"kind\":null,\"name\":\"duration\"},{\"default\":null,\"kind\":null,\"name\":\"icon\"},{\"default\":\"\",\"kind\":null,\"name\":\"message\"},{\"default\":null,\"kind\":null,\"name\":\"notification_type\"},{\"default\":false,\"kind\":null,\"name\":\"_destroyed\"}]},{\"extends\":null,\"module\":null,\"name\":\"TemplateActions1\",\"overrides\":[],\"properties\":[{\"default\":0,\"kind\":null,\"name\":\"open_modal\"},{\"default\":0,\"kind\":null,\"name\":\"close_modal\"}]},{\"extends\":null,\"module\":null,\"name\":\"MaterialTemplateActions1\",\"overrides\":[],\"properties\":[{\"default\":0,\"kind\":null,\"name\":\"open_modal\"},{\"default\":0,\"kind\":null,\"name\":\"close_modal\"}]}],\"roots\":{\"references\":[{\"attributes\":{\"axis\":{\"id\":\"2454\"},\"coordinates\":null,\"grid_line_color\":null,\"group\":null,\"ticker\":null},\"id\":\"2457\",\"type\":\"Grid\"},{\"attributes\":{},\"id\":\"2459\",\"type\":\"BasicTicker\"},{\"attributes\":{},\"id\":\"2491\",\"type\":\"Selection\"},{\"attributes\":{},\"id\":\"2455\",\"type\":\"BasicTicker\"},{\"attributes\":{\"coordinates\":null,\"group\":null,\"text_color\":\"black\",\"text_font_size\":\"12pt\"},\"id\":\"2446\",\"type\":\"Title\"},{\"attributes\":{\"source\":{\"id\":\"2490\"}},\"id\":\"2497\",\"type\":\"CDSView\"},{\"attributes\":{\"margin\":[5,5,5,5],\"name\":\"HSpacer03036\",\"sizing_mode\":\"stretch_width\"},\"id\":\"2511\",\"type\":\"Spacer\"},{\"attributes\":{\"overlay\":{\"id\":\"2467\"}},\"id\":\"2465\",\"type\":\"BoxZoomTool\"},{\"attributes\":{\"children\":[{\"id\":\"2440\"},{\"id\":\"2445\"},{\"id\":\"2511\"}],\"margin\":[0,0,0,0],\"name\":\"Row03031\",\"tags\":[\"embedded\"]},\"id\":\"2439\",\"type\":\"Row\"},{\"attributes\":{},\"id\":\"2452\",\"type\":\"LinearScale\"},{\"attributes\":{\"axis_label\":\"Suicides per 100k\",\"coordinates\":null,\"formatter\":{\"id\":\"2479\"},\"group\":null,\"major_label_policy\":{\"id\":\"2480\"},\"ticker\":{\"id\":\"2459\"}},\"id\":\"2458\",\"type\":\"LinearAxis\"},{\"attributes\":{\"axis_label\":\"Year\",\"coordinates\":null,\"formatter\":{\"id\":\"2476\"},\"group\":null,\"major_label_policy\":{\"id\":\"2477\"},\"ticker\":{\"id\":\"2455\"}},\"id\":\"2454\",\"type\":\"LinearAxis\"},{\"attributes\":{\"line_color\":\"#30a2da\",\"line_width\":2,\"x\":{\"field\":\"Year\"},\"y\":{\"field\":\"Suicides per 100k\"}},\"id\":\"2489\",\"type\":\"Line\"},{\"attributes\":{},\"id\":\"2450\",\"type\":\"LinearScale\"},{\"attributes\":{\"line_alpha\":0.2,\"line_color\":\"#30a2da\",\"line_width\":2,\"x\":{\"field\":\"Year\"},\"y\":{\"field\":\"Suicides per 100k\"}},\"id\":\"2486\",\"type\":\"Line\"},{\"attributes\":{},\"id\":\"2482\",\"type\":\"Selection\"},{\"attributes\":{\"axis\":{\"id\":\"2458\"},\"coordinates\":null,\"dimension\":1,\"grid_line_color\":null,\"group\":null,\"ticker\":null},\"id\":\"2461\",\"type\":\"Grid\"},{\"attributes\":{\"line_alpha\":0.1,\"line_color\":\"#30a2da\",\"line_width\":2,\"x\":{\"field\":\"Year\"},\"y\":{\"field\":\"Suicides per 100k\"}},\"id\":\"2485\",\"type\":\"Line\"},{\"attributes\":{\"line_color\":\"#fc4f30\",\"line_width\":2,\"x\":{\"field\":\"Year\"},\"y\":{\"field\":\"Suicides per 100k\"}},\"id\":\"2493\",\"type\":\"Line\"},{\"attributes\":{},\"id\":\"2506\",\"type\":\"UnionRenderers\"},{\"attributes\":{\"end\":2015.0,\"reset_end\":2015.0,\"reset_start\":1985.0,\"start\":1985.0,\"tags\":[[[\"Year\",\"Year\",null]]]},\"id\":\"2441\",\"type\":\"Range1d\"},{\"attributes\":{\"margin\":[5,5,5,5],\"name\":\"HSpacer03035\",\"sizing_mode\":\"stretch_width\"},\"id\":\"2440\",\"type\":\"Spacer\"},{\"attributes\":{\"coordinates\":null,\"data_source\":{\"id\":\"2481\"},\"glyph\":{\"id\":\"2484\"},\"group\":null,\"hover_glyph\":null,\"muted_glyph\":{\"id\":\"2486\"},\"nonselection_glyph\":{\"id\":\"2485\"},\"selection_glyph\":{\"id\":\"2489\"},\"view\":{\"id\":\"2488\"}},\"id\":\"2487\",\"type\":\"GlyphRenderer\"},{\"attributes\":{\"end\":173.209,\"reset_end\":173.209,\"reset_start\":9.301,\"start\":9.301,\"tags\":[[[\"Suicides per 100k\",\"Suicides per 100k\",null]]]},\"id\":\"2442\",\"type\":\"Range1d\"},{\"attributes\":{\"line_color\":\"#fc4f30\",\"line_width\":2,\"x\":{\"field\":\"Year\"},\"y\":{\"field\":\"Suicides per 100k\"}},\"id\":\"2498\",\"type\":\"Line\"},{\"attributes\":{\"line_alpha\":0.1,\"line_color\":\"#fc4f30\",\"line_width\":2,\"x\":{\"field\":\"Year\"},\"y\":{\"field\":\"Suicides per 100k\"}},\"id\":\"2494\",\"type\":\"Line\"},{\"attributes\":{\"data\":{\"Suicides per 100k\":{\"__ndarray__\":\"7FG4HoUbY0DhehSuR8ljQJqZmZmZ8WNAFa5H4XqUY0C4HoXrURhjQIXrUbgevWNAFK5H4XpkY0AzMzMzM6tiQOF6FK5H2WJA7FG4HoWbYkDrUbgehUtiQIXrUbgelWFAzczMzMz8YEApXI/C9dhgQK5H4XoUrl9ASOF6FK7nXkA+CtejcD1fQM3MzMzMfF9AcT0K16NwXkBSuB6F61FeQHE9CtejYF5AzczMzMzsXUAVrkfherReQClcj8L1eF9AcT0K16OgX0DhehSuR0lgQPYoXI/CjWBArkfhehTOYEBcj8L1KORgQKRwPQrXQ2FA9ihcj8KFYUA=\",\"dtype\":\"float64\",\"order\":\"little\",\"shape\":[31]},\"Suicides_per_100k\":{\"__ndarray__\":\"7FG4HoUbY0DhehSuR8ljQJqZmZmZ8WNAFa5H4XqUY0C4HoXrURhjQIXrUbgevWNAFK5H4XpkY0AzMzMzM6tiQOF6FK5H2WJA7FG4HoWbYkDrUbgehUtiQIXrUbgelWFAzczMzMz8YEApXI/C9dhgQK5H4XoUrl9ASOF6FK7nXkA+CtejcD1fQM3MzMzMfF9AcT0K16NwXkBSuB6F61FeQHE9CtejYF5AzczMzMzsXUAVrkfherReQClcj8L1eF9AcT0K16OgX0DhehSuR0lgQPYoXI/CjWBArkfhehTOYEBcj8L1KORgQKRwPQrXQ2FA9ihcj8KFYUA=\",\"dtype\":\"float64\",\"order\":\"little\",\"shape\":[31]},\"Year\":[1985,1986,1987,1988,1989,1990,1991,1992,1993,1994,1995,1996,1997,1998,1999,2000,2001,2002,2003,2004,2005,2006,2007,2008,2009,2010,2011,2012,2013,2014,2015]},\"selected\":{\"id\":\"2482\"},\"selection_policy\":{\"id\":\"2506\"}},\"id\":\"2481\",\"type\":\"ColumnDataSource\"},{\"attributes\":{\"line_alpha\":0.2,\"line_color\":\"#fc4f30\",\"line_width\":2,\"x\":{\"field\":\"Year\"},\"y\":{\"field\":\"Suicides per 100k\"}},\"id\":\"2495\",\"type\":\"Line\"},{\"attributes\":{\"data\":{\"Suicides per 100k\":{\"__ndarray__\":\"XI/C9SjcP0CuR+F6FK5AQK5H4XoUDkBAUrgehesRP0CuR+F6FK49QKRwPQrX4z1A4XoUrkehPEDsUbgehWs8QBSuR+F6VDxA7FG4HoUrO0B7FK5H4bo6QArXo3A9yjlAj8L1KFwPOkB7FK5H4bo5QM3MzMzMDDhA9ihcj8L1NkDD9Shcj0I3QFK4HoXrEThA4XoUrkfhN0AfhetRuJ45QOxRuB6FKzlArkfhehRuOUDNzMzMzEw6QJmZmZmZWTtArkfhehSuO0CZmZmZmZk8QK5H4XoU7j1AMzMzMzOzPkAK16NwPYo/QHsUrkfhmkBAPQrXo3CdQUA=\",\"dtype\":\"float64\",\"order\":\"little\",\"shape\":[31]},\"Suicides_per_100k\":{\"__ndarray__\":\"XI/C9SjcP0CuR+F6FK5AQK5H4XoUDkBAUrgehesRP0CuR+F6FK49QKRwPQrX4z1A4XoUrkehPEDsUbgehWs8QBSuR+F6VDxA7FG4HoUrO0B7FK5H4bo6QArXo3A9yjlAj8L1KFwPOkB7FK5H4bo5QM3MzMzMDDhA9ihcj8L1NkDD9Shcj0I3QFK4HoXrEThA4XoUrkfhN0AfhetRuJ45QOxRuB6FKzlArkfhehRuOUDNzMzMzEw6QJmZmZmZWTtArkfhehSuO0CZmZmZmZk8QK5H4XoU7j1AMzMzMzOzPkAK16NwPYo/QHsUrkfhmkBAPQrXo3CdQUA=\",\"dtype\":\"float64\",\"order\":\"little\",\"shape\":[31]},\"Year\":[1985,1986,1987,1988,1989,1990,1991,1992,1993,1994,1995,1996,1997,1998,1999,2000,2001,2002,2003,2004,2005,2006,2007,2008,2009,2010,2011,2012,2013,2014,2015]},\"selected\":{\"id\":\"2491\"},\"selection_policy\":{\"id\":\"2508\"}},\"id\":\"2490\",\"type\":\"ColumnDataSource\"},{\"attributes\":{},\"id\":\"2476\",\"type\":\"BasicTickFormatter\"},{\"attributes\":{\"below\":[{\"id\":\"2454\"}],\"center\":[{\"id\":\"2457\"},{\"id\":\"2461\"}],\"height\":300,\"left\":[{\"id\":\"2458\"}],\"margin\":[5,5,5,5],\"min_border_bottom\":10,\"min_border_left\":10,\"min_border_right\":10,\"min_border_top\":10,\"renderers\":[{\"id\":\"2487\"},{\"id\":\"2496\"}],\"sizing_mode\":\"fixed\",\"title\":{\"id\":\"2446\"},\"toolbar\":{\"id\":\"2468\"},\"width\":700,\"x_range\":{\"id\":\"2441\"},\"x_scale\":{\"id\":\"2450\"},\"y_range\":{\"id\":\"2442\"},\"y_scale\":{\"id\":\"2452\"}},\"id\":\"2445\",\"subtype\":\"Figure\",\"type\":\"Plot\"},{\"attributes\":{\"callback\":null,\"renderers\":[{\"id\":\"2487\"},{\"id\":\"2496\"}],\"tags\":[\"hv_created\"],\"tooltips\":[[\"Year\",\"@{Year}\"],[\"Suicides per 100k\",\"@{Suicides_per_100k}\"]]},\"id\":\"2443\",\"type\":\"HoverTool\"},{\"attributes\":{},\"id\":\"2477\",\"type\":\"AllLabels\"},{\"attributes\":{},\"id\":\"2508\",\"type\":\"UnionRenderers\"},{\"attributes\":{\"tools\":[{\"id\":\"2443\"},{\"id\":\"2462\"},{\"id\":\"2463\"},{\"id\":\"2464\"},{\"id\":\"2465\"},{\"id\":\"2466\"}]},\"id\":\"2468\",\"type\":\"Toolbar\"},{\"attributes\":{\"bottom_units\":\"screen\",\"coordinates\":null,\"fill_alpha\":0.5,\"fill_color\":\"lightgrey\",\"group\":null,\"left_units\":\"screen\",\"level\":\"overlay\",\"line_alpha\":1.0,\"line_color\":\"black\",\"line_dash\":[4,4],\"line_width\":2,\"right_units\":\"screen\",\"syncable\":false,\"top_units\":\"screen\"},\"id\":\"2467\",\"type\":\"BoxAnnotation\"},{\"attributes\":{},\"id\":\"2462\",\"type\":\"SaveTool\"},{\"attributes\":{},\"id\":\"2480\",\"type\":\"AllLabels\"},{\"attributes\":{},\"id\":\"2463\",\"type\":\"PanTool\"},{\"attributes\":{},\"id\":\"2466\",\"type\":\"ResetTool\"},{\"attributes\":{},\"id\":\"2479\",\"type\":\"BasicTickFormatter\"},{\"attributes\":{\"coordinates\":null,\"data_source\":{\"id\":\"2490\"},\"glyph\":{\"id\":\"2493\"},\"group\":null,\"hover_glyph\":null,\"muted_glyph\":{\"id\":\"2495\"},\"nonselection_glyph\":{\"id\":\"2494\"},\"selection_glyph\":{\"id\":\"2498\"},\"view\":{\"id\":\"2497\"}},\"id\":\"2496\",\"type\":\"GlyphRenderer\"},{\"attributes\":{\"line_color\":\"#30a2da\",\"line_width\":2,\"x\":{\"field\":\"Year\"},\"y\":{\"field\":\"Suicides per 100k\"}},\"id\":\"2484\",\"type\":\"Line\"},{\"attributes\":{},\"id\":\"2464\",\"type\":\"WheelZoomTool\"},{\"attributes\":{\"source\":{\"id\":\"2481\"}},\"id\":\"2488\",\"type\":\"CDSView\"}],\"root_ids\":[\"2439\"]},\"title\":\"Bokeh Application\",\"version\":\"2.4.3\"}};\n",
       "    var render_items = [{\"docid\":\"fea83882-778d-4af2-b61f-0bb3faf6e3f0\",\"root_ids\":[\"2439\"],\"roots\":{\"2439\":\"fffb93eb-305c-4982-9054-ba00f32702a6\"}}];\n",
       "    root.Bokeh.embed.embed_items_notebook(docs_json, render_items);\n",
       "  }\n",
       "  if (root.Bokeh !== undefined && root.Bokeh.Panel !== undefined) {\n",
       "    embed_document(root);\n",
       "  } else {\n",
       "    var attempts = 0;\n",
       "    var timer = setInterval(function(root) {\n",
       "      if (root.Bokeh !== undefined && root.Bokeh.Panel !== undefined) {\n",
       "        clearInterval(timer);\n",
       "        embed_document(root);\n",
       "      } else if (document.readyState == \"complete\") {\n",
       "        attempts++;\n",
       "        if (attempts > 200) {\n",
       "          clearInterval(timer);\n",
       "          console.log(\"Bokeh: ERROR: Unable to run BokehJS code because BokehJS library is missing\");\n",
       "        }\n",
       "      }\n",
       "    }, 25, root)\n",
       "  }\n",
       "})(window);</script>"
      ],
      "text/plain": [
       ":Overlay\n",
       "   .Curve.I  :Curve   [Year]   (Suicides per 100k)\n",
       "   .Curve.II :Curve   [Year]   (Suicides per 100k)"
      ]
     },
     "execution_count": 25,
     "metadata": {
      "application/vnd.holoviews_exec.v0+json": {
       "id": "2439"
      }
     },
     "output_type": "execute_result"
    }
   ],
   "source": [
    "us_suicides_males = us_suicides_master[~(us_suicides_master[\"Sex\"] == \"female\")]\n",
    "us_suicides_females = us_suicides_master[~(us_suicides_master[\"Sex\"] == \"male\")]\n",
    "us_suicides_males = (\n",
    "    us_suicides_males.groupby(\"Year\")[\"Suicides per 100k\"].sum().reset_index()\n",
    ")\n",
    "us_suicides_females = (\n",
    "    us_suicides_females.groupby(\"Year\")[\"Suicides per 100k\"].sum().reset_index()\n",
    ")\n",
    "us_suicides_males.hvplot(x=\"Year\", y=\"Suicides per 100k\") * us_suicides_females.hvplot(\n",
    "    x=\"Year\", y=\"Suicides per 100k\"\n",
    ")"
   ]
  }
 ],
 "metadata": {
  "kernelspec": {
   "display_name": "cainhurst",
   "language": "python",
   "name": "python3"
  },
  "language_info": {
   "codemirror_mode": {
    "name": "ipython",
    "version": 3
   },
   "file_extension": ".py",
   "mimetype": "text/x-python",
   "name": "python",
   "nbconvert_exporter": "python",
   "pygments_lexer": "ipython3",
   "version": "3.7.13"
  },
  "orig_nbformat": 4
 },
 "nbformat": 4,
 "nbformat_minor": 2
}
