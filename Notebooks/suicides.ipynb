{
 "cells": [
  {
   "cell_type": "code",
   "execution_count": 132,
   "metadata": {},
   "outputs": [],
   "source": [
    "from pathlib import Path\n",
    "import pandas as pd\n",
    "from sklearn.linear_model import LinearRegression\n",
    "import hvplot.pandas\n",
    "from bokeh.sampledata.unemployment1948 import data as unemployment_df\n",
    "from bokeh.sampledata.us_marriages_divorces import data as divorces_df\n",
    "from bokeh.plotting import figure, show\n",
    "from bokeh.transform import linear_cmap\n",
    "from bokeh.util.hex import hexbin\n"
   ]
  },
  {
   "cell_type": "code",
   "execution_count": 139,
   "metadata": {},
   "outputs": [],
   "source": [
    "us_suicides_total = pd.read_csv(r\"../Resources/Clean/us_suicides_1985-2021.csv\")\n",
    "russia_suicides_total = pd.read_csv(r\"../Resources/Clean/russia_suicides_1985-2016.csv\")\n",
    "japan_suicides_total = pd.read_csv(r\"../Resources/Clean/japan_suicides_1985-2016.csv\")\n",
    "canada_suicides_total = pd.read_csv(r\"../Resources/Clean/canada_suicides_1985-2016.csv\")\n",
    "germany_suicides_total = pd.read_csv(\n",
    "    r\"../Resources/Clean/germany_suicides_1985-2016.csv\"\n",
    ")\n",
    "untreated_mental_illness = pd.read_csv(\n",
    "    r\"../Resources/Clean/untreated_mental_illness_total_2018-2019.csv\"\n",
    ").assign(Year=\"2018-2019\")\n",
    "metrics_988 = pd.read_csv(r\"../Resources/Clean/988_performance_metrics.csv\")\n",
    "us_suicide_rates = pd.read_csv(r\"../Resources/Clean/us_suicide_rates_1985-2016.csv\")\n",
    "russia_suicide_rates = pd.read_csv(\n",
    "    r\"../Resources/Clean/russia_suicide_rates_1985-2016.csv\"\n",
    ")\n",
    "us_suicide_rates_99_16 = pd.read_csv(\n",
    "    r\"../Resources/Clean/us_suicide_rates_1999-2016.csv\"\n",
    ")\n",
    "us_suicides_master = pd.read_csv(\n",
    "    r\"../Resources/Clean/us_suicides_1985-2016(master).csv\"\n",
    ")\n",
    "states_suicides = pd.read_csv(\n",
    "    r\"../Resources/Originals/state_suicides_2005-2021.csv\"\n",
    ")\n",
    "world_suicides = r\"../Resources/Originals/world_suicides_1985-2016.csv\""
   ]
  },
  {
   "cell_type": "code",
   "execution_count": 67,
   "metadata": {},
   "outputs": [],
   "source": [
    "untreated_mental_illness.set_index(\"Year\", inplace=True)"
   ]
  },
  {
   "cell_type": "code",
   "execution_count": 68,
   "metadata": {},
   "outputs": [
    {
     "data": {},
     "metadata": {},
     "output_type": "display_data"
    },
    {
     "data": {
      "application/vnd.holoviews_exec.v0+json": "",
      "text/html": [
       "<div id='4525'>\n",
       "  <div class=\"bk-root\" id=\"5b4d3448-edea-4da1-bc15-d702d32daa51\" data-root-id=\"4525\"></div>\n",
       "</div>\n",
       "<script type=\"application/javascript\">(function(root) {\n",
       "  function embed_document(root) {\n",
       "    var docs_json = {\"1925d5ee-b724-4a08-ba54-b84dce1e5e0d\":{\"defs\":[{\"extends\":null,\"module\":null,\"name\":\"ReactiveHTML1\",\"overrides\":[],\"properties\":[]},{\"extends\":null,\"module\":null,\"name\":\"FlexBox1\",\"overrides\":[],\"properties\":[{\"default\":\"flex-start\",\"kind\":null,\"name\":\"align_content\"},{\"default\":\"flex-start\",\"kind\":null,\"name\":\"align_items\"},{\"default\":\"row\",\"kind\":null,\"name\":\"flex_direction\"},{\"default\":\"wrap\",\"kind\":null,\"name\":\"flex_wrap\"},{\"default\":\"flex-start\",\"kind\":null,\"name\":\"justify_content\"}]},{\"extends\":null,\"module\":null,\"name\":\"GridStack1\",\"overrides\":[],\"properties\":[{\"default\":\"warn\",\"kind\":null,\"name\":\"mode\"},{\"default\":null,\"kind\":null,\"name\":\"ncols\"},{\"default\":null,\"kind\":null,\"name\":\"nrows\"},{\"default\":true,\"kind\":null,\"name\":\"allow_resize\"},{\"default\":true,\"kind\":null,\"name\":\"allow_drag\"},{\"default\":[],\"kind\":null,\"name\":\"state\"}]},{\"extends\":null,\"module\":null,\"name\":\"click1\",\"overrides\":[],\"properties\":[{\"default\":\"\",\"kind\":null,\"name\":\"terminal_output\"},{\"default\":\"\",\"kind\":null,\"name\":\"debug_name\"},{\"default\":0,\"kind\":null,\"name\":\"clears\"}]},{\"extends\":null,\"module\":null,\"name\":\"NotificationAreaBase1\",\"overrides\":[],\"properties\":[{\"default\":\"bottom-right\",\"kind\":null,\"name\":\"position\"},{\"default\":0,\"kind\":null,\"name\":\"_clear\"}]},{\"extends\":null,\"module\":null,\"name\":\"NotificationArea1\",\"overrides\":[],\"properties\":[{\"default\":[],\"kind\":null,\"name\":\"notifications\"},{\"default\":\"bottom-right\",\"kind\":null,\"name\":\"position\"},{\"default\":0,\"kind\":null,\"name\":\"_clear\"},{\"default\":[{\"background\":\"#ffc107\",\"icon\":{\"className\":\"fas fa-exclamation-triangle\",\"color\":\"white\",\"tagName\":\"i\"},\"type\":\"warning\"},{\"background\":\"#007bff\",\"icon\":{\"className\":\"fas fa-info-circle\",\"color\":\"white\",\"tagName\":\"i\"},\"type\":\"info\"}],\"kind\":null,\"name\":\"types\"}]},{\"extends\":null,\"module\":null,\"name\":\"Notification\",\"overrides\":[],\"properties\":[{\"default\":null,\"kind\":null,\"name\":\"background\"},{\"default\":3000,\"kind\":null,\"name\":\"duration\"},{\"default\":null,\"kind\":null,\"name\":\"icon\"},{\"default\":\"\",\"kind\":null,\"name\":\"message\"},{\"default\":null,\"kind\":null,\"name\":\"notification_type\"},{\"default\":false,\"kind\":null,\"name\":\"_destroyed\"}]},{\"extends\":null,\"module\":null,\"name\":\"TemplateActions1\",\"overrides\":[],\"properties\":[{\"default\":0,\"kind\":null,\"name\":\"open_modal\"},{\"default\":0,\"kind\":null,\"name\":\"close_modal\"}]},{\"extends\":null,\"module\":null,\"name\":\"MaterialTemplateActions1\",\"overrides\":[],\"properties\":[{\"default\":0,\"kind\":null,\"name\":\"open_modal\"},{\"default\":0,\"kind\":null,\"name\":\"close_modal\"}]}],\"roots\":{\"references\":[{\"attributes\":{\"tools\":[{\"id\":\"4529\"},{\"id\":\"4546\"},{\"id\":\"4547\"},{\"id\":\"4548\"},{\"id\":\"4549\"},{\"id\":\"4550\"}]},\"id\":\"4552\",\"type\":\"Toolbar\"},{\"attributes\":{\"fill_color\":{\"field\":\"Variable\",\"transform\":{\"id\":\"4559\"}},\"hatch_color\":{\"field\":\"Variable\",\"transform\":{\"id\":\"4559\"}},\"top\":{\"field\":\"value\"},\"width\":{\"value\":0.8},\"x\":{\"field\":\"xoffsets\"}},\"id\":\"4563\",\"type\":\"VBar\"},{\"attributes\":{\"bottom_units\":\"screen\",\"coordinates\":null,\"fill_alpha\":0.5,\"fill_color\":\"lightgrey\",\"group\":null,\"left_units\":\"screen\",\"level\":\"overlay\",\"line_alpha\":1.0,\"line_color\":\"black\",\"line_dash\":[4,4],\"line_width\":2,\"right_units\":\"screen\",\"syncable\":false,\"top_units\":\"screen\"},\"id\":\"4551\",\"type\":\"BoxAnnotation\"},{\"attributes\":{},\"id\":\"4546\",\"type\":\"SaveTool\"},{\"attributes\":{},\"id\":\"4574\",\"type\":\"AllLabels\"},{\"attributes\":{},\"id\":\"4547\",\"type\":\"PanTool\"},{\"attributes\":{},\"id\":\"4550\",\"type\":\"ResetTool\"},{\"attributes\":{},\"id\":\"4548\",\"type\":\"WheelZoomTool\"},{\"attributes\":{\"coordinates\":null,\"group\":null,\"text_color\":\"black\",\"text_font_size\":\"12pt\"},\"id\":\"4531\",\"type\":\"Title\"},{\"attributes\":{\"source\":{\"id\":\"4560\"}},\"id\":\"4567\",\"type\":\"CDSView\"},{\"attributes\":{\"overlay\":{\"id\":\"4551\"}},\"id\":\"4549\",\"type\":\"BoxZoomTool\"},{\"attributes\":{},\"id\":\"4582\",\"type\":\"UnionRenderers\"},{\"attributes\":{\"axis_label\":\"Year, Variable\",\"coordinates\":null,\"formatter\":{\"id\":\"4570\"},\"group\":null,\"major_label_policy\":{\"id\":\"4571\"},\"ticker\":{\"id\":\"4540\"}},\"id\":\"4539\",\"type\":\"CategoricalAxis\"},{\"attributes\":{},\"id\":\"4570\",\"type\":\"CategoricalTickFormatter\"},{\"attributes\":{},\"id\":\"4573\",\"type\":\"BasicTickFormatter\"},{\"attributes\":{},\"id\":\"4571\",\"type\":\"AllLabels\"},{\"attributes\":{},\"id\":\"4535\",\"type\":\"CategoricalScale\"},{\"attributes\":{\"axis\":{\"id\":\"4539\"},\"coordinates\":null,\"grid_line_color\":null,\"group\":null,\"ticker\":null},\"id\":\"4541\",\"type\":\"Grid\"},{\"attributes\":{\"fill_alpha\":{\"value\":0.2},\"fill_color\":{\"field\":\"Variable\",\"transform\":{\"id\":\"4559\"}},\"hatch_alpha\":{\"value\":0.2},\"hatch_color\":{\"field\":\"Variable\",\"transform\":{\"id\":\"4559\"}},\"line_alpha\":{\"value\":0.2},\"top\":{\"field\":\"value\"},\"width\":{\"value\":0.8},\"x\":{\"field\":\"xoffsets\"}},\"id\":\"4565\",\"type\":\"VBar\"},{\"attributes\":{\"factors\":[\"Mild\",\"Moderate\",\"Serious\"],\"palette\":[\"#30a2da\",\"#fc4f30\",\"#e5ae38\"]},\"id\":\"4559\",\"type\":\"CategoricalColorMapper\"},{\"attributes\":{\"end\":100,\"reset_end\":100,\"reset_start\":0,\"tags\":[[[\"value\",\"value\",null]]]},\"id\":\"4528\",\"type\":\"Range1d\"},{\"attributes\":{},\"id\":\"4537\",\"type\":\"LinearScale\"},{\"attributes\":{\"data\":{\"Variable\":[\"Mild\",\"Moderate\",\"Serious\"],\"Year\":[\"2018-2019\",\"2018-2019\",\"2018-2019\"],\"value\":{\"__ndarray__\":\"mpmZmZn5UEAAAAAAAMBKQAAAAAAAgEFA\",\"dtype\":\"float64\",\"order\":\"little\",\"shape\":[3]},\"xoffsets\":[[\"2018-2019\",\"Mild\"],[\"2018-2019\",\"Moderate\"],[\"2018-2019\",\"Serious\"]]},\"selected\":{\"id\":\"4561\"},\"selection_policy\":{\"id\":\"4582\"}},\"id\":\"4560\",\"type\":\"ColumnDataSource\"},{\"attributes\":{},\"id\":\"4543\",\"type\":\"BasicTicker\"},{\"attributes\":{\"margin\":[5,5,5,5],\"name\":\"HSpacer05388\",\"sizing_mode\":\"stretch_width\"},\"id\":\"4585\",\"type\":\"Spacer\"},{\"attributes\":{},\"id\":\"4540\",\"type\":\"CategoricalTicker\"},{\"attributes\":{\"coordinates\":null,\"data_source\":{\"id\":\"4560\"},\"glyph\":{\"id\":\"4563\"},\"group\":null,\"hover_glyph\":null,\"muted_glyph\":{\"id\":\"4565\"},\"nonselection_glyph\":{\"id\":\"4564\"},\"selection_glyph\":{\"id\":\"4568\"},\"view\":{\"id\":\"4567\"}},\"id\":\"4566\",\"type\":\"GlyphRenderer\"},{\"attributes\":{\"bottom\":{\"value\":0},\"fill_alpha\":{\"value\":1.0},\"fill_color\":{\"field\":\"Variable\",\"transform\":{\"id\":\"4559\"}},\"hatch_alpha\":{\"value\":1.0},\"hatch_color\":{\"field\":\"Variable\",\"transform\":{\"id\":\"4559\"}},\"hatch_scale\":{\"value\":12.0},\"hatch_weight\":{\"value\":1.0},\"line_alpha\":{\"value\":1.0},\"line_cap\":{\"value\":\"butt\"},\"line_color\":{\"value\":\"black\"},\"line_dash\":{\"value\":[]},\"line_dash_offset\":{\"value\":0},\"line_join\":{\"value\":\"bevel\"},\"line_width\":{\"value\":1},\"top\":{\"field\":\"value\"},\"width\":{\"value\":0.8},\"x\":{\"field\":\"xoffsets\"}},\"id\":\"4568\",\"type\":\"VBar\"},{\"attributes\":{\"axis_label\":\"\",\"coordinates\":null,\"formatter\":{\"id\":\"4573\"},\"group\":null,\"major_label_policy\":{\"id\":\"4574\"},\"ticker\":{\"id\":\"4543\"}},\"id\":\"4542\",\"type\":\"LinearAxis\"},{\"attributes\":{\"factors\":[[\"2018-2019\",\"Mild\"],[\"2018-2019\",\"Moderate\"],[\"2018-2019\",\"Serious\"]],\"tags\":[[[\"Year\",\"Year\",null],[\"Variable\",\"Variable\",null]]]},\"id\":\"4527\",\"type\":\"FactorRange\"},{\"attributes\":{\"axis\":{\"id\":\"4542\"},\"coordinates\":null,\"dimension\":1,\"grid_line_color\":null,\"group\":null,\"ticker\":null},\"id\":\"4545\",\"type\":\"Grid\"},{\"attributes\":{},\"id\":\"4561\",\"type\":\"Selection\"},{\"attributes\":{\"margin\":[5,5,5,5],\"name\":\"HSpacer05387\",\"sizing_mode\":\"stretch_width\"},\"id\":\"4526\",\"type\":\"Spacer\"},{\"attributes\":{\"children\":[{\"id\":\"4526\"},{\"id\":\"4530\"},{\"id\":\"4585\"}],\"margin\":[0,0,0,0],\"name\":\"Row05383\",\"tags\":[\"embedded\"]},\"id\":\"4525\",\"type\":\"Row\"},{\"attributes\":{\"fill_alpha\":{\"value\":0.1},\"fill_color\":{\"field\":\"Variable\",\"transform\":{\"id\":\"4559\"}},\"hatch_alpha\":{\"value\":0.1},\"hatch_color\":{\"field\":\"Variable\",\"transform\":{\"id\":\"4559\"}},\"line_alpha\":{\"value\":0.1},\"top\":{\"field\":\"value\"},\"width\":{\"value\":0.8},\"x\":{\"field\":\"xoffsets\"}},\"id\":\"4564\",\"type\":\"VBar\"},{\"attributes\":{\"callback\":null,\"renderers\":[{\"id\":\"4566\"}],\"tags\":[\"hv_created\"],\"tooltips\":[[\"Year\",\"@{Year}\"],[\"Variable\",\"@{Variable}\"],[\"value\",\"@{value}\"]]},\"id\":\"4529\",\"type\":\"HoverTool\"},{\"attributes\":{\"below\":[{\"id\":\"4539\"}],\"center\":[{\"id\":\"4541\"},{\"id\":\"4545\"}],\"height\":300,\"left\":[{\"id\":\"4542\"}],\"margin\":[5,5,5,5],\"min_border_bottom\":10,\"min_border_left\":10,\"min_border_right\":10,\"min_border_top\":10,\"renderers\":[{\"id\":\"4566\"}],\"sizing_mode\":\"fixed\",\"title\":{\"id\":\"4531\"},\"toolbar\":{\"id\":\"4552\"},\"width\":700,\"x_range\":{\"id\":\"4527\"},\"x_scale\":{\"id\":\"4535\"},\"y_range\":{\"id\":\"4528\"},\"y_scale\":{\"id\":\"4537\"}},\"id\":\"4530\",\"subtype\":\"Figure\",\"type\":\"Plot\"}],\"root_ids\":[\"4525\"]},\"title\":\"Bokeh Application\",\"version\":\"2.4.3\"}};\n",
       "    var render_items = [{\"docid\":\"1925d5ee-b724-4a08-ba54-b84dce1e5e0d\",\"root_ids\":[\"4525\"],\"roots\":{\"4525\":\"5b4d3448-edea-4da1-bc15-d702d32daa51\"}}];\n",
       "    root.Bokeh.embed.embed_items_notebook(docs_json, render_items);\n",
       "  }\n",
       "  if (root.Bokeh !== undefined && root.Bokeh.Panel !== undefined) {\n",
       "    embed_document(root);\n",
       "  } else {\n",
       "    var attempts = 0;\n",
       "    var timer = setInterval(function(root) {\n",
       "      if (root.Bokeh !== undefined && root.Bokeh.Panel !== undefined) {\n",
       "        clearInterval(timer);\n",
       "        embed_document(root);\n",
       "      } else if (document.readyState == \"complete\") {\n",
       "        attempts++;\n",
       "        if (attempts > 200) {\n",
       "          clearInterval(timer);\n",
       "          console.log(\"Bokeh: ERROR: Unable to run BokehJS code because BokehJS library is missing\");\n",
       "        }\n",
       "      }\n",
       "    }, 25, root)\n",
       "  }\n",
       "})(window);</script>"
      ],
      "text/plain": [
       ":Bars   [Year,Variable]   (value)"
      ]
     },
     "execution_count": 68,
     "metadata": {
      "application/vnd.holoviews_exec.v0+json": {
       "id": "4525"
      }
     },
     "output_type": "execute_result"
    }
   ],
   "source": [
    "untreated_mental_illness.hvplot.bar(ylim=(0, 100))"
   ]
  },
  {
   "cell_type": "code",
   "execution_count": 69,
   "metadata": {},
   "outputs": [
    {
     "data": {},
     "metadata": {},
     "output_type": "display_data"
    },
    {
     "data": {
      "application/vnd.holoviews_exec.v0+json": "",
      "text/html": [
       "<div id='4637'>\n",
       "  <div class=\"bk-root\" id=\"305cb299-c4c6-42ee-b951-ff500bbb4b0a\" data-root-id=\"4637\"></div>\n",
       "</div>\n",
       "<script type=\"application/javascript\">(function(root) {\n",
       "  function embed_document(root) {\n",
       "    var docs_json = {\"35ed586d-02a6-48ea-a49e-34a7c45e6399\":{\"defs\":[{\"extends\":null,\"module\":null,\"name\":\"ReactiveHTML1\",\"overrides\":[],\"properties\":[]},{\"extends\":null,\"module\":null,\"name\":\"FlexBox1\",\"overrides\":[],\"properties\":[{\"default\":\"flex-start\",\"kind\":null,\"name\":\"align_content\"},{\"default\":\"flex-start\",\"kind\":null,\"name\":\"align_items\"},{\"default\":\"row\",\"kind\":null,\"name\":\"flex_direction\"},{\"default\":\"wrap\",\"kind\":null,\"name\":\"flex_wrap\"},{\"default\":\"flex-start\",\"kind\":null,\"name\":\"justify_content\"}]},{\"extends\":null,\"module\":null,\"name\":\"GridStack1\",\"overrides\":[],\"properties\":[{\"default\":\"warn\",\"kind\":null,\"name\":\"mode\"},{\"default\":null,\"kind\":null,\"name\":\"ncols\"},{\"default\":null,\"kind\":null,\"name\":\"nrows\"},{\"default\":true,\"kind\":null,\"name\":\"allow_resize\"},{\"default\":true,\"kind\":null,\"name\":\"allow_drag\"},{\"default\":[],\"kind\":null,\"name\":\"state\"}]},{\"extends\":null,\"module\":null,\"name\":\"click1\",\"overrides\":[],\"properties\":[{\"default\":\"\",\"kind\":null,\"name\":\"terminal_output\"},{\"default\":\"\",\"kind\":null,\"name\":\"debug_name\"},{\"default\":0,\"kind\":null,\"name\":\"clears\"}]},{\"extends\":null,\"module\":null,\"name\":\"NotificationAreaBase1\",\"overrides\":[],\"properties\":[{\"default\":\"bottom-right\",\"kind\":null,\"name\":\"position\"},{\"default\":0,\"kind\":null,\"name\":\"_clear\"}]},{\"extends\":null,\"module\":null,\"name\":\"NotificationArea1\",\"overrides\":[],\"properties\":[{\"default\":[],\"kind\":null,\"name\":\"notifications\"},{\"default\":\"bottom-right\",\"kind\":null,\"name\":\"position\"},{\"default\":0,\"kind\":null,\"name\":\"_clear\"},{\"default\":[{\"background\":\"#ffc107\",\"icon\":{\"className\":\"fas fa-exclamation-triangle\",\"color\":\"white\",\"tagName\":\"i\"},\"type\":\"warning\"},{\"background\":\"#007bff\",\"icon\":{\"className\":\"fas fa-info-circle\",\"color\":\"white\",\"tagName\":\"i\"},\"type\":\"info\"}],\"kind\":null,\"name\":\"types\"}]},{\"extends\":null,\"module\":null,\"name\":\"Notification\",\"overrides\":[],\"properties\":[{\"default\":null,\"kind\":null,\"name\":\"background\"},{\"default\":3000,\"kind\":null,\"name\":\"duration\"},{\"default\":null,\"kind\":null,\"name\":\"icon\"},{\"default\":\"\",\"kind\":null,\"name\":\"message\"},{\"default\":null,\"kind\":null,\"name\":\"notification_type\"},{\"default\":false,\"kind\":null,\"name\":\"_destroyed\"}]},{\"extends\":null,\"module\":null,\"name\":\"TemplateActions1\",\"overrides\":[],\"properties\":[{\"default\":0,\"kind\":null,\"name\":\"open_modal\"},{\"default\":0,\"kind\":null,\"name\":\"close_modal\"}]},{\"extends\":null,\"module\":null,\"name\":\"MaterialTemplateActions1\",\"overrides\":[],\"properties\":[{\"default\":0,\"kind\":null,\"name\":\"open_modal\"},{\"default\":0,\"kind\":null,\"name\":\"close_modal\"}]}],\"roots\":{\"references\":[{\"attributes\":{\"coordinates\":null,\"group\":null,\"text_color\":\"black\",\"text_font_size\":\"12pt\"},\"id\":\"4644\",\"type\":\"Title\"},{\"attributes\":{\"coordinates\":null,\"data_source\":{\"id\":\"4688\"},\"glyph\":{\"id\":\"4691\"},\"group\":null,\"hover_glyph\":null,\"muted_glyph\":{\"id\":\"4693\"},\"nonselection_glyph\":{\"id\":\"4692\"},\"selection_glyph\":{\"id\":\"4696\"},\"view\":{\"id\":\"4695\"}},\"id\":\"4694\",\"type\":\"GlyphRenderer\"},{\"attributes\":{\"line_alpha\":0.2,\"line_color\":\"#30a2da\",\"line_width\":2,\"x\":{\"field\":\"Year\"},\"y\":{\"field\":\"Number of Suicides\"}},\"id\":\"4684\",\"type\":\"Line\"},{\"attributes\":{\"tools\":[{\"id\":\"4641\"},{\"id\":\"4660\"},{\"id\":\"4661\"},{\"id\":\"4662\"},{\"id\":\"4663\"},{\"id\":\"4664\"}]},\"id\":\"4666\",\"type\":\"Toolbar\"},{\"attributes\":{},\"id\":\"4674\",\"type\":\"BasicTickFormatter\"},{\"attributes\":{},\"id\":\"4680\",\"type\":\"Selection\"},{\"attributes\":{\"bottom_units\":\"screen\",\"coordinates\":null,\"fill_alpha\":0.5,\"fill_color\":\"lightgrey\",\"group\":null,\"left_units\":\"screen\",\"level\":\"overlay\",\"line_alpha\":1.0,\"line_color\":\"black\",\"line_dash\":[4,4],\"line_width\":2,\"right_units\":\"screen\",\"syncable\":false,\"top_units\":\"screen\"},\"id\":\"4665\",\"type\":\"BoxAnnotation\"},{\"attributes\":{},\"id\":\"4660\",\"type\":\"SaveTool\"},{\"attributes\":{},\"id\":\"4661\",\"type\":\"PanTool\"},{\"attributes\":{},\"id\":\"4653\",\"type\":\"BasicTicker\"},{\"attributes\":{\"line_color\":\"#30a2da\",\"line_width\":2,\"x\":{\"field\":\"Year\"},\"y\":{\"field\":\"Number of Suicides\"}},\"id\":\"4687\",\"type\":\"Line\"},{\"attributes\":{},\"id\":\"4664\",\"type\":\"ResetTool\"},{\"attributes\":{},\"id\":\"4662\",\"type\":\"WheelZoomTool\"},{\"attributes\":{},\"id\":\"4678\",\"type\":\"AllLabels\"},{\"attributes\":{\"margin\":[5,5,5,5],\"name\":\"HSpacer05670\",\"sizing_mode\":\"stretch_width\"},\"id\":\"4709\",\"type\":\"Spacer\"},{\"attributes\":{\"data\":{\"Number of Suicides\":[29446,30892,30783,30388,30218,30895,30790,30471,31084,31123,31272,30879,30517,30558,29183,29343,30607,31645,31477,32428,32629,33292,34596,36030,36900,38362,39508,40596,41143,42721,44159,44925,47126,48290,47467,45941,48137],\"Number_of_Suicides\":[29446,30892,30783,30388,30218,30895,30790,30471,31084,31123,31272,30879,30517,30558,29183,29343,30607,31645,31477,32428,32629,33292,34596,36030,36900,38362,39508,40596,41143,42721,44159,44925,47126,48290,47467,45941,48137],\"Year\":[1985,1986,1987,1988,1989,1990,1991,1992,1993,1994,1995,1996,1997,1998,1999,2000,2001,2002,2003,2004,2005,2006,2007,2008,2009,2010,2011,2012,2013,2014,2015,2016,2017,2018,2019,2020,2021]},\"selected\":{\"id\":\"4689\"},\"selection_policy\":{\"id\":\"4706\"}},\"id\":\"4688\",\"type\":\"ColumnDataSource\"},{\"attributes\":{\"overlay\":{\"id\":\"4665\"}},\"id\":\"4663\",\"type\":\"BoxZoomTool\"},{\"attributes\":{},\"id\":\"4689\",\"type\":\"Selection\"},{\"attributes\":{},\"id\":\"4704\",\"type\":\"UnionRenderers\"},{\"attributes\":{\"callback\":null,\"renderers\":[{\"id\":\"4685\"},{\"id\":\"4694\"}],\"tags\":[\"hv_created\"],\"tooltips\":[[\"Year\",\"@{Year}\"],[\"Number of Suicides\",\"@{Number_of_Suicides}\"]]},\"id\":\"4641\",\"type\":\"HoverTool\"},{\"attributes\":{},\"id\":\"4648\",\"type\":\"LinearScale\"},{\"attributes\":{\"source\":{\"id\":\"4688\"}},\"id\":\"4695\",\"type\":\"CDSView\"},{\"attributes\":{\"fill_color\":{\"value\":\"#000000\"},\"hatch_color\":{\"value\":\"#000000\"},\"line_color\":{\"value\":\"#000000\"},\"size\":{\"value\":5.477225575051661},\"x\":{\"field\":\"Year\"},\"y\":{\"field\":\"Number of Suicides\"}},\"id\":\"4691\",\"type\":\"Scatter\"},{\"attributes\":{},\"id\":\"4657\",\"type\":\"BasicTicker\"},{\"attributes\":{},\"id\":\"4675\",\"type\":\"AllLabels\"},{\"attributes\":{\"axis\":{\"id\":\"4652\"},\"coordinates\":null,\"grid_line_color\":null,\"group\":null,\"ticker\":null},\"id\":\"4655\",\"type\":\"Grid\"},{\"attributes\":{\"line_color\":\"#30a2da\",\"line_width\":2,\"x\":{\"field\":\"Year\"},\"y\":{\"field\":\"Number of Suicides\"}},\"id\":\"4682\",\"type\":\"Line\"},{\"attributes\":{},\"id\":\"4706\",\"type\":\"UnionRenderers\"},{\"attributes\":{\"margin\":[5,5,5,5],\"name\":\"HSpacer05669\",\"sizing_mode\":\"stretch_width\"},\"id\":\"4638\",\"type\":\"Spacer\"},{\"attributes\":{\"angle\":{\"value\":0.0},\"fill_alpha\":{\"value\":1.0},\"fill_color\":{\"value\":\"#000000\"},\"hatch_alpha\":{\"value\":1.0},\"hatch_color\":{\"value\":\"#000000\"},\"hatch_scale\":{\"value\":12.0},\"hatch_weight\":{\"value\":1.0},\"line_alpha\":{\"value\":1.0},\"line_cap\":{\"value\":\"butt\"},\"line_color\":{\"value\":\"#000000\"},\"line_dash\":{\"value\":[]},\"line_dash_offset\":{\"value\":0},\"line_join\":{\"value\":\"bevel\"},\"line_width\":{\"value\":1},\"marker\":{\"value\":\"circle\"},\"size\":{\"value\":5.477225575051661},\"x\":{\"field\":\"Year\"},\"y\":{\"field\":\"Number of Suicides\"}},\"id\":\"4696\",\"type\":\"Scatter\"},{\"attributes\":{},\"id\":\"4650\",\"type\":\"LinearScale\"},{\"attributes\":{\"source\":{\"id\":\"4679\"}},\"id\":\"4686\",\"type\":\"CDSView\"},{\"attributes\":{\"end\":50200.7,\"reset_end\":50200.7,\"reset_start\":27272.3,\"start\":27272.3,\"tags\":[[[\"Number of Suicides\",\"Number of Suicides\",null]]]},\"id\":\"4640\",\"type\":\"Range1d\"},{\"attributes\":{\"axis_label\":\"Number of Suicides\",\"coordinates\":null,\"formatter\":{\"id\":\"4677\"},\"group\":null,\"major_label_policy\":{\"id\":\"4678\"},\"ticker\":{\"id\":\"4657\"}},\"id\":\"4656\",\"type\":\"LinearAxis\"},{\"attributes\":{\"axis_label\":\"Year\",\"coordinates\":null,\"formatter\":{\"id\":\"4674\"},\"group\":null,\"major_label_orientation\":0.7853981633974483,\"major_label_policy\":{\"id\":\"4675\"},\"ticker\":{\"id\":\"4653\"}},\"id\":\"4652\",\"type\":\"LinearAxis\"},{\"attributes\":{\"fill_alpha\":{\"value\":0.1},\"fill_color\":{\"value\":\"#000000\"},\"hatch_alpha\":{\"value\":0.1},\"hatch_color\":{\"value\":\"#000000\"},\"line_alpha\":{\"value\":0.1},\"line_color\":{\"value\":\"#000000\"},\"size\":{\"value\":5.477225575051661},\"x\":{\"field\":\"Year\"},\"y\":{\"field\":\"Number of Suicides\"}},\"id\":\"4692\",\"type\":\"Scatter\"},{\"attributes\":{\"below\":[{\"id\":\"4652\"}],\"center\":[{\"id\":\"4655\"},{\"id\":\"4659\"}],\"height\":450,\"left\":[{\"id\":\"4656\"}],\"margin\":[5,5,5,5],\"min_border_bottom\":10,\"min_border_left\":10,\"min_border_right\":10,\"min_border_top\":10,\"renderers\":[{\"id\":\"4685\"},{\"id\":\"4694\"}],\"sizing_mode\":\"fixed\",\"title\":{\"id\":\"4644\"},\"toolbar\":{\"id\":\"4666\"},\"width\":800,\"x_range\":{\"id\":\"4639\"},\"x_scale\":{\"id\":\"4648\"},\"y_range\":{\"id\":\"4640\"},\"y_scale\":{\"id\":\"4650\"}},\"id\":\"4643\",\"subtype\":\"Figure\",\"type\":\"Plot\"},{\"attributes\":{\"data\":{\"Number of Suicides\":[29446,30892,30783,30388,30218,30895,30790,30471,31084,31123,31272,30879,30517,30558,29183,29343,30607,31645,31477,32428,32629,33292,34596,36030,36900,38362,39508,40596,41143,42721,44159,44925,47126,48290,47467,45941,48137],\"Number_of_Suicides\":[29446,30892,30783,30388,30218,30895,30790,30471,31084,31123,31272,30879,30517,30558,29183,29343,30607,31645,31477,32428,32629,33292,34596,36030,36900,38362,39508,40596,41143,42721,44159,44925,47126,48290,47467,45941,48137],\"Year\":[1985,1986,1987,1988,1989,1990,1991,1992,1993,1994,1995,1996,1997,1998,1999,2000,2001,2002,2003,2004,2005,2006,2007,2008,2009,2010,2011,2012,2013,2014,2015,2016,2017,2018,2019,2020,2021]},\"selected\":{\"id\":\"4680\"},\"selection_policy\":{\"id\":\"4704\"}},\"id\":\"4679\",\"type\":\"ColumnDataSource\"},{\"attributes\":{},\"id\":\"4677\",\"type\":\"BasicTickFormatter\"},{\"attributes\":{\"children\":[{\"id\":\"4638\"},{\"id\":\"4643\"},{\"id\":\"4709\"}],\"margin\":[0,0,0,0],\"name\":\"Row05665\",\"tags\":[\"embedded\"]},\"id\":\"4637\",\"type\":\"Row\"},{\"attributes\":{\"coordinates\":null,\"data_source\":{\"id\":\"4679\"},\"glyph\":{\"id\":\"4682\"},\"group\":null,\"hover_glyph\":null,\"muted_glyph\":{\"id\":\"4684\"},\"nonselection_glyph\":{\"id\":\"4683\"},\"selection_glyph\":{\"id\":\"4687\"},\"view\":{\"id\":\"4686\"}},\"id\":\"4685\",\"type\":\"GlyphRenderer\"},{\"attributes\":{\"axis\":{\"id\":\"4656\"},\"coordinates\":null,\"dimension\":1,\"grid_line_color\":null,\"group\":null,\"ticker\":null},\"id\":\"4659\",\"type\":\"Grid\"},{\"attributes\":{\"fill_alpha\":{\"value\":0.2},\"fill_color\":{\"value\":\"#000000\"},\"hatch_alpha\":{\"value\":0.2},\"hatch_color\":{\"value\":\"#000000\"},\"line_alpha\":{\"value\":0.2},\"line_color\":{\"value\":\"#000000\"},\"size\":{\"value\":5.477225575051661},\"x\":{\"field\":\"Year\"},\"y\":{\"field\":\"Number of Suicides\"}},\"id\":\"4693\",\"type\":\"Scatter\"},{\"attributes\":{\"line_alpha\":0.1,\"line_color\":\"#30a2da\",\"line_width\":2,\"x\":{\"field\":\"Year\"},\"y\":{\"field\":\"Number of Suicides\"}},\"id\":\"4683\",\"type\":\"Line\"},{\"attributes\":{\"end\":2021.0,\"reset_end\":2021.0,\"reset_start\":1985.0,\"start\":1985.0,\"tags\":[[[\"Year\",\"Year\",null]]]},\"id\":\"4639\",\"type\":\"Range1d\"}],\"root_ids\":[\"4637\"]},\"title\":\"Bokeh Application\",\"version\":\"2.4.3\"}};\n",
       "    var render_items = [{\"docid\":\"35ed586d-02a6-48ea-a49e-34a7c45e6399\",\"root_ids\":[\"4637\"],\"roots\":{\"4637\":\"305cb299-c4c6-42ee-b951-ff500bbb4b0a\"}}];\n",
       "    root.Bokeh.embed.embed_items_notebook(docs_json, render_items);\n",
       "  }\n",
       "  if (root.Bokeh !== undefined && root.Bokeh.Panel !== undefined) {\n",
       "    embed_document(root);\n",
       "  } else {\n",
       "    var attempts = 0;\n",
       "    var timer = setInterval(function(root) {\n",
       "      if (root.Bokeh !== undefined && root.Bokeh.Panel !== undefined) {\n",
       "        clearInterval(timer);\n",
       "        embed_document(root);\n",
       "      } else if (document.readyState == \"complete\") {\n",
       "        attempts++;\n",
       "        if (attempts > 200) {\n",
       "          clearInterval(timer);\n",
       "          console.log(\"Bokeh: ERROR: Unable to run BokehJS code because BokehJS library is missing\");\n",
       "        }\n",
       "      }\n",
       "    }, 25, root)\n",
       "  }\n",
       "})(window);</script>"
      ],
      "text/plain": [
       ":Overlay\n",
       "   .Curve.I   :Curve   [Year]   (Number of Suicides)\n",
       "   .Scatter.I :Scatter   [Year]   (Number of Suicides)"
      ]
     },
     "execution_count": 69,
     "metadata": {
      "application/vnd.holoviews_exec.v0+json": {
       "id": "4637"
      }
     },
     "output_type": "execute_result"
    }
   ],
   "source": [
    "us_suicides_total.hvplot(x=\"Year\", y=\"Number of Suicides\", rot=45).opts(\n",
    "    height=450, width=800\n",
    ") * us_suicides_total.hvplot.scatter(\n",
    "    x=\"Year\", y=\"Number of Suicides\", rot=45, c=\"k\"\n",
    ").opts(\n",
    "    height=450, width=800\n",
    ")"
   ]
  },
  {
   "cell_type": "code",
   "execution_count": 70,
   "metadata": {},
   "outputs": [
    {
     "data": {},
     "metadata": {},
     "output_type": "display_data"
    },
    {
     "data": {
      "application/vnd.holoviews_exec.v0+json": "",
      "text/html": [
       "<div id='4771'>\n",
       "  <div class=\"bk-root\" id=\"97fa7124-8e5a-4e91-85d5-a64d10304410\" data-root-id=\"4771\"></div>\n",
       "</div>\n",
       "<script type=\"application/javascript\">(function(root) {\n",
       "  function embed_document(root) {\n",
       "    var docs_json = {\"c4b54287-0e57-4f30-82e5-48953e0dc9e1\":{\"defs\":[{\"extends\":null,\"module\":null,\"name\":\"ReactiveHTML1\",\"overrides\":[],\"properties\":[]},{\"extends\":null,\"module\":null,\"name\":\"FlexBox1\",\"overrides\":[],\"properties\":[{\"default\":\"flex-start\",\"kind\":null,\"name\":\"align_content\"},{\"default\":\"flex-start\",\"kind\":null,\"name\":\"align_items\"},{\"default\":\"row\",\"kind\":null,\"name\":\"flex_direction\"},{\"default\":\"wrap\",\"kind\":null,\"name\":\"flex_wrap\"},{\"default\":\"flex-start\",\"kind\":null,\"name\":\"justify_content\"}]},{\"extends\":null,\"module\":null,\"name\":\"GridStack1\",\"overrides\":[],\"properties\":[{\"default\":\"warn\",\"kind\":null,\"name\":\"mode\"},{\"default\":null,\"kind\":null,\"name\":\"ncols\"},{\"default\":null,\"kind\":null,\"name\":\"nrows\"},{\"default\":true,\"kind\":null,\"name\":\"allow_resize\"},{\"default\":true,\"kind\":null,\"name\":\"allow_drag\"},{\"default\":[],\"kind\":null,\"name\":\"state\"}]},{\"extends\":null,\"module\":null,\"name\":\"click1\",\"overrides\":[],\"properties\":[{\"default\":\"\",\"kind\":null,\"name\":\"terminal_output\"},{\"default\":\"\",\"kind\":null,\"name\":\"debug_name\"},{\"default\":0,\"kind\":null,\"name\":\"clears\"}]},{\"extends\":null,\"module\":null,\"name\":\"NotificationAreaBase1\",\"overrides\":[],\"properties\":[{\"default\":\"bottom-right\",\"kind\":null,\"name\":\"position\"},{\"default\":0,\"kind\":null,\"name\":\"_clear\"}]},{\"extends\":null,\"module\":null,\"name\":\"NotificationArea1\",\"overrides\":[],\"properties\":[{\"default\":[],\"kind\":null,\"name\":\"notifications\"},{\"default\":\"bottom-right\",\"kind\":null,\"name\":\"position\"},{\"default\":0,\"kind\":null,\"name\":\"_clear\"},{\"default\":[{\"background\":\"#ffc107\",\"icon\":{\"className\":\"fas fa-exclamation-triangle\",\"color\":\"white\",\"tagName\":\"i\"},\"type\":\"warning\"},{\"background\":\"#007bff\",\"icon\":{\"className\":\"fas fa-info-circle\",\"color\":\"white\",\"tagName\":\"i\"},\"type\":\"info\"}],\"kind\":null,\"name\":\"types\"}]},{\"extends\":null,\"module\":null,\"name\":\"Notification\",\"overrides\":[],\"properties\":[{\"default\":null,\"kind\":null,\"name\":\"background\"},{\"default\":3000,\"kind\":null,\"name\":\"duration\"},{\"default\":null,\"kind\":null,\"name\":\"icon\"},{\"default\":\"\",\"kind\":null,\"name\":\"message\"},{\"default\":null,\"kind\":null,\"name\":\"notification_type\"},{\"default\":false,\"kind\":null,\"name\":\"_destroyed\"}]},{\"extends\":null,\"module\":null,\"name\":\"TemplateActions1\",\"overrides\":[],\"properties\":[{\"default\":0,\"kind\":null,\"name\":\"open_modal\"},{\"default\":0,\"kind\":null,\"name\":\"close_modal\"}]},{\"extends\":null,\"module\":null,\"name\":\"MaterialTemplateActions1\",\"overrides\":[],\"properties\":[{\"default\":0,\"kind\":null,\"name\":\"open_modal\"},{\"default\":0,\"kind\":null,\"name\":\"close_modal\"}]}],\"roots\":{\"references\":[{\"attributes\":{\"end\":2015.0,\"reset_end\":2015.0,\"reset_start\":1985.0,\"start\":1985.0,\"tags\":[[[\"Year\",\"Year\",null]]]},\"id\":\"4773\",\"type\":\"Range1d\"},{\"attributes\":{\"axis\":{\"id\":\"4786\"},\"coordinates\":null,\"grid_line_color\":null,\"group\":null,\"ticker\":null},\"id\":\"4789\",\"type\":\"Grid\"},{\"attributes\":{\"margin\":[5,5,5,5],\"name\":\"HSpacer05928\",\"sizing_mode\":\"stretch_width\"},\"id\":\"4843\",\"type\":\"Spacer\"},{\"attributes\":{\"end\":33091.1,\"reset_end\":33091.1,\"reset_start\":18569.9,\"start\":18569.9,\"tags\":[[[\"Number of Suicides\",\"Number of Suicides\",null]]]},\"id\":\"4774\",\"type\":\"Range1d\"},{\"attributes\":{},\"id\":\"4791\",\"type\":\"BasicTicker\"},{\"attributes\":{\"axis_label\":\"Number of Suicides\",\"coordinates\":null,\"formatter\":{\"id\":\"4811\"},\"group\":null,\"major_label_policy\":{\"id\":\"4812\"},\"ticker\":{\"id\":\"4791\"}},\"id\":\"4790\",\"type\":\"LinearAxis\"},{\"attributes\":{\"line_alpha\":0.2,\"line_color\":\"#30a2da\",\"line_width\":2,\"x\":{\"field\":\"Year\"},\"y\":{\"field\":\"Number of Suicides\"}},\"id\":\"4818\",\"type\":\"Line\"},{\"attributes\":{\"fill_alpha\":{\"value\":0.1},\"fill_color\":{\"value\":\"#000000\"},\"hatch_alpha\":{\"value\":0.1},\"hatch_color\":{\"value\":\"#000000\"},\"line_alpha\":{\"value\":0.1},\"line_color\":{\"value\":\"#000000\"},\"size\":{\"value\":5.477225575051661},\"x\":{\"field\":\"Year\"},\"y\":{\"field\":\"Number of Suicides\"}},\"id\":\"4826\",\"type\":\"Scatter\"},{\"attributes\":{\"callback\":null,\"renderers\":[{\"id\":\"4819\"},{\"id\":\"4828\"}],\"tags\":[\"hv_created\"],\"tooltips\":[[\"Year\",\"@{Year}\"],[\"Number of Suicides\",\"@{Number_of_Suicides}\"]]},\"id\":\"4775\",\"type\":\"HoverTool\"},{\"attributes\":{},\"id\":\"4787\",\"type\":\"BasicTicker\"},{\"attributes\":{},\"id\":\"4840\",\"type\":\"UnionRenderers\"},{\"attributes\":{\"below\":[{\"id\":\"4786\"}],\"center\":[{\"id\":\"4789\"},{\"id\":\"4793\"}],\"height\":450,\"left\":[{\"id\":\"4790\"}],\"margin\":[5,5,5,5],\"min_border_bottom\":10,\"min_border_left\":10,\"min_border_right\":10,\"min_border_top\":10,\"renderers\":[{\"id\":\"4819\"},{\"id\":\"4828\"}],\"sizing_mode\":\"fixed\",\"title\":{\"id\":\"4778\"},\"toolbar\":{\"id\":\"4800\"},\"width\":800,\"x_range\":{\"id\":\"4773\"},\"x_scale\":{\"id\":\"4782\"},\"y_range\":{\"id\":\"4774\"},\"y_scale\":{\"id\":\"4784\"}},\"id\":\"4777\",\"subtype\":\"Figure\",\"type\":\"Plot\"},{\"attributes\":{\"axis\":{\"id\":\"4790\"},\"coordinates\":null,\"dimension\":1,\"grid_line_color\":null,\"group\":null,\"ticker\":null},\"id\":\"4793\",\"type\":\"Grid\"},{\"attributes\":{\"angle\":{\"value\":0.0},\"fill_alpha\":{\"value\":1.0},\"fill_color\":{\"value\":\"#000000\"},\"hatch_alpha\":{\"value\":1.0},\"hatch_color\":{\"value\":\"#000000\"},\"hatch_scale\":{\"value\":12.0},\"hatch_weight\":{\"value\":1.0},\"line_alpha\":{\"value\":1.0},\"line_cap\":{\"value\":\"butt\"},\"line_color\":{\"value\":\"#000000\"},\"line_dash\":{\"value\":[]},\"line_dash_offset\":{\"value\":0},\"line_join\":{\"value\":\"bevel\"},\"line_width\":{\"value\":1},\"marker\":{\"value\":\"circle\"},\"size\":{\"value\":5.477225575051661},\"x\":{\"field\":\"Year\"},\"y\":{\"field\":\"Number of Suicides\"}},\"id\":\"4830\",\"type\":\"Scatter\"},{\"attributes\":{\"coordinates\":null,\"group\":null,\"text_color\":\"black\",\"text_font_size\":\"12pt\"},\"id\":\"4778\",\"type\":\"Title\"},{\"attributes\":{\"margin\":[5,5,5,5],\"name\":\"HSpacer05927\",\"sizing_mode\":\"stretch_width\"},\"id\":\"4772\",\"type\":\"Spacer\"},{\"attributes\":{\"line_color\":\"#30a2da\",\"line_width\":2,\"x\":{\"field\":\"Year\"},\"y\":{\"field\":\"Number of Suicides\"}},\"id\":\"4816\",\"type\":\"Line\"},{\"attributes\":{\"tools\":[{\"id\":\"4775\"},{\"id\":\"4794\"},{\"id\":\"4795\"},{\"id\":\"4796\"},{\"id\":\"4797\"},{\"id\":\"4798\"}]},\"id\":\"4800\",\"type\":\"Toolbar\"},{\"attributes\":{\"line_color\":\"#30a2da\",\"line_width\":2,\"x\":{\"field\":\"Year\"},\"y\":{\"field\":\"Number of Suicides\"}},\"id\":\"4821\",\"type\":\"Line\"},{\"attributes\":{},\"id\":\"4811\",\"type\":\"BasicTickFormatter\"},{\"attributes\":{\"coordinates\":null,\"data_source\":{\"id\":\"4822\"},\"glyph\":{\"id\":\"4825\"},\"group\":null,\"hover_glyph\":null,\"muted_glyph\":{\"id\":\"4827\"},\"nonselection_glyph\":{\"id\":\"4826\"},\"selection_glyph\":{\"id\":\"4830\"},\"view\":{\"id\":\"4829\"}},\"id\":\"4828\",\"type\":\"GlyphRenderer\"},{\"attributes\":{},\"id\":\"4814\",\"type\":\"Selection\"},{\"attributes\":{\"bottom_units\":\"screen\",\"coordinates\":null,\"fill_alpha\":0.5,\"fill_color\":\"lightgrey\",\"group\":null,\"left_units\":\"screen\",\"level\":\"overlay\",\"line_alpha\":1.0,\"line_color\":\"black\",\"line_dash\":[4,4],\"line_width\":2,\"right_units\":\"screen\",\"syncable\":false,\"top_units\":\"screen\"},\"id\":\"4799\",\"type\":\"BoxAnnotation\"},{\"attributes\":{},\"id\":\"4794\",\"type\":\"SaveTool\"},{\"attributes\":{},\"id\":\"4812\",\"type\":\"AllLabels\"},{\"attributes\":{},\"id\":\"4838\",\"type\":\"UnionRenderers\"},{\"attributes\":{\"axis_label\":\"Year\",\"coordinates\":null,\"formatter\":{\"id\":\"4808\"},\"group\":null,\"major_label_orientation\":0.7853981633974483,\"major_label_policy\":{\"id\":\"4809\"},\"ticker\":{\"id\":\"4787\"}},\"id\":\"4786\",\"type\":\"LinearAxis\"},{\"attributes\":{\"line_alpha\":0.1,\"line_color\":\"#30a2da\",\"line_width\":2,\"x\":{\"field\":\"Year\"},\"y\":{\"field\":\"Number of Suicides\"}},\"id\":\"4817\",\"type\":\"Line\"},{\"attributes\":{\"fill_color\":{\"value\":\"#000000\"},\"hatch_color\":{\"value\":\"#000000\"},\"line_color\":{\"value\":\"#000000\"},\"size\":{\"value\":5.477225575051661},\"x\":{\"field\":\"Year\"},\"y\":{\"field\":\"Number of Suicides\"}},\"id\":\"4825\",\"type\":\"Scatter\"},{\"attributes\":{},\"id\":\"4795\",\"type\":\"PanTool\"},{\"attributes\":{\"children\":[{\"id\":\"4772\"},{\"id\":\"4777\"},{\"id\":\"4843\"}],\"margin\":[0,0,0,0],\"name\":\"Row05923\",\"tags\":[\"embedded\"]},\"id\":\"4771\",\"type\":\"Row\"},{\"attributes\":{},\"id\":\"4798\",\"type\":\"ResetTool\"},{\"attributes\":{\"source\":{\"id\":\"4813\"}},\"id\":\"4820\",\"type\":\"CDSView\"},{\"attributes\":{},\"id\":\"4796\",\"type\":\"WheelZoomTool\"},{\"attributes\":{},\"id\":\"4808\",\"type\":\"BasicTickFormatter\"},{\"attributes\":{\"overlay\":{\"id\":\"4799\"}},\"id\":\"4797\",\"type\":\"BoxZoomTool\"},{\"attributes\":{\"data\":{\"Number of Suicides\":[23257,25484,23663,22676,21013,20002,19780,20756,20353,20744,21249,21967,23280,31458,31115,29989,29132,29715,31881,30034,30369,29769,30665,30073,30523,29411,28766,26338,25991,24357,23092],\"Number_of_Suicides\":[23257,25484,23663,22676,21013,20002,19780,20756,20353,20744,21249,21967,23280,31458,31115,29989,29132,29715,31881,30034,30369,29769,30665,30073,30523,29411,28766,26338,25991,24357,23092],\"Year\":[1985,1986,1987,1988,1989,1990,1991,1992,1993,1994,1995,1996,1997,1998,1999,2000,2001,2002,2003,2004,2005,2006,2007,2008,2009,2010,2011,2012,2013,2014,2015]},\"selected\":{\"id\":\"4814\"},\"selection_policy\":{\"id\":\"4838\"}},\"id\":\"4813\",\"type\":\"ColumnDataSource\"},{\"attributes\":{},\"id\":\"4823\",\"type\":\"Selection\"},{\"attributes\":{},\"id\":\"4784\",\"type\":\"LinearScale\"},{\"attributes\":{\"data\":{\"Number of Suicides\":[23257,25484,23663,22676,21013,20002,19780,20756,20353,20744,21249,21967,23280,31458,31115,29989,29132,29715,31881,30034,30369,29769,30665,30073,30523,29411,28766,26338,25991,24357,23092],\"Number_of_Suicides\":[23257,25484,23663,22676,21013,20002,19780,20756,20353,20744,21249,21967,23280,31458,31115,29989,29132,29715,31881,30034,30369,29769,30665,30073,30523,29411,28766,26338,25991,24357,23092],\"Year\":[1985,1986,1987,1988,1989,1990,1991,1992,1993,1994,1995,1996,1997,1998,1999,2000,2001,2002,2003,2004,2005,2006,2007,2008,2009,2010,2011,2012,2013,2014,2015]},\"selected\":{\"id\":\"4823\"},\"selection_policy\":{\"id\":\"4840\"}},\"id\":\"4822\",\"type\":\"ColumnDataSource\"},{\"attributes\":{},\"id\":\"4809\",\"type\":\"AllLabels\"},{\"attributes\":{},\"id\":\"4782\",\"type\":\"LinearScale\"},{\"attributes\":{\"source\":{\"id\":\"4822\"}},\"id\":\"4829\",\"type\":\"CDSView\"},{\"attributes\":{\"fill_alpha\":{\"value\":0.2},\"fill_color\":{\"value\":\"#000000\"},\"hatch_alpha\":{\"value\":0.2},\"hatch_color\":{\"value\":\"#000000\"},\"line_alpha\":{\"value\":0.2},\"line_color\":{\"value\":\"#000000\"},\"size\":{\"value\":5.477225575051661},\"x\":{\"field\":\"Year\"},\"y\":{\"field\":\"Number of Suicides\"}},\"id\":\"4827\",\"type\":\"Scatter\"},{\"attributes\":{\"coordinates\":null,\"data_source\":{\"id\":\"4813\"},\"glyph\":{\"id\":\"4816\"},\"group\":null,\"hover_glyph\":null,\"muted_glyph\":{\"id\":\"4818\"},\"nonselection_glyph\":{\"id\":\"4817\"},\"selection_glyph\":{\"id\":\"4821\"},\"view\":{\"id\":\"4820\"}},\"id\":\"4819\",\"type\":\"GlyphRenderer\"}],\"root_ids\":[\"4771\"]},\"title\":\"Bokeh Application\",\"version\":\"2.4.3\"}};\n",
       "    var render_items = [{\"docid\":\"c4b54287-0e57-4f30-82e5-48953e0dc9e1\",\"root_ids\":[\"4771\"],\"roots\":{\"4771\":\"97fa7124-8e5a-4e91-85d5-a64d10304410\"}}];\n",
       "    root.Bokeh.embed.embed_items_notebook(docs_json, render_items);\n",
       "  }\n",
       "  if (root.Bokeh !== undefined && root.Bokeh.Panel !== undefined) {\n",
       "    embed_document(root);\n",
       "  } else {\n",
       "    var attempts = 0;\n",
       "    var timer = setInterval(function(root) {\n",
       "      if (root.Bokeh !== undefined && root.Bokeh.Panel !== undefined) {\n",
       "        clearInterval(timer);\n",
       "        embed_document(root);\n",
       "      } else if (document.readyState == \"complete\") {\n",
       "        attempts++;\n",
       "        if (attempts > 200) {\n",
       "          clearInterval(timer);\n",
       "          console.log(\"Bokeh: ERROR: Unable to run BokehJS code because BokehJS library is missing\");\n",
       "        }\n",
       "      }\n",
       "    }, 25, root)\n",
       "  }\n",
       "})(window);</script>"
      ],
      "text/plain": [
       ":Overlay\n",
       "   .Curve.I   :Curve   [Year]   (Number of Suicides)\n",
       "   .Scatter.I :Scatter   [Year]   (Number of Suicides)"
      ]
     },
     "execution_count": 70,
     "metadata": {
      "application/vnd.holoviews_exec.v0+json": {
       "id": "4771"
      }
     },
     "output_type": "execute_result"
    }
   ],
   "source": [
    "japan_suicides_total.hvplot(x=\"Year\", y=\"Number of Suicides\", rot=45).opts(\n",
    "    height=450, width=800\n",
    ") * japan_suicides_total.hvplot.scatter(\n",
    "    x=\"Year\", y=\"Number of Suicides\", rot=45, c=\"k\"\n",
    ").opts(\n",
    "    height=450, width=800\n",
    ")"
   ]
  },
  {
   "cell_type": "code",
   "execution_count": 71,
   "metadata": {},
   "outputs": [
    {
     "data": {},
     "metadata": {},
     "output_type": "display_data"
    },
    {
     "data": {
      "application/vnd.holoviews_exec.v0+json": "",
      "text/html": [
       "<div id='4905'>\n",
       "  <div class=\"bk-root\" id=\"b444d871-974e-46fc-a23b-9178a7f5044f\" data-root-id=\"4905\"></div>\n",
       "</div>\n",
       "<script type=\"application/javascript\">(function(root) {\n",
       "  function embed_document(root) {\n",
       "    var docs_json = {\"f8da8d59-7b49-4159-9b17-ec9ef947f589\":{\"defs\":[{\"extends\":null,\"module\":null,\"name\":\"ReactiveHTML1\",\"overrides\":[],\"properties\":[]},{\"extends\":null,\"module\":null,\"name\":\"FlexBox1\",\"overrides\":[],\"properties\":[{\"default\":\"flex-start\",\"kind\":null,\"name\":\"align_content\"},{\"default\":\"flex-start\",\"kind\":null,\"name\":\"align_items\"},{\"default\":\"row\",\"kind\":null,\"name\":\"flex_direction\"},{\"default\":\"wrap\",\"kind\":null,\"name\":\"flex_wrap\"},{\"default\":\"flex-start\",\"kind\":null,\"name\":\"justify_content\"}]},{\"extends\":null,\"module\":null,\"name\":\"GridStack1\",\"overrides\":[],\"properties\":[{\"default\":\"warn\",\"kind\":null,\"name\":\"mode\"},{\"default\":null,\"kind\":null,\"name\":\"ncols\"},{\"default\":null,\"kind\":null,\"name\":\"nrows\"},{\"default\":true,\"kind\":null,\"name\":\"allow_resize\"},{\"default\":true,\"kind\":null,\"name\":\"allow_drag\"},{\"default\":[],\"kind\":null,\"name\":\"state\"}]},{\"extends\":null,\"module\":null,\"name\":\"click1\",\"overrides\":[],\"properties\":[{\"default\":\"\",\"kind\":null,\"name\":\"terminal_output\"},{\"default\":\"\",\"kind\":null,\"name\":\"debug_name\"},{\"default\":0,\"kind\":null,\"name\":\"clears\"}]},{\"extends\":null,\"module\":null,\"name\":\"NotificationAreaBase1\",\"overrides\":[],\"properties\":[{\"default\":\"bottom-right\",\"kind\":null,\"name\":\"position\"},{\"default\":0,\"kind\":null,\"name\":\"_clear\"}]},{\"extends\":null,\"module\":null,\"name\":\"NotificationArea1\",\"overrides\":[],\"properties\":[{\"default\":[],\"kind\":null,\"name\":\"notifications\"},{\"default\":\"bottom-right\",\"kind\":null,\"name\":\"position\"},{\"default\":0,\"kind\":null,\"name\":\"_clear\"},{\"default\":[{\"background\":\"#ffc107\",\"icon\":{\"className\":\"fas fa-exclamation-triangle\",\"color\":\"white\",\"tagName\":\"i\"},\"type\":\"warning\"},{\"background\":\"#007bff\",\"icon\":{\"className\":\"fas fa-info-circle\",\"color\":\"white\",\"tagName\":\"i\"},\"type\":\"info\"}],\"kind\":null,\"name\":\"types\"}]},{\"extends\":null,\"module\":null,\"name\":\"Notification\",\"overrides\":[],\"properties\":[{\"default\":null,\"kind\":null,\"name\":\"background\"},{\"default\":3000,\"kind\":null,\"name\":\"duration\"},{\"default\":null,\"kind\":null,\"name\":\"icon\"},{\"default\":\"\",\"kind\":null,\"name\":\"message\"},{\"default\":null,\"kind\":null,\"name\":\"notification_type\"},{\"default\":false,\"kind\":null,\"name\":\"_destroyed\"}]},{\"extends\":null,\"module\":null,\"name\":\"TemplateActions1\",\"overrides\":[],\"properties\":[{\"default\":0,\"kind\":null,\"name\":\"open_modal\"},{\"default\":0,\"kind\":null,\"name\":\"close_modal\"}]},{\"extends\":null,\"module\":null,\"name\":\"MaterialTemplateActions1\",\"overrides\":[],\"properties\":[{\"default\":0,\"kind\":null,\"name\":\"open_modal\"},{\"default\":0,\"kind\":null,\"name\":\"close_modal\"}]}],\"roots\":{\"references\":[{\"attributes\":{\"coordinates\":null,\"data_source\":{\"id\":\"4948\"},\"glyph\":{\"id\":\"4951\"},\"group\":null,\"hover_glyph\":null,\"muted_glyph\":{\"id\":\"4953\"},\"nonselection_glyph\":{\"id\":\"4952\"},\"selection_glyph\":{\"id\":\"4956\"},\"view\":{\"id\":\"4955\"}},\"id\":\"4954\",\"type\":\"GlyphRenderer\"},{\"attributes\":{\"source\":{\"id\":\"4948\"}},\"id\":\"4955\",\"type\":\"CDSView\"},{\"attributes\":{\"bottom_units\":\"screen\",\"coordinates\":null,\"fill_alpha\":0.5,\"fill_color\":\"lightgrey\",\"group\":null,\"left_units\":\"screen\",\"level\":\"overlay\",\"line_alpha\":1.0,\"line_color\":\"black\",\"line_dash\":[4,4],\"line_width\":2,\"right_units\":\"screen\",\"syncable\":false,\"top_units\":\"screen\"},\"id\":\"4933\",\"type\":\"BoxAnnotation\"},{\"attributes\":{},\"id\":\"4928\",\"type\":\"SaveTool\"},{\"attributes\":{},\"id\":\"4929\",\"type\":\"PanTool\"},{\"attributes\":{\"line_alpha\":0.2,\"line_color\":\"red\",\"line_width\":2,\"x\":{\"field\":\"Year\"},\"y\":{\"field\":\"Predicted Suicides\"}},\"id\":\"4962\",\"type\":\"Line\"},{\"attributes\":{\"overlay\":{\"id\":\"4933\"}},\"id\":\"4931\",\"type\":\"BoxZoomTool\"},{\"attributes\":{},\"id\":\"4921\",\"type\":\"BasicTicker\"},{\"attributes\":{\"below\":[{\"id\":\"4920\"}],\"center\":[{\"id\":\"4923\"},{\"id\":\"4927\"}],\"height\":300,\"left\":[{\"id\":\"4924\"}],\"margin\":[5,5,5,5],\"min_border_bottom\":10,\"min_border_left\":10,\"min_border_right\":10,\"min_border_top\":10,\"renderers\":[{\"id\":\"4954\"},{\"id\":\"4963\"}],\"sizing_mode\":\"fixed\",\"title\":{\"id\":\"4912\"},\"toolbar\":{\"id\":\"4934\"},\"width\":700,\"x_range\":{\"id\":\"4907\"},\"x_scale\":{\"id\":\"4916\"},\"y_range\":{\"id\":\"4908\"},\"y_scale\":{\"id\":\"4918\"}},\"id\":\"4911\",\"subtype\":\"Figure\",\"type\":\"Plot\"},{\"attributes\":{},\"id\":\"4930\",\"type\":\"WheelZoomTool\"},{\"attributes\":{\"angle\":{\"value\":0.0},\"fill_alpha\":{\"value\":1.0},\"fill_color\":{\"value\":\"#30a2da\"},\"hatch_alpha\":{\"value\":1.0},\"hatch_color\":{\"value\":\"#30a2da\"},\"hatch_scale\":{\"value\":12.0},\"hatch_weight\":{\"value\":1.0},\"line_alpha\":{\"value\":1.0},\"line_cap\":{\"value\":\"butt\"},\"line_color\":{\"value\":\"#30a2da\"},\"line_dash\":{\"value\":[]},\"line_dash_offset\":{\"value\":0},\"line_join\":{\"value\":\"bevel\"},\"line_width\":{\"value\":1},\"marker\":{\"value\":\"circle\"},\"size\":{\"value\":5.477225575051661},\"x\":{\"field\":\"Year\"},\"y\":{\"field\":\"Number of Suicides\"}},\"id\":\"4956\",\"type\":\"Scatter\"},{\"attributes\":{\"callback\":null,\"renderers\":[{\"id\":\"4954\"}],\"tags\":[\"hv_created\"],\"tooltips\":[[\"Year\",\"@{Year}\"],[\"Number of Suicides\",\"@{Number_of_Suicides}\"]]},\"id\":\"4909\",\"type\":\"HoverTool\"},{\"attributes\":{\"coordinates\":null,\"group\":null,\"text_color\":\"black\",\"text_font_size\":\"12pt\"},\"id\":\"4912\",\"type\":\"Title\"},{\"attributes\":{\"source\":{\"id\":\"4957\"}},\"id\":\"4964\",\"type\":\"CDSView\"},{\"attributes\":{\"line_color\":\"red\",\"line_width\":2,\"x\":{\"field\":\"Year\"},\"y\":{\"field\":\"Predicted Suicides\"}},\"id\":\"4965\",\"type\":\"Line\"},{\"attributes\":{\"callback\":null,\"renderers\":[{\"id\":\"4963\"}],\"tags\":[\"hv_created\"],\"tooltips\":[[\"Year\",\"@{Year}\"],[\"Predicted Suicides\",\"@{Predicted_Suicides}\"]]},\"id\":\"4910\",\"type\":\"HoverTool\"},{\"attributes\":{},\"id\":\"4947\",\"type\":\"AllLabels\"},{\"attributes\":{},\"id\":\"4958\",\"type\":\"Selection\"},{\"attributes\":{},\"id\":\"4932\",\"type\":\"ResetTool\"},{\"attributes\":{},\"id\":\"4925\",\"type\":\"BasicTicker\"},{\"attributes\":{\"children\":[{\"id\":\"4906\"},{\"id\":\"4911\"},{\"id\":\"4978\"}],\"margin\":[0,0,0,0],\"name\":\"Row06140\",\"tags\":[\"embedded\"]},\"id\":\"4905\",\"type\":\"Row\"},{\"attributes\":{\"tools\":[{\"id\":\"4909\"},{\"id\":\"4910\"},{\"id\":\"4928\"},{\"id\":\"4929\"},{\"id\":\"4930\"},{\"id\":\"4931\"},{\"id\":\"4932\"}]},\"id\":\"4934\",\"type\":\"Toolbar\"},{\"attributes\":{\"data\":{\"Number of Suicides\":[29446,30892,30783,30388,30218,30895,30790,30471,31084,31123,31272,30879,30517,30558,29183,29343,30607,31645,31477,32428,32629,33292,34596,36030,36900,38362,39508,40596,41143,42721,44159,44925,47126,48290,47467,45941,48137],\"Number_of_Suicides\":[29446,30892,30783,30388,30218,30895,30790,30471,31084,31123,31272,30879,30517,30558,29183,29343,30607,31645,31477,32428,32629,33292,34596,36030,36900,38362,39508,40596,41143,42721,44159,44925,47126,48290,47467,45941,48137],\"Year\":[1985,1986,1987,1988,1989,1990,1991,1992,1993,1994,1995,1996,1997,1998,1999,2000,2001,2002,2003,2004,2005,2006,2007,2008,2009,2010,2011,2012,2013,2014,2015,2016,2017,2018,2019,2020,2021]},\"selected\":{\"id\":\"4949\"},\"selection_policy\":{\"id\":\"4973\"}},\"id\":\"4948\",\"type\":\"ColumnDataSource\"},{\"attributes\":{},\"id\":\"4916\",\"type\":\"LinearScale\"},{\"attributes\":{\"coordinates\":null,\"data_source\":{\"id\":\"4957\"},\"glyph\":{\"id\":\"4960\"},\"group\":null,\"hover_glyph\":null,\"muted_glyph\":{\"id\":\"4962\"},\"nonselection_glyph\":{\"id\":\"4961\"},\"selection_glyph\":{\"id\":\"4965\"},\"view\":{\"id\":\"4964\"}},\"id\":\"4963\",\"type\":\"GlyphRenderer\"},{\"attributes\":{\"end\":50522.951066856345,\"reset_end\":50522.951066856345,\"reset_start\":23727.538264580235,\"start\":23727.538264580235,\"tags\":[[[\"Number of Suicides\",\"Number of Suicides\",null]]]},\"id\":\"4908\",\"type\":\"Range1d\"},{\"attributes\":{\"axis\":{\"id\":\"4920\"},\"coordinates\":null,\"grid_line_color\":null,\"group\":null,\"ticker\":null},\"id\":\"4923\",\"type\":\"Grid\"},{\"attributes\":{},\"id\":\"4973\",\"type\":\"UnionRenderers\"},{\"attributes\":{},\"id\":\"4975\",\"type\":\"UnionRenderers\"},{\"attributes\":{},\"id\":\"4918\",\"type\":\"LinearScale\"},{\"attributes\":{},\"id\":\"4943\",\"type\":\"BasicTickFormatter\"},{\"attributes\":{},\"id\":\"4949\",\"type\":\"Selection\"},{\"attributes\":{\"axis_label\":\"Number of Suicides\",\"coordinates\":null,\"formatter\":{\"id\":\"4946\"},\"group\":null,\"major_label_policy\":{\"id\":\"4947\"},\"ticker\":{\"id\":\"4925\"}},\"id\":\"4924\",\"type\":\"LinearAxis\"},{\"attributes\":{\"fill_alpha\":{\"value\":0.2},\"fill_color\":{\"value\":\"#30a2da\"},\"hatch_alpha\":{\"value\":0.2},\"hatch_color\":{\"value\":\"#30a2da\"},\"line_alpha\":{\"value\":0.2},\"line_color\":{\"value\":\"#30a2da\"},\"size\":{\"value\":5.477225575051661},\"x\":{\"field\":\"Year\"},\"y\":{\"field\":\"Number of Suicides\"}},\"id\":\"4953\",\"type\":\"Scatter\"},{\"attributes\":{\"axis_label\":\"Year\",\"coordinates\":null,\"formatter\":{\"id\":\"4943\"},\"group\":null,\"major_label_orientation\":0.6457718232379019,\"major_label_policy\":{\"id\":\"4944\"},\"ticker\":{\"id\":\"4921\"}},\"id\":\"4920\",\"type\":\"LinearAxis\"},{\"attributes\":{},\"id\":\"4944\",\"type\":\"AllLabels\"},{\"attributes\":{\"end\":2022.5428571428572,\"reset_end\":2022.5428571428572,\"reset_start\":1983.4571428571428,\"start\":1983.4571428571428,\"tags\":[[[\"Year\",\"Year\",null]]]},\"id\":\"4907\",\"type\":\"Range1d\"},{\"attributes\":{},\"id\":\"4946\",\"type\":\"BasicTickFormatter\"},{\"attributes\":{\"line_color\":\"red\",\"line_width\":2,\"x\":{\"field\":\"Year\"},\"y\":{\"field\":\"Predicted Suicides\"}},\"id\":\"4960\",\"type\":\"Line\"},{\"attributes\":{\"axis\":{\"id\":\"4924\"},\"coordinates\":null,\"dimension\":1,\"grid_line_color\":null,\"group\":null,\"ticker\":null},\"id\":\"4927\",\"type\":\"Grid\"},{\"attributes\":{\"line_alpha\":0.1,\"line_color\":\"red\",\"line_width\":2,\"x\":{\"field\":\"Year\"},\"y\":{\"field\":\"Predicted Suicides\"}},\"id\":\"4961\",\"type\":\"Line\"},{\"attributes\":{\"margin\":[5,5,5,5],\"name\":\"HSpacer06144\",\"sizing_mode\":\"stretch_width\"},\"id\":\"4906\",\"type\":\"Spacer\"},{\"attributes\":{\"fill_alpha\":{\"value\":0.1},\"fill_color\":{\"value\":\"#30a2da\"},\"hatch_alpha\":{\"value\":0.1},\"hatch_color\":{\"value\":\"#30a2da\"},\"line_alpha\":{\"value\":0.1},\"line_color\":{\"value\":\"#30a2da\"},\"size\":{\"value\":5.477225575051661},\"x\":{\"field\":\"Year\"},\"y\":{\"field\":\"Number of Suicides\"}},\"id\":\"4952\",\"type\":\"Scatter\"},{\"attributes\":{\"margin\":[5,5,5,5],\"name\":\"HSpacer06145\",\"sizing_mode\":\"stretch_width\"},\"id\":\"4978\",\"type\":\"Spacer\"},{\"attributes\":{\"data\":{\"Predicted Suicides\":{\"__ndarray__\":\"QM00UR9a2UCAxsydfN/ZQMC/ZOrZZNpAwLj8Njfq2kAAspSDlG/bQECrLNDx9NtAgKTEHE963EDAnVxprP/cQACX9LUJhd1AAJCMAmcK3kBAiSRPxI/eQICCvJshFd9AwHtU6H6a30CAOnYa7g/gQAA3wsCcUuBAoDMOZ0uV4EBAMFoN+tfgQOAsprOoGuFAgCnyWVdd4UAAJj4ABqDhQKAiiqa04uFAQB/WTGMl4kDgGyLzEWjiQIAYbpnAquJAABW6P2/t4kCgEQbmHTDjQEAOUozMcuNA4AqeMnu140CAB+rYKfjjQAAENn/YOuRAoACCJYd95EBA/c3LNcDkQOD5GXLkAuVAgPZlGJNF5UAg87G+QYjlQKDv/WTwyuVAQOxJC58N5kA=\",\"dtype\":\"float64\",\"order\":\"little\",\"shape\":[37]},\"Predicted_Suicides\":{\"__ndarray__\":\"QM00UR9a2UCAxsydfN/ZQMC/ZOrZZNpAwLj8Njfq2kAAspSDlG/bQECrLNDx9NtAgKTEHE963EDAnVxprP/cQACX9LUJhd1AAJCMAmcK3kBAiSRPxI/eQICCvJshFd9AwHtU6H6a30CAOnYa7g/gQAA3wsCcUuBAoDMOZ0uV4EBAMFoN+tfgQOAsprOoGuFAgCnyWVdd4UAAJj4ABqDhQKAiiqa04uFAQB/WTGMl4kDgGyLzEWjiQIAYbpnAquJAABW6P2/t4kCgEQbmHTDjQEAOUozMcuNA4AqeMnu140CAB+rYKfjjQAAENn/YOuRAoACCJYd95EBA/c3LNcDkQOD5GXLkAuVAgPZlGJNF5UAg87G+QYjlQKDv/WTwyuVAQOxJC58N5kA=\",\"dtype\":\"float64\",\"order\":\"little\",\"shape\":[37]},\"Year\":[1985,1986,1987,1988,1989,1990,1991,1992,1993,1994,1995,1996,1997,1998,1999,2000,2001,2002,2003,2004,2005,2006,2007,2008,2009,2010,2011,2012,2013,2014,2015,2016,2017,2018,2019,2020,2021]},\"selected\":{\"id\":\"4958\"},\"selection_policy\":{\"id\":\"4975\"}},\"id\":\"4957\",\"type\":\"ColumnDataSource\"},{\"attributes\":{\"fill_color\":{\"value\":\"#30a2da\"},\"hatch_color\":{\"value\":\"#30a2da\"},\"line_color\":{\"value\":\"#30a2da\"},\"size\":{\"value\":5.477225575051661},\"x\":{\"field\":\"Year\"},\"y\":{\"field\":\"Number of Suicides\"}},\"id\":\"4951\",\"type\":\"Scatter\"}],\"root_ids\":[\"4905\"]},\"title\":\"Bokeh Application\",\"version\":\"2.4.3\"}};\n",
       "    var render_items = [{\"docid\":\"f8da8d59-7b49-4159-9b17-ec9ef947f589\",\"root_ids\":[\"4905\"],\"roots\":{\"4905\":\"b444d871-974e-46fc-a23b-9178a7f5044f\"}}];\n",
       "    root.Bokeh.embed.embed_items_notebook(docs_json, render_items);\n",
       "  }\n",
       "  if (root.Bokeh !== undefined && root.Bokeh.Panel !== undefined) {\n",
       "    embed_document(root);\n",
       "  } else {\n",
       "    var attempts = 0;\n",
       "    var timer = setInterval(function(root) {\n",
       "      if (root.Bokeh !== undefined && root.Bokeh.Panel !== undefined) {\n",
       "        clearInterval(timer);\n",
       "        embed_document(root);\n",
       "      } else if (document.readyState == \"complete\") {\n",
       "        attempts++;\n",
       "        if (attempts > 200) {\n",
       "          clearInterval(timer);\n",
       "          console.log(\"Bokeh: ERROR: Unable to run BokehJS code because BokehJS library is missing\");\n",
       "        }\n",
       "      }\n",
       "    }, 25, root)\n",
       "  }\n",
       "})(window);</script>"
      ],
      "text/plain": [
       ":Overlay\n",
       "   .Scatter.I :Scatter   [Year]   (Number of Suicides)\n",
       "   .Curve.I   :Curve   [Year]   (Predicted Suicides)"
      ]
     },
     "execution_count": 71,
     "metadata": {
      "application/vnd.holoviews_exec.v0+json": {
       "id": "4905"
      }
     },
     "output_type": "execute_result"
    }
   ],
   "source": [
    "# Separate the features (Year) and target (Number of Suicides)\n",
    "X = us_suicides_total[[\"Year\"]]\n",
    "y = us_suicides_total[\"Number of Suicides\"]\n",
    "\n",
    "# Create and fit a linear regression model\n",
    "model = LinearRegression()\n",
    "model.fit(X, y)\n",
    "\n",
    "# Generate predictions using the fitted model\n",
    "y_pred = model.predict(X)\n",
    "\n",
    "# Create scatter plots using hvPlot\n",
    "scatter_actual = us_suicides_total.hvplot.scatter(\n",
    "    x=\"Year\", y=\"Number of Suicides\", rot=37\n",
    ")\n",
    "scatter_predicted = pd.DataFrame(\n",
    "    {\"Year\": us_suicides_total[\"Year\"], \"Predicted Suicides\": y_pred}\n",
    ").hvplot.line(x=\"Year\", y=\"Predicted Suicides\", color=\"red\")\n",
    "\n",
    "# Combine the scatter plots\n",
    "scatter_actual * scatter_predicted"
   ]
  },
  {
   "cell_type": "code",
   "execution_count": 72,
   "metadata": {},
   "outputs": [],
   "source": [
    "metrics_988 = metrics_988.rename(columns={\"Unnamed: 0\": \"Month\"})\n",
    "metrics_988 = metrics_988.iloc[::-1]"
   ]
  },
  {
   "cell_type": "code",
   "execution_count": 73,
   "metadata": {},
   "outputs": [
    {
     "data": {},
     "metadata": {},
     "output_type": "display_data"
    },
    {
     "data": {
      "application/vnd.holoviews_exec.v0+json": "",
      "text/html": [
       "<div id='5040'>\n",
       "  <div class=\"bk-root\" id=\"04bbd2e9-03b2-4978-a181-3064ef0c19d9\" data-root-id=\"5040\"></div>\n",
       "</div>\n",
       "<script type=\"application/javascript\">(function(root) {\n",
       "  function embed_document(root) {\n",
       "    var docs_json = {\"d48a0578-022d-407c-a102-8dad9effc2ad\":{\"defs\":[{\"extends\":null,\"module\":null,\"name\":\"ReactiveHTML1\",\"overrides\":[],\"properties\":[]},{\"extends\":null,\"module\":null,\"name\":\"FlexBox1\",\"overrides\":[],\"properties\":[{\"default\":\"flex-start\",\"kind\":null,\"name\":\"align_content\"},{\"default\":\"flex-start\",\"kind\":null,\"name\":\"align_items\"},{\"default\":\"row\",\"kind\":null,\"name\":\"flex_direction\"},{\"default\":\"wrap\",\"kind\":null,\"name\":\"flex_wrap\"},{\"default\":\"flex-start\",\"kind\":null,\"name\":\"justify_content\"}]},{\"extends\":null,\"module\":null,\"name\":\"GridStack1\",\"overrides\":[],\"properties\":[{\"default\":\"warn\",\"kind\":null,\"name\":\"mode\"},{\"default\":null,\"kind\":null,\"name\":\"ncols\"},{\"default\":null,\"kind\":null,\"name\":\"nrows\"},{\"default\":true,\"kind\":null,\"name\":\"allow_resize\"},{\"default\":true,\"kind\":null,\"name\":\"allow_drag\"},{\"default\":[],\"kind\":null,\"name\":\"state\"}]},{\"extends\":null,\"module\":null,\"name\":\"click1\",\"overrides\":[],\"properties\":[{\"default\":\"\",\"kind\":null,\"name\":\"terminal_output\"},{\"default\":\"\",\"kind\":null,\"name\":\"debug_name\"},{\"default\":0,\"kind\":null,\"name\":\"clears\"}]},{\"extends\":null,\"module\":null,\"name\":\"NotificationAreaBase1\",\"overrides\":[],\"properties\":[{\"default\":\"bottom-right\",\"kind\":null,\"name\":\"position\"},{\"default\":0,\"kind\":null,\"name\":\"_clear\"}]},{\"extends\":null,\"module\":null,\"name\":\"NotificationArea1\",\"overrides\":[],\"properties\":[{\"default\":[],\"kind\":null,\"name\":\"notifications\"},{\"default\":\"bottom-right\",\"kind\":null,\"name\":\"position\"},{\"default\":0,\"kind\":null,\"name\":\"_clear\"},{\"default\":[{\"background\":\"#ffc107\",\"icon\":{\"className\":\"fas fa-exclamation-triangle\",\"color\":\"white\",\"tagName\":\"i\"},\"type\":\"warning\"},{\"background\":\"#007bff\",\"icon\":{\"className\":\"fas fa-info-circle\",\"color\":\"white\",\"tagName\":\"i\"},\"type\":\"info\"}],\"kind\":null,\"name\":\"types\"}]},{\"extends\":null,\"module\":null,\"name\":\"Notification\",\"overrides\":[],\"properties\":[{\"default\":null,\"kind\":null,\"name\":\"background\"},{\"default\":3000,\"kind\":null,\"name\":\"duration\"},{\"default\":null,\"kind\":null,\"name\":\"icon\"},{\"default\":\"\",\"kind\":null,\"name\":\"message\"},{\"default\":null,\"kind\":null,\"name\":\"notification_type\"},{\"default\":false,\"kind\":null,\"name\":\"_destroyed\"}]},{\"extends\":null,\"module\":null,\"name\":\"TemplateActions1\",\"overrides\":[],\"properties\":[{\"default\":0,\"kind\":null,\"name\":\"open_modal\"},{\"default\":0,\"kind\":null,\"name\":\"close_modal\"}]},{\"extends\":null,\"module\":null,\"name\":\"MaterialTemplateActions1\",\"overrides\":[],\"properties\":[{\"default\":0,\"kind\":null,\"name\":\"open_modal\"},{\"default\":0,\"kind\":null,\"name\":\"close_modal\"}]}],\"roots\":{\"references\":[{\"attributes\":{\"end\":2015.6857142857143,\"reset_end\":2015.6857142857143,\"reset_start\":1998.3142857142857,\"start\":1998.3142857142857,\"tags\":[[[\"Year\",\"Year\",null]]]},\"id\":\"5042\",\"type\":\"Range1d\"},{\"attributes\":{},\"id\":\"5108\",\"type\":\"UnionRenderers\"},{\"attributes\":{\"margin\":[5,5,5,5],\"name\":\"HSpacer06362\",\"sizing_mode\":\"stretch_width\"},\"id\":\"5113\",\"type\":\"Spacer\"},{\"attributes\":{\"line_color\":\"red\",\"line_width\":2,\"x\":{\"field\":\"Year\"},\"y\":{\"field\":\"Predicted Suicides\"}},\"id\":\"5100\",\"type\":\"Line\"},{\"attributes\":{\"callback\":null,\"renderers\":[{\"id\":\"5098\"}],\"tags\":[\"hv_created\"],\"tooltips\":[[\"Year\",\"@{Year}\"],[\"Predicted Suicides\",\"@{Predicted_Suicides}\"]]},\"id\":\"5045\",\"type\":\"HoverTool\"},{\"attributes\":{\"tools\":[{\"id\":\"5044\"},{\"id\":\"5045\"},{\"id\":\"5063\"},{\"id\":\"5064\"},{\"id\":\"5065\"},{\"id\":\"5066\"},{\"id\":\"5067\"}]},\"id\":\"5069\",\"type\":\"Toolbar\"},{\"attributes\":{\"margin\":[5,5,5,5],\"name\":\"HSpacer06361\",\"sizing_mode\":\"stretch_width\"},\"id\":\"5041\",\"type\":\"Spacer\"},{\"attributes\":{},\"id\":\"5093\",\"type\":\"Selection\"},{\"attributes\":{\"coordinates\":null,\"group\":null,\"text_color\":\"black\",\"text_font_size\":\"12pt\"},\"id\":\"5047\",\"type\":\"Title\"},{\"attributes\":{\"fill_color\":{\"value\":\"#30a2da\"},\"hatch_color\":{\"value\":\"#30a2da\"},\"line_color\":{\"value\":\"#30a2da\"},\"size\":{\"value\":5.477225575051661},\"x\":{\"field\":\"Year\"},\"y\":{\"field\":\"Suicides per 100k\"}},\"id\":\"5086\",\"type\":\"Scatter\"},{\"attributes\":{\"bottom_units\":\"screen\",\"coordinates\":null,\"fill_alpha\":0.5,\"fill_color\":\"lightgrey\",\"group\":null,\"left_units\":\"screen\",\"level\":\"overlay\",\"line_alpha\":1.0,\"line_color\":\"black\",\"line_dash\":[4,4],\"line_width\":2,\"right_units\":\"screen\",\"syncable\":false,\"top_units\":\"screen\"},\"id\":\"5068\",\"type\":\"BoxAnnotation\"},{\"attributes\":{},\"id\":\"5063\",\"type\":\"SaveTool\"},{\"attributes\":{},\"id\":\"5064\",\"type\":\"PanTool\"},{\"attributes\":{},\"id\":\"5056\",\"type\":\"BasicTicker\"},{\"attributes\":{\"overlay\":{\"id\":\"5068\"}},\"id\":\"5066\",\"type\":\"BoxZoomTool\"},{\"attributes\":{\"line_alpha\":0.2,\"line_color\":\"red\",\"line_width\":2,\"x\":{\"field\":\"Year\"},\"y\":{\"field\":\"Predicted Suicides\"}},\"id\":\"5097\",\"type\":\"Line\"},{\"attributes\":{},\"id\":\"5065\",\"type\":\"WheelZoomTool\"},{\"attributes\":{},\"id\":\"5084\",\"type\":\"Selection\"},{\"attributes\":{},\"id\":\"5082\",\"type\":\"AllLabels\"},{\"attributes\":{\"data\":{\"Predicted Suicides\":{\"__ndarray__\":\"8LJ/TBm2YUBwPQrXo+thQADIlGEuIWJAkFIf7LhWYkAQ3al2Q4xiQKBnNAHOwWJAMPK+i1j3YkCwfEkW4yxjQEAH1KBtYmNA0JFeK/iXY0BQHOm1gs1jQOCmc0ANA2RAcDH+ypc4ZEDwu4hVIm5kQIBGE+Cso2RAENGdajfZZECQWyj1wQ5lQA==\",\"dtype\":\"float64\",\"order\":\"little\",\"shape\":[17]},\"Predicted_Suicides\":{\"__ndarray__\":\"8LJ/TBm2YUBwPQrXo+thQADIlGEuIWJAkFIf7LhWYkAQ3al2Q4xiQKBnNAHOwWJAMPK+i1j3YkCwfEkW4yxjQEAH1KBtYmNA0JFeK/iXY0BQHOm1gs1jQOCmc0ANA2RAcDH+ypc4ZEDwu4hVIm5kQIBGE+Cso2RAENGdajfZZECQWyj1wQ5lQA==\",\"dtype\":\"float64\",\"order\":\"little\",\"shape\":[17]},\"Year\":[1999,2000,2001,2002,2003,2004,2005,2006,2007,2008,2009,2010,2011,2012,2013,2014,2015]},\"selected\":{\"id\":\"5093\"},\"selection_policy\":{\"id\":\"5110\"}},\"id\":\"5092\",\"type\":\"ColumnDataSource\"},{\"attributes\":{},\"id\":\"5060\",\"type\":\"BasicTicker\"},{\"attributes\":{},\"id\":\"5067\",\"type\":\"ResetTool\"},{\"attributes\":{},\"id\":\"5051\",\"type\":\"LinearScale\"},{\"attributes\":{\"coordinates\":null,\"data_source\":{\"id\":\"5083\"},\"glyph\":{\"id\":\"5086\"},\"group\":null,\"hover_glyph\":null,\"muted_glyph\":{\"id\":\"5088\"},\"nonselection_glyph\":{\"id\":\"5087\"},\"selection_glyph\":{\"id\":\"5091\"},\"view\":{\"id\":\"5090\"}},\"id\":\"5089\",\"type\":\"GlyphRenderer\"},{\"attributes\":{\"source\":{\"id\":\"5092\"}},\"id\":\"5099\",\"type\":\"CDSView\"},{\"attributes\":{\"axis\":{\"id\":\"5055\"},\"coordinates\":null,\"grid_line_color\":null,\"group\":null,\"ticker\":null},\"id\":\"5058\",\"type\":\"Grid\"},{\"attributes\":{},\"id\":\"5081\",\"type\":\"BasicTickFormatter\"},{\"attributes\":{\"coordinates\":null,\"data_source\":{\"id\":\"5092\"},\"glyph\":{\"id\":\"5095\"},\"group\":null,\"hover_glyph\":null,\"muted_glyph\":{\"id\":\"5097\"},\"nonselection_glyph\":{\"id\":\"5096\"},\"selection_glyph\":{\"id\":\"5100\"},\"view\":{\"id\":\"5099\"}},\"id\":\"5098\",\"type\":\"GlyphRenderer\"},{\"attributes\":{\"angle\":{\"value\":0.0},\"fill_alpha\":{\"value\":1.0},\"fill_color\":{\"value\":\"#30a2da\"},\"hatch_alpha\":{\"value\":1.0},\"hatch_color\":{\"value\":\"#30a2da\"},\"hatch_scale\":{\"value\":12.0},\"hatch_weight\":{\"value\":1.0},\"line_alpha\":{\"value\":1.0},\"line_cap\":{\"value\":\"butt\"},\"line_color\":{\"value\":\"#30a2da\"},\"line_dash\":{\"value\":[]},\"line_dash_offset\":{\"value\":0},\"line_join\":{\"value\":\"bevel\"},\"line_width\":{\"value\":1},\"marker\":{\"value\":\"circle\"},\"size\":{\"value\":5.477225575051661},\"x\":{\"field\":\"Year\"},\"y\":{\"field\":\"Suicides per 100k\"}},\"id\":\"5091\",\"type\":\"Scatter\"},{\"attributes\":{},\"id\":\"5053\",\"type\":\"LinearScale\"},{\"attributes\":{},\"id\":\"5078\",\"type\":\"BasicTickFormatter\"},{\"attributes\":{\"end\":178.78194117647055,\"reset_end\":178.78194117647055,\"reset_start\":138.31864705882384,\"start\":138.31864705882384,\"tags\":[[[\"Suicides per 100k\",\"Suicides per 100k\",null]]]},\"id\":\"5043\",\"type\":\"Range1d\"},{\"attributes\":{\"axis_label\":\"Suicides per 100k\",\"coordinates\":null,\"formatter\":{\"id\":\"5081\"},\"group\":null,\"major_label_policy\":{\"id\":\"5082\"},\"ticker\":{\"id\":\"5060\"}},\"id\":\"5059\",\"type\":\"LinearAxis\"},{\"attributes\":{\"data\":{\"Suicides per 100k\":{\"__ndarray__\":\"cT0K16PYYkDD9Shcj1JiQNejcD0Kh2JAcT0K16PAYkAUrkfhejRiQM3MzMzMXGJA9ihcj8JVYkBcj8L1KCRiQKRwPQrXo2JASOF6FK4nY0CuR+F6FEZjQBSuR+F63GNA7FG4HoVLZEAUrkfheqRkQD0K16Nw1WRAw/UoXI9qZUCF61G4Hu1lQA==\",\"dtype\":\"float64\",\"order\":\"little\",\"shape\":[17]},\"Suicides_per_100k\":{\"__ndarray__\":\"cT0K16PYYkDD9Shcj1JiQNejcD0Kh2JAcT0K16PAYkAUrkfhejRiQM3MzMzMXGJA9ihcj8JVYkBcj8L1KCRiQKRwPQrXo2JASOF6FK4nY0CuR+F6FEZjQBSuR+F63GNA7FG4HoVLZEAUrkfheqRkQD0K16Nw1WRAw/UoXI9qZUCF61G4Hu1lQA==\",\"dtype\":\"float64\",\"order\":\"little\",\"shape\":[17]},\"Year\":[1999,2000,2001,2002,2003,2004,2005,2006,2007,2008,2009,2010,2011,2012,2013,2014,2015]},\"selected\":{\"id\":\"5084\"},\"selection_policy\":{\"id\":\"5108\"}},\"id\":\"5083\",\"type\":\"ColumnDataSource\"},{\"attributes\":{\"fill_alpha\":{\"value\":0.1},\"fill_color\":{\"value\":\"#30a2da\"},\"hatch_alpha\":{\"value\":0.1},\"hatch_color\":{\"value\":\"#30a2da\"},\"line_alpha\":{\"value\":0.1},\"line_color\":{\"value\":\"#30a2da\"},\"size\":{\"value\":5.477225575051661},\"x\":{\"field\":\"Year\"},\"y\":{\"field\":\"Suicides per 100k\"}},\"id\":\"5087\",\"type\":\"Scatter\"},{\"attributes\":{\"axis_label\":\"Year\",\"coordinates\":null,\"formatter\":{\"id\":\"5078\"},\"group\":null,\"major_label_orientation\":0.6457718232379019,\"major_label_policy\":{\"id\":\"5079\"},\"ticker\":{\"id\":\"5056\"}},\"id\":\"5055\",\"type\":\"LinearAxis\"},{\"attributes\":{},\"id\":\"5110\",\"type\":\"UnionRenderers\"},{\"attributes\":{\"axis\":{\"id\":\"5059\"},\"coordinates\":null,\"dimension\":1,\"grid_line_color\":null,\"group\":null,\"ticker\":null},\"id\":\"5062\",\"type\":\"Grid\"},{\"attributes\":{\"below\":[{\"id\":\"5055\"}],\"center\":[{\"id\":\"5058\"},{\"id\":\"5062\"}],\"height\":300,\"left\":[{\"id\":\"5059\"}],\"margin\":[5,5,5,5],\"min_border_bottom\":10,\"min_border_left\":10,\"min_border_right\":10,\"min_border_top\":10,\"renderers\":[{\"id\":\"5089\"},{\"id\":\"5098\"}],\"sizing_mode\":\"fixed\",\"title\":{\"id\":\"5047\"},\"toolbar\":{\"id\":\"5069\"},\"width\":700,\"x_range\":{\"id\":\"5042\"},\"x_scale\":{\"id\":\"5051\"},\"y_range\":{\"id\":\"5043\"},\"y_scale\":{\"id\":\"5053\"}},\"id\":\"5046\",\"subtype\":\"Figure\",\"type\":\"Plot\"},{\"attributes\":{\"fill_alpha\":{\"value\":0.2},\"fill_color\":{\"value\":\"#30a2da\"},\"hatch_alpha\":{\"value\":0.2},\"hatch_color\":{\"value\":\"#30a2da\"},\"line_alpha\":{\"value\":0.2},\"line_color\":{\"value\":\"#30a2da\"},\"size\":{\"value\":5.477225575051661},\"x\":{\"field\":\"Year\"},\"y\":{\"field\":\"Suicides per 100k\"}},\"id\":\"5088\",\"type\":\"Scatter\"},{\"attributes\":{\"line_alpha\":0.1,\"line_color\":\"red\",\"line_width\":2,\"x\":{\"field\":\"Year\"},\"y\":{\"field\":\"Predicted Suicides\"}},\"id\":\"5096\",\"type\":\"Line\"},{\"attributes\":{},\"id\":\"5079\",\"type\":\"AllLabels\"},{\"attributes\":{\"children\":[{\"id\":\"5041\"},{\"id\":\"5046\"},{\"id\":\"5113\"}],\"margin\":[0,0,0,0],\"name\":\"Row06357\",\"tags\":[\"embedded\"]},\"id\":\"5040\",\"type\":\"Row\"},{\"attributes\":{\"callback\":null,\"renderers\":[{\"id\":\"5089\"}],\"tags\":[\"hv_created\"],\"tooltips\":[[\"Year\",\"@{Year}\"],[\"Suicides per 100k\",\"@{Suicides_per_100k}\"]]},\"id\":\"5044\",\"type\":\"HoverTool\"},{\"attributes\":{\"source\":{\"id\":\"5083\"}},\"id\":\"5090\",\"type\":\"CDSView\"},{\"attributes\":{\"line_color\":\"red\",\"line_width\":2,\"x\":{\"field\":\"Year\"},\"y\":{\"field\":\"Predicted Suicides\"}},\"id\":\"5095\",\"type\":\"Line\"}],\"root_ids\":[\"5040\"]},\"title\":\"Bokeh Application\",\"version\":\"2.4.3\"}};\n",
       "    var render_items = [{\"docid\":\"d48a0578-022d-407c-a102-8dad9effc2ad\",\"root_ids\":[\"5040\"],\"roots\":{\"5040\":\"04bbd2e9-03b2-4978-a181-3064ef0c19d9\"}}];\n",
       "    root.Bokeh.embed.embed_items_notebook(docs_json, render_items);\n",
       "  }\n",
       "  if (root.Bokeh !== undefined && root.Bokeh.Panel !== undefined) {\n",
       "    embed_document(root);\n",
       "  } else {\n",
       "    var attempts = 0;\n",
       "    var timer = setInterval(function(root) {\n",
       "      if (root.Bokeh !== undefined && root.Bokeh.Panel !== undefined) {\n",
       "        clearInterval(timer);\n",
       "        embed_document(root);\n",
       "      } else if (document.readyState == \"complete\") {\n",
       "        attempts++;\n",
       "        if (attempts > 200) {\n",
       "          clearInterval(timer);\n",
       "          console.log(\"Bokeh: ERROR: Unable to run BokehJS code because BokehJS library is missing\");\n",
       "        }\n",
       "      }\n",
       "    }, 25, root)\n",
       "  }\n",
       "})(window);</script>"
      ],
      "text/plain": [
       ":Overlay\n",
       "   .Scatter.I :Scatter   [Year]   (Suicides per 100k)\n",
       "   .Curve.I   :Curve   [Year]   (Predicted Suicides)"
      ]
     },
     "execution_count": 73,
     "metadata": {
      "application/vnd.holoviews_exec.v0+json": {
       "id": "5040"
      }
     },
     "output_type": "execute_result"
    }
   ],
   "source": [
    "X = us_suicide_rates_99_16[[\"Year\"]]\n",
    "y = us_suicide_rates_99_16[\"Suicides per 100k\"]\n",
    "\n",
    "# Create and fit a linear regression model\n",
    "model = LinearRegression()\n",
    "model.fit(X, y)\n",
    "\n",
    "# Generate predictions using the fitted model\n",
    "y_pred = model.predict(X)\n",
    "\n",
    "# Create scatter plots using hvPlot\n",
    "scatter_actual = us_suicide_rates_99_16.hvplot.scatter(\n",
    "    x=\"Year\", y=\"Suicides per 100k\", rot=37\n",
    ")\n",
    "scatter_predicted = pd.DataFrame(\n",
    "    {\"Year\": us_suicide_rates_99_16[\"Year\"], \"Predicted Suicides\": y_pred}\n",
    ").hvplot.line(x=\"Year\", y=\"Predicted Suicides\", color=\"red\")\n",
    "\n",
    "# Combine the scatter plots\n",
    "scatter_actual * scatter_predicted"
   ]
  },
  {
   "cell_type": "code",
   "execution_count": 74,
   "metadata": {},
   "outputs": [],
   "source": [
    "us_suicides_master.drop([\"Unnamed: 0\"], axis=1, inplace=True)\n"
   ]
  },
  {
   "cell_type": "code",
   "execution_count": 75,
   "metadata": {},
   "outputs": [
    {
     "data": {
      "text/html": [
       "<div>\n",
       "<style scoped>\n",
       "    .dataframe tbody tr th:only-of-type {\n",
       "        vertical-align: middle;\n",
       "    }\n",
       "\n",
       "    .dataframe tbody tr th {\n",
       "        vertical-align: top;\n",
       "    }\n",
       "\n",
       "    .dataframe thead th {\n",
       "        text-align: right;\n",
       "    }\n",
       "</style>\n",
       "<table border=\"1\" class=\"dataframe\">\n",
       "  <thead>\n",
       "    <tr style=\"text-align: right;\">\n",
       "      <th></th>\n",
       "      <th>Year</th>\n",
       "      <th>Sex</th>\n",
       "      <th>Age</th>\n",
       "      <th>Number of Suicides</th>\n",
       "      <th>Suicides per 100k</th>\n",
       "      <th>GDP for Year ($)</th>\n",
       "      <th>GDP per Capita ($)</th>\n",
       "      <th>Generation</th>\n",
       "    </tr>\n",
       "    <tr>\n",
       "      <th>Country</th>\n",
       "      <th></th>\n",
       "      <th></th>\n",
       "      <th></th>\n",
       "      <th></th>\n",
       "      <th></th>\n",
       "      <th></th>\n",
       "      <th></th>\n",
       "      <th></th>\n",
       "    </tr>\n",
       "  </thead>\n",
       "  <tbody>\n",
       "    <tr>\n",
       "      <th>United States</th>\n",
       "      <td>1985</td>\n",
       "      <td>male</td>\n",
       "      <td>75+ years</td>\n",
       "      <td>2177</td>\n",
       "      <td>53.57</td>\n",
       "      <td>4,346,734,000,000</td>\n",
       "      <td>19693</td>\n",
       "      <td>G.I. Generation</td>\n",
       "    </tr>\n",
       "    <tr>\n",
       "      <th>United States</th>\n",
       "      <td>1985</td>\n",
       "      <td>male</td>\n",
       "      <td>55-74 years</td>\n",
       "      <td>5302</td>\n",
       "      <td>29.50</td>\n",
       "      <td>4,346,734,000,000</td>\n",
       "      <td>19693</td>\n",
       "      <td>G.I. Generation</td>\n",
       "    </tr>\n",
       "    <tr>\n",
       "      <th>United States</th>\n",
       "      <td>1985</td>\n",
       "      <td>male</td>\n",
       "      <td>25-34 years</td>\n",
       "      <td>5134</td>\n",
       "      <td>24.46</td>\n",
       "      <td>4,346,734,000,000</td>\n",
       "      <td>19693</td>\n",
       "      <td>Boomers</td>\n",
       "    </tr>\n",
       "    <tr>\n",
       "      <th>United States</th>\n",
       "      <td>1985</td>\n",
       "      <td>male</td>\n",
       "      <td>35-54 years</td>\n",
       "      <td>6053</td>\n",
       "      <td>22.77</td>\n",
       "      <td>4,346,734,000,000</td>\n",
       "      <td>19693</td>\n",
       "      <td>Silent</td>\n",
       "    </tr>\n",
       "    <tr>\n",
       "      <th>United States</th>\n",
       "      <td>1985</td>\n",
       "      <td>male</td>\n",
       "      <td>15-24 years</td>\n",
       "      <td>4267</td>\n",
       "      <td>21.38</td>\n",
       "      <td>4,346,734,000,000</td>\n",
       "      <td>19693</td>\n",
       "      <td>Generation X</td>\n",
       "    </tr>\n",
       "    <tr>\n",
       "      <th>...</th>\n",
       "      <td>...</td>\n",
       "      <td>...</td>\n",
       "      <td>...</td>\n",
       "      <td>...</td>\n",
       "      <td>...</td>\n",
       "      <td>...</td>\n",
       "      <td>...</td>\n",
       "      <td>...</td>\n",
       "    </tr>\n",
       "    <tr>\n",
       "      <th>United States</th>\n",
       "      <td>2015</td>\n",
       "      <td>female</td>\n",
       "      <td>25-34 years</td>\n",
       "      <td>1444</td>\n",
       "      <td>6.70</td>\n",
       "      <td>18,120,714,000,000</td>\n",
       "      <td>60387</td>\n",
       "      <td>Millenials</td>\n",
       "    </tr>\n",
       "    <tr>\n",
       "      <th>United States</th>\n",
       "      <td>2015</td>\n",
       "      <td>female</td>\n",
       "      <td>15-24 years</td>\n",
       "      <td>1132</td>\n",
       "      <td>5.23</td>\n",
       "      <td>18,120,714,000,000</td>\n",
       "      <td>60387</td>\n",
       "      <td>Millenials</td>\n",
       "    </tr>\n",
       "    <tr>\n",
       "      <th>United States</th>\n",
       "      <td>2015</td>\n",
       "      <td>female</td>\n",
       "      <td>75+ years</td>\n",
       "      <td>540</td>\n",
       "      <td>4.58</td>\n",
       "      <td>18,120,714,000,000</td>\n",
       "      <td>60387</td>\n",
       "      <td>Silent</td>\n",
       "    </tr>\n",
       "    <tr>\n",
       "      <th>United States</th>\n",
       "      <td>2015</td>\n",
       "      <td>male</td>\n",
       "      <td>5-14 years</td>\n",
       "      <td>255</td>\n",
       "      <td>1.20</td>\n",
       "      <td>18,120,714,000,000</td>\n",
       "      <td>60387</td>\n",
       "      <td>Generation Z</td>\n",
       "    </tr>\n",
       "    <tr>\n",
       "      <th>United States</th>\n",
       "      <td>2015</td>\n",
       "      <td>female</td>\n",
       "      <td>5-14 years</td>\n",
       "      <td>158</td>\n",
       "      <td>0.78</td>\n",
       "      <td>18,120,714,000,000</td>\n",
       "      <td>60387</td>\n",
       "      <td>Generation Z</td>\n",
       "    </tr>\n",
       "  </tbody>\n",
       "</table>\n",
       "<p>372 rows × 8 columns</p>\n",
       "</div>"
      ],
      "text/plain": [
       "               Year     Sex          Age  Number of Suicides  \\\n",
       "Country                                                        \n",
       "United States  1985    male    75+ years                2177   \n",
       "United States  1985    male  55-74 years                5302   \n",
       "United States  1985    male  25-34 years                5134   \n",
       "United States  1985    male  35-54 years                6053   \n",
       "United States  1985    male  15-24 years                4267   \n",
       "...             ...     ...          ...                 ...   \n",
       "United States  2015  female  25-34 years                1444   \n",
       "United States  2015  female  15-24 years                1132   \n",
       "United States  2015  female    75+ years                 540   \n",
       "United States  2015    male   5-14 years                 255   \n",
       "United States  2015  female   5-14 years                 158   \n",
       "\n",
       "               Suicides per 100k    GDP for Year ($)  GDP per Capita ($)  \\\n",
       "Country                                                                    \n",
       "United States              53.57   4,346,734,000,000               19693   \n",
       "United States              29.50   4,346,734,000,000               19693   \n",
       "United States              24.46   4,346,734,000,000               19693   \n",
       "United States              22.77   4,346,734,000,000               19693   \n",
       "United States              21.38   4,346,734,000,000               19693   \n",
       "...                          ...                 ...                 ...   \n",
       "United States               6.70  18,120,714,000,000               60387   \n",
       "United States               5.23  18,120,714,000,000               60387   \n",
       "United States               4.58  18,120,714,000,000               60387   \n",
       "United States               1.20  18,120,714,000,000               60387   \n",
       "United States               0.78  18,120,714,000,000               60387   \n",
       "\n",
       "                    Generation  \n",
       "Country                         \n",
       "United States  G.I. Generation  \n",
       "United States  G.I. Generation  \n",
       "United States          Boomers  \n",
       "United States           Silent  \n",
       "United States     Generation X  \n",
       "...                        ...  \n",
       "United States       Millenials  \n",
       "United States       Millenials  \n",
       "United States           Silent  \n",
       "United States     Generation Z  \n",
       "United States     Generation Z  \n",
       "\n",
       "[372 rows x 8 columns]"
      ]
     },
     "execution_count": 75,
     "metadata": {},
     "output_type": "execute_result"
    }
   ],
   "source": [
    "us_suicides_master.set_index(\"Country\")"
   ]
  },
  {
   "cell_type": "code",
   "execution_count": 76,
   "metadata": {},
   "outputs": [
    {
     "data": {},
     "metadata": {},
     "output_type": "display_data"
    },
    {
     "data": {
      "application/vnd.holoviews_exec.v0+json": "",
      "text/html": [
       "<div id='5175'>\n",
       "  <div class=\"bk-root\" id=\"4523df2f-0f70-4aca-8b9f-437e9c25600e\" data-root-id=\"5175\"></div>\n",
       "</div>\n",
       "<script type=\"application/javascript\">(function(root) {\n",
       "  function embed_document(root) {\n",
       "    var docs_json = {\"4101a345-7abe-4e0e-b230-8ac2c1ca15c3\":{\"defs\":[{\"extends\":null,\"module\":null,\"name\":\"ReactiveHTML1\",\"overrides\":[],\"properties\":[]},{\"extends\":null,\"module\":null,\"name\":\"FlexBox1\",\"overrides\":[],\"properties\":[{\"default\":\"flex-start\",\"kind\":null,\"name\":\"align_content\"},{\"default\":\"flex-start\",\"kind\":null,\"name\":\"align_items\"},{\"default\":\"row\",\"kind\":null,\"name\":\"flex_direction\"},{\"default\":\"wrap\",\"kind\":null,\"name\":\"flex_wrap\"},{\"default\":\"flex-start\",\"kind\":null,\"name\":\"justify_content\"}]},{\"extends\":null,\"module\":null,\"name\":\"GridStack1\",\"overrides\":[],\"properties\":[{\"default\":\"warn\",\"kind\":null,\"name\":\"mode\"},{\"default\":null,\"kind\":null,\"name\":\"ncols\"},{\"default\":null,\"kind\":null,\"name\":\"nrows\"},{\"default\":true,\"kind\":null,\"name\":\"allow_resize\"},{\"default\":true,\"kind\":null,\"name\":\"allow_drag\"},{\"default\":[],\"kind\":null,\"name\":\"state\"}]},{\"extends\":null,\"module\":null,\"name\":\"click1\",\"overrides\":[],\"properties\":[{\"default\":\"\",\"kind\":null,\"name\":\"terminal_output\"},{\"default\":\"\",\"kind\":null,\"name\":\"debug_name\"},{\"default\":0,\"kind\":null,\"name\":\"clears\"}]},{\"extends\":null,\"module\":null,\"name\":\"NotificationAreaBase1\",\"overrides\":[],\"properties\":[{\"default\":\"bottom-right\",\"kind\":null,\"name\":\"position\"},{\"default\":0,\"kind\":null,\"name\":\"_clear\"}]},{\"extends\":null,\"module\":null,\"name\":\"NotificationArea1\",\"overrides\":[],\"properties\":[{\"default\":[],\"kind\":null,\"name\":\"notifications\"},{\"default\":\"bottom-right\",\"kind\":null,\"name\":\"position\"},{\"default\":0,\"kind\":null,\"name\":\"_clear\"},{\"default\":[{\"background\":\"#ffc107\",\"icon\":{\"className\":\"fas fa-exclamation-triangle\",\"color\":\"white\",\"tagName\":\"i\"},\"type\":\"warning\"},{\"background\":\"#007bff\",\"icon\":{\"className\":\"fas fa-info-circle\",\"color\":\"white\",\"tagName\":\"i\"},\"type\":\"info\"}],\"kind\":null,\"name\":\"types\"}]},{\"extends\":null,\"module\":null,\"name\":\"Notification\",\"overrides\":[],\"properties\":[{\"default\":null,\"kind\":null,\"name\":\"background\"},{\"default\":3000,\"kind\":null,\"name\":\"duration\"},{\"default\":null,\"kind\":null,\"name\":\"icon\"},{\"default\":\"\",\"kind\":null,\"name\":\"message\"},{\"default\":null,\"kind\":null,\"name\":\"notification_type\"},{\"default\":false,\"kind\":null,\"name\":\"_destroyed\"}]},{\"extends\":null,\"module\":null,\"name\":\"TemplateActions1\",\"overrides\":[],\"properties\":[{\"default\":0,\"kind\":null,\"name\":\"open_modal\"},{\"default\":0,\"kind\":null,\"name\":\"close_modal\"}]},{\"extends\":null,\"module\":null,\"name\":\"MaterialTemplateActions1\",\"overrides\":[],\"properties\":[{\"default\":0,\"kind\":null,\"name\":\"open_modal\"},{\"default\":0,\"kind\":null,\"name\":\"close_modal\"}]}],\"roots\":{\"references\":[{\"attributes\":{},\"id\":\"5195\",\"type\":\"SaveTool\"},{\"attributes\":{},\"id\":\"5196\",\"type\":\"PanTool\"},{\"attributes\":{},\"id\":\"5218\",\"type\":\"BasicTicker\"},{\"attributes\":{\"source\":{\"id\":\"5209\"}},\"id\":\"5217\",\"type\":\"CDSView\"},{\"attributes\":{},\"id\":\"5199\",\"type\":\"ResetTool\"},{\"attributes\":{},\"id\":\"5197\",\"type\":\"WheelZoomTool\"},{\"attributes\":{\"coordinates\":null,\"group\":null,\"text\":\"US Unemployment 1948\\u20142016\",\"text_color\":\"black\",\"text_font_size\":\"10pt\"},\"id\":\"5181\",\"type\":\"Title\"},{\"attributes\":{\"overlay\":{\"id\":\"5200\"}},\"id\":\"5198\",\"type\":\"BoxZoomTool\"},{\"attributes\":{\"axis_label\":\"\",\"coordinates\":null,\"formatter\":{\"id\":\"5221\"},\"group\":null,\"group_text_font_size\":\"5pt\",\"major_label_orientation\":1.2217304763960306,\"major_label_policy\":{\"id\":\"5222\"},\"major_label_text_font_size\":\"5pt\",\"ticker\":{\"id\":\"5190\"}},\"id\":\"5189\",\"type\":\"CategoricalAxis\"},{\"attributes\":{\"bar_line_color\":\"black\",\"color_mapper\":{\"id\":\"5208\"},\"coordinates\":null,\"group\":null,\"label_standoff\":8,\"location\":[0,0],\"major_label_policy\":{\"id\":\"5230\"},\"major_tick_line_color\":\"black\",\"ticker\":{\"id\":\"5218\"}},\"id\":\"5219\",\"type\":\"ColorBar\"},{\"attributes\":{},\"id\":\"5210\",\"type\":\"Selection\"},{\"attributes\":{},\"id\":\"5185\",\"type\":\"CategoricalScale\"},{\"attributes\":{},\"id\":\"5234\",\"type\":\"UnionRenderers\"},{\"attributes\":{\"axis\":{\"id\":\"5189\"},\"coordinates\":null,\"grid_line_color\":null,\"group\":null,\"ticker\":null},\"id\":\"5191\",\"type\":\"Grid\"},{\"attributes\":{},\"id\":\"5224\",\"type\":\"CategoricalTickFormatter\"},{\"attributes\":{\"callback\":null,\"renderers\":[{\"id\":\"5216\"}],\"tags\":[\"hv_created\"],\"tooltips\":[[\"columns\",\"@{columns}\"],[\"index\",\"@{index}\"],[\"value\",\"@{value}\"]]},\"id\":\"5179\",\"type\":\"HoverTool\"},{\"attributes\":{\"factors\":[\"1948\",\"1949\",\"1950\",\"1951\",\"1952\",\"1953\",\"1954\",\"1955\",\"1956\",\"1957\",\"1958\",\"1959\",\"1960\",\"1961\",\"1962\",\"1963\",\"1964\",\"1965\",\"1966\",\"1967\",\"1968\",\"1969\",\"1970\",\"1971\",\"1972\",\"1973\",\"1974\",\"1975\",\"1976\",\"1977\",\"1978\",\"1979\",\"1980\",\"1981\",\"1982\",\"1983\",\"1984\",\"1985\",\"1986\",\"1987\",\"1988\",\"1989\",\"1990\",\"1991\",\"1992\",\"1993\",\"1994\",\"1995\",\"1996\",\"1997\",\"1998\",\"1999\",\"2000\",\"2001\",\"2002\",\"2003\",\"2004\",\"2005\",\"2006\",\"2007\",\"2008\",\"2009\",\"2010\",\"2011\",\"2012\",\"2013\",\"2014\",\"2015\",\"2016\"],\"tags\":[[[\"columns\",\"columns\",null]]]},\"id\":\"5177\",\"type\":\"FactorRange\"},{\"attributes\":{\"margin\":[5,5,5,5],\"name\":\"HSpacer06471\",\"sizing_mode\":\"stretch_width\"},\"id\":\"5237\",\"type\":\"Spacer\"},{\"attributes\":{},\"id\":\"5221\",\"type\":\"CategoricalTickFormatter\"},{\"attributes\":{},\"id\":\"5187\",\"type\":\"CategoricalScale\"},{\"attributes\":{\"axis_label\":\"\",\"coordinates\":null,\"formatter\":{\"id\":\"5224\"},\"group\":null,\"group_text_font_size\":\"5pt\",\"major_label_policy\":{\"id\":\"5225\"},\"major_label_text_font_size\":\"5pt\",\"ticker\":{\"id\":\"5193\"}},\"id\":\"5192\",\"type\":\"CategoricalAxis\"},{\"attributes\":{},\"id\":\"5230\",\"type\":\"NoOverlap\"},{\"attributes\":{},\"id\":\"5190\",\"type\":\"CategoricalTicker\"},{\"attributes\":{},\"id\":\"5222\",\"type\":\"AllLabels\"},{\"attributes\":{},\"id\":\"5193\",\"type\":\"CategoricalTicker\"},{\"attributes\":{\"data\":{\"columns\":[\"1948\",\"1948\",\"1948\",\"1948\",\"1948\",\"1948\",\"1948\",\"1948\",\"1948\",\"1948\",\"1948\",\"1948\",\"1949\",\"1949\",\"1949\",\"1949\",\"1949\",\"1949\",\"1949\",\"1949\",\"1949\",\"1949\",\"1949\",\"1949\",\"1950\",\"1950\",\"1950\",\"1950\",\"1950\",\"1950\",\"1950\",\"1950\",\"1950\",\"1950\",\"1950\",\"1950\",\"1951\",\"1951\",\"1951\",\"1951\",\"1951\",\"1951\",\"1951\",\"1951\",\"1951\",\"1951\",\"1951\",\"1951\",\"1952\",\"1952\",\"1952\",\"1952\",\"1952\",\"1952\",\"1952\",\"1952\",\"1952\",\"1952\",\"1952\",\"1952\",\"1953\",\"1953\",\"1953\",\"1953\",\"1953\",\"1953\",\"1953\",\"1953\",\"1953\",\"1953\",\"1953\",\"1953\",\"1954\",\"1954\",\"1954\",\"1954\",\"1954\",\"1954\",\"1954\",\"1954\",\"1954\",\"1954\",\"1954\",\"1954\",\"1955\",\"1955\",\"1955\",\"1955\",\"1955\",\"1955\",\"1955\",\"1955\",\"1955\",\"1955\",\"1955\",\"1955\",\"1956\",\"1956\",\"1956\",\"1956\",\"1956\",\"1956\",\"1956\",\"1956\",\"1956\",\"1956\",\"1956\",\"1956\",\"1957\",\"1957\",\"1957\",\"1957\",\"1957\",\"1957\",\"1957\",\"1957\",\"1957\",\"1957\",\"1957\",\"1957\",\"1958\",\"1958\",\"1958\",\"1958\",\"1958\",\"1958\",\"1958\",\"1958\",\"1958\",\"1958\",\"1958\",\"1958\",\"1959\",\"1959\",\"1959\",\"1959\",\"1959\",\"1959\",\"1959\",\"1959\",\"1959\",\"1959\",\"1959\",\"1959\",\"1960\",\"1960\",\"1960\",\"1960\",\"1960\",\"1960\",\"1960\",\"1960\",\"1960\",\"1960\",\"1960\",\"1960\",\"1961\",\"1961\",\"1961\",\"1961\",\"1961\",\"1961\",\"1961\",\"1961\",\"1961\",\"1961\",\"1961\",\"1961\",\"1962\",\"1962\",\"1962\",\"1962\",\"1962\",\"1962\",\"1962\",\"1962\",\"1962\",\"1962\",\"1962\",\"1962\",\"1963\",\"1963\",\"1963\",\"1963\",\"1963\",\"1963\",\"1963\",\"1963\",\"1963\",\"1963\",\"1963\",\"1963\",\"1964\",\"1964\",\"1964\",\"1964\",\"1964\",\"1964\",\"1964\",\"1964\",\"1964\",\"1964\",\"1964\",\"1964\",\"1965\",\"1965\",\"1965\",\"1965\",\"1965\",\"1965\",\"1965\",\"1965\",\"1965\",\"1965\",\"1965\",\"1965\",\"1966\",\"1966\",\"1966\",\"1966\",\"1966\",\"1966\",\"1966\",\"1966\",\"1966\",\"1966\",\"1966\",\"1966\",\"1967\",\"1967\",\"1967\",\"1967\",\"1967\",\"1967\",\"1967\",\"1967\",\"1967\",\"1967\",\"1967\",\"1967\",\"1968\",\"1968\",\"1968\",\"1968\",\"1968\",\"1968\",\"1968\",\"1968\",\"1968\",\"1968\",\"1968\",\"1968\",\"1969\",\"1969\",\"1969\",\"1969\",\"1969\",\"1969\",\"1969\",\"1969\",\"1969\",\"1969\",\"1969\",\"1969\",\"1970\",\"1970\",\"1970\",\"1970\",\"1970\",\"1970\",\"1970\",\"1970\",\"1970\",\"1970\",\"1970\",\"1970\",\"1971\",\"1971\",\"1971\",\"1971\",\"1971\",\"1971\",\"1971\",\"1971\",\"1971\",\"1971\",\"1971\",\"1971\",\"1972\",\"1972\",\"1972\",\"1972\",\"1972\",\"1972\",\"1972\",\"1972\",\"1972\",\"1972\",\"1972\",\"1972\",\"1973\",\"1973\",\"1973\",\"1973\",\"1973\",\"1973\",\"1973\",\"1973\",\"1973\",\"1973\",\"1973\",\"1973\",\"1974\",\"1974\",\"1974\",\"1974\",\"1974\",\"1974\",\"1974\",\"1974\",\"1974\",\"1974\",\"1974\",\"1974\",\"1975\",\"1975\",\"1975\",\"1975\",\"1975\",\"1975\",\"1975\",\"1975\",\"1975\",\"1975\",\"1975\",\"1975\",\"1976\",\"1976\",\"1976\",\"1976\",\"1976\",\"1976\",\"1976\",\"1976\",\"1976\",\"1976\",\"1976\",\"1976\",\"1977\",\"1977\",\"1977\",\"1977\",\"1977\",\"1977\",\"1977\",\"1977\",\"1977\",\"1977\",\"1977\",\"1977\",\"1978\",\"1978\",\"1978\",\"1978\",\"1978\",\"1978\",\"1978\",\"1978\",\"1978\",\"1978\",\"1978\",\"1978\",\"1979\",\"1979\",\"1979\",\"1979\",\"1979\",\"1979\",\"1979\",\"1979\",\"1979\",\"1979\",\"1979\",\"1979\",\"1980\",\"1980\",\"1980\",\"1980\",\"1980\",\"1980\",\"1980\",\"1980\",\"1980\",\"1980\",\"1980\",\"1980\",\"1981\",\"1981\",\"1981\",\"1981\",\"1981\",\"1981\",\"1981\",\"1981\",\"1981\",\"1981\",\"1981\",\"1981\",\"1982\",\"1982\",\"1982\",\"1982\",\"1982\",\"1982\",\"1982\",\"1982\",\"1982\",\"1982\",\"1982\",\"1982\",\"1983\",\"1983\",\"1983\",\"1983\",\"1983\",\"1983\",\"1983\",\"1983\",\"1983\",\"1983\",\"1983\",\"1983\",\"1984\",\"1984\",\"1984\",\"1984\",\"1984\",\"1984\",\"1984\",\"1984\",\"1984\",\"1984\",\"1984\",\"1984\",\"1985\",\"1985\",\"1985\",\"1985\",\"1985\",\"1985\",\"1985\",\"1985\",\"1985\",\"1985\",\"1985\",\"1985\",\"1986\",\"1986\",\"1986\",\"1986\",\"1986\",\"1986\",\"1986\",\"1986\",\"1986\",\"1986\",\"1986\",\"1986\",\"1987\",\"1987\",\"1987\",\"1987\",\"1987\",\"1987\",\"1987\",\"1987\",\"1987\",\"1987\",\"1987\",\"1987\",\"1988\",\"1988\",\"1988\",\"1988\",\"1988\",\"1988\",\"1988\",\"1988\",\"1988\",\"1988\",\"1988\",\"1988\",\"1989\",\"1989\",\"1989\",\"1989\",\"1989\",\"1989\",\"1989\",\"1989\",\"1989\",\"1989\",\"1989\",\"1989\",\"1990\",\"1990\",\"1990\",\"1990\",\"1990\",\"1990\",\"1990\",\"1990\",\"1990\",\"1990\",\"1990\",\"1990\",\"1991\",\"1991\",\"1991\",\"1991\",\"1991\",\"1991\",\"1991\",\"1991\",\"1991\",\"1991\",\"1991\",\"1991\",\"1992\",\"1992\",\"1992\",\"1992\",\"1992\",\"1992\",\"1992\",\"1992\",\"1992\",\"1992\",\"1992\",\"1992\",\"1993\",\"1993\",\"1993\",\"1993\",\"1993\",\"1993\",\"1993\",\"1993\",\"1993\",\"1993\",\"1993\",\"1993\",\"1994\",\"1994\",\"1994\",\"1994\",\"1994\",\"1994\",\"1994\",\"1994\",\"1994\",\"1994\",\"1994\",\"1994\",\"1995\",\"1995\",\"1995\",\"1995\",\"1995\",\"1995\",\"1995\",\"1995\",\"1995\",\"1995\",\"1995\",\"1995\",\"1996\",\"1996\",\"1996\",\"1996\",\"1996\",\"1996\",\"1996\",\"1996\",\"1996\",\"1996\",\"1996\",\"1996\",\"1997\",\"1997\",\"1997\",\"1997\",\"1997\",\"1997\",\"1997\",\"1997\",\"1997\",\"1997\",\"1997\",\"1997\",\"1998\",\"1998\",\"1998\",\"1998\",\"1998\",\"1998\",\"1998\",\"1998\",\"1998\",\"1998\",\"1998\",\"1998\",\"1999\",\"1999\",\"1999\",\"1999\",\"1999\",\"1999\",\"1999\",\"1999\",\"1999\",\"1999\",\"1999\",\"1999\",\"2000\",\"2000\",\"2000\",\"2000\",\"2000\",\"2000\",\"2000\",\"2000\",\"2000\",\"2000\",\"2000\",\"2000\",\"2001\",\"2001\",\"2001\",\"2001\",\"2001\",\"2001\",\"2001\",\"2001\",\"2001\",\"2001\",\"2001\",\"2001\",\"2002\",\"2002\",\"2002\",\"2002\",\"2002\",\"2002\",\"2002\",\"2002\",\"2002\",\"2002\",\"2002\",\"2002\",\"2003\",\"2003\",\"2003\",\"2003\",\"2003\",\"2003\",\"2003\",\"2003\",\"2003\",\"2003\",\"2003\",\"2003\",\"2004\",\"2004\",\"2004\",\"2004\",\"2004\",\"2004\",\"2004\",\"2004\",\"2004\",\"2004\",\"2004\",\"2004\",\"2005\",\"2005\",\"2005\",\"2005\",\"2005\",\"2005\",\"2005\",\"2005\",\"2005\",\"2005\",\"2005\",\"2005\",\"2006\",\"2006\",\"2006\",\"2006\",\"2006\",\"2006\",\"2006\",\"2006\",\"2006\",\"2006\",\"2006\",\"2006\",\"2007\",\"2007\",\"2007\",\"2007\",\"2007\",\"2007\",\"2007\",\"2007\",\"2007\",\"2007\",\"2007\",\"2007\",\"2008\",\"2008\",\"2008\",\"2008\",\"2008\",\"2008\",\"2008\",\"2008\",\"2008\",\"2008\",\"2008\",\"2008\",\"2009\",\"2009\",\"2009\",\"2009\",\"2009\",\"2009\",\"2009\",\"2009\",\"2009\",\"2009\",\"2009\",\"2009\",\"2010\",\"2010\",\"2010\",\"2010\",\"2010\",\"2010\",\"2010\",\"2010\",\"2010\",\"2010\",\"2010\",\"2010\",\"2011\",\"2011\",\"2011\",\"2011\",\"2011\",\"2011\",\"2011\",\"2011\",\"2011\",\"2011\",\"2011\",\"2011\",\"2012\",\"2012\",\"2012\",\"2012\",\"2012\",\"2012\",\"2012\",\"2012\",\"2012\",\"2012\",\"2012\",\"2012\",\"2013\",\"2013\",\"2013\",\"2013\",\"2013\",\"2013\",\"2013\",\"2013\",\"2013\",\"2013\",\"2013\",\"2013\",\"2014\",\"2014\",\"2014\",\"2014\",\"2014\",\"2014\",\"2014\",\"2014\",\"2014\",\"2014\",\"2014\",\"2014\",\"2015\",\"2015\",\"2015\",\"2015\",\"2015\",\"2015\",\"2015\",\"2015\",\"2015\",\"2015\",\"2015\",\"2015\",\"2016\",\"2016\",\"2016\",\"2016\",\"2016\",\"2016\",\"2016\",\"2016\",\"2016\",\"2016\",\"2016\",\"2016\"],\"index\":[\"Jan\",\"Feb\",\"Mar\",\"Apr\",\"May\",\"Jun\",\"Jul\",\"Aug\",\"Sep\",\"Oct\",\"Nov\",\"Dec\",\"Jan\",\"Feb\",\"Mar\",\"Apr\",\"May\",\"Jun\",\"Jul\",\"Aug\",\"Sep\",\"Oct\",\"Nov\",\"Dec\",\"Jan\",\"Feb\",\"Mar\",\"Apr\",\"May\",\"Jun\",\"Jul\",\"Aug\",\"Sep\",\"Oct\",\"Nov\",\"Dec\",\"Jan\",\"Feb\",\"Mar\",\"Apr\",\"May\",\"Jun\",\"Jul\",\"Aug\",\"Sep\",\"Oct\",\"Nov\",\"Dec\",\"Jan\",\"Feb\",\"Mar\",\"Apr\",\"May\",\"Jun\",\"Jul\",\"Aug\",\"Sep\",\"Oct\",\"Nov\",\"Dec\",\"Jan\",\"Feb\",\"Mar\",\"Apr\",\"May\",\"Jun\",\"Jul\",\"Aug\",\"Sep\",\"Oct\",\"Nov\",\"Dec\",\"Jan\",\"Feb\",\"Mar\",\"Apr\",\"May\",\"Jun\",\"Jul\",\"Aug\",\"Sep\",\"Oct\",\"Nov\",\"Dec\",\"Jan\",\"Feb\",\"Mar\",\"Apr\",\"May\",\"Jun\",\"Jul\",\"Aug\",\"Sep\",\"Oct\",\"Nov\",\"Dec\",\"Jan\",\"Feb\",\"Mar\",\"Apr\",\"May\",\"Jun\",\"Jul\",\"Aug\",\"Sep\",\"Oct\",\"Nov\",\"Dec\",\"Jan\",\"Feb\",\"Mar\",\"Apr\",\"May\",\"Jun\",\"Jul\",\"Aug\",\"Sep\",\"Oct\",\"Nov\",\"Dec\",\"Jan\",\"Feb\",\"Mar\",\"Apr\",\"May\",\"Jun\",\"Jul\",\"Aug\",\"Sep\",\"Oct\",\"Nov\",\"Dec\",\"Jan\",\"Feb\",\"Mar\",\"Apr\",\"May\",\"Jun\",\"Jul\",\"Aug\",\"Sep\",\"Oct\",\"Nov\",\"Dec\",\"Jan\",\"Feb\",\"Mar\",\"Apr\",\"May\",\"Jun\",\"Jul\",\"Aug\",\"Sep\",\"Oct\",\"Nov\",\"Dec\",\"Jan\",\"Feb\",\"Mar\",\"Apr\",\"May\",\"Jun\",\"Jul\",\"Aug\",\"Sep\",\"Oct\",\"Nov\",\"Dec\",\"Jan\",\"Feb\",\"Mar\",\"Apr\",\"May\",\"Jun\",\"Jul\",\"Aug\",\"Sep\",\"Oct\",\"Nov\",\"Dec\",\"Jan\",\"Feb\",\"Mar\",\"Apr\",\"May\",\"Jun\",\"Jul\",\"Aug\",\"Sep\",\"Oct\",\"Nov\",\"Dec\",\"Jan\",\"Feb\",\"Mar\",\"Apr\",\"May\",\"Jun\",\"Jul\",\"Aug\",\"Sep\",\"Oct\",\"Nov\",\"Dec\",\"Jan\",\"Feb\",\"Mar\",\"Apr\",\"May\",\"Jun\",\"Jul\",\"Aug\",\"Sep\",\"Oct\",\"Nov\",\"Dec\",\"Jan\",\"Feb\",\"Mar\",\"Apr\",\"May\",\"Jun\",\"Jul\",\"Aug\",\"Sep\",\"Oct\",\"Nov\",\"Dec\",\"Jan\",\"Feb\",\"Mar\",\"Apr\",\"May\",\"Jun\",\"Jul\",\"Aug\",\"Sep\",\"Oct\",\"Nov\",\"Dec\",\"Jan\",\"Feb\",\"Mar\",\"Apr\",\"May\",\"Jun\",\"Jul\",\"Aug\",\"Sep\",\"Oct\",\"Nov\",\"Dec\",\"Jan\",\"Feb\",\"Mar\",\"Apr\",\"May\",\"Jun\",\"Jul\",\"Aug\",\"Sep\",\"Oct\",\"Nov\",\"Dec\",\"Jan\",\"Feb\",\"Mar\",\"Apr\",\"May\",\"Jun\",\"Jul\",\"Aug\",\"Sep\",\"Oct\",\"Nov\",\"Dec\",\"Jan\",\"Feb\",\"Mar\",\"Apr\",\"May\",\"Jun\",\"Jul\",\"Aug\",\"Sep\",\"Oct\",\"Nov\",\"Dec\",\"Jan\",\"Feb\",\"Mar\",\"Apr\",\"May\",\"Jun\",\"Jul\",\"Aug\",\"Sep\",\"Oct\",\"Nov\",\"Dec\",\"Jan\",\"Feb\",\"Mar\",\"Apr\",\"May\",\"Jun\",\"Jul\",\"Aug\",\"Sep\",\"Oct\",\"Nov\",\"Dec\",\"Jan\",\"Feb\",\"Mar\",\"Apr\",\"May\",\"Jun\",\"Jul\",\"Aug\",\"Sep\",\"Oct\",\"Nov\",\"Dec\",\"Jan\",\"Feb\",\"Mar\",\"Apr\",\"May\",\"Jun\",\"Jul\",\"Aug\",\"Sep\",\"Oct\",\"Nov\",\"Dec\",\"Jan\",\"Feb\",\"Mar\",\"Apr\",\"May\",\"Jun\",\"Jul\",\"Aug\",\"Sep\",\"Oct\",\"Nov\",\"Dec\",\"Jan\",\"Feb\",\"Mar\",\"Apr\",\"May\",\"Jun\",\"Jul\",\"Aug\",\"Sep\",\"Oct\",\"Nov\",\"Dec\",\"Jan\",\"Feb\",\"Mar\",\"Apr\",\"May\",\"Jun\",\"Jul\",\"Aug\",\"Sep\",\"Oct\",\"Nov\",\"Dec\",\"Jan\",\"Feb\",\"Mar\",\"Apr\",\"May\",\"Jun\",\"Jul\",\"Aug\",\"Sep\",\"Oct\",\"Nov\",\"Dec\",\"Jan\",\"Feb\",\"Mar\",\"Apr\",\"May\",\"Jun\",\"Jul\",\"Aug\",\"Sep\",\"Oct\",\"Nov\",\"Dec\",\"Jan\",\"Feb\",\"Mar\",\"Apr\",\"May\",\"Jun\",\"Jul\",\"Aug\",\"Sep\",\"Oct\",\"Nov\",\"Dec\",\"Jan\",\"Feb\",\"Mar\",\"Apr\",\"May\",\"Jun\",\"Jul\",\"Aug\",\"Sep\",\"Oct\",\"Nov\",\"Dec\",\"Jan\",\"Feb\",\"Mar\",\"Apr\",\"May\",\"Jun\",\"Jul\",\"Aug\",\"Sep\",\"Oct\",\"Nov\",\"Dec\",\"Jan\",\"Feb\",\"Mar\",\"Apr\",\"May\",\"Jun\",\"Jul\",\"Aug\",\"Sep\",\"Oct\",\"Nov\",\"Dec\",\"Jan\",\"Feb\",\"Mar\",\"Apr\",\"May\",\"Jun\",\"Jul\",\"Aug\",\"Sep\",\"Oct\",\"Nov\",\"Dec\",\"Jan\",\"Feb\",\"Mar\",\"Apr\",\"May\",\"Jun\",\"Jul\",\"Aug\",\"Sep\",\"Oct\",\"Nov\",\"Dec\",\"Jan\",\"Feb\",\"Mar\",\"Apr\",\"May\",\"Jun\",\"Jul\",\"Aug\",\"Sep\",\"Oct\",\"Nov\",\"Dec\",\"Jan\",\"Feb\",\"Mar\",\"Apr\",\"May\",\"Jun\",\"Jul\",\"Aug\",\"Sep\",\"Oct\",\"Nov\",\"Dec\",\"Jan\",\"Feb\",\"Mar\",\"Apr\",\"May\",\"Jun\",\"Jul\",\"Aug\",\"Sep\",\"Oct\",\"Nov\",\"Dec\",\"Jan\",\"Feb\",\"Mar\",\"Apr\",\"May\",\"Jun\",\"Jul\",\"Aug\",\"Sep\",\"Oct\",\"Nov\",\"Dec\",\"Jan\",\"Feb\",\"Mar\",\"Apr\",\"May\",\"Jun\",\"Jul\",\"Aug\",\"Sep\",\"Oct\",\"Nov\",\"Dec\",\"Jan\",\"Feb\",\"Mar\",\"Apr\",\"May\",\"Jun\",\"Jul\",\"Aug\",\"Sep\",\"Oct\",\"Nov\",\"Dec\",\"Jan\",\"Feb\",\"Mar\",\"Apr\",\"May\",\"Jun\",\"Jul\",\"Aug\",\"Sep\",\"Oct\",\"Nov\",\"Dec\",\"Jan\",\"Feb\",\"Mar\",\"Apr\",\"May\",\"Jun\",\"Jul\",\"Aug\",\"Sep\",\"Oct\",\"Nov\",\"Dec\",\"Jan\",\"Feb\",\"Mar\",\"Apr\",\"May\",\"Jun\",\"Jul\",\"Aug\",\"Sep\",\"Oct\",\"Nov\",\"Dec\",\"Jan\",\"Feb\",\"Mar\",\"Apr\",\"May\",\"Jun\",\"Jul\",\"Aug\",\"Sep\",\"Oct\",\"Nov\",\"Dec\",\"Jan\",\"Feb\",\"Mar\",\"Apr\",\"May\",\"Jun\",\"Jul\",\"Aug\",\"Sep\",\"Oct\",\"Nov\",\"Dec\",\"Jan\",\"Feb\",\"Mar\",\"Apr\",\"May\",\"Jun\",\"Jul\",\"Aug\",\"Sep\",\"Oct\",\"Nov\",\"Dec\",\"Jan\",\"Feb\",\"Mar\",\"Apr\",\"May\",\"Jun\",\"Jul\",\"Aug\",\"Sep\",\"Oct\",\"Nov\",\"Dec\",\"Jan\",\"Feb\",\"Mar\",\"Apr\",\"May\",\"Jun\",\"Jul\",\"Aug\",\"Sep\",\"Oct\",\"Nov\",\"Dec\",\"Jan\",\"Feb\",\"Mar\",\"Apr\",\"May\",\"Jun\",\"Jul\",\"Aug\",\"Sep\",\"Oct\",\"Nov\",\"Dec\",\"Jan\",\"Feb\",\"Mar\",\"Apr\",\"May\",\"Jun\",\"Jul\",\"Aug\",\"Sep\",\"Oct\",\"Nov\",\"Dec\",\"Jan\",\"Feb\",\"Mar\",\"Apr\",\"May\",\"Jun\",\"Jul\",\"Aug\",\"Sep\",\"Oct\",\"Nov\",\"Dec\",\"Jan\",\"Feb\",\"Mar\",\"Apr\",\"May\",\"Jun\",\"Jul\",\"Aug\",\"Sep\",\"Oct\",\"Nov\",\"Dec\",\"Jan\",\"Feb\",\"Mar\",\"Apr\",\"May\",\"Jun\",\"Jul\",\"Aug\",\"Sep\",\"Oct\",\"Nov\",\"Dec\",\"Jan\",\"Feb\",\"Mar\",\"Apr\",\"May\",\"Jun\",\"Jul\",\"Aug\",\"Sep\",\"Oct\",\"Nov\",\"Dec\",\"Jan\",\"Feb\",\"Mar\",\"Apr\",\"May\",\"Jun\",\"Jul\",\"Aug\",\"Sep\",\"Oct\",\"Nov\",\"Dec\",\"Jan\",\"Feb\",\"Mar\",\"Apr\",\"May\",\"Jun\",\"Jul\",\"Aug\",\"Sep\",\"Oct\",\"Nov\",\"Dec\",\"Jan\",\"Feb\",\"Mar\",\"Apr\",\"May\",\"Jun\",\"Jul\",\"Aug\",\"Sep\",\"Oct\",\"Nov\",\"Dec\",\"Jan\",\"Feb\",\"Mar\",\"Apr\",\"May\",\"Jun\",\"Jul\",\"Aug\",\"Sep\",\"Oct\",\"Nov\",\"Dec\",\"Jan\",\"Feb\",\"Mar\",\"Apr\",\"May\",\"Jun\",\"Jul\",\"Aug\",\"Sep\",\"Oct\",\"Nov\",\"Dec\",\"Jan\",\"Feb\",\"Mar\",\"Apr\",\"May\",\"Jun\",\"Jul\",\"Aug\",\"Sep\",\"Oct\",\"Nov\",\"Dec\",\"Jan\",\"Feb\",\"Mar\",\"Apr\",\"May\",\"Jun\",\"Jul\",\"Aug\",\"Sep\",\"Oct\",\"Nov\",\"Dec\",\"Jan\",\"Feb\",\"Mar\",\"Apr\",\"May\",\"Jun\",\"Jul\",\"Aug\",\"Sep\",\"Oct\",\"Nov\",\"Dec\",\"Jan\",\"Feb\",\"Mar\",\"Apr\",\"May\",\"Jun\",\"Jul\",\"Aug\",\"Sep\",\"Oct\",\"Nov\",\"Dec\",\"Jan\",\"Feb\",\"Mar\",\"Apr\",\"May\",\"Jun\",\"Jul\",\"Aug\",\"Sep\",\"Oct\",\"Nov\",\"Dec\"],\"value\":[\"4\",\"4.7\",\"4.5\",\"4\",\"3.4\",\"3.9\",\"3.9\",\"3.6\",\"3.4\",\"2.9\",\"3.3\",\"3.6\",\"5\",\"5.8\",\"5.6\",\"5.4\",\"5.7\",\"6.4\",\"7\",\"6.3\",\"5.9\",\"6.1\",\"5.7\",\"6\",\"7.6\",\"7.9\",\"7.1\",\"6\",\"5.3\",\"5.6\",\"5.3\",\"4.1\",\"4\",\"3.3\",\"3.8\",\"3.9\",\"4.4\",\"4.2\",\"3.8\",\"3.2\",\"2.9\",\"3.4\",\"3.3\",\"2.9\",\"3\",\"2.8\",\"3.2\",\"2.9\",\"3.7\",\"3.8\",\"3.3\",\"3\",\"2.9\",\"3.2\",\"3.3\",\"3.1\",\"2.7\",\"2.4\",\"2.5\",\"2.5\",\"3.4\",\"3.2\",\"2.9\",\"2.8\",\"2.5\",\"2.7\",\"2.7\",\"2.4\",\"2.6\",\"2.5\",\"3.2\",\"4.2\",\"5.7\",\"6.3\",\"6.4\",\"6.1\",\"5.7\",\"5.7\",\"5.7\",\"5.4\",\"5.3\",\"4.6\",\"4.9\",\"4.8\",\"5.8\",\"5.7\",\"5.2\",\"4.9\",\"4.2\",\"4.4\",\"4\",\"3.8\",\"3.5\",\"3.4\",\"3.8\",\"3.9\",\"4.7\",\"4.8\",\"4.7\",\"4.1\",\"4.2\",\"4.7\",\"4.4\",\"3.7\",\"3.4\",\"3.1\",\"3.9\",\"4\",\"4.9\",\"4.7\",\"4.3\",\"4\",\"3.9\",\"4.6\",\"4.1\",\"3.7\",\"3.7\",\"3.6\",\"4.6\",\"5\",\"6.8\",\"7.7\",\"7.7\",\"7.5\",\"7.1\",\"7.6\",\"7.4\",\"6.7\",\"6\",\"5.5\",\"5.6\",\"6\",\"7\",\"7\",\"6.4\",\"5.2\",\"4.9\",\"5.4\",\"5.2\",\"4.8\",\"4.7\",\"4.7\",\"5.3\",\"5.1\",\"6.1\",\"5.7\",\"6.1\",\"5.2\",\"4.8\",\"5.8\",\"5.5\",\"5.2\",\"4.7\",\"5\",\"5.6\",\"6.4\",\"7.7\",\"8.1\",\"7.7\",\"7\",\"6.6\",\"7.3\",\"6.9\",\"6.2\",\"5.8\",\"5.5\",\"5.6\",\"5.8\",\"6.7\",\"6.5\",\"6.2\",\"5.5\",\"5.1\",\"5.9\",\"5.3\",\"5.3\",\"4.9\",\"4.5\",\"5.3\",\"5.3\",\"6.6\",\"6.9\",\"6.3\",\"5.6\",\"5.5\",\"6.2\",\"5.6\",\"5.2\",\"4.8\",\"4.7\",\"5.3\",\"5.3\",\"6.4\",\"6.2\",\"5.9\",\"5.3\",\"4.8\",\"5.9\",\"4.9\",\"4.8\",\"4.5\",\"4.4\",\"4.5\",\"4.7\",\"5.5\",\"5.7\",\"5.1\",\"4.7\",\"4.3\",\"5.3\",\"4.5\",\"4.2\",\"3.8\",\"3.6\",\"3.9\",\"3.7\",\"4.4\",\"4.2\",\"4\",\"3.6\",\"3.7\",\"4.6\",\"3.9\",\"3.6\",\"3.3\",\"3.2\",\"3.4\",\"3.5\",\"4.2\",\"4.2\",\"3.9\",\"3.5\",\"3.2\",\"4.6\",\"4.1\",\"3.7\",\"3.7\",\"3.8\",\"3.7\",\"3.5\",\"4\",\"4.2\",\"3.8\",\"3.2\",\"2.9\",\"4.5\",\"4\",\"3.5\",\"3.3\",\"3.2\",\"3.3\",\"3.1\",\"3.7\",\"3.7\",\"3.5\",\"3.2\",\"2.9\",\"4.1\",\"3.8\",\"3.5\",\"3.7\",\"3.5\",\"3.3\",\"3.2\",\"4.2\",\"4.7\",\"4.6\",\"4.3\",\"4.1\",\"5.6\",\"5.3\",\"5\",\"5.2\",\"5.1\",\"5.5\",\"5.6\",\"6.6\",\"6.6\",\"6.3\",\"5.7\",\"5.3\",\"6.5\",\"6.2\",\"5.9\",\"5.8\",\"5.4\",\"5.7\",\"5.5\",\"6.5\",\"6.4\",\"6.1\",\"5.5\",\"5.1\",\"6.2\",\"5.9\",\"5.5\",\"5.4\",\"5.1\",\"4.9\",\"4.8\",\"5.5\",\"5.6\",\"5.2\",\"4.8\",\"4.4\",\"5.4\",\"5\",\"4.7\",\"4.7\",\"4.2\",\"4.6\",\"4.6\",\"5.7\",\"5.8\",\"5.3\",\"4.8\",\"4.6\",\"5.8\",\"5.7\",\"5.3\",\"5.7\",\"5.5\",\"6.2\",\"6.7\",\"9\",\"9.1\",\"9.1\",\"8.6\",\"8.3\",\"9.1\",\"8.7\",\"8.2\",\"8.1\",\"7.8\",\"7.8\",\"7.8\",\"8.8\",\"8.7\",\"8.1\",\"7.4\",\"6.8\",\"8\",\"7.8\",\"7.6\",\"7.4\",\"7.2\",\"7.4\",\"7.4\",\"8.3\",\"8.5\",\"7.9\",\"6.9\",\"6.4\",\"7.5\",\"7\",\"6.8\",\"6.6\",\"6.4\",\"6.5\",\"6\",\"7.1\",\"6.9\",\"6.6\",\"5.8\",\"5.5\",\"6.2\",\"6.3\",\"5.9\",\"5.8\",\"5.4\",\"5.6\",\"5.7\",\"6.4\",\"6.4\",\"6.1\",\"5.5\",\"5.2\",\"6\",\"5.9\",\"5.9\",\"5.7\",\"5.6\",\"5.6\",\"5.7\",\"6.9\",\"6.8\",\"6.6\",\"6.7\",\"7.1\",\"7.8\",\"7.9\",\"7.6\",\"7.2\",\"7.1\",\"7.1\",\"6.9\",\"8.2\",\"8\",\"7.7\",\"7\",\"7.1\",\"7.7\",\"7.3\",\"7.2\",\"7.3\",\"7.5\",\"7.9\",\"8.3\",\"9.4\",\"9.6\",\"9.5\",\"9.2\",\"9.1\",\"9.8\",\"9.8\",\"9.6\",\"9.7\",\"9.9\",\"10.4\",\"10.5\",\"11.4\",\"11.3\",\"10.8\",\"10\",\"9.8\",\"10.2\",\"9.4\",\"9.2\",\"8.8\",\"8.4\",\"8.1\",\"8\",\"8.8\",\"8.4\",\"8.1\",\"7.6\",\"7.2\",\"7.4\",\"7.5\",\"7.3\",\"7.1\",\"7\",\"6.9\",\"7\",\"8\",\"7.8\",\"7.5\",\"7.1\",\"7\",\"7.5\",\"7.4\",\"6.9\",\"6.9\",\"6.8\",\"6.7\",\"6.7\",\"7.3\",\"7.8\",\"7.5\",\"7\",\"7\",\"7.3\",\"7\",\"6.7\",\"6.8\",\"6.6\",\"6.6\",\"6.3\",\"7.3\",\"7.2\",\"6.9\",\"6.2\",\"6.1\",\"6.3\",\"6.1\",\"5.8\",\"5.7\",\"5.7\",\"5.6\",\"5.4\",\"6.3\",\"6.2\",\"5.9\",\"5.3\",\"5.4\",\"5.5\",\"5.5\",\"5.4\",\"5.2\",\"5\",\"5.2\",\"5\",\"6\",\"5.6\",\"5.2\",\"5.1\",\"5\",\"5.5\",\"5.3\",\"5.1\",\"5.1\",\"5\",\"5.2\",\"5.1\",\"6\",\"5.9\",\"5.5\",\"5.3\",\"5.2\",\"5.4\",\"5.6\",\"5.5\",\"5.6\",\"5.5\",\"5.9\",\"6\",\"7.1\",\"7.3\",\"7.2\",\"6.5\",\"6.7\",\"7\",\"6.8\",\"6.6\",\"6.5\",\"6.5\",\"6.7\",\"6.9\",\"8.1\",\"8.2\",\"7.8\",\"7.2\",\"7.3\",\"8\",\"7.7\",\"7.4\",\"7.3\",\"6.9\",\"7.1\",\"7.1\",\"8\",\"7.8\",\"7.4\",\"6.9\",\"6.8\",\"7.2\",\"7\",\"6.6\",\"6.4\",\"6.4\",\"6.2\",\"6.1\",\"7.3\",\"7.1\",\"6.8\",\"6.2\",\"5.9\",\"6.2\",\"6.2\",\"5.9\",\"5.6\",\"5.4\",\"5.3\",\"5.1\",\"6.2\",\"5.9\",\"5.7\",\"5.6\",\"5.5\",\"5.8\",\"5.9\",\"5.6\",\"5.4\",\"5.2\",\"5.3\",\"5.2\",\"6.3\",\"6\",\"5.8\",\"5.4\",\"5.4\",\"5.5\",\"5.6\",\"5.1\",\"5\",\"4.9\",\"5\",\"5\",\"5.9\",\"5.7\",\"5.5\",\"4.8\",\"4.7\",\"5.2\",\"5\",\"4.8\",\"4.7\",\"4.4\",\"4.3\",\"4.4\",\"5.2\",\"5\",\"5\",\"4.1\",\"4.2\",\"4.7\",\"4.7\",\"4.5\",\"4.4\",\"4.2\",\"4.1\",\"4\",\"4.8\",\"4.7\",\"4.4\",\"4.1\",\"4\",\"4.5\",\"4.5\",\"4.2\",\"4.1\",\"3.8\",\"3.8\",\"3.7\",\"4.5\",\"4.4\",\"4.3\",\"3.7\",\"3.8\",\"4.1\",\"4.2\",\"4.1\",\"3.8\",\"3.6\",\"3.7\",\"3.7\",\"4.7\",\"4.6\",\"4.5\",\"4.2\",\"4.1\",\"4.7\",\"4.7\",\"4.9\",\"4.7\",\"5\",\"5.3\",\"5.4\",\"6.3\",\"6.1\",\"6.1\",\"5.7\",\"5.5\",\"6\",\"5.9\",\"5.7\",\"5.4\",\"5.3\",\"5.6\",\"5.7\",\"6.5\",\"6.4\",\"6.2\",\"5.8\",\"5.8\",\"6.5\",\"6.3\",\"6\",\"5.8\",\"5.6\",\"5.6\",\"5.4\",\"6.3\",\"6\",\"6\",\"5.4\",\"5.3\",\"5.8\",\"5.7\",\"5.4\",\"5.1\",\"5.1\",\"5.2\",\"5.1\",\"5.7\",\"5.8\",\"5.4\",\"4.9\",\"4.9\",\"5.2\",\"5.2\",\"4.9\",\"4.8\",\"4.6\",\"4.8\",\"4.6\",\"5.1\",\"5.1\",\"4.8\",\"4.5\",\"4.4\",\"4.8\",\"5\",\"4.6\",\"4.4\",\"4.1\",\"4.3\",\"4.3\",\"5\",\"4.9\",\"4.5\",\"4.3\",\"4.3\",\"4.7\",\"4.9\",\"4.6\",\"4.5\",\"4.4\",\"4.5\",\"4.8\",\"5.4\",\"5.2\",\"5.2\",\"4.8\",\"5.2\",\"5.7\",\"6\",\"6.1\",\"6\",\"6.1\",\"6.5\",\"7.1\",\"8.5\",\"8.9\",\"9\",\"8.6\",\"9.1\",\"9.7\",\"9.7\",\"9.6\",\"9.5\",\"9.5\",\"9.4\",\"9.7\",\"10.6\",\"10.4\",\"10.2\",\"9.5\",\"9.3\",\"9.6\",\"9.7\",\"9.5\",\"9.2\",\"9\",\"9.3\",\"9.1\",\"9.8\",\"9.5\",\"9.2\",\"8.7\",\"8.7\",\"9.3\",\"9.3\",\"9.1\",\"8.8\",\"8.5\",\"8.2\",\"8.3\",\"8.8\",\"8.7\",\"8.4\",\"7.7\",\"7.9\",\"8.4\",\"8.6\",\"8.2\",\"7.6\",\"7.5\",\"7.4\",\"7.6\",\"8.5\",\"8.1\",\"7.6\",\"7.1\",\"7.3\",\"7.8\",\"7.7\",\"7.3\",\"7\",\"7\",\"6.6\",\"6.5\",\"7\",\"7\",\"6.8\",\"5.9\",\"6.1\",\"6.3\",\"6.5\",\"6.3\",\"5.7\",\"5.5\",\"5.5\",\"5.4\",\"6.1\",\"5.8\",\"5.6\",\"5.1\",\"5.3\",\"5.5\",\"5.6\",\"5.2\",\"4.9\",\"4.8\",\"4.8\",\"4.8\",\"5.3\",\"5.2\",\"5.1\",\"4.7\",\"4.5\",\"5.1\",\"5.1\",\"5\",\"4.8\",\"4.7\",\"4.4\",\"4.5\"],\"zvalues\":{\"__ndarray__\":\"AAAAAAAAEEDNzMzMzMwSQAAAAAAAABJAAAAAAAAAEEAzMzMzMzMLQDMzMzMzMw9AMzMzMzMzD0DNzMzMzMwMQDMzMzMzMwtAMzMzMzMzB0BmZmZmZmYKQM3MzMzMzAxAAAAAAAAAFEAzMzMzMzMXQGZmZmZmZhZAmpmZmZmZFUDNzMzMzMwWQJqZmZmZmRlAAAAAAAAAHEAzMzMzMzMZQJqZmZmZmRdAZmZmZmZmGEDNzMzMzMwWQAAAAAAAABhAZmZmZmZmHkCamZmZmZkfQGZmZmZmZhxAAAAAAAAAGEAzMzMzMzMVQGZmZmZmZhZAMzMzMzMzFUBmZmZmZmYQQAAAAAAAABBAZmZmZmZmCkBmZmZmZmYOQDMzMzMzMw9AmpmZmZmZEUDNzMzMzMwQQGZmZmZmZg5AmpmZmZmZCUAzMzMzMzMHQDMzMzMzMwtAZmZmZmZmCkAzMzMzMzMHQAAAAAAAAAhAZmZmZmZmBkCamZmZmZkJQDMzMzMzMwdAmpmZmZmZDUBmZmZmZmYOQGZmZmZmZgpAAAAAAAAACEAzMzMzMzMHQJqZmZmZmQlAZmZmZmZmCkDNzMzMzMwIQJqZmZmZmQVAMzMzMzMzA0AAAAAAAAAEQAAAAAAAAARAMzMzMzMzC0CamZmZmZkJQDMzMzMzMwdAZmZmZmZmBkAAAAAAAAAEQJqZmZmZmQVAmpmZmZmZBUAzMzMzMzMDQM3MzMzMzARAAAAAAAAABECamZmZmZkJQM3MzMzMzBBAzczMzMzMFkAzMzMzMzMZQJqZmZmZmRlAZmZmZmZmGEDNzMzMzMwWQM3MzMzMzBZAzczMzMzMFkCamZmZmZkVQDMzMzMzMxVAZmZmZmZmEkCamZmZmZkTQDMzMzMzMxNAMzMzMzMzF0DNzMzMzMwWQM3MzMzMzBRAmpmZmZmZE0DNzMzMzMwQQJqZmZmZmRFAAAAAAAAAEEBmZmZmZmYOQAAAAAAAAAxAMzMzMzMzC0BmZmZmZmYOQDMzMzMzMw9AzczMzMzMEkAzMzMzMzMTQM3MzMzMzBJAZmZmZmZmEEDNzMzMzMwQQM3MzMzMzBJAmpmZmZmZEUCamZmZmZkNQDMzMzMzMwtAzczMzMzMCEAzMzMzMzMPQAAAAAAAABBAmpmZmZmZE0DNzMzMzMwSQDMzMzMzMxFAAAAAAAAAEEAzMzMzMzMPQGZmZmZmZhJAZmZmZmZmEECamZmZmZkNQJqZmZmZmQ1AzczMzMzMDEBmZmZmZmYSQAAAAAAAABRAMzMzMzMzG0DNzMzMzMweQM3MzMzMzB5AAAAAAAAAHkBmZmZmZmYcQGZmZmZmZh5AmpmZmZmZHUDNzMzMzMwaQAAAAAAAABhAAAAAAAAAFkBmZmZmZmYWQAAAAAAAABhAAAAAAAAAHEAAAAAAAAAcQJqZmZmZmRlAzczMzMzMFECamZmZmZkTQJqZmZmZmRVAzczMzMzMFEAzMzMzMzMTQM3MzMzMzBJAzczMzMzMEkAzMzMzMzMVQGZmZmZmZhRAZmZmZmZmGEDNzMzMzMwWQGZmZmZmZhhAzczMzMzMFEAzMzMzMzMTQDMzMzMzMxdAAAAAAAAAFkDNzMzMzMwUQM3MzMzMzBJAAAAAAAAAFEBmZmZmZmYWQJqZmZmZmRlAzczMzMzMHkAzMzMzMzMgQM3MzMzMzB5AAAAAAAAAHEBmZmZmZmYaQDMzMzMzMx1AmpmZmZmZG0DNzMzMzMwYQDMzMzMzMxdAAAAAAAAAFkBmZmZmZmYWQDMzMzMzMxdAzczMzMzMGkAAAAAAAAAaQM3MzMzMzBhAAAAAAAAAFkBmZmZmZmYUQJqZmZmZmRdAMzMzMzMzFUAzMzMzMzMVQJqZmZmZmRNAAAAAAAAAEkAzMzMzMzMVQDMzMzMzMxVAZmZmZmZmGkCamZmZmZkbQDMzMzMzMxlAZmZmZmZmFkAAAAAAAAAWQM3MzMzMzBhAZmZmZmZmFkDNzMzMzMwUQDMzMzMzMxNAzczMzMzMEkAzMzMzMzMVQDMzMzMzMxVAmpmZmZmZGUDNzMzMzMwYQJqZmZmZmRdAMzMzMzMzFUAzMzMzMzMTQJqZmZmZmRdAmpmZmZmZE0AzMzMzMzMTQAAAAAAAABJAmpmZmZmZEUAAAAAAAAASQM3MzMzMzBJAAAAAAAAAFkDNzMzMzMwWQGZmZmZmZhRAzczMzMzMEkAzMzMzMzMRQDMzMzMzMxVAAAAAAAAAEkDNzMzMzMwQQGZmZmZmZg5AzczMzMzMDEAzMzMzMzMPQJqZmZmZmQ1AmpmZmZmZEUDNzMzMzMwQQAAAAAAAABBAzczMzMzMDECamZmZmZkNQGZmZmZmZhJAMzMzMzMzD0DNzMzMzMwMQGZmZmZmZgpAmpmZmZmZCUAzMzMzMzMLQAAAAAAAAAxAzczMzMzMEEDNzMzMzMwQQDMzMzMzMw9AAAAAAAAADECamZmZmZkJQGZmZmZmZhJAZmZmZmZmEECamZmZmZkNQJqZmZmZmQ1AZmZmZmZmDkCamZmZmZkNQAAAAAAAAAxAAAAAAAAAEEDNzMzMzMwQQGZmZmZmZg5AmpmZmZmZCUAzMzMzMzMHQAAAAAAAABJAAAAAAAAAEEAAAAAAAAAMQGZmZmZmZgpAmpmZmZmZCUBmZmZmZmYKQM3MzMzMzAhAmpmZmZmZDUCamZmZmZkNQAAAAAAAAAxAmpmZmZmZCUAzMzMzMzMHQGZmZmZmZhBAZmZmZmZmDkAAAAAAAAAMQJqZmZmZmQ1AAAAAAAAADEBmZmZmZmYKQJqZmZmZmQlAzczMzMzMEEDNzMzMzMwSQGZmZmZmZhJAMzMzMzMzEUBmZmZmZmYQQGZmZmZmZhZAMzMzMzMzFUAAAAAAAAAUQM3MzMzMzBRAZmZmZmZmFEAAAAAAAAAWQGZmZmZmZhZAZmZmZmZmGkBmZmZmZmYaQDMzMzMzMxlAzczMzMzMFkAzMzMzMzMVQAAAAAAAABpAzczMzMzMGECamZmZmZkXQDMzMzMzMxdAmpmZmZmZFUDNzMzMzMwWQAAAAAAAABZAAAAAAAAAGkCamZmZmZkZQGZmZmZmZhhAAAAAAAAAFkBmZmZmZmYUQM3MzMzMzBhAmpmZmZmZF0AAAAAAAAAWQJqZmZmZmRVAZmZmZmZmFECamZmZmZkTQDMzMzMzMxNAAAAAAAAAFkBmZmZmZmYWQM3MzMzMzBRAMzMzMzMzE0CamZmZmZkRQJqZmZmZmRVAAAAAAAAAFEDNzMzMzMwSQM3MzMzMzBJAzczMzMzMEEBmZmZmZmYSQGZmZmZmZhJAzczMzMzMFkAzMzMzMzMXQDMzMzMzMxVAMzMzMzMzE0BmZmZmZmYSQDMzMzMzMxdAzczMzMzMFkAzMzMzMzMVQM3MzMzMzBZAAAAAAAAAFkDNzMzMzMwYQM3MzMzMzBpAAAAAAAAAIkAzMzMzMzMiQDMzMzMzMyJAMzMzMzMzIUCamZmZmZkgQDMzMzMzMyJAZmZmZmZmIUBmZmZmZmYgQDMzMzMzMyBAMzMzMzMzH0AzMzMzMzMfQDMzMzMzMx9AmpmZmZmZIUBmZmZmZmYhQDMzMzMzMyBAmpmZmZmZHUAzMzMzMzMbQAAAAAAAACBAMzMzMzMzH0BmZmZmZmYeQJqZmZmZmR1AzczMzMzMHECamZmZmZkdQJqZmZmZmR1AmpmZmZmZIEAAAAAAAAAhQJqZmZmZmR9AmpmZmZmZG0CamZmZmZkZQAAAAAAAAB5AAAAAAAAAHEAzMzMzMzMbQGZmZmZmZhpAmpmZmZmZGUAAAAAAAAAaQAAAAAAAABhAZmZmZmZmHECamZmZmZkbQGZmZmZmZhpAMzMzMzMzF0AAAAAAAAAWQM3MzMzMzBhAMzMzMzMzGUCamZmZmZkXQDMzMzMzMxdAmpmZmZmZFUBmZmZmZmYWQM3MzMzMzBZAmpmZmZmZGUCamZmZmZkZQGZmZmZmZhhAAAAAAAAAFkDNzMzMzMwUQAAAAAAAABhAmpmZmZmZF0CamZmZmZkXQM3MzMzMzBZAZmZmZmZmFkBmZmZmZmYWQM3MzMzMzBZAmpmZmZmZG0AzMzMzMzMbQGZmZmZmZhpAzczMzMzMGkBmZmZmZmYcQDMzMzMzMx9AmpmZmZmZH0BmZmZmZmYeQM3MzMzMzBxAZmZmZmZmHEBmZmZmZmYcQJqZmZmZmRtAZmZmZmZmIEAAAAAAAAAgQM3MzMzMzB5AAAAAAAAAHEBmZmZmZmYcQM3MzMzMzB5AMzMzMzMzHUDNzMzMzMwcQDMzMzMzMx1AAAAAAAAAHkCamZmZmZkfQJqZmZmZmSBAzczMzMzMIkAzMzMzMzMjQAAAAAAAACNAZmZmZmZmIkAzMzMzMzMiQJqZmZmZmSNAmpmZmZmZI0AzMzMzMzMjQGZmZmZmZiNAzczMzMzMI0DNzMzMzMwkQAAAAAAAACVAzczMzMzMJkCamZmZmZkmQJqZmZmZmSVAAAAAAAAAJECamZmZmZkjQGZmZmZmZiRAzczMzMzMIkBmZmZmZmYiQJqZmZmZmSFAzczMzMzMIEAzMzMzMzMgQAAAAAAAACBAmpmZmZmZIUDNzMzMzMwgQDMzMzMzMyBAZmZmZmZmHkDNzMzMzMwcQJqZmZmZmR1AAAAAAAAAHkAzMzMzMzMdQGZmZmZmZhxAAAAAAAAAHECamZmZmZkbQAAAAAAAABxAAAAAAAAAIEAzMzMzMzMfQAAAAAAAAB5AZmZmZmZmHEAAAAAAAAAcQAAAAAAAAB5AmpmZmZmZHUCamZmZmZkbQJqZmZmZmRtAMzMzMzMzG0DNzMzMzMwaQM3MzMzMzBpAMzMzMzMzHUAzMzMzMzMfQAAAAAAAAB5AAAAAAAAAHEAAAAAAAAAcQDMzMzMzMx1AAAAAAAAAHEDNzMzMzMwaQDMzMzMzMxtAZmZmZmZmGkBmZmZmZmYaQDMzMzMzMxlAMzMzMzMzHUDNzMzMzMwcQJqZmZmZmRtAzczMzMzMGEBmZmZmZmYYQDMzMzMzMxlAZmZmZmZmGEAzMzMzMzMXQM3MzMzMzBZAzczMzMzMFkBmZmZmZmYWQJqZmZmZmRVAMzMzMzMzGUDNzMzMzMwYQJqZmZmZmRdAMzMzMzMzFUCamZmZmZkVQAAAAAAAABZAAAAAAAAAFkCamZmZmZkVQM3MzMzMzBRAAAAAAAAAFEDNzMzMzMwUQAAAAAAAABRAAAAAAAAAGEBmZmZmZmYWQM3MzMzMzBRAZmZmZmZmFEAAAAAAAAAUQAAAAAAAABZAMzMzMzMzFUBmZmZmZmYUQGZmZmZmZhRAAAAAAAAAFEDNzMzMzMwUQGZmZmZmZhRAAAAAAAAAGECamZmZmZkXQAAAAAAAABZAMzMzMzMzFUDNzMzMzMwUQJqZmZmZmRVAZmZmZmZmFkAAAAAAAAAWQGZmZmZmZhZAAAAAAAAAFkCamZmZmZkXQAAAAAAAABhAZmZmZmZmHEAzMzMzMzMdQM3MzMzMzBxAAAAAAAAAGkDNzMzMzMwaQAAAAAAAABxAMzMzMzMzG0BmZmZmZmYaQAAAAAAAABpAAAAAAAAAGkDNzMzMzMwaQJqZmZmZmRtAMzMzMzMzIEBmZmZmZmYgQDMzMzMzMx9AzczMzMzMHEAzMzMzMzMdQAAAAAAAACBAzczMzMzMHkCamZmZmZkdQDMzMzMzMx1AmpmZmZmZG0BmZmZmZmYcQGZmZmZmZhxAAAAAAAAAIEAzMzMzMzMfQJqZmZmZmR1AmpmZmZmZG0AzMzMzMzMbQM3MzMzMzBxAAAAAAAAAHEBmZmZmZmYaQJqZmZmZmRlAmpmZmZmZGUDNzMzMzMwYQGZmZmZmZhhAMzMzMzMzHUBmZmZmZmYcQDMzMzMzMxtAzczMzMzMGECamZmZmZkXQM3MzMzMzBhAzczMzMzMGECamZmZmZkXQGZmZmZmZhZAmpmZmZmZFUAzMzMzMzMVQGZmZmZmZhRAzczMzMzMGECamZmZmZkXQM3MzMzMzBZAZmZmZmZmFkAAAAAAAAAWQDMzMzMzMxdAmpmZmZmZF0BmZmZmZmYWQJqZmZmZmRVAzczMzMzMFEAzMzMzMzMVQM3MzMzMzBRAMzMzMzMzGUAAAAAAAAAYQDMzMzMzMxdAmpmZmZmZFUCamZmZmZkVQAAAAAAAABZAZmZmZmZmFkBmZmZmZmYUQAAAAAAAABRAmpmZmZmZE0AAAAAAAAAUQAAAAAAAABRAmpmZmZmZF0DNzMzMzMwWQAAAAAAAABZAMzMzMzMzE0DNzMzMzMwSQM3MzMzMzBRAAAAAAAAAFEAzMzMzMzMTQM3MzMzMzBJAmpmZmZmZEUAzMzMzMzMRQJqZmZmZmRFAzczMzMzMFEAAAAAAAAAUQAAAAAAAABRAZmZmZmZmEEDNzMzMzMwQQM3MzMzMzBJAzczMzMzMEkAAAAAAAAASQJqZmZmZmRFAzczMzMzMEEBmZmZmZmYQQAAAAAAAABBAMzMzMzMzE0DNzMzMzMwSQJqZmZmZmRFAZmZmZmZmEEAAAAAAAAAQQAAAAAAAABJAAAAAAAAAEkDNzMzMzMwQQGZmZmZmZhBAZmZmZmZmDkBmZmZmZmYOQJqZmZmZmQ1AAAAAAAAAEkCamZmZmZkRQDMzMzMzMxFAmpmZmZmZDUBmZmZmZmYOQGZmZmZmZhBAzczMzMzMEEBmZmZmZmYQQGZmZmZmZg5AzczMzMzMDECamZmZmZkNQJqZmZmZmQ1AzczMzMzMEkBmZmZmZmYSQAAAAAAAABJAzczMzMzMEEBmZmZmZmYQQM3MzMzMzBJAzczMzMzMEkCamZmZmZkTQM3MzMzMzBJAAAAAAAAAFEAzMzMzMzMVQJqZmZmZmRVAMzMzMzMzGUBmZmZmZmYYQGZmZmZmZhhAzczMzMzMFkAAAAAAAAAWQAAAAAAAABhAmpmZmZmZF0DNzMzMzMwWQJqZmZmZmRVAMzMzMzMzFUBmZmZmZmYWQM3MzMzMzBZAAAAAAAAAGkCamZmZmZkZQM3MzMzMzBhAMzMzMzMzF0AzMzMzMzMXQAAAAAAAABpAMzMzMzMzGUAAAAAAAAAYQDMzMzMzMxdAZmZmZmZmFkBmZmZmZmYWQJqZmZmZmRVAMzMzMzMzGUAAAAAAAAAYQAAAAAAAABhAmpmZmZmZFUAzMzMzMzMVQDMzMzMzMxdAzczMzMzMFkCamZmZmZkVQGZmZmZmZhRAZmZmZmZmFEDNzMzMzMwUQGZmZmZmZhRAzczMzMzMFkAzMzMzMzMXQJqZmZmZmRVAmpmZmZmZE0CamZmZmZkTQM3MzMzMzBRAzczMzMzMFECamZmZmZkTQDMzMzMzMxNAZmZmZmZmEkAzMzMzMzMTQGZmZmZmZhJAZmZmZmZmFEBmZmZmZmYUQDMzMzMzMxNAAAAAAAAAEkCamZmZmZkRQDMzMzMzMxNAAAAAAAAAFEBmZmZmZmYSQJqZmZmZmRFAZmZmZmZmEEAzMzMzMzMRQDMzMzMzMxFAAAAAAAAAFECamZmZmZkTQAAAAAAAABJAMzMzMzMzEUAzMzMzMzMRQM3MzMzMzBJAmpmZmZmZE0BmZmZmZmYSQAAAAAAAABJAmpmZmZmZEUAAAAAAAAASQDMzMzMzMxNAmpmZmZmZFUDNzMzMzMwUQM3MzMzMzBRAMzMzMzMzE0DNzMzMzMwUQM3MzMzMzBZAAAAAAAAAGEBmZmZmZmYYQAAAAAAAABhAZmZmZmZmGEAAAAAAAAAaQGZmZmZmZhxAAAAAAAAAIUDNzMzMzMwhQAAAAAAAACJAMzMzMzMzIUAzMzMzMzMiQGZmZmZmZiNAZmZmZmZmI0AzMzMzMzMjQAAAAAAAACNAAAAAAAAAI0DNzMzMzMwiQGZmZmZmZiNAMzMzMzMzJUDNzMzMzMwkQGZmZmZmZiRAAAAAAAAAI0CamZmZmZkiQDMzMzMzMyNAZmZmZmZmI0AAAAAAAAAjQGZmZmZmZiJAAAAAAAAAIkCamZmZmZkiQDMzMzMzMyJAmpmZmZmZI0AAAAAAAAAjQGZmZmZmZiJAZmZmZmZmIUBmZmZmZmYhQJqZmZmZmSJAmpmZmZmZIkAzMzMzMzMiQJqZmZmZmSFAAAAAAAAAIUBmZmZmZmYgQJqZmZmZmSBAmpmZmZmZIUBmZmZmZmYhQM3MzMzMzCBAzczMzMzMHkCamZmZmZkfQM3MzMzMzCBAMzMzMzMzIUBmZmZmZmYgQGZmZmZmZh5AAAAAAAAAHkCamZmZmZkdQGZmZmZmZh5AAAAAAAAAIUAzMzMzMzMgQGZmZmZmZh5AZmZmZmZmHEAzMzMzMzMdQDMzMzMzMx9AzczMzMzMHkAzMzMzMzMdQAAAAAAAABxAAAAAAAAAHEBmZmZmZmYaQAAAAAAAABpAAAAAAAAAHEAAAAAAAAAcQDMzMzMzMxtAmpmZmZmZF0BmZmZmZmYYQDMzMzMzMxlAAAAAAAAAGkAzMzMzMzMZQM3MzMzMzBZAAAAAAAAAFkAAAAAAAAAWQJqZmZmZmRVAZmZmZmZmGEAzMzMzMzMXQGZmZmZmZhZAZmZmZmZmFEAzMzMzMzMVQAAAAAAAABZAZmZmZmZmFkDNzMzMzMwUQJqZmZmZmRNAMzMzMzMzE0AzMzMzMzMTQDMzMzMzMxNAMzMzMzMzFUDNzMzMzMwUQGZmZmZmZhRAzczMzMzMEkAAAAAAAAASQGZmZmZmZhRAZmZmZmZmFEAAAAAAAAAUQDMzMzMzMxNAzczMzMzMEkCamZmZmZkRQAAAAAAAABJA\",\"dtype\":\"float64\",\"order\":\"little\",\"shape\":[828]}},\"selected\":{\"id\":\"5210\"},\"selection_policy\":{\"id\":\"5234\"}},\"id\":\"5209\",\"type\":\"ColumnDataSource\"},{\"attributes\":{},\"id\":\"5225\",\"type\":\"AllLabels\"},{\"attributes\":{\"axis\":{\"id\":\"5192\"},\"coordinates\":null,\"dimension\":1,\"grid_line_color\":null,\"group\":null,\"ticker\":null},\"id\":\"5194\",\"type\":\"Grid\"},{\"attributes\":{\"fill_alpha\":{\"value\":0.1},\"fill_color\":{\"field\":\"zvalues\",\"transform\":{\"id\":\"5208\"}},\"hatch_alpha\":{\"value\":0.1},\"height\":{\"value\":1},\"line_alpha\":{\"value\":0},\"line_color\":{\"value\":\"#1f77b4\"},\"width\":{\"value\":1},\"x\":{\"field\":\"columns\"},\"y\":{\"field\":\"index\"}},\"id\":\"5213\",\"type\":\"Rect\"},{\"attributes\":{\"high\":11.4,\"low\":2.4,\"nan_color\":\"white\",\"palette\":[\"#75968f\",\"#a5bab7\",\"#c9d9d3\",\"#e2e2e2\",\"#dfccce\",\"#ddb7b1\",\"#cc7878\",\"#933b41\",\"#550b1d\"]},\"id\":\"5208\",\"type\":\"LinearColorMapper\"},{\"attributes\":{\"factors\":[\"Jan\",\"Feb\",\"Mar\",\"Apr\",\"May\",\"Jun\",\"Jul\",\"Aug\",\"Sep\",\"Oct\",\"Nov\",\"Dec\"],\"tags\":[[[\"index\",\"index\",null]]]},\"id\":\"5178\",\"type\":\"FactorRange\"},{\"attributes\":{\"margin\":[5,5,5,5],\"name\":\"HSpacer06470\",\"sizing_mode\":\"stretch_width\"},\"id\":\"5176\",\"type\":\"Spacer\"},{\"attributes\":{\"coordinates\":null,\"data_source\":{\"id\":\"5209\"},\"glyph\":{\"id\":\"5212\"},\"group\":null,\"hover_glyph\":null,\"muted_glyph\":{\"id\":\"5215\"},\"nonselection_glyph\":{\"id\":\"5213\"},\"selection_glyph\":{\"id\":\"5214\"},\"view\":{\"id\":\"5217\"}},\"id\":\"5216\",\"type\":\"GlyphRenderer\"},{\"attributes\":{\"fill_alpha\":{\"value\":0.2},\"fill_color\":{\"field\":\"zvalues\",\"transform\":{\"id\":\"5208\"}},\"hatch_alpha\":{\"value\":0.2},\"height\":{\"value\":1},\"line_alpha\":{\"value\":0},\"line_color\":{\"value\":\"#1f77b4\"},\"width\":{\"value\":1},\"x\":{\"field\":\"columns\"},\"y\":{\"field\":\"index\"}},\"id\":\"5215\",\"type\":\"Rect\"},{\"attributes\":{\"fill_color\":{\"field\":\"zvalues\",\"transform\":{\"id\":\"5208\"}},\"height\":{\"value\":1},\"line_alpha\":{\"value\":0},\"line_color\":{\"value\":\"#1f77b4\"},\"width\":{\"value\":1},\"x\":{\"field\":\"columns\"},\"y\":{\"field\":\"index\"}},\"id\":\"5212\",\"type\":\"Rect\"},{\"attributes\":{\"above\":[{\"id\":\"5189\"}],\"below\":[],\"center\":[{\"id\":\"5191\"},{\"id\":\"5194\"}],\"height\":500,\"left\":[{\"id\":\"5192\"}],\"margin\":[5,5,5,5],\"min_border_bottom\":10,\"min_border_left\":10,\"min_border_right\":10,\"min_border_top\":10,\"renderers\":[{\"id\":\"5216\"}],\"right\":[{\"id\":\"5219\"}],\"sizing_mode\":\"fixed\",\"title\":{\"id\":\"5181\"},\"toolbar\":{\"id\":\"5201\"},\"width\":1000,\"x_range\":{\"id\":\"5177\"},\"x_scale\":{\"id\":\"5185\"},\"y_range\":{\"id\":\"5178\"},\"y_scale\":{\"id\":\"5187\"}},\"id\":\"5180\",\"subtype\":\"Figure\",\"type\":\"Plot\"},{\"attributes\":{\"fill_color\":{\"field\":\"zvalues\",\"transform\":{\"id\":\"5208\"}},\"height\":{\"value\":1},\"line_alpha\":{\"value\":0},\"line_color\":{\"value\":\"#1f77b4\"},\"width\":{\"value\":1},\"x\":{\"field\":\"columns\"},\"y\":{\"field\":\"index\"}},\"id\":\"5214\",\"type\":\"Rect\"},{\"attributes\":{\"children\":[{\"id\":\"5176\"},{\"id\":\"5180\"},{\"id\":\"5237\"}],\"margin\":[0,0,0,0],\"name\":\"Row06466\",\"tags\":[\"embedded\"]},\"id\":\"5175\",\"type\":\"Row\"},{\"attributes\":{\"tools\":[{\"id\":\"5179\"},{\"id\":\"5195\"},{\"id\":\"5196\"},{\"id\":\"5197\"},{\"id\":\"5198\"},{\"id\":\"5199\"}]},\"id\":\"5201\",\"type\":\"Toolbar\"},{\"attributes\":{\"bottom_units\":\"screen\",\"coordinates\":null,\"fill_alpha\":0.5,\"fill_color\":\"lightgrey\",\"group\":null,\"left_units\":\"screen\",\"level\":\"overlay\",\"line_alpha\":1.0,\"line_color\":\"black\",\"line_dash\":[4,4],\"line_width\":2,\"right_units\":\"screen\",\"syncable\":false,\"top_units\":\"screen\"},\"id\":\"5200\",\"type\":\"BoxAnnotation\"}],\"root_ids\":[\"5175\"]},\"title\":\"Bokeh Application\",\"version\":\"2.4.3\"}};\n",
       "    var render_items = [{\"docid\":\"4101a345-7abe-4e0e-b230-8ac2c1ca15c3\",\"root_ids\":[\"5175\"],\"roots\":{\"5175\":\"4523df2f-0f70-4aca-8b9f-437e9c25600e\"}}];\n",
       "    root.Bokeh.embed.embed_items_notebook(docs_json, render_items);\n",
       "  }\n",
       "  if (root.Bokeh !== undefined && root.Bokeh.Panel !== undefined) {\n",
       "    embed_document(root);\n",
       "  } else {\n",
       "    var attempts = 0;\n",
       "    var timer = setInterval(function(root) {\n",
       "      if (root.Bokeh !== undefined && root.Bokeh.Panel !== undefined) {\n",
       "        clearInterval(timer);\n",
       "        embed_document(root);\n",
       "      } else if (document.readyState == \"complete\") {\n",
       "        attempts++;\n",
       "        if (attempts > 200) {\n",
       "          clearInterval(timer);\n",
       "          console.log(\"Bokeh: ERROR: Unable to run BokehJS code because BokehJS library is missing\");\n",
       "        }\n",
       "      }\n",
       "    }, 25, root)\n",
       "  }\n",
       "})(window);</script>"
      ],
      "text/plain": [
       ":HeatMap   [columns,index]   (value)"
      ]
     },
     "execution_count": 76,
     "metadata": {
      "application/vnd.holoviews_exec.v0+json": {
       "id": "5175"
      }
     },
     "output_type": "execute_result"
    }
   ],
   "source": [
    "unemployment_df = unemployment_df.set_index('Year').drop('Annual', axis=1).transpose()\n",
    "unemployment_df.hvplot.heatmap(\n",
    "    x='columns', \n",
    "    y='index', \n",
    "    title='US Unemployment 1948—2016', \n",
    "    cmap=[\"#75968f\", \"#a5bab7\", \"#c9d9d3\", \"#e2e2e2\", \"#dfccce\", \"#ddb7b1\", \"#cc7878\", \"#933b41\", \"#550b1d\"], \n",
    "    xaxis='top', \n",
    "    rot=70,\n",
    "    width=1000, height=500).opts(\n",
    "    fontsize={'title': 10, 'xticks': 5, 'yticks': 5}\n",
    ")"
   ]
  },
  {
   "cell_type": "code",
   "execution_count": 77,
   "metadata": {},
   "outputs": [
    {
     "data": {},
     "metadata": {},
     "output_type": "display_data"
    },
    {
     "data": {
      "application/vnd.holoviews_exec.v0+json": "",
      "text/html": [
       "<div id='5294'>\n",
       "  <div class=\"bk-root\" id=\"63f830de-b45a-4469-bafc-9228491a1498\" data-root-id=\"5294\"></div>\n",
       "</div>\n",
       "<script type=\"application/javascript\">(function(root) {\n",
       "  function embed_document(root) {\n",
       "    var docs_json = {\"32d7e1af-d69d-4e1b-9f4f-a1973c90dd02\":{\"defs\":[{\"extends\":null,\"module\":null,\"name\":\"ReactiveHTML1\",\"overrides\":[],\"properties\":[]},{\"extends\":null,\"module\":null,\"name\":\"FlexBox1\",\"overrides\":[],\"properties\":[{\"default\":\"flex-start\",\"kind\":null,\"name\":\"align_content\"},{\"default\":\"flex-start\",\"kind\":null,\"name\":\"align_items\"},{\"default\":\"row\",\"kind\":null,\"name\":\"flex_direction\"},{\"default\":\"wrap\",\"kind\":null,\"name\":\"flex_wrap\"},{\"default\":\"flex-start\",\"kind\":null,\"name\":\"justify_content\"}]},{\"extends\":null,\"module\":null,\"name\":\"GridStack1\",\"overrides\":[],\"properties\":[{\"default\":\"warn\",\"kind\":null,\"name\":\"mode\"},{\"default\":null,\"kind\":null,\"name\":\"ncols\"},{\"default\":null,\"kind\":null,\"name\":\"nrows\"},{\"default\":true,\"kind\":null,\"name\":\"allow_resize\"},{\"default\":true,\"kind\":null,\"name\":\"allow_drag\"},{\"default\":[],\"kind\":null,\"name\":\"state\"}]},{\"extends\":null,\"module\":null,\"name\":\"click1\",\"overrides\":[],\"properties\":[{\"default\":\"\",\"kind\":null,\"name\":\"terminal_output\"},{\"default\":\"\",\"kind\":null,\"name\":\"debug_name\"},{\"default\":0,\"kind\":null,\"name\":\"clears\"}]},{\"extends\":null,\"module\":null,\"name\":\"NotificationAreaBase1\",\"overrides\":[],\"properties\":[{\"default\":\"bottom-right\",\"kind\":null,\"name\":\"position\"},{\"default\":0,\"kind\":null,\"name\":\"_clear\"}]},{\"extends\":null,\"module\":null,\"name\":\"NotificationArea1\",\"overrides\":[],\"properties\":[{\"default\":[],\"kind\":null,\"name\":\"notifications\"},{\"default\":\"bottom-right\",\"kind\":null,\"name\":\"position\"},{\"default\":0,\"kind\":null,\"name\":\"_clear\"},{\"default\":[{\"background\":\"#ffc107\",\"icon\":{\"className\":\"fas fa-exclamation-triangle\",\"color\":\"white\",\"tagName\":\"i\"},\"type\":\"warning\"},{\"background\":\"#007bff\",\"icon\":{\"className\":\"fas fa-info-circle\",\"color\":\"white\",\"tagName\":\"i\"},\"type\":\"info\"}],\"kind\":null,\"name\":\"types\"}]},{\"extends\":null,\"module\":null,\"name\":\"Notification\",\"overrides\":[],\"properties\":[{\"default\":null,\"kind\":null,\"name\":\"background\"},{\"default\":3000,\"kind\":null,\"name\":\"duration\"},{\"default\":null,\"kind\":null,\"name\":\"icon\"},{\"default\":\"\",\"kind\":null,\"name\":\"message\"},{\"default\":null,\"kind\":null,\"name\":\"notification_type\"},{\"default\":false,\"kind\":null,\"name\":\"_destroyed\"}]},{\"extends\":null,\"module\":null,\"name\":\"TemplateActions1\",\"overrides\":[],\"properties\":[{\"default\":0,\"kind\":null,\"name\":\"open_modal\"},{\"default\":0,\"kind\":null,\"name\":\"close_modal\"}]},{\"extends\":null,\"module\":null,\"name\":\"MaterialTemplateActions1\",\"overrides\":[],\"properties\":[{\"default\":0,\"kind\":null,\"name\":\"open_modal\"},{\"default\":0,\"kind\":null,\"name\":\"close_modal\"}]}],\"roots\":{\"references\":[{\"attributes\":{\"coordinates\":null,\"group\":null,\"text_color\":\"black\",\"text_font_size\":\"12pt\"},\"id\":\"5300\",\"type\":\"Title\"},{\"attributes\":{\"coordinates\":null,\"data_source\":{\"id\":\"5329\"},\"glyph\":{\"id\":\"5332\"},\"group\":null,\"hover_glyph\":null,\"muted_glyph\":{\"id\":\"5334\"},\"nonselection_glyph\":{\"id\":\"5333\"},\"selection_glyph\":{\"id\":\"5337\"},\"view\":{\"id\":\"5336\"}},\"id\":\"5335\",\"type\":\"GlyphRenderer\"},{\"attributes\":{\"line_alpha\":0.2,\"line_color\":\"#30a2da\",\"line_width\":2,\"x\":{\"field\":\"Year\"},\"y\":{\"field\":\"Suicides per 100k\"}},\"id\":\"5334\",\"type\":\"Line\"},{\"attributes\":{},\"id\":\"5318\",\"type\":\"WheelZoomTool\"},{\"attributes\":{},\"id\":\"5320\",\"type\":\"ResetTool\"},{\"attributes\":{\"overlay\":{\"id\":\"5321\"}},\"id\":\"5319\",\"type\":\"BoxZoomTool\"},{\"attributes\":{},\"id\":\"5309\",\"type\":\"BasicTicker\"},{\"attributes\":{},\"id\":\"5330\",\"type\":\"Selection\"},{\"attributes\":{\"source\":{\"id\":\"5329\"}},\"id\":\"5336\",\"type\":\"CDSView\"},{\"attributes\":{},\"id\":\"5304\",\"type\":\"LinearScale\"},{\"attributes\":{\"line_color\":\"#30a2da\",\"line_width\":2,\"x\":{\"field\":\"Year\"},\"y\":{\"field\":\"Suicides per 100k\"}},\"id\":\"5337\",\"type\":\"Line\"},{\"attributes\":{},\"id\":\"5313\",\"type\":\"BasicTicker\"},{\"attributes\":{\"axis\":{\"id\":\"5308\"},\"coordinates\":null,\"grid_line_color\":null,\"group\":null,\"ticker\":null},\"id\":\"5311\",\"type\":\"Grid\"},{\"attributes\":{\"callback\":null,\"renderers\":[{\"id\":\"5335\"}],\"tags\":[\"hv_created\"],\"tooltips\":[[\"Year\",\"@{Year}\"],[\"Suicides per 100k\",\"@{Suicides_per_100k}\"]]},\"id\":\"5298\",\"type\":\"HoverTool\"},{\"attributes\":{},\"id\":\"5340\",\"type\":\"AllLabels\"},{\"attributes\":{},\"id\":\"5306\",\"type\":\"LinearScale\"},{\"attributes\":{\"data\":{\"Suicides per 100k\":{\"__ndarray__\":\"16NwPQoXZ0DNzMzMzPRnQIXrUbge9WdAH4XrUbh2Z0CuR+F6FM5mQJqZmZmZeWdAcT0K16P4ZkBxPQrXozhmQKRwPQrXY2ZAKVyPwvUAZkB7FK5H4aJlQGZmZmZmzmRAH4XrUbg+ZEC4HoXrURBkQHE9Ctej2GJAw/UoXI9SYkDXo3A9CodiQHE9CtejwGJAFK5H4Xo0YkDNzMzMzFxiQPYoXI/CVWJAXI/C9SgkYkCkcD0K16NiQEjhehSuJ2NArkfhehRGY0AUrkfhetxjQOxRuB6FS2RAFK5H4XqkZEA9CtejcNVkQMP1KFyPamVAhetRuB7tZUA=\",\"dtype\":\"float64\",\"order\":\"little\",\"shape\":[31]},\"Suicides_per_100k\":{\"__ndarray__\":\"16NwPQoXZ0DNzMzMzPRnQIXrUbge9WdAH4XrUbh2Z0CuR+F6FM5mQJqZmZmZeWdAcT0K16P4ZkBxPQrXozhmQKRwPQrXY2ZAKVyPwvUAZkB7FK5H4aJlQGZmZmZmzmRAH4XrUbg+ZEC4HoXrURBkQHE9Ctej2GJAw/UoXI9SYkDXo3A9CodiQHE9CtejwGJAFK5H4Xo0YkDNzMzMzFxiQPYoXI/CVWJAXI/C9SgkYkCkcD0K16NiQEjhehSuJ2NArkfhehRGY0AUrkfhetxjQOxRuB6FS2RAFK5H4XqkZEA9CtejcNVkQMP1KFyPamVAhetRuB7tZUA=\",\"dtype\":\"float64\",\"order\":\"little\",\"shape\":[31]},\"Year\":[1985,1986,1987,1988,1989,1990,1991,1992,1993,1994,1995,1996,1997,1998,1999,2000,2001,2002,2003,2004,2005,2006,2007,2008,2009,2010,2011,2012,2013,2014,2015]},\"selected\":{\"id\":\"5330\"},\"selection_policy\":{\"id\":\"5351\"}},\"id\":\"5329\",\"type\":\"ColumnDataSource\"},{\"attributes\":{},\"id\":\"5342\",\"type\":\"BasicTickFormatter\"},{\"attributes\":{\"axis_label\":\"Suicides per 100k\",\"coordinates\":null,\"formatter\":{\"id\":\"5342\"},\"group\":null,\"major_label_policy\":{\"id\":\"5343\"},\"ticker\":{\"id\":\"5313\"}},\"id\":\"5312\",\"type\":\"LinearAxis\"},{\"attributes\":{\"axis_label\":\"Year\",\"coordinates\":null,\"formatter\":{\"id\":\"5339\"},\"group\":null,\"major_label_policy\":{\"id\":\"5340\"},\"ticker\":{\"id\":\"5309\"}},\"id\":\"5308\",\"type\":\"LinearAxis\"},{\"attributes\":{\"bottom_units\":\"screen\",\"coordinates\":null,\"fill_alpha\":0.5,\"fill_color\":\"lightgrey\",\"group\":null,\"left_units\":\"screen\",\"level\":\"overlay\",\"line_alpha\":1.0,\"line_color\":\"black\",\"line_dash\":[4,4],\"line_width\":2,\"right_units\":\"screen\",\"syncable\":false,\"top_units\":\"screen\"},\"id\":\"5321\",\"type\":\"BoxAnnotation\"},{\"attributes\":{\"axis\":{\"id\":\"5312\"},\"coordinates\":null,\"dimension\":1,\"grid_line_color\":null,\"group\":null,\"ticker\":null},\"id\":\"5315\",\"type\":\"Grid\"},{\"attributes\":{},\"id\":\"5343\",\"type\":\"AllLabels\"},{\"attributes\":{\"children\":[{\"id\":\"5295\"},{\"id\":\"5299\"},{\"id\":\"5354\"}],\"margin\":[0,0,0,0],\"name\":\"Row06581\",\"tags\":[\"embedded\"]},\"id\":\"5294\",\"type\":\"Row\"},{\"attributes\":{\"line_color\":\"#30a2da\",\"line_width\":2,\"x\":{\"field\":\"Year\"},\"y\":{\"field\":\"Suicides per 100k\"}},\"id\":\"5332\",\"type\":\"Line\"},{\"attributes\":{\"line_alpha\":0.1,\"line_color\":\"#30a2da\",\"line_width\":2,\"x\":{\"field\":\"Year\"},\"y\":{\"field\":\"Suicides per 100k\"}},\"id\":\"5333\",\"type\":\"Line\"},{\"attributes\":{\"end\":196.313,\"reset_end\":196.313,\"reset_start\":140.477,\"start\":140.477,\"tags\":[[[\"Suicides per 100k\",\"Suicides per 100k\",null]]]},\"id\":\"5297\",\"type\":\"Range1d\"},{\"attributes\":{\"below\":[{\"id\":\"5308\"}],\"center\":[{\"id\":\"5311\"},{\"id\":\"5315\"}],\"height\":300,\"left\":[{\"id\":\"5312\"}],\"margin\":[5,5,5,5],\"min_border_bottom\":10,\"min_border_left\":10,\"min_border_right\":10,\"min_border_top\":10,\"renderers\":[{\"id\":\"5335\"}],\"sizing_mode\":\"fixed\",\"title\":{\"id\":\"5300\"},\"toolbar\":{\"id\":\"5322\"},\"width\":700,\"x_range\":{\"id\":\"5296\"},\"x_scale\":{\"id\":\"5304\"},\"y_range\":{\"id\":\"5297\"},\"y_scale\":{\"id\":\"5306\"}},\"id\":\"5299\",\"subtype\":\"Figure\",\"type\":\"Plot\"},{\"attributes\":{\"margin\":[5,5,5,5],\"name\":\"HSpacer06585\",\"sizing_mode\":\"stretch_width\"},\"id\":\"5295\",\"type\":\"Spacer\"},{\"attributes\":{},\"id\":\"5351\",\"type\":\"UnionRenderers\"},{\"attributes\":{\"margin\":[5,5,5,5],\"name\":\"HSpacer06586\",\"sizing_mode\":\"stretch_width\"},\"id\":\"5354\",\"type\":\"Spacer\"},{\"attributes\":{\"tools\":[{\"id\":\"5298\"},{\"id\":\"5316\"},{\"id\":\"5317\"},{\"id\":\"5318\"},{\"id\":\"5319\"},{\"id\":\"5320\"}]},\"id\":\"5322\",\"type\":\"Toolbar\"},{\"attributes\":{},\"id\":\"5339\",\"type\":\"BasicTickFormatter\"},{\"attributes\":{\"end\":2015.0,\"reset_end\":2015.0,\"reset_start\":1985.0,\"start\":1985.0,\"tags\":[[[\"Year\",\"Year\",null]]]},\"id\":\"5296\",\"type\":\"Range1d\"},{\"attributes\":{},\"id\":\"5316\",\"type\":\"SaveTool\"},{\"attributes\":{},\"id\":\"5317\",\"type\":\"PanTool\"}],\"root_ids\":[\"5294\"]},\"title\":\"Bokeh Application\",\"version\":\"2.4.3\"}};\n",
       "    var render_items = [{\"docid\":\"32d7e1af-d69d-4e1b-9f4f-a1973c90dd02\",\"root_ids\":[\"5294\"],\"roots\":{\"5294\":\"63f830de-b45a-4469-bafc-9228491a1498\"}}];\n",
       "    root.Bokeh.embed.embed_items_notebook(docs_json, render_items);\n",
       "  }\n",
       "  if (root.Bokeh !== undefined && root.Bokeh.Panel !== undefined) {\n",
       "    embed_document(root);\n",
       "  } else {\n",
       "    var attempts = 0;\n",
       "    var timer = setInterval(function(root) {\n",
       "      if (root.Bokeh !== undefined && root.Bokeh.Panel !== undefined) {\n",
       "        clearInterval(timer);\n",
       "        embed_document(root);\n",
       "      } else if (document.readyState == \"complete\") {\n",
       "        attempts++;\n",
       "        if (attempts > 200) {\n",
       "          clearInterval(timer);\n",
       "          console.log(\"Bokeh: ERROR: Unable to run BokehJS code because BokehJS library is missing\");\n",
       "        }\n",
       "      }\n",
       "    }, 25, root)\n",
       "  }\n",
       "})(window);</script>"
      ],
      "text/plain": [
       ":Curve   [Year]   (Suicides per 100k)"
      ]
     },
     "execution_count": 77,
     "metadata": {
      "application/vnd.holoviews_exec.v0+json": {
       "id": "5294"
      }
     },
     "output_type": "execute_result"
    }
   ],
   "source": [
    "us_suicide_rates.hvplot(x=\"Year\", y=\"Suicides per 100k\")"
   ]
  },
  {
   "cell_type": "code",
   "execution_count": 100,
   "metadata": {},
   "outputs": [
    {
     "data": {},
     "metadata": {},
     "output_type": "display_data"
    },
    {
     "data": {
      "application/vnd.holoviews_exec.v0+json": "",
      "text/html": [
       "<div id='7711'>\n",
       "  <div class=\"bk-root\" id=\"f0649827-bfc6-48be-9e18-bf56c15e6fa7\" data-root-id=\"7711\"></div>\n",
       "</div>\n",
       "<script type=\"application/javascript\">(function(root) {\n",
       "  function embed_document(root) {\n",
       "    var docs_json = {\"ba1a78dd-abb9-4dc9-837d-fdc01e90d7a2\":{\"defs\":[{\"extends\":null,\"module\":null,\"name\":\"ReactiveHTML1\",\"overrides\":[],\"properties\":[]},{\"extends\":null,\"module\":null,\"name\":\"FlexBox1\",\"overrides\":[],\"properties\":[{\"default\":\"flex-start\",\"kind\":null,\"name\":\"align_content\"},{\"default\":\"flex-start\",\"kind\":null,\"name\":\"align_items\"},{\"default\":\"row\",\"kind\":null,\"name\":\"flex_direction\"},{\"default\":\"wrap\",\"kind\":null,\"name\":\"flex_wrap\"},{\"default\":\"flex-start\",\"kind\":null,\"name\":\"justify_content\"}]},{\"extends\":null,\"module\":null,\"name\":\"GridStack1\",\"overrides\":[],\"properties\":[{\"default\":\"warn\",\"kind\":null,\"name\":\"mode\"},{\"default\":null,\"kind\":null,\"name\":\"ncols\"},{\"default\":null,\"kind\":null,\"name\":\"nrows\"},{\"default\":true,\"kind\":null,\"name\":\"allow_resize\"},{\"default\":true,\"kind\":null,\"name\":\"allow_drag\"},{\"default\":[],\"kind\":null,\"name\":\"state\"}]},{\"extends\":null,\"module\":null,\"name\":\"click1\",\"overrides\":[],\"properties\":[{\"default\":\"\",\"kind\":null,\"name\":\"terminal_output\"},{\"default\":\"\",\"kind\":null,\"name\":\"debug_name\"},{\"default\":0,\"kind\":null,\"name\":\"clears\"}]},{\"extends\":null,\"module\":null,\"name\":\"NotificationAreaBase1\",\"overrides\":[],\"properties\":[{\"default\":\"bottom-right\",\"kind\":null,\"name\":\"position\"},{\"default\":0,\"kind\":null,\"name\":\"_clear\"}]},{\"extends\":null,\"module\":null,\"name\":\"NotificationArea1\",\"overrides\":[],\"properties\":[{\"default\":[],\"kind\":null,\"name\":\"notifications\"},{\"default\":\"bottom-right\",\"kind\":null,\"name\":\"position\"},{\"default\":0,\"kind\":null,\"name\":\"_clear\"},{\"default\":[{\"background\":\"#ffc107\",\"icon\":{\"className\":\"fas fa-exclamation-triangle\",\"color\":\"white\",\"tagName\":\"i\"},\"type\":\"warning\"},{\"background\":\"#007bff\",\"icon\":{\"className\":\"fas fa-info-circle\",\"color\":\"white\",\"tagName\":\"i\"},\"type\":\"info\"}],\"kind\":null,\"name\":\"types\"}]},{\"extends\":null,\"module\":null,\"name\":\"Notification\",\"overrides\":[],\"properties\":[{\"default\":null,\"kind\":null,\"name\":\"background\"},{\"default\":3000,\"kind\":null,\"name\":\"duration\"},{\"default\":null,\"kind\":null,\"name\":\"icon\"},{\"default\":\"\",\"kind\":null,\"name\":\"message\"},{\"default\":null,\"kind\":null,\"name\":\"notification_type\"},{\"default\":false,\"kind\":null,\"name\":\"_destroyed\"}]},{\"extends\":null,\"module\":null,\"name\":\"TemplateActions1\",\"overrides\":[],\"properties\":[{\"default\":0,\"kind\":null,\"name\":\"open_modal\"},{\"default\":0,\"kind\":null,\"name\":\"close_modal\"}]},{\"extends\":null,\"module\":null,\"name\":\"MaterialTemplateActions1\",\"overrides\":[],\"properties\":[{\"default\":0,\"kind\":null,\"name\":\"open_modal\"},{\"default\":0,\"kind\":null,\"name\":\"close_modal\"}]}],\"roots\":{\"references\":[{\"attributes\":{},\"id\":\"7734\",\"type\":\"PanTool\"},{\"attributes\":{\"bottom_units\":\"screen\",\"coordinates\":null,\"fill_alpha\":0.5,\"fill_color\":\"lightgrey\",\"group\":null,\"left_units\":\"screen\",\"level\":\"overlay\",\"line_alpha\":1.0,\"line_color\":\"black\",\"line_dash\":[4,4],\"line_width\":2,\"right_units\":\"screen\",\"syncable\":false,\"top_units\":\"screen\"},\"id\":\"7785\",\"type\":\"BoxAnnotation\"},{\"attributes\":{\"below\":[{\"id\":\"7725\"}],\"center\":[{\"id\":\"7728\"},{\"id\":\"7732\"}],\"height\":300,\"left\":[{\"id\":\"7729\"}],\"margin\":null,\"min_border_bottom\":10,\"min_border_left\":10,\"min_border_right\":10,\"min_border_top\":10,\"renderers\":[{\"id\":\"7752\"}],\"sizing_mode\":\"fixed\",\"title\":{\"id\":\"7717\"},\"toolbar\":{\"id\":\"7739\"},\"toolbar_location\":null,\"width\":700,\"x_range\":{\"id\":\"7713\"},\"x_scale\":{\"id\":\"7721\"},\"y_range\":{\"id\":\"7714\"},\"y_scale\":{\"id\":\"7723\"}},\"id\":\"7716\",\"subtype\":\"Figure\",\"type\":\"Plot\"},{\"attributes\":{\"axis\":{\"id\":\"7772\"},\"coordinates\":null,\"grid_line_color\":null,\"group\":null,\"ticker\":null},\"id\":\"7775\",\"type\":\"Grid\"},{\"attributes\":{},\"id\":\"7735\",\"type\":\"WheelZoomTool\"},{\"attributes\":{},\"id\":\"7770\",\"type\":\"LinearScale\"},{\"attributes\":{\"callback\":null,\"renderers\":[{\"id\":\"7752\"}],\"tags\":[\"hv_created\"],\"tooltips\":[[\"Year\",\"@{Year}\"],[\"Divorces_per_1000\",\"@{Divorces_per_1000}\"]]},\"id\":\"7715\",\"type\":\"HoverTool\"},{\"attributes\":{},\"id\":\"7768\",\"type\":\"LinearScale\"},{\"attributes\":{\"tools\":[{\"id\":\"7762\"},{\"id\":\"7780\"},{\"id\":\"7781\"},{\"id\":\"7782\"},{\"id\":\"7783\"},{\"id\":\"7784\"}]},\"id\":\"7786\",\"type\":\"Toolbar\"},{\"attributes\":{},\"id\":\"7773\",\"type\":\"BasicTicker\"},{\"attributes\":{},\"id\":\"7780\",\"type\":\"SaveTool\"},{\"attributes\":{},\"id\":\"7815\",\"type\":\"UnionRenderers\"},{\"attributes\":{\"axis_label\":\"Year\",\"coordinates\":null,\"formatter\":{\"id\":\"7803\"},\"group\":null,\"major_label_policy\":{\"id\":\"7804\"},\"ticker\":{\"id\":\"7773\"}},\"id\":\"7772\",\"type\":\"LinearAxis\"},{\"attributes\":{\"overlay\":{\"id\":\"7738\"}},\"id\":\"7736\",\"type\":\"BoxZoomTool\"},{\"attributes\":{},\"id\":\"7781\",\"type\":\"PanTool\"},{\"attributes\":{\"end\":2011.0,\"reset_end\":2011.0,\"reset_start\":1985.0,\"start\":1985.0,\"tags\":[[[\"Year\",\"Year\",null]]]},\"id\":\"7713\",\"type\":\"Range1d\"},{\"attributes\":{\"line_alpha\":0.2,\"line_color\":\"#30a2da\",\"line_width\":2,\"x\":{\"field\":\"Year\"},\"y\":{\"field\":\"Suicides per 100k\"}},\"id\":\"7798\",\"type\":\"Line\"},{\"attributes\":{\"axis_label\":\"Suicides per 100k\",\"coordinates\":null,\"formatter\":{\"id\":\"7806\"},\"group\":null,\"major_label_policy\":{\"id\":\"7807\"},\"ticker\":{\"id\":\"7777\"}},\"id\":\"7776\",\"type\":\"LinearAxis\"},{\"attributes\":{\"line_color\":\"maroon\",\"line_width\":2,\"x\":{\"field\":\"Year\"},\"y\":{\"field\":\"Divorces_per_1000\"}},\"id\":\"7754\",\"type\":\"Line\"},{\"attributes\":{\"tools\":[{\"id\":\"7715\"},{\"id\":\"7733\"},{\"id\":\"7734\"},{\"id\":\"7735\"},{\"id\":\"7736\"},{\"id\":\"7737\"}]},\"id\":\"7739\",\"type\":\"Toolbar\"},{\"attributes\":{},\"id\":\"7782\",\"type\":\"WheelZoomTool\"},{\"attributes\":{\"line_color\":\"#30a2da\",\"line_width\":2,\"x\":{\"field\":\"Year\"},\"y\":{\"field\":\"Suicides per 100k\"}},\"id\":\"7801\",\"type\":\"Line\"},{\"attributes\":{\"line_alpha\":0.1,\"line_color\":\"maroon\",\"line_width\":2,\"x\":{\"field\":\"Year\"},\"y\":{\"field\":\"Divorces_per_1000\"}},\"id\":\"7750\",\"type\":\"Line\"},{\"attributes\":{\"source\":{\"id\":\"7793\"}},\"id\":\"7800\",\"type\":\"CDSView\"},{\"attributes\":{\"coordinates\":null,\"data_source\":{\"id\":\"7793\"},\"glyph\":{\"id\":\"7796\"},\"group\":null,\"hover_glyph\":null,\"muted_glyph\":{\"id\":\"7798\"},\"nonselection_glyph\":{\"id\":\"7797\"},\"selection_glyph\":{\"id\":\"7801\"},\"view\":{\"id\":\"7800\"}},\"id\":\"7799\",\"type\":\"GlyphRenderer\"},{\"attributes\":{\"axis\":{\"id\":\"7725\"},\"coordinates\":null,\"grid_line_color\":null,\"group\":null,\"ticker\":null},\"id\":\"7728\",\"type\":\"Grid\"},{\"attributes\":{},\"id\":\"7759\",\"type\":\"BasicTickFormatter\"},{\"attributes\":{\"below\":[{\"id\":\"7772\"}],\"center\":[{\"id\":\"7775\"},{\"id\":\"7779\"}],\"height\":300,\"left\":[{\"id\":\"7776\"}],\"margin\":null,\"min_border_bottom\":10,\"min_border_left\":10,\"min_border_right\":10,\"min_border_top\":10,\"renderers\":[{\"id\":\"7799\"}],\"sizing_mode\":\"fixed\",\"title\":{\"id\":\"7764\"},\"toolbar\":{\"id\":\"7786\"},\"toolbar_location\":null,\"width\":700,\"x_range\":{\"id\":\"7713\"},\"x_scale\":{\"id\":\"7768\"},\"y_range\":{\"id\":\"7761\"},\"y_scale\":{\"id\":\"7770\"}},\"id\":\"7763\",\"subtype\":\"Figure\",\"type\":\"Plot\"},{\"attributes\":{},\"id\":\"7733\",\"type\":\"SaveTool\"},{\"attributes\":{},\"id\":\"7721\",\"type\":\"LinearScale\"},{\"attributes\":{\"end\":5.23,\"reset_end\":5.23,\"reset_start\":2.47,\"start\":2.47,\"tags\":[[[\"Divorces_per_1000\",\"Divorces_per_1000\",null]]]},\"id\":\"7714\",\"type\":\"Range1d\"},{\"attributes\":{},\"id\":\"7803\",\"type\":\"BasicTickFormatter\"},{\"attributes\":{\"coordinates\":null,\"group\":null,\"text_color\":\"black\",\"text_font_size\":\"12pt\"},\"id\":\"7764\",\"type\":\"Title\"},{\"attributes\":{},\"id\":\"7784\",\"type\":\"ResetTool\"},{\"attributes\":{\"axis_label\":\"Year\",\"coordinates\":null,\"formatter\":{\"id\":\"7756\"},\"group\":null,\"major_label_policy\":{\"id\":\"7757\"},\"ticker\":{\"id\":\"7726\"}},\"id\":\"7725\",\"type\":\"LinearAxis\"},{\"attributes\":{\"axis_label\":\"Divorces_per_1000\",\"coordinates\":null,\"formatter\":{\"id\":\"7759\"},\"group\":null,\"major_label_policy\":{\"id\":\"7760\"},\"ticker\":{\"id\":\"7730\"}},\"id\":\"7729\",\"type\":\"LinearAxis\"},{\"attributes\":{},\"id\":\"7723\",\"type\":\"LinearScale\"},{\"attributes\":{\"margin\":[5,5,5,5],\"name\":\"HSpacer09438\",\"sizing_mode\":\"stretch_width\"},\"id\":\"7712\",\"type\":\"Spacer\"},{\"attributes\":{\"overlay\":{\"id\":\"7785\"}},\"id\":\"7783\",\"type\":\"BoxZoomTool\"},{\"attributes\":{},\"id\":\"7730\",\"type\":\"BasicTicker\"},{\"attributes\":{},\"id\":\"7760\",\"type\":\"AllLabels\"},{\"attributes\":{},\"id\":\"7757\",\"type\":\"AllLabels\"},{\"attributes\":{},\"id\":\"7806\",\"type\":\"BasicTickFormatter\"},{\"attributes\":{},\"id\":\"7826\",\"type\":\"UnionRenderers\"},{\"attributes\":{\"coordinates\":null,\"data_source\":{\"id\":\"7746\"},\"glyph\":{\"id\":\"7749\"},\"group\":null,\"hover_glyph\":null,\"muted_glyph\":{\"id\":\"7751\"},\"nonselection_glyph\":{\"id\":\"7750\"},\"selection_glyph\":{\"id\":\"7754\"},\"view\":{\"id\":\"7753\"}},\"id\":\"7752\",\"type\":\"GlyphRenderer\"},{\"attributes\":{},\"id\":\"7777\",\"type\":\"BasicTicker\"},{\"attributes\":{},\"id\":\"7737\",\"type\":\"ResetTool\"},{\"attributes\":{\"coordinates\":null,\"group\":null,\"text_color\":\"black\",\"text_font_size\":\"12pt\"},\"id\":\"7717\",\"type\":\"Title\"},{\"attributes\":{\"bottom_units\":\"screen\",\"coordinates\":null,\"fill_alpha\":0.5,\"fill_color\":\"lightgrey\",\"group\":null,\"left_units\":\"screen\",\"level\":\"overlay\",\"line_alpha\":1.0,\"line_color\":\"black\",\"line_dash\":[4,4],\"line_width\":2,\"right_units\":\"screen\",\"syncable\":false,\"top_units\":\"screen\"},\"id\":\"7738\",\"type\":\"BoxAnnotation\"},{\"attributes\":{},\"id\":\"7726\",\"type\":\"BasicTicker\"},{\"attributes\":{\"axis\":{\"id\":\"7776\"},\"coordinates\":null,\"dimension\":1,\"grid_line_color\":null,\"group\":null,\"ticker\":null},\"id\":\"7779\",\"type\":\"Grid\"},{\"attributes\":{},\"id\":\"7747\",\"type\":\"Selection\"},{\"attributes\":{\"source\":{\"id\":\"7746\"}},\"id\":\"7753\",\"type\":\"CDSView\"},{\"attributes\":{\"line_alpha\":0.1,\"line_color\":\"#30a2da\",\"line_width\":2,\"x\":{\"field\":\"Year\"},\"y\":{\"field\":\"Suicides per 100k\"}},\"id\":\"7797\",\"type\":\"Line\"},{\"attributes\":{\"callback\":null,\"renderers\":[{\"id\":\"7799\"}],\"tags\":[\"hv_created\"],\"tooltips\":[[\"Year\",\"@{Year}\"],[\"Suicides per 100k\",\"@{Suicides_per_100k}\"]]},\"id\":\"7762\",\"type\":\"HoverTool\"},{\"attributes\":{},\"id\":\"7804\",\"type\":\"AllLabels\"},{\"attributes\":{\"margin\":[5,5,5,5],\"name\":\"HSpacer09439\",\"sizing_mode\":\"stretch_width\"},\"id\":\"7854\",\"type\":\"Spacer\"},{\"attributes\":{\"line_color\":\"maroon\",\"line_width\":2,\"x\":{\"field\":\"Year\"},\"y\":{\"field\":\"Divorces_per_1000\"}},\"id\":\"7749\",\"type\":\"Line\"},{\"attributes\":{\"children\":[{\"id\":\"7832\"},{\"id\":\"7830\"}]},\"id\":\"7833\",\"type\":\"Column\"},{\"attributes\":{\"line_alpha\":0.2,\"line_color\":\"maroon\",\"line_width\":2,\"x\":{\"field\":\"Year\"},\"y\":{\"field\":\"Divorces_per_1000\"}},\"id\":\"7751\",\"type\":\"Line\"},{\"attributes\":{},\"id\":\"7756\",\"type\":\"BasicTickFormatter\"},{\"attributes\":{\"axis\":{\"id\":\"7729\"},\"coordinates\":null,\"dimension\":1,\"grid_line_color\":null,\"group\":null,\"ticker\":null},\"id\":\"7732\",\"type\":\"Grid\"},{\"attributes\":{\"toolbar\":{\"id\":\"7831\"},\"toolbar_location\":\"above\"},\"id\":\"7832\",\"type\":\"ToolbarBox\"},{\"attributes\":{\"end\":196.313,\"reset_end\":196.313,\"reset_start\":140.477,\"start\":140.477,\"tags\":[[[\"Suicides per 100k\",\"Suicides per 100k\",null]]]},\"id\":\"7761\",\"type\":\"Range1d\"},{\"attributes\":{},\"id\":\"7794\",\"type\":\"Selection\"},{\"attributes\":{\"children\":[[{\"id\":\"7716\"},0,0],[{\"id\":\"7763\"},0,1]]},\"id\":\"7830\",\"type\":\"GridBox\"},{\"attributes\":{\"data\":{\"Suicides per 100k\":{\"__ndarray__\":\"16NwPQoXZ0DNzMzMzPRnQIXrUbge9WdAH4XrUbh2Z0CuR+F6FM5mQJqZmZmZeWdAcT0K16P4ZkBxPQrXozhmQKRwPQrXY2ZAKVyPwvUAZkB7FK5H4aJlQGZmZmZmzmRAH4XrUbg+ZEC4HoXrURBkQHE9Ctej2GJAw/UoXI9SYkDXo3A9CodiQHE9CtejwGJAFK5H4Xo0YkDNzMzMzFxiQPYoXI/CVWJAXI/C9SgkYkCkcD0K16NiQEjhehSuJ2NArkfhehRGY0AUrkfhetxjQOxRuB6FS2RA\",\"dtype\":\"float64\",\"order\":\"little\",\"shape\":[27]},\"Suicides_per_100k\":{\"__ndarray__\":\"16NwPQoXZ0DNzMzMzPRnQIXrUbge9WdAH4XrUbh2Z0CuR+F6FM5mQJqZmZmZeWdAcT0K16P4ZkBxPQrXozhmQKRwPQrXY2ZAKVyPwvUAZkB7FK5H4aJlQGZmZmZmzmRAH4XrUbg+ZEC4HoXrURBkQHE9Ctej2GJAw/UoXI9SYkDXo3A9CodiQHE9CtejwGJAFK5H4Xo0YkDNzMzMzFxiQPYoXI/CVWJAXI/C9SgkYkCkcD0K16NiQEjhehSuJ2NArkfhehRGY0AUrkfhetxjQOxRuB6FS2RA\",\"dtype\":\"float64\",\"order\":\"little\",\"shape\":[27]},\"Year\":[1985,1986,1987,1988,1989,1990,1991,1992,1993,1994,1995,1996,1997,1998,1999,2000,2001,2002,2003,2004,2005,2006,2007,2008,2009,2010,2011]},\"selected\":{\"id\":\"7794\"},\"selection_policy\":{\"id\":\"7826\"}},\"id\":\"7793\",\"type\":\"ColumnDataSource\"},{\"attributes\":{\"data\":{\"Divorces_per_1000\":{\"__ndarray__\":\"AAAAAAAAFECamZmZmZkTQDMzMzMzMxNAzczMzMzMEkDNzMzMzMwSQM3MzMzMzBJAzczMzMzMEkAzMzMzMzMTQGZmZmZmZhJAZmZmZmZmEkAAAAAAAAASQJmZmZmZmRFAMzMzMzMzEUBmZmZmZmYQQGZmZmZmZhBAZmZmZmZmCkBmZmZmZmYKQGZmZmZmZgpAmpmZmZmZCUAAAAAAAAAIQDMzMzMzMwdAMzMzMzMzB0BmZmZmZmYGQGZmZmZmZgZAmpmZmZmZBUBmZmZmZmYGQGZmZmZmZgZA\",\"dtype\":\"float64\",\"order\":\"little\",\"shape\":[27]},\"Year\":[1985,1986,1987,1988,1989,1990,1991,1992,1993,1994,1995,1996,1997,1998,1999,2000,2001,2002,2003,2004,2005,2006,2007,2008,2009,2010,2011]},\"selected\":{\"id\":\"7747\"},\"selection_policy\":{\"id\":\"7815\"}},\"id\":\"7746\",\"type\":\"ColumnDataSource\"},{\"attributes\":{\"line_color\":\"#30a2da\",\"line_width\":2,\"x\":{\"field\":\"Year\"},\"y\":{\"field\":\"Suicides per 100k\"}},\"id\":\"7796\",\"type\":\"Line\"},{\"attributes\":{},\"id\":\"7807\",\"type\":\"AllLabels\"},{\"attributes\":{\"toolbars\":[{\"id\":\"7739\"},{\"id\":\"7786\"}],\"tools\":[{\"id\":\"7715\"},{\"id\":\"7733\"},{\"id\":\"7734\"},{\"id\":\"7735\"},{\"id\":\"7736\"},{\"id\":\"7737\"},{\"id\":\"7762\"},{\"id\":\"7780\"},{\"id\":\"7781\"},{\"id\":\"7782\"},{\"id\":\"7783\"},{\"id\":\"7784\"}]},\"id\":\"7831\",\"type\":\"ProxyToolbar\"},{\"attributes\":{\"children\":[{\"id\":\"7712\"},{\"id\":\"7833\"},{\"id\":\"7854\"}],\"margin\":[0,0,0,0],\"name\":\"Row09434\",\"tags\":[\"embedded\"]},\"id\":\"7711\",\"type\":\"Row\"}],\"root_ids\":[\"7711\"]},\"title\":\"Bokeh Application\",\"version\":\"2.4.3\"}};\n",
       "    var render_items = [{\"docid\":\"ba1a78dd-abb9-4dc9-837d-fdc01e90d7a2\",\"root_ids\":[\"7711\"],\"roots\":{\"7711\":\"f0649827-bfc6-48be-9e18-bf56c15e6fa7\"}}];\n",
       "    root.Bokeh.embed.embed_items_notebook(docs_json, render_items);\n",
       "  }\n",
       "  if (root.Bokeh !== undefined && root.Bokeh.Panel !== undefined) {\n",
       "    embed_document(root);\n",
       "  } else {\n",
       "    var attempts = 0;\n",
       "    var timer = setInterval(function(root) {\n",
       "      if (root.Bokeh !== undefined && root.Bokeh.Panel !== undefined) {\n",
       "        clearInterval(timer);\n",
       "        embed_document(root);\n",
       "      } else if (document.readyState == \"complete\") {\n",
       "        attempts++;\n",
       "        if (attempts > 200) {\n",
       "          clearInterval(timer);\n",
       "          console.log(\"Bokeh: ERROR: Unable to run BokehJS code because BokehJS library is missing\");\n",
       "        }\n",
       "      }\n",
       "    }, 25, root)\n",
       "  }\n",
       "})(window);</script>"
      ],
      "text/plain": [
       ":Layout\n",
       "   .Curve.I  :Curve   [Year]   (Divorces_per_1000)\n",
       "   .Curve.II :Curve   [Year]   (Suicides per 100k)"
      ]
     },
     "execution_count": 100,
     "metadata": {
      "application/vnd.holoviews_exec.v0+json": {
       "id": "7711"
      }
     },
     "output_type": "execute_result"
    }
   ],
   "source": [
    "divorces_df.tail(27).hvplot(x=\"Year\", y=\"Divorces_per_1000\", color=\"maroon\") + us_suicide_rates.head(27).hvplot(x=\"Year\", y=\"Suicides per 100k\")"
   ]
  },
  {
   "cell_type": "code",
   "execution_count": 111,
   "metadata": {},
   "outputs": [
    {
     "data": {
      "text/html": [
       "<div>\n",
       "<style scoped>\n",
       "    .dataframe tbody tr th:only-of-type {\n",
       "        vertical-align: middle;\n",
       "    }\n",
       "\n",
       "    .dataframe tbody tr th {\n",
       "        vertical-align: top;\n",
       "    }\n",
       "\n",
       "    .dataframe thead th {\n",
       "        text-align: right;\n",
       "    }\n",
       "</style>\n",
       "<table border=\"1\" class=\"dataframe\">\n",
       "  <thead>\n",
       "    <tr style=\"text-align: right;\">\n",
       "      <th></th>\n",
       "      <th>Unnamed: 0</th>\n",
       "      <th>Country</th>\n",
       "      <th>Year</th>\n",
       "      <th>Sex</th>\n",
       "      <th>Age</th>\n",
       "      <th>Number of Suicides</th>\n",
       "      <th>Suicides per 100k</th>\n",
       "      <th>GDP for Year ($)</th>\n",
       "      <th>GDP per Capita ($)</th>\n",
       "      <th>Generation</th>\n",
       "    </tr>\n",
       "  </thead>\n",
       "  <tbody>\n",
       "    <tr>\n",
       "      <th>0</th>\n",
       "      <td>26848</td>\n",
       "      <td>United States</td>\n",
       "      <td>1985</td>\n",
       "      <td>male</td>\n",
       "      <td>75+ years</td>\n",
       "      <td>2177</td>\n",
       "      <td>53.57</td>\n",
       "      <td>4,346,734,000,000</td>\n",
       "      <td>19693</td>\n",
       "      <td>G.I. Generation</td>\n",
       "    </tr>\n",
       "    <tr>\n",
       "      <th>1</th>\n",
       "      <td>26849</td>\n",
       "      <td>United States</td>\n",
       "      <td>1985</td>\n",
       "      <td>male</td>\n",
       "      <td>55-74 years</td>\n",
       "      <td>5302</td>\n",
       "      <td>29.50</td>\n",
       "      <td>4,346,734,000,000</td>\n",
       "      <td>19693</td>\n",
       "      <td>G.I. Generation</td>\n",
       "    </tr>\n",
       "    <tr>\n",
       "      <th>2</th>\n",
       "      <td>26850</td>\n",
       "      <td>United States</td>\n",
       "      <td>1985</td>\n",
       "      <td>male</td>\n",
       "      <td>25-34 years</td>\n",
       "      <td>5134</td>\n",
       "      <td>24.46</td>\n",
       "      <td>4,346,734,000,000</td>\n",
       "      <td>19693</td>\n",
       "      <td>Boomers</td>\n",
       "    </tr>\n",
       "    <tr>\n",
       "      <th>3</th>\n",
       "      <td>26851</td>\n",
       "      <td>United States</td>\n",
       "      <td>1985</td>\n",
       "      <td>male</td>\n",
       "      <td>35-54 years</td>\n",
       "      <td>6053</td>\n",
       "      <td>22.77</td>\n",
       "      <td>4,346,734,000,000</td>\n",
       "      <td>19693</td>\n",
       "      <td>Silent</td>\n",
       "    </tr>\n",
       "    <tr>\n",
       "      <th>4</th>\n",
       "      <td>26852</td>\n",
       "      <td>United States</td>\n",
       "      <td>1985</td>\n",
       "      <td>male</td>\n",
       "      <td>15-24 years</td>\n",
       "      <td>4267</td>\n",
       "      <td>21.38</td>\n",
       "      <td>4,346,734,000,000</td>\n",
       "      <td>19693</td>\n",
       "      <td>Generation X</td>\n",
       "    </tr>\n",
       "  </tbody>\n",
       "</table>\n",
       "</div>"
      ],
      "text/plain": [
       "   Unnamed: 0        Country  Year   Sex          Age  Number of Suicides  \\\n",
       "0       26848  United States  1985  male    75+ years                2177   \n",
       "1       26849  United States  1985  male  55-74 years                5302   \n",
       "2       26850  United States  1985  male  25-34 years                5134   \n",
       "3       26851  United States  1985  male  35-54 years                6053   \n",
       "4       26852  United States  1985  male  15-24 years                4267   \n",
       "\n",
       "   Suicides per 100k   GDP for Year ($)  GDP per Capita ($)       Generation  \n",
       "0              53.57  4,346,734,000,000               19693  G.I. Generation  \n",
       "1              29.50  4,346,734,000,000               19693  G.I. Generation  \n",
       "2              24.46  4,346,734,000,000               19693          Boomers  \n",
       "3              22.77  4,346,734,000,000               19693           Silent  \n",
       "4              21.38  4,346,734,000,000               19693     Generation X  "
      ]
     },
     "execution_count": 111,
     "metadata": {},
     "output_type": "execute_result"
    }
   ],
   "source": [
    "us_suicides_master.head()"
   ]
  },
  {
   "cell_type": "code",
   "execution_count": 131,
   "metadata": {},
   "outputs": [
    {
     "data": {},
     "metadata": {},
     "output_type": "display_data"
    },
    {
     "data": {
      "application/vnd.holoviews_exec.v0+json": "",
      "text/html": [
       "<div id='9371'>\n",
       "  <div class=\"bk-root\" id=\"ba776306-c99a-4c6e-930a-745478d5997d\" data-root-id=\"9371\"></div>\n",
       "</div>\n",
       "<script type=\"application/javascript\">(function(root) {\n",
       "  function embed_document(root) {\n",
       "    var docs_json = {\"db5e448b-2095-48d5-bb24-7070944094ea\":{\"defs\":[{\"extends\":null,\"module\":null,\"name\":\"ReactiveHTML1\",\"overrides\":[],\"properties\":[]},{\"extends\":null,\"module\":null,\"name\":\"FlexBox1\",\"overrides\":[],\"properties\":[{\"default\":\"flex-start\",\"kind\":null,\"name\":\"align_content\"},{\"default\":\"flex-start\",\"kind\":null,\"name\":\"align_items\"},{\"default\":\"row\",\"kind\":null,\"name\":\"flex_direction\"},{\"default\":\"wrap\",\"kind\":null,\"name\":\"flex_wrap\"},{\"default\":\"flex-start\",\"kind\":null,\"name\":\"justify_content\"}]},{\"extends\":null,\"module\":null,\"name\":\"GridStack1\",\"overrides\":[],\"properties\":[{\"default\":\"warn\",\"kind\":null,\"name\":\"mode\"},{\"default\":null,\"kind\":null,\"name\":\"ncols\"},{\"default\":null,\"kind\":null,\"name\":\"nrows\"},{\"default\":true,\"kind\":null,\"name\":\"allow_resize\"},{\"default\":true,\"kind\":null,\"name\":\"allow_drag\"},{\"default\":[],\"kind\":null,\"name\":\"state\"}]},{\"extends\":null,\"module\":null,\"name\":\"click1\",\"overrides\":[],\"properties\":[{\"default\":\"\",\"kind\":null,\"name\":\"terminal_output\"},{\"default\":\"\",\"kind\":null,\"name\":\"debug_name\"},{\"default\":0,\"kind\":null,\"name\":\"clears\"}]},{\"extends\":null,\"module\":null,\"name\":\"NotificationAreaBase1\",\"overrides\":[],\"properties\":[{\"default\":\"bottom-right\",\"kind\":null,\"name\":\"position\"},{\"default\":0,\"kind\":null,\"name\":\"_clear\"}]},{\"extends\":null,\"module\":null,\"name\":\"NotificationArea1\",\"overrides\":[],\"properties\":[{\"default\":[],\"kind\":null,\"name\":\"notifications\"},{\"default\":\"bottom-right\",\"kind\":null,\"name\":\"position\"},{\"default\":0,\"kind\":null,\"name\":\"_clear\"},{\"default\":[{\"background\":\"#ffc107\",\"icon\":{\"className\":\"fas fa-exclamation-triangle\",\"color\":\"white\",\"tagName\":\"i\"},\"type\":\"warning\"},{\"background\":\"#007bff\",\"icon\":{\"className\":\"fas fa-info-circle\",\"color\":\"white\",\"tagName\":\"i\"},\"type\":\"info\"}],\"kind\":null,\"name\":\"types\"}]},{\"extends\":null,\"module\":null,\"name\":\"Notification\",\"overrides\":[],\"properties\":[{\"default\":null,\"kind\":null,\"name\":\"background\"},{\"default\":3000,\"kind\":null,\"name\":\"duration\"},{\"default\":null,\"kind\":null,\"name\":\"icon\"},{\"default\":\"\",\"kind\":null,\"name\":\"message\"},{\"default\":null,\"kind\":null,\"name\":\"notification_type\"},{\"default\":false,\"kind\":null,\"name\":\"_destroyed\"}]},{\"extends\":null,\"module\":null,\"name\":\"TemplateActions1\",\"overrides\":[],\"properties\":[{\"default\":0,\"kind\":null,\"name\":\"open_modal\"},{\"default\":0,\"kind\":null,\"name\":\"close_modal\"}]},{\"extends\":null,\"module\":null,\"name\":\"MaterialTemplateActions1\",\"overrides\":[],\"properties\":[{\"default\":0,\"kind\":null,\"name\":\"open_modal\"},{\"default\":0,\"kind\":null,\"name\":\"close_modal\"}]}],\"roots\":{\"references\":[{\"attributes\":{\"source\":{\"id\":\"9422\"}},\"id\":\"9429\",\"type\":\"CDSView\"},{\"attributes\":{\"axis_label\":\"Suicides per 100k\",\"coordinates\":null,\"formatter\":{\"id\":\"9411\"},\"group\":null,\"major_label_policy\":{\"id\":\"9412\"},\"ticker\":{\"id\":\"9391\"}},\"id\":\"9390\",\"type\":\"LinearAxis\"},{\"attributes\":{\"line_color\":\"#30a2da\",\"line_width\":2,\"x\":{\"field\":\"Year\"},\"y\":{\"field\":\"Suicides per 100k\"}},\"id\":\"9421\",\"type\":\"Line\"},{\"attributes\":{\"line_alpha\":0.1,\"line_color\":\"#30a2da\",\"line_width\":2,\"x\":{\"field\":\"Year\"},\"y\":{\"field\":\"Suicides per 100k\"}},\"id\":\"9417\",\"type\":\"Line\"},{\"attributes\":{},\"id\":\"9391\",\"type\":\"BasicTicker\"},{\"attributes\":{\"children\":[{\"id\":\"9372\"},{\"id\":\"9377\"},{\"id\":\"9443\"}],\"margin\":[0,0,0,0],\"name\":\"Row12905\",\"tags\":[\"embedded\"]},\"id\":\"9371\",\"type\":\"Row\"},{\"attributes\":{\"axis\":{\"id\":\"9390\"},\"coordinates\":null,\"dimension\":1,\"grid_line_color\":null,\"group\":null,\"ticker\":null},\"id\":\"9393\",\"type\":\"Grid\"},{\"attributes\":{\"line_alpha\":0.2,\"line_color\":\"#fc4f30\",\"line_width\":2,\"x\":{\"field\":\"Year\"},\"y\":{\"field\":\"Suicides per 100k\"}},\"id\":\"9427\",\"type\":\"Line\"},{\"attributes\":{},\"id\":\"9411\",\"type\":\"BasicTickFormatter\"},{\"attributes\":{},\"id\":\"9408\",\"type\":\"BasicTickFormatter\"},{\"attributes\":{\"line_color\":\"#fc4f30\",\"line_width\":2,\"x\":{\"field\":\"Year\"},\"y\":{\"field\":\"Suicides per 100k\"}},\"id\":\"9430\",\"type\":\"Line\"},{\"attributes\":{\"margin\":[5,5,5,5],\"name\":\"HSpacer12909\",\"sizing_mode\":\"stretch_width\"},\"id\":\"9372\",\"type\":\"Spacer\"},{\"attributes\":{\"below\":[{\"id\":\"9386\"}],\"center\":[{\"id\":\"9389\"},{\"id\":\"9393\"}],\"height\":300,\"left\":[{\"id\":\"9390\"}],\"margin\":[5,5,5,5],\"min_border_bottom\":10,\"min_border_left\":10,\"min_border_right\":10,\"min_border_top\":10,\"renderers\":[{\"id\":\"9419\"},{\"id\":\"9428\"}],\"sizing_mode\":\"fixed\",\"title\":{\"id\":\"9378\"},\"toolbar\":{\"id\":\"9400\"},\"width\":700,\"x_range\":{\"id\":\"9373\"},\"x_scale\":{\"id\":\"9382\"},\"y_range\":{\"id\":\"9374\"},\"y_scale\":{\"id\":\"9384\"}},\"id\":\"9377\",\"subtype\":\"Figure\",\"type\":\"Plot\"},{\"attributes\":{\"source\":{\"id\":\"9413\"}},\"id\":\"9420\",\"type\":\"CDSView\"},{\"attributes\":{\"line_color\":\"#30a2da\",\"line_width\":2,\"x\":{\"field\":\"Year\"},\"y\":{\"field\":\"Suicides per 100k\"}},\"id\":\"9416\",\"type\":\"Line\"},{\"attributes\":{\"end\":173.209,\"reset_end\":173.209,\"reset_start\":9.301,\"start\":9.301,\"tags\":[[[\"Suicides per 100k\",\"Suicides per 100k\",null]]]},\"id\":\"9374\",\"type\":\"Range1d\"},{\"attributes\":{\"data\":{\"Suicides per 100k\":{\"__ndarray__\":\"7FG4HoUbY0DhehSuR8ljQJqZmZmZ8WNAFa5H4XqUY0C4HoXrURhjQIXrUbgevWNAFK5H4XpkY0AzMzMzM6tiQOF6FK5H2WJA7FG4HoWbYkDrUbgehUtiQIXrUbgelWFAzczMzMz8YEApXI/C9dhgQK5H4XoUrl9ASOF6FK7nXkA+CtejcD1fQM3MzMzMfF9AcT0K16NwXkBSuB6F61FeQHE9CtejYF5AzczMzMzsXUAVrkfherReQClcj8L1eF9AcT0K16OgX0DhehSuR0lgQPYoXI/CjWBArkfhehTOYEBcj8L1KORgQKRwPQrXQ2FA9ihcj8KFYUA=\",\"dtype\":\"float64\",\"order\":\"little\",\"shape\":[31]},\"Suicides_per_100k\":{\"__ndarray__\":\"7FG4HoUbY0DhehSuR8ljQJqZmZmZ8WNAFa5H4XqUY0C4HoXrURhjQIXrUbgevWNAFK5H4XpkY0AzMzMzM6tiQOF6FK5H2WJA7FG4HoWbYkDrUbgehUtiQIXrUbgelWFAzczMzMz8YEApXI/C9dhgQK5H4XoUrl9ASOF6FK7nXkA+CtejcD1fQM3MzMzMfF9AcT0K16NwXkBSuB6F61FeQHE9CtejYF5AzczMzMzsXUAVrkfherReQClcj8L1eF9AcT0K16OgX0DhehSuR0lgQPYoXI/CjWBArkfhehTOYEBcj8L1KORgQKRwPQrXQ2FA9ihcj8KFYUA=\",\"dtype\":\"float64\",\"order\":\"little\",\"shape\":[31]},\"Year\":[1985,1986,1987,1988,1989,1990,1991,1992,1993,1994,1995,1996,1997,1998,1999,2000,2001,2002,2003,2004,2005,2006,2007,2008,2009,2010,2011,2012,2013,2014,2015]},\"selected\":{\"id\":\"9414\"},\"selection_policy\":{\"id\":\"9438\"}},\"id\":\"9413\",\"type\":\"ColumnDataSource\"},{\"attributes\":{\"coordinates\":null,\"group\":null,\"text_color\":\"black\",\"text_font_size\":\"12pt\"},\"id\":\"9378\",\"type\":\"Title\"},{\"attributes\":{},\"id\":\"9414\",\"type\":\"Selection\"},{\"attributes\":{\"bottom_units\":\"screen\",\"coordinates\":null,\"fill_alpha\":0.5,\"fill_color\":\"lightgrey\",\"group\":null,\"left_units\":\"screen\",\"level\":\"overlay\",\"line_alpha\":1.0,\"line_color\":\"black\",\"line_dash\":[4,4],\"line_width\":2,\"right_units\":\"screen\",\"syncable\":false,\"top_units\":\"screen\"},\"id\":\"9399\",\"type\":\"BoxAnnotation\"},{\"attributes\":{},\"id\":\"9394\",\"type\":\"SaveTool\"},{\"attributes\":{},\"id\":\"9412\",\"type\":\"AllLabels\"},{\"attributes\":{\"coordinates\":null,\"data_source\":{\"id\":\"9422\"},\"glyph\":{\"id\":\"9425\"},\"group\":null,\"hover_glyph\":null,\"muted_glyph\":{\"id\":\"9427\"},\"nonselection_glyph\":{\"id\":\"9426\"},\"selection_glyph\":{\"id\":\"9430\"},\"view\":{\"id\":\"9429\"}},\"id\":\"9428\",\"type\":\"GlyphRenderer\"},{\"attributes\":{},\"id\":\"9395\",\"type\":\"PanTool\"},{\"attributes\":{},\"id\":\"9398\",\"type\":\"ResetTool\"},{\"attributes\":{\"end\":2015.0,\"reset_end\":2015.0,\"reset_start\":1985.0,\"start\":1985.0,\"tags\":[[[\"Year\",\"Year\",null]]]},\"id\":\"9373\",\"type\":\"Range1d\"},{\"attributes\":{\"callback\":null,\"renderers\":[{\"id\":\"9419\"},{\"id\":\"9428\"}],\"tags\":[\"hv_created\"],\"tooltips\":[[\"Year\",\"@{Year}\"],[\"Suicides per 100k\",\"@{Suicides_per_100k}\"]]},\"id\":\"9375\",\"type\":\"HoverTool\"},{\"attributes\":{},\"id\":\"9396\",\"type\":\"WheelZoomTool\"},{\"attributes\":{},\"id\":\"9438\",\"type\":\"UnionRenderers\"},{\"attributes\":{},\"id\":\"9387\",\"type\":\"BasicTicker\"},{\"attributes\":{},\"id\":\"9423\",\"type\":\"Selection\"},{\"attributes\":{\"overlay\":{\"id\":\"9399\"}},\"id\":\"9397\",\"type\":\"BoxZoomTool\"},{\"attributes\":{},\"id\":\"9440\",\"type\":\"UnionRenderers\"},{\"attributes\":{},\"id\":\"9382\",\"type\":\"LinearScale\"},{\"attributes\":{\"margin\":[5,5,5,5],\"name\":\"HSpacer12910\",\"sizing_mode\":\"stretch_width\"},\"id\":\"9443\",\"type\":\"Spacer\"},{\"attributes\":{\"line_alpha\":0.2,\"line_color\":\"#30a2da\",\"line_width\":2,\"x\":{\"field\":\"Year\"},\"y\":{\"field\":\"Suicides per 100k\"}},\"id\":\"9418\",\"type\":\"Line\"},{\"attributes\":{},\"id\":\"9409\",\"type\":\"AllLabels\"},{\"attributes\":{\"tools\":[{\"id\":\"9375\"},{\"id\":\"9394\"},{\"id\":\"9395\"},{\"id\":\"9396\"},{\"id\":\"9397\"},{\"id\":\"9398\"}]},\"id\":\"9400\",\"type\":\"Toolbar\"},{\"attributes\":{\"axis\":{\"id\":\"9386\"},\"coordinates\":null,\"grid_line_color\":null,\"group\":null,\"ticker\":null},\"id\":\"9389\",\"type\":\"Grid\"},{\"attributes\":{\"line_color\":\"#fc4f30\",\"line_width\":2,\"x\":{\"field\":\"Year\"},\"y\":{\"field\":\"Suicides per 100k\"}},\"id\":\"9425\",\"type\":\"Line\"},{\"attributes\":{\"line_alpha\":0.1,\"line_color\":\"#fc4f30\",\"line_width\":2,\"x\":{\"field\":\"Year\"},\"y\":{\"field\":\"Suicides per 100k\"}},\"id\":\"9426\",\"type\":\"Line\"},{\"attributes\":{},\"id\":\"9384\",\"type\":\"LinearScale\"},{\"attributes\":{\"data\":{\"Suicides per 100k\":{\"__ndarray__\":\"XI/C9SjcP0CuR+F6FK5AQK5H4XoUDkBAUrgehesRP0CuR+F6FK49QKRwPQrX4z1A4XoUrkehPEDsUbgehWs8QBSuR+F6VDxA7FG4HoUrO0B7FK5H4bo6QArXo3A9yjlAj8L1KFwPOkB7FK5H4bo5QM3MzMzMDDhA9ihcj8L1NkDD9Shcj0I3QFK4HoXrEThA4XoUrkfhN0AfhetRuJ45QOxRuB6FKzlArkfhehRuOUDNzMzMzEw6QJmZmZmZWTtArkfhehSuO0CZmZmZmZk8QK5H4XoU7j1AMzMzMzOzPkAK16NwPYo/QHsUrkfhmkBAPQrXo3CdQUA=\",\"dtype\":\"float64\",\"order\":\"little\",\"shape\":[31]},\"Suicides_per_100k\":{\"__ndarray__\":\"XI/C9SjcP0CuR+F6FK5AQK5H4XoUDkBAUrgehesRP0CuR+F6FK49QKRwPQrX4z1A4XoUrkehPEDsUbgehWs8QBSuR+F6VDxA7FG4HoUrO0B7FK5H4bo6QArXo3A9yjlAj8L1KFwPOkB7FK5H4bo5QM3MzMzMDDhA9ihcj8L1NkDD9Shcj0I3QFK4HoXrEThA4XoUrkfhN0AfhetRuJ45QOxRuB6FKzlArkfhehRuOUDNzMzMzEw6QJmZmZmZWTtArkfhehSuO0CZmZmZmZk8QK5H4XoU7j1AMzMzMzOzPkAK16NwPYo/QHsUrkfhmkBAPQrXo3CdQUA=\",\"dtype\":\"float64\",\"order\":\"little\",\"shape\":[31]},\"Year\":[1985,1986,1987,1988,1989,1990,1991,1992,1993,1994,1995,1996,1997,1998,1999,2000,2001,2002,2003,2004,2005,2006,2007,2008,2009,2010,2011,2012,2013,2014,2015]},\"selected\":{\"id\":\"9423\"},\"selection_policy\":{\"id\":\"9440\"}},\"id\":\"9422\",\"type\":\"ColumnDataSource\"},{\"attributes\":{\"axis_label\":\"Year\",\"coordinates\":null,\"formatter\":{\"id\":\"9408\"},\"group\":null,\"major_label_policy\":{\"id\":\"9409\"},\"ticker\":{\"id\":\"9387\"}},\"id\":\"9386\",\"type\":\"LinearAxis\"},{\"attributes\":{\"coordinates\":null,\"data_source\":{\"id\":\"9413\"},\"glyph\":{\"id\":\"9416\"},\"group\":null,\"hover_glyph\":null,\"muted_glyph\":{\"id\":\"9418\"},\"nonselection_glyph\":{\"id\":\"9417\"},\"selection_glyph\":{\"id\":\"9421\"},\"view\":{\"id\":\"9420\"}},\"id\":\"9419\",\"type\":\"GlyphRenderer\"}],\"root_ids\":[\"9371\"]},\"title\":\"Bokeh Application\",\"version\":\"2.4.3\"}};\n",
       "    var render_items = [{\"docid\":\"db5e448b-2095-48d5-bb24-7070944094ea\",\"root_ids\":[\"9371\"],\"roots\":{\"9371\":\"ba776306-c99a-4c6e-930a-745478d5997d\"}}];\n",
       "    root.Bokeh.embed.embed_items_notebook(docs_json, render_items);\n",
       "  }\n",
       "  if (root.Bokeh !== undefined && root.Bokeh.Panel !== undefined) {\n",
       "    embed_document(root);\n",
       "  } else {\n",
       "    var attempts = 0;\n",
       "    var timer = setInterval(function(root) {\n",
       "      if (root.Bokeh !== undefined && root.Bokeh.Panel !== undefined) {\n",
       "        clearInterval(timer);\n",
       "        embed_document(root);\n",
       "      } else if (document.readyState == \"complete\") {\n",
       "        attempts++;\n",
       "        if (attempts > 200) {\n",
       "          clearInterval(timer);\n",
       "          console.log(\"Bokeh: ERROR: Unable to run BokehJS code because BokehJS library is missing\");\n",
       "        }\n",
       "      }\n",
       "    }, 25, root)\n",
       "  }\n",
       "})(window);</script>"
      ],
      "text/plain": [
       ":Overlay\n",
       "   .Curve.I  :Curve   [Year]   (Suicides per 100k)\n",
       "   .Curve.II :Curve   [Year]   (Suicides per 100k)"
      ]
     },
     "execution_count": 131,
     "metadata": {
      "application/vnd.holoviews_exec.v0+json": {
       "id": "9371"
      }
     },
     "output_type": "execute_result"
    }
   ],
   "source": [
    "us_suicides_males = us_suicides_master[~(us_suicides_master[\"Sex\"] == \"female\")]\n",
    "us_suicides_females = us_suicides_master[~(us_suicides_master[\"Sex\"] == \"male\")]\n",
    "us_suicides_males = us_suicides_males.groupby(\"Year\")[\"Suicides per 100k\"].sum().reset_index()\n",
    "us_suicides_females = us_suicides_females.groupby(\"Year\")[\"Suicides per 100k\"].sum().reset_index()\n",
    "us_suicides_males.hvplot(\n",
    "    x=\"Year\", y=\"Suicides per 100k\"\n",
    "    ) * us_suicides_females.hvplot(\n",
    "        x=\"Year\", y=\"Suicides per 100k\"\n",
    "        )"
   ]
  }
 ],
 "metadata": {
  "kernelspec": {
   "display_name": "cainhurst",
   "language": "python",
   "name": "python3"
  },
  "language_info": {
   "codemirror_mode": {
    "name": "ipython",
    "version": 3
   },
   "file_extension": ".py",
   "mimetype": "text/x-python",
   "name": "python",
   "nbconvert_exporter": "python",
   "pygments_lexer": "ipython3",
   "version": "3.7.13"
  },
  "orig_nbformat": 4
 },
 "nbformat": 4,
 "nbformat_minor": 2
}
