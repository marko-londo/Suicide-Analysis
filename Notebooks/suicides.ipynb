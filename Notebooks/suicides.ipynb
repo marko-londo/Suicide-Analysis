{
 "cells": [
  {
   "cell_type": "code",
   "execution_count": 35,
   "metadata": {},
   "outputs": [],
   "source": [
    "from pathlib import Path\n",
    "import pandas as pd\n",
    "from sklearn.linear_model import LinearRegression\n",
    "import hvplot.pandas"
   ]
  },
  {
   "cell_type": "code",
   "execution_count": 52,
   "metadata": {},
   "outputs": [],
   "source": [
    "us_suicides_total = pd.read_csv(r\"../Resources/Clean/us_suicides_1985-2021.csv\")\n",
    "russia_suicides_total = pd.read_csv(r\"../Resources/Clean/russia_suicides_1985-2016.csv\")\n",
    "japan_suicides_total = pd.read_csv(r\"../Resources/Clean/japan_suicides_1985-2016.csv\")\n",
    "canada_suicides_total = pd.read_csv(r\"../Resources/Clean/canada_suicides_1985-2016.csv\")\n",
    "germany_suicides_total = pd.read_csv(\n",
    "    r\"../Resources/Clean/germany_suicides_1985-2016.csv\"\n",
    ")\n",
    "untreated_mental_illness = pd.read_csv(\n",
    "    r\"../Resources/Clean/untreated_mental_illness_total_2018-2019.csv\"\n",
    ").assign(Year=\"2018-2019\")\n",
    "metrics_988 = pd.read_csv(r\"../Resources/Clean/988_performance_metrics.csv\")\n",
    "us_suicide_rates = pd.read_csv(r\"../Resources/Clean/us_suicide_rates_1985-2016.csv\")\n",
    "russia_suicide_rates = pd.read_csv(\n",
    "    r\"../Resources/Clean/russia_suicide_rates_1985-2016.csv\"\n",
    ")\n",
    "us_suicide_rates_99_16 = pd.read_csv(\n",
    "    r\"../Resources/Clean/us_suicide_rates_1999-2016.csv\"\n",
    ")"
   ]
  },
  {
   "cell_type": "code",
   "execution_count": 37,
   "metadata": {},
   "outputs": [],
   "source": [
    "untreated_mental_illness.set_index(\"Year\", inplace=True)"
   ]
  },
  {
   "cell_type": "code",
   "execution_count": 38,
   "metadata": {},
   "outputs": [
    {
     "data": {},
     "metadata": {},
     "output_type": "display_data"
    },
    {
     "data": {
      "application/vnd.holoviews_exec.v0+json": "",
      "text/html": [
       "<div id='4758'>\n",
       "  <div class=\"bk-root\" id=\"30653fcb-d98d-41a1-bd0f-b97e78e26ffe\" data-root-id=\"4758\"></div>\n",
       "</div>\n",
       "<script type=\"application/javascript\">(function(root) {\n",
       "  function embed_document(root) {\n",
       "    var docs_json = {\"6f9662ac-1f1f-44c9-b559-0b20cf6ae937\":{\"defs\":[{\"extends\":null,\"module\":null,\"name\":\"ReactiveHTML1\",\"overrides\":[],\"properties\":[]},{\"extends\":null,\"module\":null,\"name\":\"FlexBox1\",\"overrides\":[],\"properties\":[{\"default\":\"flex-start\",\"kind\":null,\"name\":\"align_content\"},{\"default\":\"flex-start\",\"kind\":null,\"name\":\"align_items\"},{\"default\":\"row\",\"kind\":null,\"name\":\"flex_direction\"},{\"default\":\"wrap\",\"kind\":null,\"name\":\"flex_wrap\"},{\"default\":\"flex-start\",\"kind\":null,\"name\":\"justify_content\"}]},{\"extends\":null,\"module\":null,\"name\":\"GridStack1\",\"overrides\":[],\"properties\":[{\"default\":\"warn\",\"kind\":null,\"name\":\"mode\"},{\"default\":null,\"kind\":null,\"name\":\"ncols\"},{\"default\":null,\"kind\":null,\"name\":\"nrows\"},{\"default\":true,\"kind\":null,\"name\":\"allow_resize\"},{\"default\":true,\"kind\":null,\"name\":\"allow_drag\"},{\"default\":[],\"kind\":null,\"name\":\"state\"}]},{\"extends\":null,\"module\":null,\"name\":\"click1\",\"overrides\":[],\"properties\":[{\"default\":\"\",\"kind\":null,\"name\":\"terminal_output\"},{\"default\":\"\",\"kind\":null,\"name\":\"debug_name\"},{\"default\":0,\"kind\":null,\"name\":\"clears\"}]},{\"extends\":null,\"module\":null,\"name\":\"NotificationAreaBase1\",\"overrides\":[],\"properties\":[{\"default\":\"bottom-right\",\"kind\":null,\"name\":\"position\"},{\"default\":0,\"kind\":null,\"name\":\"_clear\"}]},{\"extends\":null,\"module\":null,\"name\":\"NotificationArea1\",\"overrides\":[],\"properties\":[{\"default\":[],\"kind\":null,\"name\":\"notifications\"},{\"default\":\"bottom-right\",\"kind\":null,\"name\":\"position\"},{\"default\":0,\"kind\":null,\"name\":\"_clear\"},{\"default\":[{\"background\":\"#ffc107\",\"icon\":{\"className\":\"fas fa-exclamation-triangle\",\"color\":\"white\",\"tagName\":\"i\"},\"type\":\"warning\"},{\"background\":\"#007bff\",\"icon\":{\"className\":\"fas fa-info-circle\",\"color\":\"white\",\"tagName\":\"i\"},\"type\":\"info\"}],\"kind\":null,\"name\":\"types\"}]},{\"extends\":null,\"module\":null,\"name\":\"Notification\",\"overrides\":[],\"properties\":[{\"default\":null,\"kind\":null,\"name\":\"background\"},{\"default\":3000,\"kind\":null,\"name\":\"duration\"},{\"default\":null,\"kind\":null,\"name\":\"icon\"},{\"default\":\"\",\"kind\":null,\"name\":\"message\"},{\"default\":null,\"kind\":null,\"name\":\"notification_type\"},{\"default\":false,\"kind\":null,\"name\":\"_destroyed\"}]},{\"extends\":null,\"module\":null,\"name\":\"TemplateActions1\",\"overrides\":[],\"properties\":[{\"default\":0,\"kind\":null,\"name\":\"open_modal\"},{\"default\":0,\"kind\":null,\"name\":\"close_modal\"}]},{\"extends\":null,\"module\":null,\"name\":\"MaterialTemplateActions1\",\"overrides\":[],\"properties\":[{\"default\":0,\"kind\":null,\"name\":\"open_modal\"},{\"default\":0,\"kind\":null,\"name\":\"close_modal\"}]}],\"roots\":{\"references\":[{\"attributes\":{\"bottom\":{\"value\":0},\"fill_alpha\":{\"value\":1.0},\"fill_color\":{\"field\":\"Variable\",\"transform\":{\"id\":\"4792\"}},\"hatch_alpha\":{\"value\":1.0},\"hatch_color\":{\"field\":\"Variable\",\"transform\":{\"id\":\"4792\"}},\"hatch_scale\":{\"value\":12.0},\"hatch_weight\":{\"value\":1.0},\"line_alpha\":{\"value\":1.0},\"line_cap\":{\"value\":\"butt\"},\"line_color\":{\"value\":\"black\"},\"line_dash\":{\"value\":[]},\"line_dash_offset\":{\"value\":0},\"line_join\":{\"value\":\"bevel\"},\"line_width\":{\"value\":1},\"top\":{\"field\":\"value\"},\"width\":{\"value\":0.8},\"x\":{\"field\":\"xoffsets\"}},\"id\":\"4801\",\"type\":\"VBar\"},{\"attributes\":{\"margin\":[5,5,5,5],\"name\":\"HSpacer08382\",\"sizing_mode\":\"stretch_width\"},\"id\":\"4759\",\"type\":\"Spacer\"},{\"attributes\":{\"axis\":{\"id\":\"4775\"},\"coordinates\":null,\"dimension\":1,\"grid_line_color\":null,\"group\":null,\"ticker\":null},\"id\":\"4778\",\"type\":\"Grid\"},{\"attributes\":{\"fill_alpha\":{\"value\":0.1},\"fill_color\":{\"field\":\"Variable\",\"transform\":{\"id\":\"4792\"}},\"hatch_alpha\":{\"value\":0.1},\"hatch_color\":{\"field\":\"Variable\",\"transform\":{\"id\":\"4792\"}},\"line_alpha\":{\"value\":0.1},\"top\":{\"field\":\"value\"},\"width\":{\"value\":0.8},\"x\":{\"field\":\"xoffsets\"}},\"id\":\"4797\",\"type\":\"VBar\"},{\"attributes\":{\"factors\":[\"Mild\",\"Moderate\",\"Serious\"],\"palette\":[\"#30a2da\",\"#fc4f30\",\"#e5ae38\"]},\"id\":\"4792\",\"type\":\"CategoricalColorMapper\"},{\"attributes\":{},\"id\":\"4806\",\"type\":\"BasicTickFormatter\"},{\"attributes\":{\"callback\":null,\"renderers\":[{\"id\":\"4799\"}],\"tags\":[\"hv_created\"],\"tooltips\":[[\"Year\",\"@{Year}\"],[\"Variable\",\"@{Variable}\"],[\"value\",\"@{value}\"]]},\"id\":\"4762\",\"type\":\"HoverTool\"},{\"attributes\":{\"below\":[{\"id\":\"4772\"}],\"center\":[{\"id\":\"4774\"},{\"id\":\"4778\"}],\"height\":300,\"left\":[{\"id\":\"4775\"}],\"margin\":[5,5,5,5],\"min_border_bottom\":10,\"min_border_left\":10,\"min_border_right\":10,\"min_border_top\":10,\"renderers\":[{\"id\":\"4799\"}],\"sizing_mode\":\"fixed\",\"title\":{\"id\":\"4764\"},\"toolbar\":{\"id\":\"4785\"},\"width\":700,\"x_range\":{\"id\":\"4760\"},\"x_scale\":{\"id\":\"4768\"},\"y_range\":{\"id\":\"4761\"},\"y_scale\":{\"id\":\"4770\"}},\"id\":\"4763\",\"subtype\":\"Figure\",\"type\":\"Plot\"},{\"attributes\":{\"factors\":[[\"2018-2019\",\"Mild\"],[\"2018-2019\",\"Moderate\"],[\"2018-2019\",\"Serious\"]],\"tags\":[[[\"Year\",\"Year\",null],[\"Variable\",\"Variable\",null]]]},\"id\":\"4760\",\"type\":\"FactorRange\"},{\"attributes\":{\"margin\":[5,5,5,5],\"name\":\"HSpacer08383\",\"sizing_mode\":\"stretch_width\"},\"id\":\"4818\",\"type\":\"Spacer\"},{\"attributes\":{},\"id\":\"4815\",\"type\":\"UnionRenderers\"},{\"attributes\":{\"tools\":[{\"id\":\"4762\"},{\"id\":\"4779\"},{\"id\":\"4780\"},{\"id\":\"4781\"},{\"id\":\"4782\"},{\"id\":\"4783\"}]},\"id\":\"4785\",\"type\":\"Toolbar\"},{\"attributes\":{},\"id\":\"4794\",\"type\":\"Selection\"},{\"attributes\":{\"data\":{\"Variable\":[\"Mild\",\"Moderate\",\"Serious\"],\"Year\":[\"2018-2019\",\"2018-2019\",\"2018-2019\"],\"value\":{\"__ndarray__\":\"mpmZmZn5UEAAAAAAAMBKQAAAAAAAgEFA\",\"dtype\":\"float64\",\"order\":\"little\",\"shape\":[3]},\"xoffsets\":[[\"2018-2019\",\"Mild\"],[\"2018-2019\",\"Moderate\"],[\"2018-2019\",\"Serious\"]]},\"selected\":{\"id\":\"4794\"},\"selection_policy\":{\"id\":\"4815\"}},\"id\":\"4793\",\"type\":\"ColumnDataSource\"},{\"attributes\":{\"bottom_units\":\"screen\",\"coordinates\":null,\"fill_alpha\":0.5,\"fill_color\":\"lightgrey\",\"group\":null,\"left_units\":\"screen\",\"level\":\"overlay\",\"line_alpha\":1.0,\"line_color\":\"black\",\"line_dash\":[4,4],\"line_width\":2,\"right_units\":\"screen\",\"syncable\":false,\"top_units\":\"screen\"},\"id\":\"4784\",\"type\":\"BoxAnnotation\"},{\"attributes\":{},\"id\":\"4779\",\"type\":\"SaveTool\"},{\"attributes\":{},\"id\":\"4780\",\"type\":\"PanTool\"},{\"attributes\":{},\"id\":\"4783\",\"type\":\"ResetTool\"},{\"attributes\":{},\"id\":\"4776\",\"type\":\"BasicTicker\"},{\"attributes\":{\"axis\":{\"id\":\"4772\"},\"coordinates\":null,\"grid_line_color\":null,\"group\":null,\"ticker\":null},\"id\":\"4774\",\"type\":\"Grid\"},{\"attributes\":{},\"id\":\"4781\",\"type\":\"WheelZoomTool\"},{\"attributes\":{\"coordinates\":null,\"group\":null,\"text_color\":\"black\",\"text_font_size\":\"12pt\"},\"id\":\"4764\",\"type\":\"Title\"},{\"attributes\":{\"fill_color\":{\"field\":\"Variable\",\"transform\":{\"id\":\"4792\"}},\"hatch_color\":{\"field\":\"Variable\",\"transform\":{\"id\":\"4792\"}},\"top\":{\"field\":\"value\"},\"width\":{\"value\":0.8},\"x\":{\"field\":\"xoffsets\"}},\"id\":\"4796\",\"type\":\"VBar\"},{\"attributes\":{\"overlay\":{\"id\":\"4784\"}},\"id\":\"4782\",\"type\":\"BoxZoomTool\"},{\"attributes\":{},\"id\":\"4803\",\"type\":\"CategoricalTickFormatter\"},{\"attributes\":{},\"id\":\"4804\",\"type\":\"AllLabels\"},{\"attributes\":{},\"id\":\"4768\",\"type\":\"CategoricalScale\"},{\"attributes\":{\"axis_label\":\"Year, Variable\",\"coordinates\":null,\"formatter\":{\"id\":\"4803\"},\"group\":null,\"major_label_policy\":{\"id\":\"4804\"},\"ticker\":{\"id\":\"4773\"}},\"id\":\"4772\",\"type\":\"CategoricalAxis\"},{\"attributes\":{\"end\":100,\"reset_end\":100,\"reset_start\":0,\"tags\":[[[\"value\",\"value\",null]]]},\"id\":\"4761\",\"type\":\"Range1d\"},{\"attributes\":{},\"id\":\"4770\",\"type\":\"LinearScale\"},{\"attributes\":{\"fill_alpha\":{\"value\":0.2},\"fill_color\":{\"field\":\"Variable\",\"transform\":{\"id\":\"4792\"}},\"hatch_alpha\":{\"value\":0.2},\"hatch_color\":{\"field\":\"Variable\",\"transform\":{\"id\":\"4792\"}},\"line_alpha\":{\"value\":0.2},\"top\":{\"field\":\"value\"},\"width\":{\"value\":0.8},\"x\":{\"field\":\"xoffsets\"}},\"id\":\"4798\",\"type\":\"VBar\"},{\"attributes\":{},\"id\":\"4807\",\"type\":\"AllLabels\"},{\"attributes\":{\"source\":{\"id\":\"4793\"}},\"id\":\"4800\",\"type\":\"CDSView\"},{\"attributes\":{\"coordinates\":null,\"data_source\":{\"id\":\"4793\"},\"glyph\":{\"id\":\"4796\"},\"group\":null,\"hover_glyph\":null,\"muted_glyph\":{\"id\":\"4798\"},\"nonselection_glyph\":{\"id\":\"4797\"},\"selection_glyph\":{\"id\":\"4801\"},\"view\":{\"id\":\"4800\"}},\"id\":\"4799\",\"type\":\"GlyphRenderer\"},{\"attributes\":{},\"id\":\"4773\",\"type\":\"CategoricalTicker\"},{\"attributes\":{\"axis_label\":\"\",\"coordinates\":null,\"formatter\":{\"id\":\"4806\"},\"group\":null,\"major_label_policy\":{\"id\":\"4807\"},\"ticker\":{\"id\":\"4776\"}},\"id\":\"4775\",\"type\":\"LinearAxis\"},{\"attributes\":{\"children\":[{\"id\":\"4759\"},{\"id\":\"4763\"},{\"id\":\"4818\"}],\"margin\":[0,0,0,0],\"name\":\"Row08378\",\"tags\":[\"embedded\"]},\"id\":\"4758\",\"type\":\"Row\"}],\"root_ids\":[\"4758\"]},\"title\":\"Bokeh Application\",\"version\":\"2.4.3\"}};\n",
       "    var render_items = [{\"docid\":\"6f9662ac-1f1f-44c9-b559-0b20cf6ae937\",\"root_ids\":[\"4758\"],\"roots\":{\"4758\":\"30653fcb-d98d-41a1-bd0f-b97e78e26ffe\"}}];\n",
       "    root.Bokeh.embed.embed_items_notebook(docs_json, render_items);\n",
       "  }\n",
       "  if (root.Bokeh !== undefined && root.Bokeh.Panel !== undefined) {\n",
       "    embed_document(root);\n",
       "  } else {\n",
       "    var attempts = 0;\n",
       "    var timer = setInterval(function(root) {\n",
       "      if (root.Bokeh !== undefined && root.Bokeh.Panel !== undefined) {\n",
       "        clearInterval(timer);\n",
       "        embed_document(root);\n",
       "      } else if (document.readyState == \"complete\") {\n",
       "        attempts++;\n",
       "        if (attempts > 200) {\n",
       "          clearInterval(timer);\n",
       "          console.log(\"Bokeh: ERROR: Unable to run BokehJS code because BokehJS library is missing\");\n",
       "        }\n",
       "      }\n",
       "    }, 25, root)\n",
       "  }\n",
       "})(window);</script>"
      ],
      "text/plain": [
       ":Bars   [Year,Variable]   (value)"
      ]
     },
     "execution_count": 38,
     "metadata": {
      "application/vnd.holoviews_exec.v0+json": {
       "id": "4758"
      }
     },
     "output_type": "execute_result"
    }
   ],
   "source": [
    "untreated_mental_illness.hvplot.bar(ylim=(0, 100))"
   ]
  },
  {
   "cell_type": "code",
   "execution_count": 39,
   "metadata": {},
   "outputs": [
    {
     "data": {},
     "metadata": {},
     "output_type": "display_data"
    },
    {
     "data": {
      "application/vnd.holoviews_exec.v0+json": "",
      "text/html": [
       "<div id='4870'>\n",
       "  <div class=\"bk-root\" id=\"d1be66a6-ca5b-4ffc-af2c-0691502813dc\" data-root-id=\"4870\"></div>\n",
       "</div>\n",
       "<script type=\"application/javascript\">(function(root) {\n",
       "  function embed_document(root) {\n",
       "    var docs_json = {\"cbf2a80f-14a6-48ff-a29e-4580ede0e834\":{\"defs\":[{\"extends\":null,\"module\":null,\"name\":\"ReactiveHTML1\",\"overrides\":[],\"properties\":[]},{\"extends\":null,\"module\":null,\"name\":\"FlexBox1\",\"overrides\":[],\"properties\":[{\"default\":\"flex-start\",\"kind\":null,\"name\":\"align_content\"},{\"default\":\"flex-start\",\"kind\":null,\"name\":\"align_items\"},{\"default\":\"row\",\"kind\":null,\"name\":\"flex_direction\"},{\"default\":\"wrap\",\"kind\":null,\"name\":\"flex_wrap\"},{\"default\":\"flex-start\",\"kind\":null,\"name\":\"justify_content\"}]},{\"extends\":null,\"module\":null,\"name\":\"GridStack1\",\"overrides\":[],\"properties\":[{\"default\":\"warn\",\"kind\":null,\"name\":\"mode\"},{\"default\":null,\"kind\":null,\"name\":\"ncols\"},{\"default\":null,\"kind\":null,\"name\":\"nrows\"},{\"default\":true,\"kind\":null,\"name\":\"allow_resize\"},{\"default\":true,\"kind\":null,\"name\":\"allow_drag\"},{\"default\":[],\"kind\":null,\"name\":\"state\"}]},{\"extends\":null,\"module\":null,\"name\":\"click1\",\"overrides\":[],\"properties\":[{\"default\":\"\",\"kind\":null,\"name\":\"terminal_output\"},{\"default\":\"\",\"kind\":null,\"name\":\"debug_name\"},{\"default\":0,\"kind\":null,\"name\":\"clears\"}]},{\"extends\":null,\"module\":null,\"name\":\"NotificationAreaBase1\",\"overrides\":[],\"properties\":[{\"default\":\"bottom-right\",\"kind\":null,\"name\":\"position\"},{\"default\":0,\"kind\":null,\"name\":\"_clear\"}]},{\"extends\":null,\"module\":null,\"name\":\"NotificationArea1\",\"overrides\":[],\"properties\":[{\"default\":[],\"kind\":null,\"name\":\"notifications\"},{\"default\":\"bottom-right\",\"kind\":null,\"name\":\"position\"},{\"default\":0,\"kind\":null,\"name\":\"_clear\"},{\"default\":[{\"background\":\"#ffc107\",\"icon\":{\"className\":\"fas fa-exclamation-triangle\",\"color\":\"white\",\"tagName\":\"i\"},\"type\":\"warning\"},{\"background\":\"#007bff\",\"icon\":{\"className\":\"fas fa-info-circle\",\"color\":\"white\",\"tagName\":\"i\"},\"type\":\"info\"}],\"kind\":null,\"name\":\"types\"}]},{\"extends\":null,\"module\":null,\"name\":\"Notification\",\"overrides\":[],\"properties\":[{\"default\":null,\"kind\":null,\"name\":\"background\"},{\"default\":3000,\"kind\":null,\"name\":\"duration\"},{\"default\":null,\"kind\":null,\"name\":\"icon\"},{\"default\":\"\",\"kind\":null,\"name\":\"message\"},{\"default\":null,\"kind\":null,\"name\":\"notification_type\"},{\"default\":false,\"kind\":null,\"name\":\"_destroyed\"}]},{\"extends\":null,\"module\":null,\"name\":\"TemplateActions1\",\"overrides\":[],\"properties\":[{\"default\":0,\"kind\":null,\"name\":\"open_modal\"},{\"default\":0,\"kind\":null,\"name\":\"close_modal\"}]},{\"extends\":null,\"module\":null,\"name\":\"MaterialTemplateActions1\",\"overrides\":[],\"properties\":[{\"default\":0,\"kind\":null,\"name\":\"open_modal\"},{\"default\":0,\"kind\":null,\"name\":\"close_modal\"}]}],\"roots\":{\"references\":[{\"attributes\":{},\"id\":\"4910\",\"type\":\"BasicTickFormatter\"},{\"attributes\":{},\"id\":\"4937\",\"type\":\"UnionRenderers\"},{\"attributes\":{\"tools\":[{\"id\":\"4874\"},{\"id\":\"4893\"},{\"id\":\"4894\"},{\"id\":\"4895\"},{\"id\":\"4896\"},{\"id\":\"4897\"}]},\"id\":\"4899\",\"type\":\"Toolbar\"},{\"attributes\":{\"angle\":{\"value\":0.0},\"fill_alpha\":{\"value\":1.0},\"fill_color\":{\"value\":\"#000000\"},\"hatch_alpha\":{\"value\":1.0},\"hatch_color\":{\"value\":\"#000000\"},\"hatch_scale\":{\"value\":12.0},\"hatch_weight\":{\"value\":1.0},\"line_alpha\":{\"value\":1.0},\"line_cap\":{\"value\":\"butt\"},\"line_color\":{\"value\":\"#000000\"},\"line_dash\":{\"value\":[]},\"line_dash_offset\":{\"value\":0},\"line_join\":{\"value\":\"bevel\"},\"line_width\":{\"value\":1},\"marker\":{\"value\":\"circle\"},\"size\":{\"value\":5.477225575051661},\"x\":{\"field\":\"Year\"},\"y\":{\"field\":\"Number of Suicides\"}},\"id\":\"4929\",\"type\":\"Scatter\"},{\"attributes\":{\"bottom_units\":\"screen\",\"coordinates\":null,\"fill_alpha\":0.5,\"fill_color\":\"lightgrey\",\"group\":null,\"left_units\":\"screen\",\"level\":\"overlay\",\"line_alpha\":1.0,\"line_color\":\"black\",\"line_dash\":[4,4],\"line_width\":2,\"right_units\":\"screen\",\"syncable\":false,\"top_units\":\"screen\"},\"id\":\"4898\",\"type\":\"BoxAnnotation\"},{\"attributes\":{\"source\":{\"id\":\"4912\"}},\"id\":\"4919\",\"type\":\"CDSView\"},{\"attributes\":{},\"id\":\"4893\",\"type\":\"SaveTool\"},{\"attributes\":{\"line_alpha\":0.2,\"line_color\":\"#30a2da\",\"line_width\":2,\"x\":{\"field\":\"Year\"},\"y\":{\"field\":\"Number of Suicides\"}},\"id\":\"4917\",\"type\":\"Line\"},{\"attributes\":{},\"id\":\"4894\",\"type\":\"PanTool\"},{\"attributes\":{\"data\":{\"Number of Suicides\":[29446,30892,30783,30388,30218,30895,30790,30471,31084,31123,31272,30879,30517,30558,29183,29343,30607,31645,31477,32428,32629,33292,34596,36030,36900,38362,39508,40596,41143,42721,44159,44925,47126,48290,47467,45941,48137],\"Number_of_Suicides\":[29446,30892,30783,30388,30218,30895,30790,30471,31084,31123,31272,30879,30517,30558,29183,29343,30607,31645,31477,32428,32629,33292,34596,36030,36900,38362,39508,40596,41143,42721,44159,44925,47126,48290,47467,45941,48137],\"Year\":[1985,1986,1987,1988,1989,1990,1991,1992,1993,1994,1995,1996,1997,1998,1999,2000,2001,2002,2003,2004,2005,2006,2007,2008,2009,2010,2011,2012,2013,2014,2015,2016,2017,2018,2019,2020,2021]},\"selected\":{\"id\":\"4922\"},\"selection_policy\":{\"id\":\"4939\"}},\"id\":\"4921\",\"type\":\"ColumnDataSource\"},{\"attributes\":{},\"id\":\"4897\",\"type\":\"ResetTool\"},{\"attributes\":{\"axis\":{\"id\":\"4885\"},\"coordinates\":null,\"grid_line_color\":null,\"group\":null,\"ticker\":null},\"id\":\"4888\",\"type\":\"Grid\"},{\"attributes\":{\"source\":{\"id\":\"4921\"}},\"id\":\"4928\",\"type\":\"CDSView\"},{\"attributes\":{},\"id\":\"4895\",\"type\":\"WheelZoomTool\"},{\"attributes\":{},\"id\":\"4881\",\"type\":\"LinearScale\"},{\"attributes\":{\"line_color\":\"#30a2da\",\"line_width\":2,\"x\":{\"field\":\"Year\"},\"y\":{\"field\":\"Number of Suicides\"}},\"id\":\"4915\",\"type\":\"Line\"},{\"attributes\":{\"overlay\":{\"id\":\"4898\"}},\"id\":\"4896\",\"type\":\"BoxZoomTool\"},{\"attributes\":{\"coordinates\":null,\"data_source\":{\"id\":\"4921\"},\"glyph\":{\"id\":\"4924\"},\"group\":null,\"hover_glyph\":null,\"muted_glyph\":{\"id\":\"4926\"},\"nonselection_glyph\":{\"id\":\"4925\"},\"selection_glyph\":{\"id\":\"4929\"},\"view\":{\"id\":\"4928\"}},\"id\":\"4927\",\"type\":\"GlyphRenderer\"},{\"attributes\":{},\"id\":\"4911\",\"type\":\"AllLabels\"},{\"attributes\":{\"fill_alpha\":{\"value\":0.2},\"fill_color\":{\"value\":\"#000000\"},\"hatch_alpha\":{\"value\":0.2},\"hatch_color\":{\"value\":\"#000000\"},\"line_alpha\":{\"value\":0.2},\"line_color\":{\"value\":\"#000000\"},\"size\":{\"value\":5.477225575051661},\"x\":{\"field\":\"Year\"},\"y\":{\"field\":\"Number of Suicides\"}},\"id\":\"4926\",\"type\":\"Scatter\"},{\"attributes\":{\"coordinates\":null,\"data_source\":{\"id\":\"4912\"},\"glyph\":{\"id\":\"4915\"},\"group\":null,\"hover_glyph\":null,\"muted_glyph\":{\"id\":\"4917\"},\"nonselection_glyph\":{\"id\":\"4916\"},\"selection_glyph\":{\"id\":\"4920\"},\"view\":{\"id\":\"4919\"}},\"id\":\"4918\",\"type\":\"GlyphRenderer\"},{\"attributes\":{},\"id\":\"4890\",\"type\":\"BasicTicker\"},{\"attributes\":{},\"id\":\"4908\",\"type\":\"AllLabels\"},{\"attributes\":{},\"id\":\"4886\",\"type\":\"BasicTicker\"},{\"attributes\":{},\"id\":\"4913\",\"type\":\"Selection\"},{\"attributes\":{\"coordinates\":null,\"group\":null,\"text_color\":\"black\",\"text_font_size\":\"12pt\"},\"id\":\"4877\",\"type\":\"Title\"},{\"attributes\":{\"fill_alpha\":{\"value\":0.1},\"fill_color\":{\"value\":\"#000000\"},\"hatch_alpha\":{\"value\":0.1},\"hatch_color\":{\"value\":\"#000000\"},\"line_alpha\":{\"value\":0.1},\"line_color\":{\"value\":\"#000000\"},\"size\":{\"value\":5.477225575051661},\"x\":{\"field\":\"Year\"},\"y\":{\"field\":\"Number of Suicides\"}},\"id\":\"4925\",\"type\":\"Scatter\"},{\"attributes\":{\"callback\":null,\"renderers\":[{\"id\":\"4918\"},{\"id\":\"4927\"}],\"tags\":[\"hv_created\"],\"tooltips\":[[\"Year\",\"@{Year}\"],[\"Number of Suicides\",\"@{Number_of_Suicides}\"]]},\"id\":\"4874\",\"type\":\"HoverTool\"},{\"attributes\":{\"children\":[{\"id\":\"4871\"},{\"id\":\"4876\"},{\"id\":\"4942\"}],\"margin\":[0,0,0,0],\"name\":\"Row08660\",\"tags\":[\"embedded\"]},\"id\":\"4870\",\"type\":\"Row\"},{\"attributes\":{\"end\":2021.0,\"reset_end\":2021.0,\"reset_start\":1985.0,\"start\":1985.0,\"tags\":[[[\"Year\",\"Year\",null]]]},\"id\":\"4872\",\"type\":\"Range1d\"},{\"attributes\":{\"data\":{\"Number of Suicides\":[29446,30892,30783,30388,30218,30895,30790,30471,31084,31123,31272,30879,30517,30558,29183,29343,30607,31645,31477,32428,32629,33292,34596,36030,36900,38362,39508,40596,41143,42721,44159,44925,47126,48290,47467,45941,48137],\"Number_of_Suicides\":[29446,30892,30783,30388,30218,30895,30790,30471,31084,31123,31272,30879,30517,30558,29183,29343,30607,31645,31477,32428,32629,33292,34596,36030,36900,38362,39508,40596,41143,42721,44159,44925,47126,48290,47467,45941,48137],\"Year\":[1985,1986,1987,1988,1989,1990,1991,1992,1993,1994,1995,1996,1997,1998,1999,2000,2001,2002,2003,2004,2005,2006,2007,2008,2009,2010,2011,2012,2013,2014,2015,2016,2017,2018,2019,2020,2021]},\"selected\":{\"id\":\"4913\"},\"selection_policy\":{\"id\":\"4937\"}},\"id\":\"4912\",\"type\":\"ColumnDataSource\"},{\"attributes\":{\"fill_color\":{\"value\":\"#000000\"},\"hatch_color\":{\"value\":\"#000000\"},\"line_color\":{\"value\":\"#000000\"},\"size\":{\"value\":5.477225575051661},\"x\":{\"field\":\"Year\"},\"y\":{\"field\":\"Number of Suicides\"}},\"id\":\"4924\",\"type\":\"Scatter\"},{\"attributes\":{},\"id\":\"4907\",\"type\":\"BasicTickFormatter\"},{\"attributes\":{},\"id\":\"4883\",\"type\":\"LinearScale\"},{\"attributes\":{\"line_color\":\"#30a2da\",\"line_width\":2,\"x\":{\"field\":\"Year\"},\"y\":{\"field\":\"Number of Suicides\"}},\"id\":\"4920\",\"type\":\"Line\"},{\"attributes\":{\"axis_label\":\"Number of Suicides\",\"coordinates\":null,\"formatter\":{\"id\":\"4910\"},\"group\":null,\"major_label_policy\":{\"id\":\"4911\"},\"ticker\":{\"id\":\"4890\"}},\"id\":\"4889\",\"type\":\"LinearAxis\"},{\"attributes\":{\"axis_label\":\"Year\",\"coordinates\":null,\"formatter\":{\"id\":\"4907\"},\"group\":null,\"major_label_orientation\":0.7853981633974483,\"major_label_policy\":{\"id\":\"4908\"},\"ticker\":{\"id\":\"4886\"}},\"id\":\"4885\",\"type\":\"LinearAxis\"},{\"attributes\":{\"margin\":[5,5,5,5],\"name\":\"HSpacer08665\",\"sizing_mode\":\"stretch_width\"},\"id\":\"4942\",\"type\":\"Spacer\"},{\"attributes\":{\"margin\":[5,5,5,5],\"name\":\"HSpacer08664\",\"sizing_mode\":\"stretch_width\"},\"id\":\"4871\",\"type\":\"Spacer\"},{\"attributes\":{},\"id\":\"4922\",\"type\":\"Selection\"},{\"attributes\":{\"end\":50200.7,\"reset_end\":50200.7,\"reset_start\":27272.3,\"start\":27272.3,\"tags\":[[[\"Number of Suicides\",\"Number of Suicides\",null]]]},\"id\":\"4873\",\"type\":\"Range1d\"},{\"attributes\":{\"axis\":{\"id\":\"4889\"},\"coordinates\":null,\"dimension\":1,\"grid_line_color\":null,\"group\":null,\"ticker\":null},\"id\":\"4892\",\"type\":\"Grid\"},{\"attributes\":{},\"id\":\"4939\",\"type\":\"UnionRenderers\"},{\"attributes\":{\"below\":[{\"id\":\"4885\"}],\"center\":[{\"id\":\"4888\"},{\"id\":\"4892\"}],\"height\":450,\"left\":[{\"id\":\"4889\"}],\"margin\":[5,5,5,5],\"min_border_bottom\":10,\"min_border_left\":10,\"min_border_right\":10,\"min_border_top\":10,\"renderers\":[{\"id\":\"4918\"},{\"id\":\"4927\"}],\"sizing_mode\":\"fixed\",\"title\":{\"id\":\"4877\"},\"toolbar\":{\"id\":\"4899\"},\"width\":800,\"x_range\":{\"id\":\"4872\"},\"x_scale\":{\"id\":\"4881\"},\"y_range\":{\"id\":\"4873\"},\"y_scale\":{\"id\":\"4883\"}},\"id\":\"4876\",\"subtype\":\"Figure\",\"type\":\"Plot\"},{\"attributes\":{\"line_alpha\":0.1,\"line_color\":\"#30a2da\",\"line_width\":2,\"x\":{\"field\":\"Year\"},\"y\":{\"field\":\"Number of Suicides\"}},\"id\":\"4916\",\"type\":\"Line\"}],\"root_ids\":[\"4870\"]},\"title\":\"Bokeh Application\",\"version\":\"2.4.3\"}};\n",
       "    var render_items = [{\"docid\":\"cbf2a80f-14a6-48ff-a29e-4580ede0e834\",\"root_ids\":[\"4870\"],\"roots\":{\"4870\":\"d1be66a6-ca5b-4ffc-af2c-0691502813dc\"}}];\n",
       "    root.Bokeh.embed.embed_items_notebook(docs_json, render_items);\n",
       "  }\n",
       "  if (root.Bokeh !== undefined && root.Bokeh.Panel !== undefined) {\n",
       "    embed_document(root);\n",
       "  } else {\n",
       "    var attempts = 0;\n",
       "    var timer = setInterval(function(root) {\n",
       "      if (root.Bokeh !== undefined && root.Bokeh.Panel !== undefined) {\n",
       "        clearInterval(timer);\n",
       "        embed_document(root);\n",
       "      } else if (document.readyState == \"complete\") {\n",
       "        attempts++;\n",
       "        if (attempts > 200) {\n",
       "          clearInterval(timer);\n",
       "          console.log(\"Bokeh: ERROR: Unable to run BokehJS code because BokehJS library is missing\");\n",
       "        }\n",
       "      }\n",
       "    }, 25, root)\n",
       "  }\n",
       "})(window);</script>"
      ],
      "text/plain": [
       ":Overlay\n",
       "   .Curve.I   :Curve   [Year]   (Number of Suicides)\n",
       "   .Scatter.I :Scatter   [Year]   (Number of Suicides)"
      ]
     },
     "execution_count": 39,
     "metadata": {
      "application/vnd.holoviews_exec.v0+json": {
       "id": "4870"
      }
     },
     "output_type": "execute_result"
    }
   ],
   "source": [
    "us_suicides_total.hvplot(x=\"Year\", y=\"Number of Suicides\", rot=45).opts(\n",
    "    height=450, width=800\n",
    ") * us_suicides_total.hvplot.scatter(\n",
    "    x=\"Year\", y=\"Number of Suicides\", rot=45, c=\"k\"\n",
    ").opts(\n",
    "    height=450, width=800\n",
    ")"
   ]
  },
  {
   "cell_type": "code",
   "execution_count": 40,
   "metadata": {},
   "outputs": [
    {
     "data": {},
     "metadata": {},
     "output_type": "display_data"
    },
    {
     "data": {
      "application/vnd.holoviews_exec.v0+json": "",
      "text/html": [
       "<div id='5004'>\n",
       "  <div class=\"bk-root\" id=\"cf8e3046-0810-446b-8f65-427f6f784e1a\" data-root-id=\"5004\"></div>\n",
       "</div>\n",
       "<script type=\"application/javascript\">(function(root) {\n",
       "  function embed_document(root) {\n",
       "    var docs_json = {\"cf66783c-4cc9-4352-9217-703346fd0dd6\":{\"defs\":[{\"extends\":null,\"module\":null,\"name\":\"ReactiveHTML1\",\"overrides\":[],\"properties\":[]},{\"extends\":null,\"module\":null,\"name\":\"FlexBox1\",\"overrides\":[],\"properties\":[{\"default\":\"flex-start\",\"kind\":null,\"name\":\"align_content\"},{\"default\":\"flex-start\",\"kind\":null,\"name\":\"align_items\"},{\"default\":\"row\",\"kind\":null,\"name\":\"flex_direction\"},{\"default\":\"wrap\",\"kind\":null,\"name\":\"flex_wrap\"},{\"default\":\"flex-start\",\"kind\":null,\"name\":\"justify_content\"}]},{\"extends\":null,\"module\":null,\"name\":\"GridStack1\",\"overrides\":[],\"properties\":[{\"default\":\"warn\",\"kind\":null,\"name\":\"mode\"},{\"default\":null,\"kind\":null,\"name\":\"ncols\"},{\"default\":null,\"kind\":null,\"name\":\"nrows\"},{\"default\":true,\"kind\":null,\"name\":\"allow_resize\"},{\"default\":true,\"kind\":null,\"name\":\"allow_drag\"},{\"default\":[],\"kind\":null,\"name\":\"state\"}]},{\"extends\":null,\"module\":null,\"name\":\"click1\",\"overrides\":[],\"properties\":[{\"default\":\"\",\"kind\":null,\"name\":\"terminal_output\"},{\"default\":\"\",\"kind\":null,\"name\":\"debug_name\"},{\"default\":0,\"kind\":null,\"name\":\"clears\"}]},{\"extends\":null,\"module\":null,\"name\":\"NotificationAreaBase1\",\"overrides\":[],\"properties\":[{\"default\":\"bottom-right\",\"kind\":null,\"name\":\"position\"},{\"default\":0,\"kind\":null,\"name\":\"_clear\"}]},{\"extends\":null,\"module\":null,\"name\":\"NotificationArea1\",\"overrides\":[],\"properties\":[{\"default\":[],\"kind\":null,\"name\":\"notifications\"},{\"default\":\"bottom-right\",\"kind\":null,\"name\":\"position\"},{\"default\":0,\"kind\":null,\"name\":\"_clear\"},{\"default\":[{\"background\":\"#ffc107\",\"icon\":{\"className\":\"fas fa-exclamation-triangle\",\"color\":\"white\",\"tagName\":\"i\"},\"type\":\"warning\"},{\"background\":\"#007bff\",\"icon\":{\"className\":\"fas fa-info-circle\",\"color\":\"white\",\"tagName\":\"i\"},\"type\":\"info\"}],\"kind\":null,\"name\":\"types\"}]},{\"extends\":null,\"module\":null,\"name\":\"Notification\",\"overrides\":[],\"properties\":[{\"default\":null,\"kind\":null,\"name\":\"background\"},{\"default\":3000,\"kind\":null,\"name\":\"duration\"},{\"default\":null,\"kind\":null,\"name\":\"icon\"},{\"default\":\"\",\"kind\":null,\"name\":\"message\"},{\"default\":null,\"kind\":null,\"name\":\"notification_type\"},{\"default\":false,\"kind\":null,\"name\":\"_destroyed\"}]},{\"extends\":null,\"module\":null,\"name\":\"TemplateActions1\",\"overrides\":[],\"properties\":[{\"default\":0,\"kind\":null,\"name\":\"open_modal\"},{\"default\":0,\"kind\":null,\"name\":\"close_modal\"}]},{\"extends\":null,\"module\":null,\"name\":\"MaterialTemplateActions1\",\"overrides\":[],\"properties\":[{\"default\":0,\"kind\":null,\"name\":\"open_modal\"},{\"default\":0,\"kind\":null,\"name\":\"close_modal\"}]}],\"roots\":{\"references\":[{\"attributes\":{\"fill_alpha\":{\"value\":0.1},\"fill_color\":{\"value\":\"#000000\"},\"hatch_alpha\":{\"value\":0.1},\"hatch_color\":{\"value\":\"#000000\"},\"line_alpha\":{\"value\":0.1},\"line_color\":{\"value\":\"#000000\"},\"size\":{\"value\":5.477225575051661},\"x\":{\"field\":\"Year\"},\"y\":{\"field\":\"Number of Suicides\"}},\"id\":\"5059\",\"type\":\"Scatter\"},{\"attributes\":{\"fill_alpha\":{\"value\":0.2},\"fill_color\":{\"value\":\"#000000\"},\"hatch_alpha\":{\"value\":0.2},\"hatch_color\":{\"value\":\"#000000\"},\"line_alpha\":{\"value\":0.2},\"line_color\":{\"value\":\"#000000\"},\"size\":{\"value\":5.477225575051661},\"x\":{\"field\":\"Year\"},\"y\":{\"field\":\"Number of Suicides\"}},\"id\":\"5060\",\"type\":\"Scatter\"},{\"attributes\":{},\"id\":\"5020\",\"type\":\"BasicTicker\"},{\"attributes\":{\"end\":2015.0,\"reset_end\":2015.0,\"reset_start\":1985.0,\"start\":1985.0,\"tags\":[[[\"Year\",\"Year\",null]]]},\"id\":\"5006\",\"type\":\"Range1d\"},{\"attributes\":{\"line_color\":\"#30a2da\",\"line_width\":2,\"x\":{\"field\":\"Year\"},\"y\":{\"field\":\"Number of Suicides\"}},\"id\":\"5054\",\"type\":\"Line\"},{\"attributes\":{},\"id\":\"5024\",\"type\":\"BasicTicker\"},{\"attributes\":{\"axis_label\":\"Number of Suicides\",\"coordinates\":null,\"formatter\":{\"id\":\"5044\"},\"group\":null,\"major_label_policy\":{\"id\":\"5045\"},\"ticker\":{\"id\":\"5024\"}},\"id\":\"5023\",\"type\":\"LinearAxis\"},{\"attributes\":{\"axis\":{\"id\":\"5019\"},\"coordinates\":null,\"grid_line_color\":null,\"group\":null,\"ticker\":null},\"id\":\"5022\",\"type\":\"Grid\"},{\"attributes\":{},\"id\":\"5056\",\"type\":\"Selection\"},{\"attributes\":{\"end\":33091.1,\"reset_end\":33091.1,\"reset_start\":18569.9,\"start\":18569.9,\"tags\":[[[\"Number of Suicides\",\"Number of Suicides\",null]]]},\"id\":\"5007\",\"type\":\"Range1d\"},{\"attributes\":{\"data\":{\"Number of Suicides\":[23257,25484,23663,22676,21013,20002,19780,20756,20353,20744,21249,21967,23280,31458,31115,29989,29132,29715,31881,30034,30369,29769,30665,30073,30523,29411,28766,26338,25991,24357,23092],\"Number_of_Suicides\":[23257,25484,23663,22676,21013,20002,19780,20756,20353,20744,21249,21967,23280,31458,31115,29989,29132,29715,31881,30034,30369,29769,30665,30073,30523,29411,28766,26338,25991,24357,23092],\"Year\":[1985,1986,1987,1988,1989,1990,1991,1992,1993,1994,1995,1996,1997,1998,1999,2000,2001,2002,2003,2004,2005,2006,2007,2008,2009,2010,2011,2012,2013,2014,2015]},\"selected\":{\"id\":\"5056\"},\"selection_policy\":{\"id\":\"5073\"}},\"id\":\"5055\",\"type\":\"ColumnDataSource\"},{\"attributes\":{\"below\":[{\"id\":\"5019\"}],\"center\":[{\"id\":\"5022\"},{\"id\":\"5026\"}],\"height\":450,\"left\":[{\"id\":\"5023\"}],\"margin\":[5,5,5,5],\"min_border_bottom\":10,\"min_border_left\":10,\"min_border_right\":10,\"min_border_top\":10,\"renderers\":[{\"id\":\"5052\"},{\"id\":\"5061\"}],\"sizing_mode\":\"fixed\",\"title\":{\"id\":\"5011\"},\"toolbar\":{\"id\":\"5033\"},\"width\":800,\"x_range\":{\"id\":\"5006\"},\"x_scale\":{\"id\":\"5015\"},\"y_range\":{\"id\":\"5007\"},\"y_scale\":{\"id\":\"5017\"}},\"id\":\"5010\",\"subtype\":\"Figure\",\"type\":\"Plot\"},{\"attributes\":{\"axis\":{\"id\":\"5023\"},\"coordinates\":null,\"dimension\":1,\"grid_line_color\":null,\"group\":null,\"ticker\":null},\"id\":\"5026\",\"type\":\"Grid\"},{\"attributes\":{\"line_color\":\"#30a2da\",\"line_width\":2,\"x\":{\"field\":\"Year\"},\"y\":{\"field\":\"Number of Suicides\"}},\"id\":\"5049\",\"type\":\"Line\"},{\"attributes\":{\"margin\":[5,5,5,5],\"name\":\"HSpacer08923\",\"sizing_mode\":\"stretch_width\"},\"id\":\"5076\",\"type\":\"Spacer\"},{\"attributes\":{},\"id\":\"5041\",\"type\":\"BasicTickFormatter\"},{\"attributes\":{\"source\":{\"id\":\"5046\"}},\"id\":\"5053\",\"type\":\"CDSView\"},{\"attributes\":{\"line_alpha\":0.2,\"line_color\":\"#30a2da\",\"line_width\":2,\"x\":{\"field\":\"Year\"},\"y\":{\"field\":\"Number of Suicides\"}},\"id\":\"5051\",\"type\":\"Line\"},{\"attributes\":{},\"id\":\"5047\",\"type\":\"Selection\"},{\"attributes\":{\"children\":[{\"id\":\"5005\"},{\"id\":\"5010\"},{\"id\":\"5076\"}],\"margin\":[0,0,0,0],\"name\":\"Row08918\",\"tags\":[\"embedded\"]},\"id\":\"5004\",\"type\":\"Row\"},{\"attributes\":{\"margin\":[5,5,5,5],\"name\":\"HSpacer08922\",\"sizing_mode\":\"stretch_width\"},\"id\":\"5005\",\"type\":\"Spacer\"},{\"attributes\":{},\"id\":\"5073\",\"type\":\"UnionRenderers\"},{\"attributes\":{\"line_alpha\":0.1,\"line_color\":\"#30a2da\",\"line_width\":2,\"x\":{\"field\":\"Year\"},\"y\":{\"field\":\"Number of Suicides\"}},\"id\":\"5050\",\"type\":\"Line\"},{\"attributes\":{\"tools\":[{\"id\":\"5008\"},{\"id\":\"5027\"},{\"id\":\"5028\"},{\"id\":\"5029\"},{\"id\":\"5030\"},{\"id\":\"5031\"}]},\"id\":\"5033\",\"type\":\"Toolbar\"},{\"attributes\":{\"source\":{\"id\":\"5055\"}},\"id\":\"5062\",\"type\":\"CDSView\"},{\"attributes\":{\"angle\":{\"value\":0.0},\"fill_alpha\":{\"value\":1.0},\"fill_color\":{\"value\":\"#000000\"},\"hatch_alpha\":{\"value\":1.0},\"hatch_color\":{\"value\":\"#000000\"},\"hatch_scale\":{\"value\":12.0},\"hatch_weight\":{\"value\":1.0},\"line_alpha\":{\"value\":1.0},\"line_cap\":{\"value\":\"butt\"},\"line_color\":{\"value\":\"#000000\"},\"line_dash\":{\"value\":[]},\"line_dash_offset\":{\"value\":0},\"line_join\":{\"value\":\"bevel\"},\"line_width\":{\"value\":1},\"marker\":{\"value\":\"circle\"},\"size\":{\"value\":5.477225575051661},\"x\":{\"field\":\"Year\"},\"y\":{\"field\":\"Number of Suicides\"}},\"id\":\"5063\",\"type\":\"Scatter\"},{\"attributes\":{},\"id\":\"5071\",\"type\":\"UnionRenderers\"},{\"attributes\":{\"bottom_units\":\"screen\",\"coordinates\":null,\"fill_alpha\":0.5,\"fill_color\":\"lightgrey\",\"group\":null,\"left_units\":\"screen\",\"level\":\"overlay\",\"line_alpha\":1.0,\"line_color\":\"black\",\"line_dash\":[4,4],\"line_width\":2,\"right_units\":\"screen\",\"syncable\":false,\"top_units\":\"screen\"},\"id\":\"5032\",\"type\":\"BoxAnnotation\"},{\"attributes\":{\"callback\":null,\"renderers\":[{\"id\":\"5052\"},{\"id\":\"5061\"}],\"tags\":[\"hv_created\"],\"tooltips\":[[\"Year\",\"@{Year}\"],[\"Number of Suicides\",\"@{Number_of_Suicides}\"]]},\"id\":\"5008\",\"type\":\"HoverTool\"},{\"attributes\":{},\"id\":\"5027\",\"type\":\"SaveTool\"},{\"attributes\":{},\"id\":\"5028\",\"type\":\"PanTool\"},{\"attributes\":{},\"id\":\"5042\",\"type\":\"AllLabels\"},{\"attributes\":{},\"id\":\"5031\",\"type\":\"ResetTool\"},{\"attributes\":{},\"id\":\"5029\",\"type\":\"WheelZoomTool\"},{\"attributes\":{\"fill_color\":{\"value\":\"#000000\"},\"hatch_color\":{\"value\":\"#000000\"},\"line_color\":{\"value\":\"#000000\"},\"size\":{\"value\":5.477225575051661},\"x\":{\"field\":\"Year\"},\"y\":{\"field\":\"Number of Suicides\"}},\"id\":\"5058\",\"type\":\"Scatter\"},{\"attributes\":{\"overlay\":{\"id\":\"5032\"}},\"id\":\"5030\",\"type\":\"BoxZoomTool\"},{\"attributes\":{},\"id\":\"5015\",\"type\":\"LinearScale\"},{\"attributes\":{\"coordinates\":null,\"data_source\":{\"id\":\"5055\"},\"glyph\":{\"id\":\"5058\"},\"group\":null,\"hover_glyph\":null,\"muted_glyph\":{\"id\":\"5060\"},\"nonselection_glyph\":{\"id\":\"5059\"},\"selection_glyph\":{\"id\":\"5063\"},\"view\":{\"id\":\"5062\"}},\"id\":\"5061\",\"type\":\"GlyphRenderer\"},{\"attributes\":{},\"id\":\"5045\",\"type\":\"AllLabels\"},{\"attributes\":{},\"id\":\"5017\",\"type\":\"LinearScale\"},{\"attributes\":{},\"id\":\"5044\",\"type\":\"BasicTickFormatter\"},{\"attributes\":{\"axis_label\":\"Year\",\"coordinates\":null,\"formatter\":{\"id\":\"5041\"},\"group\":null,\"major_label_orientation\":0.7853981633974483,\"major_label_policy\":{\"id\":\"5042\"},\"ticker\":{\"id\":\"5020\"}},\"id\":\"5019\",\"type\":\"LinearAxis\"},{\"attributes\":{\"coordinates\":null,\"group\":null,\"text_color\":\"black\",\"text_font_size\":\"12pt\"},\"id\":\"5011\",\"type\":\"Title\"},{\"attributes\":{\"data\":{\"Number of Suicides\":[23257,25484,23663,22676,21013,20002,19780,20756,20353,20744,21249,21967,23280,31458,31115,29989,29132,29715,31881,30034,30369,29769,30665,30073,30523,29411,28766,26338,25991,24357,23092],\"Number_of_Suicides\":[23257,25484,23663,22676,21013,20002,19780,20756,20353,20744,21249,21967,23280,31458,31115,29989,29132,29715,31881,30034,30369,29769,30665,30073,30523,29411,28766,26338,25991,24357,23092],\"Year\":[1985,1986,1987,1988,1989,1990,1991,1992,1993,1994,1995,1996,1997,1998,1999,2000,2001,2002,2003,2004,2005,2006,2007,2008,2009,2010,2011,2012,2013,2014,2015]},\"selected\":{\"id\":\"5047\"},\"selection_policy\":{\"id\":\"5071\"}},\"id\":\"5046\",\"type\":\"ColumnDataSource\"},{\"attributes\":{\"coordinates\":null,\"data_source\":{\"id\":\"5046\"},\"glyph\":{\"id\":\"5049\"},\"group\":null,\"hover_glyph\":null,\"muted_glyph\":{\"id\":\"5051\"},\"nonselection_glyph\":{\"id\":\"5050\"},\"selection_glyph\":{\"id\":\"5054\"},\"view\":{\"id\":\"5053\"}},\"id\":\"5052\",\"type\":\"GlyphRenderer\"}],\"root_ids\":[\"5004\"]},\"title\":\"Bokeh Application\",\"version\":\"2.4.3\"}};\n",
       "    var render_items = [{\"docid\":\"cf66783c-4cc9-4352-9217-703346fd0dd6\",\"root_ids\":[\"5004\"],\"roots\":{\"5004\":\"cf8e3046-0810-446b-8f65-427f6f784e1a\"}}];\n",
       "    root.Bokeh.embed.embed_items_notebook(docs_json, render_items);\n",
       "  }\n",
       "  if (root.Bokeh !== undefined && root.Bokeh.Panel !== undefined) {\n",
       "    embed_document(root);\n",
       "  } else {\n",
       "    var attempts = 0;\n",
       "    var timer = setInterval(function(root) {\n",
       "      if (root.Bokeh !== undefined && root.Bokeh.Panel !== undefined) {\n",
       "        clearInterval(timer);\n",
       "        embed_document(root);\n",
       "      } else if (document.readyState == \"complete\") {\n",
       "        attempts++;\n",
       "        if (attempts > 200) {\n",
       "          clearInterval(timer);\n",
       "          console.log(\"Bokeh: ERROR: Unable to run BokehJS code because BokehJS library is missing\");\n",
       "        }\n",
       "      }\n",
       "    }, 25, root)\n",
       "  }\n",
       "})(window);</script>"
      ],
      "text/plain": [
       ":Overlay\n",
       "   .Curve.I   :Curve   [Year]   (Number of Suicides)\n",
       "   .Scatter.I :Scatter   [Year]   (Number of Suicides)"
      ]
     },
     "execution_count": 40,
     "metadata": {
      "application/vnd.holoviews_exec.v0+json": {
       "id": "5004"
      }
     },
     "output_type": "execute_result"
    }
   ],
   "source": [
    "japan_suicides_total.hvplot(x=\"Year\", y=\"Number of Suicides\", rot=45).opts(\n",
    "    height=450, width=800\n",
    ") * japan_suicides_total.hvplot.scatter(\n",
    "    x=\"Year\", y=\"Number of Suicides\", rot=45, c=\"k\"\n",
    ").opts(\n",
    "    height=450, width=800\n",
    ")"
   ]
  },
  {
   "cell_type": "code",
   "execution_count": 41,
   "metadata": {},
   "outputs": [
    {
     "data": {},
     "metadata": {},
     "output_type": "display_data"
    },
    {
     "data": {
      "application/vnd.holoviews_exec.v0+json": "",
      "text/html": [
       "<div id='5138'>\n",
       "  <div class=\"bk-root\" id=\"a33076de-71a8-4176-b10b-ac2f1820b823\" data-root-id=\"5138\"></div>\n",
       "</div>\n",
       "<script type=\"application/javascript\">(function(root) {\n",
       "  function embed_document(root) {\n",
       "    var docs_json = {\"74b3e7f6-ce57-449b-9b54-3d1483c32947\":{\"defs\":[{\"extends\":null,\"module\":null,\"name\":\"ReactiveHTML1\",\"overrides\":[],\"properties\":[]},{\"extends\":null,\"module\":null,\"name\":\"FlexBox1\",\"overrides\":[],\"properties\":[{\"default\":\"flex-start\",\"kind\":null,\"name\":\"align_content\"},{\"default\":\"flex-start\",\"kind\":null,\"name\":\"align_items\"},{\"default\":\"row\",\"kind\":null,\"name\":\"flex_direction\"},{\"default\":\"wrap\",\"kind\":null,\"name\":\"flex_wrap\"},{\"default\":\"flex-start\",\"kind\":null,\"name\":\"justify_content\"}]},{\"extends\":null,\"module\":null,\"name\":\"GridStack1\",\"overrides\":[],\"properties\":[{\"default\":\"warn\",\"kind\":null,\"name\":\"mode\"},{\"default\":null,\"kind\":null,\"name\":\"ncols\"},{\"default\":null,\"kind\":null,\"name\":\"nrows\"},{\"default\":true,\"kind\":null,\"name\":\"allow_resize\"},{\"default\":true,\"kind\":null,\"name\":\"allow_drag\"},{\"default\":[],\"kind\":null,\"name\":\"state\"}]},{\"extends\":null,\"module\":null,\"name\":\"click1\",\"overrides\":[],\"properties\":[{\"default\":\"\",\"kind\":null,\"name\":\"terminal_output\"},{\"default\":\"\",\"kind\":null,\"name\":\"debug_name\"},{\"default\":0,\"kind\":null,\"name\":\"clears\"}]},{\"extends\":null,\"module\":null,\"name\":\"NotificationAreaBase1\",\"overrides\":[],\"properties\":[{\"default\":\"bottom-right\",\"kind\":null,\"name\":\"position\"},{\"default\":0,\"kind\":null,\"name\":\"_clear\"}]},{\"extends\":null,\"module\":null,\"name\":\"NotificationArea1\",\"overrides\":[],\"properties\":[{\"default\":[],\"kind\":null,\"name\":\"notifications\"},{\"default\":\"bottom-right\",\"kind\":null,\"name\":\"position\"},{\"default\":0,\"kind\":null,\"name\":\"_clear\"},{\"default\":[{\"background\":\"#ffc107\",\"icon\":{\"className\":\"fas fa-exclamation-triangle\",\"color\":\"white\",\"tagName\":\"i\"},\"type\":\"warning\"},{\"background\":\"#007bff\",\"icon\":{\"className\":\"fas fa-info-circle\",\"color\":\"white\",\"tagName\":\"i\"},\"type\":\"info\"}],\"kind\":null,\"name\":\"types\"}]},{\"extends\":null,\"module\":null,\"name\":\"Notification\",\"overrides\":[],\"properties\":[{\"default\":null,\"kind\":null,\"name\":\"background\"},{\"default\":3000,\"kind\":null,\"name\":\"duration\"},{\"default\":null,\"kind\":null,\"name\":\"icon\"},{\"default\":\"\",\"kind\":null,\"name\":\"message\"},{\"default\":null,\"kind\":null,\"name\":\"notification_type\"},{\"default\":false,\"kind\":null,\"name\":\"_destroyed\"}]},{\"extends\":null,\"module\":null,\"name\":\"TemplateActions1\",\"overrides\":[],\"properties\":[{\"default\":0,\"kind\":null,\"name\":\"open_modal\"},{\"default\":0,\"kind\":null,\"name\":\"close_modal\"}]},{\"extends\":null,\"module\":null,\"name\":\"MaterialTemplateActions1\",\"overrides\":[],\"properties\":[{\"default\":0,\"kind\":null,\"name\":\"open_modal\"},{\"default\":0,\"kind\":null,\"name\":\"close_modal\"}]}],\"roots\":{\"references\":[{\"attributes\":{\"end\":2022.5428571428572,\"reset_end\":2022.5428571428572,\"reset_start\":1983.4571428571428,\"start\":1983.4571428571428,\"tags\":[[[\"Year\",\"Year\",null]]]},\"id\":\"5140\",\"type\":\"Range1d\"},{\"attributes\":{\"tools\":[{\"id\":\"5142\"},{\"id\":\"5143\"},{\"id\":\"5161\"},{\"id\":\"5162\"},{\"id\":\"5163\"},{\"id\":\"5164\"},{\"id\":\"5165\"}]},\"id\":\"5167\",\"type\":\"Toolbar\"},{\"attributes\":{\"axis\":{\"id\":\"5153\"},\"coordinates\":null,\"grid_line_color\":null,\"group\":null,\"ticker\":null},\"id\":\"5156\",\"type\":\"Grid\"},{\"attributes\":{},\"id\":\"5158\",\"type\":\"BasicTicker\"},{\"attributes\":{},\"id\":\"5176\",\"type\":\"BasicTickFormatter\"},{\"attributes\":{\"end\":50522.951066856345,\"reset_end\":50522.951066856345,\"reset_start\":23727.538264580235,\"start\":23727.538264580235,\"tags\":[[[\"Number of Suicides\",\"Number of Suicides\",null]]]},\"id\":\"5141\",\"type\":\"Range1d\"},{\"attributes\":{\"axis_label\":\"Number of Suicides\",\"coordinates\":null,\"formatter\":{\"id\":\"5179\"},\"group\":null,\"major_label_policy\":{\"id\":\"5180\"},\"ticker\":{\"id\":\"5158\"}},\"id\":\"5157\",\"type\":\"LinearAxis\"},{\"attributes\":{\"fill_alpha\":{\"value\":0.1},\"fill_color\":{\"value\":\"#30a2da\"},\"hatch_alpha\":{\"value\":0.1},\"hatch_color\":{\"value\":\"#30a2da\"},\"line_alpha\":{\"value\":0.1},\"line_color\":{\"value\":\"#30a2da\"},\"size\":{\"value\":5.477225575051661},\"x\":{\"field\":\"Year\"},\"y\":{\"field\":\"Number of Suicides\"}},\"id\":\"5185\",\"type\":\"Scatter\"},{\"attributes\":{},\"id\":\"5191\",\"type\":\"Selection\"},{\"attributes\":{\"coordinates\":null,\"data_source\":{\"id\":\"5190\"},\"glyph\":{\"id\":\"5193\"},\"group\":null,\"hover_glyph\":null,\"muted_glyph\":{\"id\":\"5195\"},\"nonselection_glyph\":{\"id\":\"5194\"},\"selection_glyph\":{\"id\":\"5198\"},\"view\":{\"id\":\"5197\"}},\"id\":\"5196\",\"type\":\"GlyphRenderer\"},{\"attributes\":{\"axis\":{\"id\":\"5157\"},\"coordinates\":null,\"dimension\":1,\"grid_line_color\":null,\"group\":null,\"ticker\":null},\"id\":\"5160\",\"type\":\"Grid\"},{\"attributes\":{\"line_color\":\"red\",\"line_width\":2,\"x\":{\"field\":\"Year\"},\"y\":{\"field\":\"Predicted Suicides\"}},\"id\":\"5193\",\"type\":\"Line\"},{\"attributes\":{\"data\":{\"Number of Suicides\":[29446,30892,30783,30388,30218,30895,30790,30471,31084,31123,31272,30879,30517,30558,29183,29343,30607,31645,31477,32428,32629,33292,34596,36030,36900,38362,39508,40596,41143,42721,44159,44925,47126,48290,47467,45941,48137],\"Number_of_Suicides\":[29446,30892,30783,30388,30218,30895,30790,30471,31084,31123,31272,30879,30517,30558,29183,29343,30607,31645,31477,32428,32629,33292,34596,36030,36900,38362,39508,40596,41143,42721,44159,44925,47126,48290,47467,45941,48137],\"Year\":[1985,1986,1987,1988,1989,1990,1991,1992,1993,1994,1995,1996,1997,1998,1999,2000,2001,2002,2003,2004,2005,2006,2007,2008,2009,2010,2011,2012,2013,2014,2015,2016,2017,2018,2019,2020,2021]},\"selected\":{\"id\":\"5182\"},\"selection_policy\":{\"id\":\"5206\"}},\"id\":\"5181\",\"type\":\"ColumnDataSource\"},{\"attributes\":{\"callback\":null,\"renderers\":[{\"id\":\"5187\"}],\"tags\":[\"hv_created\"],\"tooltips\":[[\"Year\",\"@{Year}\"],[\"Number of Suicides\",\"@{Number_of_Suicides}\"]]},\"id\":\"5142\",\"type\":\"HoverTool\"},{\"attributes\":{\"angle\":{\"value\":0.0},\"fill_alpha\":{\"value\":1.0},\"fill_color\":{\"value\":\"#30a2da\"},\"hatch_alpha\":{\"value\":1.0},\"hatch_color\":{\"value\":\"#30a2da\"},\"hatch_scale\":{\"value\":12.0},\"hatch_weight\":{\"value\":1.0},\"line_alpha\":{\"value\":1.0},\"line_cap\":{\"value\":\"butt\"},\"line_color\":{\"value\":\"#30a2da\"},\"line_dash\":{\"value\":[]},\"line_dash_offset\":{\"value\":0},\"line_join\":{\"value\":\"bevel\"},\"line_width\":{\"value\":1},\"marker\":{\"value\":\"circle\"},\"size\":{\"value\":5.477225575051661},\"x\":{\"field\":\"Year\"},\"y\":{\"field\":\"Number of Suicides\"}},\"id\":\"5189\",\"type\":\"Scatter\"},{\"attributes\":{\"coordinates\":null,\"data_source\":{\"id\":\"5181\"},\"glyph\":{\"id\":\"5184\"},\"group\":null,\"hover_glyph\":null,\"muted_glyph\":{\"id\":\"5186\"},\"nonselection_glyph\":{\"id\":\"5185\"},\"selection_glyph\":{\"id\":\"5189\"},\"view\":{\"id\":\"5188\"}},\"id\":\"5187\",\"type\":\"GlyphRenderer\"},{\"attributes\":{\"line_color\":\"red\",\"line_width\":2,\"x\":{\"field\":\"Year\"},\"y\":{\"field\":\"Predicted Suicides\"}},\"id\":\"5198\",\"type\":\"Line\"},{\"attributes\":{\"callback\":null,\"renderers\":[{\"id\":\"5196\"}],\"tags\":[\"hv_created\"],\"tooltips\":[[\"Year\",\"@{Year}\"],[\"Predicted Suicides\",\"@{Predicted_Suicides}\"]]},\"id\":\"5143\",\"type\":\"HoverTool\"},{\"attributes\":{\"children\":[{\"id\":\"5139\"},{\"id\":\"5144\"},{\"id\":\"5211\"}],\"margin\":[0,0,0,0],\"name\":\"Row09135\",\"tags\":[\"embedded\"]},\"id\":\"5138\",\"type\":\"Row\"},{\"attributes\":{\"bottom_units\":\"screen\",\"coordinates\":null,\"fill_alpha\":0.5,\"fill_color\":\"lightgrey\",\"group\":null,\"left_units\":\"screen\",\"level\":\"overlay\",\"line_alpha\":1.0,\"line_color\":\"black\",\"line_dash\":[4,4],\"line_width\":2,\"right_units\":\"screen\",\"syncable\":false,\"top_units\":\"screen\"},\"id\":\"5166\",\"type\":\"BoxAnnotation\"},{\"attributes\":{\"margin\":[5,5,5,5],\"name\":\"HSpacer09140\",\"sizing_mode\":\"stretch_width\"},\"id\":\"5211\",\"type\":\"Spacer\"},{\"attributes\":{\"coordinates\":null,\"group\":null,\"text_color\":\"black\",\"text_font_size\":\"12pt\"},\"id\":\"5145\",\"type\":\"Title\"},{\"attributes\":{\"source\":{\"id\":\"5181\"}},\"id\":\"5188\",\"type\":\"CDSView\"},{\"attributes\":{},\"id\":\"5161\",\"type\":\"SaveTool\"},{\"attributes\":{\"line_alpha\":0.1,\"line_color\":\"red\",\"line_width\":2,\"x\":{\"field\":\"Year\"},\"y\":{\"field\":\"Predicted Suicides\"}},\"id\":\"5194\",\"type\":\"Line\"},{\"attributes\":{},\"id\":\"5162\",\"type\":\"PanTool\"},{\"attributes\":{},\"id\":\"5206\",\"type\":\"UnionRenderers\"},{\"attributes\":{\"overlay\":{\"id\":\"5166\"}},\"id\":\"5164\",\"type\":\"BoxZoomTool\"},{\"attributes\":{},\"id\":\"5154\",\"type\":\"BasicTicker\"},{\"attributes\":{\"fill_color\":{\"value\":\"#30a2da\"},\"hatch_color\":{\"value\":\"#30a2da\"},\"line_color\":{\"value\":\"#30a2da\"},\"size\":{\"value\":5.477225575051661},\"x\":{\"field\":\"Year\"},\"y\":{\"field\":\"Number of Suicides\"}},\"id\":\"5184\",\"type\":\"Scatter\"},{\"attributes\":{},\"id\":\"5163\",\"type\":\"WheelZoomTool\"},{\"attributes\":{},\"id\":\"5177\",\"type\":\"AllLabels\"},{\"attributes\":{\"line_alpha\":0.2,\"line_color\":\"red\",\"line_width\":2,\"x\":{\"field\":\"Year\"},\"y\":{\"field\":\"Predicted Suicides\"}},\"id\":\"5195\",\"type\":\"Line\"},{\"attributes\":{},\"id\":\"5208\",\"type\":\"UnionRenderers\"},{\"attributes\":{\"data\":{\"Predicted Suicides\":{\"__ndarray__\":\"QM00UR9a2UCAxsydfN/ZQMC/ZOrZZNpAwLj8Njfq2kAAspSDlG/bQECrLNDx9NtAgKTEHE963EDAnVxprP/cQACX9LUJhd1AAJCMAmcK3kBAiSRPxI/eQICCvJshFd9AwHtU6H6a30CAOnYa7g/gQAA3wsCcUuBAoDMOZ0uV4EBAMFoN+tfgQOAsprOoGuFAgCnyWVdd4UAAJj4ABqDhQKAiiqa04uFAQB/WTGMl4kDgGyLzEWjiQIAYbpnAquJAABW6P2/t4kCgEQbmHTDjQEAOUozMcuNA4AqeMnu140CAB+rYKfjjQAAENn/YOuRAoACCJYd95EBA/c3LNcDkQOD5GXLkAuVAgPZlGJNF5UAg87G+QYjlQKDv/WTwyuVAQOxJC58N5kA=\",\"dtype\":\"float64\",\"order\":\"little\",\"shape\":[37]},\"Predicted_Suicides\":{\"__ndarray__\":\"QM00UR9a2UCAxsydfN/ZQMC/ZOrZZNpAwLj8Njfq2kAAspSDlG/bQECrLNDx9NtAgKTEHE963EDAnVxprP/cQACX9LUJhd1AAJCMAmcK3kBAiSRPxI/eQICCvJshFd9AwHtU6H6a30CAOnYa7g/gQAA3wsCcUuBAoDMOZ0uV4EBAMFoN+tfgQOAsprOoGuFAgCnyWVdd4UAAJj4ABqDhQKAiiqa04uFAQB/WTGMl4kDgGyLzEWjiQIAYbpnAquJAABW6P2/t4kCgEQbmHTDjQEAOUozMcuNA4AqeMnu140CAB+rYKfjjQAAENn/YOuRAoACCJYd95EBA/c3LNcDkQOD5GXLkAuVAgPZlGJNF5UAg87G+QYjlQKDv/WTwyuVAQOxJC58N5kA=\",\"dtype\":\"float64\",\"order\":\"little\",\"shape\":[37]},\"Year\":[1985,1986,1987,1988,1989,1990,1991,1992,1993,1994,1995,1996,1997,1998,1999,2000,2001,2002,2003,2004,2005,2006,2007,2008,2009,2010,2011,2012,2013,2014,2015,2016,2017,2018,2019,2020,2021]},\"selected\":{\"id\":\"5191\"},\"selection_policy\":{\"id\":\"5208\"}},\"id\":\"5190\",\"type\":\"ColumnDataSource\"},{\"attributes\":{\"source\":{\"id\":\"5190\"}},\"id\":\"5197\",\"type\":\"CDSView\"},{\"attributes\":{},\"id\":\"5182\",\"type\":\"Selection\"},{\"attributes\":{\"margin\":[5,5,5,5],\"name\":\"HSpacer09139\",\"sizing_mode\":\"stretch_width\"},\"id\":\"5139\",\"type\":\"Spacer\"},{\"attributes\":{},\"id\":\"5180\",\"type\":\"AllLabels\"},{\"attributes\":{\"axis_label\":\"Year\",\"coordinates\":null,\"formatter\":{\"id\":\"5176\"},\"group\":null,\"major_label_orientation\":0.6457718232379019,\"major_label_policy\":{\"id\":\"5177\"},\"ticker\":{\"id\":\"5154\"}},\"id\":\"5153\",\"type\":\"LinearAxis\"},{\"attributes\":{},\"id\":\"5179\",\"type\":\"BasicTickFormatter\"},{\"attributes\":{},\"id\":\"5149\",\"type\":\"LinearScale\"},{\"attributes\":{},\"id\":\"5165\",\"type\":\"ResetTool\"},{\"attributes\":{\"below\":[{\"id\":\"5153\"}],\"center\":[{\"id\":\"5156\"},{\"id\":\"5160\"}],\"height\":300,\"left\":[{\"id\":\"5157\"}],\"margin\":[5,5,5,5],\"min_border_bottom\":10,\"min_border_left\":10,\"min_border_right\":10,\"min_border_top\":10,\"renderers\":[{\"id\":\"5187\"},{\"id\":\"5196\"}],\"sizing_mode\":\"fixed\",\"title\":{\"id\":\"5145\"},\"toolbar\":{\"id\":\"5167\"},\"width\":700,\"x_range\":{\"id\":\"5140\"},\"x_scale\":{\"id\":\"5149\"},\"y_range\":{\"id\":\"5141\"},\"y_scale\":{\"id\":\"5151\"}},\"id\":\"5144\",\"subtype\":\"Figure\",\"type\":\"Plot\"},{\"attributes\":{\"fill_alpha\":{\"value\":0.2},\"fill_color\":{\"value\":\"#30a2da\"},\"hatch_alpha\":{\"value\":0.2},\"hatch_color\":{\"value\":\"#30a2da\"},\"line_alpha\":{\"value\":0.2},\"line_color\":{\"value\":\"#30a2da\"},\"size\":{\"value\":5.477225575051661},\"x\":{\"field\":\"Year\"},\"y\":{\"field\":\"Number of Suicides\"}},\"id\":\"5186\",\"type\":\"Scatter\"},{\"attributes\":{},\"id\":\"5151\",\"type\":\"LinearScale\"}],\"root_ids\":[\"5138\"]},\"title\":\"Bokeh Application\",\"version\":\"2.4.3\"}};\n",
       "    var render_items = [{\"docid\":\"74b3e7f6-ce57-449b-9b54-3d1483c32947\",\"root_ids\":[\"5138\"],\"roots\":{\"5138\":\"a33076de-71a8-4176-b10b-ac2f1820b823\"}}];\n",
       "    root.Bokeh.embed.embed_items_notebook(docs_json, render_items);\n",
       "  }\n",
       "  if (root.Bokeh !== undefined && root.Bokeh.Panel !== undefined) {\n",
       "    embed_document(root);\n",
       "  } else {\n",
       "    var attempts = 0;\n",
       "    var timer = setInterval(function(root) {\n",
       "      if (root.Bokeh !== undefined && root.Bokeh.Panel !== undefined) {\n",
       "        clearInterval(timer);\n",
       "        embed_document(root);\n",
       "      } else if (document.readyState == \"complete\") {\n",
       "        attempts++;\n",
       "        if (attempts > 200) {\n",
       "          clearInterval(timer);\n",
       "          console.log(\"Bokeh: ERROR: Unable to run BokehJS code because BokehJS library is missing\");\n",
       "        }\n",
       "      }\n",
       "    }, 25, root)\n",
       "  }\n",
       "})(window);</script>"
      ],
      "text/plain": [
       ":Overlay\n",
       "   .Scatter.I :Scatter   [Year]   (Number of Suicides)\n",
       "   .Curve.I   :Curve   [Year]   (Predicted Suicides)"
      ]
     },
     "execution_count": 41,
     "metadata": {
      "application/vnd.holoviews_exec.v0+json": {
       "id": "5138"
      }
     },
     "output_type": "execute_result"
    }
   ],
   "source": [
    "# Separate the features (Year) and target (Number of Suicides)\n",
    "X = us_suicides_total[[\"Year\"]]\n",
    "y = us_suicides_total[\"Number of Suicides\"]\n",
    "\n",
    "# Create and fit a linear regression model\n",
    "model = LinearRegression()\n",
    "model.fit(X, y)\n",
    "\n",
    "# Generate predictions using the fitted model\n",
    "y_pred = model.predict(X)\n",
    "\n",
    "# Create scatter plots using hvPlot\n",
    "scatter_actual = us_suicides_total.hvplot.scatter(\n",
    "    x=\"Year\", y=\"Number of Suicides\", rot=37\n",
    ")\n",
    "scatter_predicted = pd.DataFrame(\n",
    "    {\"Year\": us_suicides_total[\"Year\"], \"Predicted Suicides\": y_pred}\n",
    ").hvplot.line(x=\"Year\", y=\"Predicted Suicides\", color=\"red\")\n",
    "\n",
    "# Combine the scatter plots\n",
    "scatter_actual * scatter_predicted"
   ]
  },
  {
   "cell_type": "code",
   "execution_count": 42,
   "metadata": {},
   "outputs": [],
   "source": [
    "metrics_988 = metrics_988.rename(columns={\"Unnamed: 0\": \"Month\"})\n",
    "metrics_988 = metrics_988.iloc[::-1]"
   ]
  },
  {
   "cell_type": "code",
   "execution_count": 53,
   "metadata": {},
   "outputs": [
    {
     "data": {},
     "metadata": {},
     "output_type": "display_data"
    },
    {
     "data": {
      "application/vnd.holoviews_exec.v0+json": "",
      "text/html": [
       "<div id='6059'>\n",
       "  <div class=\"bk-root\" id=\"efd8a3b0-36d5-4eb1-968e-22b1e53053e5\" data-root-id=\"6059\"></div>\n",
       "</div>\n",
       "<script type=\"application/javascript\">(function(root) {\n",
       "  function embed_document(root) {\n",
       "    var docs_json = {\"0f8a5e97-c825-4c3c-ad9a-5f3e8f2f250d\":{\"defs\":[{\"extends\":null,\"module\":null,\"name\":\"ReactiveHTML1\",\"overrides\":[],\"properties\":[]},{\"extends\":null,\"module\":null,\"name\":\"FlexBox1\",\"overrides\":[],\"properties\":[{\"default\":\"flex-start\",\"kind\":null,\"name\":\"align_content\"},{\"default\":\"flex-start\",\"kind\":null,\"name\":\"align_items\"},{\"default\":\"row\",\"kind\":null,\"name\":\"flex_direction\"},{\"default\":\"wrap\",\"kind\":null,\"name\":\"flex_wrap\"},{\"default\":\"flex-start\",\"kind\":null,\"name\":\"justify_content\"}]},{\"extends\":null,\"module\":null,\"name\":\"GridStack1\",\"overrides\":[],\"properties\":[{\"default\":\"warn\",\"kind\":null,\"name\":\"mode\"},{\"default\":null,\"kind\":null,\"name\":\"ncols\"},{\"default\":null,\"kind\":null,\"name\":\"nrows\"},{\"default\":true,\"kind\":null,\"name\":\"allow_resize\"},{\"default\":true,\"kind\":null,\"name\":\"allow_drag\"},{\"default\":[],\"kind\":null,\"name\":\"state\"}]},{\"extends\":null,\"module\":null,\"name\":\"click1\",\"overrides\":[],\"properties\":[{\"default\":\"\",\"kind\":null,\"name\":\"terminal_output\"},{\"default\":\"\",\"kind\":null,\"name\":\"debug_name\"},{\"default\":0,\"kind\":null,\"name\":\"clears\"}]},{\"extends\":null,\"module\":null,\"name\":\"NotificationAreaBase1\",\"overrides\":[],\"properties\":[{\"default\":\"bottom-right\",\"kind\":null,\"name\":\"position\"},{\"default\":0,\"kind\":null,\"name\":\"_clear\"}]},{\"extends\":null,\"module\":null,\"name\":\"NotificationArea1\",\"overrides\":[],\"properties\":[{\"default\":[],\"kind\":null,\"name\":\"notifications\"},{\"default\":\"bottom-right\",\"kind\":null,\"name\":\"position\"},{\"default\":0,\"kind\":null,\"name\":\"_clear\"},{\"default\":[{\"background\":\"#ffc107\",\"icon\":{\"className\":\"fas fa-exclamation-triangle\",\"color\":\"white\",\"tagName\":\"i\"},\"type\":\"warning\"},{\"background\":\"#007bff\",\"icon\":{\"className\":\"fas fa-info-circle\",\"color\":\"white\",\"tagName\":\"i\"},\"type\":\"info\"}],\"kind\":null,\"name\":\"types\"}]},{\"extends\":null,\"module\":null,\"name\":\"Notification\",\"overrides\":[],\"properties\":[{\"default\":null,\"kind\":null,\"name\":\"background\"},{\"default\":3000,\"kind\":null,\"name\":\"duration\"},{\"default\":null,\"kind\":null,\"name\":\"icon\"},{\"default\":\"\",\"kind\":null,\"name\":\"message\"},{\"default\":null,\"kind\":null,\"name\":\"notification_type\"},{\"default\":false,\"kind\":null,\"name\":\"_destroyed\"}]},{\"extends\":null,\"module\":null,\"name\":\"TemplateActions1\",\"overrides\":[],\"properties\":[{\"default\":0,\"kind\":null,\"name\":\"open_modal\"},{\"default\":0,\"kind\":null,\"name\":\"close_modal\"}]},{\"extends\":null,\"module\":null,\"name\":\"MaterialTemplateActions1\",\"overrides\":[],\"properties\":[{\"default\":0,\"kind\":null,\"name\":\"open_modal\"},{\"default\":0,\"kind\":null,\"name\":\"close_modal\"}]}],\"roots\":{\"references\":[{\"attributes\":{},\"id\":\"6100\",\"type\":\"BasicTickFormatter\"},{\"attributes\":{\"source\":{\"id\":\"6102\"}},\"id\":\"6109\",\"type\":\"CDSView\"},{\"attributes\":{\"callback\":null,\"renderers\":[{\"id\":\"6117\"}],\"tags\":[\"hv_created\"],\"tooltips\":[[\"Year\",\"@{Year}\"],[\"Predicted Suicides\",\"@{Predicted_Suicides}\"]]},\"id\":\"6064\",\"type\":\"HoverTool\"},{\"attributes\":{\"line_alpha\":0.2,\"line_color\":\"red\",\"line_width\":2,\"x\":{\"field\":\"Year\"},\"y\":{\"field\":\"Predicted Suicides\"}},\"id\":\"6116\",\"type\":\"Line\"},{\"attributes\":{\"angle\":{\"value\":0.0},\"fill_alpha\":{\"value\":1.0},\"fill_color\":{\"value\":\"#30a2da\"},\"hatch_alpha\":{\"value\":1.0},\"hatch_color\":{\"value\":\"#30a2da\"},\"hatch_scale\":{\"value\":12.0},\"hatch_weight\":{\"value\":1.0},\"line_alpha\":{\"value\":1.0},\"line_cap\":{\"value\":\"butt\"},\"line_color\":{\"value\":\"#30a2da\"},\"line_dash\":{\"value\":[]},\"line_dash_offset\":{\"value\":0},\"line_join\":{\"value\":\"bevel\"},\"line_width\":{\"value\":1},\"marker\":{\"value\":\"circle\"},\"size\":{\"value\":5.477225575051661},\"x\":{\"field\":\"Year\"},\"y\":{\"field\":\"Suicides per 100k\"}},\"id\":\"6110\",\"type\":\"Scatter\"},{\"attributes\":{\"fill_alpha\":{\"value\":0.1},\"fill_color\":{\"value\":\"#30a2da\"},\"hatch_alpha\":{\"value\":0.1},\"hatch_color\":{\"value\":\"#30a2da\"},\"line_alpha\":{\"value\":0.1},\"line_color\":{\"value\":\"#30a2da\"},\"size\":{\"value\":5.477225575051661},\"x\":{\"field\":\"Year\"},\"y\":{\"field\":\"Suicides per 100k\"}},\"id\":\"6106\",\"type\":\"Scatter\"},{\"attributes\":{},\"id\":\"6070\",\"type\":\"LinearScale\"},{\"attributes\":{\"bottom_units\":\"screen\",\"coordinates\":null,\"fill_alpha\":0.5,\"fill_color\":\"lightgrey\",\"group\":null,\"left_units\":\"screen\",\"level\":\"overlay\",\"line_alpha\":1.0,\"line_color\":\"black\",\"line_dash\":[4,4],\"line_width\":2,\"right_units\":\"screen\",\"syncable\":false,\"top_units\":\"screen\"},\"id\":\"6087\",\"type\":\"BoxAnnotation\"},{\"attributes\":{},\"id\":\"6082\",\"type\":\"SaveTool\"},{\"attributes\":{\"end\":2015.6857142857143,\"reset_end\":2015.6857142857143,\"reset_start\":1998.3142857142857,\"start\":1998.3142857142857,\"tags\":[[[\"Year\",\"Year\",null]]]},\"id\":\"6061\",\"type\":\"Range1d\"},{\"attributes\":{\"fill_color\":{\"value\":\"#30a2da\"},\"hatch_color\":{\"value\":\"#30a2da\"},\"line_color\":{\"value\":\"#30a2da\"},\"size\":{\"value\":5.477225575051661},\"x\":{\"field\":\"Year\"},\"y\":{\"field\":\"Suicides per 100k\"}},\"id\":\"6105\",\"type\":\"Scatter\"},{\"attributes\":{},\"id\":\"6083\",\"type\":\"PanTool\"},{\"attributes\":{\"overlay\":{\"id\":\"6087\"}},\"id\":\"6085\",\"type\":\"BoxZoomTool\"},{\"attributes\":{\"axis\":{\"id\":\"6074\"},\"coordinates\":null,\"grid_line_color\":null,\"group\":null,\"ticker\":null},\"id\":\"6077\",\"type\":\"Grid\"},{\"attributes\":{\"line_alpha\":0.1,\"line_color\":\"red\",\"line_width\":2,\"x\":{\"field\":\"Year\"},\"y\":{\"field\":\"Predicted Suicides\"}},\"id\":\"6115\",\"type\":\"Line\"},{\"attributes\":{},\"id\":\"6084\",\"type\":\"WheelZoomTool\"},{\"attributes\":{\"source\":{\"id\":\"6111\"}},\"id\":\"6118\",\"type\":\"CDSView\"},{\"attributes\":{\"coordinates\":null,\"data_source\":{\"id\":\"6102\"},\"glyph\":{\"id\":\"6105\"},\"group\":null,\"hover_glyph\":null,\"muted_glyph\":{\"id\":\"6107\"},\"nonselection_glyph\":{\"id\":\"6106\"},\"selection_glyph\":{\"id\":\"6110\"},\"view\":{\"id\":\"6109\"}},\"id\":\"6108\",\"type\":\"GlyphRenderer\"},{\"attributes\":{\"coordinates\":null,\"group\":null,\"text_color\":\"black\",\"text_font_size\":\"12pt\"},\"id\":\"6066\",\"type\":\"Title\"},{\"attributes\":{\"line_color\":\"red\",\"line_width\":2,\"x\":{\"field\":\"Year\"},\"y\":{\"field\":\"Predicted Suicides\"}},\"id\":\"6119\",\"type\":\"Line\"},{\"attributes\":{},\"id\":\"6101\",\"type\":\"AllLabels\"},{\"attributes\":{},\"id\":\"6098\",\"type\":\"AllLabels\"},{\"attributes\":{},\"id\":\"6086\",\"type\":\"ResetTool\"},{\"attributes\":{},\"id\":\"6079\",\"type\":\"BasicTicker\"},{\"attributes\":{\"tools\":[{\"id\":\"6063\"},{\"id\":\"6064\"},{\"id\":\"6082\"},{\"id\":\"6083\"},{\"id\":\"6084\"},{\"id\":\"6085\"},{\"id\":\"6086\"}]},\"id\":\"6088\",\"type\":\"Toolbar\"},{\"attributes\":{\"fill_alpha\":{\"value\":0.2},\"fill_color\":{\"value\":\"#30a2da\"},\"hatch_alpha\":{\"value\":0.2},\"hatch_color\":{\"value\":\"#30a2da\"},\"line_alpha\":{\"value\":0.2},\"line_color\":{\"value\":\"#30a2da\"},\"size\":{\"value\":5.477225575051661},\"x\":{\"field\":\"Year\"},\"y\":{\"field\":\"Suicides per 100k\"}},\"id\":\"6107\",\"type\":\"Scatter\"},{\"attributes\":{\"callback\":null,\"renderers\":[{\"id\":\"6108\"}],\"tags\":[\"hv_created\"],\"tooltips\":[[\"Year\",\"@{Year}\"],[\"Suicides per 100k\",\"@{Suicides_per_100k}\"]]},\"id\":\"6063\",\"type\":\"HoverTool\"},{\"attributes\":{},\"id\":\"6075\",\"type\":\"BasicTicker\"},{\"attributes\":{\"coordinates\":null,\"data_source\":{\"id\":\"6111\"},\"glyph\":{\"id\":\"6114\"},\"group\":null,\"hover_glyph\":null,\"muted_glyph\":{\"id\":\"6116\"},\"nonselection_glyph\":{\"id\":\"6115\"},\"selection_glyph\":{\"id\":\"6119\"},\"view\":{\"id\":\"6118\"}},\"id\":\"6117\",\"type\":\"GlyphRenderer\"},{\"attributes\":{\"data\":{\"Predicted Suicides\":{\"__ndarray__\":\"8LJ/TBm2YUBwPQrXo+thQADIlGEuIWJAkFIf7LhWYkAQ3al2Q4xiQKBnNAHOwWJAMPK+i1j3YkCwfEkW4yxjQEAH1KBtYmNA0JFeK/iXY0BQHOm1gs1jQOCmc0ANA2RAcDH+ypc4ZEDwu4hVIm5kQIBGE+Cso2RAENGdajfZZECQWyj1wQ5lQA==\",\"dtype\":\"float64\",\"order\":\"little\",\"shape\":[17]},\"Predicted_Suicides\":{\"__ndarray__\":\"8LJ/TBm2YUBwPQrXo+thQADIlGEuIWJAkFIf7LhWYkAQ3al2Q4xiQKBnNAHOwWJAMPK+i1j3YkCwfEkW4yxjQEAH1KBtYmNA0JFeK/iXY0BQHOm1gs1jQOCmc0ANA2RAcDH+ypc4ZEDwu4hVIm5kQIBGE+Cso2RAENGdajfZZECQWyj1wQ5lQA==\",\"dtype\":\"float64\",\"order\":\"little\",\"shape\":[17]},\"Year\":[1999,2000,2001,2002,2003,2004,2005,2006,2007,2008,2009,2010,2011,2012,2013,2014,2015]},\"selected\":{\"id\":\"6112\"},\"selection_policy\":{\"id\":\"6129\"}},\"id\":\"6111\",\"type\":\"ColumnDataSource\"},{\"attributes\":{},\"id\":\"6072\",\"type\":\"LinearScale\"},{\"attributes\":{},\"id\":\"6129\",\"type\":\"UnionRenderers\"},{\"attributes\":{\"axis_label\":\"Suicides per 100k\",\"coordinates\":null,\"formatter\":{\"id\":\"6100\"},\"group\":null,\"major_label_policy\":{\"id\":\"6101\"},\"ticker\":{\"id\":\"6079\"}},\"id\":\"6078\",\"type\":\"LinearAxis\"},{\"attributes\":{\"axis_label\":\"Year\",\"coordinates\":null,\"formatter\":{\"id\":\"6097\"},\"group\":null,\"major_label_orientation\":0.6457718232379019,\"major_label_policy\":{\"id\":\"6098\"},\"ticker\":{\"id\":\"6075\"}},\"id\":\"6074\",\"type\":\"LinearAxis\"},{\"attributes\":{},\"id\":\"6127\",\"type\":\"UnionRenderers\"},{\"attributes\":{\"children\":[{\"id\":\"6060\"},{\"id\":\"6065\"},{\"id\":\"6132\"}],\"margin\":[0,0,0,0],\"name\":\"Row10364\",\"tags\":[\"embedded\"]},\"id\":\"6059\",\"type\":\"Row\"},{\"attributes\":{\"end\":178.78194117647055,\"reset_end\":178.78194117647055,\"reset_start\":138.31864705882384,\"start\":138.31864705882384,\"tags\":[[[\"Suicides per 100k\",\"Suicides per 100k\",null]]]},\"id\":\"6062\",\"type\":\"Range1d\"},{\"attributes\":{\"margin\":[5,5,5,5],\"name\":\"HSpacer10368\",\"sizing_mode\":\"stretch_width\"},\"id\":\"6060\",\"type\":\"Spacer\"},{\"attributes\":{\"below\":[{\"id\":\"6074\"}],\"center\":[{\"id\":\"6077\"},{\"id\":\"6081\"}],\"height\":300,\"left\":[{\"id\":\"6078\"}],\"margin\":[5,5,5,5],\"min_border_bottom\":10,\"min_border_left\":10,\"min_border_right\":10,\"min_border_top\":10,\"renderers\":[{\"id\":\"6108\"},{\"id\":\"6117\"}],\"sizing_mode\":\"fixed\",\"title\":{\"id\":\"6066\"},\"toolbar\":{\"id\":\"6088\"},\"width\":700,\"x_range\":{\"id\":\"6061\"},\"x_scale\":{\"id\":\"6070\"},\"y_range\":{\"id\":\"6062\"},\"y_scale\":{\"id\":\"6072\"}},\"id\":\"6065\",\"subtype\":\"Figure\",\"type\":\"Plot\"},{\"attributes\":{\"margin\":[5,5,5,5],\"name\":\"HSpacer10369\",\"sizing_mode\":\"stretch_width\"},\"id\":\"6132\",\"type\":\"Spacer\"},{\"attributes\":{\"axis\":{\"id\":\"6078\"},\"coordinates\":null,\"dimension\":1,\"grid_line_color\":null,\"group\":null,\"ticker\":null},\"id\":\"6081\",\"type\":\"Grid\"},{\"attributes\":{},\"id\":\"6097\",\"type\":\"BasicTickFormatter\"},{\"attributes\":{},\"id\":\"6112\",\"type\":\"Selection\"},{\"attributes\":{\"data\":{\"Suicides per 100k\":{\"__ndarray__\":\"cT0K16PYYkDD9Shcj1JiQNejcD0Kh2JAcT0K16PAYkAUrkfhejRiQM3MzMzMXGJA9ihcj8JVYkBcj8L1KCRiQKRwPQrXo2JASOF6FK4nY0CuR+F6FEZjQBSuR+F63GNA7FG4HoVLZEAUrkfheqRkQD0K16Nw1WRAw/UoXI9qZUCF61G4Hu1lQA==\",\"dtype\":\"float64\",\"order\":\"little\",\"shape\":[17]},\"Suicides_per_100k\":{\"__ndarray__\":\"cT0K16PYYkDD9Shcj1JiQNejcD0Kh2JAcT0K16PAYkAUrkfhejRiQM3MzMzMXGJA9ihcj8JVYkBcj8L1KCRiQKRwPQrXo2JASOF6FK4nY0CuR+F6FEZjQBSuR+F63GNA7FG4HoVLZEAUrkfheqRkQD0K16Nw1WRAw/UoXI9qZUCF61G4Hu1lQA==\",\"dtype\":\"float64\",\"order\":\"little\",\"shape\":[17]},\"Year\":[1999,2000,2001,2002,2003,2004,2005,2006,2007,2008,2009,2010,2011,2012,2013,2014,2015]},\"selected\":{\"id\":\"6103\"},\"selection_policy\":{\"id\":\"6127\"}},\"id\":\"6102\",\"type\":\"ColumnDataSource\"},{\"attributes\":{},\"id\":\"6103\",\"type\":\"Selection\"},{\"attributes\":{\"line_color\":\"red\",\"line_width\":2,\"x\":{\"field\":\"Year\"},\"y\":{\"field\":\"Predicted Suicides\"}},\"id\":\"6114\",\"type\":\"Line\"}],\"root_ids\":[\"6059\"]},\"title\":\"Bokeh Application\",\"version\":\"2.4.3\"}};\n",
       "    var render_items = [{\"docid\":\"0f8a5e97-c825-4c3c-ad9a-5f3e8f2f250d\",\"root_ids\":[\"6059\"],\"roots\":{\"6059\":\"efd8a3b0-36d5-4eb1-968e-22b1e53053e5\"}}];\n",
       "    root.Bokeh.embed.embed_items_notebook(docs_json, render_items);\n",
       "  }\n",
       "  if (root.Bokeh !== undefined && root.Bokeh.Panel !== undefined) {\n",
       "    embed_document(root);\n",
       "  } else {\n",
       "    var attempts = 0;\n",
       "    var timer = setInterval(function(root) {\n",
       "      if (root.Bokeh !== undefined && root.Bokeh.Panel !== undefined) {\n",
       "        clearInterval(timer);\n",
       "        embed_document(root);\n",
       "      } else if (document.readyState == \"complete\") {\n",
       "        attempts++;\n",
       "        if (attempts > 200) {\n",
       "          clearInterval(timer);\n",
       "          console.log(\"Bokeh: ERROR: Unable to run BokehJS code because BokehJS library is missing\");\n",
       "        }\n",
       "      }\n",
       "    }, 25, root)\n",
       "  }\n",
       "})(window);</script>"
      ],
      "text/plain": [
       ":Overlay\n",
       "   .Scatter.I :Scatter   [Year]   (Suicides per 100k)\n",
       "   .Curve.I   :Curve   [Year]   (Predicted Suicides)"
      ]
     },
     "execution_count": 53,
     "metadata": {
      "application/vnd.holoviews_exec.v0+json": {
       "id": "6059"
      }
     },
     "output_type": "execute_result"
    }
   ],
   "source": [
    "X = us_suicide_rates_99_16[[\"Year\"]]\n",
    "y = us_suicide_rates_99_16[\"Suicides per 100k\"]\n",
    "\n",
    "# Create and fit a linear regression model\n",
    "model = LinearRegression()\n",
    "model.fit(X, y)\n",
    "\n",
    "# Generate predictions using the fitted model\n",
    "y_pred = model.predict(X)\n",
    "\n",
    "# Create scatter plots using hvPlot\n",
    "scatter_actual = us_suicide_rates_99_16.hvplot.scatter(\n",
    "    x=\"Year\", y=\"Suicides per 100k\", rot=37\n",
    ")\n",
    "scatter_predicted = pd.DataFrame(\n",
    "    {\"Year\": us_suicide_rates_99_16[\"Year\"], \"Predicted Suicides\": y_pred}\n",
    ").hvplot.line(x=\"Year\", y=\"Predicted Suicides\", color=\"red\")\n",
    "\n",
    "# Combine the scatter plots\n",
    "scatter_actual * scatter_predicted"
   ]
  }
 ],
 "metadata": {
  "kernelspec": {
   "display_name": "cainhurst",
   "language": "python",
   "name": "python3"
  },
  "language_info": {
   "codemirror_mode": {
    "name": "ipython",
    "version": 3
   },
   "file_extension": ".py",
   "mimetype": "text/x-python",
   "name": "python",
   "nbconvert_exporter": "python",
   "pygments_lexer": "ipython3",
   "version": "3.7.13"
  },
  "orig_nbformat": 4
 },
 "nbformat": 4,
 "nbformat_minor": 2
}
